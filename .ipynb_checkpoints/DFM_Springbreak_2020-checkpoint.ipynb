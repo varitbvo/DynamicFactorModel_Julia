{
 "cells": [
  {
   "cell_type": "code",
   "execution_count": 7,
   "metadata": {
    "collapsed": true
   },
   "outputs": [],
   "source": [
    "### Load packages\n",
    "using LinearAlgebra, Statistics, Compat, HypothesisTests # Statistical analysis\n",
    "using RDatasets, MultivariateStats # Principal Component Analysis\n",
    "using Distributions, GLM # OLS\n",
    "using DataFrames, CSV # Data analysis\n",
    "using Dates, Plots #printf # Misc..."
   ]
  },
  {
   "cell_type": "code",
   "execution_count": 8,
   "metadata": {},
   "outputs": [
    {
     "data": {
      "text/plain": [
       "3×5 Array{Int64,2}:\n",
       " 1  0  0  1  0\n",
       " 1  0  1  0  0\n",
       " 1  1  1  1  1"
      ]
     },
     "execution_count": 8,
     "metadata": {},
     "output_type": "execute_result"
    }
   ],
   "source": [
    "### Supportive function -- part I\n",
    "function blkdig(vararg)\n",
    "    stop_row = 0\n",
    "    stop_col = 0\n",
    "    column = 0\n",
    "    row = 0\n",
    "    for i in 1:length(vararg)\n",
    "        column = column + size(vararg[i],2)\n",
    "        row = row + size(vararg[i],1)\n",
    "    end\n",
    "    \n",
    "    blk = zeros(row, column)\n",
    "    \n",
    "    for i in 1:length(vararg)\n",
    "        mat_comp = vararg[i]\n",
    "        for j in 1:size(mat_comp, 2)\n",
    "            for k in 1:size(mat_comp, 1)\n",
    "                blk[stop_row + k, stop_col + j] = mat_comp[k,j]\n",
    "            end\n",
    "        end\n",
    "        stop_row = stop_row + size(mat_comp,1)\n",
    "        stop_col = stop_col + size(mat_comp,2)\n",
    "    end\n",
    "    \n",
    "    return blk\n",
    "end\n",
    "\n",
    "### Supportive function -- part II\n",
    "blocks = [1 0 0 1 0\n",
    "            1 0 1 0 0\n",
    "            1 0 0 1 0\n",
    "            1 1 1 1 1]\n",
    "function sort_vec(blocks)\n",
    "    uniq = blocks[1,:]'\n",
    "    \n",
    "    for i in 2:size(blocks,1)\n",
    "        sum = 0\n",
    "        for j in 1:size(uniq,1)\n",
    "            sum = sum + (blocks[i,:]' == uniq[j,:]')\n",
    "        end\n",
    "        if sum == 0\n",
    "            uniq = vcat(uniq, blocks[i,:]')\n",
    "        end\n",
    "    end\n",
    "    return uniq\n",
    "end\n",
    "\n",
    "function ismember(blocks, str)\n",
    "    idx = []\n",
    "    for i in 1:size(blocks,1)\n",
    "        if blocks[i,:] == str\n",
    "            push!(idx, i)\n",
    "        end\n",
    "    end\n",
    "    return idx\n",
    "end\n",
    "\n",
    "sort_vec(blocks)"
   ]
  },
  {
   "cell_type": "code",
   "execution_count": 9,
   "metadata": {
    "collapsed": true
   },
   "outputs": [],
   "source": [
    "struct Spec\n",
    "    r::Int\n",
    "    p::Int\n",
    "    nQ::Int\n",
    "    blocks::AbstractMatrix{Float64}\n",
    "end\n",
    "\n",
    "struct inits\n",
    "    A::AbstractMatrix{Float64}\n",
    "    G::AbstractMatrix{Float64}\n",
    "    Q::AbstractMatrix{Float64}\n",
    "    R::AbstractMatrix{Float64}\n",
    "    Z::AbstractMatrix{Float64}\n",
    "    V::AbstractMatrix{Float64}\n",
    "end\n",
    "\n",
    "mutable struct Sm\n",
    "    Zm::AbstractMatrix{Float64}\n",
    "    ZmU::AbstractMatrix{Float64}\n",
    "    Vm::AbstractArray{Float64,3}\n",
    "    VmU::AbstractArray{Float64,3}\n",
    "    loglik::Float64\n",
    "    k_t::AbstractMatrix{Float64}\n",
    "end\n",
    "\n",
    "mutable struct Sm1\n",
    "    ZmT::AbstractMatrix{Float64}\n",
    "    VmT::AbstractArray{Float64,3}\n",
    "    VmT_1::AbstractArray{Float64,3}\n",
    "end"
   ]
  },
  {
   "cell_type": "code",
   "execution_count": 117,
   "metadata": {},
   "outputs": [
    {
     "data": {
      "text/plain": [
       "dfm (generic function with 2 methods)"
      ]
     },
     "execution_count": 117,
     "metadata": {},
     "output_type": "execute_result"
    }
   ],
   "source": [
    "##### Creating Dynamic Factor Model (DFM) to forecast GDP: \n",
    "# y_t - μ = G_θ * x_t\n",
    "# x_{t+1} = A_θ * x_t + η_t\n",
    "function dfm(X, Spec, inits, threshold = 1e-5)\n",
    "    ### Set up\n",
    "    #printf(\"Estimating the dynamic factor model (DFM) ... \\n\\n\")\n",
    "    \n",
    "    (T, N) = size(X)\n",
    "    # Identify spec \n",
    "    r = Spec.r\n",
    "    p = Spec.p\n",
    "    nQ = Spec.nQ\n",
    "    blocks = Spec.blocks\n",
    "    \n",
    "    i_idio = Bool.([ones(N-nQ,1); zeros(nQ,1)])\n",
    "    \n",
    "    # We should not have constraint\n",
    "    R_mat = [2 -1 0 0 0\n",
    "             3 0 -1 0 0\n",
    "             2 0 0 -1 0\n",
    "             1 0 0 0 -1]\n",
    "    q = zeros(4,1)\n",
    "    \n",
    "    #max_iter = 5000\n",
    "    max_iter = 5\n",
    "    \n",
    "    ### Prepare data\n",
    "    #Mx = mean(X, \"omitnan\")\n",
    "    #Wx = std(X, \"omitnan\")\n",
    "    #xMissing = (X - repmat(Mx, T, 1))./repmat(Wx, T,1) #? Standardize series???\n",
    "    \n",
    "    ### Initial Condition\n",
    "    A = inits.A\n",
    "    G = inits.G\n",
    "    Q = inits.Q\n",
    "    R = inits.R\n",
    "    Z_0 = inits.Z\n",
    "    V_0 = inits.V\n",
    "    \n",
    "    previous_loglik = -Inf\n",
    "    num_iter = 0\n",
    "    LL = -Inf\n",
    "    converged = false\n",
    "    \n",
    "    # ? y for the estimation is WITH missing data\n",
    "    \n",
    "    ### EM loop\n",
    "    #? remove the leading and ending nans\n",
    "    # y_est\n",
    "    println(\"run EM loop\")\n",
    "    while (num_iter < max_iter) & !converged\n",
    "        println(num_iter+1)\n",
    "        (G_new, R_new, A_new, Q_new, Z_0, V_0, loglik ) = EMstep(X, A, G, Q, R, Z_0, V_0, r, p, R_mat, q, nQ, i_idio, blocks)\n",
    "        G = G_new\n",
    "        R = R_new\n",
    "        A = A_new\n",
    "        Q = Q_new\n",
    "        \n",
    "        if num_iter > 2 \n",
    "            # change from decrease(num_iter+1)\n",
    "            converged = em_converged(loglik, previous_loglik, 1e-4, false)[1] #####?????\n",
    "        end\n",
    "        \n",
    "        if (mod(num_iter,10) == 0) && (num_iter > 0)\n",
    "            ##### Display something\n",
    "        end\n",
    "        \n",
    "        LL = [LL loglik]\n",
    "        previous_loglik = loglik\n",
    "        num_iter = num_iter + 1\n",
    "        #println(LL)\n",
    "        #println(converged)\n",
    "    end\n",
    "    println(\"finish EM loop\")\n",
    "    \n",
    "    ##### Display something\n",
    "    \n",
    "    ### Final run of KF\n",
    "    Zsmooth = runKF(X, A, G, Q, R, Z_0, V_0)[1] # use X with missing data\n",
    "    x_sm = G*Zsmooth[:,2:end] # originally Zsm*G'\n",
    "    \n",
    "    ##### Display something\n",
    "    \n",
    "    return x_sm\n",
    "\n",
    "end"
   ]
  },
  {
   "cell_type": "code",
   "execution_count": 118,
   "metadata": {},
   "outputs": [
    {
     "data": {
      "text/plain": [
       "EMstep (generic function with 1 method)"
      ]
     },
     "execution_count": 118,
     "metadata": {},
     "output_type": "execute_result"
    }
   ],
   "source": [
    "### Y_t = G_t X_t + e_t for e_t ~ N(0, R)\n",
    "### X_t = A X_{t-1} + mu_t for mu_t ~ N(0,Q)\n",
    "function EMstep(y,A,G,Q,R,x_0, σ_0, r, p, R_mat,q, nQ, i_idio, blocks)\n",
    "    \n",
    "    (n,T) = size(y)\n",
    "    nM = n - nQ\n",
    "    pC = size(R_mat,2)\n",
    "    ppC = max(p, pC)\n",
    "    num_blocks = size(blocks, 2) # how many columns are there?\n",
    "    r = convert(Array{Int64}, ones(1,num_blocks))\n",
    "    \n",
    "    \n",
    "    (x_sm, σ_sm, vv_sm, loglik) = runKF(y, A, G, Q, R, x_0, σ_0)\n",
    "    A_new = A\n",
    "    Q_new = Q\n",
    "    σ_0_new = σ_0\n",
    "\n",
    "    \n",
    "    ##### Transition equation\n",
    "    ### Update factor parameters individually\n",
    "    b_subset = 1:ppC\n",
    "    A_denom = zeros(ppC, ppC)\n",
    "    A_nom = zeros(ppC, ppC)\n",
    "    Q_update = zeros(ppC, ppC)\n",
    "    \n",
    "    for t in 1:T-1\n",
    "        A_denom = A_denom + x_sm[b_subset, t+1]*x_sm[b_subset, t]' + vv_sm[b_subset, b_subset, t+1]\n",
    "        A_nom = A_nom + x_sm[b_subset, t]*x_sm[b_subset, t]' + σ_sm[b_subset, b_subset, t]\n",
    "    end\n",
    "    \n",
    "    A_i = Diagonal(A_denom*inv(A_nom))\n",
    "    A_new[b_subset, b_subset] = A_i\n",
    "    \n",
    "    for t in 1:T-1\n",
    "        Q_update = Q_update + x_sm[b_subset, t+1]*x_sm[b_subset, t+1]' + σ_sm[b_subset, b_subset, t+1]\n",
    "        Q_update = Q_update - A_i*(x_sm[b_subset, t]*x_sm[b_subset, t+1]'+ vv_sm[b_subset, b_subset, t+1])\n",
    "    end\n",
    "    Q_i = Q_update / (T-1)\n",
    "    Q_new[b_subset, b_subset] = Diagonal(Q_i)\n",
    "    σ_0_new[b_subset, b_subset] = Diagonal(σ_sm[b_subset, b_subset, 1])\n",
    "    \n",
    "    #for i in 1:num_blocks\n",
    "    #    r_i = r[i]\n",
    "    #    rp = r_i*p\n",
    "    #    if i == 1\n",
    "    #        rp1 = 0\n",
    "    #    elseif i == 2\n",
    "    #        rp1 = r[1]*ppC\n",
    "    #   else\n",
    "    #        rp1 = sum(r[1:i-1]*ppC)\n",
    "    #    end\n",
    "        \n",
    "    #    b_subset = rp1+1:rp1+rp # Subset blocks: Helps for subsetting x_sm, σ_sm\n",
    "    #    t_start = rp1+1\n",
    "    #    t_end = rp1+r_i*ppC\n",
    "\n",
    "    #    EZZ = x_sm[b_subset, 2:end]*(x_sm[b_subset, 2:end])' + sum(σ_sm[b_subset, b_subset, 2:end], dims = 3)\n",
    "    #    EZZ_BB = x_sm[b_subset, 1:end-1]*(x_sm[b_subset, 1:end-1])' + sum(σ_sm[b_subset, b_subset, 1:end-1], dims = 3)\n",
    "    #    EZZ_FB = x_sm[b_subset, 2:end]*(x_sm[b_subset, 1:end-1])' + sum(vv_sm[b_subset, b_subset, :], dims = 3)\n",
    "\n",
    "    #    A_i = A[t_start:t_end, t_start:t_end]\n",
    "    #    Q_i = Q[t_start:t_end, t_start:t_end]\n",
    "    #    A_i[1:r_i,1:rp] = EZZ_FB[1:r_i,1:rp]*inv(EZZ_BB[1:r_i,1:rp])\n",
    "    #    Q_i[1:r_i,1:r_i] = (EZZ[1:r_i,1:r_i] - A_i[1:r_i,1:rp]*EZZ_FB[1:r_i,1:rp]') / T\n",
    "\n",
    "    #    A_new[t_start:t_end, t_start:t_end] = A_i\n",
    "    #    Q_new[t_start:t_end, t_start:t_end] = Q_i\n",
    "    #    σ_0_new[t_start:t_end, t_start:t_end] = σ_sm[t_start:t_end, t_start:t_end, 1]\n",
    "    #end\n",
    "    \n",
    "    ### Update parameters for idiosyncratic component\n",
    "    rp1 = sum(r)*ppC #25\n",
    "    niM = sum(i_idio[1:nM]) #118\n",
    "    t_start = rp1+1\n",
    "    i_subset = t_start:rp1+niM\n",
    "    \n",
    "    EZZ = Diagonal(Diagonal(x_sm[t_start:end,2:end]*(x_sm[t_start:end, 2:end])'))+Diagonal(Diagonal(sum(σ_sm[t_start:end, t_start:end, 2:end], dims = 3)[:,:,1]))\n",
    "    EZZ_BB = Diagonal(Diagonal(x_sm[t_start:end,1:end-1]*(x_sm[t_start:end, 1:end-1])'))+Diagonal(Diagonal(sum(σ_sm[t_start:end, t_start:end, 1:end-1], dims = 3)[:,:,1]))\n",
    "    EZZ_FB = Diagonal(Diagonal(x_sm[t_start:end,2:end]*(x_sm[t_start:end, 1:end-1])'))+Diagonal(Diagonal(sum(vv_sm[t_start:end, t_start:end, :], dims = 3)[:,:,1]))\n",
    "    \n",
    "    A_i = EZZ_FB*Diagonal(inv(Diagonal((EZZ_BB))))\n",
    "    Q_i = (EZZ - A_i*EZZ_FB') / T\n",
    "    \n",
    "    A_new[i_subset, i_subset] = A_i[1:niM,1:niM]\n",
    "    Q_new[i_subset, i_subset] = Q_i[1:niM,1:niM]\n",
    "    σ_0_new[i_subset, i_subset] = Diagonal(Diagonal(σ_sm[i_subset,i_subset,1]))\n",
    "    #println(\"Transition Equation DONE\")\n",
    "    \n",
    "    ##### Observation equation\n",
    "    ### Maximization step\n",
    "    x_0 = x_sm[:,1]\n",
    "    \n",
    "    nanY = ismissing.(y)\n",
    "    y[nanY] .= 0\n",
    "    \n",
    "    G_new = G\n",
    "    \n",
    "    bl = sort_vec(blocks) # list of unique blocks\n",
    "    n_bl = size(bl,1) # number of unique blocks\n",
    "    \n",
    "    #bl_idxM = []\n",
    "    #bl_idxQ = []\n",
    "    #R_con = []\n",
    "    #q_con = []\n",
    "    \n",
    "    #for i in 1:num_blocks\n",
    "        #bl_idxQ = [bl_idxQ repeat(bl[:,i],1,r[i]*ppC)]\n",
    "        #bl_idxM = [bl_idxM repeat(bl[:,i],1,r[i]) zeros(n_bl, r[i]*(ppC-1))]\n",
    "        #R_con = blkdig([R_con kron(R_mat, Matrix{Float64}(I,r[i],r[i]))])\n",
    "        #q_con = [q_con zeros(r[i]*size(R_mat,1),1)]\n",
    "    #end\n",
    "    \n",
    "    # Indicator for m/q blocks in observation matrix\n",
    "    bl_idxM = convert.(Bool, bl)\n",
    "    bl_idxQ = convert.(Bool, repeat(bl, 1, ppC))\n",
    "    R_con = kron(R_mat, Matrix{Float64}(I, ppC,ppC))\n",
    "    q_con = repeat(q, ppC)\n",
    "    \n",
    "    i_idio_M = i_idio[1:nM]\n",
    "    n_idio_M = length(findall(i_idio_M))\n",
    "    #c_i_idio = cumsum(i_idio, [1])\n",
    "    \n",
    "    for i in 1:n_bl # loop through unique loading\n",
    "        #println(i)\n",
    "        bl_i = bl[i,:]\n",
    "        rs = sum(convert.(Bool, bl_i)) # total num of blocks loaded (e.g [1 0 0 1] = 2)\n",
    "        idx_i = ismember(blocks, bl_i) # indices for [1 0 0 1]\n",
    "        idx_iM = idx_i[idx_i .< nM+1] # consider only monthly variables\n",
    "        n_i = length(idx_iM)\n",
    "\n",
    "        denom = zeros(n_i*rs, n_i*rs)\n",
    "        nom = zeros(n_i, rs)\n",
    "        \n",
    "        ### for input robustness\n",
    "        i_idio_ii = i_idio_M[idx_iM]\n",
    "        #i_idio_ii = c_i_idio(idx_iM)\n",
    "        #i_idio_ii = i_idio_ii(i_idio_i)\n",
    "        global bl_idxM_i = findall(bl_idxM[i,:])\n",
    "        \n",
    "        #println(\"before update monthly variable\")\n",
    "        ## update monthly variables\n",
    "        for t in 1:T\n",
    "            Wt = Diagonal(.!(nanY[idx_iM,t]))\n",
    "            denom = denom + kron(x_sm[bl_idxM_i, t+1]*x_sm[bl_idxM_i, t+1]' \n",
    "                + σ_sm[bl_idxM_i, bl_idxM_i, t+1], Wt)\n",
    "            \n",
    "            nom = nom + Wt*y[idx_iM,t]*x_sm[bl_idxM_i,t+1]' + Wt*(x_sm[i_idio_ii.+rp1, t+1]*x_sm[bl_idxM_i,t+1]'\n",
    "                + σ_sm[i_idio_ii.+rp1, bl_idxM_i, t+1])\n",
    "        end\n",
    "        vec_G = inv(denom)*nom[:] #Eq13 in BGR 2010\n",
    "        println(size(reshape(vec_G, n_i, rs)))\n",
    "        G_new[idx_iM, bl_idxM_i] = reshape(vec_G, n_i, rs)\n",
    "        #println(\"successfully update monthly variable\")\n",
    "        ## update quarterly variables\n",
    "        \n",
    "        #println(\"before update quarterly variable\")\n",
    "        idx_iQ = idx_i[idx_i .> nM] # consider only quarterly variables\n",
    "        global bl_idxQ_i = findall(bl_idxQ[i,:])\n",
    "        global bl_idxQ_ii = findall(bl_idxQ[i, 1:end-ppC])\n",
    "        rps = rs*ppC\n",
    "        R_con_i = R_con[bl_idxQ_ii, bl_idxQ_i]\n",
    "        q_con_i = q_con[bl_idxQ_ii]\n",
    "        #no_c = .!(any(R_con_i,2))\n",
    "        #R_con_i[no_c, :] = []\n",
    "        #q_con_i[no_c, :] = []\n",
    "        \n",
    "        for j in idx_iQ\n",
    "            denom = zeros(rps,rps)\n",
    "            nom = zeros(1, rps)\n",
    "            \n",
    "            idx_jQ = j - nM\n",
    "            global i_idio_jQ = (rp1+n_idio_M+5*(idx_jQ-1)+1:rp1+n_idio_M + 5*idx_jQ)\n",
    "\n",
    "            \n",
    "            σ_0_new[i_idio_jQ, i_idio_jQ] = Diagonal(σ_sm[i_idio_jQ, i_idio_jQ, 1])\n",
    "            A_new[i_idio_jQ[1], i_idio_jQ[1]] = A_i[i_idio_jQ[1]-rp1, i_idio_jQ[1]-rp1]\n",
    "            Q_new[i_idio_jQ[1], i_idio_jQ[1]] = Q_i[i_idio_jQ[1]-rp1, i_idio_jQ[1]-rp1]\n",
    "            \n",
    "            for t in 1:T\n",
    "                Wt = Diagonal([.!(nanY[j,t])])\n",
    "                denom = denom+kron(x_sm[bl_idxQ_i, t+1]*x_sm[bl_idxQ_i, t+1]' + σ_sm[bl_idxQ_i, bl_idxQ_i, t+1], Wt)\n",
    "                nom = nom +Wt*y[j,t]*x_sm[bl_idxQ_i, t+1]'\n",
    "                #nom = nom - Wt*([1 2 3 2 1]*x_sm[i_idio_jQ,t+1]*x_sm[bl_idxQ_i,t+1]'+[1 2 3 2 1]*σ_sm[i_idio_jQ, bl_idxQ_i,t+1])\n",
    "            end\n",
    "            \n",
    "            G_i = inv(denom)*nom'\n",
    "            #BGR eq13\n",
    "            G_i_constr = G_i - inv(denom)*R_con_i'*inv(R_con_i*denom*R_con_i')*(R_con_i*G_i -q_con_i)\n",
    "            #println(size(G_i_constr))\n",
    "            G_new[j,bl_idxQ_i] = G_i_constr\n",
    "        end\n",
    "        #println(\"after update quarterly variable\")\n",
    "    end\n",
    "    #println(\"Observation Equation DONE\")\n",
    "    \n",
    "    ### Update covariance of residuals for observation equation\n",
    "    #R_new = zeros(n,n)\n",
    "    #for t in 1:T\n",
    "    #    Wt = Diagonal(.!(nanY[:,t]))\n",
    "    #    R_new = R_new + (y[:,t] - Wt*G_new*x_sm[:,t+1])*(y[:,t]-Wt*G_new*x_sm[:,t+1])'+Wt*G_new*σ_sm[:,:,t+1]*G_new'*Wt + (Matrix{Float64}(I,n,n)-Wt)*R*(Matrix{Float64}(I,n,n)-Wt)\n",
    "    #end\n",
    "    \n",
    "    #R_new = R_new / T\n",
    "    #RR = Diagonal(R_new)\n",
    "    #RR[i_idio+_M] = 1e-04\n",
    "    #RR[nM+1:end] = 1e-04\n",
    "    #R_new = Diagonal(RR)\n",
    "    R_new = R #### There is no need to update R according to the way they set up state-space representation\n",
    "    \n",
    "    return G_new, R_new, A_new, Q_new, x_0, σ_0_new, loglik\n",
    "end"
   ]
  },
  {
   "cell_type": "code",
   "execution_count": 126,
   "metadata": {},
   "outputs": [
    {
     "data": {
      "text/plain": [
       "em_converged (generic function with 3 methods)"
      ]
     },
     "execution_count": 126,
     "metadata": {},
     "output_type": "execute_result"
    }
   ],
   "source": [
    "### Y_t = C_t Z_t + e_t for e_t ~ N(0, R)\n",
    "### Z_t = A Z_{t-1} + mu_t for mu_t ~ N(0,Q)\n",
    "function runKF(Y, A, C, Q, R, Z_0, V_0)\n",
    "    S = SKF(Y,A,C,Q,R,Z_0,V_0)\n",
    "    S, S1 = FIS(A,S)\n",
    "    \n",
    "    zsmooth = S1.ZmT\n",
    "    Vsmooth = S1.VmT\n",
    "    VVsmooth = S1.VmT_1\n",
    "    loglik = S.loglik\n",
    "    \n",
    "    println(\"Successfully run Kalman Filter Algorithm\")\n",
    "    println(S.loglik)\n",
    "    return zsmooth, Vsmooth, VVsmooth, loglik\n",
    "end\n",
    "\n",
    "function SKF(Y, A, C, Q, R, Z_0, V_0)\n",
    "    # Initialize output values\n",
    "    m = size(C,2)\n",
    "    nobs = size(Y,2) # number of observations\n",
    "    S = Sm(zeros(m, nobs), zeros(m, nobs+1), zeros(m,m, nobs), zeros(m,m, nobs+1), 0, zeros(m,m))\n",
    "    \n",
    "    Zu = Z_0\n",
    "    Vu = V_0\n",
    "    \n",
    "    print(Z_0)\n",
    "    \n",
    "    S.ZmU[:,1] = Zu\n",
    "    S.VmU[:,:,1] = Vu\n",
    "    \n",
    "    print(\"enter filtering procedure\")\n",
    "    # Kalman filter procedure\n",
    "    for t in 1:nobs\n",
    "        Z = A*Zu\n",
    "        V = A*Vu*A' +Q\n",
    "        #V = 0.5*(V+V')\n",
    "        \n",
    "        ### allow us to access C_t, VCF outside loop\n",
    "        global C_t, VCF\n",
    "        \n",
    "        (Y_t, C_t, R_t) = MissData(Y[:,t], C, R)\n",
    "        \n",
    "        if isempty(Y_t)\n",
    "            Zu = Z\n",
    "            Vu = V\n",
    "        else\n",
    "            VC = V*C_t'\n",
    "            temp = C_t*VC +R_t\n",
    "            iF = inv(temp)\n",
    "            \n",
    "            VCF = VC*iF\n",
    "            innov = Y_t - C_t*Z\n",
    "            Zu = Z + VCF*innov\n",
    "            \n",
    "            Vu = V - VCF*C_t*V\n",
    "            #Vu = 0.5*(Vu+Vu')\n",
    "            \n",
    "            S.loglik = S.loglik - 0.5*(logdet(temp) + (innov'*iF*innov)[1])\n",
    "        end\n",
    "        \n",
    "        ### Store output\n",
    "        S.Zm[:,t] = Z\n",
    "        S.Vm[:,:,t] = V\n",
    "        S.ZmU[:,t+1] = Zu\n",
    "        S.VmU[:,:,t+1] = Vu\n",
    "    end\n",
    "    \n",
    "    #if isempty(Y_t)\n",
    "    #    S.k_t = zeros(m,m)\n",
    "    #else\n",
    "    #    S.k_t = VCF*C_t\n",
    "    #end\n",
    "    \n",
    "    ### Store Kalman gain\n",
    "    S.k_t = VCF*C_t\n",
    "    return S\n",
    "end\n",
    "\n",
    "### Fixed Interval Smoothing\n",
    "function FIS(A,S)\n",
    "    (m, nobs) = size(S.Zm)\n",
    "    S1 = Sm1(zeros(m, nobs+1), zeros(m,m,nobs+1), zeros(m,m,nobs))\n",
    "    \n",
    "    S1.ZmT[:, nobs+1] = S.ZmU[:,nobs+1]\n",
    "    S1.VmT[:,:,nobs+1] = S.VmU[:,:,nobs+1]\n",
    "    S1.VmT_1[:,:,nobs] = (Matrix{Float64}(I, m, m)-S.k_t)*A*(S.VmU[:,:,nobs])\n",
    "    \n",
    "    J_2 = S.VmU[:,:,nobs]*A'*pinv(S.Vm[:,:,nobs])\n",
    "    \n",
    "    # Run smoothing algorithm\n",
    "    for t in nobs:-1:1\n",
    "        VmU = S.VmU[:,:,t]\n",
    "        Vm1 = S.Vm[:,:,t]\n",
    "        V_T = S1.VmT[:,:,t+1]\n",
    "        V_T1 = S1.VmT_1[:,:,t]\n",
    "        J_1 = J_2\n",
    "        \n",
    "        # update smoothed factor estimate / covariance matrix\n",
    "        S1.ZmT[:,t] = S.ZmU[:,t]+J_1*(S1.ZmT[:,t+1] - A*S.ZmU[:,t])\n",
    "        S1.VmT[:,:,t] = VmU + J_1*(V_T - Vm1)*J_1'\n",
    "        \n",
    "        if t > 1\n",
    "            J_2 = S.VmU[:,:,t-1]*A'*pinv(S.Vm[:,:,t-1])\n",
    "            S1.VmT_1[:,:,t-1] = VmU*J_2' + J_1*(V_T1 - A*VmU)*J_2'\n",
    "        end\n",
    "    end\n",
    "    \n",
    "    return S, S1\n",
    "end\n",
    "\n",
    "function MissData(y,C,R)\n",
    "    ix = .!ismissing.(y)\n",
    "    e = Matrix{Float64}(I,size(y,1),size(y,1))\n",
    "    L = e[:,ix]\n",
    "    y = y[ix]\n",
    "    C = C[ix,:]\n",
    "    R = R[ix,ix]\n",
    "    \n",
    "    return y, C, R\n",
    "end\n",
    "\n",
    "#function InitialCond -- PCA for prior information\n",
    "\n",
    "function em_converged(loglik, previous_loglik, threshold, check_decreased)\n",
    "    converged = false\n",
    "    decrease = false\n",
    "    \n",
    "    if check_decreased\n",
    "        if loglik - previous_loglik < -1e-3\n",
    "            printf(1, \"******likelihood decreased from %6.4f to %6.4f!\\n\", previous_loglik, loglik)\n",
    "            decrease = true\n",
    "        end\n",
    "    end\n",
    "    \n",
    "    delta_loglik = abs(loglik - previous_loglik)\n",
    "    avg_loglik = (abs(loglik) + abs(previous_loglik) + eps())/2\n",
    "    \n",
    "    if (delta_loglik / avg_loglik) < threshold\n",
    "        converged = true\n",
    "    end\n",
    "    \n",
    "    print(converged)\n",
    "    \n",
    "    return converged, decrease \n",
    "end"
   ]
  },
  {
   "cell_type": "code",
   "execution_count": 127,
   "metadata": {},
   "outputs": [
    {
     "name": "stdout",
     "output_type": "stream",
     "text": [
      "Success"
     ]
    }
   ],
   "source": [
    "A_θ = convert(Matrix{Float64}, CSV.read(\"A_theta.csv\", header = false))\n",
    "G_θ = convert(Matrix{Float64}, CSV.read(\"G_theta.csv\", header = false))\n",
    "Q_θ = convert(Matrix{Float64}, CSV.read(\"Q_theta.csv\", header = false))\n",
    "R_θ = convert(Matrix{Float64}, CSV.read(\"R_theta.csv\", header = false))\n",
    "Z_θ = convert(Matrix{Float64}, CSV.read(\"Z_theta.csv\", header = false))\n",
    "V_θ = convert(Matrix{Float64}, CSV.read(\"V_theta.csv\", header = false))\n",
    "block = convert(Matrix{Float64}, CSV.read(\"block.csv\", header = false))\n",
    "X = CSV.read(\"X.csv\", header = true)\n",
    "X = convert(Matrix{Union{Missing,Float64}},X[2:end,])\n",
    "print(\"Success\")"
   ]
  },
  {
   "cell_type": "code",
   "execution_count": 128,
   "metadata": {},
   "outputs": [
    {
     "name": "stdout",
     "output_type": "stream",
     "text": [
      "run EM loop\n",
      "1\n",
      "[0.0; 0.0; 0.0; 0.0; 0.0; 0.0; 0.0; 0.0; 0.0; 0.0; 0.0; 0.0; 0.0; 0.0; 0.0; 0.0; 0.0; 0.0; 0.0; 0.0; 0.0; 0.0; 0.0; 0.0; 0.0; 0.0; 0.0; 0.0; 0.0; 0.0; 0.0; 0.0; 0.0; 0.0; 0.0; 0.0; 0.0; 0.0; 0.0; 0.0; 0.0; 0.0; 0.0; 0.0; 0.0; 0.0; 0.0; 0.0; 0.0; 0.0; 0.0; 0.0; 0.0; 0.0; 0.0; 0.0; 0.0; 0.0; 0.0; 0.0; 0.0; 0.0; 0.0; 0.0; 0.0; 0.0; 0.0; 0.0; 0.0; 0.0; 0.0; 0.0; 0.0; 0.0; 0.0; 0.0; 0.0; 0.0; 0.0; 0.0; 0.0; 0.0; 0.0; 0.0; 0.0; 0.0; 0.0; 0.0; 0.0; 0.0; 0.0; 0.0; 0.0; 0.0; 0.0; 0.0; 0.0; 0.0; 0.0; 0.0; 0.0; 0.0; 0.0; 0.0; 0.0; 0.0; 0.0; 0.0; 0.0; 0.0; 0.0; 0.0; 0.0; 0.0; 0.0; 0.0; 0.0; 0.0; 0.0; 0.0; 0.0; 0.0; 0.0; 0.0; 0.0; 0.0; 0.0; 0.0; 0.0; 0.0; 0.0; 0.0; 0.0; 0.0; 0.0; 0.0; 0.0; 0.0; 0.0; 0.0; 0.0; 0.0; 0.0; 0.0; 0.0; 0.0; 0.0; 0.0; 0.0; 0.0; 0.0; 0.0; 0.0]enter filtering procedureSuccessfully run Kalman Filter Algorithm\n",
      "-4.9125422374900235e6\n",
      "(47, 2)\n",
      "(40, 2)\n",
      "(28, 2)\n",
      "(3, 2)\n",
      "2\n",
      "[0.0249923, -2.3395e-7, 0.000113481, 3.97244e-6, -0.0764708, -1.16817e-5, 9.16626e-13, 1.79917e-12, -1.71548e-11, 3.59466e-5, -7.7878e-6, -3.82154e-11, 3.58713e-12, 2.74882e-11, 2.39644e-5, -3.89389e-6, 0.0, 0.0, 0.0, 1.19822e-5, 0.0, 0.0, 0.0, 0.0, 0.0, -0.00608042, -0.00836159, -0.0307186, 1.86095e-10, -3.12431e-11, 0.0810545, 0.143728, -0.0939888, -0.0244047, -0.030357, -0.0290799, 0.0512079, 0.175569, 0.0847848, -0.256861, 0.0606148, 0.0322675, 0.0537691, 0.817508, 0.0377211, -0.073392, -0.0818257, 0.0966388, 0.0217525, 0.016382, -0.923049, 0.385299, 0.732523, 0.00330228, 0.0054071, -0.0217967, -0.0138814, 0.0102514, 0.0153196, 0.00690352, 0.00252294, 0.00457918, 0.00227123, 0.0103539, -0.00233874, 0.00386645, -0.00145062, -0.079952, 0.000441383, 0.000272891, -0.0022503, 0.00809543, -0.0498647, -0.000887317, -1.23241e-17, -2.01007e-14, -1.10704e-16, -4.7556e-17, 1.41937e-15, -1.03264e-11, -2.16755e-11, 1.13204e-11, 8.98486e-11, -5.64133e-13, 9.01463e-14, 0.00224067, -0.00332226, 0.00518324, 0.0461778, -0.0469868, 7.293e-7, 0.00765314, 0.0125722, 0.00236735, 5.81836e-6, -0.0743643, -0.231596, 0.101863, 0.345065, -0.0553642, -0.0801886, 0.0836834, 0.0775387, 0.096227, 0.27706, 0.679767, -0.269822, 0.072669, -0.281197, -0.0881355, 1.53822e-11, -1.32508e-14, -1.18984e-14, -3.08902e-14, 9.58207e-15, 0.00747994, 0.0076637, 0.0124916, -0.0235726, 0.026003, -0.0405789, 0.00499844, -0.00579708, -0.0208943, -0.000444406, 0.0185536, -0.0215599, 0.00914254, 0.000482867, 0.000666428, 0.000653019, 0.00116587, -0.00162059, 0.0065357, -0.000416927, -4.11746e-5, 0.0124427, -0.00837391, 4.61255e-14, -0.00429449, -0.00949986, -0.00916013, 0.0403362, 0.0134455, -0.00382046, -0.00254697, -0.00127349, 0.0, 2.13554e-5, 0.000311669, 0.00020778, 0.00010389, 0.0]enter filtering procedureSuccessfully run Kalman Filter Algorithm\n",
      "-2.5930633002986412e10\n",
      "(47, 2)\n",
      "(40, 2)\n",
      "(28, 2)\n",
      "(3, 2)\n",
      "3\n",
      "[-0.0158556, 0.00296496, -0.0835473, -0.0904756, -0.608447, -0.00179848, 3.69011e-10, 7.15434e-12, 1.28801e-11, 6.83082e-5, 0.000116913, -8.79465e-11, 1.21734e-12, 2.38453e-11, 1.30152e-5, -0.000437168, 0.0, 0.0, 0.0, 1.65662e-5, 0.0, 0.0, 0.0, 0.0, 0.0, 8.74347e-5, 0.00118408, -0.0210275, -0.000359483, -0.00199171, 0.0511587, 0.0326668, 0.00688556, -0.0108197, -0.00190503, -0.0113293, 0.0238267, 0.0867204, 0.0826096, 0.0112061, 0.0473959, 0.00406015, 0.0625769, 0.960715, 0.0338621, -0.0711776, -0.0349133, -0.0583193, 0.0271516, 0.018624, -0.867001, 0.453836, 0.768441, 0.003283, 0.00594876, -0.022381, -0.0144747, 0.0108707, 0.0166192, 0.00584185, 0.00237913, 0.00457159, 0.00189218, 0.0110723, -0.0032247, -0.0051207, -0.0024139, 0.203509, 0.00166649, 0.000937063, -0.00224541, 0.00765663, -0.0511834, -0.00111993, -5.17429e-5, -1.42385e-6, 4.36988e-6, -0.000431835, 7.92754e-6, -0.000828921, -1.06739e-5, 0.000165898, -0.000270991, -1.67335e-5, 0.0105823, 0.00302276, -0.00326947, 0.00482974, 0.0598529, -0.0886283, -5.09486e-6, 0.00885809, 0.0133972, 0.00256688, 5.81836e-6, -0.0728822, -0.235622, 0.112203, 0.37033, -0.054007, -0.0880881, 0.0879621, 0.0671458, 0.240148, 0.581861, 0.769878, -0.567325, 0.165436, -0.630444, -0.220734, 0.00172181, 0.00395964, 0.00408771, -0.000826145, 0.00063609, 0.00389985, 0.00422566, 0.00381979, -0.0140728, 0.0290234, -0.00912635, 0.000249374, -0.0034244, 0.000808976, -0.000403941, -0.000638663, -0.010291, 0.00920085, 0.000157099, 0.000194591, 0.000165259, 0.0012458, -0.00141199, 0.00623882, -0.00034865, 0.000386017, 0.0129081, -0.00814641, -0.000575563, -0.00455912, -0.0105034, -0.00924382, 0.042484, -0.00386147, 0.011913, -0.00500251, 0.0063687, 0.0, -0.000310152, 0.000747798, -0.000199739, 0.000522108, 0.0]enter filtering procedureSuccessfully run Kalman Filter Algorithm\n",
      "-122543.24419605629\n",
      "(47, 2)\n",
      "(40, 2)\n",
      "(28, 2)\n",
      "(3, 2)\n",
      "4\n",
      "[-0.0215053, 0.00648428, -0.0608256, -0.0667017, -0.492623, -1.55305, 3.69097e-10, 6.51504e-12, 1.39128e-11, -4.42738, -0.314837, -8.6748e-11, 1.08315e-13, 2.45129e-11, -1.07368, 0.173054, 0.0, 0.0, 0.0, 0.372585, 0.0, 0.0, 0.0, 0.0, 0.0, -0.00491101, -0.00385574, -0.0229774, -0.0109303, -0.00113714, 0.0412225, 0.0103655, -0.00500688, -0.0178894, -0.00591085, -0.0181717, 0.0205748, 0.0872911, 0.0896414, -0.0153302, 0.041532, 0.00236827, 0.0563393, 1.46225, 0.0327377, -0.0715567, -0.0349448, 0.0707326, 0.0284687, 0.0188878, -0.823361, 0.484339, 0.888733, 0.00342607, 0.00642225, -0.0228275, -0.0148482, 0.011367, 0.0176515, 0.00576482, 0.00246922, 0.00478057, 0.00192251, 0.0118621, -0.00306254, -0.0036785, -0.00314954, 0.264537, 0.00275731, 0.0050306, 0.000902936, -0.0802408, -0.159653, -0.0322072, -0.000439583, -0.00232424, 0.00168236, -0.00387167, 0.00259999, 0.000404015, 0.000269813, 0.000381558, -0.000539333, 1.26454e-5, 0.0153815, 0.00302658, -0.0032569, 0.00318546, 0.0162672, -0.0847536, -5.18296e-6, 0.00851537, 0.012497, 0.00263467, 5.8183e-6, -0.0728151, -0.235061, 0.111948, 0.369218, -0.0530217, -0.0847286, 0.0824501, 0.0595131, 0.238676, 0.57711, 0.777277, -0.75766, 0.161353, -0.613122, -0.226939, 0.00123862, 0.00255162, 0.00347571, -0.000659763, 0.000423293, 0.00153581, 0.00097911, 0.000840373, -0.0257847, 0.0217009, -0.0285141, -0.00155707, -0.00643266, -0.0129192, -0.00100031, -0.00170365, -0.0115624, 0.00898951, -0.00343909, -0.00284759, -0.0020847, 0.00128485, -0.00137948, 0.0048175, -0.000330889, 0.000325902, 0.0129186, -0.00836947, -0.00117034, -0.00450141, -0.0108826, -0.00933692, 0.0420906, -0.00563419, -0.00153083, 0.00429534, 4.86539e-5, 0.0, -0.00031005, 0.000784253, -0.000196847, 0.000517213, 0.0]enter filtering procedureSuccessfully run Kalman Filter Algorithm\n",
      "168612.41428661544\n",
      "(47, 2)\n",
      "(40, 2)\n",
      "(28, 2)\n",
      "(3, 2)\n",
      "false5\n"
     ]
    },
    {
     "name": "stdout",
     "output_type": "stream",
     "text": [
      "[-0.0212698, 0.00865533, -0.0581998, -0.0665296, -0.428467, -1.90293, 3.69689e-10, 4.85057e-12, 1.6688e-11, -2.94709, -1.32333, -8.66001e-11, 3.6753e-13, 2.46053e-11, 0.103927, -0.259131, 0.0, 0.0, 0.0, 0.940409, 0.0, 0.0, 0.0, 0.0, 0.0, -0.00398905, -0.00291974, -0.0224279, -0.00607279, -0.0002828, 0.0396327, 0.0103049, -0.00374677, -0.016042, 0.00119822, -0.01726, 0.0199974, 0.0806226, 0.0859365, -0.0134614, 0.0398453, 0.015052, 0.058451, 1.76227, 0.0312943, -0.0606889, -0.0361887, 0.193593, 0.029408, 0.0197016, -0.795084, 0.504867, 1.00156, 0.0033846, 0.00658741, -0.0232807, -0.0152531, 0.0115588, 0.0183052, 0.00552278, 0.00238046, 0.0047414, 0.00176822, 0.0123343, -0.00334248, -0.00473699, -0.00380314, 0.309534, 0.00376871, 0.00924345, 0.00464143, -0.162981, -0.270064, -0.0618117, -0.00238806, -0.00374615, 0.00217829, -0.00844065, 0.00379457, 0.000656279, 0.000109972, 0.000384738, -0.000491315, 1.02923e-5, 0.0160764, 0.00304252, -0.00325083, 0.00340824, 0.0153443, -0.0883381, -1.45056e-5, 0.00835697, 0.0123888, 0.0026434, 5.81831e-6, -0.0738548, -0.244321, 0.116053, 0.385236, -0.060571, -0.0959213, 0.0814488, 0.0579857, 0.371359, 0.783657, 0.808889, -0.9196, 0.229344, -0.919636, -0.327626, 0.000907638, 0.00282796, 0.00358461, -0.000667148, 0.000108167, 0.0021459, 0.00195367, 0.00189382, -0.0173335, 0.0349233, -0.0210579, -0.00124812, -0.00600342, -0.00892895, -0.000922316, -0.00072121, -0.0114093, 0.0090162, -0.00289914, -0.00236056, -0.00175789, 0.00127746, -0.00138008, 0.00448524, -0.000331344, 0.000499373, 0.0130764, -0.0082095, -0.0017012, -0.00431939, -0.0110117, -0.00932391, 0.0412356, -0.0051901, -0.00113999, 0.00732976, -0.000208788, 0.0, -0.00031005, 0.000759202, -0.000245433, 0.000518408, 0.0]enter filtering procedureSuccessfully run Kalman Filter Algorithm\n",
      "164043.73909426873\n",
      "(47, 2)\n",
      "(40, 2)\n",
      "(28, 2)\n",
      "(3, 2)\n",
      "falsefinish EM loop\n",
      "[-0.0202708, 0.00986875, -0.0547854, -0.0659357, -0.358607, -1.58944, 3.80088e-10, -2.32952e-11, 7.97604e-13, -2.82289, -1.09635, -7.15543e-11, -4.73284e-11, 9.61273e-12, 0.400394, -0.349315, 0.0, 0.0, 0.0, 0.925067, 0.0, 0.0, 0.0, 0.0, 0.0, -0.00484061, -0.00384775, -0.0228575, -0.00916601, 0.000593807, 0.0355231, 0.00645303, -0.00623874, -0.0177982, -0.00771824, -0.0183452, 0.0140412, 0.0707499, 0.0810081, -0.021006, 0.0353801, 0.00526546, 0.050995, 2.03473, 0.0328725, -0.0630467, -0.0289002, 0.321752, 0.0304438, 0.0208102, -0.780619, 0.519275, 1.12453, 0.00301175, 0.00637408, -0.0237807, -0.0157525, 0.0113744, 0.0185127, 0.00493499, 0.00187486, 0.00422852, 0.00130166, 0.0121313, -0.00406584, -0.00722079, -0.00456741, 0.348255, 0.00439602, 0.0133296, 0.00830114, -0.251136, -0.381838, -0.0922657, -0.00541789, -0.00564272, 0.00191254, -0.0141198, 0.00502883, 0.00156337, 0.000428442, 0.000862291, -0.000316469, 4.88271e-5, 0.0153306, 0.00318244, -0.00319753, 0.0030537, 0.0159143, -0.0880056, -2.12035e-5, 0.00826816, 0.0122903, 0.00272606, 5.8183e-6, -0.0756516, -0.252254, 0.119222, 0.397801, -0.0655375, -0.102846, 0.0806684, 0.0566239, 0.494771, 0.931115, 0.823671, -1.05239, 0.292933, -1.20288, -0.448444, 0.000914675, 0.00254829, 0.00344232, -0.000990333, 0.000178305, 0.0016159, 0.00113666, 0.00106188, -0.024734, 0.0247974, -0.0291722, -0.00151044, -0.00644583, -0.0121306, -0.00100322, -0.00132462, -0.0115767, 0.00899015, -0.00336038, -0.00277168, -0.00204839, 0.00128647, -0.00135675, 0.00441601, -0.00032704, 0.000925113, 0.0135132, -0.00783905, -0.00156208, -0.00389728, -0.0107718, -0.00899683, 0.0407275, -0.00356804, -0.00176624, 0.00653259, -0.00327484, 0.0, -0.00031005, 0.000649927, -0.000354343, -6.7103e-5, 0.0]enter filtering procedure"
     ]
    },
    {
     "ename": "DomainError",
     "evalue": "DomainError with -1.0:\nlog will only return a complex result if called with a complex argument. Try log(Complex(x)).",
     "output_type": "error",
     "traceback": [
      "DomainError with -1.0:\nlog will only return a complex result if called with a complex argument. Try log(Complex(x)).",
      "",
      "Stacktrace:",
      " [1] throw_complex_domainerror(::Symbol, ::Float64) at ./math.jl:31",
      " [2] log(::Float64) at ./special/log.jl:285",
      " [3] logdet(::Array{Float64,2}) at /Users/osx/buildbot/slave/package_osx64/build/usr/share/julia/stdlib/v1.1/LinearAlgebra/src/generic.jl:1336",
      " [4] SKF(::Adjoint{Union{Missing, Float64},Array{Union{Missing, Float64},2}}, ::Array{Float64,2}, ::Array{Float64,2}, ::Array{Float64,2}, ::Array{Float64,2}, ::Array{Float64,1}, ::Array{Float64,2}) at ./In[126]:58",
      " [5] runKF(::Adjoint{Union{Missing, Float64},Array{Union{Missing, Float64},2}}, ::Array{Float64,2}, ::Array{Float64,2}, ::Array{Float64,2}, ::Array{Float64,2}, ::Array{Float64,1}, ::Array{Float64,2}) at ./In[126]:4",
      " [6] dfm(::Adjoint{Union{Missing, Float64},Array{Union{Missing, Float64},2}}, ::Spec, ::inits, ::Float64) at ./In[117]:79",
      " [7] dfm(::Adjoint{Union{Missing, Float64},Array{Union{Missing, Float64},2}}, ::Spec, ::inits) at ./In[117]:8",
      " [8] top-level scope at In[128]:4"
     ]
    }
   ],
   "source": [
    "### Trial\n",
    "Sp = Spec(1,1,2,block)\n",
    "Inits = inits(A_θ, G_θ, Q_θ, R_θ, Z_θ, V_θ)\n",
    "\n",
    "x_sm = dfm(X', Sp, Inits)\n"
   ]
  },
  {
   "cell_type": "code",
   "execution_count": 80,
   "metadata": {},
   "outputs": [
    {
     "data": {
      "text/plain": [
       "153×153 Array{Float64,2}:\n",
       " 0.996564   0.0        0.0         …  0.0   0.0       0.0  0.0  0.0  0.0\n",
       " 0.0       -0.0792658  0.0            0.0   0.0       0.0  0.0  0.0  0.0\n",
       " 0.0        0.0        0.00164138     0.0   0.0       0.0  0.0  0.0  0.0\n",
       " 0.0        0.0        0.0            0.0   0.0       0.0  0.0  0.0  0.0\n",
       " 0.0        0.0        0.0            0.0   0.0       0.0  0.0  0.0  0.0\n",
       " 1.0        0.0        0.0         …  0.0   0.0       0.0  0.0  0.0  0.0\n",
       " 0.0        1.0        0.0            0.0   0.0       0.0  0.0  0.0  0.0\n",
       " 0.0        0.0        1.0            0.0   0.0       0.0  0.0  0.0  0.0\n",
       " 0.0        0.0        0.0            0.0   0.0       0.0  0.0  0.0  0.0\n",
       " 0.0        0.0        0.0            0.0   0.0       0.0  0.0  0.0  0.0\n",
       " 0.0        0.0        0.0         …  0.0   0.0       0.0  0.0  0.0  0.0\n",
       " 0.0        0.0        0.0            0.0   0.0       0.0  0.0  0.0  0.0\n",
       " 0.0        0.0        0.0            0.0   0.0       0.0  0.0  0.0  0.0\n",
       " ⋮                                 ⋱                       ⋮            \n",
       " 0.0        0.0        0.0            0.0   0.0       0.0  0.0  0.0  0.0\n",
       " 0.0        0.0        0.0            0.0   0.0       0.0  0.0  0.0  0.0\n",
       " 0.0        0.0        0.0            0.0   0.0       0.0  0.0  0.0  0.0\n",
       " 0.0        0.0        0.0            0.0   0.0       0.0  0.0  0.0  0.0\n",
       " 0.0        0.0        0.0         …  0.0   0.0       0.0  0.0  0.0  0.0\n",
       " 0.0        0.0        0.0            0.0   0.0       0.0  0.0  0.0  0.0\n",
       " 0.0        0.0        0.0            0.0   0.0       0.0  0.0  0.0  0.0\n",
       " 0.0        0.0        0.0            0.0  -0.553462  0.0  0.0  0.0  0.0\n",
       " 0.0        0.0        0.0            0.0   1.0       0.0  0.0  0.0  0.0\n",
       " 0.0        0.0        0.0         …  0.0   0.0       1.0  0.0  0.0  0.0\n",
       " 0.0        0.0        0.0            0.0   0.0       0.0  1.0  0.0  0.0\n",
       " 0.0        0.0        0.0            0.0   0.0       0.0  0.0  1.0  0.0"
      ]
     },
     "execution_count": 80,
     "metadata": {},
     "output_type": "execute_result"
    }
   ],
   "source": [
    "A_θ"
   ]
  },
  {
   "cell_type": "code",
   "execution_count": 81,
   "metadata": {},
   "outputs": [
    {
     "data": {
      "text/plain": [
       "120×153 Array{Float64,2}:\n",
       "     0.00861347     0.0         0.0  …  0.0  0.0  0.0  0.0  0.0  0.0  0.0\n",
       "     0.0113917      0.0         0.0     0.0  0.0  0.0  0.0  0.0  0.0  0.0\n",
       "     0.00549878     0.0         0.0     0.0  0.0  0.0  0.0  0.0  0.0  0.0\n",
       "     0.012622       0.0         0.0     0.0  0.0  0.0  0.0  0.0  0.0  0.0\n",
       "   460.984          0.0         0.0     0.0  0.0  0.0  0.0  0.0  0.0  0.0\n",
       "     0.00414605     0.0         0.0  …  0.0  0.0  0.0  0.0  0.0  0.0  0.0\n",
       "     0.000841572    0.0         0.0     0.0  0.0  0.0  0.0  0.0  0.0  0.0\n",
       "    -0.0027584      0.0         0.0     0.0  0.0  0.0  0.0  0.0  0.0  0.0\n",
       "     0.000777891    0.0         0.0     0.0  0.0  0.0  0.0  0.0  0.0  0.0\n",
       "     0.0149897      0.0         0.0     0.0  0.0  0.0  0.0  0.0  0.0  0.0\n",
       "    -0.00246184     0.0         0.0  …  0.0  0.0  0.0  0.0  0.0  0.0  0.0\n",
       "    -0.0102211      0.0         0.0     0.0  0.0  0.0  0.0  0.0  0.0  0.0\n",
       "     0.00988565     0.0         0.0     0.0  0.0  0.0  0.0  0.0  0.0  0.0\n",
       "     ⋮                               ⋱                      ⋮            \n",
       "   461.077          0.0         0.0     0.0  0.0  0.0  0.0  0.0  0.0  0.0\n",
       "   459.634          0.0         0.0     0.0  0.0  0.0  0.0  0.0  0.0  0.0\n",
       " -1534.45           0.0     21268.4  …  0.0  0.0  0.0  0.0  0.0  0.0  0.0\n",
       " -1523.65           0.0     21119.0     0.0  0.0  0.0  0.0  0.0  0.0  0.0\n",
       " -1536.32           0.0     21294.4     0.0  0.0  0.0  0.0  0.0  0.0  0.0\n",
       "     8.29674      -21.2013      0.0     0.0  0.0  0.0  0.0  0.0  0.0  0.0\n",
       "   462.367          0.0         0.0     0.0  0.0  0.0  0.0  0.0  0.0  0.0\n",
       "    -9.71391       66.4197      0.0  …  0.0  0.0  0.0  0.0  0.0  0.0  0.0\n",
       "    -9.63013       65.9536      0.0     0.0  0.0  0.0  0.0  0.0  0.0  0.0\n",
       "   462.522          0.0         0.0     0.0  0.0  0.0  0.0  0.0  0.0  0.0\n",
       "     2.85565e15     0.0         0.0     2.0  1.0  0.0  0.0  0.0  0.0  0.0\n",
       "    -8.41988e13     0.0         0.0     0.0  0.0  1.0  2.0  3.0  2.0  1.0"
      ]
     },
     "execution_count": 81,
     "metadata": {},
     "output_type": "execute_result"
    }
   ],
   "source": [
    "G_θ"
   ]
  },
  {
   "cell_type": "code",
   "execution_count": 82,
   "metadata": {},
   "outputs": [
    {
     "data": {
      "text/plain": [
       "153×1 Array{Float64,2}:\n",
       " 0.0\n",
       " 0.0\n",
       " 0.0\n",
       " 0.0\n",
       " 0.0\n",
       " 0.0\n",
       " 0.0\n",
       " 0.0\n",
       " 0.0\n",
       " 0.0\n",
       " 0.0\n",
       " 0.0\n",
       " 0.0\n",
       " ⋮  \n",
       " 0.0\n",
       " 0.0\n",
       " 0.0\n",
       " 0.0\n",
       " 0.0\n",
       " 0.0\n",
       " 0.0\n",
       " 0.0\n",
       " 0.0\n",
       " 0.0\n",
       " 0.0\n",
       " 0.0"
      ]
     },
     "execution_count": 82,
     "metadata": {},
     "output_type": "execute_result"
    }
   ],
   "source": [
    "Z_θ"
   ]
  },
  {
   "cell_type": "code",
   "execution_count": 94,
   "metadata": {},
   "outputs": [
    {
     "data": {
      "text/plain": [
       "724×120 Adjoint{Float64,Array{Float64,2}}:\n",
       " -8.67503e34  -8.69458e34  -8.65387e34  …   1.71697e51  -5.06247e49\n",
       " -5.6705e34   -5.69755e34  -5.63122e34     -8.05676e50   2.37553e49\n",
       " -1.31281e36  -1.30913e36  -1.30651e36      9.03395e50  -2.66366e49\n",
       "  1.35611e37   1.35286e37   1.34821e37     -1.10098e51   3.24623e49\n",
       " -3.59079e35  -3.57877e35  -3.5721e35       5.55624e48  -1.63825e47\n",
       " -2.60635e37  -2.59967e37  -2.59672e37  …   1.05065e50  -3.09783e48\n",
       " -1.73453e37  -1.73418e37  -1.73562e37      7.39246e49  -2.17966e48\n",
       " -1.92705e38  -1.92719e38  -1.92848e38      8.58402e50  -2.53099e49\n",
       "  1.39828e38   1.40534e38   1.40884e38     -4.01118e50   1.18269e49\n",
       " -4.3931e38   -4.39879e38  -4.4018e38       1.58208e51  -4.66476e49\n",
       " -3.1919e37   -3.19337e37  -3.15679e37  …   5.75892e50  -1.69801e49\n",
       "  2.77906e37   2.77949e37   2.77687e37     -1.55201e49   4.57609e47\n",
       " -8.58227e38  -8.59507e38  -8.58737e38      3.75642e51  -1.10758e50\n",
       "  ⋮                                     ⋱                          \n",
       "  1.87875e14   1.8772e14    1.87331e14     -6.92124e26   2.04072e25\n",
       "  1.04475e13   9.94459e12   9.91399e12     -1.3729e26    4.04799e24\n",
       "  1.41141e14   1.4114e14    1.40886e14     -5.96426e26   1.75856e25\n",
       " -4.151e13    -4.15294e13  -4.15203e13  …  -3.81988e25   1.12629e24\n",
       "  9.31951e13   9.32166e13   9.31587e13     -5.06051e26   1.49209e25\n",
       " -8.47708e13  -8.47645e13  -8.47532e13      2.77306e26  -8.17634e24\n",
       " -1.79642e13  -1.79388e13  -1.79748e13      1.94261e26  -5.72778e24\n",
       " -5.13564e13  -5.15793e13  -5.15817e13      4.90418e25  -1.44599e24\n",
       " -4.21306e13  -4.21234e13  -4.21385e13  …   1.77557e26  -5.23526e24\n",
       " -5.60379e13  -5.60137e13  -5.6004e13       3.08e26     -9.08136e24\n",
       " -1.06352e14  -1.06358e14  -1.06364e14      4.18054e26  -1.23263e25\n",
       "  2.40393e13   2.40401e13   2.40407e13     -9.92062e24   2.92509e23"
      ]
     },
     "execution_count": 94,
     "metadata": {},
     "output_type": "execute_result"
    }
   ],
   "source": [
    "x_sm'"
   ]
  },
  {
   "cell_type": "code",
   "execution_count": 92,
   "metadata": {},
   "outputs": [
    {
     "data": {
      "text/plain": [
       "724×120 Array{Union{Missing, Float64},2}:\n",
       "  0.0012526     0.0010653     0.00767048   …   0.0148145     0.00144012 \n",
       "  0.0037502     0.00486275    0.00671482       0.0           0.0        \n",
       "  0.00381723    0.00450843   -0.0062556        0.0           0.0        \n",
       "  0.00314537    0.00411852    0.00930512      -0.00678716   -0.000394184\n",
       "  0.000427094   0.000511156   0.000966653      0.0           0.0        \n",
       " -0.00326644   -0.0033188    -0.00604413   …   0.0           0.0        \n",
       " -0.00837617   -0.00822697    0.00331371      -0.00465258   -0.00202109 \n",
       " -0.00189259   -0.00255374    0.007322         0.0           0.0        \n",
       " -0.00145783   -0.00131382   -0.00950251       0.0           0.0        \n",
       "  0.00491526    0.00417518   -0.00312461       0.0147253     0.00167232 \n",
       "  0.00751591    0.00884201   -0.00379359   …   0.0           0.0        \n",
       "  0.00051197    0.00213642    0.000104457      0.0           0.0        \n",
       " -0.00153613   -0.00159242    0.00164789      -0.0129074     0.000754914\n",
       "  ⋮                                        ⋱                            \n",
       "  3.23e-5       0.000477946  -0.000517367      0.0           0.0        \n",
       "  0.000381042   0.00101453    0.000893734      0.0           0.0        \n",
       "  0.00100932    0.00148749    0.000602404     -0.00478926   -0.00141792 \n",
       " -0.00349345   -0.00337316   -0.00296633   …   0.0           0.0        \n",
       " -0.00173324   -0.0018733     0.00119857       0.0           0.0        \n",
       " -0.00168106   -0.00110664   -0.000124726      0.000124025   0.00321331 \n",
       "  0.00617598    0.00738623   -0.0114453        0.0           0.0        \n",
       "  0.000902918  -0.00409511    0.00373438       0.0           0.0        \n",
       "  0.00216633    0.00248386   -0.00434615   …  -0.00241136    0.0        \n",
       " -0.000355807  -0.000136804   0.00488391       0.0           0.0        \n",
       " -0.00112315   -0.00107352    0.000518506      0.0           0.0        \n",
       " -0.000237273  -8.91e-5       0.000682792      0.0           0.0        "
      ]
     },
     "execution_count": 92,
     "metadata": {},
     "output_type": "execute_result"
    }
   ],
   "source": [
    "X"
   ]
  },
  {
   "cell_type": "code",
   "execution_count": null,
   "metadata": {
    "collapsed": true
   },
   "outputs": [],
   "source": []
  },
  {
   "cell_type": "code",
   "execution_count": 125,
   "metadata": {},
   "outputs": [
    {
     "data": {
      "text/plain": [
       "eps (generic function with 12 methods)"
      ]
     },
     "execution_count": 125,
     "metadata": {},
     "output_type": "execute_result"
    }
   ],
   "source": [
    "eps"
   ]
  },
  {
   "cell_type": "code",
   "execution_count": null,
   "metadata": {
    "collapsed": true
   },
   "outputs": [],
   "source": []
  },
  {
   "cell_type": "code",
   "execution_count": null,
   "metadata": {
    "collapsed": true
   },
   "outputs": [],
   "source": []
  },
  {
   "cell_type": "code",
   "execution_count": null,
   "metadata": {
    "collapsed": true
   },
   "outputs": [],
   "source": []
  },
  {
   "cell_type": "code",
   "execution_count": 155,
   "metadata": {},
   "outputs": [
    {
     "data": {
      "text/plain": [
       "1"
      ]
     },
     "execution_count": 155,
     "metadata": {},
     "output_type": "execute_result"
    }
   ],
   "source": [
    "abs(-1)"
   ]
  },
  {
   "cell_type": "code",
   "execution_count": null,
   "metadata": {
    "collapsed": true
   },
   "outputs": [],
   "source": []
  },
  {
   "cell_type": "code",
   "execution_count": null,
   "metadata": {
    "collapsed": true
   },
   "outputs": [],
   "source": []
  },
  {
   "cell_type": "code",
   "execution_count": null,
   "metadata": {
    "collapsed": true
   },
   "outputs": [],
   "source": []
  },
  {
   "cell_type": "code",
   "execution_count": null,
   "metadata": {
    "collapsed": true
   },
   "outputs": [],
   "source": []
  },
  {
   "cell_type": "code",
   "execution_count": null,
   "metadata": {
    "collapsed": true
   },
   "outputs": [],
   "source": []
  },
  {
   "cell_type": "code",
   "execution_count": null,
   "metadata": {
    "collapsed": true
   },
   "outputs": [],
   "source": []
  },
  {
   "cell_type": "code",
   "execution_count": null,
   "metadata": {
    "collapsed": true
   },
   "outputs": [],
   "source": []
  },
  {
   "cell_type": "code",
   "execution_count": null,
   "metadata": {
    "collapsed": true
   },
   "outputs": [],
   "source": []
  },
  {
   "cell_type": "code",
   "execution_count": null,
   "metadata": {
    "collapsed": true
   },
   "outputs": [],
   "source": []
  },
  {
   "cell_type": "code",
   "execution_count": null,
   "metadata": {
    "collapsed": true
   },
   "outputs": [],
   "source": []
  },
  {
   "cell_type": "code",
   "execution_count": null,
   "metadata": {
    "collapsed": true
   },
   "outputs": [],
   "source": []
  },
  {
   "cell_type": "code",
   "execution_count": null,
   "metadata": {
    "collapsed": true
   },
   "outputs": [],
   "source": []
  },
  {
   "cell_type": "code",
   "execution_count": null,
   "metadata": {
    "collapsed": true
   },
   "outputs": [],
   "source": []
  },
  {
   "cell_type": "code",
   "execution_count": null,
   "metadata": {
    "collapsed": true
   },
   "outputs": [],
   "source": []
  },
  {
   "cell_type": "code",
   "execution_count": null,
   "metadata": {
    "collapsed": true
   },
   "outputs": [],
   "source": []
  },
  {
   "cell_type": "code",
   "execution_count": null,
   "metadata": {
    "collapsed": true
   },
   "outputs": [],
   "source": []
  },
  {
   "cell_type": "code",
   "execution_count": null,
   "metadata": {
    "collapsed": true
   },
   "outputs": [],
   "source": []
  },
  {
   "cell_type": "code",
   "execution_count": null,
   "metadata": {
    "collapsed": true
   },
   "outputs": [],
   "source": []
  },
  {
   "cell_type": "code",
   "execution_count": null,
   "metadata": {
    "collapsed": true
   },
   "outputs": [],
   "source": []
  },
  {
   "cell_type": "code",
   "execution_count": null,
   "metadata": {
    "collapsed": true
   },
   "outputs": [],
   "source": []
  },
  {
   "cell_type": "code",
   "execution_count": null,
   "metadata": {
    "collapsed": true
   },
   "outputs": [],
   "source": []
  },
  {
   "cell_type": "code",
   "execution_count": null,
   "metadata": {
    "collapsed": true
   },
   "outputs": [],
   "source": []
  },
  {
   "cell_type": "code",
   "execution_count": null,
   "metadata": {
    "collapsed": true
   },
   "outputs": [],
   "source": []
  },
  {
   "cell_type": "code",
   "execution_count": null,
   "metadata": {
    "collapsed": true
   },
   "outputs": [],
   "source": []
  },
  {
   "cell_type": "code",
   "execution_count": null,
   "metadata": {
    "collapsed": true
   },
   "outputs": [],
   "source": []
  },
  {
   "cell_type": "code",
   "execution_count": 192,
   "metadata": {},
   "outputs": [
    {
     "data": {
      "text/plain": [
       "2×2 Diagonal{Int64,Array{Int64,1}}:\n",
       " 1  ⋅\n",
       " ⋅  4"
      ]
     },
     "execution_count": 192,
     "metadata": {},
     "output_type": "execute_result"
    }
   ],
   "source": [
    "Diagonal(Diagonal([1 2; 3 4]))"
   ]
  },
  {
   "cell_type": "code",
   "execution_count": null,
   "metadata": {
    "collapsed": true
   },
   "outputs": [],
   "source": []
  },
  {
   "cell_type": "code",
   "execution_count": null,
   "metadata": {
    "collapsed": true
   },
   "outputs": [],
   "source": []
  },
  {
   "cell_type": "code",
   "execution_count": null,
   "metadata": {
    "collapsed": true
   },
   "outputs": [],
   "source": []
  }
 ],
 "metadata": {
  "kernelspec": {
   "display_name": "Julia 1.1.0",
   "language": "julia",
   "name": "julia-1.1"
  },
  "language_info": {
   "file_extension": ".jl",
   "mimetype": "application/julia",
   "name": "julia",
   "version": "1.1.0"
  }
 },
 "nbformat": 4,
 "nbformat_minor": 2
}
