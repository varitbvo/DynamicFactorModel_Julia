{
 "cells": [
  {
   "cell_type": "code",
   "execution_count": 1,
   "metadata": {
    "collapsed": true
   },
   "outputs": [],
   "source": [
    "### Load packages\n",
    "using LinearAlgebra, Statistics, Compat, HypothesisTests # Statistical analysis\n",
    "using RDatasets, MultivariateStats # Principal Component Analysis\n",
    "using Distributions, GLM # OLS\n",
    "using DataFrames, CSV # Data analysis\n",
    "using Dates, Plots #printf # Misc..."
   ]
  },
  {
   "cell_type": "code",
   "execution_count": 2,
   "metadata": {},
   "outputs": [
    {
     "data": {
      "text/plain": [
       "2-element Array{Array{Int64,1},1}:\n",
       " [1, 0, 0, 1, 0]\n",
       " [1, 0, 1, 0, 0]"
      ]
     },
     "execution_count": 2,
     "metadata": {},
     "output_type": "execute_result"
    }
   ],
   "source": [
    "### Supportive function -- part I\n",
    "function blkdig(vararg)\n",
    "    stop_row = 0\n",
    "    stop_col = 0\n",
    "    column = 0\n",
    "    row = 0\n",
    "    for i in 1:length(vararg)\n",
    "        column = column + size(vararg[i],2)\n",
    "        row = row + size(vararg[i],1)\n",
    "    end\n",
    "    \n",
    "    blk = zeros(row, column)\n",
    "    \n",
    "    for i in 1:length(vararg)\n",
    "        mat_comp = vararg[i]\n",
    "        for j in 1:size(mat_comp, 2)\n",
    "            for k in 1:size(mat_comp, 1)\n",
    "                blk[stop_row + k, stop_col + j] = mat_comp[k,j]\n",
    "            end\n",
    "        end\n",
    "        stop_row = stop_row + size(mat_comp,1)\n",
    "        stop_col = stop_col + size(mat_comp,2)\n",
    "    end\n",
    "    \n",
    "    return blk\n",
    "end\n",
    "\n",
    "### Supportive function -- part II\n",
    "blocks = [1 0 0 1 0\n",
    "            1 0 1 0 0\n",
    "            1 0 0 1 0]\n",
    "function sort_vec(blocks)\n",
    "    uniq = [ blocks[1,:]]\n",
    "    \n",
    "    for i in 2:size(blocks,1)\n",
    "        sum = 0\n",
    "        for j in 1:size(uniq,1)\n",
    "            sum = sum + (blocks[i,:] == uniq[j])\n",
    "        end\n",
    "        if sum == 0\n",
    "            push!(uniq, blocks[i,:])\n",
    "        end\n",
    "    end\n",
    "    return uniq\n",
    "end\n",
    "\n",
    "function ismember(blocks, str)\n",
    "    idx = []\n",
    "    for i in 1:size(blocks,1)\n",
    "        if blocks[i,:] == str\n",
    "            push!(idx, i)\n",
    "        end\n",
    "    end\n",
    "    return idx\n",
    "end\n",
    "\n",
    "sort_vec(blocks)"
   ]
  },
  {
   "cell_type": "code",
   "execution_count": 3,
   "metadata": {
    "collapsed": true
   },
   "outputs": [],
   "source": [
    "struct Spec\n",
    "    r::Int\n",
    "    p::Int\n",
    "    nQ::Int\n",
    "    blocks::AbstractMatrix{Float64}\n",
    "end\n",
    "\n",
    "struct inits\n",
    "    A::AbstractMatrix{Float64}\n",
    "    G::AbstractMatrix{Float64}\n",
    "    Q::AbstractMatrix{Float64}\n",
    "    R::AbstractMatrix{Float64}\n",
    "    Z::AbstractMatrix{Float64}\n",
    "    V::AbstractMatrix{Float64}\n",
    "end\n",
    "\n",
    "struct Sm\n",
    "    Zm::AbstractMatrix{Float64}\n",
    "    ZmU::AbstractMatrix{Float64}\n",
    "    Vm::AbstractArray{Float64,3}\n",
    "    VmU::AbstractArray{Float64,3}\n",
    "    loglik::Float64\n",
    "    k_t::AbstractMatrix{Float64}\n",
    "end\n",
    "\n",
    "struct Sm1\n",
    "    ZmT::AbstractMatrix{Float64}\n",
    "    VmT::AbstractArray{Float64,3}\n",
    "    VmT_1::AbstractArray{Float64,3}\n",
    "end"
   ]
  },
  {
   "cell_type": "code",
   "execution_count": 4,
   "metadata": {},
   "outputs": [
    {
     "data": {
      "text/plain": [
       "dfm (generic function with 2 methods)"
      ]
     },
     "execution_count": 4,
     "metadata": {},
     "output_type": "execute_result"
    }
   ],
   "source": [
    "##### Creating Dynamic Factor Model (DFM) to forecast GDP: \n",
    "# y_t - μ = G_θ * x_t\n",
    "# x_{t+1} = A_θ * x_t + η_t\n",
    "function dfm(X, Spec, inits, threshold = 1e-5)\n",
    "    ### Set up\n",
    "    #printf(\"Estimating the dynamic factor model (DFM) ... \\n\\n\")\n",
    "    \n",
    "    (T, N) = size(X)\n",
    "    # Identify spec \n",
    "    r = Spec.r\n",
    "    p = Spec.p\n",
    "    nQ = Spec.nQ\n",
    "    blocks = Spec.blocks\n",
    "    \n",
    "    i_idio = Bool.([ones(N-nQ,1); zeros(nQ,1)])\n",
    "    \n",
    "    # We should not have constraint\n",
    "    R_mat = [2 -1 0 0 0\n",
    "             3 0 -1 0 0\n",
    "             2 0 0 -1 0\n",
    "             1 0 0 0 -1]\n",
    "    q = zeros(4,1)\n",
    "    \n",
    "    max_iter = 5000\n",
    "    \n",
    "    ### Prepare data\n",
    "    #Mx = mean(X, \"omitnan\")\n",
    "    #Wx = std(X, \"omitnan\")\n",
    "    #xMissing = (X - repmat(Mx, T, 1))./repmat(Wx, T,1) #? Standardize series???\n",
    "    \n",
    "    ### Initial Condition\n",
    "    A = inits.A\n",
    "    G = inits.G\n",
    "    Q = inits.Q\n",
    "    R = inits.R\n",
    "    Z_0 = inits.Z\n",
    "    V_0 = inits.V\n",
    "    \n",
    "    previous_loglik = -Inf\n",
    "    num_iter = 0\n",
    "    LL = -Inf\n",
    "    converged = false\n",
    "    \n",
    "    # ? y for the estimation is WITH missing data\n",
    "    \n",
    "    ### EM loop\n",
    "    #? remove the leading and ending nans\n",
    "    # y_est\n",
    "    println(\"run EM loop\")\n",
    "    while (num_iter < max_iter) & !converged\n",
    "        (G_new, R_new, A_new, Q_new, Z_0, V_0, loglik ) = EMstep(X, A, G, Q, R, Z_0, V_0, r, p, R_mat, q, nQ, i_idio, blocks)\n",
    "        G = G_new\n",
    "        R = R_new\n",
    "        A = A_new\n",
    "        Q = Q_new\n",
    "        \n",
    "        if num_iter > 2 \n",
    "            # change from decrease(num_iter+1)\n",
    "            converged = em_converged(loglik, previous_loglik, threshold, check_decreased = 1)[1] #####?????\n",
    "        end\n",
    "        \n",
    "        if (mod(num_iter,10) == 0) && (num_iter > 0)\n",
    "            ##### Display something\n",
    "        end\n",
    "        \n",
    "        LL = [LL loglik]\n",
    "        previous_loglik = loglik\n",
    "        num_iter = num_iter + 1\n",
    "    end\n",
    "    \n",
    "    ##### Display something\n",
    "    \n",
    "    ### Final run of KF\n",
    "    Zsmooth = runKF(X, A, G, Q, R, Z_0, V_0)[1] # use X with missing data\n",
    "    x_sm = G*Zsmooth[2:end,:] # originally Zsm*G'\n",
    "    \n",
    "    ##### Display something\n",
    "    \n",
    "    return x_sm\n",
    "\n",
    "end"
   ]
  },
  {
   "cell_type": "code",
   "execution_count": 5,
   "metadata": {},
   "outputs": [
    {
     "data": {
      "text/plain": [
       "EMstep (generic function with 1 method)"
      ]
     },
     "execution_count": 5,
     "metadata": {},
     "output_type": "execute_result"
    }
   ],
   "source": [
    "### Y_t = G_t X_t + e_t for e_t ~ N(0, R)\n",
    "### X_t = A X_{t-1} + mu_t for mu_t ~ N(0,Q)\n",
    "function EMstep(y,A,G,Q,R,x_0, σ_0, r, p, R_mat,q, nQ, i_idio, blocks)\n",
    "    \n",
    "    (n,T) = size(y)\n",
    "    nM = n - nQ\n",
    "    pC = size(R_mat,2)\n",
    "    ppc = max(p, pC)\n",
    "    num_blocks = size(blocks, 2) # how many columns are there?\n",
    "    \n",
    "    \n",
    "    (x_sm, σ_sm, vv_sm, loglik) = runKF(y, A, G, Q, R, x_0, σ_0)\n",
    "    \n",
    "    print(\"KFrun succeed\")\n",
    "    A_new = A\n",
    "    Q_new = Q\n",
    "    σ_0_new = σ_0\n",
    "    \n",
    "    ##### Transition equation\n",
    "    ### Update factor parameters individually\n",
    "    for i = 1:num_blocks\n",
    "        r_i = r[i]\n",
    "        rp = r_i*p\n",
    "        rp1 = sum(r[1:i-1])*ppC\n",
    "        b_subset = rp1+1:rp1+rp # Subset blocks: Helps for subsetting x_sm, σ_sm\n",
    "        t_start = rp1+1\n",
    "        t_end = rp1+r_i*ppC\n",
    "        \n",
    "        EZZ = x_sm[b_subset, 2:end]*(x_sm[b_subset, 2:end])' + sum(σ_sm[b_subset, b_subset, 2:end], 3)\n",
    "        EZZ_BB = x_sm[b_subset, 1:end-1]*(x_sm[b_subset, 1:end-1])' + sum(σ_sm[b_subset, b_subset, 1:end-1], 3)\n",
    "        EZZ_FB = x_sm[b_subset, 2:end]*(x_sm[b_subset, 1:end-1])' + sum(vv_sm[b_subset, b_subset, :], 3)\n",
    "        \n",
    "        A_i = A[t_start:t_end, t_start:t_end]\n",
    "        Q_i = Q[t_start:t_end, t_start:t_end]\n",
    "        \n",
    "        A_i[1:r_i,1:rp] = EZZ_FB[1:r_i,1:rp]*inv(EZZ_BB[1:r_i,1:rp])\n",
    "        Q_i[1:r_i,1:r_i] = (EZZ[1:r_i,1:r_i] - A_i[1:r_i,1:rp]*EZZ_FB[1:r_i,1:rp]') / T\n",
    "        \n",
    "        A_new[t_start:t_end, t_start:t_end] = A_i\n",
    "        Q_new[t_start:t_end, t_start:t_end] = Q_i\n",
    "        σ_0_new[t_start:t_end, t_start:t_end] = σ_sm[t_start:t_end, t_start:t_end, 1]\n",
    "    end\n",
    "    \n",
    "    ### Update parameters for idiosyncratic component\n",
    "    rp1 = sum(r)*ppC\n",
    "    niM = sum(i_idio[1:nM])\n",
    "    t_start = rp1+1\n",
    "    i_subset = t_start:rp1+niM\n",
    "    \n",
    "    EZZ = Diagonal(Diagonal(x_sm[t_start:end,2:end]*(x_sm[t_start:end, 2:end])'))+Diagonal(Diagonal(sum(σ_sm[t_start:end, t_start:end, 2:end], 3)))\n",
    "    EZZ_BB = Diagonal(Diagonal(x_sm[t_start:end,1:end-1]*(x_sm[t_start:end, 1:end-1])'))+Diagonal(Diagonal(sum(σ_sm[t_start:end, t_start:end, 1:end-1], 3)))\n",
    "    EZZ_FB = Diagonal(Diagonal(x_sm[t_start:end,2:end]*(x_sm[t_start:end, 1:end-1])'))+Diagonal(Diagonal(sum(vv_sm[t_start:end, t_start:end, :], 3)))\n",
    "    \n",
    "    A_i = EZZ_FB*Diagonal(inv(Diagonal((EZZ_BB))))\n",
    "    Q_i = (EZZ - A_i*EZZ_FB') / T\n",
    "    \n",
    "    A_new[i_subset, i_subset] = A_i[1:niM,1:niM]\n",
    "    Q_new[i_subset, i_subset] = Q_i[1:niM,1:niM]\n",
    "    σ_0_new[i_subset, i_subset] = Diagonal(Diagonal(σ_sm[i_subset,i_subset,1]))\n",
    "    \n",
    "    ##### Observation equation\n",
    "    ### Maximization step\n",
    "    x_0 = x_sm[:,1]\n",
    "    \n",
    "    nanY = ismissing.(y)\n",
    "    y[nanY] .= 0\n",
    "    \n",
    "    G_new = G\n",
    "    \n",
    "    bl = sort_vec(blocks) # list of unique blocks\n",
    "    n_bl = size(bl,1) # number of unique blocks\n",
    "    \n",
    "    bl_idxM = []\n",
    "    bl_idxQ = []\n",
    "    R_con = []\n",
    "    q_con = []\n",
    "    \n",
    "    for i in 1:num_blocks\n",
    "        bl_idxQ = [bl_idxQ repeat(bl[:,i],1,r[i]*ppC)]\n",
    "        bl_idxM = [bl_idxM repeat(bl[:,i],1,r[i]) zeros(n_bl, r[i]*(ppC-1))]\n",
    "        R_con = blkdig(R_con, kron(R_mat, Matrix{Float64}(I,r[i],r[i])))\n",
    "        q_con = [q_con zeros(r[i]*size(R_mat,1),1)]\n",
    "    end\n",
    "    \n",
    "    # Indicator for m/q blocks in observation matrix\n",
    "    bl_idxM = convert.(Bool, bl_idxM)\n",
    "    bl_idxQ = convert.(Bool, bl_idxQ)\n",
    "    \n",
    "    i_idio_M = i_idio[1:nM]\n",
    "    n_idio_M = length(find(i_idio_M))\n",
    "    c_i_idio = cumsum(i_idio)\n",
    "    \n",
    "    for i in 1:n_bl # loop through unique loading\n",
    "        bl_i = bl[i,:]\n",
    "        rs = sum(convert.(Bool, bl_i)) # total num of blocks loaded (e.g [1 0 0 1] = 2)\n",
    "        idx_i = ismember(blocks, bl_i) # indixes for [1 0 0 1]\n",
    "        idx_iM = idx_i[idx_i < nM+1] # consider only monthly variables\n",
    "        n_i = length(idx_iM)\n",
    "\n",
    "        denom = zeros(n_i*rs, n_i*rs)\n",
    "        nom = zeros(n_i, rs)\n",
    "        \n",
    "        i_idio_i = i_idio_M(idx_iM)\n",
    "        i_idio_ii = c_i_idio(idx_iM)\n",
    "        i_idio_ii = i_idio_ii(i_idio_i)\n",
    "        \n",
    "        ## update monthly variables\n",
    "        for t in 1:T\n",
    "            Wt = Diagonal(.!(nanY[idx_iM,t]))\n",
    "            denom = denom + kron(x_sm[bl_idxM[i,:], t+1]*x_sm[bl_idxM[i,:], t+1]' \n",
    "                + σ_sm[bl_idx[i,:], bl_idxM[i, :], t+1], Wt)\n",
    "            \n",
    "            nom = nom + y[idx_iM,t]*x_sm[bl_idxM[i,:],t+1]' - Wt[:, i_idio_i]*(x_sm[rp1+i_idio_ii, t+1]*x_sm[bl_idxM[i,:],t+1]'\n",
    "                + σ_sm[rp1+i_idio_ii, bl_idxM[i,:], t+1])\n",
    "        end\n",
    "        vec_G = inv(denom)*nom[:] #Eq13 in BGR 2010\n",
    "        G_new[idx_iM, bl_idxM[i,:]] = reshape(vec_G, n_i, rs)\n",
    "        \n",
    "        ## update quarterly variables\n",
    "        \n",
    "        idx_iQ = idx_i[idx_i > nM] # consider only quarterly variables\n",
    "        rps = rs*ppC\n",
    "        R_con_i = R_con[:, bl_inxQ[i,:]]\n",
    "        q_con_i = q_con\n",
    "        no_c = .!(any(R_con_i,2))\n",
    "        R_con_i[no_c, :] = []\n",
    "        q_con_i[no_c, :] = []\n",
    "        \n",
    "        for j in idx_iQ'\n",
    "            denom = zeros(rps,rps)\n",
    "            nom = zeros(1, rps)\n",
    "            \n",
    "            idx_jQ = j - nM\n",
    "            i_idio_jQ = (rp1+n_idio_M+5*(idx_jQ-1)+1:rp1+n_idio_M + 5*idx_jQ)\n",
    "            \n",
    "            V_0_new[i_idio_jQ, i_idio_jQ] = σ_sm[i_idio_jQ, i_idio_jQ, 1]\n",
    "            A_new[i_idio_jQ[1], i+_idio_jQ[1]] = A_i[i_idio_jQ[1]-rp1, i_idio_jQ[1]-rp1]\n",
    "            Q_new[i_idio_jQ[1], i_idio_jQ[1]] = Q_i[i_idio_jQ[1]-rp1, i_idio_jQ[1]-rp1]\n",
    "            \n",
    "            for t in 1:T\n",
    "                Wt = Diagonal(.!(nanY[k,t]))\n",
    "                denom = denom+kron(x_sm[bl_idxQ[i,:], t+1]*x_sm[bl_idxQ[i,:], t+1]' + σ_sm[bl_idxQ[i,:], bl_idxQ[i,:], t+1], Wt)\n",
    "                nom = nom +y(j,t)*x_sm[bl_idxQ[i,:], t+1]'\n",
    "                nom = nom - Wt*([1 2 3 2 1]*x_sm[i_idio+jQ,t+1]*x_sm[bl_idxQ[i,:],t+1]'+[1 2 3 2 1]*σ_sm[i_idio_jQ, bl_idxQ[i,:],t+1])\n",
    "            end\n",
    "            \n",
    "            G_i = inv(denom)*nom'\n",
    "            #BGR eq13\n",
    "            G_i_constr = G_i - inv(denom)*R_con_i'*inv(R_con_i*inv(denom)*R_con_i')*(R_con_i*G_i -q_con_i)\n",
    "            G_new[j,bl_idxQ[i,:]] = G_i_constr\n",
    "        end\n",
    "    end\n",
    "    \n",
    "    ### Update covariance of residuals for observation equation\n",
    "    R_new = zeros(n,n)\n",
    "    for t in 1:T\n",
    "        Wt = Diagonal(.!(nanY[:,t]))\n",
    "        R_new = R_new + (y[:,t] - Wt*G_new*x_sm[:,t+1])*(y[:,t]-Wt*G_new*x_sm[:,t+1])'+Wt*G_new*σ_sm[:,:,t+1]*G_new'*Wt + (Matrix{Float64}(I,n,n)-Wt)*R*(Matrix{Float64}(I,n,n)-Wt)\n",
    "    end\n",
    "    \n",
    "    R_new = R_new / T\n",
    "    RR = Diagonal(R_new)\n",
    "    RR[i_idio+_M] = 1e-04\n",
    "    RR[nM+1:end] = 1e-04\n",
    "    R_new = Diagonal(RR)\n",
    "    \n",
    "    return G_new, R_new, A_new, Q_new, x_0, σ_0, loglik\n",
    "end"
   ]
  },
  {
   "cell_type": "code",
   "execution_count": 88,
   "metadata": {},
   "outputs": [
    {
     "data": {
      "text/plain": [
       "em_converged (generic function with 3 methods)"
      ]
     },
     "execution_count": 88,
     "metadata": {},
     "output_type": "execute_result"
    }
   ],
   "source": [
    "### Y_t = C_t Z_t + e_t for e_t ~ N(0, R)\n",
    "### Z_t = A Z_{t-1} + mu_t for mu_t ~ N(0,Q)\n",
    "function runKF(Y, A, C, Q, R, Z_0, V_0)\n",
    "    S = SKF(Y,A,C,Q,R,Z_0,V_0)\n",
    "    S, S1 = FIS(A,S)\n",
    "    \n",
    "    zsmooth = S1.ZmT\n",
    "    Vsmooth = S1.VmT\n",
    "    VVsmooth = S1.VmT_1\n",
    "    loglik = S.loglik\n",
    "    \n",
    "    return zsmooth, Vsmooth, VVsmooth, loglik\n",
    "end\n",
    "\n",
    "function SKF(Y, A, C, Q, R, Z_0, V_0)\n",
    "    # Initialize output values\n",
    "    m = size(C,2)\n",
    "    nobs = size(Y,2) # number of observations\n",
    "    S = Sm(zeros(m, nobs), zeros(m, nobs+1), zeros(m,m, nobs), zeros(m,m, nobs+1), 0, zeros(m,m))\n",
    "    \n",
    "    Zu = Z_0\n",
    "    Vu = V_0\n",
    "    \n",
    "    S.ZmU[:,1] = Zu\n",
    "    S.VmU[:,:,1] = Vu\n",
    "    \n",
    "    # Kalman filter procedure\n",
    "    for t in 1:nobs\n",
    "        Z = A*Zu\n",
    "        V = A*Vu*A' +Q\n",
    "        V = 0.5*(V+V')\n",
    "        \n",
    "        (Y_t, C_t, R_t) = MissData(Y[:,t], C, R)\n",
    "        \n",
    "        if isempty(Y_t)\n",
    "            Zu = Z\n",
    "            Vu = V\n",
    "        else\n",
    "            VC = V*C_t'\n",
    "            temp = C_t*VC +R_t\n",
    "            print(size(temp))\n",
    "            iF = inv(temp)\n",
    "            \n",
    "            VCF = VC*iF\n",
    "            innov = Y_t - C_t*Z\n",
    "            Zu = Z + VCF*innov\n",
    "            \n",
    "            Vu = V - VCF*VC'\n",
    "            Vu = 0.5*(Vu+Vu')\n",
    "            \n",
    "            println(temp)\n",
    "            print(innov'*iF*innov)\n",
    "            S.loglik = S.loglik + 0.5*(log(det(iF)) - (innov'*iF*innov))\n",
    "            \n",
    "            print(2)\n",
    "        end\n",
    "        \n",
    "        S.Zm[:,t] = Z\n",
    "        S.Vm[:,:,t] = V\n",
    "        S.ZmU[:,t+1] = Zu\n",
    "        S.VmU[:,:,t+1] = Vu\n",
    "    end\n",
    "    \n",
    "    if isempty(Y_t)\n",
    "        S.k_t = zeros(m,m)\n",
    "    else\n",
    "        S.k_t = VCF*C_t\n",
    "    end\n",
    "    print(\"Filtering success\")\n",
    "    return S\n",
    "end\n",
    "\n",
    "function FIS(A,S)\n",
    "    (m, nobs) = size(S.Zm)\n",
    "    S1 = Sm1(zeros(m, nobs+1), zeros(m,m,nobs+1), zeros(m,m,nobs))\n",
    "    \n",
    "    S1.ZmT[:, nobs+1] = squeeze(S.ZmU[:,nobs+1])\n",
    "    S1.VmT[:,:,nobs+1] = squeeze(S.VmU[:,:,nobs+1])\n",
    "    S1.VmT_1[:,:,nobs] = (Matrix{Float}(I, m, m)-S.k_t)*A*squeeze(S.VmU[:,:,nobs])\n",
    "    \n",
    "    J_2 = squeeze(S.VmU[:,:,nobs])*A'*pinv(squeeze(S.Vm[:,:,nobs]))\n",
    "    \n",
    "    # Run smoothing algorithm\n",
    "    for t in nobs:-1:1\n",
    "        VmU = squeeze(S.VmU[:,:,t])\n",
    "        Vm1 = squeeze(S.Vm[:,:,t])\n",
    "        V_T = squeeze(S1.VmT[:,:,t+1])\n",
    "        V_T1 = squeeze(S1.VmT_1[:,:,t])\n",
    "        J_1 = J_2\n",
    "        \n",
    "        # update smoothed factor estimate / covariance matrix\n",
    "        S1.ZmT[:,t] = S.ZmU[:,t]+J_1*(S1.ZmT[:,t+1] - A*S.ZmU[:,t])\n",
    "        S1.VmT[:,:,t] = VmU + J_1*(V_T - Vm1)*J_1'\n",
    "        \n",
    "        if t > 1\n",
    "            J_2 = squeeze(S.VmU[:,:,t-1])*A'*pinv(squeeze(S.Vm[:,:,t-1]))\n",
    "            S1.VmT_1[:,:,t-1] = VmU*J_2' + J_1*(V_T1 - A*VmU)*J_2'\n",
    "        end\n",
    "    end\n",
    "    \n",
    "    return S, S1\n",
    "end\n",
    "\n",
    "function MissData(y,C,R)\n",
    "    ix = .!ismissing.(y)\n",
    "    e = Matrix{Float64}(I,size(y,1),size(y,1))\n",
    "    L = e[:,ix]\n",
    "    y = y[ix]\n",
    "    C = C[ix,:]\n",
    "    R = R[ix,ix]\n",
    "    \n",
    "    return y, C, R\n",
    "end\n",
    "\n",
    "#function InitialCond -- PCA for prior information\n",
    "\n",
    "function em_converged(loglik, previous_loglik, threshold = 1e-4, check_decreased = 1)\n",
    "    converged = 0\n",
    "    decrease = 0\n",
    "    \n",
    "    if check_decreased\n",
    "        if loglik - previous_loglik < -1e-3\n",
    "            printf(1, \"******likelihood decreased from %6.4f to %6.4f!\\n\", previous_loglik, loglik)\n",
    "            decrease = 1\n",
    "        end\n",
    "    end\n",
    "    \n",
    "    delta_loglik = abs(loglik - previous_loglik)\n",
    "    avg_loglik = (abs(loglik) + abs(previous_loglik) + eps)/2\n",
    "    \n",
    "    if (delta_loglik / avg_loglik) < threshold\n",
    "        converged = 1\n",
    "    end\n",
    "    \n",
    "    return converged, decrease \n",
    "end"
   ]
  },
  {
   "cell_type": "code",
   "execution_count": 66,
   "metadata": {},
   "outputs": [
    {
     "name": "stdout",
     "output_type": "stream",
     "text": [
      "Success"
     ]
    }
   ],
   "source": [
    "A_θ = convert(Matrix{Float64}, CSV.read(\"A_theta.csv\", header = false))\n",
    "G_θ = convert(Matrix{Float64}, CSV.read(\"G_theta.csv\", header = false))\n",
    "Q_θ = convert(Matrix{Float64}, CSV.read(\"Q_theta.csv\", header = false))\n",
    "R_θ = convert(Matrix{Float64}, CSV.read(\"R_theta.csv\", header = false))\n",
    "Z_θ = convert(Matrix{Float64}, CSV.read(\"Z_theta.csv\", header = false))\n",
    "V_θ = convert(Matrix{Float64}, CSV.read(\"V_theta.csv\", header = false))\n",
    "block = convert(Matrix{Float64}, CSV.read(\"block.csv\", header = false))\n",
    "X = CSV.read(\"X.csv\", header = true)\n",
    "X = convert(Matrix{Union{Missing,Float64}},X[2:end,])\n",
    "print(\"Success\")"
   ]
  },
  {
   "cell_type": "code",
   "execution_count": 89,
   "metadata": {},
   "outputs": [
    {
     "name": "stdout",
     "output_type": "stream",
     "text": [
      "run EM loop\n"
     ]
    },
    {
     "name": "stdout",
     "output_type": "stream",
     "text": [
      "(101, 101)[0.0319378 1.73864e-7 1.86427e-7 1.94234e-7 1.42099e-7 7.22821e-9 2.85303e-8 -2.96346e-7 1.51369e-7 -2.68491e-8 2.29715e-7 3.29734e-7 4.09408e-7 2.21856e-7 8.26103e-7 -4.71044e-8 -4.0161e-6 -5.49506e-8 1.15946e-7 -7.98901e-6 -6.66118e-6 -7.77577e-7 -9.57151e-7 -3.82318e-6 -2.72926e-6 -4.52922e-6 9.27679e-8 4.74062e-7 1.98698e-7 5.29503e-7 4.22031e-7 4.32696e-7 4.41312e-7 2.17105e-8 9.40219e-8 3.17916e-8 3.17647e-8 2.65883e-8 -9.85694e-8 -0.0602592 -5.84524e-6 -0.0626358 -9.63e-5 -0.0041385 -0.00147982 -0.00147397 -0.00171956 2.82531e-7 1.41252e-7 -6.29907e-8 2.09921e-7 -2.00348e-7 309.43 3.08131e-8 2.94674e-8 8.69168e-9 -4.16643e-11 3.03595e-7 2.82808e-6 4.23312e-6 5.75761e-6 2.62042e-6 2.40215e-6 2.33287e-6 8.92763e-6 0.000775534 0.000446982 -3.32205e-5 -4.87017e-5 0.000108162 0.000217073 0.000129485 8.54357e-8 8.78605e-8 1.7436e-7 -5.95755e-7 3.73665e-7 -6.60607e-7 4.32218e-8 -1.83781e-7 3.53626e-7 -1.18717e-7 8.66134e-8 -7.88182e-8 -1.94094e-8 2.59102e-8 8.16207e-8 5.42035e-8 -5.29421e-8 -1.15721e-8 -1.21472e-7 -3.92874e-8 7.53323e-10 -1.90487e-8 2.98091e-8 2.39016e-7 -1.99327e-8 1.83188e-8 3.76824e-319 1.20312e-7 -1.99278e-9; 1.73864e-7 0.0148749 1.55833e-7 1.63089e-7 1.06814e-7 -3.25312e-8 1.44074e-8 -2.03335e-7 1.11146e-7 -1.18078e-7 2.06244e-7 2.03536e-7 4.03052e-7 1.66529e-7 6.88193e-7 -8.15593e-8 1.76646e-6 -6.80898e-8 1.4367e-7 -9.89925e-6 -8.25393e-6 -9.63503e-7 -1.18601e-6 -4.73734e-6 -3.38185e-6 -5.6122e-6 1.14949e-7 5.87415e-7 2.46208e-7 6.56112e-7 5.22943e-7 5.36158e-7 5.46834e-7 2.69017e-8 1.16503e-7 3.93932e-8 3.93599e-8 3.29458e-8 -1.22138e-7 -0.0746677 -7.24289e-6 -0.0776126 -2.82124e-5 -0.00354731 -0.00110349 -0.00135754 -0.00152539 3.50087e-7 1.75027e-7 -2.48983e-9 2.60115e-7 -2.48253e-7 383.417 3.81809e-8 3.65134e-8 1.07699e-8 -3.77796e-11 3.76187e-7 3.5043e-6 5.2453e-6 7.1343e-6 3.24699e-6 2.97653e-6 2.89068e-6 1.10623e-5 0.000960971 0.00055386 -4.11638e-5 -6.03467e-5 0.000134025 0.000268977 0.000160446 7.00439e-8 6.94317e-8 1.50447e-7 -5.80643e-7 2.69392e-7 -6.0655e-7 3.77269e-8 -1.64076e-7 3.06371e-7 -1.05908e-7 7.34546e-8 -7.23557e-8 -1.6766e-8 2.16015e-8 7.07491e-8 4.73e-8 -6.5601e-8 -1.43391e-8 -1.50517e-7 -4.86814e-8 9.33449e-10 -2.36034e-8 3.69367e-8 2.96167e-7 -2.46987e-8 2.2699e-8 4.66927e-319 1.06785e-7 -1.21993e-9; 1.86427e-7 1.55833e-7 0.05673 2.40682e-7 1.9562e-7 6.92985e-8 5.02788e-8 -4.38326e-7 2.12502e-7 1.16073e-7 2.63757e-7 5.23209e-7 4.14623e-7 3.05786e-7 1.03216e-6 7.3e-9 -1.30093e-5 -3.37773e-8 7.12704e-8 -4.91072e-6 -4.09452e-6 -4.77964e-7 -5.88346e-7 -2.35005e-6 -1.67763e-6 -2.78404e-6 5.70229e-8 2.91398e-7 1.22136e-7 3.25477e-7 2.59416e-7 2.65971e-7 2.71267e-7 1.33451e-8 5.77938e-8 1.95418e-8 1.95252e-8 1.63434e-8 -6.0589e-8 -0.0370404 -3.59297e-6 -0.0385012 -0.000201627 -0.00501496 -0.00205105 -0.00163898 -0.00200326 1.73667e-7 8.68253e-8 -1.56842e-7 1.29035e-7 -1.23151e-7 190.202 1.89403e-8 1.81132e-8 5.34264e-9 -4.72567e-11 1.86615e-7 1.73838e-6 2.60203e-6 3.53911e-6 1.61073e-6 1.47657e-6 1.43398e-6 5.48767e-6 0.000476708 0.000274753 -2.04201e-5 -2.99362e-5 6.64856e-5 0.000133431 7.95921e-5 1.08512e-7 1.15656e-7 2.09731e-7 -6.12508e-7 5.32361e-7 -7.37495e-7 5.13131e-8 -2.12466e-7 4.2342e-7 -1.37371e-7 1.06185e-7 -8.80119e-8 -2.33178e-8 3.23469e-8 9.76744e-8 6.43704e-8 -3.25427e-8 -7.1132e-9 -7.4667e-8 -2.41493e-8 4.63055e-10 -1.17089e-8 1.83231e-8 1.4692e-7 -1.22523e-8 1.12603e-8 2.31628e-319 1.40072e-7 -3.17794e-9; 1.94234e-7 1.63089e-7 2.40682e-7 0.0432179 2.02388e-7 7.03718e-8 5.1773e-8 -4.52815e-7 2.19763e-7 1.16674e-7 2.74054e-7 5.39766e-7 4.32295e-7 3.16358e-7 1.07022e-6 5.94249e-9 -1.32925e-5 -3.58804e-8 7.5708e-8 -5.21648e-6 -4.34947e-6 -5.07725e-7 -6.24979e-7 -2.49638e-6 -1.78209e-6 -2.95739e-6 6.05735e-8 3.09542e-7 1.29741e-7 3.45743e-7 2.75568e-7 2.82532e-7 2.88158e-7 1.4176e-8 6.13923e-8 2.07585e-8 2.0741e-8 1.7361e-8 -6.43616e-8 -0.0393467 -3.81669e-6 -0.0408985 -0.000207062 -0.00520371 -0.00212171 -0.0017044 -0.0020807 1.84481e-7 9.22315e-8 -1.60704e-7 1.3707e-7 -1.30819e-7 202.045 2.01197e-8 1.9241e-8 5.6753e-9 -4.91172e-11 1.98234e-7 1.84662e-6 2.76405e-6 3.75947e-6 1.71103e-6 1.5685e-6 1.52326e-6 5.82936e-6 0.000506391 0.00029186 -2.16916e-5 -3.18001e-5 7.06253e-5 0.00014174 8.45479e-5 1.12469e-7 1.19776e-7 2.17664e-7 -6.38336e-7 5.5038e-7 -7.6685e-7 5.32713e-8 -2.20722e-7 4.39486e-7 -1.42706e-7 1.1015e-7 -9.15145e-8 -2.42005e-8 3.35403e-8 1.01382e-7 6.68264e-8 -3.45689e-8 -7.55611e-9 -7.93161e-8 -2.5653e-8 4.91888e-10 -1.2438e-8 1.9464e-8 1.56068e-7 -1.30152e-8 1.19614e-8 2.4605e-319 1.45489e-7 -3.2782e-9; 1.42099e-7 1.06814e-7 1.9562e-7 2.02388e-7 0.00580277 8.27961e-8 4.83452e-8 -3.97488e-7 1.88826e-7 1.58299e-7 2.13302e-7 4.86548e-7 3.10985e-7 2.69682e-7 8.714e-7 3.28269e-8 -1.42041e-5 -1.44577e-8 3.05058e-8 -2.10193e-6 -1.75258e-6 -2.04583e-7 -2.51829e-7 -1.00589e-6 -7.18077e-7 -1.19165e-6 2.44075e-8 1.24727e-7 5.22779e-8 1.39314e-7 1.11038e-7 1.13844e-7 1.1611e-7 5.7121e-9 2.47374e-8 8.36445e-9 8.35738e-9 6.99545e-9 -2.59339e-8 -0.0158544 -1.5379e-6 -0.0164797 -0.000202994 -0.00417105 -0.00181305 -0.00130202 -0.00163272 7.43347e-8 3.71638e-8 -1.63908e-7 5.52308e-8 -5.27121e-8 81.4119 8.10703e-9 7.75296e-9 2.28681e-9 -3.79615e-11 7.98766e-8 7.44076e-7 1.11375e-6 1.51484e-6 6.89441e-7 6.32013e-7 6.13785e-7 2.34888e-6 0.000204045 0.000117602 -8.74041e-6 -1.28136e-5 2.84578e-5 5.71126e-5 3.40678e-5 9.23219e-8 1.00012e-7 1.73791e-7 -4.63965e-7 4.7584e-7 -5.87202e-7 4.22368e-8 -1.72459e-7 3.50049e-7 -1.11559e-7 8.88269e-8 -7.00851e-8 -1.93099e-8 2.72982e-8 8.07258e-8 5.29928e-8 -1.39292e-8 -3.04466e-9 -3.19597e-8 -1.03366e-8 1.98201e-10 -5.01176e-9 7.84285e-9 6.28859e-8 -5.24434e-9 4.81974e-9 9.91442e-320 1.14123e-7 -2.96031e-9; 7.22821e-9 -3.25312e-8 6.92985e-8 7.03718e-8 8.27961e-8 0.00431276 3.42558e-8 -2.21329e-7 9.48009e-8 2.29597e-7 4.97492e-8 3.03152e-7 -2.04713e-10 1.2986e-7 3.1294e-7 8.81693e-8 -1.43278e-5 3.50799e-8 -7.40189e-8 5.1001e-6 4.25243e-6 4.96397e-7 6.11035e-7 2.44068e-6 1.74233e-6 2.89141e-6 -5.9222e-8 -3.02636e-7 -1.26847e-7 -3.38029e-7 -2.6942e-7 -2.76229e-7 -2.81729e-7 -1.38598e-8 -6.00226e-8 -2.02954e-8 -2.02782e-8 -1.69737e-8 6.29256e-8 0.0384688 3.73154e-6 0.0399861 -0.000166775 -0.00131799 -0.000884458 -0.000233609 -0.000418686 -1.80365e-7 -9.01737e-8 -1.49081e-7 -1.34011e-7 1.279e-7 -197.537 -1.96708e-8 -1.88117e-8 -5.54868e-9 -8.09054e-12 -1.93812e-7 -1.80542e-6 -2.70238e-6 -3.6756e-6 -1.67285e-6 -1.53351e-6 -1.48928e-6 -5.6993e-6 -0.000495093 -0.000285349 2.12076e-5 3.10907e-5 -6.90497e-5 -0.000138577 -8.26616e-5 3.51929e-8 4.27056e-8 5.30362e-8 -1.43896e-8 2.46499e-7 -1.09399e-7 1.20627e-8 -4.21249e-8 1.04451e-7 -2.7412e-8 2.95526e-8 -1.30848e-8 -5.85742e-9 9.77311e-9 2.40195e-8 1.51591e-8 3.37977e-8 7.38753e-9 7.75465e-8 2.50807e-8 -4.80913e-10 1.21605e-8 -1.90298e-8 -1.52586e-7 1.27248e-8 -1.16945e-8 -2.40561e-319 2.91489e-8 -1.85758e-9; 2.85303e-8 1.44074e-8 5.02788e-8 5.1773e-8 4.83452e-8 3.42558e-8 0.0517961 -1.17091e-7 5.37068e-8 7.28561e-8 5.00378e-8 1.49302e-7 5.94681e-8 7.56783e-8 2.24757e-7 2.26274e-8 -5.37421e-6 3.7372e-9 -7.88552e-9 5.43333e-7 4.53028e-7 5.28831e-8 6.5096e-8 2.60015e-7 1.85617e-7 3.08033e-7 -6.30915e-9 -3.2241e-8 -1.35135e-8 -3.60116e-8 -2.87024e-8 -2.94277e-8 -3.00137e-8 -1.47653e-9 -6.39444e-9 -2.16215e-9 -2.16032e-9 -1.80827e-9 6.70371e-9 0.00409823 3.97535e-7 0.00425987 -6.97613e-5 -0.00104247 -0.000510895 -0.000292448 -0.000390038 -1.9215e-8 -9.60656e-9 -5.9002e-8 -1.42768e-8 1.36257e-8 -21.0444 -2.09561e-9 -2.00408e-9 -5.91122e-10 -8.76376e-12 -2.06475e-8 -1.92338e-7 -2.87895e-7 -3.91575e-7 -1.78215e-7 -1.63371e-7 -1.58659e-7 -6.07169e-7 -5.27441e-5 -3.03993e-5 2.25933e-6 3.31221e-6 -7.35613e-6 -1.47632e-5 -8.80626e-6 2.41901e-8 2.70544e-8 4.30871e-8 -9.1446e-8 1.3675e-7 -1.32641e-7 1.03182e-8 -4.08091e-8 8.63454e-8 -2.64285e-8 2.24757e-8 -1.58364e-8 -4.78083e-9 7.03531e-9 1.98997e-8 1.29504e-8 3.6006e-9 7.87022e-10 8.26133e-9 2.67194e-9 -5.12336e-11 1.2955e-9 -2.02732e-9 -1.62555e-8 1.35562e-9 -1.24587e-9 -2.56272e-320 2.72412e-8 -9.10831e-10; -2.96346e-7 -2.03335e-7 -4.38326e-7 -4.52815e-7 -3.97488e-7 -2.21329e-7 -1.17091e-7 0.0150423 -4.37382e-7 -4.4348e-7 -4.64739e-7 -1.15713e-6 -6.40356e-7 -6.2184e-7 -1.95472e-6 -1.12716e-7 3.65833e-5 1.18269e-8 -2.4955e-8 1.71946e-6 1.43368e-6 1.67357e-7 2.06006e-7 8.22858e-7 5.87415e-7 9.74818e-7 -1.99663e-8 -1.02032e-7 -4.27654e-8 -1.13964e-7 -9.08332e-8 -9.31286e-8 -9.49829e-8 -4.67272e-9 -2.02362e-8 -6.84245e-9 -6.83667e-9 -5.72255e-9 2.12149e-8 0.0129695 1.25806e-6 0.013481 0.000503384 0.00926442 0.00418642 0.00280098 0.00357673 -6.08087e-8 -3.04014e-8 4.13835e-7 -4.5181e-8 4.31206e-8 -66.5982 -6.63187e-9 -6.34223e-9 -1.8707e-9 8.23195e-11 -6.53422e-8 -6.08684e-7 -9.11089e-7 -1.2392e-6 -5.6399e-7 -5.17012e-7 -5.021e-7 -1.92148e-6 -0.000166917 -9.62033e-5 7.15e-6 1.0482e-5 -2.32796e-5 -4.67204e-5 -2.78688e-5 -2.08139e-7 -2.2782e-7 -3.85051e-7 9.62879e-7 -1.10609e-6 1.26529e-6 -9.31566e-8 3.76723e-7 -7.74352e-7 2.43775e-7 -1.98055e-7 1.51032e-7 4.27648e-8 -6.12197e-8 -1.78541e-7 -1.16892e-7 1.13946e-8 2.49065e-9 2.61443e-8 8.45577e-9 -1.62137e-10 4.09981e-9 -6.41576e-9 -5.14431e-8 4.29008e-9 -3.94274e-9 -8.11009e-320 -2.49946e-7 7.04703e-9; 1.51369e-7 1.11146e-7 2.12502e-7 2.19763e-7 1.88826e-7 9.48009e-8 5.37068e-8 -4.37382e-7 0.0709385 1.84008e-7 2.29917e-7 5.37619e-7 3.3016e-7 2.9534e-7 9.46897e-7 4.09742e-8 -1.60754e-5 -1.29141e-8 2.72489e-8 -1.87752e-6 -1.56546e-6 -1.82741e-7 -2.24943e-7 -8.98498e-7 -6.41412e-7 -1.06443e-6 2.18017e-8 1.11411e-7 4.66966e-8 1.2444e-7 9.91828e-8 1.01689e-7 1.03714e-7 5.10225e-9 2.20964e-8 7.47143e-9 7.46511e-9 6.24859e-9 -2.31651e-8 -0.0141617 -1.37371e-6 -0.0147202 -0.000227099 -0.00451993 -0.00198633 -0.00139858 -0.00176253 6.63984e-8 3.3196e-8 -1.84372e-7 4.93342e-8 -4.70844e-8 72.7201 7.24149e-9 6.92523e-9 2.04266e-9 -4.08656e-11 7.13487e-8 6.64636e-7 9.94839e-7 1.35311e-6 6.15834e-7 5.64537e-7 5.48255e-7 2.09811e-6 0.000182261 0.000105047 -7.80725e-6 -1.14455e-5 2.54195e-5 5.1015e-5 3.04306e-5 1.00462e-7 1.09148e-7 1.88197e-7 -4.93593e-7 5.22317e-7 -6.31031e-7 4.56805e-8 -1.86025e-7 3.78901e-7 -1.20346e-7 9.63599e-8 -7.53182e-8 -2.09081e-8 2.96612e-8 8.73747e-8 5.73153e-8 -1.24421e-8 -2.7196e-9 -2.85475e-8 -9.23305e-9 1.77041e-10 -4.47668e-9 7.00552e-9 5.6172e-8 -4.68443e-9 4.30516e-9 8.85563e-320 1.23189e-7 -3.27195e-9; -2.68491e-8 -1.18078e-7 1.16073e-7 1.16674e-7 1.58299e-7 2.29597e-7 7.28561e-8 -4.4348e-7 1.84008e-7 0.0316543 6.00029e-8 6.25958e-7 -1.00078e-7 2.4853e-7 5.28001e-7 2.16845e-7 -3.23989e-5 9.50853e-8 -2.00631e-7 1.3824e-5 1.15264e-5 1.3455e-6 1.65623e-6 6.61555e-6 4.72265e-6 7.83726e-6 -1.60523e-7 -8.20306e-7 -3.43822e-7 -9.1624e-7 -7.30273e-7 -7.48727e-7 -7.63636e-7 -3.75674e-8 -1.62693e-7 -5.50114e-8 -5.49649e-8 -4.60077e-8 1.70562e-7 0.104271 1.01145e-5 0.108384 -0.000365065 -0.00206337 -0.00170029 -0.000185591 -0.000556972 -4.88885e-7 -2.44419e-7 -3.31952e-7 -3.63243e-7 3.46677e-7 -535.43 -5.33183e-8 -5.09897e-8 -1.50399e-8 -8.71034e-12 -5.25333e-7 -4.89364e-6 -7.3249e-6 -9.96283e-6 -4.53432e-6 -4.15663e-6 -4.03674e-6 -1.54482e-5 -0.00134197 -0.000773448 5.7484e-5 8.42723e-5 -0.000187161 -0.000375618 -0.000224057 6.11951e-8 7.81055e-8 8.11267e-8 1.11416e-7 4.83301e-7 -9.4127e-8 1.75844e-8 -5.34173e-8 1.57282e-7 -3.49733e-8 4.77699e-8 -1.13053e-8 -8.92262e-9 1.64625e-8 3.60954e-8 2.21256e-8 9.16098e-8 2.00241e-8 2.10193e-7 6.7982e-8 -1.30353e-9 3.29613e-8 -5.15809e-8 -4.13588e-7 3.4491e-8 -3.16985e-8 -6.52048e-319 3.86311e-8 -3.84233e-9; 2.29715e-7 2.06244e-7 2.63757e-7 2.74054e-7 2.13302e-7 4.97492e-8 5.00378e-8 -4.64739e-7 2.29917e-7 6.00029e-8 0.0263171 5.40366e-7 5.16901e-7 3.33264e-7 1.17116e-6 -2.34197e-8 -1.09316e-5 -5.50415e-8 1.16138e-7 -8.00222e-6 -6.6722e-6 -7.78863e-7 -9.58735e-7 -3.82951e-6 -2.73378e-6 -4.53671e-6 9.29213e-8 4.74846e-7 1.99026e-7 5.30379e-7 4.22729e-7 4.33412e-7 4.42042e-7 2.17464e-8 9.41774e-8 3.18442e-8 3.18172e-8 2.66322e-8 -9.87324e-8 -0.0603589 -5.85491e-6 -0.0627395 -0.000189816 -0.005765 -0.00223041 -0.00195682 -0.00234263 2.82998e-7 1.41486e-7 -1.40517e-7 2.10268e-7 -2.00679e-7 309.942 3.08641e-8 2.95162e-8 8.70606e-9 -5.59212e-11 3.04097e-7 2.83276e-6 4.24013e-6 5.76713e-6 2.62476e-6 2.40613e-6 2.33673e-6 8.9424e-6 0.000776817 0.000447722 -3.32755e-5 -4.87823e-5 0.000108341 0.000217432 0.000129699 1.22279e-7 1.28414e-7 2.41867e-7 -7.58181e-7 5.72669e-7 -8.78934e-7 5.95125e-8 -2.49301e-7 4.89266e-7 -1.61122e-7 1.21459e-7 -1.0488e-7 -2.69051e-8 3.67157e-8 1.12891e-7 7.46462e-8 -5.30297e-8 -1.15913e-8 -1.21673e-7 -3.93524e-8 7.54569e-10 -1.90802e-8 2.98584e-8 2.39412e-7 -1.99656e-8 1.83491e-8 3.77446e-319 1.63848e-7 -3.27616e-9; 3.29734e-7 2.03536e-7 5.23209e-7 5.39766e-7 4.86548e-7 3.03152e-7 1.49302e-7 -1.15713e-6 5.37619e-7 6.25958e-7 5.40366e-7 0.232837 7.02919e-7 7.61369e-7 2.33562e-6 1.77153e-7 -4.88428e-5 8.2629e-9 -1.74348e-8 1.2013e-6 1.00164e-6 1.16924e-7 1.43926e-7 5.74891e-7 4.10398e-7 6.81057e-7 -1.39495e-8 -7.12845e-8 -2.98781e-8 -7.96212e-8 -6.34607e-8 -6.50644e-8 -6.63599e-8 -3.2646e-9 -1.4138e-8 -4.78048e-9 -4.77644e-9 -3.99807e-9 1.48218e-8 0.00906115 8.78946e-7 0.00941853 -0.000653676 -0.0109696 -0.00513195 -0.00321667 -0.00418046 -4.24841e-8 -2.124e-8 -5.44644e-7 -3.15657e-8 3.01262e-8 -46.5288 -4.63336e-9 -4.431e-9 -1.30696e-9 -9.52783e-11 -4.56514e-8 -4.25257e-7 -6.36533e-7 -8.65769e-7 -3.94032e-7 -3.61211e-7 -3.50793e-7 -1.34244e-6 -0.000116617 -6.72125e-5 4.99535e-6 7.32326e-6 -1.62643e-5 -3.26412e-5 -1.94705e-5 2.4983e-7 2.75989e-7 4.54868e-7 -1.06585e-6 1.36367e-6 -1.45542e-6 1.09582e-7 -4.39117e-7 9.1342e-7 -2.84243e-7 2.35343e-7 -1.73742e-7 -5.0499e-8 7.31322e-8 2.10567e-7 1.37517e-7 7.96088e-9 1.7401e-9 1.82657e-8 5.90763e-9 -1.13277e-10 2.86434e-9 -4.48238e-9 -3.59408e-8 2.99726e-9 -2.75459e-9 -5.66644e-320 2.92069e-7 -8.862e-9; 4.09408e-7 4.03052e-7 4.14623e-7 4.32295e-7 3.10985e-7 -2.04713e-10 5.94681e-8 -6.40356e-7 3.3016e-7 -1.00078e-7 5.16901e-7 7.02919e-7 0.00344937 4.85432e-7 1.8363e-6 -1.22568e-7 -6.76952e-6 -1.31565e-7 2.77603e-7 -1.91275e-5 -1.59484e-5 -1.8617e-6 -2.29164e-6 -9.15359e-6 -6.53449e-6 -1.0844e-5 2.22108e-7 1.13502e-6 4.75729e-7 1.26775e-6 1.01044e-6 1.03598e-6 1.0566e-6 5.198e-8 2.2511e-7 7.61164e-8 7.60521e-8 6.36585e-8 -2.35998e-7 -0.144275 -1.39949e-5 -0.149965 -0.000192108 -0.00924135 -0.00323486 -0.00333113 -0.00386153 6.76445e-7 3.3819e-7 -1.18922e-7 5.026e-7 -4.79679e-7 740.847 7.37739e-8 7.05519e-8 2.08099e-8 -9.39097e-11 7.26876e-7 6.77108e-6 1.01351e-5 1.3785e-5 6.27391e-6 5.75131e-6 5.58543e-6 2.13748e-5 0.00185681 0.00107018 -7.95376e-5 -0.000116603 0.000258966 0.000519724 0.000310016 1.89434e-7 1.93713e-7 3.89769e-7 -1.35987e-6 8.1292e-7 -1.49216e-6 9.68018e-8 -4.13151e-7 7.91031e-7 -2.66848e-7 1.93078e-7 -1.78027e-7 -4.33961e-8 5.76016e-8 1.82593e-7 1.21392e-7 -1.26756e-7 -2.77064e-8 -2.90833e-7 -9.40632e-8 1.80363e-9 -4.56069e-8 7.13698e-8 5.72261e-7 -4.77234e-8 4.38595e-8 9.02203e-319 2.70204e-7 -4.24386e-9; 2.21856e-7 1.66529e-7 3.05786e-7 3.16358e-7 2.69682e-7 1.2986e-7 7.56783e-8 -6.2184e-7 2.9534e-7 2.4853e-7 3.33264e-7 7.61369e-7 4.85432e-7 0.0648897 1.36217e-6 5.17911e-8 -2.22613e-5 -2.2349e-8 4.71565e-8 -3.24921e-6 -2.70917e-6 -3.16248e-7 -3.89283e-7 -1.55493e-6 -1.11002e-6 -1.84208e-6 3.77296e-8 1.92806e-7 8.08124e-8 2.15354e-7 1.71644e-7 1.75982e-7 1.79486e-7 8.82988e-9 3.82396e-8 1.29299e-8 1.2919e-8 1.08137e-8 -4.00891e-8 -0.024508 -2.37732e-6 -0.0254746 -0.000317904 -0.00651903 -0.0028356 -0.00203385 -0.00255121 1.14908e-7 5.74486e-8 -2.56782e-7 8.5377e-8 -8.14835e-8 125.848 1.2532e-8 1.19847e-8 3.53499e-9 -5.93066e-11 1.23475e-7 1.15021e-6 1.72165e-6 2.34168e-6 1.06575e-6 9.7698e-7 9.48801e-7 3.63096e-6 0.000315417 0.000181792 -1.35111e-5 -1.98075e-5 4.39907e-5 8.82859e-5 5.26627e-5 1.4433e-7 1.56381e-7 2.71611e-7 -7.24318e-7 7.44302e-7 -9.17278e-7 6.60049e-8 -2.69462e-7 5.47062e-7 -1.74309e-7 1.38839e-7 -1.09481e-7 -3.01784e-8 4.26722e-8 1.26159e-7 8.28139e-8 -2.15321e-8 -4.7065e-9 -4.94039e-8 -1.59786e-8 3.06384e-10 -7.74728e-9 1.21236e-8 9.72103e-8 -8.10681e-9 7.45045e-9 1.53259e-319 1.78323e-7 -4.63249e-9; 8.26103e-7 6.88193e-7 1.03216e-6 1.07022e-6 8.714e-7 3.1294e-7 2.24757e-7 -1.95472e-6 9.46897e-7 5.28001e-7 1.17116e-6 2.33562e-6 1.8363e-6 1.36217e-6 0.0406541 3.76796e-8 -5.84859e-5 -1.47467e-7 3.11158e-7 -2.14396e-5 -1.78762e-5 -2.08673e-6 -2.56864e-6 -1.026e-5 -7.32434e-6 -1.21548e-5 2.48955e-7 1.27221e-6 5.33232e-7 1.42099e-6 1.13258e-6 1.1612e-6 1.18432e-6 5.82631e-8 2.5232e-7 8.53169e-8 8.52448e-8 7.13531e-8 -2.64524e-7 -0.161714 -1.56865e-5 -0.168092 -0.000903098 -0.0222906 -0.0091375 -0.00727302 -0.00889761 7.58209e-7 3.79068e-7 -7.03677e-7 5.63351e-7 -5.3766e-7 830.396 8.26912e-8 7.90798e-8 2.33253e-8 -2.09785e-10 8.14736e-7 7.58953e-6 1.13602e-5 1.54513e-5 7.03226e-6 6.4465e-6 6.26057e-6 2.39585e-5 0.00208125 0.00119954 -8.91516e-5 -0.000130698 0.000290268 0.000582545 0.000347489 4.82719e-7 5.14817e-7 9.3209e-7 -2.7136e-6 2.37272e-6 -3.27291e-6 2.27991e-7 -9.43542e-7 1.88161e-6 -6.10064e-7 4.72073e-7 -3.90588e-7 -1.03627e-7 1.43853e-7 4.34045e-7 2.86008e-7 -1.42077e-7 -3.10554e-8 -3.25987e-7 -1.05433e-7 2.02164e-9 -5.11196e-8 7.99966e-8 6.41432e-7 -5.34919e-8 4.9161e-8 1.01125e-318 6.2213e-7 -1.41874e-8; -4.71044e-8 -8.15593e-8 7.3e-9 5.94249e-9 3.28269e-8 8.81693e-8 2.26274e-8 -1.12716e-7 4.09742e-8 2.16845e-7 -2.34197e-8 1.77153e-7 -1.22568e-7 5.17911e-8 3.76796e-8 0.0817134 -1.18307e-5 4.83313e-8 -1.0198e-7 7.02666e-6 5.85878e-6 6.83911e-7 8.41854e-7 3.36265e-6 2.4005e-6 3.98364e-6 -8.15931e-8 -4.16957e-7 -1.74763e-7 -4.6572e-7 -3.71194e-7 -3.80574e-7 -3.88152e-7 -1.90953e-8 -8.26961e-8 -2.7962e-8 -2.79383e-8 -2.33855e-8 8.66958e-8 0.0530004 5.14113e-6 0.0550908 -0.000122896 3.83706e-5 -0.000362067 0.000228134 0.000133217 -2.48498e-7 -1.24237e-7 -1.16761e-7 -1.84634e-7 1.76214e-7 -272.156 -2.71014e-8 -2.59178e-8 -7.64469e-9 5.09602e-12 -2.67024e-7 -2.48741e-6 -3.72321e-6 -5.06405e-6 -2.30477e-6 -2.11279e-6 -2.05185e-6 -7.85222e-6 -0.000682114 -0.000393139 2.92188e-5 4.28352e-5 -9.51331e-5 -0.000190925 -0.000113887 6.46948e-9 1.25774e-8 -3.88338e-9 1.64997e-7 1.12495e-7 9.7971e-8 -1.94887e-9 1.66235e-8 -1.07083e-8 1.05557e-8 9.87585e-10 1.16599e-8 4.74542e-10 1.14355e-9 -2.5524e-9 -2.41539e-9 4.65647e-8 1.01782e-8 1.0684e-7 3.45549e-8 -6.62578e-10 1.67541e-8 -2.62183e-8 -2.10225e-7 1.75316e-8 -1.61122e-8 -3.31429e-319 -9.45301e-9 -1.09379e-9; -4.0161e-6 1.76646e-6 -1.30093e-5 -1.32925e-5 -1.42041e-5 -1.43278e-5 -5.37421e-6 3.65833e-5 -1.60754e-5 -3.23989e-5 -1.09316e-5 -4.88428e-5 -6.76952e-6 -2.22613e-5 -5.84859e-5 -1.18307e-5 0.273957 -4.10579e-6 8.66326e-6 -0.000596921 -0.000497709 -5.80989e-5 -7.15162e-5 -0.00028566 -0.000203924 -0.000338413 6.93141e-6 3.54209e-5 1.48463e-5 3.95633e-5 3.15332e-5 3.23301e-5 3.29739e-5 1.62216e-6 7.02511e-6 2.3754e-6 2.37339e-6 1.98662e-6 -7.36489e-6 -4.50243 -0.000436743 -4.68001 0.025457 0.25727 0.1511 0.0578961 0.0884505 2.11101e-5 1.0554e-5 2.23727e-5 1.56848e-5 -1.49696e-5 23119.9 2.30229e-6 2.20174e-6 6.49423e-7 1.84928e-9 2.26839e-5 0.000211308 0.00031629 0.000430196 0.000195792 0.000179484 0.000174307 0.000667053 0.0579462 0.0333975 -0.00248216 -0.00363888 0.00808165 0.0162192 0.0096748 -6.45327e-6 -7.56825e-6 -1.04825e-5 1.19518e-5 -4.14679e-5 2.66204e-5 -2.44338e-6 9.07809e-6 -2.08146e-5 5.89286e-6 -5.66596e-6 3.18072e-6 1.16025e-6 -1.82836e-6 -4.79151e-6 -3.0687e-6 -3.95572e-6 -8.64644e-7 -9.07613e-6 -2.93547e-6 5.62866e-8 -1.42327e-6 2.22727e-6 1.78588e-5 -1.48932e-6 1.36874e-6 2.81554e-317 -6.16783e-6 2.98827e-7; -5.49506e-8 -6.80898e-8 -3.37773e-8 -3.58804e-8 -1.44577e-8 3.50799e-8 3.7372e-9 1.18269e-8 -1.29141e-8 9.50853e-8 -5.50415e-8 8.2629e-9 -1.31565e-7 -2.2349e-8 -1.47467e-7 4.83313e-8 -4.10579e-6 0.020299 -7.88454e-8 3.28627e-6 2.02821e-6 5.11829e-7 5.23897e-7 2.43289e-6 1.73946e-6 2.89568e-6 -5.54946e-8 -2.95701e-7 -2.05743e-7 -3.54496e-7 -2.48224e-7 -2.58132e-7 -2.53199e-7 -1.18441e-8 -5.20784e-8 -1.06214e-8 -1.47358e-8 -1.46213e-8 5.42548e-8 0.0673789 3.34318e-6 0.0662764 -3.18763e-5 0.000832808 0.000142195 0.000385414 0.000394591 -1.58661e-7 -7.9323e-8 -3.5911e-8 -1.17886e-7 1.1251e-7 -173.767 -1.73038e-8 -1.65481e-8 -4.881e-9 1.03344e-11 -1.7049e-7 -1.58817e-6 -2.3772e-6 -3.23331e-6 -1.47155e-6 -1.34898e-6 -1.31007e-6 -5.0135e-6 -0.000435517 -0.000251012 1.86557e-5 2.73495e-5 -6.07408e-5 -0.000121902 -7.27148e-5 -1.41859e-8 -1.21355e-8 -3.60257e-8 1.85917e-7 -2.71807e-8 1.70966e-7 -9.3387e-9 4.31605e-8 -7.42379e-8 2.78047e-8 -1.66882e-8 2.03861e-8 4.0278e-9 -4.64106e-9 -1.71683e-8 -1.16996e-8 2.97308e-8 6.49858e-9 6.82153e-8 2.20627e-8 6.93496e-10 1.80381e-8 -2.31435e-8 -1.34225e-7 1.11936e-8 -1.02873e-8 -2.11613e-319 -2.76631e-8 -5.95231e-11; 1.15946e-7 1.4367e-7 7.12704e-8 7.5708e-8 3.05058e-8 -7.40189e-8 -7.88552e-9 -2.4955e-8 2.72489e-8 -2.00631e-7 1.16138e-7 -1.74348e-8 2.77603e-7 4.71565e-8 3.11158e-7 -1.0198e-7 8.66326e-6 -7.88454e-8 0.00377273 -4.50593e-6 -8.14741e-7 -1.23204e-6 -1.07789e-6 -5.71184e-6 -4.08863e-6 -6.82249e-6 1.23971e-7 6.83581e-7 6.24625e-7 8.63602e-7 5.46463e-7 5.75298e-7 5.45118e-7 2.42873e-8 1.08426e-7 7.77974e-9 2.4816e-8 3.02242e-8 -1.12255e-7 -0.210027 -7.17688e-6 -0.20277 6.72593e-5 -0.00175723 -0.000300032 -0.000813227 -0.00083259 3.34777e-7 1.67372e-7 7.57725e-8 2.4874e-7 -2.37396e-7 366.65 3.65111e-8 3.49166e-8 1.0299e-8 -2.18056e-11 3.59735e-7 3.35105e-6 5.01592e-6 6.82231e-6 3.105e-6 2.84636e-6 2.76427e-6 1.05785e-5 0.000918946 0.000529639 -3.93637e-5 -5.77077e-5 0.000128164 0.000257215 0.000153429 2.99323e-8 2.56061e-8 7.60147e-8 -3.92286e-7 5.73515e-8 -3.60739e-7 1.97047e-8 -9.10691e-8 1.56643e-7 -5.86682e-8 3.52122e-8 -4.30149e-8 -8.4987e-9 9.79268e-9 3.62254e-8 2.46863e-8 -6.27322e-8 -1.37121e-8 -1.43935e-7 -4.65525e-8 -3.72229e-9 -5.2913e-8 6.17888e-8 2.83215e-7 -2.36186e-8 2.17064e-8 4.46507e-319 5.83695e-8 1.25594e-10; -7.98901e-6 -9.89925e-6 -4.91072e-6 -5.21648e-6 -2.10193e-6 5.1001e-6 5.43333e-7 1.71946e-6 -1.87752e-6 1.3824e-5 -8.00222e-6 1.2013e-6 -1.91275e-5 -3.24921e-6 -2.14396e-5 7.02666e-6 -0.000596921 3.28627e-6 -4.50593e-6 0.0706645 0.0011624 3.63358e-5 8.30623e-5 0.000208876 0.00014814 0.000242571 -6.34631e-6 -2.80557e-5 1.77877e-5 -2.25913e-5 -3.04025e-5 -2.98577e-5 -3.40907e-5 -1.8982e-6 -7.93698e-6 -5.2077e-6 -3.71395e-6 -2.2827e-6 8.44454e-6 -7.19438 0.000455318 -6.12005 -0.00463434 0.121078 0.020673 0.0560335 0.0573676 -2.3067e-5 -1.15324e-5 -5.22092e-6 -1.71388e-5 1.63572e-5 -25263.1 -2.51571e-6 -2.40584e-6 -7.09625e-7 1.50246e-9 -2.47867e-5 -0.000230896 -0.00034561 -0.000470075 -0.000213942 -0.000196122 -0.000190465 -0.000728889 -0.0633178 -0.0364935 0.00271226 0.00397621 -0.00883082 -0.0177228 -0.0105717 -2.06242e-6 -1.76432e-6 -5.23761e-6 2.70295e-5 -3.95167e-6 2.48559e-5 -1.35771e-6 6.2749e-6 -1.07931e-5 4.04239e-6 -2.42621e-6 2.96384e-6 5.85583e-7 -6.74741e-7 -2.49602e-6 -1.70095e-6 4.32241e-6 9.44797e-7 9.91749e-6 3.20759e-6 -4.64794e-7 -1.09632e-6 -1.20794e-7 -1.95143e-5 1.62738e-6 -1.49563e-6 -3.07654e-317 -4.02181e-6 -8.65378e-9; -6.66118e-6 -8.25393e-6 -4.09452e-6 -4.34947e-6 -1.75258e-6 4.25243e-6 4.53028e-7 1.43368e-6 -1.56546e-6 1.15264e-5 -6.6722e-6 1.00164e-6 -1.59484e-5 -2.70917e-6 -1.78762e-5 5.85878e-6 -0.000497709 2.02821e-6 -8.14741e-7 0.0011624 0.568839 1.41931e-5 7.21731e-5 0.000112908 7.92165e-5 0.000126798 -4.56333e-6 -1.70764e-5 3.50044e-5 -6.59404e-6 -2.29448e-5 -2.1651e-5 -2.7274e-5 -1.65724e-6 -6.7724e-6 -5.89152e-6 -3.76132e-6 -1.96969e-6 7.27644e-6 -13.1842 0.000366644 -11.7663 -0.00386409 0.100954 0.017237 0.0467203 0.0478328 -1.92331e-5 -9.61563e-6 -4.35317e-6 -1.42902e-5 1.36386e-5 -21064.2 -2.09759e-6 -2.00598e-6 -5.9168e-7 1.25274e-9 -2.0667e-5 -0.00019252 -0.000288167 -0.000391945 -0.000178384 -0.000163525 -0.000158809 -0.000607743 -0.052794 -0.030428 0.00226146 0.00331534 -0.00736308 -0.0147771 -0.00881458 -1.71963e-6 -1.47108e-6 -4.36708e-6 2.2537e-5 -3.29488e-6 2.07247e-5 -1.13205e-6 5.23197e-6 -8.99921e-6 3.37052e-6 -2.02296e-6 2.47123e-6 4.88255e-7 -5.62595e-7 -2.08117e-6 -1.41824e-6 3.604e-6 7.87765e-7 8.26914e-6 2.67446e-6 -6.26755e-7 -2.48686e-6 1.27121e-6 -1.62709e-5 1.3569e-6 -1.24704e-6 -2.5652e-317 -3.35336e-6 "
     ]
    },
    {
     "name": "stdout",
     "output_type": "stream",
     "text": [
      "-7.21547e-9; -7.77577e-7 -9.63503e-7 -4.77964e-7 -5.07725e-7 -2.04583e-7 4.96397e-7 5.28831e-8 1.67357e-7 -1.82741e-7 1.3455e-6 -7.78863e-7 1.16924e-7 -1.8617e-6 -3.16248e-7 -2.08673e-6 6.83911e-7 -5.80989e-5 5.11829e-7 -1.23204e-6 3.63358e-5 1.41931e-5 0.264193 7.29808e-6 3.68483e-5 2.63658e-5 4.39588e-5 -8.14067e-7 -4.43406e-6 -3.709e-6 -5.50035e-6 -3.60756e-6 -3.78097e-6 -3.62838e-6 -1.64652e-7 -7.30821e-7 -8.90361e-8 -1.82238e-7 -2.04274e-7 7.58422e-7 1.23756 4.78215e-5 1.20131 -0.000451065 0.0117846 0.00201212 0.00545379 0.00558364 -2.24513e-6 -1.12246e-6 -5.08157e-7 -1.66814e-6 1.59206e-6 -2458.88 -2.44857e-7 -2.34163e-7 -6.90684e-8 1.46236e-10 -2.41251e-6 -2.24733e-5 -3.36385e-5 -4.57528e-5 -2.08232e-5 -1.90887e-5 -1.85381e-5 -7.09434e-5 -0.00616278 -0.00355194 0.000263987 0.000387008 -0.000859511 -0.00172497 -0.00102895 -2.00737e-7 -1.71723e-7 -5.09781e-7 2.63081e-6 -3.84619e-7 2.41925e-6 -1.32147e-7 6.10741e-7 -1.0505e-6 3.9345e-7 -2.36145e-7 2.88473e-7 5.69953e-8 -6.56731e-8 -2.4294e-7 -1.65555e-7 4.20704e-7 9.19579e-8 9.65278e-7 3.12197e-7 1.92717e-8 3.17435e-7 -3.81737e-7 -1.89934e-6 1.58395e-7 -1.45571e-7 -2.99442e-318 -3.91446e-7 -8.4228e-10; -9.57151e-7 -1.18601e-6 -5.88346e-7 -6.24979e-7 -2.51829e-7 6.11035e-7 6.5096e-8 2.06006e-7 -2.24943e-7 1.65623e-6 -9.58735e-7 1.43926e-7 -2.29164e-6 -3.89283e-7 -2.56864e-6 8.41854e-7 -7.15162e-5 5.23897e-7 -1.07789e-6 8.30623e-5 7.21731e-5 7.29808e-6 0.141429 3.62259e-5 2.58496e-5 4.28605e-5 -8.935e-7 -4.51634e-6 -1.55785e-6 -4.94533e-6 -4.08219e-6 -4.17046e-6 -4.29476e-6 -2.1379e-7 -9.22647e-7 -3.40601e-7 -3.23421e-7 -2.61347e-7 9.68674e-7 0.452037 5.69276e-5 0.485269 -0.000555234 0.0145062 0.0024768 0.00671329 0.00687313 -2.76362e-6 -1.38168e-6 -6.25511e-7 -2.05338e-6 1.95974e-6 -3026.74 -3.01404e-7 -2.8824e-7 -8.50191e-8 1.80008e-10 -2.96966e-6 -2.76633e-5 -4.1407e-5 -5.6319e-5 -2.56321e-5 -2.34971e-5 -2.28193e-5 -8.73271e-5 -0.00758601 -0.00437223 0.000324952 0.000476384 -0.00105801 -0.00212334 -0.00126657 -2.47095e-7 -2.11381e-7 -6.2751e-7 3.23837e-6 -4.73444e-7 2.97795e-6 -1.62665e-7 7.51786e-7 -1.2931e-6 4.84313e-7 -2.90681e-7 3.55093e-7 7.01578e-8 -8.08397e-8 -2.99045e-7 -2.03788e-7 5.17862e-7 1.13195e-7 1.1882e-6 3.84296e-7 -1.19428e-8 1.56254e-7 -2.65349e-7 -2.33798e-6 1.94975e-7 -1.79189e-7 -3.68596e-318 -4.81847e-7 -1.0368e-9; -3.82318e-6 -4.73734e-6 -2.35005e-6 -2.49638e-6 -1.00589e-6 2.44068e-6 2.60015e-7 8.22858e-7 -8.98498e-7 6.61555e-6 -3.82951e-6 5.74891e-7 -9.15359e-6 -1.55493e-6 -1.026e-5 3.36265e-6 -0.00028566 2.43289e-6 -5.71184e-6 0.000208876 0.000112908 3.68483e-5 3.62259e-5 0.00317743 0.000124428 0.000207267 -3.91701e-6 -2.10589e-5 -1.58653e-5 -2.56051e-5 -1.7455e-5 -1.82089e-5 -1.77047e-5 -8.18322e-7 -3.61146e-6 -6.19879e-7 -9.74148e-7 -1.01217e-6 3.75667e-6 5.24025 0.000233601 5.12341 -0.00221779 0.0579425 0.00989318 0.0268151 0.0274536 -1.10388e-5 -5.51889e-6 -2.4985e-6 -8.20188e-6 7.82784e-6 -12089.8 -1.20391e-6 -1.15133e-6 -3.39595e-7 7.19012e-10 -1.18618e-5 -0.000110497 -0.000165393 -0.000224957 -0.000102383 -9.38552e-5 -9.11481e-5 -0.000348814 -0.0303011 -0.0174642 0.00129797 0.00190284 -0.00422604 -0.00848132 -0.00505913 -9.86981e-7 -8.44327e-7 -2.50649e-6 1.29351e-5 -1.89109e-6 1.18949e-5 -6.49739e-7 3.00289e-6 -5.1651e-6 1.93451e-6 -1.16108e-6 1.41836e-6 2.80234e-7 -3.22901e-7 -1.19449e-6 -8.13999e-7 2.06851e-6 4.52138e-7 4.74607e-6 1.53501e-6 6.66388e-8 1.3759e-6 -1.71567e-6 -9.33867e-6 7.78794e-7 -7.1574e-7 -1.4723e-317 -1.92466e-6 -4.14132e-9; -2.72926e-6 -3.38185e-6 -1.67763e-6 -1.78209e-6 -7.18077e-7 1.74233e-6 1.85617e-7 5.87415e-7 -6.41412e-7 4.72265e-6 -2.73378e-6 4.10398e-7 -6.53449e-6 -1.11002e-6 -7.32434e-6 2.4005e-6 -0.000203924 1.73946e-6 -4.08863e-6 0.00014814 7.92165e-5 2.63658e-5 2.58496e-5 0.000124428 0.039346 0.000148247 -2.79899e-6 -1.50572e-5 -1.1402e-5 -1.8325e-5 -1.24697e-5 -1.30111e-5 -1.26432e-5 -5.83895e-7 -2.57754e-6 -4.36664e-7 -6.92907e-7 -7.22311e-7 2.68089e-6 3.768 0.00016681 3.68262 -0.00158322 0.0413635 0.00706246 0.0191425 0.0195983 -7.88031e-6 -3.93978e-6 -1.78361e-6 -5.85509e-6 5.58807e-6 -8630.58 -8.59436e-7 -8.21901e-7 -2.42427e-7 5.13282e-10 -8.46782e-6 -7.88804e-5 -0.00011807 -0.00016059 -7.30885e-5 -6.70005e-5 -6.50681e-5 -0.000249008 -0.0216311 -0.0124672 0.000926582 0.00135838 -0.00301685 -0.00605458 -0.00361157 -7.04577e-7 -6.02741e-7 -1.78931e-6 9.23401e-6 -1.35e-6 8.49145e-6 -4.6383e-7 2.14368e-6 -3.68721e-6 1.38099e-6 -8.28859e-7 1.01253e-6 2.00051e-7 -2.3051e-7 -8.52709e-7 -5.81091e-7 1.47665e-6 3.22768e-7 3.38808e-6 1.0958e-6 4.84748e-8 9.88157e-7 -1.22995e-6 -6.66661e-6 5.55959e-7 -5.10946e-7 -1.05103e-317 -1.37396e-6 -2.95637e-9; -4.52922e-6 -5.6122e-6 -2.78404e-6 -2.95739e-6 -1.19165e-6 2.89141e-6 3.08033e-7 9.74818e-7 -1.06443e-6 7.83726e-6 -4.53671e-6 6.81057e-7 -1.0844e-5 -1.84208e-6 -1.21548e-5 3.98364e-6 -0.000338413 2.89568e-6 -6.82249e-6 0.000242571 0.000126798 4.39588e-5 4.28605e-5 0.000207267 0.000148247 0.00699961 -4.65419e-6 -2.50678e-5 -1.9178e-5 -3.0566e-5 -2.07241e-5 -2.16331e-5 -2.09961e-5 -9.68029e-7 -4.27547e-6 -7.04955e-7 -1.14143e-6 -1.19783e-6 4.44596e-6 6.34433 0.000276987 6.196 -0.00262736 0.0686429 0.0117202 0.0317671 0.0325235 -1.30774e-5 -6.53808e-6 -2.95991e-6 -9.71654e-6 9.27343e-6 -14322.5 -1.42624e-6 -1.36395e-6 -4.02309e-7 8.51793e-10 -1.40524e-5 -0.000130902 -0.000195937 -0.0002665 -0.000121291 -0.000111188 -0.000107981 -0.00041323 -0.0358969 -0.0206893 0.00153767 0.00225424 -0.00500647 -0.0100476 -0.00599341 -1.16925e-6 -1.00025e-6 -2.96937e-6 1.53239e-5 -2.24033e-6 1.40916e-5 -7.69728e-7 3.55744e-6 -6.11895e-6 2.29176e-6 -1.37549e-6 1.68029e-6 3.31985e-7 -3.82532e-7 -1.41507e-6 -9.64322e-7 2.45051e-6 5.35635e-7 5.62254e-6 1.81848e-6 8.34841e-8 1.65984e-6 -2.05854e-6 -1.10633e-5 9.22616e-7 -8.47917e-7 -1.74419e-317 -2.28009e-6 -4.9061e-9; 9.27679e-8 1.14949e-7 5.70229e-8 6.05735e-8 2.44075e-8 -5.9222e-8 -6.30915e-9 -1.99663e-8 2.18017e-8 -1.60523e-7 9.29213e-8 -1.39495e-8 2.22108e-7 3.77296e-8 2.48955e-7 -8.15931e-8 6.93141e-6 -5.54946e-8 1.23971e-7 -6.34631e-6 -4.56333e-6 -8.14067e-7 -8.935e-7 -3.91701e-6 -2.79899e-6 -4.65419e-6 0.576175 4.79591e-7 2.84693e-7 5.60446e-7 4.11586e-7 4.25706e-7 4.23878e-7 2.02267e-8 8.8399e-8 2.27423e-8 2.6941e-8 2.48899e-8 -9.23242e-8 -0.0914365 -5.60361e-6 -0.0911967 5.38137e-5 -0.00140595 -0.000240054 -0.000650657 -0.000666149 2.67852e-7 1.33913e-7 6.0625e-8 1.99015e-7 -1.89939e-7 293.354 2.92123e-8 2.79365e-8 8.24012e-9 -1.74465e-11 2.87822e-7 2.68115e-6 4.0132e-6 5.45848e-6 2.48428e-6 2.27735e-6 2.21167e-6 8.46381e-6 0.000735242 0.00042376 -3.14946e-5 -4.61715e-5 0.000102543 0.000205796 0.000122757 2.39486e-8 2.04872e-8 6.08188e-8 -3.13865e-7 4.58865e-8 -2.88625e-7 1.57656e-8 -7.28637e-8 1.25329e-7 -4.694e-8 2.8173e-8 -3.44159e-8 -6.79975e-9 7.83505e-9 2.89837e-8 1.97513e-8 -5.01916e-8 -1.09709e-8 -1.15161e-7 -3.72463e-8 -4.27953e-10 -2.55683e-8 3.48107e-8 2.26599e-7 -1.88971e-8 1.73671e-8 3.57244e-319 4.6701e-8 1.00487e-10; 4.74062e-7 5.87415e-7 2.91398e-7 3.09542e-7 1.24727e-7 -3.02636e-7 -3.2241e-8 -1.02032e-7 1.11411e-7 -8.20306e-7 4.74846e-7 -7.12845e-8 1.13502e-6 1.92806e-7 1.27221e-6 -4.16957e-7 3.54209e-5 -2.95701e-7 6.83581e-7 -2.80557e-5 -1.70764e-5 -4.43406e-6 -4.51634e-6 -2.10589e-5 -1.50572e-5 -2.50678e-5 4.79591e-7 0.616115 1.79811e-6 3.07231e-6 2.1442e-6 2.23064e-6 2.18568e-6 1.02094e-7 4.49106e-7 8.98532e-8 1.26364e-7 1.26063e-7 -4.67789e-7 -0.589529 -2.88567e-5 -0.579419 0.000274999 -0.00718468 -0.00122672 -0.00332499 -0.00340416 1.36878e-6 6.84324e-7 3.09806e-7 1.01701e-6 -9.70626e-7 1499.1 1.49281e-7 1.42761e-7 4.21086e-8 -8.91551e-11 1.47083e-6 1.37012e-5 2.05082e-5 2.78939e-5 1.26952e-5 1.16377e-5 1.13021e-5 4.32517e-5 0.00375723 0.0021655 -0.000160944 -0.000235945 0.000524014 0.00105166 0.000627315 1.22382e-7 1.04694e-7 3.10796e-7 -1.60391e-6 2.34489e-7 -1.47493e-6 8.05655e-8 -3.72348e-7 6.40455e-7 -2.39873e-7 1.4397e-7 -1.75872e-7 -3.47481e-8 4.00387e-8 1.48112e-7 1.00933e-7 -2.56489e-7 -5.60636e-8 -5.88497e-7 -1.90336e-7 -6.2574e-9 -1.57421e-7 2.01235e-7 1.15796e-6 -9.65678e-8 8.87493e-8 1.8256e-318 2.38651e-7 5.13509e-10; 1.98698e-7 2.46208e-7 1.22136e-7 1.29741e-7 5.22779e-8 -1.26847e-7 -1.35135e-8 -4.27654e-8 4.66966e-8 -3.43822e-7 1.99026e-7 -2.98781e-8 4.75729e-7 8.08124e-8 5.33232e-7 -1.74763e-7 1.48463e-5 -2.05743e-7 6.24625e-7 1.77877e-5 3.50044e-5 -3.709e-6 -1.55785e-6 -1.58653e-5 -1.1402e-5 -1.9178e-5 2.84693e-7 1.79811e-6 0.518875 2.69455e-6 1.17504e-6 1.30775e-6 1.04833e-6 3.42262e-8 1.70472e-7 -1.40385e-7 -2.34147e-8 4.52087e-8 -1.69013e-7 -1.07282 -1.35885e-5 -1.00858 0.000115263 -0.00301138 -0.000514166 -0.00139363 -0.00142681 5.73708e-7 2.86827e-7 1.29852e-7 4.26266e-7 -4.06827e-7 628.329 6.25693e-8 5.98367e-8 1.76494e-8 -3.73683e-11 6.1648e-7 5.74271e-6 8.5958e-6 1.16914e-5 5.32104e-6 4.87782e-6 4.73713e-6 1.81285e-5 0.0015748 0.000907644 -6.74577e-5 -9.88939e-5 0.000219635 0.00044079 0.000262932 5.12952e-8 4.38812e-8 1.30267e-7 -6.72261e-7 9.82835e-8 -6.18201e-7 3.37681e-8 -1.56065e-7 2.68439e-7 -1.0054e-7 6.03432e-8 -7.37148e-8 -1.45643e-8 1.67817e-8 6.20796e-8 4.2305e-8 -1.07504e-7 -2.34984e-8 -2.46662e-7 -7.97771e-8 -3.01117e-8 -2.46714e-7 2.41999e-7 4.85347e-7 -4.04753e-8 3.71983e-8 7.65179e-319 1.00028e-7 2.15232e-10; 5.29503e-7 6.56112e-7 3.25477e-7 3.45743e-7 1.39314e-7 -3.38029e-7 -3.60116e-8 -1.13964e-7 1.2444e-7 -9.1624e-7 5.30379e-7 -7.96212e-8 1.26775e-6 2.15354e-7 1.42099e-6 -4.6572e-7 3.95633e-5 -3.54496e-7 8.63602e-7 -2.25913e-5 -6.59404e-6 -5.50035e-6 -4.94533e-6 -2.56051e-5 -1.8325e-5 -3.0566e-5 5.60446e-7 3.07231e-6 2.69455e-6 0.267019 2.47675e-6 2.60186e-6 2.48043e-6 1.11499e-7 4.9637e-7 4.76621e-8 1.18535e-7 1.38548e-7 -5.14489e-7 -0.902879 -3.26736e-5 -0.873826 0.00030716 -0.00802492 -0.00137019 -0.00371384 -0.00380227 1.52886e-6 7.64355e-7 3.46038e-7 1.13594e-6 -1.08414e-6 1674.42 1.66739e-7 1.59457e-7 4.70332e-8 -9.95817e-11 1.64284e-6 1.53036e-5 2.29067e-5 3.11561e-5 1.41799e-5 1.29988e-5 1.26238e-5 4.831e-5 0.00419664 0.00241875 -0.000179766 -0.000263539 0.000585298 0.00117465 0.000700679 1.36695e-7 1.16938e-7 3.47143e-7 -1.79149e-6 2.61913e-7 -1.64742e-6 8.99876e-8 -4.15894e-7 7.15356e-7 -2.67926e-7 1.60807e-7 -1.9644e-7 -3.88118e-8 4.47212e-8 1.65434e-7 1.12737e-7 -2.86485e-7 -6.26202e-8 -6.57321e-7 -2.12596e-7 -1.51256e-8 -2.29326e-7 2.71433e-7 1.29339e-6 -1.07861e-7 9.91285e-8 2.0391e-318 2.66561e-7 5.73564e-10; 4.22031e-7 5.22943e-7 2.59416e-7 2.75568e-7 1.11038e-7 -2.6942e-7 -2.87024e-8 -9.08332e-8 9.91828e-8 -7.30273e-7 4.22729e-7 -6.34607e-8 1.01044e-6 1.71644e-7 1.13258e-6 -3.71194e-7 3.15332e-5 -2.48224e-7 5.46463e-7 -3.04025e-5 -2.29448e-5 -3.60756e-6 -4.08219e-6 -1.7455e-5 -1.24697e-5 -2.07241e-5 4.11586e-7 2.1442e-6 1.17504e-6 2.47675e-6 0.612395 1.91736e-6 1.92151e-6 9.24617e-8 4.03076e-7 1.12688e-7 1.26521e-7 1.13628e-7 -4.21415e-7 -0.373187 -2.54153e-5 -0.375205 0.000244816 -0.00639612 -0.00109208 -0.00296005 -0.00303053 1.21855e-6 6.09216e-7 2.75803e-7 9.05384e-7 -8.64095e-7 1334.56 1.32896e-7 1.27092e-7 3.7487e-8 -7.93698e-11 1.3094e-6 1.21974e-5 1.82574e-5 2.48324e-5 1.13018e-5 1.03604e-5 1.00616e-5 3.85046e-5 0.00334486 0.00192782 -0.000143279 -0.000210049 0.000466501 0.000936231 0.000558464 1.0895e-7 9.32031e-8 2.76684e-7 -1.42787e-6 2.08753e-7 -1.31305e-6 7.1723e-8 -3.31481e-7 5.70161e-7 -2.13545e-7 1.28168e-7 -1.56569e-7 -3.09343e-8 3.56442e-8 1.31856e-7 8.98552e-8 -2.28338e-7 -4.99103e-8 -5.23906e-7 -1.69446e-7 -5.22474e-10 -1.06953e-7 1.50196e-7 1.03087e-6 -8.5969e-8 7.90086e-8 1.62523e-318 2.12458e-7 4.57149e-10; 4.32696e-7 5.36158e-7 2.65971e-7 2.82532e-7 1.13844e-7 -2.76229e-7 -2.94277e-8 -9.31286e-8 1.01689e-7 -7.48727e-7 4.33412e-7 -6.50644e-8 1.03598e-6 1.75982e-7 1.1612e-6 -3.80574e-7 3.23301e-5 -2.58132e-7 5.75298e-7 -2.98577e-5 -2.1651e-5 -3.78097e-6 -4.17046e-6 -1.82089e-5 -1.30111e-5 -2.16331e-5 4.25706e-7 2.23064e-6 1.30775e-6 2.60186e-6 1.91736e-6 0.541963 1.97594e-6 9.44176e-8 4.12473e-7 1.07623e-7 1.26324e-7 1.1616e-7 -4.30862e-7 -0.419313 -2.61239e-5 -0.418715 0.000251003 -0.00655775 -0.00111968 -0.00303485 -0.00310711 1.24934e-6 6.24611e-7 2.82773e-7 9.28264e-7 -8.85931e-7 1368.29 1.36255e-7 1.30304e-7 3.84343e-8 -8.13755e-11 1.34248e-6 1.25057e-5 1.87187e-5 2.54599e-5 1.15874e-5 1.06222e-5 1.03159e-5 3.94777e-5 0.00342938 0.00197654 -0.0001469 -0.000215357 0.00047829 0.00095989 0.000572576 1.11703e-7 9.55584e-8 2.83676e-7 -1.46396e-6 2.14028e-7 -1.34623e-6 7.35355e-8 -3.39858e-7 5.8457e-7 -2.18942e-7 1.31407e-7 -1.60526e-7 -3.1716e-8 3.65449e-8 1.35188e-7 9.21259e-8 -2.34108e-7 -5.11716e-8 -5.37145e-7 -1.73728e-7 -1.75727e-9 -1.17688e-7 1.60998e-7 1.05692e-6 -8.81415e-8 8.10052e-8 1.6663e-318 2.17827e-7 4.68701e-10; 4.41312e-7 5.46834e-7 2.71267e-7 2.88158e-7 1.1611e-7 -2.81729e-7 -3.00137e-8 -9.49829e-8 1.03714e-7 -7.63636e-7 4.42042e-7 -6.63599e-8 1.0566e-6 1.79486e-7 1.18432e-6 -3.88152e-7 3.29739e-5 -2.53199e-7 5.45118e-7 -3.40907e-5 -2.7274e-5 -3.62838e-6 -4.29476e-6 -1.77047e-5 -1.26432e-5 -2.09961e-5 4.23878e-7 2.18568e-6 1.04833e-6 2.48043e-6 1.92151e-6 1.97594e-6 0.259954 9.73524e-8 4.22874e-7 1.31691e-7 1.38245e-7 1.19413e-7 -4.42773e-7 -0.325981 -2.64602e-5 -0.33276 0.000256001 -0.00668833 -0.00114197 -0.00309528 -0.00316898 1.27422e-6 6.37048e-7 2.88403e-7 9.46747e-7 -9.03572e-7 1395.53 1.38968e-7 1.32899e-7 3.91996e-8 -8.29959e-11 1.36922e-6 1.27547e-5 1.90914e-5 2.59669e-5 1.18182e-5 1.08337e-5 1.05213e-5 4.02637e-5 0.00349767 0.0020159 -0.000149825 -0.000219645 0.000487813 0.000979003 0.000583977 1.13928e-7 9.74611e-8 2.89325e-7 -1.49311e-6 2.1829e-7 -1.37304e-6 7.49997e-8 -3.46625e-7 5.9621e-7 -2.23301e-7 1.34024e-7 -1.63722e-7 -3.23475e-8 3.72726e-8 1.3788e-7 9.39603e-8 -2.3877e-7 -5.21905e-8 -5.47841e-7 -1.77187e-7 1.59277e-9 -9.77753e-8 1.4479e-7 1.07797e-6 -8.98965e-8 8.26182e-8 1.69948e-318 2.22164e-7 4.78034e-10; 2.17105e-8 2.69017e-8 1.33451e-8 1.4176e-8 5.7121e-9 -1.38598e-8 -1.47653e-9 -4.67272e-9 5.10225e-9 -3.75674e-8 2.17464e-8 -3.2646e-9 5.198e-8 8.82988e-9 5.82631e-8 -1.90953e-8 1.62216e-6 -1.18441e-8 2.42873e-8 -1.8982e-6 -1.65724e-6 -1.64652e-7 -2.1379e-7 -8.18322e-7 -5.83895e-7 -9.68029e-7 2.02267e-8 1.02094e-7 3.42262e-8 1.11499e-7 9.24617e-8 9.44176e-8 9.73524e-8 0.406691 2.09364e-8 7.81088e-9 7.37253e-9 5.93163e-9 -2.19848e-8 -0.00985804 -1.29054e-6 -0.0106405 1.25941e-5 -0.000329035 -5.61799e-5 -0.000152274 -0.000155899 6.26857e-8 3.13398e-8 1.41881e-8 4.65756e-8 -4.44516e-8 68.6538 6.83657e-9 6.538e-9 1.92844e-9 -4.08301e-12 6.73591e-8 6.27472e-7 9.39211e-7 1.27745e-6 5.81399e-7 5.3297e-7 5.17598e-7 1.98079e-6 0.000172069 9.91728e-5 -7.3707e-6 -1.08055e-5 2.39982e-5 4.81625e-5 2.8729e-5 5.60472e-9 4.79464e-9 1.42335e-8 -7.3454e-8 1.07389e-8 -6.75471e-8 3.68964e-9 -1.70523e-8 2.93308e-8 -1.09854e-8 6.59334e-9 -8.05438e-9 -1.59135e-9 1.83364e-9 6.78306e-9 4.62241e-9 -1.17464e-8 -2.56753e-9 -2.69513e-8 -8.71677e-9 2.84051e-10 -3.45771e-9 5.94329e-9 5.3031e-8 -4.4225e-9 4.06443e-9 8.36058e-320 1.09295e-8 2.35171e-11; 9.40219e-8 1.16503e-7 5.77938e-8 6.13923e-8 2.47374e-8 -6.00226e-8 -6.39444e-9 -2.02362e-8 2.20964e-8 -1.62693e-7 9.41774e-8 -1.4138e-8 2.2511e-7 3.82396e-8 2.5232e-7 -8.26961e-8 7.02511e-6 -5.20784e-8 1.08426e-7 -7.93698e-6 -6.7724e-6 -7.30821e-7 -9.22647e-7 -3.61146e-6 -2.57754e-6 -4.27547e-6 8.8399e-8 4.49106e-7 1.70472e-7 4.9637e-7 4.03076e-7 4.12473e-7 4.22874e-7 2.09364e-8 0.349983 3.21179e-8 3.11953e-8 2.5615e-8 -9.49503e-8 -0.0506168 -5.6033e-6 -0.0534297 5.45412e-5 -0.00142495 -0.000243299 -0.000659453 -0.000675155 2.71473e-7 1.35724e-7 6.14446e-8 2.01705e-7 -1.92507e-7 297.32 2.96072e-8 2.83141e-8 8.35151e-9 -1.76823e-11 2.91713e-7 2.7174e-6 4.06745e-6 5.53227e-6 2.51787e-6 2.30814e-6 2.24157e-6 8.57822e-6 0.000745181 0.000429488 -3.19203e-5 -4.67956e-5 0.000103929 0.000208578 0.000124417 2.42724e-8 2.07642e-8 6.16409e-8 -3.18108e-7 4.65068e"
     ]
    },
    {
     "name": "stdout",
     "output_type": "stream",
     "text": [
      "-8 -2.92527e-7 1.59787e-8 -7.38487e-8 1.27023e-7 -4.75746e-8 2.85538e-8 -3.48812e-8 -6.89167e-9 7.94097e-9 2.93755e-8 2.00183e-8 -5.08701e-8 -1.11192e-8 -1.16718e-7 -3.77498e-8 9.6633e-10 -1.67088e-8 2.72517e-8 2.29662e-7 -1.91525e-8 1.76019e-8 3.62076e-319 4.73323e-8 1.01846e-10; 3.17916e-8 3.93932e-8 1.95418e-8 2.07585e-8 8.36445e-9 -2.02954e-8 -2.16215e-9 -6.84245e-9 7.47143e-9 -5.50114e-8 3.18442e-8 -4.78048e-9 7.61164e-8 1.29299e-8 8.53169e-8 -2.7962e-8 2.3754e-6 -1.06214e-8 7.77974e-9 -5.2077e-6 -5.89152e-6 -8.90361e-8 -3.40601e-7 -6.19879e-7 -4.36664e-7 -7.04955e-7 2.27423e-8 8.98532e-8 -1.40385e-7 4.76621e-8 1.12688e-7 1.07623e-7 1.31691e-7 7.81088e-9 3.21179e-8 0.594483 1.70725e-8 9.31286e-9 -3.44166e-8 0.0534205 -1.76706e-6 0.0473439 1.8442e-5 -0.000481819 -8.22664e-5 -0.00022298 -0.00022829 9.17931e-8 4.58922e-8 2.07762e-8 6.82025e-8 -6.50922e-8 100.532 1.00111e-8 9.57384e-9 2.82389e-9 -5.97892e-12 9.86366e-8 9.18832e-7 1.37532e-6 1.87062e-6 8.51365e-7 7.8045e-7 7.57939e-7 2.90055e-6 0.000251968 0.000145223 -1.07932e-5 -1.5823e-5 3.51415e-5 7.05262e-5 4.2069e-5 8.20721e-9 7.02098e-9 2.08426e-8 -1.07562e-7 1.57253e-8 -9.89119e-8 5.40288e-9 -2.49704e-8 4.29502e-8 -1.60864e-8 9.65489e-9 -1.17943e-8 -2.33028e-9 2.68507e-9 9.93271e-9 6.76878e-9 -1.72007e-8 -3.75974e-9 -3.94658e-8 -1.27643e-8 2.67492e-9 9.78892e-9 -4.25264e-9 7.76554e-8 -6.47604e-9 5.95171e-9 1.22429e-319 1.60044e-8 3.4437e-11; 3.17647e-8 3.93599e-8 1.95252e-8 2.0741e-8 8.35738e-9 -2.02782e-8 -2.16032e-9 -6.83667e-9 7.46511e-9 -5.49649e-8 3.18172e-8 -4.77644e-9 7.60521e-8 1.2919e-8 8.52448e-8 -2.79383e-8 2.37339e-6 -1.47358e-8 2.4816e-8 -3.71395e-6 -3.76132e-6 -1.82238e-7 -3.23421e-7 -9.74148e-7 -6.92907e-7 -1.14143e-6 2.6941e-8 1.26364e-7 -2.34147e-8 1.18535e-7 1.26521e-7 1.26324e-7 1.38245e-7 7.37253e-9 3.11953e-8 1.70725e-8 0.183339 8.92044e-9 -3.30237e-8 0.0117538 -1.84085e-6 0.0087067 1.84264e-5 -0.000481412 -8.21969e-5 -0.000222792 -0.000228097 9.17155e-8 4.58533e-8 2.07586e-8 6.81448e-8 -6.50371e-8 100.447 1.00026e-8 9.56575e-9 2.8215e-9 -5.97386e-12 9.85532e-8 9.18055e-7 1.37416e-6 1.86904e-6 8.50645e-7 7.7979e-7 7.57299e-7 2.8981e-6 0.000251755 0.0001451 -1.07841e-5 -1.58096e-5 3.51118e-5 7.04666e-5 4.20334e-5 8.20027e-9 7.01504e-9 2.0825e-8 -1.07471e-7 1.5712e-8 -9.88283e-8 5.39832e-9 -2.49493e-8 4.29139e-8 -1.60727e-8 9.64673e-9 -1.17844e-8 -2.3283e-9 2.6828e-9 9.92431e-9 6.76306e-9 -1.71861e-8 -3.75656e-9 -3.94324e-8 -1.27535e-8 1.28705e-9 6.706e-10 3.6977e-9 7.75898e-8 -6.47056e-9 5.94668e-9 1.22326e-319 1.59909e-8 3.44079e-11; 2.65883e-8 3.29458e-8 1.63434e-8 1.7361e-8 6.99545e-9 -1.69737e-8 -1.80827e-9 -5.72255e-9 6.24859e-9 -4.60077e-8 2.66322e-8 -3.99807e-9 6.36585e-8 1.08137e-8 7.13531e-8 -2.33855e-8 1.98662e-6 -1.46213e-8 3.02242e-8 -2.2827e-6 -1.96969e-6 -2.04274e-7 -2.61347e-7 -1.01217e-6 -7.22311e-7 -1.19783e-6 2.48899e-8 1.26063e-7 4.52087e-8 1.38548e-7 1.13628e-7 1.1616e-7 1.19413e-7 5.93163e-9 2.5615e-8 9.31286e-9 8.92044e-9 0.146302 -2.68858e-8 -0.0132457 -1.58261e-6 -0.0141188 1.54236e-5 -0.00040296 -6.88019e-5 -0.000186485 -0.000190926 7.67694e-8 3.8381e-8 1.73758e-8 5.70398e-8 -5.44386e-8 84.0784 8.37256e-9 8.0069e-9 2.36171e-9 -5.00035e-12 8.24928e-8 7.68447e-7 1.15023e-6 1.56446e-6 7.12022e-7 6.52714e-7 6.33888e-7 2.42582e-6 0.000210728 0.000121454 -9.02668e-6 -1.32332e-5 2.93899e-5 5.89832e-5 3.51836e-5 6.86394e-9 5.87186e-9 1.74313e-8 -8.9957e-8 1.31516e-8 -8.2723e-8 4.5186e-9 -2.08835e-8 3.59206e-8 -1.34535e-8 8.07468e-9 -9.86397e-9 -1.94888e-9 2.24561e-9 8.30703e-9 5.66094e-9 -1.43854e-8 -3.14438e-9 -3.30064e-8 -1.06752e-8 3.08824e-10 -4.49127e-9 7.50252e-9 6.49456e-8 -5.41611e-9 4.9776e-9 1.0239e-319 1.3385e-8 2.88007e-11; -9.85694e-8 -1.22138e-7 -6.0589e-8 -6.43616e-8 -2.59339e-8 6.29256e-8 6.70371e-9 2.12149e-8 -2.31651e-8 1.70562e-7 -9.87324e-8 1.48218e-8 -2.35998e-7 -4.00891e-8 -2.64524e-7 8.66958e-8 -7.36489e-6 5.42548e-8 -1.12255e-7 8.44454e-6 7.27644e-6 7.58422e-7 9.68674e-7 3.75667e-6 2.68089e-6 4.44596e-6 -9.23242e-8 -4.67789e-7 -1.69013e-7 -5.14489e-7 -4.21415e-7 -4.30862e-7 -4.42773e-7 -2.19848e-8 -9.49503e-8 -3.44166e-8 -3.30237e-8 -2.68858e-8 0.00271164 0.0496086 5.86805e-6 0.0528088 -5.71791e-5 0.00149387 0.000255066 0.000691348 0.000707809 -2.84603e-7 -1.42288e-7 -6.44164e-8 -2.11461e-7 2.01817e-7 -311.7 -3.10392e-8 -2.96836e-8 -8.75544e-9 1.85376e-11 -3.05822e-7 -2.84883e-6 -4.26418e-6 -5.79984e-6 -2.63965e-6 -2.41977e-6 -2.34998e-6 -8.99312e-6 -0.000781223 -0.000450261 3.34642e-5 4.9059e-5 -0.000108956 -0.000218666 -0.000130434 -2.54463e-8 -2.17685e-8 -6.46223e-8 3.33493e-7 -4.87562e-8 3.06675e-7 -1.67516e-8 7.74204e-8 -1.33167e-7 4.98755e-8 -2.99349e-8 3.65682e-8 7.22499e-9 -8.32504e-9 -3.07962e-8 -2.09865e-8 5.33304e-8 1.1657e-8 1.22363e-7 3.95756e-8 -1.12813e-9 1.67605e-8 -2.79098e-8 -2.4077e-7 2.00789e-8 -1.84532e-8 -3.79586e-319 -4.96216e-8 -1.06771e-10; -0.0602592 -0.0746677 -0.0370404 -0.0393467 -0.0158544 0.0384688 0.00409823 0.0129695 -0.0141617 0.104271 -0.0603589 0.00906115 -0.144275 -0.024508 -0.161714 0.0530004 -4.50243 0.0673789 -0.210027 -7.19438 -13.1842 1.23756 0.452037 5.24025 3.768 6.34433 -0.0914365 -0.589529 -1.07282 -0.902879 -0.373187 -0.419313 -0.325981 -0.00985804 -0.0506168 0.0534205 0.0117538 -0.0132457 0.0496086 4.20118e5 4.21197 3.52518e5 -34.9558 913.262 155.932 422.647 432.711 -0.173989 -0.0869861 -0.0393802 -0.129274 0.123379 -1.90554e8 -0.0189754 -0.0181467 -0.00535253 1.13327e-5 -0.18696 -1.7416 -2.60685 -3.54566 -1.61372 -1.4793 -1.43663 -5.49783 -477.591 -275.262 20.4579 29.9916 -66.6087 -133.679 -79.7395 -0.0155563 -0.0133079 -0.039506 0.203877 -0.0298065 0.187482 -0.0102409 0.0473301 -0.0814098 0.0304908 -0.0183003 0.0223555 0.00441691 -0.00508941 -0.0188269 -0.0128299 0.0326029 0.00712638 0.0748053 0.0241941 0.0108065 0.0858309 -0.0829951 -0.147192 0.012275 -0.0112811 -2.32056e-313 -0.0303356 -6.52734e-5; -5.84524e-6 -7.24289e-6 -3.59297e-6 -3.81669e-6 -1.5379e-6 3.73154e-6 3.97535e-7 1.25806e-6 -1.37371e-6 1.01145e-5 -5.85491e-6 8.78946e-7 -1.39949e-5 -2.37732e-6 -1.56865e-5 5.14113e-6 -0.000436743 3.34318e-6 -7.17688e-6 0.000455318 0.000366644 4.78215e-5 5.69276e-5 0.000233601 0.00016681 0.000276987 -5.60361e-6 -2.88567e-5 -1.35885e-5 -3.26736e-5 -2.54153e-5 -2.61239e-5 -2.64602e-5 -1.29054e-6 -5.6033e-6 -1.76706e-6 -1.84085e-6 -1.58261e-6 5.86805e-6 4.21197 0.102263 4.30945 -0.00339076 0.0885879 0.0151256 0.0409974 0.0419736 -1.68772e-5 -8.43779e-6 -3.81994e-6 -1.25398e-5 1.19679e-5 -18484.0 -1.84065e-6 -1.76026e-6 -5.19204e-7 1.09929e-9 -1.81355e-5 -0.000168938 -0.000252869 -0.000343935 -0.000156533 -0.000143494 -0.000139356 -0.000533299 -0.0463271 -0.0267008 0.00198445 0.00290923 -0.00646116 -0.012967 -0.00773486 -1.50899e-6 -1.29089e-6 -3.83215e-6 1.97764e-5 -2.89128e-6 1.81861e-5 -9.93381e-7 4.59109e-6 -7.89688e-6 2.95766e-6 -1.77516e-6 2.16852e-6 4.28447e-7 -4.93681e-7 -1.82624e-6 -1.24452e-6 3.16254e-6 6.9127e-7 7.25623e-6 2.34686e-6 -2.4615e-8 1.27191e-6 -1.89758e-6 -1.42778e-5 1.19069e-6 -1.09429e-6 -2.25098e-317 -2.9426e-6 -6.33163e-9; -0.0626358 -0.0776126 -0.0385012 -0.0408985 -0.0164797 0.0399861 0.00425987 0.013481 -0.0147202 0.108384 -0.0627395 0.00941853 -0.149965 -0.0254746 -0.168092 0.0550908 -4.68001 0.0662764 -0.20277 -6.12005 -11.7663 1.20131 0.485269 5.12341 3.68262 6.196 -0.0911967 -0.579419 -1.00858 -0.873826 -0.375205 -0.418715 -0.33276 -0.0106405 -0.0534297 0.0473439 0.0087067 -0.0141188 0.0528088 3.52518e5 4.30945 3.83412e5 -36.3344 949.281 162.082 439.316 449.777 -0.180851 -0.0904169 -0.0409334 -0.134373 0.128245 -1.98069e8 -0.0197238 -0.0188624 -0.00556364 1.17797e-5 -0.194334 -1.81028 -2.70967 -3.68551 -1.67736 -1.53764 -1.49329 -5.71467 -496.427 -286.118 21.2648 31.1745 -69.2358 -138.951 -82.8845 -0.0161699 -0.0138328 -0.0410642 0.211918 -0.0309821 0.194877 -0.0106448 0.0491968 -0.0846206 0.0316934 -0.0190221 0.0232373 0.00459112 -0.00529014 -0.0195695 -0.0133359 0.0338888 0.00740744 0.0777556 0.0251483 0.00996927 0.080909 -0.0790222 -0.152997 0.0127591 -0.0117261 -2.41209e-313 -0.031532 -6.78479e-5; -9.63e-5 -2.82124e-5 -0.000201627 -0.000207062 -0.000202994 -0.000166775 -6.97613e-5 0.000503384 -0.000227099 -0.000365065 -0.000189816 -0.000653676 -0.000192108 -0.000317904 -0.000903098 -0.000122896 0.025457 -3.18763e-5 6.72593e-5 -0.00463434 -0.00386409 -0.000451065 -0.000555234 -0.00221779 -0.00158322 -0.00262736 5.38137e-5 0.000274999 0.000115263 0.00030716 0.000244816 0.000251003 0.000256001 1.25941e-5 5.45412e-5 1.8442e-5 1.84264e-5 1.54236e-5 -5.71791e-5 -34.9558 -0."
     ]
    },
    {
     "name": "stdout",
     "output_type": "stream",
     "text": [
      "00339076 -36.3344 26.2515 4.11342 2.15053 1.07713 1.49702 0.000163893 8.19388e-5 0.000274846 0.000121773 -0.00011622 1.79497e5 1.78744e-5 1.70938e-5 5.04196e-6 3.28935e-8 0.000176112 0.00164054 0.00245559 0.00333993 0.00152008 0.00139347 0.00135327 0.00517883 0.449879 0.25929 -0.0192709 -0.0282514 0.0627439 0.125922 0.0751127 -9.80516e-5 -0.00011155 -0.000169203 0.000303709 -0.000581133 0.000490484 -4.01597e-5 0.000155683 -0.000338045 0.000100896 -8.9327e-5 5.85734e-5 1.87589e-5 -2.8256e-5 -7.78782e-5 -5.04153e-5 -3.07112e-5 -6.71288e-6 -7.04648e-5 -2.27902e-5 4.36995e-7 -1.10499e-5 1.72919e-5 0.000138651 -1.15627e-5 1.06266e-5 2.18591e-316 -0.000104503 3.99242e-6; -0.0041385 -0.00354731 -0.00501496 -0.00520371 -0.00417105 -0.00131799 -0.00104247 0.00926442 -0.00451993 -0.00206337 -0.005765 -0.0109696 -0.00924135 -0.00651903 -0.0222906 3.83706e-5 0.25727 0.000832808 -0.00175723 0.121078 0.100954 0.0117846 0.0145062 0.0579425 0.0413635 0.0686429 -0.00140595 -0.00718468 -0.00301138 -0.00802492 -0.00639612 -0.00655775 -0.00668833 -0.000329035 -0.00142495 -0.000481819 -0.000481412 -0.00040296 0.00149387 913.262 0.0885879 949.281 4.11342 173.846 43.6956 35.9959 43.6928 -0.00428191 -0.00214075 0.00315562 -0.00318147 0.00303638 -4.68958e6 -0.000466991 -0.000446595 -0.000131727 1.03478e-6 -0.00460115 -0.0428611 -0.0641554 -0.0872597 -0.039714 -0.036406 -0.0353559 -0.135303 -11.7536 -6.77427 0.503475 0.738102 -1.63926 -3.28987 -1.96241 -0.00233819 -0.00248029 -0.00455341 0.0136184 -0.0113028 0.0161874 -0.00111613 0.00463926 -0.00919875 0.00299914 -0.0022992 0.00193172 0.000506336 -0.000698642 -0.00212213 -0.00140008 0.000802367 0.000175382 0.00184098 0.000595423 -1.1417e-5 0.000288693 -0.000451773 -0.00362243 0.000302091 -0.000277632 -5.71097e-315 -0.00305537 6.6592e-5; -0.00147982 -0.00110349 -0.00205105 -0.00212171 -0.00181305 -0.000884458 -0.000510895 0.00418642 -0.00198633 -0.00170029 -0.00223041 -0.00513195 -0.00323486 -0.0028356 -0.0091375 -0.000362067 0.1511 0.000142195 -0.000300032 0.020673 0.017237 0.00201212 0.0024768 0.00989318 0.00706246 0.0117202 -0.000240054 -0.00122672 -0.000514166 -0.00137019 -0.00109208 -0.00111968 -0.00114197 -5.61799e-5 -0.000243299 -8.22664e-5 -8.21969e-5 -6.88019e-5 0.000255066 155.932 0.0151256 162.082 2.15053 43.6956 78.7724 13.5984 17.0815 -0.0007311 -0.000365515 0.00173981 -0.000543209 0.000518436 -8.00706e5 -7.97346e-5 -7.62523e-5 -2.24913e-5 3.9677e-7 -0.000785606 -0.00731817 -0.010954 -0.0148989 -0.00678082 -0.00621601 -0.00603672 -0.0231019 -2.00683 -1.15665 0.0859641 0.126025 -0.279889 -0.561716 -0.335065 -0.000968564 -0.00105031 -0.00182019 0.00482958 -0.00500733 0.0061337 -0.00044217 0.00180377 -0.00366565 0.00116685 -0.000930892 0.00073209 0.000202232 -0.000286242 -0.000845331 -0.000554779 0.000136997 2.9945e-5 0.000314331 0.000101663 -1.94936e-6 4.92919e-5 -7.71363e-5 -0.000618498 5.15794e-5 -4.74033e-5 -9.75098e-316 -0.00119394 3.12274e-5; -0.00147397 -0.00135754 -0.00163898 -0.0017044 -0.00130202 -0.000233609 -0.000292448 0.00280098 -0.00139858 -0.000185591 -0.00195682 -0.00321667 -0.00333113 -0.00203385 -0.00727302 0.000228134 0.0578961 0.000385414 -0.000813227 0.0560335 0.0467203 0.00545379 0.00671329 0.0268151 0.0191425 0.0317671 -0.000650657 -0.00332499 -0.00139363 -0.00371384 -0.00296005 -0.00303485 -0.00309528 -0.000152274 -0.000659453 -0.00022298 -0.000222792 -0.000186485 0.000691348 422.647 0.0409974 439.316 1.07713 35.9959 13.5984 62.5268 14.7294 -0.00198162 -0.000990715 0.000774946 -0.00147235 0.0014052 -2.17029e6 -0.000216118 -0.000206679 -6.09619e-5 3.53275e-7 -0.00212936 -0.0198356 -0.0296904 -0.0403828 -0.0183792 -0.0168483 -0.0163623 -0.0626168 -5.43945 -3.13505 0.233003 0.341585 -0.75863 -1.52251 -0.908181 -0.000757154 -0.000790108 -0.00151216 0.00487318 -0.00347445 0.00556811 -0.000372939 0.00156962 -0.0030614 0.00101428 -0.000756812 0.000664398 0.000168249 -0.00022804 -0.000706446 -0.000467751 0.000371326 8.11648e-5 0.000851983 0.000275555 -5.28367e-6 0.000133604 -0.000209075 -0.00167642 0.000139804 -0.000128485 -2.64297e-315 -0.00103032 1.94851e-5; -0.00171956 -0.00152539 -0.00200326 -0.0020807 -0.00163272 -0.000418686 -0.000390038 0.00357673 -0.00176253 -0.000556972 -0.00234263 -0.00418046 -0.00386153 -0.00255121 -0.00889761 0.000133217 0.0884505 0.000394591 -0.00083259 0.0573676 0.0478328 0.00558364 0.00687313 0.0274536 0.0195983 0.0325235 -0.000666149 -0.00340416 -0.00142681 -0.00380227 -0.00303053 -0.00310711 -0.00316898 -0.000155899 -0.000675155 -0.00022829 -0.000228097 -0.000190926 0.000707809 432.711 0.0419736 449.777 1.49702 43.6928 17.0815 14.7294 92.9655 -0.0020288 -0.0010143 0.00112035 -0.00150741 0.00143866 -2.22196e6 -0.000221264 -0.0002116 -6.24134e-5 4.21602e-7 -0.00218006 -0.0203079 -0.0303973 -0.0413443 -0.0188168 -0.0172494 -0.0167519 -0.0641077 -5.56897 -3.2097 0.238551 0.349718 -0.776694 -1.55876 -0.929806 -0.000930174 -0.000979563 -0.00183203 0.00567097 -0.00439496 0.00661807 -0.000450312 0.0018824 -0.00370463 0.00121668 -0.00092138 0.000789727 0.000203774 -0.00027892 -0.000854753 -0.000564839 0.000380168 8.30974e-5 0.00087227 0.000282116 -5.40948e-6 0.000136785 -0.000214054 -0.00171633 0.000143133 -0.000131544 -2.7059e-315 -0.00123786 2.53548e-5; 2.82531e-7 3.50087e-7 1.73667e-7 1.84481e-7 7.43347e-8 -1.80365e-7 -1.9215e-8 -6.08087e-8 6.63984e-8 -4.88885e-7 2.82998e-7 -4.24841e-8 6.76445e-7 1.14908e-7 7.58209e-7 -2.48498e-7 2.11101e-5 -1.58661e-7 3.34777e-7 -2.3067e-5 -1.92331e-5 -2.24513e-6 -2.76362e-6 -1.10388e-5 -7.88031e-6 -1.30774e-5 2.67852e-7 1.36878e-6 5.73708e-7 1.52886e-6 1.21855e-6 1.24934e-6 1.27422e-6 6.26857e-8 2.71473e-7 9.17931e-8 9.17155e-8 7.67694e-8 -2.84603e-7 -0.173989 -1.68772e-5 -0.180851 0.000163893 -0.00428191 -0.0007311 -0.00198162 -0.0020288 0.306239 1.15607e-6 1.84638e-7 1.94459e-6 -1.47765e-6 893.417 1.43783e-7 1.55331e-7 9.13808e-8 -5.31345e-11 -3.23432e-5 -1.33428e-5 2.18713e-7 9.77054e-6 1.22551e-7 6.90756e-6 1.71564e-5 7.4457e-5 0.00368287 0.00190018 -0.000118058 4.91025e-6 0.000954598 0.00132802 0.000982304 7.29373e-8 6.23953e-8 1.85228e-7 -9.55897e-7 1.39751e-7 -8.79028e-7 4.80153e-8 -2.21911e-7 3.81697e-7 -1.42959e-7 8.58028e-8 -1.04816e-7 -2.07091e-8 2.38622e-8 8.82717e-8 6.0154e-8 -4.12414e-7 -1.02455e-7 -9.00344e-7 -3.19969e-7 2.1751e-9 -5.5e-8 8.60689e-8 1.89797e-6 -5.75524e-8 5.28927e-8 1.08802e-318 1.42231e-7 3.06041e-10; 1.41252e-7 1.75027e-7 8.68253e-8 9.22315e-8 3.71638e-8 -9.01737e-8 -9.60656e-9 -3.04014e-8 3.3196e-8 -2.44419e-7 1.41486e-7 -2.124e-8 3.3819e-7 5.74486e-8 3.79068e-7 -1.24237e-7 1.0554e-5 -7.9323e-8 1.67372e-7 -1.15324e-5 -9.61563e-6 -1.12246e-6 -1.38168e-6 -5.51889e-6 -3.93978e-6 -6.53808e-6 1.33913e-7 6.84324e-7 2.86827e-7 7.64355e-7 6.09216e-7 6.24611e-7 6.37048e-7 3.13398e-8 1.35724e-7 4.58922e-8 4.58533e-8 3.8381e-8 -1.42288e-7 -0.0869861 -8.43779e-6 -0.0904169 8.19388e-5 -0.00214075 -0.000365515 -0.000990715 -0.0010143 1.15607e-6 0.195077 9.231e-8 9.82926e-7 -7.45958e-7 446.666 7.23241e-8 7.82209e-8 4.62172e-8 -2.65647e-11 -1.64363e-5 -6.84313e-6 1.31462e-8 4.82988e-6 1.61631e-9 3.45322e-6 8.66087e-6 3.7615e-5 0.00185283 0.000954883 -5.9201e-5 3.62118e-6 0.000482401 0.000669566 0.000495981 3.64651e-8 3.11946e-8 9.2605e-8 -4.77903e-7 6.98686e-8 -4.39472e-7 2.40053e-8 -1.10945e-7 1.9083e-7 -7.14727e-8 4.28973e-8 -5.2403e-8 -1.03536e-8 1.19299e-8 4.41316e-8 3.00741e-8 -2.08267e-7 -5.17761e-8 -4.54534e-7 -1.61624e-7 1.08745e-9 -2.74973e-8 4.30303e-8 9.58574e-7 -2.87734e-8 2.64438e-8 5.43956e-319 7.11087e-8 1.53006e-10; -6.29907e-8 -2.48983e-9 -1.56842e-7 -1.60704e-7 -1.63908e-7 -1.49081e-7 -5.9002e-8 4.13835e-7 -1.84372e-7 -3.31952e-7 -1.40517e-7 -5.44644e-7 -1.18922e-7 -2.56782e-7 -7.03677e-7 -1.16761e-7 2.23727e-5 -3.5911e-8 7.57725e-8 -5.22092e-6 -4.35317e-6 -5.08157e-7 -6.25511e-7 -2.4985e-6 -1.78361e-6 -2.95991e-6 6.0625e-8 3.09806e-7 1.29852e-7 3.46038e-7 2.75803e-7 2.82773e-7 2.88403e-7 1.41881e-8 6.14446e-8 2.07762e-8 2.07586e-8 1.73758e-8 -6.44164e-8 -0.0393802 -3.81994e-6 -0.0409334 0.000274846 0.00315562 0.00173981 0.000774946 0.00112035 1.84638e-7 9.231e-8 0.197226 1.37186e-7 -1.3093e-7 202.217 2.01368e-8 1.92574e-8 5.68013e-9 2.4106e-11 1.98403e-7 1.84819e-6 2.7664e-6 3.76267e-6 1.71248e-6 1.56984e-6 1.52456e-6 5.83433e-6 0.000506822 0.000292109 -2.171e-5 -3.18272e-5 7.06855e-5 0.00014186 8.46199e-5 -7.69604e-8 -8.87842e-8 -1.29262e-7 1.94786e-7 -4.736e-7 3.54273e-7 -3.04378e-8 1.15858e-7 -2.57553e-7 7.51376e-8 -6.89566e-8 4.23164e-8 1.43204e-8 -2.20082e-8 -5.93144e-8 -3.8218e-8 -3.45984e-8 -7.56254e-9 -7.93837e-8 -2.56748e-8 4"
     ]
    },
    {
     "name": "stdout",
     "output_type": "stream",
     "text": [
      ".92307e-10 -1.24486e-8 1.94806e-8 1.562e-7 -1.30263e-8 1.19716e-8 2.46257e-319 -7.81727e-8 3.32927e-9; 2.09921e-7 2.60115e-7 1.29035e-7 1.3707e-7 5.52308e-8 -1.34011e-7 -1.42768e-8 -4.5181e-8 4.93342e-8 -3.63243e-7 2.10268e-7 -3.15657e-8 5.026e-7 8.5377e-8 5.63351e-7 -1.84634e-7 1.56848e-5 -1.17886e-7 2.4874e-7 -1.71388e-5 -1.42902e-5 -1.66814e-6 -2.05338e-6 -8.20188e-6 -5.85509e-6 -9.71654e-6 1.99015e-7 1.01701e-6 4.26266e-7 1.13594e-6 9.05384e-7 9.28264e-7 9.46747e-7 4.65756e-8 2.01705e-7 6.82025e-8 6.81448e-8 5.70398e-8 -2.11461e-7 -0.129274 -1.25398e-5 -0.134373 0.000121773 -0.00318147 -0.000543209 -0.00147235 -0.00150741 1.94459e-6 9.82926e-7 1.37186e-7 0.00476365 -1.24687e-6 663.809 1.15913e-7 1.2705e-7 7.88783e-8 -3.94791e-11 -2.95349e-5 -1.34772e-5 -1.82628e-6 6.12402e-6 -1.14219e-6 5.12765e-6 1.44737e-5 6.3387e-5 0.00297556 0.00151283 -9.13857e-5 2.77596e-5 0.000815684 0.00110291 0.00083066 5.41925e-8 4.63598e-8 1.37625e-7 -7.10234e-7 1.03835e-7 -6.53119e-7 3.56755e-8 -1.64881e-7 2.83602e-7 -1.06219e-7 6.37517e-8 -7.78786e-8 -1.53869e-8 1.77297e-8 6.55861e-8 4.46946e-8 -3.49427e-7 -8.75636e-8 -7.60018e-7 -2.71956e-7 1.6161e-9 -4.08651e-8 6.39494e-8 1.61031e-6 -4.27615e-8 3.92994e-8 8.084e-319 1.05678e-7 2.27389e-10; -2.00348e-7 -2.48253e-7 -1.23151e-7 -1.30819e-7 -5.27121e-8 1.279e-7 1.36257e-8 4.31206e-8 -4.70844e-8 3.46677e-7 -2.00679e-7 3.01262e-8 -4.79679e-7 -8.14835e-8 -5.3766e-7 1.76214e-7 -1.49696e-5 1.1251e-7 -2.37396e-7 1.63572e-5 1.36386e-5 1.59206e-6 1.95974e-6 7.82784e-6 5.58807e-6 9.27343e-6 -1.89939e-7 -9.70626e-7 -4.06827e-7 -1.08414e-6 -8.64095e-7 -8.85931e-7 -9.03572e-7 -4.44516e-8 -1.92507e-7 -6.50922e-8 -6.50371e-8 -5.44386e-8 2.01817e-7 0.123379 1.19679e-5 0.128245 -0.00011622 0.00303638 0.000518436 0.0014052 0.00143866 -1.47765e-6 -7.45958e-7 -1.3093e-7 -1.24687e-6 0.0103338 -633.54 -9.65506e-8 -1.03216e-7 -5.82592e-8 3.76787e-11 1.96572e-5 7.33931e-6 -1.33955e-6 -7.60474e-6 -8.21381e-7 -4.90107e-6 -1.11377e-5 -4.79954e-5 -0.00246914 -0.0012873 8.15328e-5 1.08779e-5 -0.000613545 -0.000872528 -0.000636533 -5.17212e-8 -4.42456e-8 -1.31348e-7 6.77844e-7 -9.90997e-8 6.23335e-7 -3.40485e-8 1.57361e-7 -2.70669e-7 1.01375e-7 -6.08443e-8 7.4327e-8 1.46852e-8 -1.69211e-8 -6.25951e-8 -4.26563e-8 2.66839e-7 6.58403e-8 5.84219e-7 2.06517e-7 -1.5424e-9 3.90015e-8 -6.10331e-8 -1.2267e-6 4.08114e-8 -3.75072e-8 -7.71533e-319 -1.00859e-7 -2.17019e-10; 309.43 383.417 190.202 202.045 81.4119 -197.537 -21.0444 -66.5982 72.7201 -535.43 309.942 -46.5288 740.847 125.848 830.396 -272.156 23119.9 -173.767 366.65 -25263.1 -21064.2 -2458.88 -3026.74 -12089.8 -8630.58 -14322.5 293.354 1499.1 628.329 1674.42 1334.56 1368.29 1395.53 68.6538 297.32 100.532 100.447 84.0784 -311.7 -1.90554e8 -18484.0 -1.98069e8 1.79497e5 -4.68958e6 -8.00706e5 -2.17029e6 -2.22196e6 893.417 446.666 202.217 663.809 -633.54 9.78491e11 97.438 93.1824 27.4846 -0.0581933 960.316 8943.24 13386.2 18207.0 8286.47 7596.18 7377.0 28230.9 2.45241e6 1.41346e6 -1.05051e5 -1.54008e5 3.42029e5 6.86431e5 409456.0 79.8814 68.3358 202.863 -1046.91 153.056 -962.718 52.5867 -243.039 418.038 -156.57 93.9719 -114.795 -22.6808 26.134 96.6759 65.8811 -167.413 -36.5932 -384.119 -124.234 2.38219 -60.2364 94.2633 755.816 -63.0318 57.9285 1.1916e-309 155.773 0.335178; 3.08131e-8 3.81809e-8 1.89403e-8 2.01197e-8 8.10703e-9 -1.96708e-8 -2.09561e-9 -6.63187e-9 7.24149e-9 -5.33183e-8 3.08641e-8 -4.63336e-9 7.37739e-8 1.2532e-8 8.26912e-8 -2.71014e-8 2.30229e-6 -1.73038e-8 3.65111e-8 -2.51571e-6 -2.09759e-6 -2.44857e-7 -3.01404e-7 -1.20391e-6 -8.59436e-7 -1.42624e-6 2.92123e-8 1.49281e-7 6.25693e-8 1.66739e-7 1.32896e-7 1.36255e-7 1.38968e-7 6.83657e-9 2.96072e-8 1.00111e-8 1.00026e-8 8.37256e-9 -3.10392e-8 -0.0189754 -1.84065e-6 -0.0197238 1.78744e-5 -0.000466991 -7.97346e-5 -0.000216118 -0.000221264 1.43783e-7 7.23241e-8 2.01368e-8 1.15913e-7 -9.65506e-8 97.438 0.126767 1.18934e-8 5.2037e-9 -5.79491e-12 -1.14063e-6 9.01421e-8 8.86291e-7 1.558e-6 5.48162e-7 7.55378e-7 1.1224e-6 4.62285e-6 0.000297936 0.000163438 -1.12849e-5 -9.92033e-6 5.79623e-5 9.44521e-5 6.34166e-5 7.95462e-9 6.8049e-9 2.02012e-8 -1.04251e-7 1.52414e-8 -9.58678e-8 5.2366e-9 -2.42019e-8 4.16284e-8 -1.55913e-8 9.35775e-9 -1.14314e-8 -2.25856e-9 2.60244e-9 9.62702e-9 6.56047e-9 -2.63302e-8 -6.21337e-9 -5.87044e-8 -2.00574e-8 2.37219e-10 -5.99836e-9 9.38678e-9 1.20214e-7 -6.27673e-9 5.76854e-9 1.1866e-319 1.55119e-8 3.33771e-11; 2.94674e-8 3.65134e-8 1.81132e-8 1.9241e-8 7.75296e-9 -1.88117e-8 -2.00408e-9 -6.34223e-9 6.92523e-9 -5.09897e-8 2.95162e-8 -4.431e-9 7.05519e-8 1.19847e-8 7.90798e-8 -2.59178e-8 2.20174e-6 -1.65481e-8 3.49166e-8 -2.40584e-6 -2.00598e-6 -2.34163e-7 -2.8824e-7 -1.15133e-6 -8.21901e-7 -1.36395e-6 2.79365e-8 1.42761e-7 5.98367e-8 1.59457e-7 1.27092e-7 1.30304e-7 1.32899e-7 6.538e-9 2.83141e-8 9.57384e-9 9.56575e-9 8.0069e-9 -2.96836e-8 -0.0181467 -1.76026e-6 -0.0188624 1.70938e-5 -0.000446595 -7.62523e-5 -0.000206679 -0.0002116 1.55331e-7 7.82209e-8 1.92574e-8 1.2705e-7 -1.03216e-7 93.1824 1.18934e-8 0.119204 5.77866e-9 -5.54183e-12 -1.49287e-6 -1.74104e-7 7.02306e-7 1.40701e-6 4.34135e-7 7.22046e-7 1.1995e-6 5.01011e-6 0.000302396 0.000163678 -1.106e-5 -7.72579e-6 6.32043e-5 9.88141e-5 6.80107e-5 7.60722e-9 6.50771e-9 1.93189e-8 -9.96982e-8 1.45757e-8 -9.16809e-8 5.0079e-9 -2.31449e-8 3.98103e-8 -1.49104e-8 8.94907e-9 -1.09321e-8 -2.15992e-9 2.48878e-9 9.20657e-9 6.27395e-9 -2.83215e-8 -6.77761e-9 -6.27923e-8 -2.1681e-8 2.26859e-10 -5.73639e-9 8.97682e-9 1.29582e-7 -6.0026e-9 5.51661e-9 1.13477e-319 1.48344e-8 3.19194e-11; 8.69168e-9 1.07699e-8 5.34264e-9 5.6753e-9 2.28681e-9 -5.54868e-9 -5.91122e-10 -1.8707e-9 2.04266e-9 -1.50399e-8 8.70606e-9 -1.30696e-9 2.08099e-8 3.53499e-9 2.33253e-8 -7.64469e-9 6.49423e-7 -4.881e-9 1.0299e-8 -7.09625e-7 -5.9168e-7 -6.90684e-8 -8.50191e-8 -3.39595e-7 -2.42427e-7 -4.02309e-7 8.24012e-9 4.21086e-8 1.76494e-8 4.70332e-8 3.7487e-8 3.84343e-8 3.91996e-8 1.92844e-9 8.35151e-9 2.82389e-9 2.8215e-9 2.36171e-9 -8.75544e-9 -0.00535253 -5.19204e-7 -0.00556364 5.04196e-6 -0.000131727 -2.24913e-5 -6.09619e-5 -6.24134e-5 9.13808e-8 4.62172e-8 5.68013e-9 7.88783e-8 -5.82592e-8 27.4846 5.2037e-9 5.77866e-9 0.292389 -1.63461e-12 -1.46794e-6 -7.16687e-7 -1.64168e-7 2.03003e-7 -1.02203e-7 2.12099e-7 6.76149e-7 2.98362e-6 0.000133851 6.7135e-5 -3.9471e-6 2.22294e-6 3.85112e-5 5.08384e-5 3.88815e-5 2.24382e-9 1.91951e-9 5.69828e-9 -2.94069e-8 4.29924e-9 -2.70421e-8 1.47713e-9 -6.8268e-9 1.17424e-8 -4.39794e-9 2.63961e-9 -3.22452e-9 -6.37087e-10 7.34088e-10 2.71556e-9 1.85056e-9 -1.63826e-8 -4.13486e-9 -3.55227e-8 -1.27838e-8 6.6914e-11 -1.692e-9 2.64779e-9 7.55845e-8 -1.77052e-9 1.62717e-9 3.34729e-320 4.37555e-9 9.41492e-12; -4.16643e-11 -3.77796e-11 -4.72567e-11 -4.91172e-11 -3.79615e-11 -8.09054e-12 -8.76376e-12 8.23195e-11 -4.08656e-11 -8.71034e-12 -5.59212e-11 -9.52783e-11 -9.39097e-11 -5.93066e-11 -2.09785e-10 5.09602e-12 1.84928e-9 1.03344e-11 -2.18056e-11 1.50246e-9 1.25274e-9 1.46236e-10 1.80008e-10 7.19012e-10 5.13282e-10 8.51793e-10 -1.74465e-11 -8.91551e-11 -3.73683e-11 -9.95817e-11 -7.93698e-11 -8.13755e-11 -8.29959e-11 -4.08301e-12 -1.76823e-11 -5.97892e-12 -5.97386e-12 -5.00035e-12 1.85376e-11 1.13327e-5 1.09929e-9 1.17797e-5 3.28935e-8 1.03478e-6 3.9677e-7 3.53275e-7 4.21602e-7 -5.31345e-11 -2.65647e-11 2.4106e-11 -3.94791e-11 3.76787e-11 -0.0581933 -5.79491e-12 -5.54183e-12 -1.63461e-12 0.308719 -5.70959e-11 -5.31866e-10 -7.96108e-10 -1.08281e-9 -4.92813e-10 -4.51764e-10 -4.38734e-10 -1.67899e-9 -1.45852e-7 -8.40623e-8 6.24765e-9 9.15915e-9 -2.03417e-8 -4.08241e-8 -2.43517e-8 -2.18792e-11 -2.2922e-11 -4.34351e-11 1.37605e-10 -1.01688e-10 1.58636e-10 -1.06968e-11 4.48897e-11 -8.78907e-11 2.90103e-11 -2.17841e-11 1.89292e-11 4.83209e-12 -6.57705e-12 -2.02803e-11 -1.34167e-11 9.95662e-12 2.17633e-12 2.28448e-11 7.38863e-12 -1.41675e-13 3.58241e-12 -5.60608e-12 -4.49509e-11 3.74866e-12 -3.44515e-12 -6.91692e-323 -2.94889e-11 5.77472e-13; 3.03595e-7 3.76187e-7 1.86615e-7 1.98234e-7 7.98766e-8 -1.93812e-7 -2.06475e-8 -6.53422e-8 7.13487e-8 -5.25333e-7 3.04097e-7 -4.56514e-8 7.26876e-7 1.23475e-7 8.14736e-7 -2.67024e-7 2.26839e-5 -1.7049e-7 3.59735e-7 -2.47867e-5 -2.0667e-5 -2.41251e-6 -2.96966e-6 -1.18618e-5 -8.46782e-6 -1.40524e-5 2.87822e-7 1.47083e-6 6.1648e-7 1.64284e-6 1.3094e-6 1.34248e-6 1.36922e-6 6.73591e-8 2.91713e-7 9.86366e-8 9.85532e-8 8.24928e-8 -3.05822e-7 -0.18696 -1.81355e-5 -0.194334 0.000176112 -0.00"
     ]
    },
    {
     "name": "stdout",
     "output_type": "stream",
     "text": [
      "460115 -0.000785606 -0.00212936 -0.00218006 -3.23432e-5 -1.64363e-5 1.98403e-7 -2.95349e-5 1.96572e-5 960.316 -1.14063e-6 -1.49287e-6 -1.46794e-6 -5.70959e-11 0.37041 0.000493848 0.000283851 0.000172432 0.000176002 8.09058e-6 -0.000227774 -0.00107016 -0.0301518 -0.012361 0.000396235 -0.00343317 -0.01415 -0.0151417 -0.0133202 7.8375e-8 6.7047e-8 1.99037e-7 -1.02716e-6 1.50169e-7 -9.44562e-7 5.1595e-8 -2.38456e-7 4.10154e-7 -1.53617e-7 9.21997e-8 -1.1263e-7 -2.2253e-8 2.56412e-8 9.48527e-8 6.46387e-8 5.68935e-6 1.5212e-6 1.20184e-5 4.53599e-6 2.33726e-9 -5.91004e-8 9.24857e-8 -2.64987e-5 -6.18431e-8 5.6836e-8 1.16913e-318 1.52835e-7 3.28857e-10; 2.82808e-6 3.5043e-6 1.73838e-6 1.84662e-6 7.44076e-7 -1.80542e-6 -1.92338e-7 -6.08684e-7 6.64636e-7 -4.89364e-6 2.83276e-6 -4.25257e-7 6.77108e-6 1.15021e-6 7.58953e-6 -2.48741e-6 0.000211308 -1.58817e-6 3.35105e-6 -0.000230896 -0.00019252 -2.24733e-5 -2.76633e-5 -0.000110497 -7.88804e-5 -0.000130902 2.68115e-6 1.37012e-5 5.74271e-6 1.53036e-5 1.21974e-5 1.25057e-5 1.27547e-5 6.27472e-7 2.7174e-6 9.18832e-7 9.18055e-7 7.68447e-7 -2.84883e-6 -1.7416 -0.000168938 -1.81028 0.00164054 -0.0428611 -0.00731817 -0.0198356 -0.0203079 -1.33428e-5 -6.84313e-6 1.84819e-6 -1.34772e-5 7.33931e-6 8943.24 9.01421e-8 -1.74104e-7 -7.16687e-7 -5.31866e-10 0.000493848 0.212377 0.000297623 0.000266481 0.000184425 6.98393e-5 -8.47369e-5 -0.000452798 0.00133435 0.00401739 -0.000636851 -0.00353257 -0.00625272 -0.00396591 -0.00514206 7.30088e-7 6.24565e-7 1.8541e-6 -9.56835e-6 1.39888e-6 -8.7989e-6 4.80624e-7 -2.22129e-6 3.82072e-6 -1.43099e-6 8.5887e-7 -1.04919e-6 -2.07294e-7 2.38856e-7 8.83584e-7 6.0213e-7 2.25985e-6 6.73705e-7 4.51468e-6 1.88032e-6 2.17723e-8 -5.50539e-7 8.61534e-7 -1.0729e-5 -5.76088e-7 5.29446e-7 1.08908e-317 1.42371e-6 3.06341e-9; 4.23312e-6 5.2453e-6 2.60203e-6 2.76405e-6 1.11375e-6 -2.70238e-6 -2.87895e-7 -9.11089e-7 9.94839e-7 -7.3249e-6 4.24013e-6 -6.36533e-7 1.01351e-5 1.72165e-6 1.13602e-5 -3.72321e-6 0.00031629 -2.3772e-6 5.01592e-6 -0.00034561 -0.000288167 -3.36385e-5 -4.1407e-5 -0.000165393 -0.00011807 -0.000195937 4.0132e-6 2.05082e-5 8.5958e-6 2.29067e-5 1.82574e-5 1.87187e-5 1.90914e-5 9.39211e-7 4.06745e-6 1.37532e-6 1.37416e-6 1.15023e-6 -4.26418e-6 -2.60685 -0.000252869 -2.70967 0.00245559 -0.0641554 -0.010954 -0.0296904 -0.0303973 2.18713e-7 1.31462e-8 2.7664e-6 -1.82628e-6 -1.33955e-6 13386.2 8.86291e-7 7.02306e-7 -1.64168e-7 -7.96108e-10 0.000283851 0.000297623 0.264501 0.00030493 0.000174021 0.000104149 1.60011e-5 -1.04914e-5 0.0217855 0.014369 -0.00125672 -0.00329283 -0.000555094 0.003676 0.000643249 1.09281e-6 9.3486e-7 2.77524e-6 -1.43221e-5 2.09387e-6 -1.31704e-5 7.19407e-7 -3.32487e-6 5.71892e-6 -2.14194e-6 1.28557e-6 -1.57045e-6 -3.10282e-7 3.57524e-7 1.32256e-6 9.0128e-7 -1.75145e-7 6.20317e-8 -7.76005e-7 -1.64996e-8 3.25892e-8 -8.24057e-7 1.28956e-6 4.96892e-7 -8.623e-7 7.92485e-7 1.63016e-317 2.13103e-6 4.58537e-9; 5.75761e-6 7.1343e-6 3.53911e-6 3.75947e-6 1.51484e-6 -3.6756e-6 -3.91575e-7 -1.2392e-6 1.35311e-6 -9.96283e-6 5.76713e-6 -8.65769e-7 1.3785e-5 2.34168e-6 1.54513e-5 -5.06405e-6 0.000430196 -3.23331e-6 6.82231e-6 -0.000470075 -0.000391945 -4.57528e-5 -5.6319e-5 -0.000224957 -0.00016059 -0.0002665 5.45848e-6 2.78939e-5 1.16914e-5 3.11561e-5 2.48324e-5 2.54599e-5 2.59669e-5 1.27745e-6 5.53227e-6 1.87062e-6 1.86904e-6 1.56446e-6 -5.79984e-6 -3.54566 -0.000343935 -3.68551 0.00333993 -0.0872597 -0.0148989 -0.0403828 -0.0413443 9.77054e-6 4.82988e-6 3.76267e-6 6.12402e-6 -7.60474e-6 18207.0 1.558e-6 1.40701e-6 2.03003e-7 -1.08281e-9 0.000172432 0.000266481 0.00030493 0.259836 0.00018882 0.000141475 8.87806e-5 0.000298801 0.0389155 0.0234642 -0.00185169 -0.00354275 0.00337575 0.00950976 0.0047879 1.48636e-6 1.27153e-6 3.7747e-6 -1.94799e-5 2.84793e-6 -1.79134e-5 9.78488e-7 -4.52226e-6 7.77849e-6 -2.91332e-6 1.74855e-6 -2.13601e-6 -4.22024e-7 4.8628e-7 1.79886e-6 1.22586e-6 -1.90745e-6 -3.59658e-7 -4.59015e-6 -1.3507e-6 4.43257e-8 -1.12083e-6 1.75397e-6 8.44377e-6 -1.17284e-6 1.07788e-6 2.21723e-317 2.89848e-6 6.2367e-9; 2.62042e-6 3.24699e-6 1.61073e-6 1.71103e-6 6.89441e-7 -1.67285e-6 -1.78215e-7 -5.6399e-7 6.15834e-7 -4.53432e-6 2.62476e-6 -3.94032e-7 6.27391e-6 1.06575e-6 7.03226e-6 -2.30477e-6 0.000195792 -1.47155e-6 3.105e-6 -0.000213942 -0.000178384 -2.08232e-5 -2.56321e-5 -0.000102383 -7.30885e-5 -0.000121291 2.48428e-6 1.26952e-5 5.32104e-6 1.41799e-5 1.13018e-5 1.15874e-5 1.18182e-5 5.81399e-7 2.51787e-6 8.51365e-7 8.50645e-7 7.12022e-7 -2.63965e-6 -1.61372 -0.000156533 -1.67736 0.00152008 -0.039714 -0.00678082 -0.0183792 -0.0188168 1.22551e-7 1.61631e-9 1.71248e-6 -1.14219e-6 -8.21381e-7 8286.47 5.48162e-7 4.34135e-7 -1.02203e-7 -4.92813e-10 0.000176002 0.000184425 0.000174021 0.00018882 0.147063 6.44715e-5 9.81433e-6 -6.9188e-6 0.0134733 0.00888953 -0.000777752 -0.00203962 -0.000349217 0.00226943 0.000392886 6.7648e-7 5.78705e-7 1.71796e-6 -8.86578e-6 1.29616e-6 -8.15283e-6 4.45333e-7 -2.05819e-6 3.54018e-6 -1.32592e-6 7.95806e-7 -9.72151e-7 -1.92073e-7 2.21318e-7 8.18705e-7 5.57918e-7 -1.06157e-7 3.90012e-8 -4.75579e-7 -8.41358e-9 2.01737e-8 -5.10115e-7 7.98274e-7 2.97062e-7 -5.33788e-7 4.90571e-7 1.00912e-317 1.31917e-6 2.83847e-9; 2.40215e-6 2.97653e-6 1.47657e-6 1.5685e-6 6.32013e-7 -1.53351e-6 -1.63371e-7 -5.17012e-7 5.64537e-7 -4.15663e-6 2.40613e-6 -3.61211e-7 5.75131e-6 9.7698e-7 6.4465e-6 -2.11279e-6 0.000179484 -1.34898e-6 2.84636e-6 -0.000196122 -0.000163525 -1.90887e-5 -2.34971e-5 -9.38552e-5 -6.70005e-5 -0.000111188 2.27735e-6 1.16377e-5 4.87782e-6 1.29988e-5 1.03604e-5 1.06222e-5 1.08337e-5 5.3297e-7 2.30814e-6 7.8045e-7 7.7979e-7 6.52714e-7 -2.41977e-6 -1.4793 -0.000143494 -1.53764 0.00139347 -0.036406 -0.00621601 -0.0168483 -0.0172494 6.90756e-6 3.45322e-6 1.56984e-6 5.12765e-6 -4.90107e-6 7596.18 7.55378e-7 7.22046e-7 2.12099e-7 -4.51764e-10 8.09058e-6 6.98393e-5 0.000104149 0.000141475 6.44715e-5 0.107988 5.70695e-5 0.00021823 0.0190108 0.0109612 -0.000815104 -0.00119837 0.00264294 0.00531546 0.00316703 6.20132e-7 5.30501e-7 1.57486e-6 -8.12729e-6 1.1882e-6 -7.47373e-6 4.08239e-7 -1.88675e-6 3.24529e-6 -1.21548e-6 7.29518e-7 -8.91174e-7 -1.76074e-7 2.02883e-7 7.5051e-7 5.11446e-7 -1.29469e-6 -2.82758e-7 -2.97146e-6 -9.605e-7 1.84933e-8 -4.67624e-7 7.31781e-7 5.84442e-6 -4.89326e-7 4.49708e-7 9.25061e-318 1.20929e-6 2.60204e-9; 2.33287e-6 2.89068e-6 1.43398e-6 1.52326e-6 6.13785e-7 -1.48928e-6 -1.58659e-7 -5.021e-7 5.48255e-7 -4.03674e-6 2.33673e-6 -3.50793e-7 5.58543e-6 9.48801e-7 6.26057e-6 -2.05185e-6 0.000174307 -1.31007e-6 2.76427e-6 -0.000190465 -0.000158809 -1.85381e-5 -2.28193e-5 -9.11481e-5 -6.50681e-5 -0.000107981 2.21167e-6 1.13021e-5 4.73713e-6 1.26238e-5 1.00616e-5 1.03159e-5 1.05213e-5 5.17598e-7 2.24157e-6 7.57939e-7 7.57299e-7 6.33888e-7 -2.34998e-6 -1.43663 -0.000139356 -1.49329 0.00135327 -0.0353559 -0.00603672 -0.0163623 -0.0167519 1.71564e-5 8.66087e-6 1.52456e-6 1.44737e-5 -1.11377e-5 7377.0 1.1224e-6 1.1995e-6 6.76149e-7 -4.38734e-10 -0.000227774 -8.47369e-5 1.60011e-5 8.87806e-5 9.81433e-6 5.70695e-5 0.0789302 0.000557227 0.0287024 0.014969 -0.000948632 -0.000131553 0.0071226 0.0101362 0.00739141 6.02246e-7 5.152e-7 1.52943e-6 -7.89288e-6 1.15393e-6 -7.25817e-6 3.96464e-7 -1.83233e-6 3.15169e-6 -1.18042e-6 7.08477e-7 -8.65471e-7 -1.70996e-7 1.97031e-7 7.28864e-7 4.96694e-7 -3.09838e-6 -7.64331e-7 -6.78423e-6 -2.39776e-6 1.79599e-8 -4.54137e-7 7.10675e-7 1.42433e-5 -4.75212e-7 4.36737e-7 8.9838e-318 1.17441e-6 2.52699e-9; 8.92763e-6 1.10623e-5 5.48767e-6 5.82936e-6 2.34888e-6 -5.6993e-6 -6.07169e-7 -1.92148e-6 2.09811e-6 -1.54482e-5 8.9424e-6 -1.34244e-6 2.13748e-5 3.63096e-6 2.39585e-5 -7.85222e-6 0.000667053 -5.0135e-6 1.05785e-5 -0.000728889 -0.000607743 -7.09434e-5 -8.73271e-5 -0.000348814 -0.000249008 -0.00041323 8.46381e-6 4.32517e-5 1.81285e-5 4.831e-5 3.85046e-5 3.94777e-5 4.02637e-5 1.98079e-6 8.57822e-6 2.90055e-6 2.8981e-6 2.42582e-6 -8.99312e-6 -5.49783 -0.000533299 -5.71467 0.00517883 -0.135303 -0.0231019 -0.0626168 -0.0641077 7.4457e-5 3.7615e-5 5.83433e-6 6.3387e-5 -4.79954e-5 28230.9 4.62285e-6 5.01011e-6 2.98362e-6 -1.67899e-9 -0.00107016 -0.000452798 -1.04914e-5 0.000298801 -6.9188e-6 0.00021823 0.000557227 0.106638 0.118467 0.060927 -0.0037626 0.000366139 0.0310953 0.0429804 0.0319217 2.30473e-6 1.97161e-6 5.85297e-6 -3.02052e-5 4.41595e-6 -2.77762e-5 1.51722e-6 -7.01213e-6 1.20612e-5 -4.51733e-6 2.71126e-6 -3.31206e-6 -6.54382e-7 7.54016e-7 2.78928e-6 1.90079e-6 -1.34081e-5 -3.33756e-6 -2.92466e-5 -1.04101e-5 6.87305e-8 -1.73793e-6 2.71967e-6 6.17246e-5 -1.81858e-6 1.67134e-6 3.438e-317 4.49433e-6 9.67051e-9; 0.000775534 0.000960971 0.000476708 0.000506391 0.000204045 -0.000495093 -5.27441e-5 -0.000166917 0.000182261 -0.00134197 0.000776817 -0.000116617 0.00185681 0.000315417 0.00208125 -0.000682114 0.0579462 -0.000435517 0.000918946 -0.0633178 -0.052794 -0.00616278 -0.00758601 -0.0303011 -0.0216311 -0.0358969 0.000735242 0.00375723 0.0015748 0.00419664 0.00334486 0.00342938 0.00349767 0.000172069 0.000745181 0.000251968 0.000251755 0.000210728 -0.000781223 -477.591 -0.0463271 -496.427 0.449879 -11.7536 -2.00683 -5.43945 -5.56897 0.00368287 0.00185283 0.000506822 0.00297556 -0.00246914 2.45241e6 0.000297936 0.000302396 0.000133851 -1.45852e-7 -0.0301518 0.00133435 0.0217855 0.0389155 0.0134733 0.0190108 0.0287024 0.118467 15.5875 4.14005 -0.284991 -0.243362 1.48675 2.40772 1.62256 0.000200209 0.000171272 0.000508441 -0.00262389 0.000383609 -0.00241289 0.0001318 -0.000609136 0.00104774 -0.000392416 0.000235525 -0.000287715 -5.68455e-5 6.55005e-5 0.000242302 0.00016512 -0.000673979 -0.000159383 -0.0015014 -0.000513795 5.97055e-6 -0.000150972 0.000236255 0.00307814 -0.000157979 0.000145188 2.98655e-315 0.000390418 8.40067e-7; 0.000446982 0.00055386 0.000274753 0.00029186 0.000117602 -0.000285349 -3.03993e-5 -9.62033e-5 0.000105047 -0.000773448 0.000447722 -6.72125e-5 0.00107018 0.000181792 0.00119954 -0.000393139 0.0333975 -0.000251012 0.000529639 -0.0364935 -0.030428 -0.00355194 -0.00437223 -0.0174642 -0.0124672 -0.0206893 0.00042376 0.0021655 0.000907644 0.00241875 0.00192782 0.00197654 0.0020159 9.91728e-5 0.000429488 0.000145223 0.0001451 0.000121454 -0.000450261 -275.262 -0.0267008 -286.118 0.25929 -6.77427 -1.15665 -3.13505 -3.2097 0.00190018 0.000954883 0.000292109 0.00151283 -0.0012873 1.41346e6 0.000163438 0.000163678 6.7135e-5 -8.40623e-8 -0.012361 0.00401739 0.014369 0.0234642 0.00888953 0.0109612 0.014969 0.060927 4.14005 4.84713 -0.160912 -0.162241 0.759893 1.28179 0.84328 0.000115391 9.87134e-5 0.000293042 -0.00151229 0.000221095 -0.00139068 7.59633e-5 -0.000351078 0.00060387 -0.00022617 0.000135746 -0.000165826 -3.27631e-5 3.77515e-5 0.000139652 9.51676e-5 -0.000349252 -8.14341e-5 -0.000782335 -0.000264936 3.44115e-6 -8.70135e-5 0.000136167 0.00159168 -9.10516e-5 8.36797e-5 1.72131e-315 0.000225019 4.84176e-7; -3.32205e-5 -4.11638e-5 -2.04201e-5 -2.16916e-5 -8.74041e-6 2.12076e-5 2.25933e-6 7.15e-6 -7.80725e-6 5.7484e-5 -3.32755e-5 4.99535e-6 -7.95376e-5 -1.35111e-5 -8.91516e-5 2.92188e-5 -0.00248216 1.86557e-5 -3.93637e-5 0.00271226 0.00226146 0.000263987 0.000324952 0.00129797 0.000926582 0.00153767 -3.14946e-5 -0.000160944 -6.74577e-5 -0.000179766 -0.000143279 -0.0001469 -0.000149825 -7.3707e-6 -3.19203e-5 -1.07932e-5 -1.07841e-5 -9.02668e-6 3.34642e-5 20.4579 0.00198445 21.2648 -0.0192709 0.503475 0.0859641 0.233003 0.238551 -0.000118058 -5.9201e-5 -2.171e-5 -9.13857e-5 8.15328e-5 -1.05051e5 -1.12849e-5 -1.106e-5 -3.9471e-6 6.24765e-9 0.000396235 -0.000636851 -0.00125672 -0.00185169 -0.000777752 -0.000815104 -0.000948632 -0.0037626 -0.284991 -0.160912 0.851275 0.0143468 -0.0463749 -0.0842363 -0.0531049 -8.5761e-6 -7.33655e-6 -2.17794e-5 0.000112396 -1.64321e-5 0.000103358 -5.64573e-6 2.60928e-5 -4.48807e-5 1.68094e-5 -1.00889e-5 1.23245e-5 2.43501e-6 -2.80576e-6 -1.03792e-5 -7.07302e-6 2.18749e-5 4.96646e-6 4.95005e-5 1.64423e-5 -2.55752e-7 6.467e-6 -1.01201e-5 -9.93002e-5 6.76711e-6 -6.21922e-6 -1.27931e-316 -1.67238e-5 -3.59848e-8; -4.87017e-5 -6.03467e-5 -2.99362e-5 -3.18001e-5 -1.28136e-5 3.10907e-5 3.31221e-6 1.0482e-5 -1.14455e-5 8.42723e-5 -4.87823e-5 7.32326e-6 -0.000116603 -1.98075e-5 -0.000130698 4.28352e-5 -0.00363888 2.73495e-5 -5.77077e-5 0.00397621 0.00331534 0.000387008 0.000476384 0.00190284 0.00135838 0.00225424 -4.61715e-5 -0.000235945 -9.88939e-5 -0.000263539 -0.000210049 -0.000215357 -0.000219645 -1.08055e-5 -4.67956e-5 -1.5823e-5 -1.58096e-5 -1.32332e-5 4.9059e-5 29.9916 0.00290923 31.1745 -0.0282514 0.738102 0.126025 0.341585 0.349718 4.91025e-6 3.62118e-6 -3.18272e-5 2.77596e-5 1.08779e-5 -1.54008e5 -9.92033e-6 -7.72579e-6 2.22294e-6 9.15915e-9 -0.00343317 -0.00353257 -0.00329283 -0.00354275 -0.00203962 -0.00119837 -0.000131553 0.000366139 -0.243362 -0.162241 0.0143468 2.80197 0.00962466 -0.0387564 -0.00433288 -1.25727e-5 -1.07555e-5 -3.19289e-5 0.000164774 -2.40897e-5 0.000151524 -8.27671e-6 3.82523e-5 -6.57957e-5 2.46428e-5 -1.47904e-5 1.80678e-5 3.56976e-6 -4.11328e-6 -1.5216e-5 -1.03691e-5 7.06404e-7 -1.06177e-6 6.15681e-6 -8.5148e-7 -3.74936e-7 9.48071e-6 -1.48363e-5 3.73082e-7 9.92068e-6 -9.11747e-6 -1.87549e-316 -2.45173e-5 -5.27542e-8; 0.000108162 0.000134025 6.64856e-5 7.06253e-5 2.84578e-5 -6.90497e-5 -7.35613e-6 -2.32796e-5 2.54195e-5 -0.000187161 0.000108341 -1.62643e-5 0.000258966 4.39907e-5 0.000290268 -9.51331e-5 0.00808165 -6.07408e-5 0.000128164 -0.00883082 -0.00736308 -0.000859511 -0.00105801 -0.00422604 -0.00301685 -0.00500647 0.000102543 0.000524014 0.000219635 0.000585298 0.000466501 0.00047829 0.000487813 2.39982e-5 0.000103929 3.51415e-5 3.51118e-5 2.93899e-5 -0.000108956 -66.6087 -0.00646116 -69.2358 0.0627439 -1.63926 -0.279889 -0.75863 -0.776694 0.000954598 0.000482401 7.06855e-5 0.000815684 -0.000613545 3.42029e5 5.79623e-5 6.32043e-5 3.85112e-5 -2.03417e-8 -0.01415 -0.00625272 -0.000555094 0.00337575 -0.000349217 0.00264294 0.0071226 0.0310953 1.48675 0.759893 -0.0463749 0.00962466 4.74896 0.54573 0.408439 2.79228e-5 2.3887e-5 7.09114e-5 -0.000365949 5.35012e-5 -0.000336521 1.83819e-5 -8.49551e-5 0.000146126 -5.47295e-5 3.28482e-5 -4.01271e-5 -7.92814e-6 9.13524e-6 3.37934e-5 2.3029e-5 -0.000171699 -4.28977e-5 -0.000373932 -0.000133486 8.32701e-7 -2.10558e-5 3.29501e-5 0.000790886 -2."
     ]
    },
    {
     "name": "stdout",
     "output_type": "stream",
     "text": [
      "2033e-5 2.02491e-5 4.16529e-316 5.44508e-5 1.17163e-7; 0.000217073 0.000268977 0.000133431 0.00014174 5.71126e-5 -0.000138577 -1.47632e-5 -4.67204e-5 5.1015e-5 -0.000375618 0.000217432 -3.26412e-5 0.000519724 8.82859e-5 0.000582545 -0.000190925 0.0162192 -0.000121902 0.000257215 -0.0177228 -0.0147771 -0.00172497 -0.00212334 -0.00848132 -0.00605458 -0.0100476 0.000205796 0.00105166 0.00044079 0.00117465 0.000936231 0.00095989 0.000979003 4.81625e-5 0.000208578 7.05262e-5 7.04666e-5 5.89832e-5 -0.000218666 -133.679 -0.012967 -138.951 0.125922 -3.28987 -0.561716 -1.52251 -1.55876 0.00132802 0.000669566 0.00014186 0.00110291 -0.000872528 6.86431e5 9.44521e-5 9.88141e-5 5.08384e-5 -4.08241e-8 -0.0151417 -0.00396591 0.003676 0.00950976 0.00226943 0.00531546 0.0101362 0.0429804 2.40772 1.28179 -0.0842363 -0.0387564 0.54573 8.92469 0.576912 5.60389e-5 4.79393e-5 0.000142314 -0.000734432 0.000107373 -0.000675372 3.6891e-5 -0.000170498 0.000293265 -0.000109838 6.59237e-5 -8.0532e-5 -1.59112e-5 1.83337e-5 6.78207e-5 4.62173e-5 -0.000241014 -5.85413e-5 -0.000531132 -0.000185481 1.67117e-6 -4.22574e-5 6.61282e-5 0.00110526 -4.42185e-5 4.06384e-5 8.35942e-316 0.000109279 2.35136e-7; 0.000129485 0.000160446 7.95921e-5 8.45479e-5 3.40678e-5 -8.26616e-5 -8.80626e-6 -2.78688e-5 3.04306e-5 -0.000224057 0.000129699 -1.94705e-5 0.000310016 5.26627e-5 0.000347489 -0.000113887 0.0096748 -7.27148e-5 0.000153429 -0.0105717 -0.00881458 -0.00102895 -0.00126657 -0.00505913 -0.00361157 -0.00599341 0.000122757 0.000627315 0.000262932 0.000700679 0.000558464 0.000572576 0.000583977 2.8729e-5 0.000124417 4.2069e-5 4.20334e-5 3.51836e-5 -0.000130434 -79.7395 -0.00773486 -82.8845 0.0751127 -1.96241 -0.335065 -0.908181 -0.929806 0.000982304 0.000495981 8.46199e-5 0.00083066 -0.000636533 409456.0 6.34166e-5 6.80107e-5 3.88815e-5 -2.43517e-8 -0.0133202 -0.00514206 0.000643249 0.0047879 0.000392886 0.00316703 0.00739141 0.0319217 1.62256 0.84328 -0.0531049 -0.00433288 0.408439 0.576912 16.5521 3.34273e-5 2.85959e-5 8.48903e-5 -0.00043809 6.4048e-5 -0.00040286 2.20055e-5 -0.000101703 0.000174933 -6.55185e-5 3.93236e-5 -4.80375e-5 -9.49103e-6 1.09361e-5 4.04552e-5 2.75687e-5 -0.000177269 -4.38323e-5 -0.000387767 -0.0001373 9.96854e-7 -2.52066e-5 3.94456e-5 0.000815205 -2.63764e-5 2.42409e-5 4.98641e-316 6.51849e-5 1.40259e-7; 8.54357e-8 7.00439e-8 1.08512e-7 1.12469e-7 9.23219e-8 3.51929e-8 2.41901e-8 -2.08139e-7 1.00462e-7 6.11951e-8 1.22279e-7 2.4983e-7 1.89434e-7 1.4433e-7 4.82719e-7 6.46948e-9 -6.45327e-6 -1.41859e-8 2.99323e-8 -2.06242e-6 -1.71963e-6 -2.00737e-7 -2.47095e-7 -9.86981e-7 -7.04577e-7 -1.16925e-6 2.39486e-8 1.22382e-7 5.12952e-8 1.36695e-7 1.0895e-7 1.11703e-7 1.13928e-7 5.60472e-9 2.42724e-8 8.20721e-9 8.20027e-9 6.86394e-9 -2.54463e-8 -0.0155563 -1.50899e-6 -0.0161699 -9.80516e-5 -0.00233819 -0.000968564 -0.000757154 -0.000930174 7.29373e-8 3.64651e-8 -7.69604e-8 5.41925e-8 -5.17212e-8 79.8814 7.95462e-9 7.60722e-9 2.24382e-9 -2.18792e-11 7.8375e-8 7.30088e-7 1.09281e-6 1.48636e-6 6.7648e-7 6.20132e-7 6.02246e-7 2.30473e-6 0.000200209 0.000115391 -8.5761e-6 -1.25727e-5 2.79228e-5 5.60389e-5 3.34273e-5 0.180495 5.43613e-8 9.77113e-8 -2.80367e-7 2.51998e-7 -3.40851e-7 2.38738e-8 -9.85732e-8 1.97174e-7 -6.37394e-8 4.95665e-8 -4.06778e-8 -1.08621e-8 1.51267e-8 4.54812e-8 2.99497e-8 -1.36674e-8 -2.98742e-9 -3.13588e-8 -1.01423e-8 1.94475e-10 -4.91754e-9 7.69541e-9 6.17037e-8 -5.14575e-9 4.72913e-9 9.72815e-320 6.5035e-8 -1.51803e-9; 8.78605e-8 6.94317e-8 1.15656e-7 1.19776e-7 1.00012e-7 4.27056e-8 2.70544e-8 -2.2782e-7 1.09148e-7 7.81055e-8 1.28414e-7 2.75989e-7 1.93713e-7 1.56381e-7 5.14817e-7 1.25774e-8 -7.56825e-6 -1.21355e-8 2.56061e-8 -1.76432e-6 -1.47108e-6 -1.71723e-7 -2.11381e-7 -8.44327e-7 -6.02741e-7 -1.00025e-6 2.04872e-8 1.04694e-7 4.38812e-8 1.16938e-7 9.32031e-8 9.55584e-8 9.74611e-8 4.79464e-9 2.07642e-8 7.02098e-9 7.01504e-9 5.87186e-9 -2.17685e-8 -0.0133079 -1.29089e-6 -0.0138328 -0.00011155 -0.00248029 -0.00105031 -0.000790108 -0.000979563 6.23953e-8 3.11946e-8 -8.87842e-8 4.63598e-8 -4.42456e-8 68.3358 6.8049e-9 6.50771e-9 1.91951e-9 -2.2922e-11 6.7047e-8 6.24565e-7 9.3486e-7 1.27153e-6 5.78705e-7 5.30501e-7 5.152e-7 1.97161e-6 0.000171272 9.87134e-5 -7.33655e-6 -1.07555e-5 2.3887e-5 4.79393e-5 2.85959e-5 5.43613e-8 0.172619 1.03512e-7 -2.87693e-7 2.74375e-7 -3.55972e-7 2.52304e-8 -1.03655e-7 2.08704e-7 -6.70373e-8 5.26879e-8 -4.24843e-8 -1.15043e-8 1.61303e-8 4.8136e-8 3.16534e-8 -1.16919e-8 -2.55564e-9 -2.68264e-8 -8.67639e-9 1.66367e-10 -4.20678e-9 6.58315e-9 5.27853e-8 -4.40201e-9 4.0456e-9 8.32204e-320 6.84797e-8 -1.67803e-9; 1.7436e-7 1.50447e-7 2.09731e-7 2.17664e-7 1.73791e-7 5.30362e-8 4.30871e-8 -3.85051e-7 1.88197e-7 8.11267e-8 2.41867e-7 4.54868e-7 3.89769e-7 2.71611e-7 9.3209e-7 -3.88338e-9 -1.04825e-5 -3.60257e-8 7.60147e-8 -5.23761e-6 -4.36708e-6 -5.09781e-7 -6.2751e-7 -2.50649e-6 -1.78931e-6 -2.96937e-6 6.08188e-8 3.10796e-7 1.30267e-7 3.47143e-7 2.76684e-7 2.83676e-7 2.89325e-7 1.42335e-8 6.16409e-8 2.08426e-8 2.0825e-8 1.74313e-8 -6.46223e-8 -0.039506 -3.83215e-6 -0.0410642 -0.000169203 -0.00455341 -0.00182019 -0.00151216 -0.00183203 1.85228e-7 9.2605e-8 -1.29262e-7 1.37625e-7 -1.31348e-7 202.863 2.02012e-8 1.93189e-8 5.69828e-9 -4.34351e-11 1.99037e-7 1.8541e-6 2.77524e-6 3.7747e-6 1.71796e-6 1.57486e-6 1.52943e-6 5.85297e-6 0.000508441 0.000293042 -2.17794e-5 -3.19289e-5 7.09114e-5 0.000142314 8.48903e-5 9.77113e-8 1.03512e-7 0.0793401 -5.74002e-7 4.70376e-7 -6.7991e-7 4.6764e-8 -1.94583e-7 3.85284e-7 -1.25788e-7 9.62118e-8 -8.11361e-8 -2.12048e-8 2.92149e-8 8.88862e-8 5.86604e-8 -3.47089e-8 -7.58671e-9 -7.96374e-8 -2.57569e-8 4.9388e-10 -1.24883e-8 1.95429e-8 1.567e-7 -1.30679e-8 1.20099e-8 2.47048e-319 1.28115e-7 -2.76087e-9; -5.95755e-7 -5.80643e-7 -6.12508e-7 -6.38336e-7 -4.63965e-7 -1.43896e-8 -9.1446e-8 9.62879e-7 -4.93593e-7 1.11416e-7 -7.58181e-7 -1.06585e-6 -1.35987e-6 -7.24318e-7 -2.7136e-6 1.64997e-7 1.19518e-5 1.85917e-7 -3.92286e-7 2.70295e-5 2.2537e-5 2.63081e-6 3.23837e-6 1.29351e-5 9.23401e-6 1.53239e-5 -3.13865e-7 -1.60391e-6 -6.72261e-7 -1.79149e-6 -1.42787e-6 -1.46396e-6 -1.49311e-6 -7.3454e-8 -3.18108e-7 -1.07562e-7 -1.07471e-7 -8.9957e-8 3.33493e-7 0.203877 1.97764e-5 0.211918 0.000303709 0.0136184 0.00482958 0.00487318 0.00567097 -9.55897e-7 -4.77903e-7 1.94786e-7 -7.10234e-7 6.77844e-7 -1046.91 -1.04251e-7 -9.96982e-8 -2.94069e-8 1.37605e-10 -1.02716e-6 -9.56835e-6 -1.43221e-5 -1.94799e-5 -8.86578e-6 -8.12729e-6 -7.89288e-6 -3.02052e-5 -0.00262389 -0.00151229 0.000112396 0.000164774 -0.000365949 -0.000734432 -0.00043809 -2.80367e-7 -2.87693e-7 -5.74002e-7 0.18044 -1.21726e-6 2.18362e-6 -1.42393e-7 6.06351e-7 -1.16446e-6 3.91663e-7 -2.84825e-7 2.60528e-7 6.39011e-8 -8.51144e-8 -2.68777e-7 -1.78569e-7 1.79121e-7 3.91524e-8 4.10981e-7 1.32923e-7 -2.54875e-9 6.4448e-8 -1.00854e-7 -8.08673e-7 6.74389e-8 -6.19788e-8 -1.27492e-318 -3.96796e-7 6.43912e-9; 3.73665e-7 2.69392e-7 5.32361e-7 5.5038e-7 4.7584e-7 2.46499e-7 1.3675e-7 -1.10609e-6 5.22317e-7 4.83301e-7 5.72669e-7 1.36367e-6 8.1292e-7 7.44302e-7 2.37272e-6 1.12495e-7 -4.14679e-5 -2.71807e-8 5.73515e-8 -3.95167e-6 -3.29488e-6 -3.84619e-7 -4.73444e-7 -1.89109e-6 -1.35e-6 -2.24033e-6 4.58865e-8 2.34489e-7 9.82835e-8 2.61913e-7 2.08753e-7 2.14028e-7 2.1829e-7 1.07389e-8 4.65068e-8 1.57253e-8 1.5712e-8 1.31516e-8 -4.87562e-8 -0.0298065 -2.89128e-6 -0.0309821 -0.000581133 -0.0113028 -0.00500733 -0.00347445 -0.00439496 1.39751e-7 6.98686e-8 -4.736e-7 1.03835e-7 -9.90997e-8 153.056 1.52414e-8 1.45757e-8 4.29924e-9 -1.01688e-10 1.50169e-7 1.39888e-6 2.09387e-6 2.84793e-6 1.29616e-6 1.1882e-6 1.15393e-6 4.41595e-6 0.000383609 0.000221095 -1.64321e-5 -2.40897e-5 5.35012e-5 0.000107373 6.4048e-5 2.51998e-7 2.74375e-7 4.70376e-7 -1.21726e-6 0.161299 -1.56818e-6 1.14066e-7 -4.6359e-7 9.46709e-7 -2.99933e-7 2.41155e-7 -1.87177e-7 -5.22526e-8 7.43205e-8 2.18303e-7 1.43122e-7 -2.61872e-8 -5.72402e-9 -6.00848e-8 -1.94331e-8 3.72622e-10 -9.42219e-9 1.47447e-8 1.18227e-7 -9.85945e-9 9.06119e-9 1.86391e-319 3.07163e-7 -8.30096e-9; -6.60607e-7 -6.0655e-7 -7.37495e-7 -7.6685e-7 -5.87202e-7 -1.09399e-7 -1.32641e-7 1.26529e-6 -6.31031e-7 -9.4127e-8 -8.78934e-7 -1.45542e-6 -1.49216e-6 -9.17278e-7 -3.27291e-6 9.7971e-8 2.66204e-5 1.70966e-7 -3.60739e-7 2.48559e-5 2.07247e-5 2.41925e-6 2.97795e-6 1.18949e-5 8.49145e-6 1.40916e-5 -2.88625e-7 -1.47493e-6 -6.18201e-7 -1.64742e-6 -1.31305e-6 -1.34623e-6 -1.37304e-6 -6.75471e-8 -2.92527e-7 -9.89119e-8 -9.88283e-8 -8.2723e-8 3.06675e-7 0.187482 1.81861e-5 0.194877 0.000490484 0.0161874 0.0061337 0.00556811 0.00661807 -8.79028e-7 -4.39472e-7 3.54273e-7 -6.53119e-7 6.23335e-7 -962.718 -9.58678e-8 -9.16809e-8 -2.70421e-8 1.58636e-10 -9.44562e-7 -8.7989e-6 -1.31704e-5 -1.79134e-5 -8.15283e-6 -7.47373e-6 -7.25817e-6 -2.77762e-5 -0.00241289 -0.00139068 0.000103358 0.000151524 -0.000336521 -0.000675372 -0.00040286 -3.40851e-7 -3.55972e-7 -6.7991e-7 2.18362e-6 -1.56818e-6 0.102622 -1.67635e-7 7.05126e-7 -1.37635e-6 4.55656e-7 -3.40427e-7 2.98242e-7 7.56472e-8 -1.02618e-7 -3.17601e-7 -2.10254e-7 1.64717e-7 3.60039e-8 3.77932e-7 1.22233e-7 -2.34378e-9 5.92653e-8 -9.27438e-8 -7.43643e-7 6.20157e-8 -5.69947e-8 -1.17239e-318 -4.62926e-7 8.81722e-9; 4.32218e-8 3.77269e-8 5.13131e-8 5.32713e-8 4.22368e-8 1.20627e-8 1.03182e-8 -9.31566e-8 4.56805e-8 1.75844e-8 5.95125e-8 1.09582e-7 9.68018e-8 6.60049e-8 2.27991e-7 -1.94887e-9 -2.44338e-6 -9.3387e-9 1.97047e-8 -1.35771e-6 -1.13205e-6 -1.32147e-7 -1.62665e-7 -6.49739e-7 -4.6383e-7 -7.69728e-7 1.57656e-8 8.05655e-8 3.37681e-8 8.99876e-8 7.1723e-8 7.35355e-8 7.49997e-8 3.68964e-9 1.59787e-8 5.40288e-9 5.39832e-9 4.5186e-9 -1.67516e-8 -0.0102409 -9.93381e-7 -0.0106448 -4.01597e-5 -0.00111613 -0.00044217 -0.000372939 -0.000450312 4.80153e-8 2.40053e-8 -3.04378e-8 3.56755e-8 -3.40485e-8 52.5867 5.2366e-9 5.0079e-9 1.47713e-9 -1.06968e-11 5.1595e-8 4.80624e-7 7.19407e-7 9.78488e-7 4.45333e-7 4.08239e-7 3.96464e-7 1.51722e-6 0.0001318 7.59633e-5 -5.64573e-6 -8.27671e-6 1.83819e-5 3.6891e-5 2.20055e-5 2.38738e-8 2.52304e-8 4.6764e-8 -1.42393e-7 1.14066e-7 -1.67635e-7 0.0232107 -4.78546e-8 9.45193e-8 -3.09335e-8 2.35643e-8 -2.00041e-8 -5.20082e-9 7.14643e-9 2.18068e-8 1.43991e-8 -8.99735e-9 -1.96665e-9 -2.06438e-8 -6.67678e-9 1.28025e-10 -3.23726e-9 5.06596e-9 4.06201e-8 -3.3875e-9 3.11323e-9 6.40408e-320 3.14919e-8 -6.64923e-10; -1.83781e-7 -1.64076e-7 -2.12466e-7 -2.20722e-7 -1.72459e-7 -4.21249e-8 -4.08091e-8 3.76723e-7 -1.86025e-7 -5.34173e-8 -2.49301e-7 -4.39117e-7 -4.13151e-7 -2.69462e-7 -9.43542e-7 1.66235e-8 9.07809e-6 4.31605e-8 -9.10691e-8 6.2749e-6 5.23197e-6 6.10741e-7 7.51786e-7 3.00289e-6 2.14368e-6 3.55744e-6 -7.28637e-8 -3.72348e-7 -1.56065e-7 -4.15894e-7 -3.31481e-7 -3.39858e-7 -3.46625e-7 -1.70523e-8 -7.38487e-8 -2.49704e-8 -2.49493e-8 -2.08835e-8 7.74204e-8 0.0473301 4.59109e-6 0.0491968 0.000155683 0.00463926 0.00180377 0.00156962 0.0018824 -2.21911e-7 -1.10945e-7 1.15858e-7 -1.64881e-7 1.57361e-7 -243.039 -2.42019e-8 -2.31449e-8 -6.8268e-9 4.48897e-11 -2.38456e-7 -2.22129e-6 -3.32487e-6 -4.52226e-6 -2.05819e-6 -1.88675e-6 -1.83233e-6 -7.01213e-6 -0.000609136 -0.000351078 2.60928e-5 3.82523e-5 -8.49551e-5 -0.000170498 -0.000101703 -9.85732e-8 -1.03655e-7 -1.94583e-7 6.06351e-7 -4.6359e-7 7.05126e-7 -4.78546e-8 0.181289 -3.9355e-7 1.29436e-7 -9.7784e-8 8.41411e-8 2.16443e-8 -2.95789e-8 -9.08043e-8 -6.00246e-8 4.15829e-8 9.08923e-9 9.54092e-8 3.0858e-8 -5.91691e-10 1.49616e-8 -2.34133e-8 -1.87733e-7 1.56559e-8 -1.43884e-8 -2.9597e-319 -1.31655e-7 2.66277e-9; 3.53626e-7 3.06371e-7 4.2342e-7 4.39486e-7 3.50049e-7 1.04451e-7 8.63454e-8 -7.74352e-7 3.78901e-7 1.57282e-7 4.89266e-7 9.1342e-7 7.91031e-7 5.47062e-7 1.88161e-6 -1.07083e-8 -2.08146e-5 -7.42379e-8 1.56643e-7 -1.07931e-5 -8.99921e-6 -1.0505e-6 -1.2931e-6 -5.1651e-6 -3.68721e-6 -6.11895e-6 1.25329e-7 6.40455e-7 2.68439e-7 7.15356e-7 5.70161e-7 5.8457e-7 5.9621e-7 2.93308e-8 1.27023e-7 4.29502e-8 4.29139e-8 3.59206e-8 -1.33167e-7 -0.0814098 -7.89688e-6 -0.0846206 -0.000338045 -0.00919875 -0.00366565 -0.0030614 -0.00370463 3.81697e-7 1.9083e-7 -2.57553e-7 2.83602e-7 -2.70669e-7 418.038 4.16284e-8 3.98103e-8 1.17424e-8 -8.78907e-11 4.10154e-7 3.82072e-6 5.71892e-6 7.77849e-6 3.54018e-6 3.24529e-6 3.15169e-6 1.20612e-5 0.00104774 0.00060387 -4.48807e-5 -6.57957e-5 0.000146126 0.000293265 0.000174933 1.97174e-7 2.08704e-7 3.85284e-7 -1.16446e-6 9.46709e-7 -1.37635e-6 9.45193e-8 -3.9355e-7 0.0176845 -2.54403e-7 1.94311e-7 -1.64244e-7 -4.28466e-8 5.89773e-8 1.79622e-7 1.18563e-7 -7.15244e-8 -1.56339e-8 -1.64108e-7 -5.3077e-8 1.01773e-9 -2.57346e-8 4.02718e-8 3.2291e-7 -2.69289e-8 2.47486e-8 5.09085e-319 2.5907e-7 -5.54353e-9; -1.18717e-7 -1.05908e-7 -1.37371e-7 -1.42706e-7 -1.11559e-7 -2.7412e-8 -2.64285e-8 2.43775e-7 -1.20346e-7 -3.49733e-8 -1.61122e-7 -2.84243e-7 -2.66848e-7 -1.74309e-7 -6.10064e-7 1.05557e-8 5.89286e-6 2.78047e-8 -5.86682e-8 4.04239e-6 3.37052e-6 3.9345e-7 4.84313e-7 1.93451e-6 1.38099e-6 2.29176e-6 -4.694e-8 -2.39873e-7 -1.0054e-7 -2.67926e-7 -2.13545e-7 -2.18942e-7 -2.23301e-7 -1.09854e-8 -4.75746e-8 -1.60864e-8 -1.60727e-8 -1.34535e-8 4.98755e-8 0.0304908 2.95766e-6 0.0316934 0.000100896 0.00299914 0.00116685 0.00101428 0.00121668 -1.42959e-7 -7.14727e-8 7.51376e-8 -1.06219e-7 1.01375e-7 -156.57 -1.55913e-8 -1.49104e-8 -4.39794e-9 2.90103e-11 -1.53617e-7 -1.43099e-6 -2.14194e-6 -2.91332e-6 -1.32592e-6 -1.21548e-6 -1.18042e-6 -4.51733e-6 -0.000392416 -0.00022617 1.68094e-5 2.46428e-5 -5.47295e-5 -0.000109838 -6.55185e-5 -6.37394e-8 -6.70373e-8 -1.25788e-7 3.91663e-7 -2.99933e-7 4.55656e-7 -3.09335e-8 1.29436e-7 -2.54403e-7 0.123276 -6.32181e-8 5.43725e-8 1.39918e-8 -1.91247e-8 -5.86987e-8 -3.88002e-8 2.67884e-8 5.85543e-9 6.14642e-8 1.98792e-8 -3.81177e-10 9.63851e-9 -1.50832e-8 -1.20941e-7 1.00858e-8 -9.26922e-9 -1.9067e-319 -8.50943e-8 1.72366e-9; 8.66134e-8 7.34546e-8 1.06185e-7 1.1015e-7 8.88269e-8 2.95526e-8 2.24757e-8 -1.98055e-7 9.63599e-8 4.77699e-8 1.21459e-7 2.35343e-7 1.93078e-7 1.38839e-7 4.72073e-7 9.87585e-10 -5.66596e-6 -1.66882e-8 3.52122e-8 -2.42621e-6 -2.02296e-6 -2.36145e-7 -2.90681e-7 -1.16108e-6 -8.28859e-7 -1.37549e-6 2.8173e-8 1.4397e-7 6.03432e-8 1.60807e-7 1.28168e-7 1.31407e-7 1.34024e-7 6.59334e-9 2.85538e-8 9.65489e-9 9.64673e-9 8.07468e-9 -2.99349e-8 -0.0183003 -1.77516e-6 -0.0190221 -8.9327e-5 -0.0022992 -0.000930892 -0.000756812 -0.00092138 8.58028e-8 4.28973e-8 -6.89566e-8 6.37517e-8 -6.08443e-8 93.9719 9.35775e-9 8.94907e-9 2.63961e-9 -2.17841e-11 9.21997e-8 8.5887e-7 1.28557e-6 1.74855e-6 7.95806e-7 7.29518e-7 7.08477e-7 2.71126e-6 0.000235525 0.000135746 -1.00889e-5 -1.47904e-5 3.28482e-5 6.59237e-5 3.93236e-5 4.95665e-8 5.26879e-8 9.62118e-8 -2.84825e-7 2.41155e-7 -3.40427e-7 2.35643e-8 -9.7784e-8 1.94311e-7 -6.32181e-8 0.02893 -4.06254e-8 -1.06979e-8 1.47952e-8 4.48257e-8 2.95598e-8 -1.60782e-8 -3.51438e-9 -3.68903e-8 -1.19313e-8 2.28779e-10 -5.78495e-9 9.05282e-9 7.25877e-8 -6.05342e-9 5.56331e-9 1.1444e-319 6.44281e-8 -1.42902e-9; -7.88182e-8 -7.23557e-8 -8.80119e-8 -9.15145e-8 -7.00851e-8 -1.30848e-8 -1.58364e-8 1.51032e-7 -7.53182e-8 -1.13053e-8 -1.0488e-7 -1.73742e-7 -1.78027e-7 -1.09481e-7 -3.90588e-7 1.16599e-8 3.18072e-6 2.03861e-8 -4.30149e-8 2.96384e-6 2.47123e-6 2.88473e-7 3.55093e-7 1.41836e-6 1.01253e-6 1.68029e-6 -3.44159e-8 -1.75872e-7 -7.37148e-8 -1.9644e-7 -1.56569e-7 -1.60526e-7 -1.63722e-7 -8.05438e-9 -3.48812e-8 -1.17943e-8 -1.17844e-8 -9.86397e-9 3.65682e-8 0.0223555 2.16852e-6 0.0232373 5.85734e-5 0.00193172 0.00073209 0.000664398 0.000789727 -1.04816e-7 -5.2403e-8 4.23164e-8 -7.78786e-8 7.4327e-8 -114.795 -1.14314e-8 -1.09321e-8 -3.22452e-9 1.89292e-11 -1.1263e-7 -1.04919e-6 -1.57045e-6 -2.13601e-6 -9.72151e-7 -8.91174e-7 -8.65471e-7 -3.31206e-6 -0.000287715 -0.000165826 1.23245e-5 1.80678e-5 -4.01271e-5 -8.0532e-5 -4.80375e-5 -4.06778e-8 -4.24843e-8 -8.11361e-8 2.60528e-7 -1.87177e-7 2.98242e-7 -2.00041e-8 8.41411e-8 -1.64244e-7 5.43725e-8 -4.06254e-8 0.0611305 9.02725e-9 -1.22463e-8 -3.79003e-8 -2.50899e-8 1.9641e-8 4.29314e-9 4.50649e-8 1.45752e-8 -2.79475e-10 7.06686e-9 -1.10589e-8 -8.86726e-8 7.39481e-9 -6.7961e-9 -1.39796e-319 -5.52404e-8 1.05258e-9; -1.94094e"
     ]
    },
    {
     "name": "stdout",
     "output_type": "stream",
     "text": [
      "-8 -1.6766e-8 -2.33178e-8 -2.42005e-8 -1.93099e-8 -5.85742e-9 -4.78083e-9 4.27648e-8 -2.09081e-8 -8.92262e-9 -2.69051e-8 -5.0499e-8 -4.33961e-8 -3.01784e-8 -1.03627e-7 4.74542e-10 1.16025e-6 4.0278e-9 -8.4987e-9 5.85583e-7 4.88255e-7 5.69953e-8 7.01578e-8 2.80234e-7 2.00051e-7 3.31985e-7 -6.79975e-9 -3.47481e-8 -1.45643e-8 -3.88118e-8 -3.09343e-8 -3.1716e-8 -3.23475e-8 -1.59135e-9 -6.89167e-9 -2.33028e-9 -2.3283e-9 -1.94888e-9 7.22499e-9 0.00441691 4.28447e-7 0.00459112 1.87589e-5 0.000506336 0.000202232 0.000168249 0.000203774 -2.07091e-8 -1.03536e-8 1.43204e-8 -1.53869e-8 1.46852e-8 -22.6808 -2.25856e-9 -2.15992e-9 -6.37087e-10 4.83209e-12 -2.2253e-8 -2.07294e-7 -3.10282e-7 -4.22024e-7 -1.92073e-7 -1.76074e-7 -1.70996e-7 -6.54382e-7 -5.68455e-5 -3.27631e-5 2.43501e-6 3.56976e-6 -7.92814e-6 -1.59112e-5 -9.49103e-6 -1.08621e-8 -1.15043e-8 -2.12048e-8 6.39011e-8 -5.22526e-8 7.56472e-8 -5.20082e-9 2.16443e-8 -4.28466e-8 1.39918e-8 -1.06979e-8 9.02725e-9 0.223427 -3.24804e-9 -9.88489e-9 -6.52386e-9 3.88058e-9 8.4822e-10 8.90373e-9 2.87971e-9 -5.52175e-11 1.39624e-9 -2.18496e-9 -1.75196e-8 1.46103e-9 -1.34274e-9 -2.76183e-320 -1.425e-8 3.065e-10; 2.59102e-8 2.16015e-8 3.23469e-8 3.35403e-8 2.72982e-8 9.77311e-9 7.03531e-9 -6.12197e-8 2.96612e-8 1.64625e-8 3.67157e-8 7.31322e-8 5.76016e-8 4.26722e-8 1.43853e-7 1.14355e-9 -1.82836e-6 -4.64106e-9 9.79268e-9 -6.74741e-7 -5.62595e-7 -6.56731e-8 -8.08397e-8 -3.22901e-7 -2.3051e-7 -3.82532e-7 7.83505e-9 4.00387e-8 1.67817e-8 4.47212e-8 3.56442e-8 3.65449e-8 3.72726e-8 1.83364e-9 7.94097e-9 2.68507e-9 2.6828e-9 2.24561e-9 -8.32504e-9 -0.00508941 -4.93681e-7 -0.00529014 -2.8256e-5 -0.000698642 -0.000286242 -0.00022804 -0.00027892 2.38622e-8 1.19299e-8 -2.20082e-8 1.77297e-8 -1.69211e-8 26.134 2.60244e-9 2.48878e-9 7.34088e-10 -6.57705e-12 2.56412e-8 2.38856e-7 3.57524e-7 4.8628e-7 2.21318e-7 2.02883e-7 1.97031e-7 7.54016e-7 6.55005e-5 3.77515e-5 -2.80576e-6 -4.11328e-6 9.13524e-6 1.83337e-5 1.09361e-5 1.51267e-8 1.61303e-8 2.92149e-8 -8.51144e-8 7.43205e-8 -1.02618e-7 7.14643e-9 -2.95789e-8 5.89773e-8 -1.91247e-8 1.47952e-8 -1.22463e-8 -3.24804e-9 0.0251539 1.36048e-8 8.96497e-9 -4.47142e-9 -9.77367e-10 -1.02594e-8 -3.31816e-9 6.36246e-11 -1.60882e-9 2.51763e-9 2.0187e-8 -1.68349e-9 1.54718e-9 3.18277e-320 1.95024e-8 -4.44225e-10; 8.16207e-8 7.07491e-8 9.76744e-8 1.01382e-7 8.07258e-8 2.40195e-8 1.98997e-8 -1.78541e-7 8.73747e-8 3.60954e-8 1.12891e-7 2.10567e-7 1.82593e-7 1.26159e-7 4.34045e-7 -2.5524e-9 -4.79151e-6 -1.71683e-8 3.62254e-8 -2.49602e-6 -2.08117e-6 -2.4294e-7 -2.99045e-7 -1.19449e-6 -8.52709e-7 -1.41507e-6 2.89837e-8 1.48112e-7 6.20796e-8 1.65434e-7 1.31856e-7 1.35188e-7 1.3788e-7 6.78306e-9 2.93755e-8 9.93271e-9 9.92431e-9 8.30703e-9 -3.07962e-8 -0.0188269 -1.82624e-6 -0.0195695 -7.78782e-5 -0.00212213 -0.000845331 -0.000706446 -0.000854753 8.82717e-8 4.41316e-8 -5.93144e-8 6.55861e-8 -6.25951e-8 96.6759 9.62702e-9 9.20657e-9 2.71556e-9 -2.02803e-11 9.48527e-8 8.83584e-7 1.32256e-6 1.79886e-6 8.18705e-7 7.5051e-7 7.28864e-7 2.78928e-6 0.000242302 0.000139652 -1.03792e-5 -1.5216e-5 3.37934e-5 6.78207e-5 4.04552e-5 4.54812e-8 4.8136e-8 8.88862e-8 -2.68777e-7 2.18303e-7 -3.17601e-7 2.18068e-8 -9.08043e-8 1.79622e-7 -5.86987e-8 4.48257e-8 -3.79003e-8 -9.88489e-9 1.36048e-8 0.0243515 2.7354e-8 -1.65408e-8 -3.61551e-9 -3.79518e-8 -1.22747e-8 2.35362e-10 -5.95141e-9 9.31331e-9 7.46764e-8 -6.2276e-9 5.72339e-9 1.17731e-319 5.97742e-8 -1.27791e-9; 5.42035e-8 4.73e-8 6.43704e-8 6.68264e-8 5.29928e-8 1.51591e-8 1.29504e-8 -1.16892e-7 5.73153e-8 2.21256e-8 7.46462e-8 1.37517e-7 1.21392e-7 8.28139e-8 2.86008e-7 -2.41539e-9 -3.0687e-6 -1.16996e-8 2.46863e-8 -1.70095e-6 -1.41824e-6 -1.65555e-7 -2.03788e-7 -8.13999e-7 -5.81091e-7 -9.64322e-7 1.97513e-8 1.00933e-7 4.2305e-8 1.12737e-7 8.98552e-8 9.21259e-8 9.39603e-8 4.62241e-9 2.00183e-8 6.76878e-9 6.76306e-9 5.66094e-9 -2.09865e-8 -0.0128299 -1.24452e-6 -0.0133359 -5.04153e-5 -0.00140008 -0.000554779 -0.000467751 -0.000564839 6.0154e-8 3.00741e-8 -3.8218e-8 4.46946e-8 -4.26563e-8 65.8811 6.56047e-9 6.27395e-9 1.85056e-9 -1.34167e-11 6.46387e-8 6.0213e-7 9.0128e-7 1.22586e-6 5.57918e-7 5.11446e-7 4.96694e-7 1.90079e-6 0.00016512 9.51676e-5 -7.07302e-6 -1.03691e-5 2.3029e-5 4.62173e-5 2.75687e-5 2.99497e-8 3.16534e-8 5.86604e-8 -1.78569e-7 1.43122e-7 -2.10254e-7 1.43991e-8 -6.00246e-8 1.18563e-7 -3.88002e-8 2.95598e-8 -2.50899e-8 -6.52386e-9 8.96497e-9 2.7354e-8 0.0259973 -1.1272e-8 -2.46384e-9 -2.58628e-8 -8.36473e-9 1.60391e-10 -4.05567e-9 6.34668e-9 5.08893e-8 -4.24389e-9 3.90029e-9 8.02313e-320 3.95011e-8 -8.34432e-10; -5.29421e-8 -6.5601e-8 -3.25427e-8 -3.45689e-8 -1.39292e-8 3.37977e-8 3.6006e-9 1.13946e-8 -1.24421e-8 9.16098e-8 -5.30297e-8 7.96088e-9 -1.26756e-7 -2.15321e-8 -1.42077e-7 4.65647e-8 -3.95572e-6 2.97308e-8 -6.27322e-8 4.32241e-6 3.604e-6 4.20704e-7 5.17862e-7 2.06851e-6 1.47665e-6 2.45051e-6 -5.01916e-8 -2.56489e-7 -1.07504e-7 -2.86485e-7 -2.28338e-7 -2.34108e-7 -2.3877e-7 -1.17464e-8 -5.08701e-8 -1.72007e-8 -1.71861e-8 -1.43854e-8 5.33304e-8 0.0326029 3.16254e-6 0.0338888 -3.07112e-5 0.000802367 0.000136997 0.000371326 0.000380168 -4.12414e-7 -2.08267e-7 -3.45984e-8 -3.49427e-7 2.66839e-7 -167.413 -2.63302e-8 -2.83215e-8 -1.63826e-8 9.95662e-12 5.68935e-6 2.25985e-6 -1.75145e-7 -1.90745e-6 -1.06157e-7 -1.29469e-6 -3.09838e-6 -1.34081e-5 -0.000673979 -0.000349252 2.18749e-5 7.06404e-7 -0.000171699 -0.000241014 -0.000177269 -1.36674e-8 -1.16919e-8 -3.47089e-8 1.79121e-7 -2.61872e-8 1.64717e-7 -8.99735e-9 4.15829e-8 -7.15244e-8 2.67884e-8 -1.60782e-8 1.9641e-8 3.88058e-9 -4.47142e-9 -1.65408e-8 -1.1272e-8 0.0621037 1.8427e-8 1.62568e-7 5.76492e-8 -4.07581e-10 1.03062e-8 -1.6128e-8 -3.42152e-7 1.07845e-8 -9.91131e-9 -2.03876e-319 -2.6652e-8 -5.73475e-11; -1.15721e-8 -1.43391e-8 -7.1132e-9 -7.55611e-9 -3.04466e-9 7.38753e-9 7.87022e-10 2.49065e-9 -2.7196e-9 2.00241e-8 -1.15913e-8 1.7401e-9 -2.77064e-8 -4.7065e-9 -3.10554e-8 1.01782e-8 -8.64644e-7 6.49858e-9 -1.37121e-8 9.44797e-7 7.87765e-7 9.19579e-8 1.13195e-7 4.52138e-7 3.22768e-7 5.35635e-7 -1.09709e-8 -5.60636e-8 -2.34984e-8 -6.26202e-8 -4.99103e-8 -5.11716e-8 -5.21905e-8 -2.56753e-9 -1.11192e-8 -3.75974e-9 -3.75656e-9 -3.14438e-9 1.1657e-8 0.00712638 6.9127e-7 0.00740744 -6.71288e-6 0.000175382 2.9945e-5 8.11648e-5 8.30974e-5 -1.02455e-7 -5.17761e-8 -7.56254e-9 -8.75636e-8 6.58403e-8 -36.5932 -6.21337e-9 -6.77761e-9 -4.13486e-9 2.17633e-12 1.5212e-6 6.73705e-7 6.20317e-8 -3.59658e-7 3.90012e-8 -2.82758e-7 -7.64331e-7 -3.33756e-6 -0.000159383 -8.14341e-5 4.96646e-6 -1.06177e-6 -4.28977e-5 -5.85413e-5 -4.38323e-5 -2.98742e-9 -2.55564e-9 -7.58671e-9 3.91524e-8 -5.72402e-9 3.60039e-8 -1.96665e-9 9.08923e-9 -1.56339e-8 5.85543e-9 -3.51438e-9 4.29314e-9 8.4822e-10 -9.77367e-10 -3.61551e-9 -2.46384e-9 1.8427e-8 0.162044 4.01274e-8 1.4327e-8 -8.90895e-11 2.25273e-9 -3.52528e-9 -8.48818e-8 2.35728e-9 -2.16642e-9 -4.45647e-320 -5.82562e-9 -1.25351e-11; -1.21472e-7 -1.50517e-7 -7.4667e-8 -7.93161e-8 -3.19597e-8 7.75465e-8 8.26133e-9 2.61443e-8 -2.85475e-8 2.10193e-7 -1.21673e-7 1.82657e-8 -2.90833e-7 -4.94039e-8 -3.25987e-7 1.0684e-7 -9.07613e-6 6.82153e-8 -1.43935e-7 9.91749e-6 8.26914e-6 9.65278e-7 1.1882e-6 4.74607e-6 3.38808e-6 5.62254e-6 -1.15161e-7 -5.88497e-7 -2.46662e-7 -6.57321e-7 -5.23906e-7 -5.37145e-7 -5.47841e-7 -2.69513e-8 -1.16718e-7 -3.94658e-8 -3.94324e-8 -3.30064e-8 1.22363e-7 0.0748053 7.25623e-6 0.0777556 -7.04648e-5 0.00184098 0.000314331 0.000851983 0.00087227 -9.00344e-7 -4.54534e-7 -7.93837e-8 -7.60018e-7 5.84219e-7 -384.119 -5.87044e-8 -6.27923e-8 -3.55227e-8 2.28448e-11 1.20184e-5 4.51468e-6 -7.76005e-7 -4.59015e-6 -4.75579e-7 -2.97146e-6 -6.78423e-6 -2.92466e-5 -0.0015014 -0.000782335 4.95005e-5 6.15681e-6 -0.000373932 -0.000531132 -0.000387767 -3.13588e-8 -2.68264e-8 -7.96374e-8 4.10981e-7 -6.00848e-8 3.77932e-7 -2.06438e-8 9.54092e-8 -1.64108e-7 6.14642e-8 -3.68903e-8 4.50649e-8 8.90373e-9 -1.02594e-8 -3.79518e-8 -2.58628e-8 1.62568e-7 4.01274e-8 0.0344637 1.25835e-7 -9.35169e-10 2.36468e-8 -3.70047e-8 -7.47397e-7 2.47442e-8 -2.27408e-8 -4.67786e-319 -6.11512e-8 -1.3158e-10; -3.92874e-8 -4.86814e-8 -2.41493e-8 -2.5653e-8 -1.03366e-8 2.50807e-8 2.67194e-9 8.45577e-9 -9.23305e-9 6.7982e-8 -3.93524e-8 5.90763e-9 -9.40632e-8 -1.59786e-8 -1.05433e-7 3.45549e-8 -2.93547e-6 2.20627e-8 -4.65525e-8 3.20759e-6 2.67446e-6 3.12197e-7 3.84296e-7 1.53501e-6 1.0958e-6 1.81848e-6 -3.72463e-8 -1.90336e-7 -7.97771e-8 -2.12596e-7 -1.69446e-7 -1.73728e-7 -1.77187e-7 -8.71677e-9 -3.77498e-8 -1.27643e-8 -1.27535e-8 -1.06752e-8 3.95756e-8 0.0241941 2.34686e-6 0.0251483 -2.27902e-5 0.000595423 0.000101663 0.000275555 0.000282116 -3.19969e-7 -1.61624e-7 -2.56748e-8 -2.71956e-7 2.06517e-7 -124.234 -2.00574e-8 -2.1681e-8 -1.27838e-8 7.38863e-12 4.53599e-6 1.88032e-6 -1.64996e-8 -1.3507e-6 -8.41358e-9 -9.605e-7 -2.39776e-6 -1.04101e-5 -0.000513795 -0.000264936 1.64423e-5 -8.5148e-7 -0.000133486 -0.000185481 -0.0001373 -1.01423e-8 -8.67639e-9 -2.57569e-8 1.32923e-7 -1.94331e-8 1.22233e-7 -6.67678e-9 3.0858e-8 -5.3077e-8 1.98792e-8 -1.19313e-8 1.45752e-8 2.87971e-9 -3.31816e-9 -1.22747e-8 -8.36473e-9 5.76492e-8 1.4327e-8 1.25835e-7 0.305641 -3.02459e-10 7.64803e-9 -1.19683e-8 -2.65323e-7 8.00296e-9 -7.35501e-9 -1.51293e-319 -1.9778e-8 -4.25566e-11; 7.53323e-10 9.33449e-10 4.63055e-10 4.91888e-10 1.98201e-10 -4.80913e-10 -5.12336e-11 -1.62137e-10 1.77041e-10 -1.30353e-9 7.54569e-10 -1.13277e-10 1.80363e-9 3.06384e-10 2.02164e-9 -6.62578e-10 5.62866e-8 6.93496e-10 -3.72229e-9 -4.64794e-7 -6.26755e-7 1.92717e-8 -1.19428e-8 6.66388e-8 4.84748e-8 8.34841e-8 -4.27953e-10 -6.2574e-9 -3.01117e-8 -1.51256e-8 -5.22474e-10 -1.75727e-9 1.59277e-9 2.84051e-10 9.6633e-10 2.67492e-9 1.28705e-9 3.08824e-10 -1.12813e-9 0.0108065 -2.4615e-8 0.00996927 4.36995e-7 -1.1417e-5 -1.94936e-6 -5.28367e-6 -5.40948e-6 2.1751e-9 1.08745e-9 4.92307e-10 1.6161e-9 -1.5424e-9 2.38219 2.37219e-10 2.26859e-10 6.6914e-11 -1.41675e-13 2.33726e-9 2.17723e-8 3.25892e-8 4.43257e-8 2.01737e-8 1.84933e-8 1.79599e-8 6.87305e-8 5.97055e-6 3.44115e-6 -2.55752e-7 -3.74936e-7 8.32701e-7 1.67117e-6 9.96854e-7 1.94475e-10 1.66367e-10 4.9388e-10 -2.54875e-9 3.72622e-10 -2.34378e-9 1.28025e-10 -5.91691e-10 1.01773e-9 -3.81177e-10 2.28779e-10 -2.79475e-10 -5.52175e-11 6.36246e-11 2.35362e-10 1.60391e-10 -4.07581e-10 -8.90895e-11 -9.35169e-10 -3.02459e-10 0.343073 2.3202e-9 -1.92236e-9 1.8401e-9 -1.53454e-10 1.4103e-10 2.90017e-321 3.79236e-10 8.16008e-13; -1.90487e-8 -2.36034e-8 -1.17089e-8 -1.2438e-8 -5.01176e-9 1.21605e-8 1.2955e-9 4.09981e-9 -4.47668e-9 3.29613e-8 -1.90802e-8 2.86434e-9 -4.56069e-8 -7.74728e-9 -5.11196e-8 1.67541e-8 -1.42327e-6 1.80381e-8 -5.2913e-8 -1.09632e-6 -2.48686e-6 3.17435e-7 1.56254e-7 1.3759e-6 9.88157e-7 1.65984e-6 -2.55683e-8 -1.57421e-7 -2.46714e-7 -2.29326e-7 -1.06953e-7 -1.17688e-7 -9.77753e-8 -3.45771e-9 -1.67088e-8 9.78892e-9 6.706e-10 -4.49127e-9 1.67605e-8 0.0858309 1.27191e-6 0.080909 -1.10499e-5 0.000288693 4.92919e-5 0.000133604 0.000136785 -5.5e-8 -2.74973e-8 -1.24486e-8 -4.08651e-8 3.90015e-8 -60.2364 -5.99836e-9 -5.73639e-9 -1.692e-9 3.58241e-12 -5.91004e-8 -5.50539e-7 -8.24057e-7 -1.12083e-6 -5.10115e-7 -4.67624e-7 -4.54137e-7 -1.73793e-6 -0.000150972 -8.70135e-5 6.467e-6 9.48071e-6 -2.10558e-5 -4.22574e-5 -2.52066e-5 -4.91754e-9 -4.20678e-9 -1.24883e-8 6.4448e-8 -9.42219e-9 5.92653e-8 -3.23726e-9 1.49616e-8 -2.57346e-8 9.63851e-9 -5.78495e-9 7.06686e-9 1.39624e-9 -1.60882e-9 -5.95141e-9 -4.05567e-9 1.03062e-8 2.25273e-9 2.36468e-8 7.64803e-9 2.3202e-9 0.401968 -1.99507e-8 -4.6529e-8 3.88027e-9 -3.56611e-9 -7.33539e-320 -9.58943e-9 -2.06337e-11; 2.98091e-8 3.69367e-8 1.83231e-8 1.9464e-8 7.84285e-9 -1.90298e-8 -2.02732e-9 -6.41576e-9 7.00552e-9 -5.15809e-8 2.98584e-8 -4.48238e-9 7.13698e-8 1.21236e-8 7.99966e-8 -2.62183e-8 2.22727e-6 -2.31435e-8 6.17888e-8 -1.20794e-7 1.27121e-6 -3.81737e-7 -2.65349e-7 -1.71567e-6 -1.22995e-6 -2.05854e-6 3.48107e-8 2.01235e-7 2.41999e-7 2.71433e-7 1.50196e-7 1.60998e-7 1.4479e-7 5.94329e-9 2.72517e-8 -4.25264e-9 3.6977e-9 7.50252e-9 -2.79098e-8 -0.0829951 -1.89758e-6 -0.0790222 1.72919e-5 -0.000451773 -7.71363e-5 -0.000209075 -0.000214054 8.60689e-8 4.30303e-8 1.94806e-8 6.39494e-8 -6.10331e-8 94.2633 9.38678e-9 8.97682e-9 2.64779e-9 -5.60608e-12 9.24857e-8 8.61534e-7 1.28956e-6 1.75397e-6 7.98274e-7 7.31781e-7 7.10675e-7 2.71967e-6 0.000236255 0.000136167 -1.01201e-5 -1.48363e-5 3.29501e-5 6.61282e-5 3.94456e-5 7.69541e-9 6.58315e-9 1.95429e-8 -1.00854e-7 1.47447e-8 -9.27438e-8 5.06596e-9 -2.34133e-8 4.02718e-8 -1.50832e-8 9.05282e-9 -1.10589e-8 -2.18496e-9 2.51763e-9 9.31331e-9 6.34668e-9 -1.6128e-8 -3.52528e-9 -3.70047e-8 -1.19683e-8 -1.92236e-9 -1.99507e-8 0.303746 7.28129e-8 -6.07219e-9 5.58056e-9 1.14791e-319 1.50064e-8 3.22895e-11; 2.39016e-7 2.96167e-7 1.4692e-7 1.56068e-7 6.28859e-8 -1.52586e-7 -1.62555e-8 -5.14431e-8 5.6172e-8 -4.13588e-7 2.39412e-7 -3.59408e-8 5.72261e-7 9.72103e-8 6.41432e-7 -2.10225e-7 1.78588e-5 -1.34225e-7 2.83215e-7 -1.95143e-5 -1.62709e-5 -1.89934e-6 -2.33798e-6 -9.33867e-6 -6.66661e-6 -1.10633e-5 2.26599e-7 1.15796e-6 4.85347e-7 1.29339e-6 1.03087e-6 1.05692e-6 1.07797e-6 5.3031e-8 2.29662e-7 7.76554e-8 7.75898e-8 6.49456e-8 -2.4077e-7 -0.147192 -1.42778e-5 -0.152997 0.000138651 -0.00362243 -0.000618498 -0.00167642 -0.00171633 1.89797e-6 9.58574e-7 1.562e-7 1.61031e-6 -1.2267e-6 755.816 1.20214e-7 1.29582e-7 7.55845e-8 -4.49509e-11 -2.64987e-5 -1.0729e-5 4.96892e-7 8.44377e-6 2.97062e-7 5.84442e-6 1.42433e-5 6.17246e-5 0.00307814 0.00159168 -9.93002e-5 3.73082e-7 0.000790886 0.00110526 0.000815205 6.17037e-8 5.27853e-8 1.567e-7 -8.08673e-7 1.18227e-7 -7.43643e-7 4.06201e-8 -1.87733e-7 3.2291e-7 -1.20941e-7 7.25877e-8 -8.86726e-8 -1.75196e-8 2.0187e-8 7.46764e-8 5.08893e-8 -3.42152e-7 -8.48818e-8 -7.47397e-7 -2.65323e-7 1.8401e-9 -4.6529e-8 7.28129e-8 0.0830999 -4.86883e-8 4.47463e-8 9.20444e-319 1.20325e-7 2.58905e-10; -1.99327e-8 -2.46987e-8 -1.22523e-8 -1.30152e-8 -5.24434e-9 1.27248e-8 1.35562e-9 4.29008e-9 -4.68443e-9 3.4491e-8 -1.99656e-8 2.99726e-9 -4.77234e-8 -8.10681e-9 -5.34919e-8 1.75316e-8 -1.48932e-6 1.11936e-8 -2.36186e-8 1.62738e-6 1.3569e-6 1.58395e-7 1.94975e-7 7.78794e-7 5.55959e-7 9.22616e-7 -1.88971e-8 -9.65678e-8 -4.04753e-8 -1.07861e-7 -8.5969e-8 -8.81415e-8 -8.98965e-8 -4.4225e-9 -1.91525e-8 -6.47604e-9 -6.47056e-9 -5.41611e-9 2.00789e-8 0.012275 1.19069e-6 0.0127591 -1.15627e-5 0.000302091 5.15794e-5 0.000139804 0.000143133 -5.75524e-8 -2.87734e-8 -1.30263e-8 -4.27615e-8 4.08114e-8 -63.0318 -6.27673e-9 -6.0026e-9 -1.77052e-9 3.74866e-12 -6.18431e-8 -5.76088e-7 -8.623e-7 -1.17284e-6 -5.33788e-7 -4.89326e-7 -4.75212e-7 -1.81858e-6 -0.000157979 -9.10516e-5 6.76711e-6 9.92068e-6 -2.2033e-5 -4.42185e-5 -2.63764e-5 -5.14575e-9 -4.40201e-9 -1.30679e-8 6.74389e-8 -9.85945e-9 "
     ]
    },
    {
     "name": "stdout",
     "output_type": "stream",
     "text": [
      "6.20157e-8 -3.3875e-9 1.56559e-8 -2.69289e-8 1.00858e-8 -6.05342e-9 7.39481e-9 1.46103e-9 -1.68349e-9 -6.2276e-9 -4.24389e-9 1.07845e-8 2.35728e-9 2.47442e-8 8.00296e-9 -1.53454e-10 3.88027e-9 -6.07219e-9 -4.86883e-8 0.264671 2.54608e-7 5.6403e-319 -1.00345e-8 -2.15913e-11; 1.83188e-8 2.2699e-8 1.12603e-8 1.19614e-8 4.81974e-9 -1.16945e-8 -1.24587e-9 -3.94274e-9 4.30516e-9 -3.16985e-8 1.83491e-8 -2.75459e-9 4.38595e-8 7.45045e-9 4.9161e-8 -1.61122e-8 1.36874e-6 -1.02873e-8 2.17064e-8 -1.49563e-6 -1.24704e-6 -1.45571e-7 -1.79189e-7 -7.1574e-7 -5.10946e-7 -8.47917e-7 1.73671e-8 8.87493e-8 3.71983e-8 9.91285e-8 7.90086e-8 8.10052e-8 8.26182e-8 4.06443e-9 1.76019e-8 5.95171e-9 5.94668e-9 4.9776e-9 -1.84532e-8 -0.0112811 -1.09429e-6 -0.0117261 1.06266e-5 -0.000277632 -4.74033e-5 -0.000128485 -0.000131544 5.28927e-8 2.64438e-8 1.19716e-8 3.92994e-8 -3.75072e-8 57.9285 5.76854e-9 5.51661e-9 1.62717e-9 -3.44515e-12 5.6836e-8 5.29446e-7 7.92485e-7 1.07788e-6 4.90571e-7 4.49708e-7 4.36737e-7 1.67134e-6 0.000145188 8.36797e-5 -6.21922e-6 -9.11747e-6 2.02491e-5 4.06384e-5 2.42409e-5 4.72913e-9 4.0456e-9 1.20099e-8 -6.19788e-8 9.06119e-9 -5.69947e-8 3.11323e-9 -1.43884e-8 2.47486e-8 -9.26922e-9 5.56331e-9 -6.7961e-9 -1.34274e-9 1.54718e-9 5.72339e-9 3.90029e-9 -9.91131e-9 -2.16642e-9 -2.27408e-8 -7.35501e-9 1.4103e-10 -3.56611e-9 5.58056e-9 4.47463e-8 2.54608e-7 0.204571 7.51938e-319 9.22203e-9 1.98432e-11; 3.76824e-319 4.66927e-319 2.31628e-319 2.4605e-319 9.91442e-320 -2.40561e-319 -2.56272e-320 -8.11009e-320 8.85563e-320 -6.52048e-319 3.77446e-319 -5.66644e-320 9.02203e-319 1.53259e-319 1.01125e-318 -3.31429e-319 2.81554e-317 -2.11613e-319 4.46507e-319 -3.07654e-317 -2.5652e-317 -2.99442e-318 -3.68596e-318 -1.4723e-317 -1.05103e-317 -1.74419e-317 3.57244e-319 1.8256e-318 7.65179e-319 2.0391e-318 1.62523e-318 1.6663e-318 1.69948e-318 8.36058e-320 3.62076e-319 1.22429e-319 1.22326e-319 1.0239e-319 -3.79586e-319 -2.32056e-313 -2.25098e-317 -2.41209e-313 2.18591e-316 -5.71097e-315 -9.75098e-316 -2.64297e-315 -2.7059e-315 1.08802e-318 5.43956e-319 2.46257e-319 8.084e-319 -7.71533e-319 1.1916e-309 1.1866e-319 1.13477e-319 3.34729e-320 -6.91692e-323 1.16913e-318 1.08908e-317 1.63016e-317 2.21723e-317 1.00912e-317 9.25061e-318 8.9838e-318 3.438e-317 2.98655e-315 1.72131e-315 -1.27931e-316 -1.87549e-316 4.16529e-316 8.35942e-316 4.98641e-316 9.72815e-320 8.32204e-320 2.47048e-319 -1.27492e-318 1.86391e-319 -1.17239e-318 6.40408e-320 -2.9597e-319 5.09085e-319 -1.9067e-319 1.1444e-319 -1.39796e-319 -2.76183e-320 3.18277e-320 1.17731e-319 8.02313e-320 -2.03876e-319 -4.45647e-320 -4.67786e-319 -1.51293e-319 2.90017e-321 -7.33539e-320 1.14791e-319 9.20444e-319 5.6403e-319 7.51938e-319 2.50506e-314 1.89701e-319 4.10074e-322; 1.20312e-7 1.06785e-7 1.40072e-7 1.45489e-7 1.14123e-7 2.91489e-8 2.72412e-8 -2.49946e-7 1.23189e-7 3.86311e-8 1.63848e-7 2.92069e-7 2.70204e-7 1.78323e-7 6.2213e-7 -9.45301e-9 -6.16783e-6 -2.76631e-8 5.83695e-8 -4.02181e-6 -3.35336e-6 -3.91446e-7 -4.81847e-7 -1.92466e-6 -1.37396e-6 -2.28009e-6 4.6701e-8 2.38651e-7 1.00028e-7 2.66561e-7 2.12458e-7 2.17827e-7 2.22164e-7 1.09295e-8 4.73323e-8 1.60044e-8 1.59909e-8 1.3385e-8 -4.96216e-8 -0.0303356 -2.9426e-6 -0.031532 -0.000104503 -0.00305537 -0.00119394 -0.00103032 -0.00123786 1.42231e-7 7.11087e-8 -7.81727e-8 1.05678e-7 -1.00859e-7 155.773 1.55119e-8 1.48344e-8 4.37555e-9 -2.94889e-11 1.52835e-7 1.42371e-6 2.13103e-6 2.89848e-6 1.31917e-6 1.20929e-6 1.17441e-6 4.49433e-6 0.000390418 0.000225019 -1.67238e-5 -2.45173e-5 5.44508e-5 0.000109279 6.51849e-5 6.5035e-8 6.84797e-8 1.28115e-7 -3.96796e-7 3.07163e-7 -4.62926e-7 3.14919e-8 -1.31655e-7 2.5907e-7 -8.50943e-8 6.44281e-8 -5.52404e-8 -1.425e-8 1.95024e-8 5.97742e-8 3.95011e-8 -2.6652e-8 -5.82562e-9 -6.11512e-8 -1.9778e-8 3.79236e-10 -9.58943e-9 1.50064e-8 1.20325e-7 -1.00345e-8 9.22203e-9 1.89701e-319 19.485 -4.64834e-5; -1.99278e-9 -1.21993e-9 -3.17794e-9 -3.2782e-9 -2.96031e-9 -1.85758e-9 -9.10831e-10 7.04703e-9 -3.27195e-9 -3.84233e-9 -3.27616e-9 -8.862e-9 -4.24386e-9 -4.63249e-9 -1.41874e-8 -1.09379e-9 2.98827e-7 -5.95231e-11 1.25594e-10 -8.65378e-9 -7.21547e-9 -8.4228e-10 -1.0368e-9 -4.14132e-9 -2.95637e-9 -4.9061e-9 1.00487e-10 5.13509e-10 2.15232e-10 5.73564e-10 4.57149e-10 4.68701e-10 4.78034e-10 2.35171e-11 1.01846e-10 3.4437e-11 3.44079e-11 2.88007e-11 -1.06771e-10 -6.52734e-5 -6.33163e-9 -6.78479e-5 3.99242e-6 6.6592e-5 3.12274e-5 1.94851e-5 2.53548e-5 3.06041e-10 1.53006e-10 3.32927e-9 2.27389e-10 -2.17019e-10 0.335178 3.33771e-11 3.19194e-11 9.41492e-12 5.77472e-13 3.28857e-10 3.06341e-9 4.58537e-9 6.2367e-9 2.83847e-9 2.60204e-9 2.52699e-9 9.67051e-9 8.40067e-7 4.84176e-7 -3.59848e-8 -5.27542e-8 1.17163e-7 2.35136e-7 1.40259e-7 -1.51803e-9 -1.67803e-9 -2.76087e-9 6.43912e-9 -8.30096e-9 8.81722e-9 -6.64923e-10 2.66277e-9 -5.54353e-9 1.72366e-9 -1.42902e-9 1.05258e-9 3.065e-10 -4.44225e-10 -1.27791e-9 -8.34432e-10 -5.73475e-11 -1.25351e-11 -1.3158e-10 -4.25566e-11 8.16008e-13 -2.06337e-11 3.22895e-11 2.58905e-10 -2.15913e-11 1.98432e-11 4.10074e-322 -4.64834e-5 16.6592]\n",
      "[NaN]"
     ]
    },
    {
     "ename": "MethodError",
     "evalue": "MethodError: no method matching -(::Float64, ::Array{Float64,2})\nClosest candidates are:\n  -(::Float64, !Matched::Float64) at float.jl:397\n  -(::Float64) at float.jl:387\n  -(::Real, !Matched::Complex{Bool}) at complex.jl:295\n  ...",
     "output_type": "error",
     "traceback": [
      "MethodError: no method matching -(::Float64, ::Array{Float64,2})\nClosest candidates are:\n  -(::Float64, !Matched::Float64) at float.jl:397\n  -(::Float64) at float.jl:387\n  -(::Real, !Matched::Complex{Bool}) at complex.jl:295\n  ...",
      "",
      "Stacktrace:",
      " [1] SKF(::Adjoint{Union{Missing, Float64},Array{Union{Missing, Float64},2}}, ::Array{Float64,2}, ::Array{Float64,2}, ::Array{Float64,2}, ::Array{Float64,2}, ::Array{Float64,2}, ::Array{Float64,2}) at ./In[88]:53",
      " [2] runKF at ./In[88]:4 [inlined]",
      " [3] EMstep(::Adjoint{Union{Missing, Float64},Array{Union{Missing, Float64},2}}, ::Array{Float64,2}, ::Array{Float64,2}, ::Array{Float64,2}, ::Array{Float64,2}, ::Array{Float64,2}, ::Array{Float64,2}, ::Int64, ::Int64, ::Array{Int64,2}, ::Array{Float64,2}, ::Int64, ::BitArray{2}, ::Array{Float64,2}) at ./In[5]:12",
      " [4] dfm(::Adjoint{Union{Missing, Float64},Array{Union{Missing, Float64},2}}, ::Spec, ::inits, ::Float64) at ./In[4]:51",
      " [5] dfm(::Adjoint{Union{Missing, Float64},Array{Union{Missing, Float64},2}}, ::Spec, ::inits) at ./In[4]:8",
      " [6] top-level scope at In[89]:4"
     ]
    }
   ],
   "source": [
    "### Trial\n",
    "Sp = Spec(1,1,2,block)\n",
    "Inits = inits(A_θ, G_θ, Q_θ, R_θ, Z_θ, V_θ)\n",
    "\n",
    "dfm(X', Sp, Inits)\n"
   ]
  },
  {
   "cell_type": "code",
   "execution_count": 9,
   "metadata": {},
   "outputs": [
    {
     "ename": "ErrorException",
     "evalue": "invalid redefinition of constant Sm",
     "output_type": "error",
     "traceback": [
      "invalid redefinition of constant Sm",
      "",
      "Stacktrace:",
      " [1] top-level scope at In[9]:3"
     ]
    }
   ],
   "source": [
    "m = 1\n",
    "nobs = 1\n",
    "Sm = Sm(zeros(m, nobs), zeros(m, nobs+1),zeros(m,m, nobs), zeros(m,m, nobs+1), 0, zeros(m,m))"
   ]
  },
  {
   "cell_type": "code",
   "execution_count": 28,
   "metadata": {},
   "outputs": [
    {
     "data": {
      "text/plain": [
       "724×120 Array{Union{Missing, Float64},2}:\n",
       "  0.0012526     0.0010653     0.00767048   …   0.0148145     0.00144012 \n",
       "  0.0037502     0.00486275    0.00671482        missing       missing   \n",
       "  0.00381723    0.00450843   -0.0062556         missing       missing   \n",
       "  0.00314537    0.00411852    0.00930512      -0.00678716   -0.000394184\n",
       "  0.000427094   0.000511156   0.000966653       missing       missing   \n",
       " -0.00326644   -0.0033188    -0.00604413   …    missing       missing   \n",
       " -0.00837617   -0.00822697    0.00331371      -0.00465258   -0.00202109 \n",
       " -0.00189259   -0.00255374    0.007322          missing       missing   \n",
       " -0.00145783   -0.00131382   -0.00950251        missing       missing   \n",
       "  0.00491526    0.00417518   -0.00312461       0.0147253     0.00167232 \n",
       "  0.00751591    0.00884201   -0.00379359   …    missing       missing   \n",
       "  0.00051197    0.00213642    0.000104457       missing       missing   \n",
       " -0.00153613   -0.00159242    0.00164789      -0.0129074     0.000754914\n",
       "  ⋮                                        ⋱                            \n",
       "  3.23e-5       0.000477946  -0.000517367       missing       missing   \n",
       "  0.000381042   0.00101453    0.000893734       missing       missing   \n",
       "  0.00100932    0.00148749    0.000602404     -0.00478926   -0.00141792 \n",
       " -0.00349345   -0.00337316   -0.00296633   …    missing       missing   \n",
       " -0.00173324   -0.0018733     0.00119857        missing       missing   \n",
       " -0.00168106   -0.00110664   -0.000124726      0.000124025   0.00321331 \n",
       "  0.00617598    0.00738623   -0.0114453         missing       missing   \n",
       "  0.000902918  -0.00409511    0.00373438        missing       missing   \n",
       "  0.00216633    0.00248386   -0.00434615   …  -0.00241136     missing   \n",
       " -0.000355807  -0.000136804   0.00488391        missing       missing   \n",
       " -0.00112315   -0.00107352    0.000518506       missing       missing   \n",
       " -0.000237273  -8.91e-5       0.000682792       missing       missing   "
      ]
     },
     "execution_count": 28,
     "metadata": {},
     "output_type": "execute_result"
    }
   ],
   "source": [
    "X = convert(Matrix{Union{Missing,Float64}},X[2:end,])"
   ]
  },
  {
   "cell_type": "code",
   "execution_count": 43,
   "metadata": {},
   "outputs": [
    {
     "ename": "UndefVarError",
     "evalue": "UndefVarError: innov not defined",
     "output_type": "error",
     "traceback": [
      "UndefVarError: innov not defined",
      "",
      "Stacktrace:",
      " [1] top-level scope at In[43]:1"
     ]
    }
   ],
   "source": [
    "innov"
   ]
  },
  {
   "cell_type": "code",
   "execution_count": 48,
   "metadata": {},
   "outputs": [
    {
     "name": "stdout",
     "output_type": "stream",
     "text": [
      "search: \u001b[0m\u001b[1mi\u001b[22m\u001b[0m\u001b[1mn\u001b[22m\u001b[0m\u001b[1mv\u001b[22m \u001b[0m\u001b[1mi\u001b[22m\u001b[0m\u001b[1mn\u001b[22m\u001b[0m\u001b[1mv\u001b[22moke \u001b[0m\u001b[1mi\u001b[22m\u001b[0m\u001b[1mn\u001b[22m\u001b[0m\u001b[1mv\u001b[22mmod \u001b[0m\u001b[1mi\u001b[22m\u001b[0m\u001b[1mn\u001b[22m\u001b[0m\u001b[1mv\u001b[22mcov \u001b[0m\u001b[1mi\u001b[22m\u001b[0m\u001b[1mn\u001b[22m\u001b[0m\u001b[1mv\u001b[22mperm \u001b[0m\u001b[1mi\u001b[22m\u001b[0m\u001b[1mn\u001b[22m\u001b[0m\u001b[1mv\u001b[22msqrtm \u001b[0m\u001b[1mi\u001b[22m\u001b[0m\u001b[1mn\u001b[22m\u001b[0m\u001b[1mv\u001b[22mscale \u001b[0m\u001b[1mi\u001b[22m\u001b[0m\u001b[1mn\u001b[22m\u001b[0m\u001b[1mv\u001b[22msqrtm! \u001b[0m\u001b[1mi\u001b[22m\u001b[0m\u001b[1mn\u001b[22m\u001b[0m\u001b[1mv\u001b[22mlogcdf\n",
      "\n"
     ]
    },
    {
     "data": {
      "text/latex": [
       "\\begin{verbatim}\n",
       "inv(x)\n",
       "\\end{verbatim}\n",
       "Return the multiplicative inverse of \\texttt{x}, such that \\texttt{x*inv(x)} or \\texttt{inv(x)*x} yields \\href{@ref}{\\texttt{one(x)}} (the multiplicative identity) up to roundoff errors.\n",
       "\n",
       "If \\texttt{x} is a number, this is essentially the same as \\texttt{one(x)/x}, but for some types \\texttt{inv(x)} may be slightly more efficient.\n",
       "\n",
       "\\section{Examples}\n",
       "\\begin{verbatim}\n",
       "julia> inv(2)\n",
       "0.5\n",
       "\n",
       "julia> inv(1 + 2im)\n",
       "0.2 - 0.4im\n",
       "\n",
       "julia> inv(1 + 2im) * (1 + 2im)\n",
       "1.0 + 0.0im\n",
       "\n",
       "julia> inv(2//3)\n",
       "3//2\n",
       "\\end{verbatim}\n",
       "\\rule{\\textwidth}{1pt}\n",
       "\\begin{verbatim}\n",
       "inv(M)\n",
       "\\end{verbatim}\n",
       "Matrix inverse. Computes matrix \\texttt{N} such that \\texttt{M * N = I}, where \\texttt{I} is the identity matrix. Computed by solving the left-division \\texttt{N = M {\\textbackslash} I}.\n",
       "\n",
       "\\section{Examples}\n",
       "\\begin{verbatim}\n",
       "julia> M = [2 5; 1 3]\n",
       "2×2 Array{Int64,2}:\n",
       " 2  5\n",
       " 1  3\n",
       "\n",
       "julia> N = inv(M)\n",
       "2×2 Array{Float64,2}:\n",
       "  3.0  -5.0\n",
       " -1.0   2.0\n",
       "\n",
       "julia> M*N == N*M == Matrix(I, 2, 2)\n",
       "true\n",
       "\\end{verbatim}\n"
      ],
      "text/markdown": [
       "```\n",
       "inv(x)\n",
       "```\n",
       "\n",
       "Return the multiplicative inverse of `x`, such that `x*inv(x)` or `inv(x)*x` yields [`one(x)`](@ref) (the multiplicative identity) up to roundoff errors.\n",
       "\n",
       "If `x` is a number, this is essentially the same as `one(x)/x`, but for some types `inv(x)` may be slightly more efficient.\n",
       "\n",
       "# Examples\n",
       "\n",
       "```jldoctest\n",
       "julia> inv(2)\n",
       "0.5\n",
       "\n",
       "julia> inv(1 + 2im)\n",
       "0.2 - 0.4im\n",
       "\n",
       "julia> inv(1 + 2im) * (1 + 2im)\n",
       "1.0 + 0.0im\n",
       "\n",
       "julia> inv(2//3)\n",
       "3//2\n",
       "```\n",
       "\n",
       "---\n",
       "\n",
       "```\n",
       "inv(M)\n",
       "```\n",
       "\n",
       "Matrix inverse. Computes matrix `N` such that `M * N = I`, where `I` is the identity matrix. Computed by solving the left-division `N = M \\ I`.\n",
       "\n",
       "# Examples\n",
       "\n",
       "```jldoctest\n",
       "julia> M = [2 5; 1 3]\n",
       "2×2 Array{Int64,2}:\n",
       " 2  5\n",
       " 1  3\n",
       "\n",
       "julia> N = inv(M)\n",
       "2×2 Array{Float64,2}:\n",
       "  3.0  -5.0\n",
       " -1.0   2.0\n",
       "\n",
       "julia> M*N == N*M == Matrix(I, 2, 2)\n",
       "true\n",
       "```\n"
      ],
      "text/plain": [
       "\u001b[36m  inv(x)\u001b[39m\n",
       "\n",
       "  Return the multiplicative inverse of \u001b[36mx\u001b[39m, such that \u001b[36mx*inv(x)\u001b[39m or \u001b[36minv(x)*x\u001b[39m\n",
       "  yields \u001b[36mone(x)\u001b[39m (the multiplicative identity) up to roundoff errors.\n",
       "\n",
       "  If \u001b[36mx\u001b[39m is a number, this is essentially the same as \u001b[36mone(x)/x\u001b[39m, but for some\n",
       "  types \u001b[36minv(x)\u001b[39m may be slightly more efficient.\n",
       "\n",
       "\u001b[1m  Examples\u001b[22m\n",
       "\u001b[1m  ≡≡≡≡≡≡≡≡≡≡\u001b[22m\n",
       "\n",
       "\u001b[36m  julia> inv(2)\u001b[39m\n",
       "\u001b[36m  0.5\u001b[39m\n",
       "\u001b[36m  \u001b[39m\n",
       "\u001b[36m  julia> inv(1 + 2im)\u001b[39m\n",
       "\u001b[36m  0.2 - 0.4im\u001b[39m\n",
       "\u001b[36m  \u001b[39m\n",
       "\u001b[36m  julia> inv(1 + 2im) * (1 + 2im)\u001b[39m\n",
       "\u001b[36m  1.0 + 0.0im\u001b[39m\n",
       "\u001b[36m  \u001b[39m\n",
       "\u001b[36m  julia> inv(2//3)\u001b[39m\n",
       "\u001b[36m  3//2\u001b[39m\n",
       "\n",
       "  ────────────────────────────────────────────────────────────────────────────\n",
       "\n",
       "\u001b[36m  inv(M)\u001b[39m\n",
       "\n",
       "  Matrix inverse. Computes matrix \u001b[36mN\u001b[39m such that \u001b[36mM * N = I\u001b[39m, where \u001b[36mI\u001b[39m is the\n",
       "  identity matrix. Computed by solving the left-division \u001b[36mN = M \\ I\u001b[39m.\n",
       "\n",
       "\u001b[1m  Examples\u001b[22m\n",
       "\u001b[1m  ≡≡≡≡≡≡≡≡≡≡\u001b[22m\n",
       "\n",
       "\u001b[36m  julia> M = [2 5; 1 3]\u001b[39m\n",
       "\u001b[36m  2×2 Array{Int64,2}:\u001b[39m\n",
       "\u001b[36m   2  5\u001b[39m\n",
       "\u001b[36m   1  3\u001b[39m\n",
       "\u001b[36m  \u001b[39m\n",
       "\u001b[36m  julia> N = inv(M)\u001b[39m\n",
       "\u001b[36m  2×2 Array{Float64,2}:\u001b[39m\n",
       "\u001b[36m    3.0  -5.0\u001b[39m\n",
       "\u001b[36m   -1.0   2.0\u001b[39m\n",
       "\u001b[36m  \u001b[39m\n",
       "\u001b[36m  julia> M*N == N*M == Matrix(I, 2, 2)\u001b[39m\n",
       "\u001b[36m  true\u001b[39m"
      ]
     },
     "execution_count": 48,
     "metadata": {},
     "output_type": "execute_result"
    }
   ],
   "source": []
  },
  {
   "cell_type": "code",
   "execution_count": 70,
   "metadata": {},
   "outputs": [
    {
     "data": {
      "text/plain": [
       "2×2 Array{Int64,2}:\n",
       " 1  2\n",
       " 3  4"
      ]
     },
     "execution_count": 70,
     "metadata": {},
     "output_type": "execute_result"
    }
   ],
   "source": [
    "a = [1 2;3 4]"
   ]
  },
  {
   "cell_type": "code",
   "execution_count": 83,
   "metadata": {},
   "outputs": [
    {
     "data": {
      "text/plain": [
       "2×2 Array{Float64,2}:\n",
       " -2.0   1.0\n",
       "  1.5  -0.5"
      ]
     },
     "execution_count": 83,
     "metadata": {},
     "output_type": "execute_result"
    }
   ],
   "source": [
    "Matrix(I,2,2)/a"
   ]
  },
  {
   "cell_type": "code",
   "execution_count": null,
   "metadata": {
    "collapsed": true
   },
   "outputs": [],
   "source": []
  }
 ],
 "metadata": {
  "kernelspec": {
   "display_name": "Julia 1.1.0",
   "language": "julia",
   "name": "julia-1.1"
  },
  "language_info": {
   "file_extension": ".jl",
   "mimetype": "application/julia",
   "name": "julia",
   "version": "1.1.0"
  }
 },
 "nbformat": 4,
 "nbformat_minor": 2
}
