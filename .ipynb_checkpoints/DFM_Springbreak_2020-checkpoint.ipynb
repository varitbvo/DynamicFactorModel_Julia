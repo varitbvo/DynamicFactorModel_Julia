{
 "cells": [
  {
   "cell_type": "code",
   "execution_count": 7,
   "metadata": {
    "collapsed": true
   },
   "outputs": [],
   "source": [
    "### Load packages\n",
    "using LinearAlgebra, Statistics, Compat, HypothesisTests # Statistical analysis\n",
    "using RDatasets, MultivariateStats # Principal Component Analysis\n",
    "using Distributions, GLM # OLS\n",
    "using DataFrames, CSV # Data analysis\n",
    "using Dates, Plots #printf # Misc..."
   ]
  },
  {
   "cell_type": "code",
   "execution_count": 8,
   "metadata": {},
   "outputs": [
    {
     "data": {
      "text/plain": [
       "3×5 Array{Int64,2}:\n",
       " 1  0  0  1  0\n",
       " 1  0  1  0  0\n",
       " 1  1  1  1  1"
      ]
     },
     "execution_count": 8,
     "metadata": {},
     "output_type": "execute_result"
    }
   ],
   "source": [
    "### Supportive function -- part I\n",
    "function blkdig(vararg)\n",
    "    stop_row = 0\n",
    "    stop_col = 0\n",
    "    column = 0\n",
    "    row = 0\n",
    "    for i in 1:length(vararg)\n",
    "        column = column + size(vararg[i],2)\n",
    "        row = row + size(vararg[i],1)\n",
    "    end\n",
    "    \n",
    "    blk = zeros(row, column)\n",
    "    \n",
    "    for i in 1:length(vararg)\n",
    "        mat_comp = vararg[i]\n",
    "        for j in 1:size(mat_comp, 2)\n",
    "            for k in 1:size(mat_comp, 1)\n",
    "                blk[stop_row + k, stop_col + j] = mat_comp[k,j]\n",
    "            end\n",
    "        end\n",
    "        stop_row = stop_row + size(mat_comp,1)\n",
    "        stop_col = stop_col + size(mat_comp,2)\n",
    "    end\n",
    "    \n",
    "    return blk\n",
    "end\n",
    "\n",
    "### Supportive function -- part II\n",
    "blocks = [1 0 0 1 0\n",
    "            1 0 1 0 0\n",
    "            1 0 0 1 0\n",
    "            1 1 1 1 1]\n",
    "function sort_vec(blocks)\n",
    "    uniq = blocks[1,:]'\n",
    "    \n",
    "    for i in 2:size(blocks,1)\n",
    "        sum = 0\n",
    "        for j in 1:size(uniq,1)\n",
    "            sum = sum + (blocks[i,:]' == uniq[j,:]')\n",
    "        end\n",
    "        if sum == 0\n",
    "            uniq = vcat(uniq, blocks[i,:]')\n",
    "        end\n",
    "    end\n",
    "    return uniq\n",
    "end\n",
    "\n",
    "function ismember(blocks, str)\n",
    "    idx = []\n",
    "    for i in 1:size(blocks,1)\n",
    "        if blocks[i,:] == str\n",
    "            push!(idx, i)\n",
    "        end\n",
    "    end\n",
    "    return idx\n",
    "end\n",
    "\n",
    "sort_vec(blocks)"
   ]
  },
  {
   "cell_type": "code",
   "execution_count": 9,
   "metadata": {
    "collapsed": true
   },
   "outputs": [],
   "source": [
    "struct Spec\n",
    "    r::Int\n",
    "    p::Int\n",
    "    nQ::Int\n",
    "    blocks::AbstractMatrix{Float64}\n",
    "end\n",
    "\n",
    "struct inits\n",
    "    A::AbstractMatrix{Float64}\n",
    "    G::AbstractMatrix{Float64}\n",
    "    Q::AbstractMatrix{Float64}\n",
    "    R::AbstractMatrix{Float64}\n",
    "    Z::AbstractMatrix{Float64}\n",
    "    V::AbstractMatrix{Float64}\n",
    "end\n",
    "\n",
    "mutable struct Sm\n",
    "    Zm::AbstractMatrix{Float64}\n",
    "    ZmU::AbstractMatrix{Float64}\n",
    "    Vm::AbstractArray{Float64,3}\n",
    "    VmU::AbstractArray{Float64,3}\n",
    "    loglik::Float64\n",
    "    k_t::AbstractMatrix{Float64}\n",
    "end\n",
    "\n",
    "mutable struct Sm1\n",
    "    ZmT::AbstractMatrix{Float64}\n",
    "    VmT::AbstractArray{Float64,3}\n",
    "    VmT_1::AbstractArray{Float64,3}\n",
    "end"
   ]
  },
  {
   "cell_type": "code",
   "execution_count": 83,
   "metadata": {},
   "outputs": [
    {
     "data": {
      "text/plain": [
       "dfm (generic function with 2 methods)"
      ]
     },
     "execution_count": 83,
     "metadata": {},
     "output_type": "execute_result"
    }
   ],
   "source": [
    "##### Creating Dynamic Factor Model (DFM) to forecast GDP: \n",
    "# y_t - μ = G_θ * x_t\n",
    "# x_{t+1} = A_θ * x_t + η_t\n",
    "function dfm(X, Spec, inits, threshold = 1e-5)\n",
    "    ### Set up\n",
    "    #printf(\"Estimating the dynamic factor model (DFM) ... \\n\\n\")\n",
    "    \n",
    "    (T, N) = size(X)\n",
    "    # Identify spec \n",
    "    r = Spec.r\n",
    "    p = Spec.p\n",
    "    nQ = Spec.nQ\n",
    "    blocks = Spec.blocks\n",
    "    \n",
    "    i_idio = Bool.([ones(N-nQ,1); zeros(nQ,1)])\n",
    "    \n",
    "    # We should not have constraint\n",
    "    R_mat = [2 -1 0 0 0\n",
    "             3 0 -1 0 0\n",
    "             2 0 0 -1 0\n",
    "             1 0 0 0 -1]\n",
    "    q = zeros(4,1)\n",
    "    \n",
    "    #max_iter = 5000\n",
    "    max_iter = 5\n",
    "    \n",
    "    ### Prepare data\n",
    "    #Mx = mean(X, \"omitnan\")\n",
    "    #Wx = std(X, \"omitnan\")\n",
    "    #xMissing = (X - repmat(Mx, T, 1))./repmat(Wx, T,1) #? Standardize series???\n",
    "    \n",
    "    ### Initial Condition\n",
    "    A = inits.A\n",
    "    G = inits.G\n",
    "    Q = inits.Q\n",
    "    R = inits.R\n",
    "    Z_0 = inits.Z\n",
    "    V_0 = inits.V\n",
    "    \n",
    "    previous_loglik = -Inf\n",
    "    num_iter = 0\n",
    "    LL = -Inf\n",
    "    converged = false\n",
    "    \n",
    "    # ? y for the estimation is WITH missing data\n",
    "    \n",
    "    ### EM loop\n",
    "    #? remove the leading and ending nans\n",
    "    # y_est\n",
    "    println(\"run EM loop\")\n",
    "    while (num_iter < max_iter) & !converged\n",
    "        println(num_iter+1)\n",
    "        (G_new, R_new, A_new, Q_new, Z_0, V_0, loglik ) = EMstep(X, A, G, Q, R, Z_0, V_0, r, p, R_mat, q, nQ, i_idio, blocks)\n",
    "        G = G_new\n",
    "        R = R_new\n",
    "        A = A_new\n",
    "        Q = Q_new\n",
    "        \n",
    "        #if num_iter > 2 \n",
    "            # change from decrease(num_iter+1)\n",
    "        #    converged = em_converged(loglik, previous_loglik, threshold, check_decreased = 1)[1] #####?????\n",
    "        #end\n",
    "        \n",
    "        #if (mod(num_iter,10) == 0) && (num_iter > 0)\n",
    "            ##### Display something\n",
    "        #end\n",
    "        \n",
    "        #LL = [LL loglik]\n",
    "        #previous_loglik = loglik\n",
    "        num_iter = num_iter + 1\n",
    "        #println(LL)\n",
    "        #println(converged)\n",
    "    end\n",
    "    println(\"finish EM loop\")\n",
    "    \n",
    "    ##### Display something\n",
    "    \n",
    "    ### Final run of KF\n",
    "    Zsmooth = runKF(X, A, G, Q, R, Z_0, V_0)[1] # use X with missing data\n",
    "    x_sm = G*Zsmooth[:,2:end] # originally Zsm*G'\n",
    "    \n",
    "    ##### Display something\n",
    "    \n",
    "    return x_sm\n",
    "\n",
    "end"
   ]
  },
  {
   "cell_type": "code",
   "execution_count": 84,
   "metadata": {},
   "outputs": [
    {
     "data": {
      "text/plain": [
       "EMstep (generic function with 1 method)"
      ]
     },
     "execution_count": 84,
     "metadata": {},
     "output_type": "execute_result"
    }
   ],
   "source": [
    "### Y_t = G_t X_t + e_t for e_t ~ N(0, R)\n",
    "### X_t = A X_{t-1} + mu_t for mu_t ~ N(0,Q)\n",
    "function EMstep(y,A,G,Q,R,x_0, σ_0, r, p, R_mat,q, nQ, i_idio, blocks)\n",
    "    \n",
    "    (n,T) = size(y)\n",
    "    nM = n - nQ\n",
    "    pC = size(R_mat,2)\n",
    "    ppC = max(p, pC)\n",
    "    num_blocks = size(blocks, 2) # how many columns are there?\n",
    "    r = convert(Array{Int64}, ones(1,num_blocks))\n",
    "    \n",
    "    \n",
    "    (x_sm, σ_sm, vv_sm, loglik) = runKF(y, A, G, Q, R, x_0, σ_0)\n",
    "    A_new = A\n",
    "    Q_new = Q\n",
    "    σ_0_new = σ_0\n",
    "\n",
    "    \n",
    "    ##### Transition equation\n",
    "    ### Update factor parameters individually\n",
    "    b_subset = 1:ppC\n",
    "    A_denom = zeros(ppC, ppC)\n",
    "    A_nom = zeros(ppC, ppC)\n",
    "    Q_update = zeros(ppC, ppC)\n",
    "    \n",
    "    for t in 1:T-1\n",
    "        A_denom = A_denom + x_sm[b_subset, t+1]*x_sm[b_subset, t]' + vv_sm[b_subset, b_subset, t+1]\n",
    "        A_nom = A_nom + x_sm[b_subset, t]*x_sm[b_subset, t]' + σ_sm[b_subset, b_subset, t]\n",
    "    end\n",
    "    \n",
    "    A_i = Diagonal(A_denom*inv(A_nom))\n",
    "    A_new[b_subset, b_subset] = A_i\n",
    "    \n",
    "    for t in 1:T-1\n",
    "        Q_update = Q_update + x_sm[b_subset, t+1]*x_sm[b_subset, t+1]' + σ_sm[b_subset, b_subset, t+1]\n",
    "        Q_update = Q_update - A_i*(x_sm[b_subset, t]*x_sm[b_subset, t+1]'+ vv_sm[b_subset, b_subset, t+1])\n",
    "    end\n",
    "    Q_i = Q_update / (T-1)\n",
    "    Q_new[b_subset, b_subset] = Diagonal(Q_i)\n",
    "    σ_0_new[b_subset, b_subset] = Diagonal(σ_sm[b_subset, b_subset, 1])\n",
    "    \n",
    "    #for i in 1:num_blocks\n",
    "    #    r_i = r[i]\n",
    "    #    rp = r_i*p\n",
    "    #    if i == 1\n",
    "    #        rp1 = 0\n",
    "    #    elseif i == 2\n",
    "    #        rp1 = r[1]*ppC\n",
    "    #   else\n",
    "    #        rp1 = sum(r[1:i-1]*ppC)\n",
    "    #    end\n",
    "        \n",
    "    #    b_subset = rp1+1:rp1+rp # Subset blocks: Helps for subsetting x_sm, σ_sm\n",
    "    #    t_start = rp1+1\n",
    "    #    t_end = rp1+r_i*ppC\n",
    "\n",
    "    #    EZZ = x_sm[b_subset, 2:end]*(x_sm[b_subset, 2:end])' + sum(σ_sm[b_subset, b_subset, 2:end], dims = 3)\n",
    "    #    EZZ_BB = x_sm[b_subset, 1:end-1]*(x_sm[b_subset, 1:end-1])' + sum(σ_sm[b_subset, b_subset, 1:end-1], dims = 3)\n",
    "    #    EZZ_FB = x_sm[b_subset, 2:end]*(x_sm[b_subset, 1:end-1])' + sum(vv_sm[b_subset, b_subset, :], dims = 3)\n",
    "\n",
    "    #    A_i = A[t_start:t_end, t_start:t_end]\n",
    "    #    Q_i = Q[t_start:t_end, t_start:t_end]\n",
    "    #    A_i[1:r_i,1:rp] = EZZ_FB[1:r_i,1:rp]*inv(EZZ_BB[1:r_i,1:rp])\n",
    "    #    Q_i[1:r_i,1:r_i] = (EZZ[1:r_i,1:r_i] - A_i[1:r_i,1:rp]*EZZ_FB[1:r_i,1:rp]') / T\n",
    "\n",
    "    #    A_new[t_start:t_end, t_start:t_end] = A_i\n",
    "    #    Q_new[t_start:t_end, t_start:t_end] = Q_i\n",
    "    #    σ_0_new[t_start:t_end, t_start:t_end] = σ_sm[t_start:t_end, t_start:t_end, 1]\n",
    "    #end\n",
    "    \n",
    "    ### Update parameters for idiosyncratic component\n",
    "    rp1 = sum(r)*ppC #25\n",
    "    niM = sum(i_idio[1:nM]) #118\n",
    "    t_start = rp1+1\n",
    "    i_subset = t_start:rp1+niM\n",
    "    \n",
    "    EZZ = Diagonal(Diagonal(x_sm[t_start:end,2:end]*(x_sm[t_start:end, 2:end])'))+Diagonal(Diagonal(sum(σ_sm[t_start:end, t_start:end, 2:end], dims = 3)[:,:,1]))\n",
    "    EZZ_BB = Diagonal(Diagonal(x_sm[t_start:end,1:end-1]*(x_sm[t_start:end, 1:end-1])'))+Diagonal(Diagonal(sum(σ_sm[t_start:end, t_start:end, 1:end-1], dims = 3)[:,:,1]))\n",
    "    EZZ_FB = Diagonal(Diagonal(x_sm[t_start:end,2:end]*(x_sm[t_start:end, 1:end-1])'))+Diagonal(Diagonal(sum(vv_sm[t_start:end, t_start:end, :], dims = 3)[:,:,1]))\n",
    "    \n",
    "    A_i = EZZ_FB*Diagonal(inv(Diagonal((EZZ_BB))))\n",
    "    Q_i = (EZZ - A_i*EZZ_FB') / T\n",
    "    \n",
    "    A_new[i_subset, i_subset] = A_i[1:niM,1:niM]\n",
    "    Q_new[i_subset, i_subset] = Q_i[1:niM,1:niM]\n",
    "    σ_0_new[i_subset, i_subset] = Diagonal(Diagonal(σ_sm[i_subset,i_subset,1]))\n",
    "    #println(\"Transition Equation DONE\")\n",
    "    \n",
    "    ##### Observation equation\n",
    "    ### Maximization step\n",
    "    x_0 = x_sm[:,1]\n",
    "    \n",
    "    nanY = ismissing.(y)\n",
    "    y[nanY] .= 0\n",
    "    \n",
    "    G_new = G\n",
    "    \n",
    "    bl = sort_vec(blocks) # list of unique blocks\n",
    "    n_bl = size(bl,1) # number of unique blocks\n",
    "    \n",
    "    #bl_idxM = []\n",
    "    #bl_idxQ = []\n",
    "    #R_con = []\n",
    "    #q_con = []\n",
    "    \n",
    "    #for i in 1:num_blocks\n",
    "        #bl_idxQ = [bl_idxQ repeat(bl[:,i],1,r[i]*ppC)]\n",
    "        #bl_idxM = [bl_idxM repeat(bl[:,i],1,r[i]) zeros(n_bl, r[i]*(ppC-1))]\n",
    "        #R_con = blkdig([R_con kron(R_mat, Matrix{Float64}(I,r[i],r[i]))])\n",
    "        #q_con = [q_con zeros(r[i]*size(R_mat,1),1)]\n",
    "    #end\n",
    "    \n",
    "    # Indicator for m/q blocks in observation matrix\n",
    "    bl_idxM = convert.(Bool, bl)\n",
    "    bl_idxQ = convert.(Bool, repeat(bl, 1, ppC))\n",
    "    R_con = kron(R_mat, Matrix{Float64}(I, ppC,ppC))\n",
    "    q_con = repeat(q, ppC)\n",
    "    \n",
    "    i_idio_M = i_idio[1:nM]\n",
    "    n_idio_M = length(findall(i_idio_M))\n",
    "    #c_i_idio = cumsum(i_idio, [1])\n",
    "    \n",
    "    for i in 1:n_bl # loop through unique loading\n",
    "        #println(i)\n",
    "        bl_i = bl[i,:]\n",
    "        rs = sum(convert.(Bool, bl_i)) # total num of blocks loaded (e.g [1 0 0 1] = 2)\n",
    "        idx_i = ismember(blocks, bl_i) # indices for [1 0 0 1]\n",
    "        idx_iM = idx_i[idx_i .< nM+1] # consider only monthly variables\n",
    "        n_i = length(idx_iM)\n",
    "\n",
    "        denom = zeros(n_i*rs, n_i*rs)\n",
    "        nom = zeros(n_i, rs)\n",
    "        \n",
    "        ### for input robustness\n",
    "        i_idio_ii = i_idio_M[idx_iM]\n",
    "        #i_idio_ii = c_i_idio(idx_iM)\n",
    "        #i_idio_ii = i_idio_ii(i_idio_i)\n",
    "        global bl_idxM_i = findall(bl_idxM[i,:])\n",
    "        \n",
    "        #println(\"before update monthly variable\")\n",
    "        ## update monthly variables\n",
    "        for t in 1:T\n",
    "            Wt = Diagonal(.!(nanY[idx_iM,t]))\n",
    "            denom = denom + kron(x_sm[bl_idxM_i, t+1]*x_sm[bl_idxM_i, t+1]' \n",
    "                + σ_sm[bl_idxM_i, bl_idxM_i, t+1], Wt)\n",
    "            \n",
    "            nom = nom + y[idx_iM,t]*x_sm[bl_idxM_i,t+1]' - Wt[:, i_idio_ii]*(x_sm[i_idio_ii.+rp1, t+1]*x_sm[bl_idxM_i,t+1]'\n",
    "                + σ_sm[i_idio_ii.+rp1, bl_idxM_i, t+1])\n",
    "        end\n",
    "        vec_G = inv(denom)*nom[:] #Eq13 in BGR 2010\n",
    "        println(size(reshape(vec_G, n_i, rs)))\n",
    "        G_new[idx_iM, bl_idxM_i] = reshape(vec_G, n_i, rs)\n",
    "        #println(\"successfully update monthly variable\")\n",
    "        ## update quarterly variables\n",
    "        \n",
    "        #println(\"before update quarterly variable\")\n",
    "        idx_iQ = idx_i[idx_i .> nM] # consider only quarterly variables\n",
    "        global bl_idxQ_i = findall(bl_idxQ[i,:])\n",
    "        global bl_idxQ_ii = findall(bl_idxQ[i, 1:end-ppC])\n",
    "        rps = rs*ppC\n",
    "        R_con_i = R_con[bl_idxQ_ii, bl_idxQ_i]\n",
    "        q_con_i = q_con[bl_idxQ_ii]\n",
    "        #no_c = .!(any(R_con_i,2))\n",
    "        #R_con_i[no_c, :] = []\n",
    "        #q_con_i[no_c, :] = []\n",
    "        \n",
    "        for j in idx_iQ\n",
    "            denom = zeros(rps,rps)\n",
    "            nom = zeros(1, rps)\n",
    "            \n",
    "            idx_jQ = j - nM\n",
    "            global i_idio_jQ = (rp1+n_idio_M+5*(idx_jQ-1)+1:rp1+n_idio_M + 5*idx_jQ)\n",
    "\n",
    "            \n",
    "            σ_0_new[i_idio_jQ, i_idio_jQ] = Diagonal(σ_sm[i_idio_jQ, i_idio_jQ, 1])\n",
    "            A_new[i_idio_jQ[1], i_idio_jQ[1]] = A_i[i_idio_jQ[1]-rp1, i_idio_jQ[1]-rp1]\n",
    "            Q_new[i_idio_jQ[1], i_idio_jQ[1]] = Q_i[i_idio_jQ[1]-rp1, i_idio_jQ[1]-rp1]\n",
    "            \n",
    "            for t in 1:T\n",
    "                Wt = Diagonal([.!(nanY[j,t])])\n",
    "                denom = denom+kron(x_sm[bl_idxQ_i, t+1]*x_sm[bl_idxQ_i, t+1]' + σ_sm[bl_idxQ_i, bl_idxQ_i, t+1], Wt)\n",
    "                nom = nom +y[j,t]*x_sm[bl_idxQ_i, t+1]'\n",
    "                nom = nom - Wt*([1 2 3 2 1]*x_sm[i_idio_jQ,t+1]*x_sm[bl_idxQ_i,t+1]'+[1 2 3 2 1]*σ_sm[i_idio_jQ, bl_idxQ_i,t+1])\n",
    "            end\n",
    "            \n",
    "            G_i = inv(denom)*nom'\n",
    "            #BGR eq13\n",
    "            G_i_constr = G_i - inv(denom)*R_con_i'*inv(R_con_i*denom*R_con_i')*(R_con_i*G_i -q_con_i)\n",
    "            #println(size(G_i_constr))\n",
    "            G_new[j,bl_idxQ_i] = G_i_constr\n",
    "        end\n",
    "        #println(\"after update quarterly variable\")\n",
    "    end\n",
    "    #println(\"Observation Equation DONE\")\n",
    "    \n",
    "    ### Update covariance of residuals for observation equation\n",
    "    #R_new = zeros(n,n)\n",
    "    #for t in 1:T\n",
    "    #    Wt = Diagonal(.!(nanY[:,t]))\n",
    "    #    R_new = R_new + (y[:,t] - Wt*G_new*x_sm[:,t+1])*(y[:,t]-Wt*G_new*x_sm[:,t+1])'+Wt*G_new*σ_sm[:,:,t+1]*G_new'*Wt + (Matrix{Float64}(I,n,n)-Wt)*R*(Matrix{Float64}(I,n,n)-Wt)\n",
    "    #end\n",
    "    \n",
    "    #R_new = R_new / T\n",
    "    #RR = Diagonal(R_new)\n",
    "    #RR[i_idio+_M] = 1e-04\n",
    "    #RR[nM+1:end] = 1e-04\n",
    "    #R_new = Diagonal(RR)\n",
    "    R_new = R #### There is no need to update R according to the way they set up state-space representation\n",
    "    \n",
    "    return G_new, R_new, A_new, Q_new, x_0, σ_0_new, loglik\n",
    "end"
   ]
  },
  {
   "cell_type": "code",
   "execution_count": 85,
   "metadata": {},
   "outputs": [
    {
     "data": {
      "text/plain": [
       "em_converged (generic function with 3 methods)"
      ]
     },
     "execution_count": 85,
     "metadata": {},
     "output_type": "execute_result"
    }
   ],
   "source": [
    "### Y_t = C_t Z_t + e_t for e_t ~ N(0, R)\n",
    "### Z_t = A Z_{t-1} + mu_t for mu_t ~ N(0,Q)\n",
    "function runKF(Y, A, C, Q, R, Z_0, V_0)\n",
    "    S = SKF(Y,A,C,Q,R,Z_0,V_0)\n",
    "    S, S1 = FIS(A,S)\n",
    "    \n",
    "    zsmooth = S1.ZmT\n",
    "    Vsmooth = S1.VmT\n",
    "    VVsmooth = S1.VmT_1\n",
    "    loglik = S.loglik\n",
    "    \n",
    "    println(\"Successfully run Kalman Filter Algorithm\")\n",
    "    println(S.loglik)\n",
    "    return zsmooth, Vsmooth, VVsmooth, loglik\n",
    "end\n",
    "\n",
    "function SKF(Y, A, C, Q, R, Z_0, V_0)\n",
    "    # Initialize output values\n",
    "    m = size(C,2)\n",
    "    nobs = size(Y,2) # number of observations\n",
    "    S = Sm(zeros(m, nobs), zeros(m, nobs+1), zeros(m,m, nobs), zeros(m,m, nobs+1), 0, zeros(m,m))\n",
    "    \n",
    "    Zu = Z_0\n",
    "    Vu = V_0\n",
    "    \n",
    "    print(Z_0)\n",
    "    \n",
    "    S.ZmU[:,1] = Zu\n",
    "    S.VmU[:,:,1] = Vu\n",
    "    \n",
    "    print(\"enter filtering procedure\")\n",
    "    # Kalman filter procedure\n",
    "    for t in 1:nobs\n",
    "        Z = A*Zu\n",
    "        V = A*Vu*A' +Q\n",
    "        #V = 0.5*(V+V')\n",
    "        \n",
    "        ### allow us to access C_t, VCF outside loop\n",
    "        global C_t, VCF\n",
    "        \n",
    "        (Y_t, C_t, R_t) = MissData(Y[:,t], C, R)\n",
    "        \n",
    "        if isempty(Y_t)\n",
    "            Zu = Z\n",
    "            Vu = V\n",
    "        else\n",
    "            VC = V*C_t'\n",
    "            temp = C_t*VC +R_t\n",
    "            iF = inv(temp)\n",
    "            \n",
    "            VCF = VC*iF\n",
    "            innov = Y_t - C_t*Z\n",
    "            Zu = Z + VCF*innov\n",
    "            \n",
    "            Vu = V - VCF*C_t*V\n",
    "            #Vu = 0.5*(Vu+Vu')\n",
    "            \n",
    "            #S.loglik = S.loglik - 0.5*(logdet(temp) + (innov'*iF*innov)[1])\n",
    "        end\n",
    "        \n",
    "        S.loglik = 0\n",
    "        \n",
    "        ### Store output\n",
    "        S.Zm[:,t] = Z\n",
    "        S.Vm[:,:,t] = V\n",
    "        S.ZmU[:,t+1] = Zu\n",
    "        S.VmU[:,:,t+1] = Vu\n",
    "    end\n",
    "    \n",
    "    #if isempty(Y_t)\n",
    "    #    S.k_t = zeros(m,m)\n",
    "    #else\n",
    "    #    S.k_t = VCF*C_t\n",
    "    #end\n",
    "    \n",
    "    ### Store Kalman gain\n",
    "    S.k_t = VCF*C_t\n",
    "    return S\n",
    "end\n",
    "\n",
    "### Fixed Interval Smoothing\n",
    "function FIS(A,S)\n",
    "    (m, nobs) = size(S.Zm)\n",
    "    S1 = Sm1(zeros(m, nobs+1), zeros(m,m,nobs+1), zeros(m,m,nobs))\n",
    "    \n",
    "    S1.ZmT[:, nobs+1] = S.ZmU[:,nobs+1]\n",
    "    S1.VmT[:,:,nobs+1] = S.VmU[:,:,nobs+1]\n",
    "    S1.VmT_1[:,:,nobs] = (Matrix{Float64}(I, m, m)-S.k_t)*A*(S.VmU[:,:,nobs])\n",
    "    \n",
    "    J_2 = S.VmU[:,:,nobs]*A'*pinv(S.Vm[:,:,nobs])\n",
    "    \n",
    "    # Run smoothing algorithm\n",
    "    for t in nobs:-1:1\n",
    "        VmU = S.VmU[:,:,t]\n",
    "        Vm1 = S.Vm[:,:,t]\n",
    "        V_T = S1.VmT[:,:,t+1]\n",
    "        V_T1 = S1.VmT_1[:,:,t]\n",
    "        J_1 = J_2\n",
    "        \n",
    "        # update smoothed factor estimate / covariance matrix\n",
    "        S1.ZmT[:,t] = S.ZmU[:,t]+J_1*(S1.ZmT[:,t+1] - A*S.ZmU[:,t])\n",
    "        S1.VmT[:,:,t] = VmU + J_1*(V_T - Vm1)*J_1'\n",
    "        \n",
    "        if t > 1\n",
    "            J_2 = S.VmU[:,:,t-1]*A'*pinv(S.Vm[:,:,t-1])\n",
    "            S1.VmT_1[:,:,t-1] = VmU*J_2' + J_1*(V_T1 - A*VmU)*J_2'\n",
    "        end\n",
    "    end\n",
    "    \n",
    "    return S, S1\n",
    "end\n",
    "\n",
    "function MissData(y,C,R)\n",
    "    ix = .!ismissing.(y)\n",
    "    e = Matrix{Float64}(I,size(y,1),size(y,1))\n",
    "    L = e[:,ix]\n",
    "    y = y[ix]\n",
    "    C = C[ix,:]\n",
    "    R = R[ix,ix]\n",
    "    \n",
    "    return y, C, R\n",
    "end\n",
    "\n",
    "#function InitialCond -- PCA for prior information\n",
    "\n",
    "function em_converged(loglik, previous_loglik, threshold = 1e-4, check_decreased = 1)\n",
    "    converged = 0\n",
    "    decrease = 0\n",
    "    \n",
    "    if check_decreased\n",
    "        if loglik - previous_loglik < -1e-3\n",
    "            printf(1, \"******likelihood decreased from %6.4f to %6.4f!\\n\", previous_loglik, loglik)\n",
    "            decrease = 1\n",
    "        end\n",
    "    end\n",
    "    \n",
    "    delta_loglik = abs(loglik - previous_loglik)\n",
    "    avg_loglik = (abs(loglik) + abs(previous_loglik) + eps)/2\n",
    "    \n",
    "    if (delta_loglik / avg_loglik) < threshold\n",
    "        converged = 1\n",
    "    end\n",
    "    \n",
    "    println(\"converged\")\n",
    "    print(converged)\n",
    "    \n",
    "    return converged, decrease \n",
    "end"
   ]
  },
  {
   "cell_type": "code",
   "execution_count": 86,
   "metadata": {},
   "outputs": [
    {
     "name": "stdout",
     "output_type": "stream",
     "text": [
      "Success"
     ]
    }
   ],
   "source": [
    "A_θ = convert(Matrix{Float64}, CSV.read(\"A_theta.csv\", header = false))\n",
    "G_θ = convert(Matrix{Float64}, CSV.read(\"G_theta.csv\", header = false))\n",
    "Q_θ = convert(Matrix{Float64}, CSV.read(\"Q_theta.csv\", header = false))\n",
    "R_θ = convert(Matrix{Float64}, CSV.read(\"R_theta.csv\", header = false))\n",
    "Z_θ = convert(Matrix{Float64}, CSV.read(\"Z_theta.csv\", header = false))\n",
    "V_θ = convert(Matrix{Float64}, CSV.read(\"V_theta.csv\", header = false))\n",
    "block = convert(Matrix{Float64}, CSV.read(\"block.csv\", header = false))\n",
    "X = CSV.read(\"X.csv\", header = true)\n",
    "X = convert(Matrix{Union{Missing,Float64}},X[2:end,])\n",
    "print(\"Success\")"
   ]
  },
  {
   "cell_type": "code",
   "execution_count": 87,
   "metadata": {},
   "outputs": [
    {
     "name": "stdout",
     "output_type": "stream",
     "text": [
      "run EM loop\n",
      "1\n",
      "[0.0; 0.0; 0.0; 0.0; 0.0; 0.0; 0.0; 0.0; 0.0; 0.0; 0.0; 0.0; 0.0; 0.0; 0.0; 0.0; 0.0; 0.0; 0.0; 0.0; 0.0; 0.0; 0.0; 0.0; 0.0; 0.0; 0.0; 0.0; 0.0; 0.0; 0.0; 0.0; 0.0; 0.0; 0.0; 0.0; 0.0; 0.0; 0.0; 0.0; 0.0; 0.0; 0.0; 0.0; 0.0; 0.0; 0.0; 0.0; 0.0; 0.0; 0.0; 0.0; 0.0; 0.0; 0.0; 0.0; 0.0; 0.0; 0.0; 0.0; 0.0; 0.0; 0.0; 0.0; 0.0; 0.0; 0.0; 0.0; 0.0; 0.0; 0.0; 0.0; 0.0; 0.0; 0.0; 0.0; 0.0; 0.0; 0.0; 0.0; 0.0; 0.0; 0.0; 0.0; 0.0; 0.0; 0.0; 0.0; 0.0; 0.0; 0.0; 0.0; 0.0; 0.0; 0.0; 0.0; 0.0; 0.0; 0.0; 0.0; 0.0; 0.0; 0.0; 0.0; 0.0; 0.0; 0.0; 0.0; 0.0; 0.0; 0.0; 0.0; 0.0; 0.0; 0.0; 0.0; 0.0; 0.0; 0.0; 0.0; 0.0; 0.0; 0.0; 0.0; 0.0; 0.0; 0.0; 0.0; 0.0; 0.0; 0.0; 0.0; 0.0; 0.0; 0.0; 0.0; 0.0; 0.0; 0.0; 0.0; 0.0; 0.0; 0.0; 0.0; 0.0; 0.0; 0.0; 0.0; 0.0; 0.0; 0.0; 0.0; 0.0]enter filtering procedureSuccessfully run Kalman Filter Algorithm\n",
      "0.0\n",
      "(47, 2)\n",
      "(40, 2)\n",
      "(28, 2)\n",
      "(3, 2)\n",
      "2\n",
      "[0.0249923, -2.3395e-7, 0.000113481, 3.97244e-6, -0.0764708, -1.16817e-5, 9.16626e-13, 1.79917e-12, -1.71548e-11, 3.59466e-5, -7.7878e-6, -3.82154e-11, 3.58713e-12, 2.74882e-11, 2.39644e-5, -3.89389e-6, 0.0, 0.0, 0.0, 1.19822e-5, 0.0, 0.0, 0.0, 0.0, 0.0, -0.00608042, -0.00836159, -0.0307186, 1.86095e-10, -3.12431e-11, 0.0810545, 0.143728, -0.0939888, -0.0244047, -0.030357, -0.0290799, 0.0512079, 0.175569, 0.0847848, -0.256861, 0.0606148, 0.0322675, 0.0537691, 0.817508, 0.0377211, -0.073392, -0.0818257, 0.0966388, 0.0217525, 0.016382, -0.923049, 0.385299, 0.732523, 0.00330228, 0.0054071, -0.0217967, -0.0138814, 0.0102514, 0.0153196, 0.00690352, 0.00252294, 0.00457918, 0.00227123, 0.0103539, -0.00233874, 0.00386645, -0.00145062, -0.079952, 0.000441383, 0.000272891, -0.0022503, 0.00809543, -0.0498647, -0.000887317, -1.23241e-17, -2.01007e-14, -1.10704e-16, -4.7556e-17, 1.41937e-15, -1.03264e-11, -2.16755e-11, 1.13204e-11, 8.98486e-11, -5.64133e-13, 9.01463e-14, 0.00224067, -0.00332226, 0.00518324, 0.0461778, -0.0469868, 7.293e-7, 0.00765314, 0.0125722, 0.00236735, 5.81836e-6, -0.0743643, -0.231596, 0.101863, 0.345065, -0.0553642, -0.0801886, 0.0836834, 0.0775387, 0.096227, 0.27706, 0.679767, -0.269822, 0.072669, -0.281197, -0.0881355, 1.53822e-11, -1.32508e-14, -1.18984e-14, -3.08902e-14, 9.58207e-15, 0.00747994, 0.0076637, 0.0124916, -0.0235726, 0.026003, -0.0405789, 0.00499844, -0.00579708, -0.0208943, -0.000444406, 0.0185536, -0.0215599, 0.00914254, 0.000482867, 0.000666428, 0.000653019, 0.00116587, -0.00162059, 0.0065357, -0.000416927, -4.11746e-5, 0.0124427, -0.00837391, 4.61255e-14, -0.00429449, -0.00949986, -0.00916013, 0.0403362, 0.0134455, -0.00382046, -0.00254697, -0.00127349, 0.0, 2.13554e-5, 0.000311669, 0.00020778, 0.00010389, 0.0]enter filtering procedureSuccessfully run Kalman Filter Algorithm\n",
      "0.0\n",
      "(47, 2)\n",
      "(40, 2)\n",
      "(28, 2)\n",
      "(3, 2)\n",
      "3\n",
      "[-0.0316849, 0.00296419, -0.0830874, 0.0433789, -0.956468, -1.57714e-5, -6.82413e-10, -2.08114e-11, -7.98214e-11, 4.88765e-5, -0.00014289, -7.00324e-11, 2.40982e-12, 1.80403e-11, 0.000438434, 0.000170548, 0.0, 0.0, 0.0, -0.00052329, 0.0, 0.0, 0.0, 0.0, 0.0, 9.58451e-5, 0.00119643, -0.0210253, -5.92453e-6, 0.0015608, 0.051164, 0.0326766, 0.00689893, -0.010811, -0.00189569, -0.0113248, 0.0238348, 0.0867275, 0.0826105, 0.0112172, 0.0473993, 0.00406749, 0.0625714, 0.960716, 0.0307263, -0.0716629, -0.0313116, -0.0583591, 0.0258452, 0.0172791, -0.859572, 0.45148, 0.767997, 0.0038319, 0.0065389, -0.0223194, -0.0143477, 0.0114194, 0.0170467, 0.00684874, 0.0029974, 0.00532363, 0.00259388, 0.011719, -0.0017003, 0.00262481, -0.00245929, 0.202853, 0.0016305, 0.000936902, -0.00224541, 0.00765663, -0.0511834, -0.00111994, -5.17225e-5, -1.42427e-6, 4.36927e-6, -0.000431809, 7.9305e-6, -0.00318114, -0.00083853, 0.000440417, 0.000128979, 0.000371157, 0.0104538, 0.0022762, -0.00388392, 0.00483117, 0.0556473, -0.0882783, -9.06914e-5, 0.0084101, 0.0129992, 0.0023311, 5.81836e-6, -0.0800601, -0.248941, 0.100871, 0.357629, -0.0767625, -0.107884, 0.0738595, 0.0594775, 0.260693, 0.606912, 0.76585, -0.568057, 0.173242, -0.625218, -0.219222, 0.000778339, 0.000536838, 0.000809907, -0.000213259, 0.00184489, 0.00390383, 0.00422985, 0.00382522, -0.0140688, 0.0290217, -0.00912007, 0.000260302, -0.00342173, 0.000817617, -0.000402935, -0.000628056, -0.0102869, 0.00920076, 0.000172877, 0.000203511, 0.000174828, 0.000887363, -0.00169597, 0.00601276, -0.000546198, -0.000404824, 0.0122289, -0.00894948, -0.000602429, -0.005018, -0.0107753, -0.00957411, 0.0421946, 0.0198168, -0.00429932, -0.0341031, 0.0516929, 0.0, -0.000187595, 0.000757229, -0.000256106, 0.0005211, 0.0]enter filtering procedureSuccessfully run Kalman Filter Algorithm\n",
      "0.0\n",
      "(47, 2)\n",
      "(40, 2)\n",
      "(28, 2)\n",
      "(3, 2)\n",
      "4\n",
      "[-0.0326769, 0.211237, -0.0139776, 0.0405886, -0.961137, 3.38744, -6.99517e-10, 4.72675e-10, 3.44777e-11, -2.08369, -0.0900871, -5.23451e-12, 4.58155e-11, -1.45671e-10, -1.98647, 0.0359077, 0.0, 0.0, 0.0, 0.793841, 0.0, 0.0, 0.0, 0.0, 0.0, 9.51002e-5, 0.00119568, -0.0210256, -1.427e-5, 0.00154935, 0.051163, 0.032675, 0.00689738, -0.0108126, -0.00190488, -0.0113257, 0.0238326, 0.0867258, 0.0826095, 0.0112129, 0.0473983, 0.00404054, 0.0625632, 0.957183, 0.0304378, -0.072071, 0.0728435, 0.0816382, 0.0271442, 0.0182733, -0.825678, 0.489992, 0.869139, 0.0041136, 0.00725003, -0.0227282, -0.0146809, 0.0121443, 0.0183621, 0.00692108, 0.00322172, 0.00567522, 0.00272473, 0.0127189, -0.00173646, 0.00125945, -0.0041738, 0.167761, 0.000235984, 0.000927197, -0.00224037, -0.0291669, -0.0511531, -0.00109421, -6.03908e-5, -1.34212e-6, -4.33516e-5, -0.000436954, -2.09754e-6, -0.00321446, -0.000883141, 0.000358762, 0.000123916, 0.00037088, 0.0104332, 0.00227635, -0.00388512, 0.00483098, 0.0536416, -0.0898888, -0.000251347, 0.00847714, 0.0130112, 0.00233191, 5.81836e-6, -0.0800598, -0.248939, 0.10087, 0.357625, -0.076759, -0.107872, 0.0738423, 0.059442, 0.260685, 0.606885, 0.765516, -0.60474, 0.173186, -0.624994, -0.218891, 0.000773651, 0.000530457, 0.000807656, 0.000703893, 0.00182161, 0.00390331, 0.00422889, 0.00382421, -0.0141004, 0.0288687, -0.00913659, 0.000260102, -0.00342207, 0.000813022, -0.000402984, -0.000628789, -0.010287, 0.00920075, 0.000172443, 0.000203156, 0.000174608, 0.000887024, -0.00169911, 0.00601168, -0.00054634, -0.000459235, 0.0122379, -0.00915721, 0.860257, -0.00501862, 0.0130769, 0.0169028, 0.0423405, 0.0324907, 0.0446868, 0.0155365, 0.0360262, 0.0, -0.000187595, 0.000882541, -0.000107843, 0.000569921, 0.0]enter filtering procedureSuccessfully run Kalman Filter Algorithm\n",
      "0.0\n",
      "(47, 2)\n",
      "(40, 2)\n",
      "(28, 2)\n",
      "(3, 2)\n",
      "5\n"
     ]
    },
    {
     "name": "stdout",
     "output_type": "stream",
     "text": [
      "[-0.0165446, 0.212023, -0.0124946, 0.0207844, -0.961251, -0.202079, -6.9441e-10, 4.7787e-10, 2.6505e-11, -2.05664, -0.0481416, -2.31008e-12, 4.31068e-11, -1.44608e-10, -1.98846, 0.532872, 0.0, 0.0, 0.0, 0.787073, 0.0, 0.0, 0.0, 0.0, 0.0, 9.67921e-5, 0.00119738, -0.0210248, 5.20286e-6, 0.000277519, 0.0511625, 0.0326757, 0.0068999, -0.010809, -0.00188315, -0.0113239, 0.0238343, 0.0867216, 0.0826062, 0.0112158, 0.0473979, 0.00411566, 0.0625777, 0.858136, 0.0273626, 0.00305517, 0.329436, 0.00866164, 0.0257942, 0.000451714, -0.670993, 0.470959, 0.89207, 0.00393871, 0.00611491, -0.0232207, -0.0148159, 0.011676, 0.0181158, 0.0069434, 0.00376009, 0.0059784, 0.00291299, 0.013221, -0.00164988, 0.00408216, -0.0091558, 0.0471715, -0.00344573, 0.00444452, 0.00194315, -0.11678, -0.152391, -0.0306468, -0.00179924, -0.00211695, 0.000645551, -0.00459072, 0.000982759, -0.0035285, -0.00222508, -0.000535059, 0.000148114, 0.000367748, 0.0104691, 0.002422, -0.00391462, 0.00483137, 0.0498511, -0.109594, -0.000278375, 0.00863153, 0.0132664, 0.0023837, 5.81836e-6, -0.0823189, -0.259141, 0.103488, 0.371489, -0.0828153, -0.117225, 0.0713837, 0.0508701, 0.409647, 0.820418, 0.800599, -0.81175, 0.253729, -0.939209, -0.34391, 4.85961e-5, -0.00248339, 0.000451088, 0.00482064, 0.00156399, 0.00390459, 0.00423125, 0.00382672, -0.0140496, 0.029184, -0.00911145, 0.000260592, -0.00342129, 0.000822518, -0.000402867, -0.00062682, -0.0102867, 0.00920079, 0.000173486, 0.000203996, 0.000175134, 0.000887978, -0.00170912, 0.00615647, -0.000547262, -0.00116315, 0.0127488, -0.010298, 0.909122, -0.00510775, 0.0133831, 0.0169566, 0.0447252, 0.0238704, 0.0460576, 0.0177919, 0.0593203, 0.0, -0.000187595, 0.000911133, -6.76947e-5, 0.000857319, 0.0]enter filtering procedureSuccessfully run Kalman Filter Algorithm\n",
      "0.0\n",
      "(47, 2)\n",
      "(40, 2)\n",
      "(28, 2)\n",
      "(3, 2)\n",
      "finish EM loop\n",
      "[-0.0165318, 0.011151, -0.014306, -0.220106, -0.961249, -0.0265419, -6.98318e-10, 4.82214e-10, 2.69952e-11, -2.05649, -0.0389891, -1.21583e-12, 4.25049e-11, -1.44924e-10, -1.98835, 0.27279, 0.0, 0.0, 0.0, 0.787071, 0.0, 0.0, 0.0, 0.0, 0.0, 9.51743e-5, 0.00119574, -0.0210255, -1.24567e-5, -0.0150155, 0.0511601, 0.0326717, 0.00689635, -0.0108125, -0.00190492, -0.0113258, 0.0238292, 0.0867168, 0.0826032, 0.0112053, 0.0473952, 0.00405769, 0.0625591, 0.821177, 0.0109236, -0.0135015, 0.398323, -0.139248, 0.0248188, -0.000416178, -0.424277, 0.481371, 0.0775577, 0.003443, 0.00583515, -0.0236895, -0.0162868, 0.0123976, 0.0182854, 0.00701614, 0.00306587, 0.00605212, 0.00276016, 0.0139575, -0.00128776, 0.00157605, -0.0141384, -0.00579448, -0.00728461, 0.00417819, 0.00432645, -0.143286, -0.19356, -0.044095, -0.00179892, -0.0028699, 0.00141458, -0.00518297, 0.00212324, 0.0172714, -0.0163384, -0.024362, 0.00507575, 0.000635337, 0.0104198, -0.0017724, -0.00441167, 0.00483096, 0.00404337, -0.244465, -0.000648316, 0.00936311, 0.0135261, 0.00112771, 5.81836e-6, -0.0287482, -0.0942428, 0.269849, 0.583587, 0.262713, 0.228187, 0.353839, 0.278541, 0.475225, 0.922171, 0.778507, -1.03449, 0.222975, -1.27276, -0.520957, 0.0667789, 0.132671, 0.0848272, -0.057647, 0.0296127, 0.00390351, 0.00422924, 0.00382462, -0.0141059, 0.0289127, -0.00914735, 0.00026016, -0.00342203, 0.000812366, -0.000402972, -0.000628379, -0.010287, 0.00920075, 0.00017254, 0.000203233, 0.000174657, 0.000922177, -0.00175282, 0.00404086, -0.000522552, -0.00102232, 0.0129156, -0.00958505, 0.888883, -0.00517936, 0.0132371, 0.017113, 0.0452674, 0.0176392, 0.0264926, -0.00358722, 0.0592608, 0.0, -0.000187595, 0.000508964, -0.000481938, 0.000856501, 0.0]enter filtering procedureSuccessfully run Kalman Filter Algorithm\n",
      "0.0\n"
     ]
    },
    {
     "data": {
      "text/plain": [
       "120×724 Array{Float64,2}:\n",
       " -8.67503e34  -5.6705e34   -1.31281e36  …  -1.06352e14   2.40393e13\n",
       " -8.69458e34  -5.69755e34  -1.30913e36     -1.06358e14   2.40401e13\n",
       " -8.65387e34  -5.63122e34  -1.30651e36     -1.06364e14   2.40407e13\n",
       " -8.70346e34  -5.74909e34  -1.31315e36     -1.0636e14    2.40413e13\n",
       " -3.19159e37  -6.04998e37   5.9609e37       5.66835e13   2.80694e13\n",
       " -8.64472e34  -5.62654e34  -1.30965e36  …  -1.06365e14   2.40412e13\n",
       " -8.62187e34  -5.57155e34  -1.31121e36     -1.06363e14   2.40406e13\n",
       " -8.59714e34  -5.50868e34  -1.31146e36     -1.06369e14   2.40412e13\n",
       " -8.62153e34  -5.57258e34  -1.30905e36     -1.06368e14   2.40405e13\n",
       " -8.71968e34  -5.75347e34  -1.30929e36     -1.06367e14   2.40421e13\n",
       " -8.59908e34  -5.52431e34  -1.31158e36  …  -1.06359e14   2.40393e13\n",
       " -8.54557e34  -5.42304e34  -1.3137e36      -1.06371e14   2.40408e13\n",
       " -8.68443e34  -5.70489e34  -1.3122e36      -1.06361e14   2.40409e13\n",
       "  ⋮                                     ⋱                          \n",
       " -3.19223e37  -6.05118e37   5.9621e37       5.66948e13   2.80751e13\n",
       " -3.18224e37  -6.03224e37   5.94345e37      5.65177e13   2.79872e13\n",
       "  1.06977e40   3.87404e40  -3.47872e40  …   4.20548e15  -7.47873e14\n",
       "  1.06225e40   3.84682e40  -3.45428e40      4.17594e15  -7.42618e14\n",
       "  1.07107e40   3.87876e40  -3.48296e40      4.21061e15  -7.48785e14\n",
       " -5.74416e35  -1.08886e36   1.07284e36      1.02018e12   5.0519e11 \n",
       " -3.20116e37  -6.0681e37    5.97878e37      5.68538e13   2.81536e13\n",
       "  6.72533e35   1.27485e36  -1.25609e36  …  -1.19444e12  -5.91482e11\n",
       "  6.66732e35   1.26385e36  -1.24526e36     -1.18414e12  -5.86381e11\n",
       " -3.20224e37  -6.07013e37   5.98078e37      5.68726e13   2.8163e13 \n",
       "  1.71697e51  -8.05676e50   9.03395e50      4.18054e26  -9.92062e24\n",
       " -5.06247e49   2.37553e49  -2.66366e49     -1.23263e25   2.92509e23"
      ]
     },
     "execution_count": 87,
     "metadata": {},
     "output_type": "execute_result"
    }
   ],
   "source": [
    "### Trial\n",
    "Sp = Spec(1,1,2,block)\n",
    "Inits = inits(A_θ, G_θ, Q_θ, R_θ, Z_θ, V_θ)\n",
    "\n",
    "x_sm = dfm(X', Sp, Inits)\n"
   ]
  },
  {
   "cell_type": "code",
   "execution_count": 80,
   "metadata": {},
   "outputs": [
    {
     "data": {
      "text/plain": [
       "153×153 Array{Float64,2}:\n",
       " 0.996564   0.0        0.0         …  0.0   0.0       0.0  0.0  0.0  0.0\n",
       " 0.0       -0.0792658  0.0            0.0   0.0       0.0  0.0  0.0  0.0\n",
       " 0.0        0.0        0.00164138     0.0   0.0       0.0  0.0  0.0  0.0\n",
       " 0.0        0.0        0.0            0.0   0.0       0.0  0.0  0.0  0.0\n",
       " 0.0        0.0        0.0            0.0   0.0       0.0  0.0  0.0  0.0\n",
       " 1.0        0.0        0.0         …  0.0   0.0       0.0  0.0  0.0  0.0\n",
       " 0.0        1.0        0.0            0.0   0.0       0.0  0.0  0.0  0.0\n",
       " 0.0        0.0        1.0            0.0   0.0       0.0  0.0  0.0  0.0\n",
       " 0.0        0.0        0.0            0.0   0.0       0.0  0.0  0.0  0.0\n",
       " 0.0        0.0        0.0            0.0   0.0       0.0  0.0  0.0  0.0\n",
       " 0.0        0.0        0.0         …  0.0   0.0       0.0  0.0  0.0  0.0\n",
       " 0.0        0.0        0.0            0.0   0.0       0.0  0.0  0.0  0.0\n",
       " 0.0        0.0        0.0            0.0   0.0       0.0  0.0  0.0  0.0\n",
       " ⋮                                 ⋱                       ⋮            \n",
       " 0.0        0.0        0.0            0.0   0.0       0.0  0.0  0.0  0.0\n",
       " 0.0        0.0        0.0            0.0   0.0       0.0  0.0  0.0  0.0\n",
       " 0.0        0.0        0.0            0.0   0.0       0.0  0.0  0.0  0.0\n",
       " 0.0        0.0        0.0            0.0   0.0       0.0  0.0  0.0  0.0\n",
       " 0.0        0.0        0.0         …  0.0   0.0       0.0  0.0  0.0  0.0\n",
       " 0.0        0.0        0.0            0.0   0.0       0.0  0.0  0.0  0.0\n",
       " 0.0        0.0        0.0            0.0   0.0       0.0  0.0  0.0  0.0\n",
       " 0.0        0.0        0.0            0.0  -0.553462  0.0  0.0  0.0  0.0\n",
       " 0.0        0.0        0.0            0.0   1.0       0.0  0.0  0.0  0.0\n",
       " 0.0        0.0        0.0         …  0.0   0.0       1.0  0.0  0.0  0.0\n",
       " 0.0        0.0        0.0            0.0   0.0       0.0  1.0  0.0  0.0\n",
       " 0.0        0.0        0.0            0.0   0.0       0.0  0.0  1.0  0.0"
      ]
     },
     "execution_count": 80,
     "metadata": {},
     "output_type": "execute_result"
    }
   ],
   "source": [
    "A_θ"
   ]
  },
  {
   "cell_type": "code",
   "execution_count": 81,
   "metadata": {},
   "outputs": [
    {
     "data": {
      "text/plain": [
       "120×153 Array{Float64,2}:\n",
       "     0.00861347     0.0         0.0  …  0.0  0.0  0.0  0.0  0.0  0.0  0.0\n",
       "     0.0113917      0.0         0.0     0.0  0.0  0.0  0.0  0.0  0.0  0.0\n",
       "     0.00549878     0.0         0.0     0.0  0.0  0.0  0.0  0.0  0.0  0.0\n",
       "     0.012622       0.0         0.0     0.0  0.0  0.0  0.0  0.0  0.0  0.0\n",
       "   460.984          0.0         0.0     0.0  0.0  0.0  0.0  0.0  0.0  0.0\n",
       "     0.00414605     0.0         0.0  …  0.0  0.0  0.0  0.0  0.0  0.0  0.0\n",
       "     0.000841572    0.0         0.0     0.0  0.0  0.0  0.0  0.0  0.0  0.0\n",
       "    -0.0027584      0.0         0.0     0.0  0.0  0.0  0.0  0.0  0.0  0.0\n",
       "     0.000777891    0.0         0.0     0.0  0.0  0.0  0.0  0.0  0.0  0.0\n",
       "     0.0149897      0.0         0.0     0.0  0.0  0.0  0.0  0.0  0.0  0.0\n",
       "    -0.00246184     0.0         0.0  …  0.0  0.0  0.0  0.0  0.0  0.0  0.0\n",
       "    -0.0102211      0.0         0.0     0.0  0.0  0.0  0.0  0.0  0.0  0.0\n",
       "     0.00988565     0.0         0.0     0.0  0.0  0.0  0.0  0.0  0.0  0.0\n",
       "     ⋮                               ⋱                      ⋮            \n",
       "   461.077          0.0         0.0     0.0  0.0  0.0  0.0  0.0  0.0  0.0\n",
       "   459.634          0.0         0.0     0.0  0.0  0.0  0.0  0.0  0.0  0.0\n",
       " -1534.45           0.0     21268.4  …  0.0  0.0  0.0  0.0  0.0  0.0  0.0\n",
       " -1523.65           0.0     21119.0     0.0  0.0  0.0  0.0  0.0  0.0  0.0\n",
       " -1536.32           0.0     21294.4     0.0  0.0  0.0  0.0  0.0  0.0  0.0\n",
       "     8.29674      -21.2013      0.0     0.0  0.0  0.0  0.0  0.0  0.0  0.0\n",
       "   462.367          0.0         0.0     0.0  0.0  0.0  0.0  0.0  0.0  0.0\n",
       "    -9.71391       66.4197      0.0  …  0.0  0.0  0.0  0.0  0.0  0.0  0.0\n",
       "    -9.63013       65.9536      0.0     0.0  0.0  0.0  0.0  0.0  0.0  0.0\n",
       "   462.522          0.0         0.0     0.0  0.0  0.0  0.0  0.0  0.0  0.0\n",
       "     2.85565e15     0.0         0.0     2.0  1.0  0.0  0.0  0.0  0.0  0.0\n",
       "    -8.41988e13     0.0         0.0     0.0  0.0  1.0  2.0  3.0  2.0  1.0"
      ]
     },
     "execution_count": 81,
     "metadata": {},
     "output_type": "execute_result"
    }
   ],
   "source": [
    "G_θ"
   ]
  },
  {
   "cell_type": "code",
   "execution_count": 82,
   "metadata": {},
   "outputs": [
    {
     "data": {
      "text/plain": [
       "153×1 Array{Float64,2}:\n",
       " 0.0\n",
       " 0.0\n",
       " 0.0\n",
       " 0.0\n",
       " 0.0\n",
       " 0.0\n",
       " 0.0\n",
       " 0.0\n",
       " 0.0\n",
       " 0.0\n",
       " 0.0\n",
       " 0.0\n",
       " 0.0\n",
       " ⋮  \n",
       " 0.0\n",
       " 0.0\n",
       " 0.0\n",
       " 0.0\n",
       " 0.0\n",
       " 0.0\n",
       " 0.0\n",
       " 0.0\n",
       " 0.0\n",
       " 0.0\n",
       " 0.0\n",
       " 0.0"
      ]
     },
     "execution_count": 82,
     "metadata": {},
     "output_type": "execute_result"
    }
   ],
   "source": [
    "Z_θ"
   ]
  },
  {
   "cell_type": "code",
   "execution_count": 94,
   "metadata": {},
   "outputs": [
    {
     "data": {
      "text/plain": [
       "724×120 Adjoint{Float64,Array{Float64,2}}:\n",
       " -8.67503e34  -8.69458e34  -8.65387e34  …   1.71697e51  -5.06247e49\n",
       " -5.6705e34   -5.69755e34  -5.63122e34     -8.05676e50   2.37553e49\n",
       " -1.31281e36  -1.30913e36  -1.30651e36      9.03395e50  -2.66366e49\n",
       "  1.35611e37   1.35286e37   1.34821e37     -1.10098e51   3.24623e49\n",
       " -3.59079e35  -3.57877e35  -3.5721e35       5.55624e48  -1.63825e47\n",
       " -2.60635e37  -2.59967e37  -2.59672e37  …   1.05065e50  -3.09783e48\n",
       " -1.73453e37  -1.73418e37  -1.73562e37      7.39246e49  -2.17966e48\n",
       " -1.92705e38  -1.92719e38  -1.92848e38      8.58402e50  -2.53099e49\n",
       "  1.39828e38   1.40534e38   1.40884e38     -4.01118e50   1.18269e49\n",
       " -4.3931e38   -4.39879e38  -4.4018e38       1.58208e51  -4.66476e49\n",
       " -3.1919e37   -3.19337e37  -3.15679e37  …   5.75892e50  -1.69801e49\n",
       "  2.77906e37   2.77949e37   2.77687e37     -1.55201e49   4.57609e47\n",
       " -8.58227e38  -8.59507e38  -8.58737e38      3.75642e51  -1.10758e50\n",
       "  ⋮                                     ⋱                          \n",
       "  1.87875e14   1.8772e14    1.87331e14     -6.92124e26   2.04072e25\n",
       "  1.04475e13   9.94459e12   9.91399e12     -1.3729e26    4.04799e24\n",
       "  1.41141e14   1.4114e14    1.40886e14     -5.96426e26   1.75856e25\n",
       " -4.151e13    -4.15294e13  -4.15203e13  …  -3.81988e25   1.12629e24\n",
       "  9.31951e13   9.32166e13   9.31587e13     -5.06051e26   1.49209e25\n",
       " -8.47708e13  -8.47645e13  -8.47532e13      2.77306e26  -8.17634e24\n",
       " -1.79642e13  -1.79388e13  -1.79748e13      1.94261e26  -5.72778e24\n",
       " -5.13564e13  -5.15793e13  -5.15817e13      4.90418e25  -1.44599e24\n",
       " -4.21306e13  -4.21234e13  -4.21385e13  …   1.77557e26  -5.23526e24\n",
       " -5.60379e13  -5.60137e13  -5.6004e13       3.08e26     -9.08136e24\n",
       " -1.06352e14  -1.06358e14  -1.06364e14      4.18054e26  -1.23263e25\n",
       "  2.40393e13   2.40401e13   2.40407e13     -9.92062e24   2.92509e23"
      ]
     },
     "execution_count": 94,
     "metadata": {},
     "output_type": "execute_result"
    }
   ],
   "source": [
    "x_sm'"
   ]
  },
  {
   "cell_type": "code",
   "execution_count": 92,
   "metadata": {},
   "outputs": [
    {
     "data": {
      "text/plain": [
       "724×120 Array{Union{Missing, Float64},2}:\n",
       "  0.0012526     0.0010653     0.00767048   …   0.0148145     0.00144012 \n",
       "  0.0037502     0.00486275    0.00671482       0.0           0.0        \n",
       "  0.00381723    0.00450843   -0.0062556        0.0           0.0        \n",
       "  0.00314537    0.00411852    0.00930512      -0.00678716   -0.000394184\n",
       "  0.000427094   0.000511156   0.000966653      0.0           0.0        \n",
       " -0.00326644   -0.0033188    -0.00604413   …   0.0           0.0        \n",
       " -0.00837617   -0.00822697    0.00331371      -0.00465258   -0.00202109 \n",
       " -0.00189259   -0.00255374    0.007322         0.0           0.0        \n",
       " -0.00145783   -0.00131382   -0.00950251       0.0           0.0        \n",
       "  0.00491526    0.00417518   -0.00312461       0.0147253     0.00167232 \n",
       "  0.00751591    0.00884201   -0.00379359   …   0.0           0.0        \n",
       "  0.00051197    0.00213642    0.000104457      0.0           0.0        \n",
       " -0.00153613   -0.00159242    0.00164789      -0.0129074     0.000754914\n",
       "  ⋮                                        ⋱                            \n",
       "  3.23e-5       0.000477946  -0.000517367      0.0           0.0        \n",
       "  0.000381042   0.00101453    0.000893734      0.0           0.0        \n",
       "  0.00100932    0.00148749    0.000602404     -0.00478926   -0.00141792 \n",
       " -0.00349345   -0.00337316   -0.00296633   …   0.0           0.0        \n",
       " -0.00173324   -0.0018733     0.00119857       0.0           0.0        \n",
       " -0.00168106   -0.00110664   -0.000124726      0.000124025   0.00321331 \n",
       "  0.00617598    0.00738623   -0.0114453        0.0           0.0        \n",
       "  0.000902918  -0.00409511    0.00373438       0.0           0.0        \n",
       "  0.00216633    0.00248386   -0.00434615   …  -0.00241136    0.0        \n",
       " -0.000355807  -0.000136804   0.00488391       0.0           0.0        \n",
       " -0.00112315   -0.00107352    0.000518506      0.0           0.0        \n",
       " -0.000237273  -8.91e-5       0.000682792      0.0           0.0        "
      ]
     },
     "execution_count": 92,
     "metadata": {},
     "output_type": "execute_result"
    }
   ],
   "source": [
    "X"
   ]
  },
  {
   "cell_type": "code",
   "execution_count": null,
   "metadata": {
    "collapsed": true
   },
   "outputs": [],
   "source": []
  },
  {
   "cell_type": "code",
   "execution_count": null,
   "metadata": {
    "collapsed": true
   },
   "outputs": [],
   "source": []
  },
  {
   "cell_type": "code",
   "execution_count": null,
   "metadata": {
    "collapsed": true
   },
   "outputs": [],
   "source": []
  },
  {
   "cell_type": "code",
   "execution_count": null,
   "metadata": {
    "collapsed": true
   },
   "outputs": [],
   "source": []
  },
  {
   "cell_type": "code",
   "execution_count": null,
   "metadata": {
    "collapsed": true
   },
   "outputs": [],
   "source": []
  },
  {
   "cell_type": "code",
   "execution_count": 155,
   "metadata": {},
   "outputs": [
    {
     "data": {
      "text/plain": [
       "1"
      ]
     },
     "execution_count": 155,
     "metadata": {},
     "output_type": "execute_result"
    }
   ],
   "source": [
    "abs(-1)"
   ]
  },
  {
   "cell_type": "code",
   "execution_count": null,
   "metadata": {
    "collapsed": true
   },
   "outputs": [],
   "source": []
  },
  {
   "cell_type": "code",
   "execution_count": null,
   "metadata": {
    "collapsed": true
   },
   "outputs": [],
   "source": []
  },
  {
   "cell_type": "code",
   "execution_count": null,
   "metadata": {
    "collapsed": true
   },
   "outputs": [],
   "source": []
  },
  {
   "cell_type": "code",
   "execution_count": null,
   "metadata": {
    "collapsed": true
   },
   "outputs": [],
   "source": []
  },
  {
   "cell_type": "code",
   "execution_count": null,
   "metadata": {
    "collapsed": true
   },
   "outputs": [],
   "source": []
  },
  {
   "cell_type": "code",
   "execution_count": null,
   "metadata": {
    "collapsed": true
   },
   "outputs": [],
   "source": []
  },
  {
   "cell_type": "code",
   "execution_count": null,
   "metadata": {
    "collapsed": true
   },
   "outputs": [],
   "source": []
  },
  {
   "cell_type": "code",
   "execution_count": null,
   "metadata": {
    "collapsed": true
   },
   "outputs": [],
   "source": []
  },
  {
   "cell_type": "code",
   "execution_count": null,
   "metadata": {
    "collapsed": true
   },
   "outputs": [],
   "source": []
  },
  {
   "cell_type": "code",
   "execution_count": null,
   "metadata": {
    "collapsed": true
   },
   "outputs": [],
   "source": []
  },
  {
   "cell_type": "code",
   "execution_count": null,
   "metadata": {
    "collapsed": true
   },
   "outputs": [],
   "source": []
  },
  {
   "cell_type": "code",
   "execution_count": null,
   "metadata": {
    "collapsed": true
   },
   "outputs": [],
   "source": []
  },
  {
   "cell_type": "code",
   "execution_count": null,
   "metadata": {
    "collapsed": true
   },
   "outputs": [],
   "source": []
  },
  {
   "cell_type": "code",
   "execution_count": null,
   "metadata": {
    "collapsed": true
   },
   "outputs": [],
   "source": []
  },
  {
   "cell_type": "code",
   "execution_count": null,
   "metadata": {
    "collapsed": true
   },
   "outputs": [],
   "source": []
  },
  {
   "cell_type": "code",
   "execution_count": null,
   "metadata": {
    "collapsed": true
   },
   "outputs": [],
   "source": []
  },
  {
   "cell_type": "code",
   "execution_count": null,
   "metadata": {
    "collapsed": true
   },
   "outputs": [],
   "source": []
  },
  {
   "cell_type": "code",
   "execution_count": null,
   "metadata": {
    "collapsed": true
   },
   "outputs": [],
   "source": []
  },
  {
   "cell_type": "code",
   "execution_count": null,
   "metadata": {
    "collapsed": true
   },
   "outputs": [],
   "source": []
  },
  {
   "cell_type": "code",
   "execution_count": null,
   "metadata": {
    "collapsed": true
   },
   "outputs": [],
   "source": []
  },
  {
   "cell_type": "code",
   "execution_count": null,
   "metadata": {
    "collapsed": true
   },
   "outputs": [],
   "source": []
  },
  {
   "cell_type": "code",
   "execution_count": null,
   "metadata": {
    "collapsed": true
   },
   "outputs": [],
   "source": []
  },
  {
   "cell_type": "code",
   "execution_count": null,
   "metadata": {
    "collapsed": true
   },
   "outputs": [],
   "source": []
  },
  {
   "cell_type": "code",
   "execution_count": null,
   "metadata": {
    "collapsed": true
   },
   "outputs": [],
   "source": []
  },
  {
   "cell_type": "code",
   "execution_count": null,
   "metadata": {
    "collapsed": true
   },
   "outputs": [],
   "source": []
  },
  {
   "cell_type": "code",
   "execution_count": 192,
   "metadata": {},
   "outputs": [
    {
     "data": {
      "text/plain": [
       "2×2 Diagonal{Int64,Array{Int64,1}}:\n",
       " 1  ⋅\n",
       " ⋅  4"
      ]
     },
     "execution_count": 192,
     "metadata": {},
     "output_type": "execute_result"
    }
   ],
   "source": [
    "Diagonal(Diagonal([1 2; 3 4]))"
   ]
  },
  {
   "cell_type": "code",
   "execution_count": null,
   "metadata": {
    "collapsed": true
   },
   "outputs": [],
   "source": []
  },
  {
   "cell_type": "code",
   "execution_count": null,
   "metadata": {
    "collapsed": true
   },
   "outputs": [],
   "source": []
  },
  {
   "cell_type": "code",
   "execution_count": null,
   "metadata": {
    "collapsed": true
   },
   "outputs": [],
   "source": []
  }
 ],
 "metadata": {
  "kernelspec": {
   "display_name": "Julia 1.1.0",
   "language": "julia",
   "name": "julia-1.1"
  },
  "language_info": {
   "file_extension": ".jl",
   "mimetype": "application/julia",
   "name": "julia",
   "version": "1.1.0"
  }
 },
 "nbformat": 4,
 "nbformat_minor": 2
}
