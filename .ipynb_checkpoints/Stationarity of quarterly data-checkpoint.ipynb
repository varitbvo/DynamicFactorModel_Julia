{
 "cells": [
  {
   "cell_type": "code",
   "execution_count": 1,
   "metadata": {
    "collapsed": true
   },
   "outputs": [],
   "source": [
    "using LinearAlgebra\n",
    "using Plots\n",
    "using DataFrames, CSV, HypothesisTests\n",
    "using FredData"
   ]
  },
  {
   "cell_type": "code",
   "execution_count": 50,
   "metadata": {},
   "outputs": [
    {
     "data": {
      "text/plain": [
       "FRED API Connection\n",
       "\turl: https://api.stlouisfed.org/fred/\n",
       "\tkey: 266c597cbf3d25f366b082b4bf5161fe\n"
      ]
     },
     "execution_count": 50,
     "metadata": {},
     "output_type": "execute_result"
    }
   ],
   "source": [
    "f = Fred(\"266c597cbf3d25f366b082b4bf5161fe\")"
   ]
  },
  {
   "cell_type": "code",
   "execution_count": 58,
   "metadata": {},
   "outputs": [
    {
     "data": {
      "text/plain": [
       "log_diff (generic function with 1 method)"
      ]
     },
     "execution_count": 58,
     "metadata": {},
     "output_type": "execute_result"
    }
   ],
   "source": [
    "function log_diff(x::DataFrame)\n",
    "    temp = zeros(length(x[:,1]))\n",
    "    for i in 1:length(x[:,1])\n",
    "        temp[i] = log(x[i,2])\n",
    "    end\n",
    "    diff_array = diff(temp)\n",
    "    for i in 1:length(x[:,1])-1\n",
    "        x[i,2] = diff_array[i]\n",
    "    end\n",
    "    x[length(x[:,1]),2] = NaN\n",
    "    x[:,2] = replace(x[:,2], NaN => missing)\n",
    "    return x\n",
    "end"
   ]
  },
  {
   "cell_type": "code",
   "execution_count": 59,
   "metadata": {},
   "outputs": [
    {
     "data": {
      "text/plain": [
       "diff_ts (generic function with 1 method)"
      ]
     },
     "execution_count": 59,
     "metadata": {},
     "output_type": "execute_result"
    }
   ],
   "source": [
    "function diff_ts(x::DataFrame)\n",
    "    temp = zeros(length(x[:,1]))\n",
    "    diff_array = diff(temp)\n",
    "    for i in 1:length(x[:,1])-1\n",
    "        x[i,2] = diff_array[i]\n",
    "    end\n",
    "    x[length(x[:,1]),2] = NaN\n",
    "    x[:,2] = replace(x[:,2], NaN => missing)\n",
    "    return x\n",
    "end"
   ]
  },
  {
   "cell_type": "code",
   "execution_count": 60,
   "metadata": {},
   "outputs": [
    {
     "data": {
      "text/plain": [
       "log_diff_diff (generic function with 1 method)"
      ]
     },
     "execution_count": 60,
     "metadata": {},
     "output_type": "execute_result"
    }
   ],
   "source": [
    "function log_diff_diff(x::DataFrame)\n",
    "    temp = zeros(length(x[:,1]))\n",
    "    for i in 1:length(x[:,1])\n",
    "        temp[i] = log(x[i,2])\n",
    "    end\n",
    "    diff_array = diff(diff(temp))\n",
    "    for i in 1:length(x[:,1])-2\n",
    "        x[i,2] = diff_array[i]\n",
    "    end\n",
    "    x[length(x[:,1])-1,2] = NaN\n",
    "    x[length(x[:,1]),2] = NaN\n",
    "    x[:,2] = replace(x[:,2], NaN => missing)\n",
    "    return x\n",
    "end"
   ]
  },
  {
   "cell_type": "markdown",
   "metadata": {},
   "source": [
    "# Quarterly Data"
   ]
  },
  {
   "cell_type": "code",
   "execution_count": 62,
   "metadata": {},
   "outputs": [
    {
     "name": "stdout",
     "output_type": "stream",
     "text": [
      "DONE\n"
     ]
    }
   ],
   "source": [
    "### GDPC1\n",
    "GDPC1 = get_data(f, \"GDPC1\").data[:,[3,4]]\n",
    "GDPC1 = log_diff(GDPC1)\n",
    "println(\"DONE\")"
   ]
  },
  {
   "cell_type": "code",
   "execution_count": 63,
   "metadata": {},
   "outputs": [
    {
     "name": "stdout",
     "output_type": "stream",
     "text": [
      "DONE\n"
     ]
    }
   ],
   "source": [
    "### PCECC96\n",
    "PCECC96 = get_data(f, \"PCECC96\").data[:,[3,4]]\n",
    "PCECC96 = log_diff(PCECC96)\n",
    "println(\"DONE\")"
   ]
  },
  {
   "cell_type": "code",
   "execution_count": 64,
   "metadata": {},
   "outputs": [
    {
     "name": "stdout",
     "output_type": "stream",
     "text": [
      "DONE\n"
     ]
    }
   ],
   "source": [
    "###  PCDGx\n",
    "PCDGx = get_data(f, \"PCDG\").data[:,[3,4]]\n",
    "PCDGx = log_diff(PCDGx)\n",
    "println(\"DONE\")"
   ]
  },
  {
   "cell_type": "code",
   "execution_count": 66,
   "metadata": {},
   "outputs": [
    {
     "name": "stdout",
     "output_type": "stream",
     "text": [
      "DONE\n"
     ]
    }
   ],
   "source": [
    "###  PCESV\n",
    "PCESV = get_data(f, \"PCESV\").data[:,[3,4]]\n",
    "PCESV = log_diff(PCESV)\n",
    "println(\"DONE\")"
   ]
  },
  {
   "cell_type": "code",
   "execution_count": 68,
   "metadata": {},
   "outputs": [
    {
     "name": "stdout",
     "output_type": "stream",
     "text": [
      "DONE\n"
     ]
    }
   ],
   "source": [
    "###  PCNDx\n",
    "PCNDx = get_data(f, \"PCND\").data[:,[3,4]]\n",
    "PCNDx = log_diff(PCNDx)\n",
    "println(\"DONE\")"
   ]
  },
  {
   "cell_type": "code",
   "execution_count": 69,
   "metadata": {},
   "outputs": [
    {
     "name": "stdout",
     "output_type": "stream",
     "text": [
      "DONE\n"
     ]
    }
   ],
   "source": [
    "### GPDIC1\n",
    "GPDIC1 = get_data(f, \"GPDIC1\").data[:, [3,4]]\n",
    "GPDIC1 = log_diff(GPDIC1)\n",
    "println(\"DONE\")"
   ]
  },
  {
   "cell_type": "code",
   "execution_count": 70,
   "metadata": {},
   "outputs": [
    {
     "name": "stdout",
     "output_type": "stream",
     "text": [
      "DONE\n"
     ]
    }
   ],
   "source": [
    "### FPI\n",
    "FPIx = get_data(f, \"FPI\").data[:,[3,4]]\n",
    "FPIx = log_diff(FPIx)\n",
    "println(\"DONE\")"
   ]
  },
  {
   "cell_type": "code",
   "execution_count": 71,
   "metadata": {},
   "outputs": [
    {
     "name": "stdout",
     "output_type": "stream",
     "text": [
      "DONE\n"
     ]
    }
   ],
   "source": [
    "### Y033RC1Q027SBEA\n",
    "Y033RC1Q027SBEA = get_data(f, \"Y033RC1Q027SBEA\").data[:,[3,4]]\n",
    "Y033RC1Q027SBEA = log_diff(Y033RC1Q027SBEA)\n",
    "println(\"DONE\")"
   ]
  },
  {
   "cell_type": "code",
   "execution_count": 72,
   "metadata": {},
   "outputs": [
    {
     "name": "stdout",
     "output_type": "stream",
     "text": [
      "DONE\n"
     ]
    }
   ],
   "source": [
    "### PNFI\n",
    "PNFI = get_data(f, \"PNFI\").data[:,[3,4]]\n",
    "PNFI = log_diff(PNFI)\n",
    "println(\"DONE\")"
   ]
  },
  {
   "cell_type": "code",
   "execution_count": 73,
   "metadata": {},
   "outputs": [
    {
     "name": "stdout",
     "output_type": "stream",
     "text": [
      "DONE\n"
     ]
    }
   ],
   "source": [
    "### PRFI\n",
    "PRFI = get_data(f, \"PRFI\").data[:,[3,4]]\n",
    "PRFI = log_diff(PRFI)\n",
    "println(\"DONE\")"
   ]
  },
  {
   "cell_type": "code",
   "execution_count": 76,
   "metadata": {},
   "outputs": [
    {
     "name": "stdout",
     "output_type": "stream",
     "text": [
      "DONE\n"
     ]
    }
   ],
   "source": [
    "### A014RE1Q156NBEA\n",
    "A014RE1Q156NBEA = get_data(f, \"A014RE1Q156NBEA\").data[:,[3,4]]\n",
    "println(\"DONE\")"
   ]
  },
  {
   "cell_type": "code",
   "execution_count": 77,
   "metadata": {},
   "outputs": [
    {
     "name": "stdout",
     "output_type": "stream",
     "text": [
      "DONE\n"
     ]
    }
   ],
   "source": [
    "### GCEC1\n",
    "GCEC1 = get_data(f, \"GCEC1\").data[:,[3,4]]\n",
    "GCEC1 = log_diff(GCEC1)\n",
    "println(\"DONE\")"
   ]
  },
  {
   "cell_type": "code",
   "execution_count": null,
   "metadata": {
    "collapsed": true
   },
   "outputs": [],
   "source": []
  },
  {
   "cell_type": "code",
   "execution_count": 104,
   "metadata": {},
   "outputs": [
    {
     "name": "stdout",
     "output_type": "stream",
     "text": [
      "DONE\n"
     ]
    }
   ],
   "source": [
    "### A823RL1Q225SBEA\n",
    "A823RL1Q225SBEA = get_data(f, \"A823RL1Q225SBEA\").data[:, [3,4]]\n",
    "println(\"DONE\")"
   ]
  },
  {
   "cell_type": "code",
   "execution_count": 79,
   "metadata": {},
   "outputs": [
    {
     "name": "stdout",
     "output_type": "stream",
     "text": [
      "DONE\n"
     ]
    }
   ],
   "source": [
    "### FGRECPTx\n",
    "FGRECPTx = get_data(f, \"FGRECPT\").data[:,[3,4]]\n",
    "FGRECPTx = log_diff(FGRECPTx)\n",
    "println(\"DONE\")"
   ]
  },
  {
   "cell_type": "code",
   "execution_count": 80,
   "metadata": {},
   "outputs": [
    {
     "name": "stdout",
     "output_type": "stream",
     "text": [
      "DONE\n"
     ]
    }
   ],
   "source": [
    "### SLCEx\n",
    "SLCEx = get_data(f, \"SLCE\").data[:,[3,4]]\n",
    "SLCEx = log_diff(SLCEx)\n",
    "println(\"DONE\")"
   ]
  },
  {
   "cell_type": "code",
   "execution_count": 81,
   "metadata": {},
   "outputs": [
    {
     "name": "stdout",
     "output_type": "stream",
     "text": [
      "DONE\n"
     ]
    }
   ],
   "source": [
    "### EXPGSC1\n",
    "EXPGSC1 = get_data(f, \"EXPGSC1\").data[:,[3,4]]\n",
    "EXPGSC1 = log_diff(EXPGSC1)\n",
    "println(\"DONE\")"
   ]
  },
  {
   "cell_type": "code",
   "execution_count": 409,
   "metadata": {},
   "outputs": [
    {
     "data": {
      "text/html": [
       "<table class=\"data-frame\"><thead><tr><th></th><th>date</th><th>value</th></tr><tr><th></th><th>Dates…</th><th>Float64⍰</th></tr></thead><tbody><p>289 rows × 2 columns</p><tr><th>1</th><td>1947-01-01</td><td>0.0190798</td></tr><tr><th>2</th><td>1947-04-01</td><td>-0.120061</td></tr><tr><th>3</th><td>1947-07-01</td><td>0.0525049</td></tr><tr><th>4</th><td>1947-10-01</td><td>0.120143</td></tr><tr><th>5</th><td>1948-01-01</td><td>0.0388797</td></tr><tr><th>6</th><td>1948-04-01</td><td>0.0508988</td></tr><tr><th>7</th><td>1948-07-01</td><td>-0.0163547</td></tr><tr><th>8</th><td>1948-10-01</td><td>-0.0304524</td></tr><tr><th>9</th><td>1949-01-01</td><td>-0.014695</td></tr><tr><th>10</th><td>1949-04-01</td><td>-0.0416162</td></tr><tr><th>11</th><td>1949-07-01</td><td>0.0149447</td></tr><tr><th>12</th><td>1949-10-01</td><td>0.0275569</td></tr><tr><th>13</th><td>1950-01-01</td><td>0.0537316</td></tr><tr><th>14</th><td>1950-04-01</td><td>0.210264</td></tr><tr><th>15</th><td>1950-07-01</td><td>0.00187599</td></tr><tr><th>16</th><td>1950-10-01</td><td>6.89877e-5</td></tr><tr><th>17</th><td>1951-01-01</td><td>-0.0337093</td></tr><tr><th>18</th><td>1951-04-01</td><td>-0.0884827</td></tr><tr><th>19</th><td>1951-07-01</td><td>-0.0265008</td></tr><tr><th>20</th><td>1951-10-01</td><td>0.109773</td></tr><tr><th>21</th><td>1952-01-01</td><td>-0.00518946</td></tr><tr><th>22</th><td>1952-04-01</td><td>0.0593869</td></tr><tr><th>23</th><td>1952-07-01</td><td>0.0858633</td></tr><tr><th>24</th><td>1952-10-01</td><td>-0.024947</td></tr><tr><th>25</th><td>1953-01-01</td><td>0.0505536</td></tr><tr><th>26</th><td>1953-04-01</td><td>-0.00381571</td></tr><tr><th>27</th><td>1953-07-01</td><td>-0.0504417</td></tr><tr><th>28</th><td>1953-10-01</td><td>-0.0594797</td></tr><tr><th>29</th><td>1954-01-01</td><td>0.0861229</td></tr><tr><th>30</th><td>1954-04-01</td><td>-0.0622151</td></tr><tr><th>&vellip;</th><td>&vellip;</td><td>&vellip;</td></tr></tbody></table>"
      ],
      "text/latex": [
       "\\begin{tabular}{r|cc}\n",
       "\t& date & value\\\\\n",
       "\t\\hline\n",
       "\t& Dates… & Float64⍰\\\\\n",
       "\t\\hline\n",
       "\t1 & 1947-01-01 & 0.0190798 \\\\\n",
       "\t2 & 1947-04-01 & -0.120061 \\\\\n",
       "\t3 & 1947-07-01 & 0.0525049 \\\\\n",
       "\t4 & 1947-10-01 & 0.120143 \\\\\n",
       "\t5 & 1948-01-01 & 0.0388797 \\\\\n",
       "\t6 & 1948-04-01 & 0.0508988 \\\\\n",
       "\t7 & 1948-07-01 & -0.0163547 \\\\\n",
       "\t8 & 1948-10-01 & -0.0304524 \\\\\n",
       "\t9 & 1949-01-01 & -0.014695 \\\\\n",
       "\t10 & 1949-04-01 & -0.0416162 \\\\\n",
       "\t11 & 1949-07-01 & 0.0149447 \\\\\n",
       "\t12 & 1949-10-01 & 0.0275569 \\\\\n",
       "\t13 & 1950-01-01 & 0.0537316 \\\\\n",
       "\t14 & 1950-04-01 & 0.210264 \\\\\n",
       "\t15 & 1950-07-01 & 0.00187599 \\\\\n",
       "\t16 & 1950-10-01 & 6.89877e-5 \\\\\n",
       "\t17 & 1951-01-01 & -0.0337093 \\\\\n",
       "\t18 & 1951-04-01 & -0.0884827 \\\\\n",
       "\t19 & 1951-07-01 & -0.0265008 \\\\\n",
       "\t20 & 1951-10-01 & 0.109773 \\\\\n",
       "\t21 & 1952-01-01 & -0.00518946 \\\\\n",
       "\t22 & 1952-04-01 & 0.0593869 \\\\\n",
       "\t23 & 1952-07-01 & 0.0858633 \\\\\n",
       "\t24 & 1952-10-01 & -0.024947 \\\\\n",
       "\t25 & 1953-01-01 & 0.0505536 \\\\\n",
       "\t26 & 1953-04-01 & -0.00381571 \\\\\n",
       "\t27 & 1953-07-01 & -0.0504417 \\\\\n",
       "\t28 & 1953-10-01 & -0.0594797 \\\\\n",
       "\t29 & 1954-01-01 & 0.0861229 \\\\\n",
       "\t30 & 1954-04-01 & -0.0622151 \\\\\n",
       "\t$\\dots$ & $\\dots$ & $\\dots$ \\\\\n",
       "\\end{tabular}\n"
      ],
      "text/plain": [
       "289×2 DataFrame\n",
       "│ Row │ date       │ value       │\n",
       "│     │ \u001b[90mDates.Date\u001b[39m │ \u001b[90mFloat64⍰\u001b[39m    │\n",
       "├─────┼────────────┼─────────────┤\n",
       "│ 1   │ 1947-01-01 │ 0.0190798   │\n",
       "│ 2   │ 1947-04-01 │ -0.120061   │\n",
       "│ 3   │ 1947-07-01 │ 0.0525049   │\n",
       "│ 4   │ 1947-10-01 │ 0.120143    │\n",
       "│ 5   │ 1948-01-01 │ 0.0388797   │\n",
       "│ 6   │ 1948-04-01 │ 0.0508988   │\n",
       "│ 7   │ 1948-07-01 │ -0.0163547  │\n",
       "│ 8   │ 1948-10-01 │ -0.0304524  │\n",
       "│ 9   │ 1949-01-01 │ -0.014695   │\n",
       "│ 10  │ 1949-04-01 │ -0.0416162  │\n",
       "⋮\n",
       "│ 279 │ 2016-07-01 │ 0.0150881   │\n",
       "│ 280 │ 2016-10-01 │ 0.0117162   │\n",
       "│ 281 │ 2017-01-01 │ 0.00619499  │\n",
       "│ 282 │ 2017-04-01 │ 0.00695609  │\n",
       "│ 283 │ 2017-07-01 │ 0.0278241   │\n",
       "│ 284 │ 2017-10-01 │ 0.00733858  │\n",
       "│ 285 │ 2018-01-01 │ -0.0014387  │\n",
       "│ 286 │ 2018-04-01 │ 0.0222073   │\n",
       "│ 287 │ 2018-07-01 │ 0.00488623  │\n",
       "│ 288 │ 2018-10-01 │ -0.00479345 │\n",
       "│ 289 │ 2019-01-01 │ \u001b[90mmissing\u001b[39m     │"
      ]
     },
     "execution_count": 409,
     "metadata": {},
     "output_type": "execute_result"
    }
   ],
   "source": [
    "### IMPGSC1\n",
    "IMPGSC1 = get_data(f, \"IMPGSC1\").data[:,[3,4]]\n",
    "IMPGSC1 = log_diff(IMPGSC1)\n",
    "\n"
   ]
  },
  {
   "cell_type": "code",
   "execution_count": 410,
   "metadata": {},
   "outputs": [
    {
     "data": {
      "text/plain": [
       "289-element Array{Dates.Date,1}:\n",
       " 1947-01-01\n",
       " 1947-04-01\n",
       " 1947-07-01\n",
       " 1947-10-01\n",
       " 1948-01-01\n",
       " 1948-04-01\n",
       " 1948-07-01\n",
       " 1948-10-01\n",
       " 1949-01-01\n",
       " 1949-04-01\n",
       " 1949-07-01\n",
       " 1949-10-01\n",
       " 1950-01-01\n",
       " ⋮         \n",
       " 2016-04-01\n",
       " 2016-07-01\n",
       " 2016-10-01\n",
       " 2017-01-01\n",
       " 2017-04-01\n",
       " 2017-07-01\n",
       " 2017-10-01\n",
       " 2018-01-01\n",
       " 2018-04-01\n",
       " 2018-07-01\n",
       " 2018-10-01\n",
       " 2019-01-01"
      ]
     },
     "execution_count": 410,
     "metadata": {},
     "output_type": "execute_result"
    }
   ],
   "source": [
    "IMPGSC1[:,1]"
   ]
  },
  {
   "cell_type": "code",
   "execution_count": 83,
   "metadata": {},
   "outputs": [
    {
     "name": "stdout",
     "output_type": "stream",
     "text": [
      "DONE\n"
     ]
    }
   ],
   "source": [
    "### DPIC96\n",
    "DPIC96 = get_data(f, \"DPIC96\").data[:,[3,4]]\n",
    "DPIC96 = log_diff(DPIC96)\n",
    "println(\"DONE\")"
   ]
  },
  {
   "cell_type": "code",
   "execution_count": 84,
   "metadata": {},
   "outputs": [
    {
     "ename": "UndefVarError",
     "evalue": "UndefVarError: warn not defined",
     "output_type": "error",
     "traceback": [
      "UndefVarError: warn not defined",
      "",
      "Stacktrace:",
      " [1] #get_data#3(::Base.Iterators.Pairs{Union{},Union{},Tuple{},NamedTuple{(),Tuple{}}}, ::Function, ::Fred, ::String) at /Users/varit/.julia/packages/FredData/8HrnF/src/get_data.jl:77",
      " [2] get_data(::Fred, ::String) at /Users/varit/.julia/packages/FredData/8HrnF/src/get_data.jl:34",
      " [3] top-level scope at In[84]:1"
     ]
    }
   ],
   "source": [
    "### OUTNFB\n",
    "OUTNFB = get_data(f, \"OUTNFB\").data[:,[3,4]]\n",
    "OUTNFB = log_diff(OUTNFB)\n",
    "println(\"DONE\")"
   ]
  },
  {
   "cell_type": "code",
   "execution_count": 85,
   "metadata": {},
   "outputs": [
    {
     "ename": "UndefVarError",
     "evalue": "UndefVarError: warn not defined",
     "output_type": "error",
     "traceback": [
      "UndefVarError: warn not defined",
      "",
      "Stacktrace:",
      " [1] #get_data#3(::Base.Iterators.Pairs{Union{},Union{},Tuple{},NamedTuple{(),Tuple{}}}, ::Function, ::Fred, ::String) at /Users/varit/.julia/packages/FredData/8HrnF/src/get_data.jl:77",
      " [2] get_data(::Fred, ::String) at /Users/varit/.julia/packages/FredData/8HrnF/src/get_data.jl:34",
      " [3] top-level scope at In[85]:1"
     ]
    }
   ],
   "source": [
    "### OUTBS\n",
    "OUTBS = get_data(f, \"OUTBS\").data[:,[3,4]]\n",
    "OUTBS = log_diff(OUTBS)\n",
    "println(\"DONE\")"
   ]
  },
  {
   "cell_type": "code",
   "execution_count": 86,
   "metadata": {},
   "outputs": [
    {
     "name": "stdout",
     "output_type": "stream",
     "text": [
      "DONE\n"
     ]
    }
   ],
   "source": [
    "### OUTMS\n",
    "OUTMS = get_data(f, \"OUTMS\").data[:,[3,4]]\n",
    "OUTMS = log_diff(OUTMS)\n",
    "println(\"DONE\")"
   ]
  },
  {
   "cell_type": "code",
   "execution_count": 88,
   "metadata": {},
   "outputs": [
    {
     "name": "stdout",
     "output_type": "stream",
     "text": [
      "DONE\n"
     ]
    }
   ],
   "source": [
    "### B020RE1Q156NBEA\n",
    "B020RE1Q156NBEA = get_data(f, \"B020RE1Q156NBEA\").data[:,[3,4]]\n",
    "B020RE1Q156NBEA = diff_ts(B020RE1Q156NBEA)\n",
    "println(\"DONE\")"
   ]
  },
  {
   "cell_type": "code",
   "execution_count": null,
   "metadata": {
    "collapsed": true
   },
   "outputs": [],
   "source": []
  },
  {
   "cell_type": "code",
   "execution_count": 89,
   "metadata": {},
   "outputs": [
    {
     "name": "stdout",
     "output_type": "stream",
     "text": [
      "DONE\n"
     ]
    }
   ],
   "source": [
    "### B021RE1Q156NBEA\n",
    "B021RE1Q156NBEA = get_data(f, \"B021RE1Q156NBEA\").data[:,[3,4]]\n",
    "B021RE1Q156NBEA = diff_ts(B021RE1Q156NBEA)\n",
    "println(\"DONE\")"
   ]
  },
  {
   "cell_type": "code",
   "execution_count": 90,
   "metadata": {},
   "outputs": [
    {
     "name": "stdout",
     "output_type": "stream",
     "text": [
      "DONE\n"
     ]
    }
   ],
   "source": [
    "### INDPRO\n",
    "INDPRO = get_data(f, \"INDPRO\").data[:,[3,4]]\n",
    "INDPRO = log_diff(INDPRO)\n",
    "println(\"DONE\")"
   ]
  },
  {
   "cell_type": "code",
   "execution_count": 91,
   "metadata": {},
   "outputs": [
    {
     "ename": "UndefVarError",
     "evalue": "UndefVarError: warn not defined",
     "output_type": "error",
     "traceback": [
      "UndefVarError: warn not defined",
      "",
      "Stacktrace:",
      " [1] #get_data#3(::Base.Iterators.Pairs{Union{},Union{},Tuple{},NamedTuple{(),Tuple{}}}, ::Function, ::Fred, ::String) at /Users/varit/.julia/packages/FredData/8HrnF/src/get_data.jl:77",
      " [2] get_data(::Fred, ::String) at /Users/varit/.julia/packages/FredData/8HrnF/src/get_data.jl:34",
      " [3] top-level scope at In[91]:1"
     ]
    }
   ],
   "source": [
    "### IPFINAL\n",
    "IPFINAL = get_data(f, \"IPFINAL\").data[:,[3,4]]\n",
    "IPFINAL = log_diff(IPFINAL)\n",
    "println(\"DONE\")"
   ]
  },
  {
   "cell_type": "code",
   "execution_count": 92,
   "metadata": {},
   "outputs": [
    {
     "ename": "UndefVarError",
     "evalue": "UndefVarError: warn not defined",
     "output_type": "error",
     "traceback": [
      "UndefVarError: warn not defined",
      "",
      "Stacktrace:",
      " [1] #get_data#3(::Base.Iterators.Pairs{Union{},Union{},Tuple{},NamedTuple{(),Tuple{}}}, ::Function, ::Fred, ::String) at /Users/varit/.julia/packages/FredData/8HrnF/src/get_data.jl:77",
      " [2] get_data(::Fred, ::String) at /Users/varit/.julia/packages/FredData/8HrnF/src/get_data.jl:34",
      " [3] top-level scope at In[92]:1"
     ]
    }
   ],
   "source": [
    "### IPCONGD\n",
    "IPCONGD = get_data(f, \"IPCONGD\").data[:,[3,4]]\n",
    "IPCONGD = log_diff(IPCONGD)\n",
    "println(\"DONE\")"
   ]
  },
  {
   "cell_type": "code",
   "execution_count": 93,
   "metadata": {},
   "outputs": [
    {
     "ename": "UndefVarError",
     "evalue": "UndefVarError: warn not defined",
     "output_type": "error",
     "traceback": [
      "UndefVarError: warn not defined",
      "",
      "Stacktrace:",
      " [1] #get_data#3(::Base.Iterators.Pairs{Union{},Union{},Tuple{},NamedTuple{(),Tuple{}}}, ::Function, ::Fred, ::String) at /Users/varit/.julia/packages/FredData/8HrnF/src/get_data.jl:77",
      " [2] get_data(::Fred, ::String) at /Users/varit/.julia/packages/FredData/8HrnF/src/get_data.jl:34",
      " [3] top-level scope at In[93]:1"
     ]
    }
   ],
   "source": [
    "### IPMAT\n",
    "IPMAT = get_data(f, \"IPMAT\").data[:,[3,4]]\n",
    "IPMAT = log_diff(IPMAT)\n",
    "println(\"DONE\")"
   ]
  },
  {
   "cell_type": "code",
   "execution_count": 94,
   "metadata": {},
   "outputs": [
    {
     "ename": "UndefVarError",
     "evalue": "UndefVarError: warn not defined",
     "output_type": "error",
     "traceback": [
      "UndefVarError: warn not defined",
      "",
      "Stacktrace:",
      " [1] #get_data#3(::Base.Iterators.Pairs{Union{},Union{},Tuple{},NamedTuple{(),Tuple{}}}, ::Function, ::Fred, ::String) at /Users/varit/.julia/packages/FredData/8HrnF/src/get_data.jl:77",
      " [2] get_data(::Fred, ::String) at /Users/varit/.julia/packages/FredData/8HrnF/src/get_data.jl:34",
      " [3] top-level scope at In[94]:1"
     ]
    }
   ],
   "source": [
    "### IPDMAT\n",
    "IPDMAT = get_data(f, \"IPDMAT\").data[:,[3,4]]\n",
    "IPDMAT = log_diff(IPDMAT)\n",
    "println(\"DONE\")"
   ]
  },
  {
   "cell_type": "code",
   "execution_count": 95,
   "metadata": {},
   "outputs": [
    {
     "ename": "UndefVarError",
     "evalue": "UndefVarError: warn not defined",
     "output_type": "error",
     "traceback": [
      "UndefVarError: warn not defined",
      "",
      "Stacktrace:",
      " [1] #get_data#3(::Base.Iterators.Pairs{Union{},Union{},Tuple{},NamedTuple{(),Tuple{}}}, ::Function, ::Fred, ::String) at /Users/varit/.julia/packages/FredData/8HrnF/src/get_data.jl:77",
      " [2] get_data(::Fred, ::String) at /Users/varit/.julia/packages/FredData/8HrnF/src/get_data.jl:34",
      " [3] top-level scope at In[95]:1"
     ]
    }
   ],
   "source": [
    "### IPNMAT\n",
    "IPNMAT = get_data(f, \"IPNMAT\").data[:,[3,4]]\n",
    "IPNMAT = log_diff(IPNMAT)\n",
    "println(\"DONE\")"
   ]
  },
  {
   "cell_type": "code",
   "execution_count": 96,
   "metadata": {},
   "outputs": [
    {
     "ename": "UndefVarError",
     "evalue": "UndefVarError: warn not defined",
     "output_type": "error",
     "traceback": [
      "UndefVarError: warn not defined",
      "",
      "Stacktrace:",
      " [1] #get_data#3(::Base.Iterators.Pairs{Union{},Union{},Tuple{},NamedTuple{(),Tuple{}}}, ::Function, ::Fred, ::String) at /Users/varit/.julia/packages/FredData/8HrnF/src/get_data.jl:77",
      " [2] get_data(::Fred, ::String) at /Users/varit/.julia/packages/FredData/8HrnF/src/get_data.jl:34",
      " [3] top-level scope at In[96]:1"
     ]
    }
   ],
   "source": [
    "### IPDCONGD\n",
    "IPDCONGD = get_data(f, \"IPDCONGD\").data[:,[3,4]]\n",
    "IPDCONGD = log_diff(IPDCONGD)\n",
    "println(\"DONE\")"
   ]
  },
  {
   "cell_type": "code",
   "execution_count": 97,
   "metadata": {},
   "outputs": [
    {
     "name": "stdout",
     "output_type": "stream",
     "text": [
      "DONE\n"
     ]
    }
   ],
   "source": [
    "### IPB51110SQ\n",
    "IPB51110SQ = get_data(f, \"IPB51110SQ\").data[:,[3,4]]\n",
    "IPB51110SQ = log_diff(IPB51110SQ)\n",
    "println(\"DONE\")"
   ]
  },
  {
   "cell_type": "code",
   "execution_count": 98,
   "metadata": {},
   "outputs": [
    {
     "ename": "UndefVarError",
     "evalue": "UndefVarError: warn not defined",
     "output_type": "error",
     "traceback": [
      "UndefVarError: warn not defined",
      "",
      "Stacktrace:",
      " [1] #get_data#3(::Base.Iterators.Pairs{Union{},Union{},Tuple{},NamedTuple{(),Tuple{}}}, ::Function, ::Fred, ::String) at /Users/varit/.julia/packages/FredData/8HrnF/src/get_data.jl:77",
      " [2] get_data(::Fred, ::String) at /Users/varit/.julia/packages/FredData/8HrnF/src/get_data.jl:34",
      " [3] top-level scope at In[98]:1"
     ]
    }
   ],
   "source": [
    "### IPNCONGD\n",
    "IPNCONGD = get_data(f, \"IPNCONGD\").data[:,[3,4]]\n",
    "IPNCONGD = log_diff(IPNCONGD)\n",
    "println(\"DONE\")"
   ]
  },
  {
   "cell_type": "code",
   "execution_count": 99,
   "metadata": {},
   "outputs": [
    {
     "ename": "UndefVarError",
     "evalue": "UndefVarError: warn not defined",
     "output_type": "error",
     "traceback": [
      "UndefVarError: warn not defined",
      "",
      "Stacktrace:",
      " [1] #get_data#3(::Base.Iterators.Pairs{Union{},Union{},Tuple{},NamedTuple{(),Tuple{}}}, ::Function, ::Fred, ::String) at /Users/varit/.julia/packages/FredData/8HrnF/src/get_data.jl:77",
      " [2] get_data(::Fred, ::String) at /Users/varit/.julia/packages/FredData/8HrnF/src/get_data.jl:34",
      " [3] top-level scope at In[99]:1"
     ]
    }
   ],
   "source": [
    "### IPBUSEQ\n",
    "IPBUSEQ = get_data(f, \"IPBUSEQ\").data[:,[3,4]]\n",
    "IPBUSEQ = log_diff(IPBUSEQ)\n",
    "println(\"DONE\")"
   ]
  },
  {
   "cell_type": "code",
   "execution_count": 100,
   "metadata": {},
   "outputs": [
    {
     "name": "stdout",
     "output_type": "stream",
     "text": [
      "DONE\n"
     ]
    }
   ],
   "source": [
    "### IPB51220SQ\n",
    "IPB51220SQ = get_data(f, \"IPB51220SQ\").data[:,[3,4]]\n",
    "IPB51220SQ = log_diff(IPB51220SQ)\n",
    "println(\"DONE\")"
   ]
  },
  {
   "cell_type": "code",
   "execution_count": 105,
   "metadata": {},
   "outputs": [
    {
     "name": "stdout",
     "output_type": "stream",
     "text": [
      "DONE\n"
     ]
    }
   ],
   "source": [
    "### TCU\n",
    "TCU = get_data(f, \"TCU\").data[:, [3,4]]\n",
    "println(\"DONE\")"
   ]
  },
  {
   "cell_type": "code",
   "execution_count": 106,
   "metadata": {},
   "outputs": [
    {
     "ename": "UndefVarError",
     "evalue": "UndefVarError: warn not defined",
     "output_type": "error",
     "traceback": [
      "UndefVarError: warn not defined",
      "",
      "Stacktrace:",
      " [1] #get_data#3(::Base.Iterators.Pairs{Union{},Union{},Tuple{},NamedTuple{(),Tuple{}}}, ::Function, ::Fred, ::String) at /Users/varit/.julia/packages/FredData/8HrnF/src/get_data.jl:77",
      " [2] get_data(::Fred, ::String) at /Users/varit/.julia/packages/FredData/8HrnF/src/get_data.jl:34",
      " [3] top-level scope at In[106]:1"
     ]
    }
   ],
   "source": [
    "### CUMFNS\n",
    "CUMFNS = get_data(f, \"CUMFNS\").data[:, [3,4]]"
   ]
  },
  {
   "cell_type": "code",
   "execution_count": 107,
   "metadata": {},
   "outputs": [
    {
     "ename": "UndefVarError",
     "evalue": "UndefVarError: warn not defined",
     "output_type": "error",
     "traceback": [
      "UndefVarError: warn not defined",
      "",
      "Stacktrace:",
      " [1] #get_data#3(::Base.Iterators.Pairs{Union{},Union{},Tuple{},NamedTuple{(),Tuple{}}}, ::Function, ::Fred, ::String) at /Users/varit/.julia/packages/FredData/8HrnF/src/get_data.jl:77",
      " [2] get_data(::Fred, ::String) at /Users/varit/.julia/packages/FredData/8HrnF/src/get_data.jl:34",
      " [3] top-level scope at In[107]:1"
     ]
    }
   ],
   "source": [
    "### IPMANSICS\n",
    "IPMANSICS = get_data(f, \"IPMANSICS\").data[:,[3,4]]\n",
    "IPMANSICS = log_diff(IPMANSICS)\n",
    "println(\"DONE\")"
   ]
  },
  {
   "cell_type": "code",
   "execution_count": 108,
   "metadata": {},
   "outputs": [
    {
     "name": "stdout",
     "output_type": "stream",
     "text": [
      "DONE\n"
     ]
    }
   ],
   "source": [
    "### IPB51222S\n",
    "IPB51222S = get_data(f, \"IPB51222S\").data[:,[3,4]]\n",
    "IPB51222S = log_diff(IPB51222S)\n",
    "println(\"DONE\")"
   ]
  },
  {
   "cell_type": "code",
   "execution_count": 109,
   "metadata": {},
   "outputs": [
    {
     "ename": "UndefVarError",
     "evalue": "UndefVarError: warn not defined",
     "output_type": "error",
     "traceback": [
      "UndefVarError: warn not defined",
      "",
      "Stacktrace:",
      " [1] #get_data#3(::Base.Iterators.Pairs{Union{},Union{},Tuple{},NamedTuple{(),Tuple{}}}, ::Function, ::Fred, ::String) at /Users/varit/.julia/packages/FredData/8HrnF/src/get_data.jl:77",
      " [2] get_data(::Fred, ::String) at /Users/varit/.julia/packages/FredData/8HrnF/src/get_data.jl:34",
      " [3] top-level scope at In[109]:1"
     ]
    }
   ],
   "source": [
    "### IPFUELS\n",
    "IPFUELS = get_data(f, \"IPFUELS\").data[:,[3,4]]\n",
    "IPFUELS = log_diff(IPFUELS)\n",
    "println(\"DONE\")"
   ]
  },
  {
   "cell_type": "code",
   "execution_count": 110,
   "metadata": {},
   "outputs": [
    {
     "name": "stdout",
     "output_type": "stream",
     "text": [
      "DONE\n"
     ]
    }
   ],
   "source": [
    "### PAYEMS\n",
    "PAYEMS = get_data(f, \"PAYEMS\").data[:,[3,4]]\n",
    "PAYEMS = log_diff(PAYEMS)\n",
    "println(\"DONE\")"
   ]
  },
  {
   "cell_type": "code",
   "execution_count": 111,
   "metadata": {},
   "outputs": [
    {
     "name": "stdout",
     "output_type": "stream",
     "text": [
      "DONE\n"
     ]
    }
   ],
   "source": [
    "### USPRIV\n",
    "USPRIV = get_data(f, \"USPRIV\").data[:,[3,4]]\n",
    "USPRIV = log_diff(USPRIV)\n",
    "println(\"DONE\")"
   ]
  },
  {
   "cell_type": "code",
   "execution_count": 204,
   "metadata": {},
   "outputs": [
    {
     "name": "stdout",
     "output_type": "stream",
     "text": [
      "DONE\n"
     ]
    }
   ],
   "source": [
    "### MANEMP\n",
    "MANEMP = get_data(f, \"MANEMP\").data[:,[3,4]]\n",
    "FPIx = log_diff(FPIx)\n",
    "println(\"DONE\")"
   ]
  },
  {
   "cell_type": "code",
   "execution_count": 112,
   "metadata": {},
   "outputs": [
    {
     "name": "stdout",
     "output_type": "stream",
     "text": [
      "DONE\n"
     ]
    }
   ],
   "source": [
    "### SRVPRD\n",
    "SRVPRD = get_data(f, \"SRVPRD\").data[:,[3,4]]\n",
    "SRVPRD = log_diff(SRVPRD)\n",
    "println(\"DONE\")"
   ]
  },
  {
   "cell_type": "code",
   "execution_count": 113,
   "metadata": {},
   "outputs": [
    {
     "name": "stdout",
     "output_type": "stream",
     "text": [
      "DONE\n"
     ]
    }
   ],
   "source": [
    "### USGOOD\n",
    "USGOOD = get_data(f, \"USGOOD\").data[:,[3,4]]\n",
    "USGOOD = log_diff(USGOOD)\n",
    "println(\"DONE\")"
   ]
  },
  {
   "cell_type": "code",
   "execution_count": 114,
   "metadata": {},
   "outputs": [
    {
     "name": "stdout",
     "output_type": "stream",
     "text": [
      "DONE\n"
     ]
    }
   ],
   "source": [
    "### DMANEMP\n",
    "DMANEMP = get_data(f, \"DMANEMP\").data[:,[3,4]]\n",
    "DMANEMP = log_diff(DMANEMP)\n",
    "println(\"DONE\")"
   ]
  },
  {
   "cell_type": "code",
   "execution_count": 115,
   "metadata": {},
   "outputs": [
    {
     "name": "stdout",
     "output_type": "stream",
     "text": [
      "DONE\n"
     ]
    }
   ],
   "source": [
    "### NDMANEMP\n",
    "NDMANEMP = get_data(f, \"NDMANEMP\").data[:,[3,4]]\n",
    "NDMANEMP = log_diff(NDMANEMP)\n",
    "println(\"DONE\")"
   ]
  },
  {
   "cell_type": "code",
   "execution_count": 116,
   "metadata": {},
   "outputs": [
    {
     "name": "stdout",
     "output_type": "stream",
     "text": [
      "DONE\n"
     ]
    }
   ],
   "source": [
    "### USCONS\n",
    "USCONS = get_data(f, \"USCONS\").data[:,[3,4]]\n",
    "USCONS = log_diff(USCONS)\n",
    "println(\"DONE\")"
   ]
  },
  {
   "cell_type": "code",
   "execution_count": 117,
   "metadata": {},
   "outputs": [
    {
     "name": "stdout",
     "output_type": "stream",
     "text": [
      "DONE\n"
     ]
    }
   ],
   "source": [
    "### USEHS\n",
    "USEHS = get_data(f, \"USEHS\").data[:,[3,4]]\n",
    "USEHS = log_diff(USEHS)\n",
    "println(\"DONE\")"
   ]
  },
  {
   "cell_type": "code",
   "execution_count": 118,
   "metadata": {},
   "outputs": [
    {
     "name": "stdout",
     "output_type": "stream",
     "text": [
      "DONE\n"
     ]
    }
   ],
   "source": [
    "### USFIRE\n",
    "USFIRE = get_data(f, \"USFIRE\").data[:,[3,4]]\n",
    "USFIRE = log_diff(USFIRE)\n",
    "println(\"DONE\")"
   ]
  },
  {
   "cell_type": "code",
   "execution_count": 119,
   "metadata": {},
   "outputs": [
    {
     "name": "stdout",
     "output_type": "stream",
     "text": [
      "DONE\n"
     ]
    }
   ],
   "source": [
    "### USINFO\n",
    "USINFO = get_data(f, \"USINFO\").data[:,[3,4]]\n",
    "USINFO = log_diff(USINFO)\n",
    "println(\"DONE\")"
   ]
  },
  {
   "cell_type": "code",
   "execution_count": 120,
   "metadata": {},
   "outputs": [
    {
     "name": "stdout",
     "output_type": "stream",
     "text": [
      "DONE\n"
     ]
    }
   ],
   "source": [
    "### USPBS\n",
    "USPBS = get_data(f, \"USPBS\").data[:,[3,4]]\n",
    "USPBS = log_diff(USPBS)\n",
    "println(\"DONE\")"
   ]
  },
  {
   "cell_type": "code",
   "execution_count": 121,
   "metadata": {},
   "outputs": [
    {
     "name": "stdout",
     "output_type": "stream",
     "text": [
      "DONE\n"
     ]
    }
   ],
   "source": [
    "### USLAH\n",
    "USLAH = get_data(f, \"USLAH\").data[:,[3,4]]\n",
    "USLAH = log_diff(USLAH)\n",
    "println(\"DONE\")"
   ]
  },
  {
   "cell_type": "code",
   "execution_count": 122,
   "metadata": {},
   "outputs": [
    {
     "name": "stdout",
     "output_type": "stream",
     "text": [
      "DONE\n"
     ]
    }
   ],
   "source": [
    "### USSERV\n",
    "USSERV = get_data(f, \"USSERV\").data[:,[3,4]]\n",
    "USSERV = log_diff(USSERV)\n",
    "println(\"DONE\")"
   ]
  },
  {
   "cell_type": "code",
   "execution_count": 123,
   "metadata": {},
   "outputs": [
    {
     "name": "stdout",
     "output_type": "stream",
     "text": [
      "DONE\n"
     ]
    }
   ],
   "source": [
    "### USMINE\n",
    "USMINE = get_data(f, \"USMINE\").data[:,[3,4]]\n",
    "USMINE = log_diff(USMINE)\n",
    "println(\"DONE\")"
   ]
  },
  {
   "cell_type": "code",
   "execution_count": 124,
   "metadata": {},
   "outputs": [
    {
     "name": "stdout",
     "output_type": "stream",
     "text": [
      "DONE\n"
     ]
    }
   ],
   "source": [
    "### USTPU\n",
    "USTPU = get_data(f, \"USTPU\").data[:,[3,4]]\n",
    "USTPU = log_diff(USTPU)\n",
    "println(\"DONE\")"
   ]
  },
  {
   "cell_type": "code",
   "execution_count": 125,
   "metadata": {},
   "outputs": [
    {
     "name": "stdout",
     "output_type": "stream",
     "text": [
      "DONE\n"
     ]
    }
   ],
   "source": [
    "### USGOVT\n",
    "USGOVT = get_data(f, \"USGOVT\").data[:,[3,4]]\n",
    "USGOVT = log_diff(USGOVT)\n",
    "println(\"DONE\")"
   ]
  },
  {
   "cell_type": "code",
   "execution_count": 126,
   "metadata": {},
   "outputs": [
    {
     "name": "stdout",
     "output_type": "stream",
     "text": [
      "DONE\n"
     ]
    }
   ],
   "source": [
    "### USTRADE\n",
    "USTRADE = get_data(f, \"USTRADE\").data[:,[3,4]]\n",
    "USTRADE = log_diff(USTRADE)\n",
    "println(\"DONE\")"
   ]
  },
  {
   "cell_type": "code",
   "execution_count": 127,
   "metadata": {},
   "outputs": [
    {
     "name": "stdout",
     "output_type": "stream",
     "text": [
      "DONE\n"
     ]
    }
   ],
   "source": [
    "###  USWTRADE\n",
    "USWTRADE = get_data(f, \"USWTRADE\").data[:,[3,4]]\n",
    "USWTRADE = log_diff(USWTRADE)\n",
    "println(\"DONE\")"
   ]
  },
  {
   "cell_type": "code",
   "execution_count": 128,
   "metadata": {},
   "outputs": [
    {
     "name": "stdout",
     "output_type": "stream",
     "text": [
      "DONE\n"
     ]
    }
   ],
   "source": [
    "###  CES9091000001\n",
    "CES9091000001 = get_data(f, \"CES9091000001\").data[:,[3,4]]\n",
    "CES9091000001 = log_diff(CES9091000001)\n",
    "println(\"DONE\")"
   ]
  },
  {
   "cell_type": "code",
   "execution_count": 129,
   "metadata": {},
   "outputs": [
    {
     "name": "stdout",
     "output_type": "stream",
     "text": [
      "DONE\n"
     ]
    }
   ],
   "source": [
    "### CES9092000001\n",
    "CES9092000001 = get_data(f, \"CES9092000001\").data[:,[3,4]]\n",
    "CES9092000001 = log_diff(CES9092000001)\n",
    "println(\"DONE\")"
   ]
  },
  {
   "cell_type": "code",
   "execution_count": 130,
   "metadata": {},
   "outputs": [
    {
     "name": "stdout",
     "output_type": "stream",
     "text": [
      "DONE\n"
     ]
    }
   ],
   "source": [
    "### CES9093000001\n",
    "CES9093000001 = get_data(f, \"CES9093000001\").data[:,[3,4]]\n",
    "CES9093000001 = log_diff(CES9093000001)\n",
    "println(\"DONE\")"
   ]
  },
  {
   "cell_type": "code",
   "execution_count": 131,
   "metadata": {},
   "outputs": [
    {
     "name": "stdout",
     "output_type": "stream",
     "text": [
      "DONE\n"
     ]
    }
   ],
   "source": [
    "### CE16OV\n",
    "CE16OV = get_data(f, \"CE16OV\").data[:,[3,4]]\n",
    "CE16OV = log_diff(CE16OV)\n",
    "println(\"DONE\")"
   ]
  },
  {
   "cell_type": "code",
   "execution_count": 133,
   "metadata": {},
   "outputs": [
    {
     "name": "stdout",
     "output_type": "stream",
     "text": [
      "DONE\n"
     ]
    }
   ],
   "source": [
    "### CIVPART\n",
    "CIVPART = get_data(f, \"CIVPART\").data[:, [3,4]]\n",
    "CIVPART = diff_ts(CIVPART)\n",
    "println(\"DONE\")"
   ]
  },
  {
   "cell_type": "code",
   "execution_count": null,
   "metadata": {
    "collapsed": true
   },
   "outputs": [],
   "source": []
  },
  {
   "cell_type": "code",
   "execution_count": 134,
   "metadata": {},
   "outputs": [
    {
     "name": "stdout",
     "output_type": "stream",
     "text": [
      "DONE\n"
     ]
    }
   ],
   "source": [
    "### UNRATE\n",
    "UNRATE = get_data(f, \"UNRATE\").data[:, [3,4]]\n",
    "UNRATE = diff_ts(UNRATE)\n",
    "println(\"DONE\")"
   ]
  },
  {
   "cell_type": "code",
   "execution_count": 138,
   "metadata": {},
   "outputs": [
    {
     "ename": "HTTP.ExceptionRequest.StatusError",
     "evalue": "HTTP.ExceptionRequest.StatusError(400, \"GET\", \"/fred/series/observations?api_key=266c597cbf3d25f366b082b4bf5161fe&series_id=UNRATEST&file_type=json\", HTTP.Messages.Response:\n\"\"\"\nHTTP/1.1 400 Bad Request\r\nContent-Type: application/json; charset=UTF-8\r\nContent-Length: 77\r\nServer: Apache\r\nVary: User-Agent\r\nDate: Wed, 26 Jun 2019 22:47:43 GMT\r\nConnection: keep-alive\r\n\r\n{\"error_code\":400,\"error_message\":\"Bad Request.  The series does not exist.\"}\"\"\")",
     "output_type": "error",
     "traceback": [
      "HTTP.ExceptionRequest.StatusError(400, \"GET\", \"/fred/series/observations?api_key=266c597cbf3d25f366b082b4bf5161fe&series_id=UNRATEST&file_type=json\", HTTP.Messages.Response:\n\"\"\"\nHTTP/1.1 400 Bad Request\r\nContent-Type: application/json; charset=UTF-8\r\nContent-Length: 77\r\nServer: Apache\r\nVary: User-Agent\r\nDate: Wed, 26 Jun 2019 22:47:43 GMT\r\nConnection: keep-alive\r\n\r\n{\"error_code\":400,\"error_message\":\"Bad Request.  The series does not exist.\"}\"\"\")",
      "",
      "Stacktrace:",
      " [1] #request#1(::Base.Iterators.Pairs{Symbol,Nothing,Tuple{Symbol},NamedTuple{(:iofunction,),Tuple{Nothing}}}, ::Function, ::Type{HTTP.ExceptionRequest.ExceptionLayer{HTTP.ConnectionRequest.ConnectionPoolLayer{HTTP.StreamRequest.StreamLayer}}}, ::HTTP.URIs.URI, ::Vararg{Any,N} where N) at /Users/varit/.julia/packages/HTTP/wY7Vc/src/ExceptionRequest.jl:22",
      " [2] (::getfield(HTTP, Symbol(\"#kw##request\")))(::NamedTuple{(:iofunction,),Tuple{Nothing}}, ::typeof(HTTP.request), ::Type{HTTP.ExceptionRequest.ExceptionLayer{HTTP.ConnectionRequest.ConnectionPoolLayer{HTTP.StreamRequest.StreamLayer}}}, ::HTTP.URIs.URI, ::HTTP.Messages.Request, ::Array{UInt8,1}) at ./none:0",
      " [3] (::getfield(Base, Symbol(\"###48#49#50\")){ExponentialBackOff,getfield(HTTP.RetryRequest, Symbol(\"##2#3\")){Bool,HTTP.Messages.Request},typeof(HTTP.request)})(::Base.Iterators.Pairs{Symbol,Nothing,Tuple{Symbol},NamedTuple{(:iofunction,),Tuple{Nothing}}}, ::Function, ::Type, ::Vararg{Any,N} where N) at ./error.jl:231",
      " [4] ##48#51 at ./none:0 [inlined]",
      " [5] #request#1 at /Users/varit/.julia/packages/HTTP/wY7Vc/src/RetryRequest.jl:44 [inlined]",
      " [6] #request at ./none:0 [inlined]",
      " [7] #request#1(::VersionNumber, ::String, ::Nothing, ::Nothing, ::Base.Iterators.Pairs{Union{},Union{},Tuple{},NamedTuple{(),Tuple{}}}, ::Function, ::Type{HTTP.MessageRequest.MessageLayer{HTTP.RetryRequest.RetryLayer{HTTP.ExceptionRequest.ExceptionLayer{HTTP.ConnectionRequest.ConnectionPoolLayer{HTTP.StreamRequest.StreamLayer}}}}}, ::String, ::HTTP.URIs.URI, ::Array{Pair{SubString{String},SubString{String}},1}, ::Array{UInt8,1}) at /Users/varit/.julia/packages/HTTP/wY7Vc/src/MessageRequest.jl:47",
      " [8] request at /Users/varit/.julia/packages/HTTP/wY7Vc/src/MessageRequest.jl:28 [inlined]",
      " [9] #request#1(::Int64, ::Bool, ::Base.Iterators.Pairs{Union{},Union{},Tuple{},NamedTuple{(),Tuple{}}}, ::Function, ::Type{HTTP.RedirectRequest.RedirectLayer{HTTP.MessageRequest.MessageLayer{HTTP.RetryRequest.RetryLayer{HTTP.ExceptionRequest.ExceptionLayer{HTTP.ConnectionRequest.ConnectionPoolLayer{HTTP.StreamRequest.StreamLayer}}}}}}, ::String, ::HTTP.URIs.URI, ::Array{Pair{SubString{String},SubString{String}},1}, ::Array{UInt8,1}) at /Users/varit/.julia/packages/HTTP/wY7Vc/src/RedirectRequest.jl:24",
      " [10] request(::Type{HTTP.RedirectRequest.RedirectLayer{HTTP.MessageRequest.MessageLayer{HTTP.RetryRequest.RetryLayer{HTTP.ExceptionRequest.ExceptionLayer{HTTP.ConnectionRequest.ConnectionPoolLayer{HTTP.StreamRequest.StreamLayer}}}}}}, ::String, ::HTTP.URIs.URI, ::Array{Pair{SubString{String},SubString{String}},1}, ::Array{UInt8,1}) at /Users/varit/.julia/packages/HTTP/wY7Vc/src/RedirectRequest.jl:21",
      " [11] #request#5(::Base.Iterators.Pairs{Union{},Union{},Tuple{},NamedTuple{(),Tuple{}}}, ::Function, ::String, ::HTTP.URIs.URI, ::Array{Pair{SubString{String},SubString{String}},1}, ::Array{UInt8,1}) at /Users/varit/.julia/packages/HTTP/wY7Vc/src/HTTP.jl:300",
      " [12] request at /Users/varit/.julia/packages/HTTP/wY7Vc/src/HTTP.jl:300 [inlined]",
      " [13] #request#6 at /Users/varit/.julia/packages/HTTP/wY7Vc/src/HTTP.jl:314 [inlined]",
      " [14] #request at ./none:0 [inlined] (repeats 2 times)",
      " [15] #get_data#3(::Base.Iterators.Pairs{Union{},Union{},Tuple{},NamedTuple{(),Tuple{}}}, ::Function, ::Fred, ::String) at /Users/varit/.julia/packages/FredData/8HrnF/src/get_data.jl:52",
      " [16] get_data(::Fred, ::String) at /Users/varit/.julia/packages/FredData/8HrnF/src/get_data.jl:34",
      " [17] top-level scope at In[138]:1"
     ]
    }
   ],
   "source": [
    "### UNRATESTx\n",
    "UNRATESTx = get_data(f, \"UNRATEST\").data[:, [3,4]]\n",
    "UNRATESTx = diff_ts(UNRATESTx)\n",
    "println(\"DONE\")"
   ]
  },
  {
   "cell_type": "code",
   "execution_count": 142,
   "metadata": {},
   "outputs": [
    {
     "ename": "HTTP.ExceptionRequest.StatusError",
     "evalue": "HTTP.ExceptionRequest.StatusError(400, \"GET\", \"/fred/series/observations?api_key=266c597cbf3d25f366b082b4bf5161fe&series_id=UNRATELT&file_type=json\", HTTP.Messages.Response:\n\"\"\"\nHTTP/1.1 400 Bad Request\r\nContent-Type: application/json; charset=UTF-8\r\nContent-Length: 77\r\nServer: Apache\r\nVary: User-Agent\r\nDate: Wed, 26 Jun 2019 22:48:42 GMT\r\nConnection: keep-alive\r\n\r\n{\"error_code\":400,\"error_message\":\"Bad Request.  The series does not exist.\"}\"\"\")",
     "output_type": "error",
     "traceback": [
      "HTTP.ExceptionRequest.StatusError(400, \"GET\", \"/fred/series/observations?api_key=266c597cbf3d25f366b082b4bf5161fe&series_id=UNRATELT&file_type=json\", HTTP.Messages.Response:\n\"\"\"\nHTTP/1.1 400 Bad Request\r\nContent-Type: application/json; charset=UTF-8\r\nContent-Length: 77\r\nServer: Apache\r\nVary: User-Agent\r\nDate: Wed, 26 Jun 2019 22:48:42 GMT\r\nConnection: keep-alive\r\n\r\n{\"error_code\":400,\"error_message\":\"Bad Request.  The series does not exist.\"}\"\"\")",
      "",
      "Stacktrace:",
      " [1] #request#1(::Base.Iterators.Pairs{Symbol,Nothing,Tuple{Symbol},NamedTuple{(:iofunction,),Tuple{Nothing}}}, ::Function, ::Type{HTTP.ExceptionRequest.ExceptionLayer{HTTP.ConnectionRequest.ConnectionPoolLayer{HTTP.StreamRequest.StreamLayer}}}, ::HTTP.URIs.URI, ::Vararg{Any,N} where N) at /Users/varit/.julia/packages/HTTP/wY7Vc/src/ExceptionRequest.jl:22",
      " [2] (::getfield(HTTP, Symbol(\"#kw##request\")))(::NamedTuple{(:iofunction,),Tuple{Nothing}}, ::typeof(HTTP.request), ::Type{HTTP.ExceptionRequest.ExceptionLayer{HTTP.ConnectionRequest.ConnectionPoolLayer{HTTP.StreamRequest.StreamLayer}}}, ::HTTP.URIs.URI, ::HTTP.Messages.Request, ::Array{UInt8,1}) at ./none:0",
      " [3] (::getfield(Base, Symbol(\"###48#49#50\")){ExponentialBackOff,getfield(HTTP.RetryRequest, Symbol(\"##2#3\")){Bool,HTTP.Messages.Request},typeof(HTTP.request)})(::Base.Iterators.Pairs{Symbol,Nothing,Tuple{Symbol},NamedTuple{(:iofunction,),Tuple{Nothing}}}, ::Function, ::Type, ::Vararg{Any,N} where N) at ./error.jl:231",
      " [4] ##48#51 at ./none:0 [inlined]",
      " [5] #request#1 at /Users/varit/.julia/packages/HTTP/wY7Vc/src/RetryRequest.jl:44 [inlined]",
      " [6] #request at ./none:0 [inlined]",
      " [7] #request#1(::VersionNumber, ::String, ::Nothing, ::Nothing, ::Base.Iterators.Pairs{Union{},Union{},Tuple{},NamedTuple{(),Tuple{}}}, ::Function, ::Type{HTTP.MessageRequest.MessageLayer{HTTP.RetryRequest.RetryLayer{HTTP.ExceptionRequest.ExceptionLayer{HTTP.ConnectionRequest.ConnectionPoolLayer{HTTP.StreamRequest.StreamLayer}}}}}, ::String, ::HTTP.URIs.URI, ::Array{Pair{SubString{String},SubString{String}},1}, ::Array{UInt8,1}) at /Users/varit/.julia/packages/HTTP/wY7Vc/src/MessageRequest.jl:47",
      " [8] request at /Users/varit/.julia/packages/HTTP/wY7Vc/src/MessageRequest.jl:28 [inlined]",
      " [9] #request#1(::Int64, ::Bool, ::Base.Iterators.Pairs{Union{},Union{},Tuple{},NamedTuple{(),Tuple{}}}, ::Function, ::Type{HTTP.RedirectRequest.RedirectLayer{HTTP.MessageRequest.MessageLayer{HTTP.RetryRequest.RetryLayer{HTTP.ExceptionRequest.ExceptionLayer{HTTP.ConnectionRequest.ConnectionPoolLayer{HTTP.StreamRequest.StreamLayer}}}}}}, ::String, ::HTTP.URIs.URI, ::Array{Pair{SubString{String},SubString{String}},1}, ::Array{UInt8,1}) at /Users/varit/.julia/packages/HTTP/wY7Vc/src/RedirectRequest.jl:24",
      " [10] request(::Type{HTTP.RedirectRequest.RedirectLayer{HTTP.MessageRequest.MessageLayer{HTTP.RetryRequest.RetryLayer{HTTP.ExceptionRequest.ExceptionLayer{HTTP.ConnectionRequest.ConnectionPoolLayer{HTTP.StreamRequest.StreamLayer}}}}}}, ::String, ::HTTP.URIs.URI, ::Array{Pair{SubString{String},SubString{String}},1}, ::Array{UInt8,1}) at /Users/varit/.julia/packages/HTTP/wY7Vc/src/RedirectRequest.jl:21",
      " [11] #request#5(::Base.Iterators.Pairs{Union{},Union{},Tuple{},NamedTuple{(),Tuple{}}}, ::Function, ::String, ::HTTP.URIs.URI, ::Array{Pair{SubString{String},SubString{String}},1}, ::Array{UInt8,1}) at /Users/varit/.julia/packages/HTTP/wY7Vc/src/HTTP.jl:300",
      " [12] request at /Users/varit/.julia/packages/HTTP/wY7Vc/src/HTTP.jl:300 [inlined]",
      " [13] #request#6 at /Users/varit/.julia/packages/HTTP/wY7Vc/src/HTTP.jl:314 [inlined]",
      " [14] #request at ./none:0 [inlined] (repeats 2 times)",
      " [15] #get_data#3(::Base.Iterators.Pairs{Union{},Union{},Tuple{},NamedTuple{(),Tuple{}}}, ::Function, ::Fred, ::String) at /Users/varit/.julia/packages/FredData/8HrnF/src/get_data.jl:52",
      " [16] get_data(::Fred, ::String) at /Users/varit/.julia/packages/FredData/8HrnF/src/get_data.jl:34",
      " [17] top-level scope at In[142]:1"
     ]
    }
   ],
   "source": [
    "### UNRATELTx\n",
    "UNRATELTx = get_data(f, \"UNRATELT\").data[:, [3,4]]\n",
    "UNRATELTx = diff_ts(UNRATELTx)\n",
    "println(\"DONE\")\n"
   ]
  },
  {
   "cell_type": "code",
   "execution_count": null,
   "metadata": {
    "collapsed": true
   },
   "outputs": [],
   "source": []
  },
  {
   "cell_type": "code",
   "execution_count": 143,
   "metadata": {},
   "outputs": [
    {
     "name": "stdout",
     "output_type": "stream",
     "text": [
      "DONE\n"
     ]
    }
   ],
   "source": [
    "### LNS14000012\n",
    "LNS14000012 = get_data(f, \"LNS14000012\").data[:, [3,4]]\n",
    "LNS14000012 = diff_ts(LNS14000012)\n",
    "println(\"DONE\")"
   ]
  },
  {
   "cell_type": "code",
   "execution_count": 144,
   "metadata": {},
   "outputs": [
    {
     "name": "stdout",
     "output_type": "stream",
     "text": [
      "DONE\n"
     ]
    }
   ],
   "source": [
    "### LNS14000025\n",
    "LNS14000025 = get_data(f, \"LNS14000025\").data[:, [3,4]]\n",
    "LNS14000025 = diff_ts(LNS14000025)\n",
    "println(\"DONE\")"
   ]
  },
  {
   "cell_type": "code",
   "execution_count": null,
   "metadata": {
    "collapsed": true
   },
   "outputs": [],
   "source": []
  },
  {
   "cell_type": "code",
   "execution_count": 145,
   "metadata": {},
   "outputs": [
    {
     "name": "stdout",
     "output_type": "stream",
     "text": [
      "DONE\n"
     ]
    }
   ],
   "source": [
    "### LNS14000026\n",
    "LNS14000026 = get_data(f, \"LNS14000026\").data[:, [3,4]]\n",
    "LNS14000026 = diff_ts(LNS14000026)\n",
    "println(\"DONE\")"
   ]
  },
  {
   "cell_type": "code",
   "execution_count": 146,
   "metadata": {},
   "outputs": [
    {
     "name": "stdout",
     "output_type": "stream",
     "text": [
      "DONE\n"
     ]
    }
   ],
   "source": [
    "### UEMPLT5\n",
    "UEMPLT5 = get_data(f, \"UEMPLT5\").data[:,[3,4]]\n",
    "UEMPLT5 = log_diff(UEMPLT5)\n",
    "println(\"DONE\")"
   ]
  },
  {
   "cell_type": "code",
   "execution_count": 147,
   "metadata": {},
   "outputs": [
    {
     "name": "stdout",
     "output_type": "stream",
     "text": [
      "DONE\n"
     ]
    }
   ],
   "source": [
    "### UEMP5TO14\n",
    "UEMP5TO14 = get_data(f, \"UEMP5TO14\").data[:,[3,4]]\n",
    "UEMP5TO14 = log_diff(UEMP5TO14)\n",
    "println(\"DONE\")"
   ]
  },
  {
   "cell_type": "code",
   "execution_count": 148,
   "metadata": {},
   "outputs": [
    {
     "name": "stdout",
     "output_type": "stream",
     "text": [
      "DONE\n"
     ]
    }
   ],
   "source": [
    "### UEMP15T26\n",
    "UEMP15T26 = get_data(f, \"UEMP15T26\").data[:,[3,4]]\n",
    "UEMP15T26 = log_diff(UEMP15T26)\n",
    "println(\"DONE\")"
   ]
  },
  {
   "cell_type": "code",
   "execution_count": 149,
   "metadata": {},
   "outputs": [
    {
     "name": "stdout",
     "output_type": "stream",
     "text": [
      "DONE\n"
     ]
    }
   ],
   "source": [
    "### UEMP27OV\n",
    "UEMP27OV = get_data(f, \"UEMP27OV\").data[:,[3,4]]\n",
    "UEMP27OV = log_diff(UEMP27OV)\n",
    "println(\"DONE\")"
   ]
  },
  {
   "cell_type": "code",
   "execution_count": 229,
   "metadata": {},
   "outputs": [
    {
     "name": "stdout",
     "output_type": "stream",
     "text": [
      "DONE\n"
     ]
    }
   ],
   "source": [
    "### LNS13023621\n",
    "LNS13023621 = get_data(f, \"LNS13023621\").data[:,[3,4]]\n",
    "FPIx = log_diff(FPIx)\n",
    "println(\"DONE\")"
   ]
  },
  {
   "cell_type": "code",
   "execution_count": 150,
   "metadata": {},
   "outputs": [
    {
     "name": "stdout",
     "output_type": "stream",
     "text": [
      "DONE\n"
     ]
    }
   ],
   "source": [
    "### LNS13023557\n",
    "LNS13023557 = get_data(f, \"LNS13023557\").data[:,[3,4]]\n",
    "LNS13023557 = log_diff(LNS13023557)\n",
    "println(\"DONE\")"
   ]
  },
  {
   "cell_type": "code",
   "execution_count": 151,
   "metadata": {},
   "outputs": [
    {
     "name": "stdout",
     "output_type": "stream",
     "text": [
      "DONE\n"
     ]
    }
   ],
   "source": [
    "### LNS13023705\n",
    "LNS13023705 = get_data(f, \"LNS13023705\").data[:,[3,4]]\n",
    "LNS13023705 = log_diff(LNS13023705)\n",
    "println(\"DONE\")"
   ]
  },
  {
   "cell_type": "code",
   "execution_count": 232,
   "metadata": {},
   "outputs": [
    {
     "name": "stdout",
     "output_type": "stream",
     "text": [
      "DONE\n"
     ]
    }
   ],
   "source": [
    "### LNS13023569\n",
    "LNS13023569 = get_data(f, \"LNS13023569\").data[:,[3,4]]\n",
    "FPIx = log_diff(FPIx)\n",
    "println(\"DONE\")"
   ]
  },
  {
   "cell_type": "code",
   "execution_count": 152,
   "metadata": {},
   "outputs": [
    {
     "name": "stdout",
     "output_type": "stream",
     "text": [
      "DONE\n"
     ]
    }
   ],
   "source": [
    "### LNS12032194\n",
    "LNS12032194 = get_data(f, \"LNS12032194\").data[:,[3,4]]\n",
    "LNS12032194 = log_diff(LNS12032194)\n",
    "println(\"DONE\")"
   ]
  },
  {
   "cell_type": "code",
   "execution_count": 153,
   "metadata": {},
   "outputs": [
    {
     "ename": "UndefVarError",
     "evalue": "UndefVarError: warn not defined",
     "output_type": "error",
     "traceback": [
      "UndefVarError: warn not defined",
      "",
      "Stacktrace:",
      " [1] #get_data#3(::Base.Iterators.Pairs{Union{},Union{},Tuple{},NamedTuple{(),Tuple{}}}, ::Function, ::Fred, ::String) at /Users/varit/.julia/packages/FredData/8HrnF/src/get_data.jl:77",
      " [2] get_data(::Fred, ::String) at /Users/varit/.julia/packages/FredData/8HrnF/src/get_data.jl:34",
      " [3] top-level scope at In[153]:1"
     ]
    }
   ],
   "source": [
    "### HOABS\n",
    "HOABS = get_data(f, \"HOABS\").data[:,[3,4]]\n",
    "HOABS = log_diff(HOABS)\n",
    "println(\"DONE\")"
   ]
  },
  {
   "cell_type": "code",
   "execution_count": 154,
   "metadata": {},
   "outputs": [
    {
     "name": "stdout",
     "output_type": "stream",
     "text": [
      "DONE\n"
     ]
    }
   ],
   "source": [
    "### HOAMS\n",
    "HOAMS = get_data(f, \"HOAMS\").data[:,[3,4]]\n",
    "HOAMS = log_diff(HOAMS)\n",
    "println(\"DONE\")"
   ]
  },
  {
   "cell_type": "code",
   "execution_count": 155,
   "metadata": {},
   "outputs": [
    {
     "ename": "UndefVarError",
     "evalue": "UndefVarError: warn not defined",
     "output_type": "error",
     "traceback": [
      "UndefVarError: warn not defined",
      "",
      "Stacktrace:",
      " [1] #get_data#3(::Base.Iterators.Pairs{Union{},Union{},Tuple{},NamedTuple{(),Tuple{}}}, ::Function, ::Fred, ::String) at /Users/varit/.julia/packages/FredData/8HrnF/src/get_data.jl:77",
      " [2] get_data(::Fred, ::String) at /Users/varit/.julia/packages/FredData/8HrnF/src/get_data.jl:34",
      " [3] top-level scope at In[155]:1"
     ]
    }
   ],
   "source": [
    "### HOANBS\n",
    "HOANBS = get_data(f, \"HOANBS\").data[:,[3,4]]\n",
    "HOANBS = log_diff(HOANBS)\n",
    "println(\"DONE\")"
   ]
  },
  {
   "cell_type": "code",
   "execution_count": 157,
   "metadata": {},
   "outputs": [
    {
     "name": "stdout",
     "output_type": "stream",
     "text": [
      "DONE\n"
     ]
    }
   ],
   "source": [
    "### AWHMAN\n",
    "AWHMAN = get_data(f, \"AWHMAN\").data[:, [3,4]]\n",
    "println(\"DONE\")"
   ]
  },
  {
   "cell_type": "code",
   "execution_count": 159,
   "metadata": {},
   "outputs": [
    {
     "name": "stdout",
     "output_type": "stream",
     "text": [
      "DONE\n"
     ]
    }
   ],
   "source": [
    "### AWHNONAG\n",
    "AWHNONAG = get_data(f, \"AWHNONAG\").data[:, [3,4]]\n",
    "AWHNONAG = diff_ts(AWHNONAG)\n",
    "println(\"DONE\")"
   ]
  },
  {
   "cell_type": "code",
   "execution_count": 160,
   "metadata": {},
   "outputs": [
    {
     "name": "stdout",
     "output_type": "stream",
     "text": [
      "DONE\n"
     ]
    }
   ],
   "source": [
    "### AWOTMAN\n",
    "AWOTMAN = get_data(f, \"AWOTMAN\").data[:, [3,4]]\n",
    "AWOTMAN = diff_ts(AWOTMAN)\n",
    "println(\"DONE\")"
   ]
  },
  {
   "cell_type": "code",
   "execution_count": 162,
   "metadata": {},
   "outputs": [
    {
     "ename": "HTTP.ExceptionRequest.StatusError",
     "evalue": "HTTP.ExceptionRequest.StatusError(400, \"GET\", \"/fred/series/observations?api_key=266c597cbf3d25f366b082b4bf5161fe&series_id=HWI&file_type=json\", HTTP.Messages.Response:\n\"\"\"\nHTTP/1.1 400 Bad Request\r\nContent-Type: application/json; charset=UTF-8\r\nContent-Length: 77\r\nServer: Apache\r\nVary: User-Agent\r\nDate: Wed, 26 Jun 2019 22:54:02 GMT\r\nConnection: keep-alive\r\n\r\n{\"error_code\":400,\"error_message\":\"Bad Request.  The series does not exist.\"}\"\"\")",
     "output_type": "error",
     "traceback": [
      "HTTP.ExceptionRequest.StatusError(400, \"GET\", \"/fred/series/observations?api_key=266c597cbf3d25f366b082b4bf5161fe&series_id=HWI&file_type=json\", HTTP.Messages.Response:\n\"\"\"\nHTTP/1.1 400 Bad Request\r\nContent-Type: application/json; charset=UTF-8\r\nContent-Length: 77\r\nServer: Apache\r\nVary: User-Agent\r\nDate: Wed, 26 Jun 2019 22:54:02 GMT\r\nConnection: keep-alive\r\n\r\n{\"error_code\":400,\"error_message\":\"Bad Request.  The series does not exist.\"}\"\"\")",
      "",
      "Stacktrace:",
      " [1] #request#1(::Base.Iterators.Pairs{Symbol,Nothing,Tuple{Symbol},NamedTuple{(:iofunction,),Tuple{Nothing}}}, ::Function, ::Type{HTTP.ExceptionRequest.ExceptionLayer{HTTP.ConnectionRequest.ConnectionPoolLayer{HTTP.StreamRequest.StreamLayer}}}, ::HTTP.URIs.URI, ::Vararg{Any,N} where N) at /Users/varit/.julia/packages/HTTP/wY7Vc/src/ExceptionRequest.jl:22",
      " [2] (::getfield(HTTP, Symbol(\"#kw##request\")))(::NamedTuple{(:iofunction,),Tuple{Nothing}}, ::typeof(HTTP.request), ::Type{HTTP.ExceptionRequest.ExceptionLayer{HTTP.ConnectionRequest.ConnectionPoolLayer{HTTP.StreamRequest.StreamLayer}}}, ::HTTP.URIs.URI, ::HTTP.Messages.Request, ::Array{UInt8,1}) at ./none:0",
      " [3] (::getfield(Base, Symbol(\"###48#49#50\")){ExponentialBackOff,getfield(HTTP.RetryRequest, Symbol(\"##2#3\")){Bool,HTTP.Messages.Request},typeof(HTTP.request)})(::Base.Iterators.Pairs{Symbol,Nothing,Tuple{Symbol},NamedTuple{(:iofunction,),Tuple{Nothing}}}, ::Function, ::Type, ::Vararg{Any,N} where N) at ./error.jl:231",
      " [4] ##48#51 at ./none:0 [inlined]",
      " [5] #request#1 at /Users/varit/.julia/packages/HTTP/wY7Vc/src/RetryRequest.jl:44 [inlined]",
      " [6] #request at ./none:0 [inlined]",
      " [7] #request#1(::VersionNumber, ::String, ::Nothing, ::Nothing, ::Base.Iterators.Pairs{Union{},Union{},Tuple{},NamedTuple{(),Tuple{}}}, ::Function, ::Type{HTTP.MessageRequest.MessageLayer{HTTP.RetryRequest.RetryLayer{HTTP.ExceptionRequest.ExceptionLayer{HTTP.ConnectionRequest.ConnectionPoolLayer{HTTP.StreamRequest.StreamLayer}}}}}, ::String, ::HTTP.URIs.URI, ::Array{Pair{SubString{String},SubString{String}},1}, ::Array{UInt8,1}) at /Users/varit/.julia/packages/HTTP/wY7Vc/src/MessageRequest.jl:47",
      " [8] request at /Users/varit/.julia/packages/HTTP/wY7Vc/src/MessageRequest.jl:28 [inlined]",
      " [9] #request#1(::Int64, ::Bool, ::Base.Iterators.Pairs{Union{},Union{},Tuple{},NamedTuple{(),Tuple{}}}, ::Function, ::Type{HTTP.RedirectRequest.RedirectLayer{HTTP.MessageRequest.MessageLayer{HTTP.RetryRequest.RetryLayer{HTTP.ExceptionRequest.ExceptionLayer{HTTP.ConnectionRequest.ConnectionPoolLayer{HTTP.StreamRequest.StreamLayer}}}}}}, ::String, ::HTTP.URIs.URI, ::Array{Pair{SubString{String},SubString{String}},1}, ::Array{UInt8,1}) at /Users/varit/.julia/packages/HTTP/wY7Vc/src/RedirectRequest.jl:24",
      " [10] request(::Type{HTTP.RedirectRequest.RedirectLayer{HTTP.MessageRequest.MessageLayer{HTTP.RetryRequest.RetryLayer{HTTP.ExceptionRequest.ExceptionLayer{HTTP.ConnectionRequest.ConnectionPoolLayer{HTTP.StreamRequest.StreamLayer}}}}}}, ::String, ::HTTP.URIs.URI, ::Array{Pair{SubString{String},SubString{String}},1}, ::Array{UInt8,1}) at /Users/varit/.julia/packages/HTTP/wY7Vc/src/RedirectRequest.jl:21",
      " [11] #request#5(::Base.Iterators.Pairs{Union{},Union{},Tuple{},NamedTuple{(),Tuple{}}}, ::Function, ::String, ::HTTP.URIs.URI, ::Array{Pair{SubString{String},SubString{String}},1}, ::Array{UInt8,1}) at /Users/varit/.julia/packages/HTTP/wY7Vc/src/HTTP.jl:300",
      " [12] request at /Users/varit/.julia/packages/HTTP/wY7Vc/src/HTTP.jl:300 [inlined]",
      " [13] #request#6 at /Users/varit/.julia/packages/HTTP/wY7Vc/src/HTTP.jl:314 [inlined]",
      " [14] #request at ./none:0 [inlined] (repeats 2 times)",
      " [15] #get_data#3(::Base.Iterators.Pairs{Union{},Union{},Tuple{},NamedTuple{(),Tuple{}}}, ::Function, ::Fred, ::String) at /Users/varit/.julia/packages/FredData/8HrnF/src/get_data.jl:52",
      " [16] get_data(::Fred, ::String) at /Users/varit/.julia/packages/FredData/8HrnF/src/get_data.jl:34",
      " [17] top-level scope at In[162]:1"
     ]
    }
   ],
   "source": [
    "### HWIx\n",
    "HWIx = get_data(f, \"HWI\").data[:, [3,4]]\n",
    "println(\"DONE\")"
   ]
  },
  {
   "cell_type": "code",
   "execution_count": 164,
   "metadata": {},
   "outputs": [
    {
     "name": "stdout",
     "output_type": "stream",
     "text": [
      "DONE\n"
     ]
    }
   ],
   "source": [
    "### UEMPMEAN\n",
    "UEMPMEAN = get_data(f, \"UEMPMEAN\").data[:, [3,4]]\n",
    "UEMPMEAN = diff_ts(UEMPMEAN)\n",
    "println(\"DONE\")"
   ]
  },
  {
   "cell_type": "code",
   "execution_count": 165,
   "metadata": {},
   "outputs": [
    {
     "name": "stdout",
     "output_type": "stream",
     "text": [
      "DONE\n"
     ]
    }
   ],
   "source": [
    "### CES0600000007\n",
    "CES0600000007 = get_data(f, \"CES0600000007\").data[:, [3,4]]\n",
    "CES0600000007 = diff_ts(CES0600000007)\n",
    "println(\"DONE\")"
   ]
  },
  {
   "cell_type": "code",
   "execution_count": 168,
   "metadata": {},
   "outputs": [
    {
     "ename": "HTTP.ExceptionRequest.StatusError",
     "evalue": "HTTP.ExceptionRequest.StatusError(400, \"GET\", \"/fred/series/observations?api_key=266c597cbf3d25f366b082b4bf5161fe&series_id=HWIURATIO&file_type=json\", HTTP.Messages.Response:\n\"\"\"\nHTTP/1.1 400 Bad Request\r\nContent-Type: application/json; charset=UTF-8\r\nContent-Length: 77\r\nServer: Apache\r\nVary: User-Agent\r\nDate: Wed, 26 Jun 2019 22:56:40 GMT\r\nConnection: keep-alive\r\n\r\n{\"error_code\":400,\"error_message\":\"Bad Request.  The series does not exist.\"}\"\"\")",
     "output_type": "error",
     "traceback": [
      "HTTP.ExceptionRequest.StatusError(400, \"GET\", \"/fred/series/observations?api_key=266c597cbf3d25f366b082b4bf5161fe&series_id=HWIURATIO&file_type=json\", HTTP.Messages.Response:\n\"\"\"\nHTTP/1.1 400 Bad Request\r\nContent-Type: application/json; charset=UTF-8\r\nContent-Length: 77\r\nServer: Apache\r\nVary: User-Agent\r\nDate: Wed, 26 Jun 2019 22:56:40 GMT\r\nConnection: keep-alive\r\n\r\n{\"error_code\":400,\"error_message\":\"Bad Request.  The series does not exist.\"}\"\"\")",
      "",
      "Stacktrace:",
      " [1] #request#1(::Base.Iterators.Pairs{Symbol,Nothing,Tuple{Symbol},NamedTuple{(:iofunction,),Tuple{Nothing}}}, ::Function, ::Type{HTTP.ExceptionRequest.ExceptionLayer{HTTP.ConnectionRequest.ConnectionPoolLayer{HTTP.StreamRequest.StreamLayer}}}, ::HTTP.URIs.URI, ::Vararg{Any,N} where N) at /Users/varit/.julia/packages/HTTP/wY7Vc/src/ExceptionRequest.jl:22",
      " [2] (::getfield(HTTP, Symbol(\"#kw##request\")))(::NamedTuple{(:iofunction,),Tuple{Nothing}}, ::typeof(HTTP.request), ::Type{HTTP.ExceptionRequest.ExceptionLayer{HTTP.ConnectionRequest.ConnectionPoolLayer{HTTP.StreamRequest.StreamLayer}}}, ::HTTP.URIs.URI, ::HTTP.Messages.Request, ::Array{UInt8,1}) at ./none:0",
      " [3] (::getfield(Base, Symbol(\"###48#49#50\")){ExponentialBackOff,getfield(HTTP.RetryRequest, Symbol(\"##2#3\")){Bool,HTTP.Messages.Request},typeof(HTTP.request)})(::Base.Iterators.Pairs{Symbol,Nothing,Tuple{Symbol},NamedTuple{(:iofunction,),Tuple{Nothing}}}, ::Function, ::Type, ::Vararg{Any,N} where N) at ./error.jl:231",
      " [4] ##48#51 at ./none:0 [inlined]",
      " [5] #request#1 at /Users/varit/.julia/packages/HTTP/wY7Vc/src/RetryRequest.jl:44 [inlined]",
      " [6] #request at ./none:0 [inlined]",
      " [7] #request#1(::VersionNumber, ::String, ::Nothing, ::Nothing, ::Base.Iterators.Pairs{Union{},Union{},Tuple{},NamedTuple{(),Tuple{}}}, ::Function, ::Type{HTTP.MessageRequest.MessageLayer{HTTP.RetryRequest.RetryLayer{HTTP.ExceptionRequest.ExceptionLayer{HTTP.ConnectionRequest.ConnectionPoolLayer{HTTP.StreamRequest.StreamLayer}}}}}, ::String, ::HTTP.URIs.URI, ::Array{Pair{SubString{String},SubString{String}},1}, ::Array{UInt8,1}) at /Users/varit/.julia/packages/HTTP/wY7Vc/src/MessageRequest.jl:47",
      " [8] request at /Users/varit/.julia/packages/HTTP/wY7Vc/src/MessageRequest.jl:28 [inlined]",
      " [9] #request#1(::Int64, ::Bool, ::Base.Iterators.Pairs{Union{},Union{},Tuple{},NamedTuple{(),Tuple{}}}, ::Function, ::Type{HTTP.RedirectRequest.RedirectLayer{HTTP.MessageRequest.MessageLayer{HTTP.RetryRequest.RetryLayer{HTTP.ExceptionRequest.ExceptionLayer{HTTP.ConnectionRequest.ConnectionPoolLayer{HTTP.StreamRequest.StreamLayer}}}}}}, ::String, ::HTTP.URIs.URI, ::Array{Pair{SubString{String},SubString{String}},1}, ::Array{UInt8,1}) at /Users/varit/.julia/packages/HTTP/wY7Vc/src/RedirectRequest.jl:24",
      " [10] request(::Type{HTTP.RedirectRequest.RedirectLayer{HTTP.MessageRequest.MessageLayer{HTTP.RetryRequest.RetryLayer{HTTP.ExceptionRequest.ExceptionLayer{HTTP.ConnectionRequest.ConnectionPoolLayer{HTTP.StreamRequest.StreamLayer}}}}}}, ::String, ::HTTP.URIs.URI, ::Array{Pair{SubString{String},SubString{String}},1}, ::Array{UInt8,1}) at /Users/varit/.julia/packages/HTTP/wY7Vc/src/RedirectRequest.jl:21",
      " [11] #request#5(::Base.Iterators.Pairs{Union{},Union{},Tuple{},NamedTuple{(),Tuple{}}}, ::Function, ::String, ::HTTP.URIs.URI, ::Array{Pair{SubString{String},SubString{String}},1}, ::Array{UInt8,1}) at /Users/varit/.julia/packages/HTTP/wY7Vc/src/HTTP.jl:300",
      " [12] request at /Users/varit/.julia/packages/HTTP/wY7Vc/src/HTTP.jl:300 [inlined]",
      " [13] #request#6 at /Users/varit/.julia/packages/HTTP/wY7Vc/src/HTTP.jl:314 [inlined]",
      " [14] #request at ./none:0 [inlined] (repeats 2 times)",
      " [15] #get_data#3(::Base.Iterators.Pairs{Union{},Union{},Tuple{},NamedTuple{(),Tuple{}}}, ::Function, ::Fred, ::String) at /Users/varit/.julia/packages/FredData/8HrnF/src/get_data.jl:52",
      " [16] get_data(::Fred, ::String) at /Users/varit/.julia/packages/FredData/8HrnF/src/get_data.jl:34",
      " [17] top-level scope at In[168]:1"
     ]
    }
   ],
   "source": [
    "### HWIURATIOx\n",
    "HWIURATIOx = get_data(f, \"HWIURATIO\").data[:, [3,4]]\n",
    "HWIURATIOx = diff_ts(HWIURATIOx)\n",
    "println(\"DONE\")"
   ]
  },
  {
   "cell_type": "code",
   "execution_count": 169,
   "metadata": {},
   "outputs": [
    {
     "ename": "UndefVarError",
     "evalue": "UndefVarError: warn not defined",
     "output_type": "error",
     "traceback": [
      "UndefVarError: warn not defined",
      "",
      "Stacktrace:",
      " [1] #get_data#3(::Base.Iterators.Pairs{Union{},Union{},Tuple{},NamedTuple{(),Tuple{}}}, ::Function, ::Fred, ::String) at /Users/varit/.julia/packages/FredData/8HrnF/src/get_data.jl:77",
      " [2] get_data(::Fred, ::String) at /Users/varit/.julia/packages/FredData/8HrnF/src/get_data.jl:34",
      " [3] top-level scope at In[169]:1"
     ]
    }
   ],
   "source": [
    "### CLAIMSx\n",
    "CLAIMSx = get_data(f, \"ICSA\").data[:,[3,4]]\n",
    "CLAIMSx = log_diff(CLAIMSx)\n",
    "println(\"DONE\")"
   ]
  },
  {
   "cell_type": "code",
   "execution_count": 170,
   "metadata": {},
   "outputs": [
    {
     "name": "stdout",
     "output_type": "stream",
     "text": [
      "DONE\n"
     ]
    }
   ],
   "source": [
    "### HOUST\n",
    "HOUST = get_data(f, \"HOUST\").data[:,[3,4]]\n",
    "HOUST = log_diff(HOUST)\n",
    "println(\"DONE\")"
   ]
  },
  {
   "cell_type": "code",
   "execution_count": 171,
   "metadata": {},
   "outputs": [
    {
     "name": "stdout",
     "output_type": "stream",
     "text": [
      "DONE\n"
     ]
    }
   ],
   "source": [
    "### HOUST5F\n",
    "HOUST5F = get_data(f, \"HOUST5F\").data[:,[3,4]]\n",
    "HOUST5F = log_diff(HOUST5F)\n",
    "println(\"DONE\")"
   ]
  },
  {
   "cell_type": "code",
   "execution_count": 172,
   "metadata": {},
   "outputs": [
    {
     "name": "stdout",
     "output_type": "stream",
     "text": [
      "DONE\n"
     ]
    }
   ],
   "source": [
    "### PERMIT\n",
    "PERMIT = get_data(f, \"PERMIT\").data[:,[3,4]]\n",
    "PERMIT = log_diff(PERMIT)\n",
    "println(\"DONE\")"
   ]
  },
  {
   "cell_type": "code",
   "execution_count": 173,
   "metadata": {},
   "outputs": [
    {
     "ename": "UndefVarError",
     "evalue": "UndefVarError: warn not defined",
     "output_type": "error",
     "traceback": [
      "UndefVarError: warn not defined",
      "",
      "Stacktrace:",
      " [1] #get_data#3(::Base.Iterators.Pairs{Union{},Union{},Tuple{},NamedTuple{(),Tuple{}}}, ::Function, ::Fred, ::String) at /Users/varit/.julia/packages/FredData/8HrnF/src/get_data.jl:77",
      " [2] get_data(::Fred, ::String) at /Users/varit/.julia/packages/FredData/8HrnF/src/get_data.jl:34",
      " [3] top-level scope at In[173]:1"
     ]
    }
   ],
   "source": [
    "### HOUSTMW\n",
    "HOUSTMW = get_data(f, \"HOUSTMW\").data[:,[3,4]]\n",
    "HOUSTMW = log_diff(HOUSTMW)\n",
    "println(\"DONE\")"
   ]
  },
  {
   "cell_type": "code",
   "execution_count": 174,
   "metadata": {},
   "outputs": [
    {
     "ename": "UndefVarError",
     "evalue": "UndefVarError: warn not defined",
     "output_type": "error",
     "traceback": [
      "UndefVarError: warn not defined",
      "",
      "Stacktrace:",
      " [1] #get_data#3(::Base.Iterators.Pairs{Union{},Union{},Tuple{},NamedTuple{(),Tuple{}}}, ::Function, ::Fred, ::String) at /Users/varit/.julia/packages/FredData/8HrnF/src/get_data.jl:77",
      " [2] get_data(::Fred, ::String) at /Users/varit/.julia/packages/FredData/8HrnF/src/get_data.jl:34",
      " [3] top-level scope at In[174]:1"
     ]
    }
   ],
   "source": [
    "### HOUSTNE\n",
    "HOUSTNE = get_data(f, \"HOUSTNE\").data[:,[3,4]]\n",
    "HOUSTNE = log_diff(HOUSTNE)\n",
    "println(\"DONE\")"
   ]
  },
  {
   "cell_type": "code",
   "execution_count": 175,
   "metadata": {},
   "outputs": [
    {
     "ename": "UndefVarError",
     "evalue": "UndefVarError: warn not defined",
     "output_type": "error",
     "traceback": [
      "UndefVarError: warn not defined",
      "",
      "Stacktrace:",
      " [1] #get_data#3(::Base.Iterators.Pairs{Union{},Union{},Tuple{},NamedTuple{(),Tuple{}}}, ::Function, ::Fred, ::String) at /Users/varit/.julia/packages/FredData/8HrnF/src/get_data.jl:77",
      " [2] get_data(::Fred, ::String) at /Users/varit/.julia/packages/FredData/8HrnF/src/get_data.jl:34",
      " [3] top-level scope at In[175]:1"
     ]
    }
   ],
   "source": [
    "### HOUSTS\n",
    "HOUSTS = get_data(f, \"HOUSTS\").data[:,[3,4]]\n",
    "HOUSTS = log_diff(HOUSTS)\n",
    "println(\"DONE\")"
   ]
  },
  {
   "cell_type": "code",
   "execution_count": 176,
   "metadata": {},
   "outputs": [
    {
     "ename": "UndefVarError",
     "evalue": "UndefVarError: warn not defined",
     "output_type": "error",
     "traceback": [
      "UndefVarError: warn not defined",
      "",
      "Stacktrace:",
      " [1] #get_data#3(::Base.Iterators.Pairs{Union{},Union{},Tuple{},NamedTuple{(),Tuple{}}}, ::Function, ::Fred, ::String) at /Users/varit/.julia/packages/FredData/8HrnF/src/get_data.jl:77",
      " [2] get_data(::Fred, ::String) at /Users/varit/.julia/packages/FredData/8HrnF/src/get_data.jl:34",
      " [3] top-level scope at In[176]:1"
     ]
    }
   ],
   "source": [
    "### HOUSTW\n",
    "HOUSTW = get_data(f, \"HOUSTW\").data[:,[3,4]]\n",
    "HOUSTW = log_diff(HOUSTW)\n",
    "println(\"DONE\")"
   ]
  },
  {
   "cell_type": "code",
   "execution_count": 177,
   "metadata": {},
   "outputs": [
    {
     "name": "stdout",
     "output_type": "stream",
     "text": [
      "DONE\n"
     ]
    }
   ],
   "source": [
    "### USSTHPI\n",
    "USSTHPI = get_data(f, \"USSTHPI\").data[:,[3,4]]\n",
    "USSTHPI = log_diff(USSTHPI)\n",
    "println(\"DONE\")"
   ]
  },
  {
   "cell_type": "code",
   "execution_count": 179,
   "metadata": {},
   "outputs": [
    {
     "name": "stdout",
     "output_type": "stream",
     "text": [
      "DONE\n"
     ]
    }
   ],
   "source": [
    "### SPCS10RSA\n",
    "SPCS10RSA = get_data(f, \"SPCS10RSA\").data[:,[3,4]]\n",
    "SPCS10RSA = log_diff(SPCS10RSA)\n",
    "println(\"DONE\")"
   ]
  },
  {
   "cell_type": "code",
   "execution_count": 180,
   "metadata": {},
   "outputs": [
    {
     "name": "stdout",
     "output_type": "stream",
     "text": [
      "DONE\n"
     ]
    }
   ],
   "source": [
    "### SPCS20RSA\n",
    "SPCS20RSA = get_data(f, \"SPCS20RSA\").data[:,[3,4]]\n",
    "SPCS20RSA = log_diff(SPCS20RSA)\n",
    "println(\"DONE\")"
   ]
  },
  {
   "cell_type": "code",
   "execution_count": 181,
   "metadata": {},
   "outputs": [
    {
     "name": "stdout",
     "output_type": "stream",
     "text": [
      "DONE\n"
     ]
    }
   ],
   "source": [
    "### PERMITNE\n",
    "PERMITNE = get_data(f, \"PERMITNE\").data[:,[3,4]]\n",
    "PERMITNE = log_diff(PERMITNE)\n",
    "println(\"DONE\")"
   ]
  },
  {
   "cell_type": "code",
   "execution_count": 182,
   "metadata": {},
   "outputs": [
    {
     "name": "stdout",
     "output_type": "stream",
     "text": [
      "DONE\n"
     ]
    }
   ],
   "source": [
    "### PERMITMW\n",
    "PERMITMW = get_data(f, \"PERMITMW\").data[:,[3,4]]\n",
    "PERMITMW = log_diff(PERMITMW)\n",
    "println(\"DONE\")"
   ]
  },
  {
   "cell_type": "code",
   "execution_count": 183,
   "metadata": {},
   "outputs": [
    {
     "name": "stdout",
     "output_type": "stream",
     "text": [
      "DONE\n"
     ]
    }
   ],
   "source": [
    "### PERMITS\n",
    "PERMITS = get_data(f, \"PERMITS\").data[:,[3,4]]\n",
    "PERMITS = log_diff(PERMITS)\n",
    "println(\"DONE\")"
   ]
  },
  {
   "cell_type": "code",
   "execution_count": 184,
   "metadata": {},
   "outputs": [
    {
     "name": "stdout",
     "output_type": "stream",
     "text": [
      "DONE\n"
     ]
    }
   ],
   "source": [
    "### PERMITW\n",
    "PERMITW = get_data(f, \"PERMITW\").data[:,[3,4]]\n",
    "PERMITW = log_diff(PERMITW)\n",
    "println(\"DONE\")"
   ]
  },
  {
   "cell_type": "code",
   "execution_count": 186,
   "metadata": {},
   "outputs": [
    {
     "name": "stdout",
     "output_type": "stream",
     "text": [
      "DONE\n"
     ]
    }
   ],
   "source": [
    "### CMRMTSPLx\n",
    "CMRMTSPLx = get_data(f, \"CMRMTSPL\").data[:,[3,4]]\n",
    "CMRMTSPLx = log_diff(CMRMTSPLx)\n",
    "println(\"DONE\")"
   ]
  },
  {
   "cell_type": "code",
   "execution_count": 187,
   "metadata": {},
   "outputs": [
    {
     "name": "stdout",
     "output_type": "stream",
     "text": [
      "DONE\n"
     ]
    }
   ],
   "source": [
    "### RSAFSx\n",
    "RSAFSx = get_data(f, \"RSAFS\").data[:,[3,4]]\n",
    "RSAFSx = log_diff(RSAFSx)\n",
    "println(\"DONE\")"
   ]
  },
  {
   "cell_type": "code",
   "execution_count": 188,
   "metadata": {},
   "outputs": [
    {
     "ename": "HTTP.ExceptionRequest.StatusError",
     "evalue": "HTTP.ExceptionRequest.StatusError(400, \"GET\", \"/fred/series/observations?api_key=266c597cbf3d25f366b082b4bf5161fe&series_id=AMDMNO&file_type=json\", HTTP.Messages.Response:\n\"\"\"\nHTTP/1.1 400 Bad Request\r\nContent-Type: application/json; charset=UTF-8\r\nContent-Length: 77\r\nServer: Apache\r\nVary: User-Agent\r\nDate: Wed, 26 Jun 2019 23:01:43 GMT\r\nConnection: keep-alive\r\n\r\n{\"error_code\":400,\"error_message\":\"Bad Request.  The series does not exist.\"}\"\"\")",
     "output_type": "error",
     "traceback": [
      "HTTP.ExceptionRequest.StatusError(400, \"GET\", \"/fred/series/observations?api_key=266c597cbf3d25f366b082b4bf5161fe&series_id=AMDMNO&file_type=json\", HTTP.Messages.Response:\n\"\"\"\nHTTP/1.1 400 Bad Request\r\nContent-Type: application/json; charset=UTF-8\r\nContent-Length: 77\r\nServer: Apache\r\nVary: User-Agent\r\nDate: Wed, 26 Jun 2019 23:01:43 GMT\r\nConnection: keep-alive\r\n\r\n{\"error_code\":400,\"error_message\":\"Bad Request.  The series does not exist.\"}\"\"\")",
      "",
      "Stacktrace:",
      " [1] #request#1(::Base.Iterators.Pairs{Symbol,Nothing,Tuple{Symbol},NamedTuple{(:iofunction,),Tuple{Nothing}}}, ::Function, ::Type{HTTP.ExceptionRequest.ExceptionLayer{HTTP.ConnectionRequest.ConnectionPoolLayer{HTTP.StreamRequest.StreamLayer}}}, ::HTTP.URIs.URI, ::Vararg{Any,N} where N) at /Users/varit/.julia/packages/HTTP/wY7Vc/src/ExceptionRequest.jl:22",
      " [2] (::getfield(HTTP, Symbol(\"#kw##request\")))(::NamedTuple{(:iofunction,),Tuple{Nothing}}, ::typeof(HTTP.request), ::Type{HTTP.ExceptionRequest.ExceptionLayer{HTTP.ConnectionRequest.ConnectionPoolLayer{HTTP.StreamRequest.StreamLayer}}}, ::HTTP.URIs.URI, ::HTTP.Messages.Request, ::Array{UInt8,1}) at ./none:0",
      " [3] (::getfield(Base, Symbol(\"###48#49#50\")){ExponentialBackOff,getfield(HTTP.RetryRequest, Symbol(\"##2#3\")){Bool,HTTP.Messages.Request},typeof(HTTP.request)})(::Base.Iterators.Pairs{Symbol,Nothing,Tuple{Symbol},NamedTuple{(:iofunction,),Tuple{Nothing}}}, ::Function, ::Type, ::Vararg{Any,N} where N) at ./error.jl:231",
      " [4] ##48#51 at ./none:0 [inlined]",
      " [5] #request#1 at /Users/varit/.julia/packages/HTTP/wY7Vc/src/RetryRequest.jl:44 [inlined]",
      " [6] #request at ./none:0 [inlined]",
      " [7] #request#1(::VersionNumber, ::String, ::Nothing, ::Nothing, ::Base.Iterators.Pairs{Union{},Union{},Tuple{},NamedTuple{(),Tuple{}}}, ::Function, ::Type{HTTP.MessageRequest.MessageLayer{HTTP.RetryRequest.RetryLayer{HTTP.ExceptionRequest.ExceptionLayer{HTTP.ConnectionRequest.ConnectionPoolLayer{HTTP.StreamRequest.StreamLayer}}}}}, ::String, ::HTTP.URIs.URI, ::Array{Pair{SubString{String},SubString{String}},1}, ::Array{UInt8,1}) at /Users/varit/.julia/packages/HTTP/wY7Vc/src/MessageRequest.jl:47",
      " [8] request at /Users/varit/.julia/packages/HTTP/wY7Vc/src/MessageRequest.jl:28 [inlined]",
      " [9] #request#1(::Int64, ::Bool, ::Base.Iterators.Pairs{Union{},Union{},Tuple{},NamedTuple{(),Tuple{}}}, ::Function, ::Type{HTTP.RedirectRequest.RedirectLayer{HTTP.MessageRequest.MessageLayer{HTTP.RetryRequest.RetryLayer{HTTP.ExceptionRequest.ExceptionLayer{HTTP.ConnectionRequest.ConnectionPoolLayer{HTTP.StreamRequest.StreamLayer}}}}}}, ::String, ::HTTP.URIs.URI, ::Array{Pair{SubString{String},SubString{String}},1}, ::Array{UInt8,1}) at /Users/varit/.julia/packages/HTTP/wY7Vc/src/RedirectRequest.jl:24",
      " [10] request(::Type{HTTP.RedirectRequest.RedirectLayer{HTTP.MessageRequest.MessageLayer{HTTP.RetryRequest.RetryLayer{HTTP.ExceptionRequest.ExceptionLayer{HTTP.ConnectionRequest.ConnectionPoolLayer{HTTP.StreamRequest.StreamLayer}}}}}}, ::String, ::HTTP.URIs.URI, ::Array{Pair{SubString{String},SubString{String}},1}, ::Array{UInt8,1}) at /Users/varit/.julia/packages/HTTP/wY7Vc/src/RedirectRequest.jl:21",
      " [11] #request#5(::Base.Iterators.Pairs{Union{},Union{},Tuple{},NamedTuple{(),Tuple{}}}, ::Function, ::String, ::HTTP.URIs.URI, ::Array{Pair{SubString{String},SubString{String}},1}, ::Array{UInt8,1}) at /Users/varit/.julia/packages/HTTP/wY7Vc/src/HTTP.jl:300",
      " [12] request at /Users/varit/.julia/packages/HTTP/wY7Vc/src/HTTP.jl:300 [inlined]",
      " [13] #request#6 at /Users/varit/.julia/packages/HTTP/wY7Vc/src/HTTP.jl:314 [inlined]",
      " [14] #request at ./none:0 [inlined] (repeats 2 times)",
      " [15] #get_data#3(::Base.Iterators.Pairs{Union{},Union{},Tuple{},NamedTuple{(),Tuple{}}}, ::Function, ::Fred, ::String) at /Users/varit/.julia/packages/FredData/8HrnF/src/get_data.jl:52",
      " [16] get_data(::Fred, ::String) at /Users/varit/.julia/packages/FredData/8HrnF/src/get_data.jl:34",
      " [17] top-level scope at In[188]:1"
     ]
    }
   ],
   "source": [
    "### AMDMNOx\n",
    "AMDMNOx = get_data(f, \"AMDMNO\").data[:,[3,4]]\n",
    "AMDMNOx = log_diff(AMDMNOx)\n",
    "println(\"DONE\")"
   ]
  },
  {
   "cell_type": "code",
   "execution_count": 189,
   "metadata": {},
   "outputs": [
    {
     "name": "stdout",
     "output_type": "stream",
     "text": [
      "DONE\n"
     ]
    }
   ],
   "source": [
    "### ACOGNOx\n",
    "ACOGNOx = get_data(f, \"ACOGNO\").data[:,[3,4]]\n",
    "ACOGNOx = log_diff(ACOGNOx)\n",
    "println(\"DONE\")"
   ]
  },
  {
   "cell_type": "code",
   "execution_count": 190,
   "metadata": {},
   "outputs": [
    {
     "name": "stdout",
     "output_type": "stream",
     "text": [
      "DONE\n"
     ]
    }
   ],
   "source": [
    "### AMDMUOx\n",
    "AMDMUOx = get_data(f, \"AMDMUO\").data[:,[3,4]]\n",
    "AMDMUOx = log_diff(AMDMUOx)\n",
    "println(\"DONE\")"
   ]
  },
  {
   "cell_type": "code",
   "execution_count": 193,
   "metadata": {},
   "outputs": [
    {
     "name": "stdout",
     "output_type": "stream",
     "text": [
      "DONE\n"
     ]
    }
   ],
   "source": [
    "### ANDENOx\n",
    "ANDENOx = get_data(f, \"ANDENO\").data[:,[3,4]]\n",
    "ANDENOx = log_diff(ANDENOx)\n",
    "println(\"DONE\")"
   ]
  },
  {
   "cell_type": "code",
   "execution_count": 194,
   "metadata": {},
   "outputs": [
    {
     "name": "stdout",
     "output_type": "stream",
     "text": [
      "DONE\n"
     ]
    }
   ],
   "source": [
    "### INVCQRMTSPL\n",
    "INVCQRMTSPL = get_data(f, \"INVCQRMTSPL\").data[:,[3,4]]\n",
    "INVCQRMTSPL = log_diff(INVCQRMTSPL)\n",
    "println(\"DONE\")"
   ]
  },
  {
   "cell_type": "code",
   "execution_count": 195,
   "metadata": {},
   "outputs": [
    {
     "name": "stdout",
     "output_type": "stream",
     "text": [
      "DONE\n"
     ]
    }
   ],
   "source": [
    "### BUSINVx\n",
    "BUSINVx = get_data(f, \"BUSINV\").data[:,[3,4]]\n",
    "BUSINVx = log_diff(BUSINVx)\n",
    "println(\"DONE\")"
   ]
  },
  {
   "cell_type": "code",
   "execution_count": 198,
   "metadata": {},
   "outputs": [
    {
     "name": "stdout",
     "output_type": "stream",
     "text": [
      "DONE\n"
     ]
    }
   ],
   "source": [
    "### ISRATIOx\n",
    "ISRATIOx = get_data(f, \"ISRATIO\").data[:,[3,4]]\n",
    "ISRATIOx = diff_ts(ISRATIOx)\n",
    "println(\"DONE\")"
   ]
  },
  {
   "cell_type": "code",
   "execution_count": 199,
   "metadata": {},
   "outputs": [
    {
     "name": "stdout",
     "output_type": "stream",
     "text": [
      "DONE\n"
     ]
    }
   ],
   "source": [
    "### PCECTPI\n",
    "PCECTPI = get_data(f, \"PCECTPI\").data[:, [3,4]]\n",
    "PCECTPI = log_diff_diff(PCECTPI)\n",
    "println(\"DONE\")"
   ]
  },
  {
   "cell_type": "code",
   "execution_count": 200,
   "metadata": {},
   "outputs": [
    {
     "name": "stdout",
     "output_type": "stream",
     "text": [
      "DONE\n"
     ]
    }
   ],
   "source": [
    "### PCEPILFE\n",
    "PCEPILFE = get_data(f, \"PCEPILFE\").data[:, [3,4]]\n",
    "PCEPILFE = log_diff_diff(PCEPILFE)\n",
    "println(\"DONE\")"
   ]
  },
  {
   "cell_type": "code",
   "execution_count": 201,
   "metadata": {},
   "outputs": [
    {
     "name": "stdout",
     "output_type": "stream",
     "text": [
      "DONE\n"
     ]
    }
   ],
   "source": [
    "### GDPCTPI\n",
    "GDPCTPI = get_data(f, \"GDPCTPI\").data[:, [3,4]]\n",
    "GDPCTPI = log_diff_diff(GDPCTPI)\n",
    "println(\"DONE\")\n"
   ]
  },
  {
   "cell_type": "code",
   "execution_count": 202,
   "metadata": {},
   "outputs": [
    {
     "name": "stdout",
     "output_type": "stream",
     "text": [
      "DONE\n"
     ]
    }
   ],
   "source": [
    "### GPDICTPI\n",
    "GPDICTPI = get_data(f, \"GPDICTPI\").data[:, [3,4]]\n",
    "GPDICTPI = log_diff_diff(GPDICTPI)\n",
    "println(\"DONE\")"
   ]
  },
  {
   "cell_type": "code",
   "execution_count": 203,
   "metadata": {},
   "outputs": [
    {
     "ename": "UndefVarError",
     "evalue": "UndefVarError: warn not defined",
     "output_type": "error",
     "traceback": [
      "UndefVarError: warn not defined",
      "",
      "Stacktrace:",
      " [1] #get_data#3(::Base.Iterators.Pairs{Union{},Union{},Tuple{},NamedTuple{(),Tuple{}}}, ::Function, ::Fred, ::String) at /Users/varit/.julia/packages/FredData/8HrnF/src/get_data.jl:77",
      " [2] get_data(::Fred, ::String) at /Users/varit/.julia/packages/FredData/8HrnF/src/get_data.jl:34",
      " [3] top-level scope at In[203]:1"
     ]
    }
   ],
   "source": [
    "### IPDBS\n",
    "IPDBS = get_data(f, \"IPDBS\").data[:, [3,4]]\n",
    "IPDBS = log_diff_diff(IPDBS)\n",
    "println(\"DONE\")"
   ]
  },
  {
   "cell_type": "code",
   "execution_count": 204,
   "metadata": {},
   "outputs": [
    {
     "name": "stdout",
     "output_type": "stream",
     "text": [
      "DONE\n"
     ]
    }
   ],
   "source": [
    "### DGDSRG3Q086SBEA\n",
    "DGDSRG3Q086SBEA = get_data(f, \"DGDSRG3Q086SBEA\").data[:, [3,4]]\n",
    "DGDSRG3Q086SBEA = log_diff_diff(DGDSRG3Q086SBEA)\n",
    "println(\"DONE\")"
   ]
  },
  {
   "cell_type": "code",
   "execution_count": 205,
   "metadata": {},
   "outputs": [
    {
     "name": "stdout",
     "output_type": "stream",
     "text": [
      "DONE\n"
     ]
    }
   ],
   "source": [
    "### DDURRG3Q086SBEA\n",
    "DDURRG3Q086SBEA = get_data(f, \"DDURRG3Q086SBEA\").data[:, [3,4]]\n",
    "DDURRG3Q086SBEA = log_diff_diff(DDURRG3Q086SBEA)\n",
    "println(\"DONE\")"
   ]
  },
  {
   "cell_type": "code",
   "execution_count": 207,
   "metadata": {},
   "outputs": [
    {
     "name": "stdout",
     "output_type": "stream",
     "text": [
      "DONE\n"
     ]
    }
   ],
   "source": [
    "### DSERRG3Q086SBEA\n",
    "DSERRG3Q086SBEA = get_data(f, \"DSERRG3Q086SBEA\").data[:, [3,4]]\n",
    "DSERRG3Q086SBEA = log_diff_diff(DSERRG3Q086SBEA)\n",
    "println(\"DONE\")"
   ]
  },
  {
   "cell_type": "code",
   "execution_count": 209,
   "metadata": {},
   "outputs": [
    {
     "name": "stdout",
     "output_type": "stream",
     "text": [
      "DONE\n"
     ]
    }
   ],
   "source": [
    "### DNDGRG3Q086SBEA\n",
    "DNDGRG3Q086SBEA = get_data(f, \"DNDGRG3Q086SBEA\").data[:, [3,4]]\n",
    "DNDGRG3Q086SBEA = log_diff_diff(DNDGRG3Q086SBEA)\n",
    "println(\"DONE\")"
   ]
  },
  {
   "cell_type": "code",
   "execution_count": 210,
   "metadata": {},
   "outputs": [
    {
     "name": "stdout",
     "output_type": "stream",
     "text": [
      "DONE\n"
     ]
    }
   ],
   "source": [
    "#### DHCERG3Q086SBEA\n",
    "DHCERG3Q086SBEA = get_data(f, \"DHCERG3Q086SBEA\").data[:, [3,4]]\n",
    "DHCERG3Q086SBEA = log_diff_diff(DHCERG3Q086SBEA)\n",
    "println(\"DONE\")"
   ]
  },
  {
   "cell_type": "code",
   "execution_count": 212,
   "metadata": {},
   "outputs": [
    {
     "name": "stdout",
     "output_type": "stream",
     "text": [
      "DONE\n"
     ]
    }
   ],
   "source": [
    "### DMOTRG3Q086SBEA\n",
    "DMOTRG3Q086SBEA = get_data(f, \"DMOTRG3Q086SBEA\").data[:, [3,4]]\n",
    "DMOTRG3Q086SBEA = log_diff_diff(DMOTRG3Q086SBEA)\n",
    "println(\"DONE\")"
   ]
  },
  {
   "cell_type": "code",
   "execution_count": null,
   "metadata": {
    "collapsed": true
   },
   "outputs": [],
   "source": []
  },
  {
   "cell_type": "code",
   "execution_count": 213,
   "metadata": {},
   "outputs": [
    {
     "name": "stdout",
     "output_type": "stream",
     "text": [
      "DONE\n"
     ]
    }
   ],
   "source": [
    "### DFDHRG3Q086SBEA\n",
    "DFDHRG3Q086SBEA = get_data(f, \"DFDHRG3Q086SBEA\").data[:, [3,4]]\n",
    "DFDHRG3Q086SBEA = log_diff_diff(DFDHRG3Q086SBEA)\n",
    "println(\"DONE\")"
   ]
  },
  {
   "cell_type": "code",
   "execution_count": 214,
   "metadata": {},
   "outputs": [
    {
     "name": "stdout",
     "output_type": "stream",
     "text": [
      "DONE\n"
     ]
    }
   ],
   "source": [
    "### DREQRG3Q086SBEA\n",
    "DREQRG3Q086SBEA = get_data(f, \"DREQRG3Q086SBEA\").data[:, [3,4]]\n",
    "DREQRG3Q086SBEA = log_diff_diff(DREQRG3Q086SBEA)\n",
    "println(\"DONE\")"
   ]
  },
  {
   "cell_type": "code",
   "execution_count": 215,
   "metadata": {},
   "outputs": [
    {
     "name": "stdout",
     "output_type": "stream",
     "text": [
      "DONE\n"
     ]
    }
   ],
   "source": [
    "### DODGRG3Q086SBEA\n",
    "DODGRG3Q086SBEA = get_data(f, \"DODGRG3Q086SBEA\").data[:, [3,4]]\n",
    "DODGRG3Q086SBEA = log_diff_diff(DODGRG3Q086SBEA)\n",
    "println(\"DONE\")"
   ]
  },
  {
   "cell_type": "code",
   "execution_count": 216,
   "metadata": {},
   "outputs": [
    {
     "name": "stdout",
     "output_type": "stream",
     "text": [
      "DONE\n"
     ]
    }
   ],
   "source": [
    "### DFXARG3Q086SBEA\n",
    "DFXARG3Q086SBEA = get_data(f, \"DFXARG3Q086SBEA\").data[:, [3,4]]\n",
    "DFXARG3Q086SBEA = log_diff_diff(DFXARG3Q086SBEA)\n",
    "println(\"DONE\")"
   ]
  },
  {
   "cell_type": "code",
   "execution_count": 217,
   "metadata": {},
   "outputs": [
    {
     "name": "stdout",
     "output_type": "stream",
     "text": [
      "DONE\n"
     ]
    }
   ],
   "source": [
    "### DCLORG3Q086SBEA\n",
    "DCLORG3Q086SBEA = get_data(f, \"DCLORG3Q086SBEA\").data[:, [3,4]]\n",
    "DCLORG3Q086SBEA = log_diff_diff(DCLORG3Q086SBEA)\n",
    "println(\"DONE\")"
   ]
  },
  {
   "cell_type": "code",
   "execution_count": 218,
   "metadata": {},
   "outputs": [
    {
     "name": "stdout",
     "output_type": "stream",
     "text": [
      "DONE\n"
     ]
    }
   ],
   "source": [
    "### DGOERG3Q086SBEA\n",
    "DGOERG3Q086SBEA = get_data(f, \"DGOERG3Q086SBEA\").data[:, [3,4]]\n",
    "DGOERG3Q086SBEA = log_diff_diff(DGOERG3Q086SBEA)\n",
    "println(\"DONE\")"
   ]
  },
  {
   "cell_type": "code",
   "execution_count": 219,
   "metadata": {},
   "outputs": [
    {
     "name": "stdout",
     "output_type": "stream",
     "text": [
      "DONE\n"
     ]
    }
   ],
   "source": [
    "### DONGRG3Q086SBEA\n",
    "DONGRG3Q086SBEA = get_data(f, \"DONGRG3Q086SBEA\").data[:, [3,4]]\n",
    "DONGRG3Q086SBEA = log_diff_diff(DONGRG3Q086SBEA)\n",
    "println(\"DONE\")"
   ]
  },
  {
   "cell_type": "code",
   "execution_count": 220,
   "metadata": {},
   "outputs": [
    {
     "name": "stdout",
     "output_type": "stream",
     "text": [
      "DONE\n"
     ]
    }
   ],
   "source": [
    "### DHUTRG3Q086SBEA\n",
    "DHUTRG3Q086SBEA = get_data(f, \"DHUTRG3Q086SBEA\").data[:, [3,4]]\n",
    "DHUTRG3Q086SBEA = log_diff_diff(DHUTRG3Q086SBEA)\n",
    "println(\"DONE\")"
   ]
  },
  {
   "cell_type": "code",
   "execution_count": 221,
   "metadata": {},
   "outputs": [
    {
     "name": "stdout",
     "output_type": "stream",
     "text": [
      "DONE\n"
     ]
    }
   ],
   "source": [
    "### DHLCRG3Q086SBEA\n",
    "DHLCRG3Q086SBEA = get_data(f, \"DHLCRG3Q086SBEA\").data[:, [3,4]]\n",
    "DHLCRG3Q086SBEA = log_diff_diff(DHLCRG3Q086SBEA)\n",
    "println(\"DONE\")"
   ]
  },
  {
   "cell_type": "code",
   "execution_count": 222,
   "metadata": {},
   "outputs": [
    {
     "name": "stdout",
     "output_type": "stream",
     "text": [
      "DONE\n"
     ]
    }
   ],
   "source": [
    "### DTRSRG3Q086SBEA\n",
    "DTRSRG3Q086SBEA = get_data(f, \"DTRSRG3Q086SBEA\").data[:, [3,4]]\n",
    "DTRSRG3Q086SBEA = log_diff_diff(DTRSRG3Q086SBEA)\n",
    "println(\"DONE\")"
   ]
  },
  {
   "cell_type": "code",
   "execution_count": 224,
   "metadata": {},
   "outputs": [
    {
     "name": "stdout",
     "output_type": "stream",
     "text": [
      "DONE\n"
     ]
    }
   ],
   "source": [
    "### DRCARG3Q086SBEA\n",
    "DRCARG3Q086SBEA = get_data(f, \"DRCARG3Q086SBEA\").data[:, [3,4]]\n",
    "DRCARG3Q086SBEA = log_diff_diff(DRCARG3Q086SBEA)\n",
    "println(\"DONE\")"
   ]
  },
  {
   "cell_type": "code",
   "execution_count": 225,
   "metadata": {},
   "outputs": [
    {
     "name": "stdout",
     "output_type": "stream",
     "text": [
      "DONE\n"
     ]
    }
   ],
   "source": [
    "### DFSARG3Q086SBEA\n",
    "DFSARG3Q086SBEA = get_data(f, \"DFSARG3Q086SBEA\").data[:, [3,4]]\n",
    "DFSARG3Q086SBEA = log_diff_diff(DFSARG3Q086SBEA)\n",
    "println(\"DONE\")"
   ]
  },
  {
   "cell_type": "code",
   "execution_count": 226,
   "metadata": {},
   "outputs": [
    {
     "name": "stdout",
     "output_type": "stream",
     "text": [
      "DONE\n"
     ]
    }
   ],
   "source": [
    "### DIFSRG3Q086SBEA\n",
    "DIFSRG3Q086SBEA = get_data(f, \"DIFSRG3Q086SBEA\").data[:, [3,4]]\n",
    "DIFSRG3Q086SBEA = log_diff_diff(DIFSRG3Q086SBEA)\n",
    "println(\"DONE\")"
   ]
  },
  {
   "cell_type": "code",
   "execution_count": 227,
   "metadata": {},
   "outputs": [
    {
     "name": "stdout",
     "output_type": "stream",
     "text": [
      "DONE\n"
     ]
    }
   ],
   "source": [
    "### DOTSRG3Q086SBEA\n",
    "DOTSRG3Q086SBEA = get_data(f, \"DOTSRG3Q086SBEA\").data[:, [3,4]]\n",
    "DOTSRG3Q086SBEA = log_diff_diff(DOTSRG3Q086SBEA)\n",
    "println(\"DONE\")"
   ]
  },
  {
   "cell_type": "code",
   "execution_count": 228,
   "metadata": {},
   "outputs": [
    {
     "name": "stdout",
     "output_type": "stream",
     "text": [
      "DONE\n"
     ]
    }
   ],
   "source": [
    "### CPIAUCSL\n",
    "CPIAUCSL = get_data(f, \"CPIAUCSL\").data[:, [3,4]]\n",
    "CPIAUCSL = log_diff_diff(CPIAUCSL)\n",
    "println(\"DONE\")"
   ]
  },
  {
   "cell_type": "code",
   "execution_count": 230,
   "metadata": {},
   "outputs": [
    {
     "name": "stdout",
     "output_type": "stream",
     "text": [
      "DONE\n"
     ]
    }
   ],
   "source": [
    "### CPILFESL\n",
    "CPILFESL = get_data(f, \"CPILFESL\").data[:, [3,4]]\n",
    "CPILFESL = log_diff_diff(CPILFESL)\n",
    "println(\"DONE\")"
   ]
  },
  {
   "cell_type": "code",
   "execution_count": 232,
   "metadata": {},
   "outputs": [
    {
     "ename": "UndefVarError",
     "evalue": "UndefVarError: warn not defined",
     "output_type": "error",
     "traceback": [
      "UndefVarError: warn not defined",
      "",
      "Stacktrace:",
      " [1] #get_data#3(::Base.Iterators.Pairs{Union{},Union{},Tuple{},NamedTuple{(),Tuple{}}}, ::Function, ::Fred, ::String) at /Users/varit/.julia/packages/FredData/8HrnF/src/get_data.jl:77",
      " [2] get_data(::Fred, ::String) at /Users/varit/.julia/packages/FredData/8HrnF/src/get_data.jl:34",
      " [3] top-level scope at In[232]:1"
     ]
    }
   ],
   "source": [
    "### WPSFD49207\n",
    "WPSFD49207 = get_data(f, \"WPSFD49207\").data[:, [3,4]]\n",
    "WPSFD49207 = log_diff_diff(WPSFD49207)\n",
    "println(\"DONE\")\n"
   ]
  },
  {
   "cell_type": "code",
   "execution_count": 233,
   "metadata": {},
   "outputs": [
    {
     "ename": "UndefVarError",
     "evalue": "UndefVarError: warn not defined",
     "output_type": "error",
     "traceback": [
      "UndefVarError: warn not defined",
      "",
      "Stacktrace:",
      " [1] #get_data#3(::Base.Iterators.Pairs{Union{},Union{},Tuple{},NamedTuple{(),Tuple{}}}, ::Function, ::Fred, ::String) at /Users/varit/.julia/packages/FredData/8HrnF/src/get_data.jl:77",
      " [2] get_data(::Fred, ::String) at /Users/varit/.julia/packages/FredData/8HrnF/src/get_data.jl:34",
      " [3] top-level scope at In[233]:1"
     ]
    }
   ],
   "source": [
    "### PPIACO\n",
    "PPIACO = get_data(f, \"PPIACO\").data[:, [3,4]]\n",
    "PPIACO = log_diff_diff(PPIACO)\n",
    "println(\"DONE\")\n"
   ]
  },
  {
   "cell_type": "code",
   "execution_count": 234,
   "metadata": {},
   "outputs": [
    {
     "ename": "UndefVarError",
     "evalue": "UndefVarError: warn not defined",
     "output_type": "error",
     "traceback": [
      "UndefVarError: warn not defined",
      "",
      "Stacktrace:",
      " [1] #get_data#3(::Base.Iterators.Pairs{Union{},Union{},Tuple{},NamedTuple{(),Tuple{}}}, ::Function, ::Fred, ::String) at /Users/varit/.julia/packages/FredData/8HrnF/src/get_data.jl:77",
      " [2] get_data(::Fred, ::String) at /Users/varit/.julia/packages/FredData/8HrnF/src/get_data.jl:34",
      " [3] top-level scope at In[234]:1"
     ]
    }
   ],
   "source": [
    "### WPSFD49502\n",
    "WPSFD49502 = get_data(f, \"WPSFD49502\").data[:, [3,4]]\n",
    "WPSFD49502 = log_diff_diff(WPSFD49502)\n",
    "println(\"DONE\")"
   ]
  },
  {
   "cell_type": "code",
   "execution_count": 235,
   "metadata": {},
   "outputs": [
    {
     "ename": "UndefVarError",
     "evalue": "UndefVarError: warn not defined",
     "output_type": "error",
     "traceback": [
      "UndefVarError: warn not defined",
      "",
      "Stacktrace:",
      " [1] #get_data#3(::Base.Iterators.Pairs{Union{},Union{},Tuple{},NamedTuple{(),Tuple{}}}, ::Function, ::Fred, ::String) at /Users/varit/.julia/packages/FredData/8HrnF/src/get_data.jl:77",
      " [2] get_data(::Fred, ::String) at /Users/varit/.julia/packages/FredData/8HrnF/src/get_data.jl:34",
      " [3] top-level scope at In[235]:1"
     ]
    }
   ],
   "source": [
    "### WPSFD4111\n",
    "WPSFD4111 = get_data(f, \"WPSFD4111\").data[:, [3,4]]\n",
    "WPSFD4111 = log_diff_diff(WPSFD4111)\n",
    "println(\"DONE\")"
   ]
  },
  {
   "cell_type": "code",
   "execution_count": 237,
   "metadata": {},
   "outputs": [
    {
     "ename": "UndefVarError",
     "evalue": "UndefVarError: warn not defined",
     "output_type": "error",
     "traceback": [
      "UndefVarError: warn not defined",
      "",
      "Stacktrace:",
      " [1] #get_data#3(::Base.Iterators.Pairs{Union{},Union{},Tuple{},NamedTuple{(),Tuple{}}}, ::Function, ::Fred, ::String) at /Users/varit/.julia/packages/FredData/8HrnF/src/get_data.jl:77",
      " [2] get_data(::Fred, ::String) at /Users/varit/.julia/packages/FredData/8HrnF/src/get_data.jl:34",
      " [3] top-level scope at In[237]:1"
     ]
    }
   ],
   "source": [
    "### PPIIDC\n",
    "PPIIDC = get_data(f, \"PPIIDC\").data[:, [3,4]]\n",
    "PPIIDC = log_diff_diff(PPIIDC)\n",
    "println(\"DONE\")"
   ]
  },
  {
   "cell_type": "code",
   "execution_count": 238,
   "metadata": {},
   "outputs": [
    {
     "ename": "UndefVarError",
     "evalue": "UndefVarError: warn not defined",
     "output_type": "error",
     "traceback": [
      "UndefVarError: warn not defined",
      "",
      "Stacktrace:",
      " [1] #get_data#3(::Base.Iterators.Pairs{Union{},Union{},Tuple{},NamedTuple{(),Tuple{}}}, ::Function, ::Fred, ::String) at /Users/varit/.julia/packages/FredData/8HrnF/src/get_data.jl:77",
      " [2] get_data(::Fred, ::String) at /Users/varit/.julia/packages/FredData/8HrnF/src/get_data.jl:34",
      " [3] top-level scope at In[238]:1"
     ]
    }
   ],
   "source": [
    "### WPSID61\n",
    "WPSID61 = get_data(f, \"WPSID61\").data[:, [3,4]]\n",
    "WPSID61 = log_diff_diff(WPSID61)\n",
    "println(\"DONE\")"
   ]
  },
  {
   "cell_type": "code",
   "execution_count": 239,
   "metadata": {},
   "outputs": [
    {
     "ename": "UndefVarError",
     "evalue": "UndefVarError: warn not defined",
     "output_type": "error",
     "traceback": [
      "UndefVarError: warn not defined",
      "",
      "Stacktrace:",
      " [1] #get_data#3(::Base.Iterators.Pairs{Union{},Union{},Tuple{},NamedTuple{(),Tuple{}}}, ::Function, ::Fred, ::String) at /Users/varit/.julia/packages/FredData/8HrnF/src/get_data.jl:77",
      " [2] get_data(::Fred, ::String) at /Users/varit/.julia/packages/FredData/8HrnF/src/get_data.jl:34",
      " [3] top-level scope at In[239]:1"
     ]
    }
   ],
   "source": [
    "### WPU0531\n",
    "WPU0531 = get_data(f, \"WPU0531\").data[:,[3,4]]\n",
    "WPU0531 = log_diff(WPU0531)\n",
    "println(\"DONE\")"
   ]
  },
  {
   "cell_type": "code",
   "execution_count": 240,
   "metadata": {},
   "outputs": [
    {
     "ename": "UndefVarError",
     "evalue": "UndefVarError: warn not defined",
     "output_type": "error",
     "traceback": [
      "UndefVarError: warn not defined",
      "",
      "Stacktrace:",
      " [1] #get_data#3(::Base.Iterators.Pairs{Union{},Union{},Tuple{},NamedTuple{(),Tuple{}}}, ::Function, ::Fred, ::String) at /Users/varit/.julia/packages/FredData/8HrnF/src/get_data.jl:77",
      " [2] get_data(::Fred, ::String) at /Users/varit/.julia/packages/FredData/8HrnF/src/get_data.jl:34",
      " [3] top-level scope at In[240]:1"
     ]
    }
   ],
   "source": [
    "### WPU0561\n",
    "WPU0561 = get_data(f, \"WPU0561\").data[:,[3,4]]\n",
    "WPU0561 = log_diff(WPU0561)\n",
    "println(\"DONE\")"
   ]
  },
  {
   "cell_type": "code",
   "execution_count": 241,
   "metadata": {},
   "outputs": [
    {
     "name": "stdout",
     "output_type": "stream",
     "text": [
      "DONE\n"
     ]
    }
   ],
   "source": [
    "### OILPRICEx\n",
    "OILPRICEx = get_data(f, \"OILPRICE\").data[:,[3,4]]\n",
    "OILPRICEx = log_diff(OILPRICEx)\n",
    "println(\"DONE\")"
   ]
  },
  {
   "cell_type": "code",
   "execution_count": 242,
   "metadata": {},
   "outputs": [
    {
     "ename": "UndefVarError",
     "evalue": "UndefVarError: warn not defined",
     "output_type": "error",
     "traceback": [
      "UndefVarError: warn not defined",
      "",
      "Stacktrace:",
      " [1] #get_data#3(::Base.Iterators.Pairs{Union{},Union{},Tuple{},NamedTuple{(),Tuple{}}}, ::Function, ::Fred, ::String) at /Users/varit/.julia/packages/FredData/8HrnF/src/get_data.jl:77",
      " [2] get_data(::Fred, ::String) at /Users/varit/.julia/packages/FredData/8HrnF/src/get_data.jl:34",
      " [3] top-level scope at In[242]:1"
     ]
    }
   ],
   "source": [
    "### WPSID62\n",
    "WPSID62 = get_data(f, \"WPSID62\").data[:, [3,4]]\n",
    "WPSID62 = log_diff_diff(WPSID62)\n",
    "println(\"DONE\")"
   ]
  },
  {
   "cell_type": "code",
   "execution_count": 243,
   "metadata": {},
   "outputs": [
    {
     "ename": "UndefVarError",
     "evalue": "UndefVarError: warn not defined",
     "output_type": "error",
     "traceback": [
      "UndefVarError: warn not defined",
      "",
      "Stacktrace:",
      " [1] #get_data#3(::Base.Iterators.Pairs{Union{},Union{},Tuple{},NamedTuple{(),Tuple{}}}, ::Function, ::Fred, ::String) at /Users/varit/.julia/packages/FredData/8HrnF/src/get_data.jl:77",
      " [2] get_data(::Fred, ::String) at /Users/varit/.julia/packages/FredData/8HrnF/src/get_data.jl:34",
      " [3] top-level scope at In[243]:1"
     ]
    }
   ],
   "source": [
    "### PPICMM\n",
    "PPICMM = get_data(f, \"PPICMM\").data[:,[3,4]]\n",
    "PPICMM = log_diff_diff(PPICMM)\n",
    "println(\"DONE\")"
   ]
  },
  {
   "cell_type": "code",
   "execution_count": 244,
   "metadata": {},
   "outputs": [
    {
     "ename": "UndefVarError",
     "evalue": "UndefVarError: warn not defined",
     "output_type": "error",
     "traceback": [
      "UndefVarError: warn not defined",
      "",
      "Stacktrace:",
      " [1] #get_data#3(::Base.Iterators.Pairs{Union{},Union{},Tuple{},NamedTuple{(),Tuple{}}}, ::Function, ::Fred, ::String) at /Users/varit/.julia/packages/FredData/8HrnF/src/get_data.jl:77",
      " [2] get_data(::Fred, ::String) at /Users/varit/.julia/packages/FredData/8HrnF/src/get_data.jl:34",
      " [3] top-level scope at In[244]:1"
     ]
    }
   ],
   "source": [
    "### CPIAPPSL\n",
    "CPIAPPSL = get_data(f, \"CPIAPPSL\").data[:,[3,4]]\n",
    "CPIAPPSL = log_diff_diff(CPIAPPSL)\n",
    "println(\"DONE\")"
   ]
  },
  {
   "cell_type": "code",
   "execution_count": 245,
   "metadata": {},
   "outputs": [
    {
     "ename": "UndefVarError",
     "evalue": "UndefVarError: warn not defined",
     "output_type": "error",
     "traceback": [
      "UndefVarError: warn not defined",
      "",
      "Stacktrace:",
      " [1] #get_data#3(::Base.Iterators.Pairs{Union{},Union{},Tuple{},NamedTuple{(),Tuple{}}}, ::Function, ::Fred, ::String) at /Users/varit/.julia/packages/FredData/8HrnF/src/get_data.jl:77",
      " [2] get_data(::Fred, ::String) at /Users/varit/.julia/packages/FredData/8HrnF/src/get_data.jl:34",
      " [3] top-level scope at In[245]:1"
     ]
    }
   ],
   "source": [
    "### CPITRNSL\n",
    "CPITRNSL = get_data(f, \"CPITRNSL\").data[:, [3,4]]\n",
    "CPITRNSL = log_diff_diff(CPITRNSL)\n",
    "println(\"DONE\")"
   ]
  },
  {
   "cell_type": "code",
   "execution_count": 246,
   "metadata": {},
   "outputs": [
    {
     "ename": "UndefVarError",
     "evalue": "UndefVarError: warn not defined",
     "output_type": "error",
     "traceback": [
      "UndefVarError: warn not defined",
      "",
      "Stacktrace:",
      " [1] #get_data#3(::Base.Iterators.Pairs{Union{},Union{},Tuple{},NamedTuple{(),Tuple{}}}, ::Function, ::Fred, ::String) at /Users/varit/.julia/packages/FredData/8HrnF/src/get_data.jl:77",
      " [2] get_data(::Fred, ::String) at /Users/varit/.julia/packages/FredData/8HrnF/src/get_data.jl:34",
      " [3] top-level scope at In[246]:1"
     ]
    }
   ],
   "source": [
    "### CPIMEDSL\n",
    "CPIMEDSL = get_data(f, \"CPIMEDSL\").data[:, [3,4]]\n",
    "CPIMEDSL = log_diff_diff(CPIMEDSL)\n",
    "println(\"DONE\")"
   ]
  },
  {
   "cell_type": "code",
   "execution_count": 247,
   "metadata": {},
   "outputs": [
    {
     "ename": "UndefVarError",
     "evalue": "UndefVarError: warn not defined",
     "output_type": "error",
     "traceback": [
      "UndefVarError: warn not defined",
      "",
      "Stacktrace:",
      " [1] #get_data#3(::Base.Iterators.Pairs{Union{},Union{},Tuple{},NamedTuple{(),Tuple{}}}, ::Function, ::Fred, ::String) at /Users/varit/.julia/packages/FredData/8HrnF/src/get_data.jl:77",
      " [2] get_data(::Fred, ::String) at /Users/varit/.julia/packages/FredData/8HrnF/src/get_data.jl:34",
      " [3] top-level scope at In[247]:1"
     ]
    }
   ],
   "source": [
    "### CUSR0000SAC\n",
    "CUSR0000SAC = get_data(f, \"CUSR0000SAC\").data[:, [3,4]]\n",
    "CUSR0000SAC = log_diff_diff(CUSR0000SAC)\n",
    "println(\"DONE\")"
   ]
  },
  {
   "cell_type": "code",
   "execution_count": 248,
   "metadata": {},
   "outputs": [
    {
     "ename": "UndefVarError",
     "evalue": "UndefVarError: warn not defined",
     "output_type": "error",
     "traceback": [
      "UndefVarError: warn not defined",
      "",
      "Stacktrace:",
      " [1] #get_data#3(::Base.Iterators.Pairs{Union{},Union{},Tuple{},NamedTuple{(),Tuple{}}}, ::Function, ::Fred, ::String) at /Users/varit/.julia/packages/FredData/8HrnF/src/get_data.jl:77",
      " [2] get_data(::Fred, ::String) at /Users/varit/.julia/packages/FredData/8HrnF/src/get_data.jl:34",
      " [3] top-level scope at In[248]:1"
     ]
    }
   ],
   "source": [
    "### CUSR0000SAD\n",
    "CUSR0000SAD = get_data(f, \"CUSR0000SAD\").data[:, [3,4]]\n",
    "CUSR0000SAD = log_diff_diff(CUSR0000SAD)\n",
    "println(\"DONE\")"
   ]
  },
  {
   "cell_type": "code",
   "execution_count": 249,
   "metadata": {},
   "outputs": [
    {
     "ename": "UndefVarError",
     "evalue": "UndefVarError: warn not defined",
     "output_type": "error",
     "traceback": [
      "UndefVarError: warn not defined",
      "",
      "Stacktrace:",
      " [1] #get_data#3(::Base.Iterators.Pairs{Union{},Union{},Tuple{},NamedTuple{(),Tuple{}}}, ::Function, ::Fred, ::String) at /Users/varit/.julia/packages/FredData/8HrnF/src/get_data.jl:77",
      " [2] get_data(::Fred, ::String) at /Users/varit/.julia/packages/FredData/8HrnF/src/get_data.jl:34",
      " [3] top-level scope at In[249]:1"
     ]
    }
   ],
   "source": [
    "### CUSR0000SAS\n",
    "CUSR0000SAS = get_data(f, \"CUSR0000SAS\").data[:, [3,4]]\n",
    "CUSR0000SAS = log_diff_diff(CUSR0000SAS)\n",
    "println(\"DONE\")"
   ]
  },
  {
   "cell_type": "code",
   "execution_count": 250,
   "metadata": {},
   "outputs": [
    {
     "name": "stdout",
     "output_type": "stream",
     "text": [
      "DONE\n"
     ]
    }
   ],
   "source": [
    "### CPIULFSL\n",
    "CPIULFSL = get_data(f, \"CPIULFSL\").data[:, [3,4]]\n",
    "CPIULFSL = log_diff_diff(CPIULFSL)\n",
    "println(\"DONE\")"
   ]
  },
  {
   "cell_type": "code",
   "execution_count": 252,
   "metadata": {},
   "outputs": [
    {
     "ename": "UndefVarError",
     "evalue": "UndefVarError: warn not defined",
     "output_type": "error",
     "traceback": [
      "UndefVarError: warn not defined",
      "",
      "Stacktrace:",
      " [1] #get_data#3(::Base.Iterators.Pairs{Union{},Union{},Tuple{},NamedTuple{(),Tuple{}}}, ::Function, ::Fred, ::String) at /Users/varit/.julia/packages/FredData/8HrnF/src/get_data.jl:77",
      " [2] get_data(::Fred, ::String) at /Users/varit/.julia/packages/FredData/8HrnF/src/get_data.jl:34",
      " [3] top-level scope at In[252]:1"
     ]
    }
   ],
   "source": [
    "### CUSR0000SA0L2\n",
    "CUSR0000SA0L2 = get_data(f, \"CUSR0000SA0L2\").data[:, [3,4]]\n",
    "CUSR0000SA0L2 = log_diff_diff(CUSR0000SA0L2)\n",
    "println(\"DONE\")"
   ]
  },
  {
   "cell_type": "code",
   "execution_count": 253,
   "metadata": {},
   "outputs": [
    {
     "ename": "UndefVarError",
     "evalue": "UndefVarError: warn not defined",
     "output_type": "error",
     "traceback": [
      "UndefVarError: warn not defined",
      "",
      "Stacktrace:",
      " [1] #get_data#3(::Base.Iterators.Pairs{Union{},Union{},Tuple{},NamedTuple{(),Tuple{}}}, ::Function, ::Fred, ::String) at /Users/varit/.julia/packages/FredData/8HrnF/src/get_data.jl:77",
      " [2] get_data(::Fred, ::String) at /Users/varit/.julia/packages/FredData/8HrnF/src/get_data.jl:34",
      " [3] top-level scope at In[253]:1"
     ]
    }
   ],
   "source": [
    "### CUSR0000SA0L5\n",
    "CUSR0000SA0L5 = get_data(f, \"CUSR0000SA0L5\").data[:, [3,4]]\n",
    "CUSR0000SA0L5 = log_diff_diff(CUSR0000SA0L5)\n",
    "println(\"DONE\")"
   ]
  },
  {
   "cell_type": "code",
   "execution_count": 254,
   "metadata": {},
   "outputs": [
    {
     "ename": "UndefVarError",
     "evalue": "UndefVarError: warn not defined",
     "output_type": "error",
     "traceback": [
      "UndefVarError: warn not defined",
      "",
      "Stacktrace:",
      " [1] #get_data#3(::Base.Iterators.Pairs{Union{},Union{},Tuple{},NamedTuple{(),Tuple{}}}, ::Function, ::Fred, ::String) at /Users/varit/.julia/packages/FredData/8HrnF/src/get_data.jl:77",
      " [2] get_data(::Fred, ::String) at /Users/varit/.julia/packages/FredData/8HrnF/src/get_data.jl:34",
      " [3] top-level scope at In[254]:1"
     ]
    }
   ],
   "source": [
    "### CUSR0000SEHC\n",
    "CUSR0000SEHC = get_data(f, \"CUSR0000SEHC\").data[:, [3,4]]\n",
    "CUSR0000SEHC = log_diff_diff(CUSR0000SEHC)\n",
    "println(\"DONE\")"
   ]
  },
  {
   "cell_type": "code",
   "execution_count": 255,
   "metadata": {},
   "outputs": [
    {
     "name": "stdout",
     "output_type": "stream",
     "text": [
      "DONE\n"
     ]
    }
   ],
   "source": [
    "### AHETPIx\n",
    "AHETPIx = get_data(f, \"AHETPI\").data[:,[3,4]]\n",
    "AHETPIx = log_diff(AHETPIx)\n",
    "println(\"DONE\")"
   ]
  },
  {
   "cell_type": "code",
   "execution_count": 256,
   "metadata": {},
   "outputs": [
    {
     "name": "stdout",
     "output_type": "stream",
     "text": [
      "DONE\n"
     ]
    }
   ],
   "source": [
    "### CES2000000008x\n",
    "CES2000000008x = get_data(f, \"CES2000000008\").data[:,[3,4]]\n",
    "CES2000000008x = log_diff(CES2000000008x)\n",
    "println(\"DONE\")"
   ]
  },
  {
   "cell_type": "code",
   "execution_count": null,
   "metadata": {
    "collapsed": true
   },
   "outputs": [],
   "source": []
  },
  {
   "cell_type": "code",
   "execution_count": null,
   "metadata": {
    "collapsed": true
   },
   "outputs": [],
   "source": []
  },
  {
   "cell_type": "code",
   "execution_count": 257,
   "metadata": {},
   "outputs": [
    {
     "name": "stdout",
     "output_type": "stream",
     "text": [
      "DONE\n"
     ]
    }
   ],
   "source": [
    "### CES3000000008x\n",
    "CES3000000008x = get_data(f, \"CES3000000008\").data[:,[3,4]]\n",
    "CES3000000008x = log_diff(CES3000000008x)\n",
    "println(\"DONE\")"
   ]
  },
  {
   "cell_type": "code",
   "execution_count": 258,
   "metadata": {},
   "outputs": [
    {
     "name": "stdout",
     "output_type": "stream",
     "text": [
      "DONE\n"
     ]
    }
   ],
   "source": [
    "### COMPRMS\n",
    "COMPRMS = get_data(f, \"COMPRMS\").data[:,[3,4]]\n",
    "COMPRMS = log_diff(COMPRMS)\n",
    "println(\"DONE\")"
   ]
  },
  {
   "cell_type": "code",
   "execution_count": 260,
   "metadata": {},
   "outputs": [
    {
     "name": "stdout",
     "output_type": "stream",
     "text": [
      "DONE\n"
     ]
    }
   ],
   "source": [
    "### COMPRNFB\n",
    "COMPRNFB = get_data(f, \"COMPRNFB\").data[:,[3,4]]\n",
    "COMPRNFB = log_diff(COMPRNFB)\n",
    "println(\"DONE\")"
   ]
  },
  {
   "cell_type": "code",
   "execution_count": 261,
   "metadata": {},
   "outputs": [
    {
     "ename": "UndefVarError",
     "evalue": "UndefVarError: warn not defined",
     "output_type": "error",
     "traceback": [
      "UndefVarError: warn not defined",
      "",
      "Stacktrace:",
      " [1] #get_data#3(::Base.Iterators.Pairs{Union{},Union{},Tuple{},NamedTuple{(),Tuple{}}}, ::Function, ::Fred, ::String) at /Users/varit/.julia/packages/FredData/8HrnF/src/get_data.jl:77",
      " [2] get_data(::Fred, ::String) at /Users/varit/.julia/packages/FredData/8HrnF/src/get_data.jl:34",
      " [3] top-level scope at In[261]:1"
     ]
    }
   ],
   "source": [
    "### RCPHBS\n",
    "RCPHBS = get_data(f, \"RCPHBS\").data[:,[3,4]]\n",
    "RCPHBS = log_diff(RCPHBS)\n",
    "println(\"DONE\")"
   ]
  },
  {
   "cell_type": "code",
   "execution_count": 262,
   "metadata": {},
   "outputs": [
    {
     "name": "stdout",
     "output_type": "stream",
     "text": [
      "DONE\n"
     ]
    }
   ],
   "source": [
    "## OPHMFG\n",
    "OPHMFG = get_data(f, \"OPHMFG\").data[:,[3,4]]\n",
    "OPHMFG = log_diff(OPHMFG)\n",
    "println(\"DONE\")"
   ]
  },
  {
   "cell_type": "code",
   "execution_count": 263,
   "metadata": {},
   "outputs": [
    {
     "name": "stdout",
     "output_type": "stream",
     "text": [
      "DONE\n"
     ]
    }
   ],
   "source": [
    "### OPHNFB\n",
    "OPHNFB = get_data(f, \"OPHNFB\").data[:,[3,4]]\n",
    "OPHNFB = log_diff(OPHNFB)\n",
    "println(\"DONE\")"
   ]
  },
  {
   "cell_type": "code",
   "execution_count": 264,
   "metadata": {},
   "outputs": [
    {
     "name": "stdout",
     "output_type": "stream",
     "text": [
      "DONE\n"
     ]
    }
   ],
   "source": [
    "### OPHPBS\n",
    "OPHPBS = get_data(f, \"OPHPBS\").data[:,[3,4]]\n",
    "OPHPBS = log_diff(OPHPBS)\n",
    "println(\"DONE\")"
   ]
  },
  {
   "cell_type": "code",
   "execution_count": 265,
   "metadata": {},
   "outputs": [
    {
     "ename": "UndefVarError",
     "evalue": "UndefVarError: warn not defined",
     "output_type": "error",
     "traceback": [
      "UndefVarError: warn not defined",
      "",
      "Stacktrace:",
      " [1] #get_data#3(::Base.Iterators.Pairs{Union{},Union{},Tuple{},NamedTuple{(),Tuple{}}}, ::Function, ::Fred, ::String) at /Users/varit/.julia/packages/FredData/8HrnF/src/get_data.jl:77",
      " [2] get_data(::Fred, ::String) at /Users/varit/.julia/packages/FredData/8HrnF/src/get_data.jl:34",
      " [3] top-level scope at In[265]:1"
     ]
    }
   ],
   "source": [
    "### ULCBS\n",
    "ULCBS = get_data(f, \"ULCBS\").data[:,[3,4]]\n",
    "ULCBS = log_diff(ULCBS)\n",
    "println(\"DONE\")"
   ]
  },
  {
   "cell_type": "code",
   "execution_count": 266,
   "metadata": {},
   "outputs": [
    {
     "name": "stdout",
     "output_type": "stream",
     "text": [
      "DONE\n"
     ]
    }
   ],
   "source": [
    "### ULCMFG\n",
    "ULCMFG = get_data(f, \"ULCMFG\").data[:,[3,4]]\n",
    "ULCMFG = log_diff(ULCMFG)\n",
    "println(\"DONE\")"
   ]
  },
  {
   "cell_type": "code",
   "execution_count": 267,
   "metadata": {},
   "outputs": [
    {
     "name": "stdout",
     "output_type": "stream",
     "text": [
      "DONE\n"
     ]
    }
   ],
   "source": [
    "### ULCNFB\n",
    "ULCNFB = get_data(f, \"ULCNFB\").data[:,[3,4]]\n",
    "ULCNFB = log_diff(ULCNFB)\n",
    "println(\"DONE\")"
   ]
  },
  {
   "cell_type": "code",
   "execution_count": 268,
   "metadata": {},
   "outputs": [
    {
     "ename": "UndefVarError",
     "evalue": "UndefVarError: warn not defined",
     "output_type": "error",
     "traceback": [
      "UndefVarError: warn not defined",
      "",
      "Stacktrace:",
      " [1] #get_data#3(::Base.Iterators.Pairs{Union{},Union{},Tuple{},NamedTuple{(),Tuple{}}}, ::Function, ::Fred, ::String) at /Users/varit/.julia/packages/FredData/8HrnF/src/get_data.jl:77",
      " [2] get_data(::Fred, ::String) at /Users/varit/.julia/packages/FredData/8HrnF/src/get_data.jl:34",
      " [3] top-level scope at In[268]:1"
     ]
    }
   ],
   "source": [
    "### UNLPNBS\n",
    "UNLPNBS = get_data(f, \"UNLPNBS\").data[:,[3,4]]\n",
    "UNLPNBS = log_diff(UNLPNBS)\n",
    "println(\"DONE\")"
   ]
  },
  {
   "cell_type": "code",
   "execution_count": 270,
   "metadata": {},
   "outputs": [
    {
     "name": "stdout",
     "output_type": "stream",
     "text": [
      "DONE\n"
     ]
    }
   ],
   "source": [
    "### CES0600000008\n",
    "CES0600000008 = get_data(f, \"CES0600000008\").data[:, [3,4]]\n",
    "CES0600000008 = log_diff_diff(CES0600000008)\n",
    "println(\"DONE\")"
   ]
  },
  {
   "cell_type": "code",
   "execution_count": 272,
   "metadata": {},
   "outputs": [
    {
     "name": "stdout",
     "output_type": "stream",
     "text": [
      "DONE\n"
     ]
    }
   ],
   "source": [
    "### FEDFUNDS\n",
    "FEDFUNDS = get_data(f, \"FEDFUNDS\").data[:, [3,4]]\n",
    "FEDFUNDS = diff_ts(FEDFUNDS)\n",
    "println(\"DONE\")"
   ]
  },
  {
   "cell_type": "code",
   "execution_count": 273,
   "metadata": {},
   "outputs": [
    {
     "name": "stdout",
     "output_type": "stream",
     "text": [
      "DONE\n"
     ]
    }
   ],
   "source": [
    "### TB3MS\n",
    "TB3MS = get_data(f, \"TB3MS\").data[:, [3,4]]\n",
    "TB3MS = diff_ts(TB3MS)\n",
    "println(\"DONE\")"
   ]
  },
  {
   "cell_type": "code",
   "execution_count": 274,
   "metadata": {},
   "outputs": [
    {
     "name": "stdout",
     "output_type": "stream",
     "text": [
      "DONE\n"
     ]
    }
   ],
   "source": [
    "### TB6MS\n",
    "TB6MS = get_data(f, \"TB6MS\").data[:, [3,4]]\n",
    "TB6MS = diff_ts(TB6MS)\n",
    "println(\"DONE\")"
   ]
  },
  {
   "cell_type": "code",
   "execution_count": 275,
   "metadata": {},
   "outputs": [
    {
     "name": "stdout",
     "output_type": "stream",
     "text": [
      "DONE\n"
     ]
    }
   ],
   "source": [
    "### GS1\n",
    "GS1 = get_data(f, \"GS1\").data[:, [3,4]]\n",
    "GS1 = diff_ts(GS1)\n",
    "println(\"DONE\")"
   ]
  },
  {
   "cell_type": "code",
   "execution_count": 277,
   "metadata": {},
   "outputs": [
    {
     "name": "stdout",
     "output_type": "stream",
     "text": [
      "DONE\n"
     ]
    }
   ],
   "source": [
    "### GS10\n",
    "GS10 = get_data(f, \"GS10\").data[:, [3,4]]\n",
    "GS10 = diff_ts(GS10)\n",
    "println(\"DONE\")"
   ]
  },
  {
   "cell_type": "code",
   "execution_count": 278,
   "metadata": {},
   "outputs": [
    {
     "name": "stdout",
     "output_type": "stream",
     "text": [
      "DONE\n"
     ]
    }
   ],
   "source": [
    "### MORTGAGE30US\n",
    "MORTGAGE30US = get_data(f, \"MORTGAGE30US\").data[:, [3,4]]\n",
    "MORTGAGE30US = diff_ts(MORTGAGE30US)\n",
    "println(\"DONE\")"
   ]
  },
  {
   "cell_type": "code",
   "execution_count": 280,
   "metadata": {},
   "outputs": [
    {
     "name": "stdout",
     "output_type": "stream",
     "text": [
      "DONE\n"
     ]
    }
   ],
   "source": [
    "### AAA\n",
    "AAA = get_data(f, \"AAA\").data[:, [3,4]]\n",
    "AAA = diff_ts(AAA)\n",
    "println(\"DONE\")"
   ]
  },
  {
   "cell_type": "code",
   "execution_count": 281,
   "metadata": {},
   "outputs": [
    {
     "name": "stdout",
     "output_type": "stream",
     "text": [
      "DONE\n"
     ]
    }
   ],
   "source": [
    "### BAA\n",
    "BAA = get_data(f, \"BAA\").data[:, [3,4]]\n",
    "BAA = diff_ts(BAA)\n",
    "println(\"DONE\")"
   ]
  },
  {
   "cell_type": "code",
   "execution_count": 282,
   "metadata": {},
   "outputs": [
    {
     "name": "stdout",
     "output_type": "stream",
     "text": [
      "DONE\n"
     ]
    }
   ],
   "source": [
    "### BAA10YM\n",
    "BAA10YM = get_data(f, \"BAA10YM\").data[:, [3,4]]\n",
    "println(\"DONE\")"
   ]
  },
  {
   "cell_type": "code",
   "execution_count": 286,
   "metadata": {},
   "outputs": [
    {
     "ename": "HTTP.ExceptionRequest.StatusError",
     "evalue": "HTTP.ExceptionRequest.StatusError(400, \"GET\", \"/fred/series/observations?api_key=266c597cbf3d25f366b082b4bf5161fe&series_id=MORTG10YRx&file_type=json\", HTTP.Messages.Response:\n\"\"\"\nHTTP/1.1 400 Bad Request\r\nContent-Type: application/json; charset=UTF-8\r\nContent-Length: 77\r\nServer: Apache\r\nVary: User-Agent\r\nDate: Thu, 27 Jun 2019 02:51:42 GMT\r\nConnection: keep-alive\r\n\r\n{\"error_code\":400,\"error_message\":\"Bad Request.  The series does not exist.\"}\"\"\")",
     "output_type": "error",
     "traceback": [
      "HTTP.ExceptionRequest.StatusError(400, \"GET\", \"/fred/series/observations?api_key=266c597cbf3d25f366b082b4bf5161fe&series_id=MORTG10YRx&file_type=json\", HTTP.Messages.Response:\n\"\"\"\nHTTP/1.1 400 Bad Request\r\nContent-Type: application/json; charset=UTF-8\r\nContent-Length: 77\r\nServer: Apache\r\nVary: User-Agent\r\nDate: Thu, 27 Jun 2019 02:51:42 GMT\r\nConnection: keep-alive\r\n\r\n{\"error_code\":400,\"error_message\":\"Bad Request.  The series does not exist.\"}\"\"\")",
      "",
      "Stacktrace:",
      " [1] #request#1(::Base.Iterators.Pairs{Symbol,Nothing,Tuple{Symbol},NamedTuple{(:iofunction,),Tuple{Nothing}}}, ::Function, ::Type{HTTP.ExceptionRequest.ExceptionLayer{HTTP.ConnectionRequest.ConnectionPoolLayer{HTTP.StreamRequest.StreamLayer}}}, ::HTTP.URIs.URI, ::Vararg{Any,N} where N) at /Users/varit/.julia/packages/HTTP/wY7Vc/src/ExceptionRequest.jl:22",
      " [2] (::getfield(HTTP, Symbol(\"#kw##request\")))(::NamedTuple{(:iofunction,),Tuple{Nothing}}, ::typeof(HTTP.request), ::Type{HTTP.ExceptionRequest.ExceptionLayer{HTTP.ConnectionRequest.ConnectionPoolLayer{HTTP.StreamRequest.StreamLayer}}}, ::HTTP.URIs.URI, ::HTTP.Messages.Request, ::Array{UInt8,1}) at ./none:0",
      " [3] (::getfield(Base, Symbol(\"###48#49#50\")){ExponentialBackOff,getfield(HTTP.RetryRequest, Symbol(\"##2#3\")){Bool,HTTP.Messages.Request},typeof(HTTP.request)})(::Base.Iterators.Pairs{Symbol,Nothing,Tuple{Symbol},NamedTuple{(:iofunction,),Tuple{Nothing}}}, ::Function, ::Type, ::Vararg{Any,N} where N) at ./error.jl:231",
      " [4] ##48#51 at ./none:0 [inlined]",
      " [5] #request#1 at /Users/varit/.julia/packages/HTTP/wY7Vc/src/RetryRequest.jl:44 [inlined]",
      " [6] #request at ./none:0 [inlined]",
      " [7] #request#1(::VersionNumber, ::String, ::Nothing, ::Nothing, ::Base.Iterators.Pairs{Union{},Union{},Tuple{},NamedTuple{(),Tuple{}}}, ::Function, ::Type{HTTP.MessageRequest.MessageLayer{HTTP.RetryRequest.RetryLayer{HTTP.ExceptionRequest.ExceptionLayer{HTTP.ConnectionRequest.ConnectionPoolLayer{HTTP.StreamRequest.StreamLayer}}}}}, ::String, ::HTTP.URIs.URI, ::Array{Pair{SubString{String},SubString{String}},1}, ::Array{UInt8,1}) at /Users/varit/.julia/packages/HTTP/wY7Vc/src/MessageRequest.jl:47",
      " [8] request at /Users/varit/.julia/packages/HTTP/wY7Vc/src/MessageRequest.jl:28 [inlined]",
      " [9] #request#1(::Int64, ::Bool, ::Base.Iterators.Pairs{Union{},Union{},Tuple{},NamedTuple{(),Tuple{}}}, ::Function, ::Type{HTTP.RedirectRequest.RedirectLayer{HTTP.MessageRequest.MessageLayer{HTTP.RetryRequest.RetryLayer{HTTP.ExceptionRequest.ExceptionLayer{HTTP.ConnectionRequest.ConnectionPoolLayer{HTTP.StreamRequest.StreamLayer}}}}}}, ::String, ::HTTP.URIs.URI, ::Array{Pair{SubString{String},SubString{String}},1}, ::Array{UInt8,1}) at /Users/varit/.julia/packages/HTTP/wY7Vc/src/RedirectRequest.jl:24",
      " [10] request(::Type{HTTP.RedirectRequest.RedirectLayer{HTTP.MessageRequest.MessageLayer{HTTP.RetryRequest.RetryLayer{HTTP.ExceptionRequest.ExceptionLayer{HTTP.ConnectionRequest.ConnectionPoolLayer{HTTP.StreamRequest.StreamLayer}}}}}}, ::String, ::HTTP.URIs.URI, ::Array{Pair{SubString{String},SubString{String}},1}, ::Array{UInt8,1}) at /Users/varit/.julia/packages/HTTP/wY7Vc/src/RedirectRequest.jl:21",
      " [11] #request#5(::Base.Iterators.Pairs{Union{},Union{},Tuple{},NamedTuple{(),Tuple{}}}, ::Function, ::String, ::HTTP.URIs.URI, ::Array{Pair{SubString{String},SubString{String}},1}, ::Array{UInt8,1}) at /Users/varit/.julia/packages/HTTP/wY7Vc/src/HTTP.jl:300",
      " [12] request at /Users/varit/.julia/packages/HTTP/wY7Vc/src/HTTP.jl:300 [inlined]",
      " [13] #request#6 at /Users/varit/.julia/packages/HTTP/wY7Vc/src/HTTP.jl:314 [inlined]",
      " [14] #request at ./none:0 [inlined] (repeats 2 times)",
      " [15] #get_data#3(::Base.Iterators.Pairs{Union{},Union{},Tuple{},NamedTuple{(),Tuple{}}}, ::Function, ::Fred, ::String) at /Users/varit/.julia/packages/FredData/8HrnF/src/get_data.jl:52",
      " [16] get_data(::Fred, ::String) at /Users/varit/.julia/packages/FredData/8HrnF/src/get_data.jl:34",
      " [17] top-level scope at In[286]:1"
     ]
    }
   ],
   "source": [
    "### MORTG10YRx\n",
    "MORTG10YRx = get_data(f, \"MORTG10YRx\").data[:, [3,4]]\n",
    "println(\"DONE\")"
   ]
  },
  {
   "cell_type": "code",
   "execution_count": 289,
   "metadata": {},
   "outputs": [
    {
     "ename": "HTTP.ExceptionRequest.StatusError",
     "evalue": "HTTP.ExceptionRequest.StatusError(400, \"GET\", \"/fred/series/observations?api_key=266c597cbf3d25f366b082b4bf5161fe&series_id=TB6M3Mx&file_type=json\", HTTP.Messages.Response:\n\"\"\"\nHTTP/1.1 400 Bad Request\r\nContent-Type: application/json; charset=UTF-8\r\nContent-Length: 77\r\nServer: Apache\r\nVary: User-Agent\r\nDate: Thu, 27 Jun 2019 02:52:12 GMT\r\nConnection: keep-alive\r\n\r\n{\"error_code\":400,\"error_message\":\"Bad Request.  The series does not exist.\"}\"\"\")",
     "output_type": "error",
     "traceback": [
      "HTTP.ExceptionRequest.StatusError(400, \"GET\", \"/fred/series/observations?api_key=266c597cbf3d25f366b082b4bf5161fe&series_id=TB6M3Mx&file_type=json\", HTTP.Messages.Response:\n\"\"\"\nHTTP/1.1 400 Bad Request\r\nContent-Type: application/json; charset=UTF-8\r\nContent-Length: 77\r\nServer: Apache\r\nVary: User-Agent\r\nDate: Thu, 27 Jun 2019 02:52:12 GMT\r\nConnection: keep-alive\r\n\r\n{\"error_code\":400,\"error_message\":\"Bad Request.  The series does not exist.\"}\"\"\")",
      "",
      "Stacktrace:",
      " [1] #request#1(::Base.Iterators.Pairs{Symbol,Nothing,Tuple{Symbol},NamedTuple{(:iofunction,),Tuple{Nothing}}}, ::Function, ::Type{HTTP.ExceptionRequest.ExceptionLayer{HTTP.ConnectionRequest.ConnectionPoolLayer{HTTP.StreamRequest.StreamLayer}}}, ::HTTP.URIs.URI, ::Vararg{Any,N} where N) at /Users/varit/.julia/packages/HTTP/wY7Vc/src/ExceptionRequest.jl:22",
      " [2] (::getfield(HTTP, Symbol(\"#kw##request\")))(::NamedTuple{(:iofunction,),Tuple{Nothing}}, ::typeof(HTTP.request), ::Type{HTTP.ExceptionRequest.ExceptionLayer{HTTP.ConnectionRequest.ConnectionPoolLayer{HTTP.StreamRequest.StreamLayer}}}, ::HTTP.URIs.URI, ::HTTP.Messages.Request, ::Array{UInt8,1}) at ./none:0",
      " [3] (::getfield(Base, Symbol(\"###48#49#50\")){ExponentialBackOff,getfield(HTTP.RetryRequest, Symbol(\"##2#3\")){Bool,HTTP.Messages.Request},typeof(HTTP.request)})(::Base.Iterators.Pairs{Symbol,Nothing,Tuple{Symbol},NamedTuple{(:iofunction,),Tuple{Nothing}}}, ::Function, ::Type, ::Vararg{Any,N} where N) at ./error.jl:231",
      " [4] ##48#51 at ./none:0 [inlined]",
      " [5] #request#1 at /Users/varit/.julia/packages/HTTP/wY7Vc/src/RetryRequest.jl:44 [inlined]",
      " [6] #request at ./none:0 [inlined]",
      " [7] #request#1(::VersionNumber, ::String, ::Nothing, ::Nothing, ::Base.Iterators.Pairs{Union{},Union{},Tuple{},NamedTuple{(),Tuple{}}}, ::Function, ::Type{HTTP.MessageRequest.MessageLayer{HTTP.RetryRequest.RetryLayer{HTTP.ExceptionRequest.ExceptionLayer{HTTP.ConnectionRequest.ConnectionPoolLayer{HTTP.StreamRequest.StreamLayer}}}}}, ::String, ::HTTP.URIs.URI, ::Array{Pair{SubString{String},SubString{String}},1}, ::Array{UInt8,1}) at /Users/varit/.julia/packages/HTTP/wY7Vc/src/MessageRequest.jl:47",
      " [8] request at /Users/varit/.julia/packages/HTTP/wY7Vc/src/MessageRequest.jl:28 [inlined]",
      " [9] #request#1(::Int64, ::Bool, ::Base.Iterators.Pairs{Union{},Union{},Tuple{},NamedTuple{(),Tuple{}}}, ::Function, ::Type{HTTP.RedirectRequest.RedirectLayer{HTTP.MessageRequest.MessageLayer{HTTP.RetryRequest.RetryLayer{HTTP.ExceptionRequest.ExceptionLayer{HTTP.ConnectionRequest.ConnectionPoolLayer{HTTP.StreamRequest.StreamLayer}}}}}}, ::String, ::HTTP.URIs.URI, ::Array{Pair{SubString{String},SubString{String}},1}, ::Array{UInt8,1}) at /Users/varit/.julia/packages/HTTP/wY7Vc/src/RedirectRequest.jl:24",
      " [10] request(::Type{HTTP.RedirectRequest.RedirectLayer{HTTP.MessageRequest.MessageLayer{HTTP.RetryRequest.RetryLayer{HTTP.ExceptionRequest.ExceptionLayer{HTTP.ConnectionRequest.ConnectionPoolLayer{HTTP.StreamRequest.StreamLayer}}}}}}, ::String, ::HTTP.URIs.URI, ::Array{Pair{SubString{String},SubString{String}},1}, ::Array{UInt8,1}) at /Users/varit/.julia/packages/HTTP/wY7Vc/src/RedirectRequest.jl:21",
      " [11] #request#5(::Base.Iterators.Pairs{Union{},Union{},Tuple{},NamedTuple{(),Tuple{}}}, ::Function, ::String, ::HTTP.URIs.URI, ::Array{Pair{SubString{String},SubString{String}},1}, ::Array{UInt8,1}) at /Users/varit/.julia/packages/HTTP/wY7Vc/src/HTTP.jl:300",
      " [12] request at /Users/varit/.julia/packages/HTTP/wY7Vc/src/HTTP.jl:300 [inlined]",
      " [13] #request#6 at /Users/varit/.julia/packages/HTTP/wY7Vc/src/HTTP.jl:314 [inlined]",
      " [14] #request at ./none:0 [inlined] (repeats 2 times)",
      " [15] #get_data#3(::Base.Iterators.Pairs{Union{},Union{},Tuple{},NamedTuple{(),Tuple{}}}, ::Function, ::Fred, ::String) at /Users/varit/.julia/packages/FredData/8HrnF/src/get_data.jl:52",
      " [16] get_data(::Fred, ::String) at /Users/varit/.julia/packages/FredData/8HrnF/src/get_data.jl:34",
      " [17] top-level scope at In[289]:1"
     ]
    }
   ],
   "source": [
    "### TB6M3Mx\n",
    "TB6M3Mx = get_data(f, \"TB6M3Mx\").data[:, [3,4]]\n",
    "println(\"DOEN\")"
   ]
  },
  {
   "cell_type": "code",
   "execution_count": 292,
   "metadata": {},
   "outputs": [
    {
     "ename": "HTTP.ExceptionRequest.StatusError",
     "evalue": "HTTP.ExceptionRequest.StatusError(400, \"GET\", \"/fred/series/observations?api_key=266c597cbf3d25f366b082b4bf5161fe&series_id=GS1TB3Mx&file_type=json\", HTTP.Messages.Response:\n\"\"\"\nHTTP/1.1 400 Bad Request\r\nContent-Type: application/json; charset=UTF-8\r\nContent-Length: 77\r\nServer: Apache\r\nVary: User-Agent\r\nDate: Thu, 27 Jun 2019 02:52:48 GMT\r\nConnection: keep-alive\r\n\r\n{\"error_code\":400,\"error_message\":\"Bad Request.  The series does not exist.\"}\"\"\")",
     "output_type": "error",
     "traceback": [
      "HTTP.ExceptionRequest.StatusError(400, \"GET\", \"/fred/series/observations?api_key=266c597cbf3d25f366b082b4bf5161fe&series_id=GS1TB3Mx&file_type=json\", HTTP.Messages.Response:\n\"\"\"\nHTTP/1.1 400 Bad Request\r\nContent-Type: application/json; charset=UTF-8\r\nContent-Length: 77\r\nServer: Apache\r\nVary: User-Agent\r\nDate: Thu, 27 Jun 2019 02:52:48 GMT\r\nConnection: keep-alive\r\n\r\n{\"error_code\":400,\"error_message\":\"Bad Request.  The series does not exist.\"}\"\"\")",
      "",
      "Stacktrace:",
      " [1] #request#1(::Base.Iterators.Pairs{Symbol,Nothing,Tuple{Symbol},NamedTuple{(:iofunction,),Tuple{Nothing}}}, ::Function, ::Type{HTTP.ExceptionRequest.ExceptionLayer{HTTP.ConnectionRequest.ConnectionPoolLayer{HTTP.StreamRequest.StreamLayer}}}, ::HTTP.URIs.URI, ::Vararg{Any,N} where N) at /Users/varit/.julia/packages/HTTP/wY7Vc/src/ExceptionRequest.jl:22",
      " [2] (::getfield(HTTP, Symbol(\"#kw##request\")))(::NamedTuple{(:iofunction,),Tuple{Nothing}}, ::typeof(HTTP.request), ::Type{HTTP.ExceptionRequest.ExceptionLayer{HTTP.ConnectionRequest.ConnectionPoolLayer{HTTP.StreamRequest.StreamLayer}}}, ::HTTP.URIs.URI, ::HTTP.Messages.Request, ::Array{UInt8,1}) at ./none:0",
      " [3] (::getfield(Base, Symbol(\"###48#49#50\")){ExponentialBackOff,getfield(HTTP.RetryRequest, Symbol(\"##2#3\")){Bool,HTTP.Messages.Request},typeof(HTTP.request)})(::Base.Iterators.Pairs{Symbol,Nothing,Tuple{Symbol},NamedTuple{(:iofunction,),Tuple{Nothing}}}, ::Function, ::Type, ::Vararg{Any,N} where N) at ./error.jl:231",
      " [4] ##48#51 at ./none:0 [inlined]",
      " [5] #request#1 at /Users/varit/.julia/packages/HTTP/wY7Vc/src/RetryRequest.jl:44 [inlined]",
      " [6] #request at ./none:0 [inlined]",
      " [7] #request#1(::VersionNumber, ::String, ::Nothing, ::Nothing, ::Base.Iterators.Pairs{Union{},Union{},Tuple{},NamedTuple{(),Tuple{}}}, ::Function, ::Type{HTTP.MessageRequest.MessageLayer{HTTP.RetryRequest.RetryLayer{HTTP.ExceptionRequest.ExceptionLayer{HTTP.ConnectionRequest.ConnectionPoolLayer{HTTP.StreamRequest.StreamLayer}}}}}, ::String, ::HTTP.URIs.URI, ::Array{Pair{SubString{String},SubString{String}},1}, ::Array{UInt8,1}) at /Users/varit/.julia/packages/HTTP/wY7Vc/src/MessageRequest.jl:47",
      " [8] request at /Users/varit/.julia/packages/HTTP/wY7Vc/src/MessageRequest.jl:28 [inlined]",
      " [9] #request#1(::Int64, ::Bool, ::Base.Iterators.Pairs{Union{},Union{},Tuple{},NamedTuple{(),Tuple{}}}, ::Function, ::Type{HTTP.RedirectRequest.RedirectLayer{HTTP.MessageRequest.MessageLayer{HTTP.RetryRequest.RetryLayer{HTTP.ExceptionRequest.ExceptionLayer{HTTP.ConnectionRequest.ConnectionPoolLayer{HTTP.StreamRequest.StreamLayer}}}}}}, ::String, ::HTTP.URIs.URI, ::Array{Pair{SubString{String},SubString{String}},1}, ::Array{UInt8,1}) at /Users/varit/.julia/packages/HTTP/wY7Vc/src/RedirectRequest.jl:24",
      " [10] request(::Type{HTTP.RedirectRequest.RedirectLayer{HTTP.MessageRequest.MessageLayer{HTTP.RetryRequest.RetryLayer{HTTP.ExceptionRequest.ExceptionLayer{HTTP.ConnectionRequest.ConnectionPoolLayer{HTTP.StreamRequest.StreamLayer}}}}}}, ::String, ::HTTP.URIs.URI, ::Array{Pair{SubString{String},SubString{String}},1}, ::Array{UInt8,1}) at /Users/varit/.julia/packages/HTTP/wY7Vc/src/RedirectRequest.jl:21",
      " [11] #request#5(::Base.Iterators.Pairs{Union{},Union{},Tuple{},NamedTuple{(),Tuple{}}}, ::Function, ::String, ::HTTP.URIs.URI, ::Array{Pair{SubString{String},SubString{String}},1}, ::Array{UInt8,1}) at /Users/varit/.julia/packages/HTTP/wY7Vc/src/HTTP.jl:300",
      " [12] request at /Users/varit/.julia/packages/HTTP/wY7Vc/src/HTTP.jl:300 [inlined]",
      " [13] #request#6 at /Users/varit/.julia/packages/HTTP/wY7Vc/src/HTTP.jl:314 [inlined]",
      " [14] #request at ./none:0 [inlined] (repeats 2 times)",
      " [15] #get_data#3(::Base.Iterators.Pairs{Union{},Union{},Tuple{},NamedTuple{(),Tuple{}}}, ::Function, ::Fred, ::String) at /Users/varit/.julia/packages/FredData/8HrnF/src/get_data.jl:52",
      " [16] get_data(::Fred, ::String) at /Users/varit/.julia/packages/FredData/8HrnF/src/get_data.jl:34",
      " [17] top-level scope at In[292]:1"
     ]
    }
   ],
   "source": [
    "### GS1TB3Mx\n",
    "GS1TB3Mx = get_data(f, \"GS1TB3Mx\").data[:, [3,4]]\n",
    "println(\"DONE\")"
   ]
  },
  {
   "cell_type": "code",
   "execution_count": 294,
   "metadata": {},
   "outputs": [
    {
     "ename": "HTTP.ExceptionRequest.StatusError",
     "evalue": "HTTP.ExceptionRequest.StatusError(400, \"GET\", \"/fred/series/observations?api_key=266c597cbf3d25f366b082b4bf5161fe&series_id=GS10TB3Mx&file_type=json\", HTTP.Messages.Response:\n\"\"\"\nHTTP/1.1 400 Bad Request\r\nContent-Type: application/json; charset=UTF-8\r\nContent-Length: 77\r\nServer: Apache\r\nVary: User-Agent\r\nDate: Thu, 27 Jun 2019 02:53:21 GMT\r\nConnection: keep-alive\r\n\r\n{\"error_code\":400,\"error_message\":\"Bad Request.  The series does not exist.\"}\"\"\")",
     "output_type": "error",
     "traceback": [
      "HTTP.ExceptionRequest.StatusError(400, \"GET\", \"/fred/series/observations?api_key=266c597cbf3d25f366b082b4bf5161fe&series_id=GS10TB3Mx&file_type=json\", HTTP.Messages.Response:\n\"\"\"\nHTTP/1.1 400 Bad Request\r\nContent-Type: application/json; charset=UTF-8\r\nContent-Length: 77\r\nServer: Apache\r\nVary: User-Agent\r\nDate: Thu, 27 Jun 2019 02:53:21 GMT\r\nConnection: keep-alive\r\n\r\n{\"error_code\":400,\"error_message\":\"Bad Request.  The series does not exist.\"}\"\"\")",
      "",
      "Stacktrace:",
      " [1] #request#1(::Base.Iterators.Pairs{Symbol,Nothing,Tuple{Symbol},NamedTuple{(:iofunction,),Tuple{Nothing}}}, ::Function, ::Type{HTTP.ExceptionRequest.ExceptionLayer{HTTP.ConnectionRequest.ConnectionPoolLayer{HTTP.StreamRequest.StreamLayer}}}, ::HTTP.URIs.URI, ::Vararg{Any,N} where N) at /Users/varit/.julia/packages/HTTP/wY7Vc/src/ExceptionRequest.jl:22",
      " [2] (::getfield(HTTP, Symbol(\"#kw##request\")))(::NamedTuple{(:iofunction,),Tuple{Nothing}}, ::typeof(HTTP.request), ::Type{HTTP.ExceptionRequest.ExceptionLayer{HTTP.ConnectionRequest.ConnectionPoolLayer{HTTP.StreamRequest.StreamLayer}}}, ::HTTP.URIs.URI, ::HTTP.Messages.Request, ::Array{UInt8,1}) at ./none:0",
      " [3] (::getfield(Base, Symbol(\"###48#49#50\")){ExponentialBackOff,getfield(HTTP.RetryRequest, Symbol(\"##2#3\")){Bool,HTTP.Messages.Request},typeof(HTTP.request)})(::Base.Iterators.Pairs{Symbol,Nothing,Tuple{Symbol},NamedTuple{(:iofunction,),Tuple{Nothing}}}, ::Function, ::Type, ::Vararg{Any,N} where N) at ./error.jl:231",
      " [4] ##48#51 at ./none:0 [inlined]",
      " [5] #request#1 at /Users/varit/.julia/packages/HTTP/wY7Vc/src/RetryRequest.jl:44 [inlined]",
      " [6] #request at ./none:0 [inlined]",
      " [7] #request#1(::VersionNumber, ::String, ::Nothing, ::Nothing, ::Base.Iterators.Pairs{Union{},Union{},Tuple{},NamedTuple{(),Tuple{}}}, ::Function, ::Type{HTTP.MessageRequest.MessageLayer{HTTP.RetryRequest.RetryLayer{HTTP.ExceptionRequest.ExceptionLayer{HTTP.ConnectionRequest.ConnectionPoolLayer{HTTP.StreamRequest.StreamLayer}}}}}, ::String, ::HTTP.URIs.URI, ::Array{Pair{SubString{String},SubString{String}},1}, ::Array{UInt8,1}) at /Users/varit/.julia/packages/HTTP/wY7Vc/src/MessageRequest.jl:47",
      " [8] request at /Users/varit/.julia/packages/HTTP/wY7Vc/src/MessageRequest.jl:28 [inlined]",
      " [9] #request#1(::Int64, ::Bool, ::Base.Iterators.Pairs{Union{},Union{},Tuple{},NamedTuple{(),Tuple{}}}, ::Function, ::Type{HTTP.RedirectRequest.RedirectLayer{HTTP.MessageRequest.MessageLayer{HTTP.RetryRequest.RetryLayer{HTTP.ExceptionRequest.ExceptionLayer{HTTP.ConnectionRequest.ConnectionPoolLayer{HTTP.StreamRequest.StreamLayer}}}}}}, ::String, ::HTTP.URIs.URI, ::Array{Pair{SubString{String},SubString{String}},1}, ::Array{UInt8,1}) at /Users/varit/.julia/packages/HTTP/wY7Vc/src/RedirectRequest.jl:24",
      " [10] request(::Type{HTTP.RedirectRequest.RedirectLayer{HTTP.MessageRequest.MessageLayer{HTTP.RetryRequest.RetryLayer{HTTP.ExceptionRequest.ExceptionLayer{HTTP.ConnectionRequest.ConnectionPoolLayer{HTTP.StreamRequest.StreamLayer}}}}}}, ::String, ::HTTP.URIs.URI, ::Array{Pair{SubString{String},SubString{String}},1}, ::Array{UInt8,1}) at /Users/varit/.julia/packages/HTTP/wY7Vc/src/RedirectRequest.jl:21",
      " [11] #request#5(::Base.Iterators.Pairs{Union{},Union{},Tuple{},NamedTuple{(),Tuple{}}}, ::Function, ::String, ::HTTP.URIs.URI, ::Array{Pair{SubString{String},SubString{String}},1}, ::Array{UInt8,1}) at /Users/varit/.julia/packages/HTTP/wY7Vc/src/HTTP.jl:300",
      " [12] request at /Users/varit/.julia/packages/HTTP/wY7Vc/src/HTTP.jl:300 [inlined]",
      " [13] #request#6 at /Users/varit/.julia/packages/HTTP/wY7Vc/src/HTTP.jl:314 [inlined]",
      " [14] #request at ./none:0 [inlined] (repeats 2 times)",
      " [15] #get_data#3(::Base.Iterators.Pairs{Union{},Union{},Tuple{},NamedTuple{(),Tuple{}}}, ::Function, ::Fred, ::String) at /Users/varit/.julia/packages/FredData/8HrnF/src/get_data.jl:52",
      " [16] get_data(::Fred, ::String) at /Users/varit/.julia/packages/FredData/8HrnF/src/get_data.jl:34",
      " [17] top-level scope at In[294]:1"
     ]
    }
   ],
   "source": [
    "### GS10TB3Mx\n",
    "GS10TB3Mx = get_data(f, \"GS10TB3Mx\").data[:, [3,4]]\n",
    "println(\"DONE\")"
   ]
  },
  {
   "cell_type": "code",
   "execution_count": 295,
   "metadata": {},
   "outputs": [
    {
     "ename": "HTTP.ExceptionRequest.StatusError",
     "evalue": "HTTP.ExceptionRequest.StatusError(400, \"GET\", \"/fred/series/observations?api_key=266c597cbf3d25f366b082b4bf5161fe&series_id=CPF3MTB3Mx&file_type=json\", HTTP.Messages.Response:\n\"\"\"\nHTTP/1.1 400 Bad Request\r\nContent-Type: application/json; charset=UTF-8\r\nContent-Length: 77\r\nServer: Apache\r\nVary: User-Agent\r\nDate: Thu, 27 Jun 2019 02:53:45 GMT\r\nConnection: keep-alive\r\n\r\n{\"error_code\":400,\"error_message\":\"Bad Request.  The series does not exist.\"}\"\"\")",
     "output_type": "error",
     "traceback": [
      "HTTP.ExceptionRequest.StatusError(400, \"GET\", \"/fred/series/observations?api_key=266c597cbf3d25f366b082b4bf5161fe&series_id=CPF3MTB3Mx&file_type=json\", HTTP.Messages.Response:\n\"\"\"\nHTTP/1.1 400 Bad Request\r\nContent-Type: application/json; charset=UTF-8\r\nContent-Length: 77\r\nServer: Apache\r\nVary: User-Agent\r\nDate: Thu, 27 Jun 2019 02:53:45 GMT\r\nConnection: keep-alive\r\n\r\n{\"error_code\":400,\"error_message\":\"Bad Request.  The series does not exist.\"}\"\"\")",
      "",
      "Stacktrace:",
      " [1] #request#1(::Base.Iterators.Pairs{Symbol,Nothing,Tuple{Symbol},NamedTuple{(:iofunction,),Tuple{Nothing}}}, ::Function, ::Type{HTTP.ExceptionRequest.ExceptionLayer{HTTP.ConnectionRequest.ConnectionPoolLayer{HTTP.StreamRequest.StreamLayer}}}, ::HTTP.URIs.URI, ::Vararg{Any,N} where N) at /Users/varit/.julia/packages/HTTP/wY7Vc/src/ExceptionRequest.jl:22",
      " [2] (::getfield(HTTP, Symbol(\"#kw##request\")))(::NamedTuple{(:iofunction,),Tuple{Nothing}}, ::typeof(HTTP.request), ::Type{HTTP.ExceptionRequest.ExceptionLayer{HTTP.ConnectionRequest.ConnectionPoolLayer{HTTP.StreamRequest.StreamLayer}}}, ::HTTP.URIs.URI, ::HTTP.Messages.Request, ::Array{UInt8,1}) at ./none:0",
      " [3] (::getfield(Base, Symbol(\"###48#49#50\")){ExponentialBackOff,getfield(HTTP.RetryRequest, Symbol(\"##2#3\")){Bool,HTTP.Messages.Request},typeof(HTTP.request)})(::Base.Iterators.Pairs{Symbol,Nothing,Tuple{Symbol},NamedTuple{(:iofunction,),Tuple{Nothing}}}, ::Function, ::Type, ::Vararg{Any,N} where N) at ./error.jl:231",
      " [4] ##48#51 at ./none:0 [inlined]",
      " [5] #request#1 at /Users/varit/.julia/packages/HTTP/wY7Vc/src/RetryRequest.jl:44 [inlined]",
      " [6] #request at ./none:0 [inlined]",
      " [7] #request#1(::VersionNumber, ::String, ::Nothing, ::Nothing, ::Base.Iterators.Pairs{Union{},Union{},Tuple{},NamedTuple{(),Tuple{}}}, ::Function, ::Type{HTTP.MessageRequest.MessageLayer{HTTP.RetryRequest.RetryLayer{HTTP.ExceptionRequest.ExceptionLayer{HTTP.ConnectionRequest.ConnectionPoolLayer{HTTP.StreamRequest.StreamLayer}}}}}, ::String, ::HTTP.URIs.URI, ::Array{Pair{SubString{String},SubString{String}},1}, ::Array{UInt8,1}) at /Users/varit/.julia/packages/HTTP/wY7Vc/src/MessageRequest.jl:47",
      " [8] request at /Users/varit/.julia/packages/HTTP/wY7Vc/src/MessageRequest.jl:28 [inlined]",
      " [9] #request#1(::Int64, ::Bool, ::Base.Iterators.Pairs{Union{},Union{},Tuple{},NamedTuple{(),Tuple{}}}, ::Function, ::Type{HTTP.RedirectRequest.RedirectLayer{HTTP.MessageRequest.MessageLayer{HTTP.RetryRequest.RetryLayer{HTTP.ExceptionRequest.ExceptionLayer{HTTP.ConnectionRequest.ConnectionPoolLayer{HTTP.StreamRequest.StreamLayer}}}}}}, ::String, ::HTTP.URIs.URI, ::Array{Pair{SubString{String},SubString{String}},1}, ::Array{UInt8,1}) at /Users/varit/.julia/packages/HTTP/wY7Vc/src/RedirectRequest.jl:24",
      " [10] request(::Type{HTTP.RedirectRequest.RedirectLayer{HTTP.MessageRequest.MessageLayer{HTTP.RetryRequest.RetryLayer{HTTP.ExceptionRequest.ExceptionLayer{HTTP.ConnectionRequest.ConnectionPoolLayer{HTTP.StreamRequest.StreamLayer}}}}}}, ::String, ::HTTP.URIs.URI, ::Array{Pair{SubString{String},SubString{String}},1}, ::Array{UInt8,1}) at /Users/varit/.julia/packages/HTTP/wY7Vc/src/RedirectRequest.jl:21",
      " [11] #request#5(::Base.Iterators.Pairs{Union{},Union{},Tuple{},NamedTuple{(),Tuple{}}}, ::Function, ::String, ::HTTP.URIs.URI, ::Array{Pair{SubString{String},SubString{String}},1}, ::Array{UInt8,1}) at /Users/varit/.julia/packages/HTTP/wY7Vc/src/HTTP.jl:300",
      " [12] request at /Users/varit/.julia/packages/HTTP/wY7Vc/src/HTTP.jl:300 [inlined]",
      " [13] #request#6 at /Users/varit/.julia/packages/HTTP/wY7Vc/src/HTTP.jl:314 [inlined]",
      " [14] #request at ./none:0 [inlined] (repeats 2 times)",
      " [15] #get_data#3(::Base.Iterators.Pairs{Union{},Union{},Tuple{},NamedTuple{(),Tuple{}}}, ::Function, ::Fred, ::String) at /Users/varit/.julia/packages/FredData/8HrnF/src/get_data.jl:52",
      " [16] get_data(::Fred, ::String) at /Users/varit/.julia/packages/FredData/8HrnF/src/get_data.jl:34",
      " [17] top-level scope at In[295]:1"
     ]
    }
   ],
   "source": [
    "### CPF3MTB3Mx\n",
    "CPF3MTB3Mx = get_data(f, \"CPF3MTB3Mx\").data[:, [3,4]]\n",
    "println(\"DONE\")"
   ]
  },
  {
   "cell_type": "code",
   "execution_count": 297,
   "metadata": {},
   "outputs": [
    {
     "name": "stdout",
     "output_type": "stream",
     "text": [
      "DONE\n"
     ]
    }
   ],
   "source": [
    "### GS5\n",
    "GS5 = get_data(f, \"GS5\").data[:, [3,4]]\n",
    "GS5 = diff_ts(GS5)\n",
    "println(\"DONE\")"
   ]
  },
  {
   "cell_type": "code",
   "execution_count": 298,
   "metadata": {},
   "outputs": [
    {
     "name": "stdout",
     "output_type": "stream",
     "text": [
      "DONE\n"
     ]
    }
   ],
   "source": [
    "### TB3SMFFM\n",
    "TB3SMFFM = get_data(f, \"TB3SMFFM\").data[:, [3,4]]\n",
    "println(\"DONE\")"
   ]
  },
  {
   "cell_type": "code",
   "execution_count": 299,
   "metadata": {},
   "outputs": [
    {
     "name": "stdout",
     "output_type": "stream",
     "text": [
      "DONE\n"
     ]
    }
   ],
   "source": [
    "### T5YFFM\n",
    "T5YFFM = get_data(f, \"T5YFFM\").data[:, [3,4]]\n",
    "println(\"DONE\")"
   ]
  },
  {
   "cell_type": "code",
   "execution_count": 300,
   "metadata": {},
   "outputs": [
    {
     "name": "stdout",
     "output_type": "stream",
     "text": [
      "DONE\n"
     ]
    }
   ],
   "source": [
    "### AAAFFM\n",
    "AAAFFM = get_data(f, \"AAAFFM\").data[:, [3,4]]\n",
    "println(\"DONE\")"
   ]
  },
  {
   "cell_type": "code",
   "execution_count": 301,
   "metadata": {},
   "outputs": [
    {
     "name": "stdout",
     "output_type": "stream",
     "text": [
      "DONE\n"
     ]
    }
   ],
   "source": [
    "### CP3M\n",
    "CP3M = get_data(f, \"CP3M\").data[:, [3,4]]\n",
    "CP3M = diff_ts(CP3M)\n",
    "println(\"DONE\")"
   ]
  },
  {
   "cell_type": "code",
   "execution_count": 302,
   "metadata": {},
   "outputs": [
    {
     "ename": "HTTP.ExceptionRequest.StatusError",
     "evalue": "HTTP.ExceptionRequest.StatusError(400, \"GET\", \"/fred/series/observations?api_key=266c597cbf3d25f366b082b4bf5161fe&series_id=COMPAPFF&file_type=json\", HTTP.Messages.Response:\n\"\"\"\nHTTP/1.1 400 Bad Request\r\nContent-Type: application/json; charset=UTF-8\r\nContent-Length: 77\r\nServer: Apache\r\nVary: User-Agent\r\nDate: Thu, 27 Jun 2019 02:56:44 GMT\r\nConnection: keep-alive\r\n\r\n{\"error_code\":400,\"error_message\":\"Bad Request.  The series does not exist.\"}\"\"\")",
     "output_type": "error",
     "traceback": [
      "HTTP.ExceptionRequest.StatusError(400, \"GET\", \"/fred/series/observations?api_key=266c597cbf3d25f366b082b4bf5161fe&series_id=COMPAPFF&file_type=json\", HTTP.Messages.Response:\n\"\"\"\nHTTP/1.1 400 Bad Request\r\nContent-Type: application/json; charset=UTF-8\r\nContent-Length: 77\r\nServer: Apache\r\nVary: User-Agent\r\nDate: Thu, 27 Jun 2019 02:56:44 GMT\r\nConnection: keep-alive\r\n\r\n{\"error_code\":400,\"error_message\":\"Bad Request.  The series does not exist.\"}\"\"\")",
      "",
      "Stacktrace:",
      " [1] #request#1(::Base.Iterators.Pairs{Symbol,Nothing,Tuple{Symbol},NamedTuple{(:iofunction,),Tuple{Nothing}}}, ::Function, ::Type{HTTP.ExceptionRequest.ExceptionLayer{HTTP.ConnectionRequest.ConnectionPoolLayer{HTTP.StreamRequest.StreamLayer}}}, ::HTTP.URIs.URI, ::Vararg{Any,N} where N) at /Users/varit/.julia/packages/HTTP/wY7Vc/src/ExceptionRequest.jl:22",
      " [2] (::getfield(HTTP, Symbol(\"#kw##request\")))(::NamedTuple{(:iofunction,),Tuple{Nothing}}, ::typeof(HTTP.request), ::Type{HTTP.ExceptionRequest.ExceptionLayer{HTTP.ConnectionRequest.ConnectionPoolLayer{HTTP.StreamRequest.StreamLayer}}}, ::HTTP.URIs.URI, ::HTTP.Messages.Request, ::Array{UInt8,1}) at ./none:0",
      " [3] (::getfield(Base, Symbol(\"###48#49#50\")){ExponentialBackOff,getfield(HTTP.RetryRequest, Symbol(\"##2#3\")){Bool,HTTP.Messages.Request},typeof(HTTP.request)})(::Base.Iterators.Pairs{Symbol,Nothing,Tuple{Symbol},NamedTuple{(:iofunction,),Tuple{Nothing}}}, ::Function, ::Type, ::Vararg{Any,N} where N) at ./error.jl:231",
      " [4] ##48#51 at ./none:0 [inlined]",
      " [5] #request#1 at /Users/varit/.julia/packages/HTTP/wY7Vc/src/RetryRequest.jl:44 [inlined]",
      " [6] #request at ./none:0 [inlined]",
      " [7] #request#1(::VersionNumber, ::String, ::Nothing, ::Nothing, ::Base.Iterators.Pairs{Union{},Union{},Tuple{},NamedTuple{(),Tuple{}}}, ::Function, ::Type{HTTP.MessageRequest.MessageLayer{HTTP.RetryRequest.RetryLayer{HTTP.ExceptionRequest.ExceptionLayer{HTTP.ConnectionRequest.ConnectionPoolLayer{HTTP.StreamRequest.StreamLayer}}}}}, ::String, ::HTTP.URIs.URI, ::Array{Pair{SubString{String},SubString{String}},1}, ::Array{UInt8,1}) at /Users/varit/.julia/packages/HTTP/wY7Vc/src/MessageRequest.jl:47",
      " [8] request at /Users/varit/.julia/packages/HTTP/wY7Vc/src/MessageRequest.jl:28 [inlined]",
      " [9] #request#1(::Int64, ::Bool, ::Base.Iterators.Pairs{Union{},Union{},Tuple{},NamedTuple{(),Tuple{}}}, ::Function, ::Type{HTTP.RedirectRequest.RedirectLayer{HTTP.MessageRequest.MessageLayer{HTTP.RetryRequest.RetryLayer{HTTP.ExceptionRequest.ExceptionLayer{HTTP.ConnectionRequest.ConnectionPoolLayer{HTTP.StreamRequest.StreamLayer}}}}}}, ::String, ::HTTP.URIs.URI, ::Array{Pair{SubString{String},SubString{String}},1}, ::Array{UInt8,1}) at /Users/varit/.julia/packages/HTTP/wY7Vc/src/RedirectRequest.jl:24",
      " [10] request(::Type{HTTP.RedirectRequest.RedirectLayer{HTTP.MessageRequest.MessageLayer{HTTP.RetryRequest.RetryLayer{HTTP.ExceptionRequest.ExceptionLayer{HTTP.ConnectionRequest.ConnectionPoolLayer{HTTP.StreamRequest.StreamLayer}}}}}}, ::String, ::HTTP.URIs.URI, ::Array{Pair{SubString{String},SubString{String}},1}, ::Array{UInt8,1}) at /Users/varit/.julia/packages/HTTP/wY7Vc/src/RedirectRequest.jl:21",
      " [11] #request#5(::Base.Iterators.Pairs{Union{},Union{},Tuple{},NamedTuple{(),Tuple{}}}, ::Function, ::String, ::HTTP.URIs.URI, ::Array{Pair{SubString{String},SubString{String}},1}, ::Array{UInt8,1}) at /Users/varit/.julia/packages/HTTP/wY7Vc/src/HTTP.jl:300",
      " [12] request at /Users/varit/.julia/packages/HTTP/wY7Vc/src/HTTP.jl:300 [inlined]",
      " [13] #request#6 at /Users/varit/.julia/packages/HTTP/wY7Vc/src/HTTP.jl:314 [inlined]",
      " [14] #request at ./none:0 [inlined] (repeats 2 times)",
      " [15] #get_data#3(::Base.Iterators.Pairs{Union{},Union{},Tuple{},NamedTuple{(),Tuple{}}}, ::Function, ::Fred, ::String) at /Users/varit/.julia/packages/FredData/8HrnF/src/get_data.jl:52",
      " [16] get_data(::Fred, ::String) at /Users/varit/.julia/packages/FredData/8HrnF/src/get_data.jl:34",
      " [17] top-level scope at In[302]:1"
     ]
    }
   ],
   "source": [
    "### COMPAPFF\n",
    "COMPAPFF = get_data(f, \"COMPAPFF\").data[:, [3,4]]\n",
    "println(\"DONE\")"
   ]
  },
  {
   "cell_type": "code",
   "execution_count": 41,
   "metadata": {},
   "outputs": [
    {
     "name": "stdout",
     "output_type": "stream",
     "text": [
      "DONE\n"
     ]
    }
   ],
   "source": [
    "### AMBSLREAL\n",
    "AMBSLREAL = get_data(f, \"AMBSLREAL\").data[:,[3,4]]\n",
    "\n",
    "# Transform\n",
    "temp = zeros(length(AMBSLREAL[:,1]))\n",
    "for i in 1:length(AMBSLREAL[:,1])\n",
    "    temp[i] = log(AMBSLREAL[i,2])\n",
    "end\n",
    "diff_array = diff(temp)\n",
    "for i in 1:length(AMBSLREAL[:,1])-1\n",
    "    AMBSLREAL[i,2] = diff_array[i]\n",
    "end\n",
    "AMBSLREAL[length(AMBSLREAL[:,1]),2] = NaN\n",
    "AMBSLREAL[:,2] = replace(AMBSLREAL[:,2], NaN => missing)\n",
    "println(\"DONE\")"
   ]
  },
  {
   "cell_type": "code",
   "execution_count": 303,
   "metadata": {},
   "outputs": [
    {
     "name": "stdout",
     "output_type": "stream",
     "text": [
      "DONE\n"
     ]
    }
   ],
   "source": [
    "### IMFSLx\n",
    "IMFSLx = get_data(f, \"IMFSL\").data[:,[3,4]]\n",
    "IMFSLx = log_diff(IMFSLx)\n",
    "println(\"DONE\")"
   ]
  },
  {
   "cell_type": "code",
   "execution_count": 304,
   "metadata": {},
   "outputs": [
    {
     "name": "stdout",
     "output_type": "stream",
     "text": [
      "DONE\n"
     ]
    }
   ],
   "source": [
    "### M1REAL\n",
    "M1REAL = get_data(f, \"M1REAL\").data[:,[3,4]]\n",
    "M1REAL = log_diff(M1REAL)\n",
    "println(\"DONE\")"
   ]
  },
  {
   "cell_type": "code",
   "execution_count": 305,
   "metadata": {},
   "outputs": [
    {
     "name": "stdout",
     "output_type": "stream",
     "text": [
      "DONE\n"
     ]
    }
   ],
   "source": [
    "### M2REAL\n",
    "M2REAL = get_data(f, \"M2REAL\").data[:,[3,4]]\n",
    "M2REAL = log_diff(M2REAL)\n",
    "println(\"DONE\")"
   ]
  },
  {
   "cell_type": "code",
   "execution_count": 306,
   "metadata": {},
   "outputs": [
    {
     "name": "stdout",
     "output_type": "stream",
     "text": [
      "DONE\n"
     ]
    }
   ],
   "source": [
    "### MZMREAL\n",
    "MZMREAL = get_data(f, \"MZMREAL\").data[:,[3,4]]\n",
    "MZMREAL = log_diff(MZMREAL)\n",
    "println(\"DONE\")"
   ]
  },
  {
   "cell_type": "code",
   "execution_count": 307,
   "metadata": {},
   "outputs": [
    {
     "name": "stdout",
     "output_type": "stream",
     "text": [
      "DONE\n"
     ]
    }
   ],
   "source": [
    "### BUSLOANSx\n",
    "BUSLOANSx = get_data(f, \"BUSLOANS\").data[:,[3,4]]\n",
    "BUSLOANSx = log_diff(BUSLOANSx)\n",
    "println(\"DONE\")"
   ]
  },
  {
   "cell_type": "code",
   "execution_count": null,
   "metadata": {
    "collapsed": true
   },
   "outputs": [],
   "source": []
  },
  {
   "cell_type": "code",
   "execution_count": 308,
   "metadata": {},
   "outputs": [
    {
     "name": "stdout",
     "output_type": "stream",
     "text": [
      "DONE\n"
     ]
    }
   ],
   "source": [
    "### CONSUMERx\n",
    "CONSUMERx = get_data(f, \"CONSUMER\").data[:,[3,4]]\n",
    "CONSUMERx = log_diff(CONSUMERx)\n",
    "println(\"DONE\")"
   ]
  },
  {
   "cell_type": "code",
   "execution_count": 310,
   "metadata": {},
   "outputs": [
    {
     "name": "stdout",
     "output_type": "stream",
     "text": [
      "DONE\n"
     ]
    }
   ],
   "source": [
    "### NONREVSLx\n",
    "NONREVSLx = get_data(f, \"NONREVSL\").data[:,[3,4]]\n",
    "NONREVSLx = log_diff(NONREVSLx)\n",
    "println(\"DONE\")"
   ]
  },
  {
   "cell_type": "code",
   "execution_count": 313,
   "metadata": {},
   "outputs": [
    {
     "name": "stdout",
     "output_type": "stream",
     "text": [
      "DONE\n"
     ]
    }
   ],
   "source": [
    "### REALLNx\n",
    "REALLNx = get_data(f, \"REALLN\").data[:,[3,4]]\n",
    "REALLNx = log_diff(REALLNx)\n",
    "println(\"DONE\")"
   ]
  },
  {
   "cell_type": "code",
   "execution_count": 315,
   "metadata": {},
   "outputs": [
    {
     "name": "stdout",
     "output_type": "stream",
     "text": [
      "DONE\n"
     ]
    }
   ],
   "source": [
    "### REVOLSLx\n",
    "REVOLSLx = get_data(f, \"REVOLSL\").data[:,[3,4]]\n",
    "REVOLSLx = log_diff(REVOLSLx)\n",
    "println(\"DONE\")"
   ]
  },
  {
   "cell_type": "code",
   "execution_count": 318,
   "metadata": {},
   "outputs": [
    {
     "name": "stdout",
     "output_type": "stream",
     "text": [
      "DONE\n"
     ]
    }
   ],
   "source": [
    "### TOTALSLx\n",
    "TOTALSLx = get_data(f, \"TOTALSL\").data[:,[3,4]]\n",
    "TOTALSLx = log_diff(TOTALSLx)\n",
    "println(\"DONE\")"
   ]
  },
  {
   "cell_type": "code",
   "execution_count": 320,
   "metadata": {},
   "outputs": [
    {
     "name": "stdout",
     "output_type": "stream",
     "text": [
      "DONE\n"
     ]
    }
   ],
   "source": [
    "### DRIWCIL\n",
    "DRIWCIL = get_data(f, \"DRIWCIL\").data[:, [3,4]]\n",
    "println(\"DONE\")"
   ]
  },
  {
   "cell_type": "code",
   "execution_count": 321,
   "metadata": {},
   "outputs": [
    {
     "name": "stdout",
     "output_type": "stream",
     "text": [
      "DONE\n"
     ]
    }
   ],
   "source": [
    "### TOTRESNS\n",
    "TOTRESNS = get_data(f, \"TOTRESNS\").data[:, [3,4]]\n",
    "TOTRESNS = log_diff_diff(TOTRESNS)\n",
    "println(\"DONE\")"
   ]
  },
  {
   "cell_type": "code",
   "execution_count": null,
   "metadata": {
    "collapsed": true
   },
   "outputs": [],
   "source": [
    "### NONBORRES"
   ]
  },
  {
   "cell_type": "code",
   "execution_count": 322,
   "metadata": {},
   "outputs": [
    {
     "name": "stdout",
     "output_type": "stream",
     "text": [
      "DONE\n"
     ]
    }
   ],
   "source": [
    "### DTCOLNVHFNM\n",
    "DTCOLNVHFNM = get_data(f, \"DTCOLNVHFNM\").data[:, [3,4]]\n",
    "DTCOLNVHFNM = log_diff_diff(DTCOLNVHFNM)\n",
    "println(\"DONE\")"
   ]
  },
  {
   "cell_type": "code",
   "execution_count": 323,
   "metadata": {},
   "outputs": [
    {
     "name": "stdout",
     "output_type": "stream",
     "text": [
      "DONE\n"
     ]
    }
   ],
   "source": [
    "### DTCTHFNM\n",
    "DTCTHFNM = get_data(f, \"DTCTHFNM\").data[:, [3,4]]\n",
    "DTCTHFNM = log_diff_diff(DTCTHFNM)\n",
    "println(\"DONE\")"
   ]
  },
  {
   "cell_type": "code",
   "execution_count": 324,
   "metadata": {},
   "outputs": [
    {
     "name": "stdout",
     "output_type": "stream",
     "text": [
      "DONE\n"
     ]
    }
   ],
   "source": [
    "### INVEST\n",
    "INVEST = get_data(f, \"INVEST\").data[:, [3,4]]\n",
    "INVEST = log_diff_diff(INVEST)\n",
    "println(\"DONE\")"
   ]
  },
  {
   "cell_type": "code",
   "execution_count": 326,
   "metadata": {},
   "outputs": [
    {
     "name": "stdout",
     "output_type": "stream",
     "text": [
      "DONE\n"
     ]
    }
   ],
   "source": [
    "### TABSHNOx\n",
    "TABSHNOx = get_data(f, \"TABSHNO\").data[:,[3,4]]\n",
    "TABSHNOx = log_diff(TABSHNOx)\n",
    "println(\"DONE\")"
   ]
  },
  {
   "cell_type": "code",
   "execution_count": 328,
   "metadata": {},
   "outputs": [
    {
     "name": "stdout",
     "output_type": "stream",
     "text": [
      "DONE\n"
     ]
    }
   ],
   "source": [
    "### TLBSHNOx\n",
    "TLBSHNOx = get_data(f, \"TLBSHNO\").data[:,[3,4]]\n",
    "TLBSHNOx = log_diff(TLBSHNOx)\n",
    "println(\"DONE\")"
   ]
  },
  {
   "cell_type": "code",
   "execution_count": 331,
   "metadata": {},
   "outputs": [
    {
     "ename": "HTTP.ExceptionRequest.StatusError",
     "evalue": "HTTP.ExceptionRequest.StatusError(400, \"GET\", \"/fred/series/observations?api_key=266c597cbf3d25f366b082b4bf5161fe&series_id=LIABPIx&file_type=json\", HTTP.Messages.Response:\n\"\"\"\nHTTP/1.1 400 Bad Request\r\nContent-Type: application/json; charset=UTF-8\r\nContent-Length: 77\r\nServer: Apache\r\nVary: User-Agent\r\nDate: Thu, 27 Jun 2019 03:04:26 GMT\r\nConnection: keep-alive\r\n\r\n{\"error_code\":400,\"error_message\":\"Bad Request.  The series does not exist.\"}\"\"\")",
     "output_type": "error",
     "traceback": [
      "HTTP.ExceptionRequest.StatusError(400, \"GET\", \"/fred/series/observations?api_key=266c597cbf3d25f366b082b4bf5161fe&series_id=LIABPIx&file_type=json\", HTTP.Messages.Response:\n\"\"\"\nHTTP/1.1 400 Bad Request\r\nContent-Type: application/json; charset=UTF-8\r\nContent-Length: 77\r\nServer: Apache\r\nVary: User-Agent\r\nDate: Thu, 27 Jun 2019 03:04:26 GMT\r\nConnection: keep-alive\r\n\r\n{\"error_code\":400,\"error_message\":\"Bad Request.  The series does not exist.\"}\"\"\")",
      "",
      "Stacktrace:",
      " [1] #request#1(::Base.Iterators.Pairs{Symbol,Nothing,Tuple{Symbol},NamedTuple{(:iofunction,),Tuple{Nothing}}}, ::Function, ::Type{HTTP.ExceptionRequest.ExceptionLayer{HTTP.ConnectionRequest.ConnectionPoolLayer{HTTP.StreamRequest.StreamLayer}}}, ::HTTP.URIs.URI, ::Vararg{Any,N} where N) at /Users/varit/.julia/packages/HTTP/wY7Vc/src/ExceptionRequest.jl:22",
      " [2] (::getfield(HTTP, Symbol(\"#kw##request\")))(::NamedTuple{(:iofunction,),Tuple{Nothing}}, ::typeof(HTTP.request), ::Type{HTTP.ExceptionRequest.ExceptionLayer{HTTP.ConnectionRequest.ConnectionPoolLayer{HTTP.StreamRequest.StreamLayer}}}, ::HTTP.URIs.URI, ::HTTP.Messages.Request, ::Array{UInt8,1}) at ./none:0",
      " [3] (::getfield(Base, Symbol(\"###48#49#50\")){ExponentialBackOff,getfield(HTTP.RetryRequest, Symbol(\"##2#3\")){Bool,HTTP.Messages.Request},typeof(HTTP.request)})(::Base.Iterators.Pairs{Symbol,Nothing,Tuple{Symbol},NamedTuple{(:iofunction,),Tuple{Nothing}}}, ::Function, ::Type, ::Vararg{Any,N} where N) at ./error.jl:231",
      " [4] ##48#51 at ./none:0 [inlined]",
      " [5] #request#1 at /Users/varit/.julia/packages/HTTP/wY7Vc/src/RetryRequest.jl:44 [inlined]",
      " [6] #request at ./none:0 [inlined]",
      " [7] #request#1(::VersionNumber, ::String, ::Nothing, ::Nothing, ::Base.Iterators.Pairs{Union{},Union{},Tuple{},NamedTuple{(),Tuple{}}}, ::Function, ::Type{HTTP.MessageRequest.MessageLayer{HTTP.RetryRequest.RetryLayer{HTTP.ExceptionRequest.ExceptionLayer{HTTP.ConnectionRequest.ConnectionPoolLayer{HTTP.StreamRequest.StreamLayer}}}}}, ::String, ::HTTP.URIs.URI, ::Array{Pair{SubString{String},SubString{String}},1}, ::Array{UInt8,1}) at /Users/varit/.julia/packages/HTTP/wY7Vc/src/MessageRequest.jl:47",
      " [8] request at /Users/varit/.julia/packages/HTTP/wY7Vc/src/MessageRequest.jl:28 [inlined]",
      " [9] #request#1(::Int64, ::Bool, ::Base.Iterators.Pairs{Union{},Union{},Tuple{},NamedTuple{(),Tuple{}}}, ::Function, ::Type{HTTP.RedirectRequest.RedirectLayer{HTTP.MessageRequest.MessageLayer{HTTP.RetryRequest.RetryLayer{HTTP.ExceptionRequest.ExceptionLayer{HTTP.ConnectionRequest.ConnectionPoolLayer{HTTP.StreamRequest.StreamLayer}}}}}}, ::String, ::HTTP.URIs.URI, ::Array{Pair{SubString{String},SubString{String}},1}, ::Array{UInt8,1}) at /Users/varit/.julia/packages/HTTP/wY7Vc/src/RedirectRequest.jl:24",
      " [10] request(::Type{HTTP.RedirectRequest.RedirectLayer{HTTP.MessageRequest.MessageLayer{HTTP.RetryRequest.RetryLayer{HTTP.ExceptionRequest.ExceptionLayer{HTTP.ConnectionRequest.ConnectionPoolLayer{HTTP.StreamRequest.StreamLayer}}}}}}, ::String, ::HTTP.URIs.URI, ::Array{Pair{SubString{String},SubString{String}},1}, ::Array{UInt8,1}) at /Users/varit/.julia/packages/HTTP/wY7Vc/src/RedirectRequest.jl:21",
      " [11] #request#5(::Base.Iterators.Pairs{Union{},Union{},Tuple{},NamedTuple{(),Tuple{}}}, ::Function, ::String, ::HTTP.URIs.URI, ::Array{Pair{SubString{String},SubString{String}},1}, ::Array{UInt8,1}) at /Users/varit/.julia/packages/HTTP/wY7Vc/src/HTTP.jl:300",
      " [12] request at /Users/varit/.julia/packages/HTTP/wY7Vc/src/HTTP.jl:300 [inlined]",
      " [13] #request#6 at /Users/varit/.julia/packages/HTTP/wY7Vc/src/HTTP.jl:314 [inlined]",
      " [14] #request at ./none:0 [inlined] (repeats 2 times)",
      " [15] #get_data#3(::Base.Iterators.Pairs{Union{},Union{},Tuple{},NamedTuple{(),Tuple{}}}, ::Function, ::Fred, ::String) at /Users/varit/.julia/packages/FredData/8HrnF/src/get_data.jl:52",
      " [16] get_data(::Fred, ::String) at /Users/varit/.julia/packages/FredData/8HrnF/src/get_data.jl:34",
      " [17] top-level scope at In[331]:1"
     ]
    }
   ],
   "source": [
    "### LIABPIx\n",
    "LIABPIx = get_data(f, \"LIABPIx\").data[:,[3,4]]\n",
    "LIABPIx = log_diff(LIABPIx)\n",
    "println(\"DONE\")"
   ]
  },
  {
   "cell_type": "code",
   "execution_count": 333,
   "metadata": {},
   "outputs": [
    {
     "name": "stdout",
     "output_type": "stream",
     "text": [
      "DONE\n"
     ]
    }
   ],
   "source": [
    "### TNWBSHNOx\n",
    "TNWBSHNOx = get_data(f, \"TNWBSHNO\").data[:,[3,4]]\n",
    "TNWBSHNOx = log_diff(TNWBSHNOx)\n",
    "println(\"DONE\")"
   ]
  },
  {
   "cell_type": "code",
   "execution_count": 336,
   "metadata": {},
   "outputs": [
    {
     "ename": "HTTP.ExceptionRequest.StatusError",
     "evalue": "HTTP.ExceptionRequest.StatusError(400, \"GET\", \"/fred/series/observations?api_key=266c597cbf3d25f366b082b4bf5161fe&series_id=NWPIx&file_type=json\", HTTP.Messages.Response:\n\"\"\"\nHTTP/1.1 400 Bad Request\r\nContent-Type: application/json; charset=UTF-8\r\nContent-Length: 77\r\nServer: Apache\r\nVary: User-Agent\r\nDate: Thu, 27 Jun 2019 03:05:24 GMT\r\nConnection: keep-alive\r\n\r\n{\"error_code\":400,\"error_message\":\"Bad Request.  The series does not exist.\"}\"\"\")",
     "output_type": "error",
     "traceback": [
      "HTTP.ExceptionRequest.StatusError(400, \"GET\", \"/fred/series/observations?api_key=266c597cbf3d25f366b082b4bf5161fe&series_id=NWPIx&file_type=json\", HTTP.Messages.Response:\n\"\"\"\nHTTP/1.1 400 Bad Request\r\nContent-Type: application/json; charset=UTF-8\r\nContent-Length: 77\r\nServer: Apache\r\nVary: User-Agent\r\nDate: Thu, 27 Jun 2019 03:05:24 GMT\r\nConnection: keep-alive\r\n\r\n{\"error_code\":400,\"error_message\":\"Bad Request.  The series does not exist.\"}\"\"\")",
      "",
      "Stacktrace:",
      " [1] #request#1(::Base.Iterators.Pairs{Symbol,Nothing,Tuple{Symbol},NamedTuple{(:iofunction,),Tuple{Nothing}}}, ::Function, ::Type{HTTP.ExceptionRequest.ExceptionLayer{HTTP.ConnectionRequest.ConnectionPoolLayer{HTTP.StreamRequest.StreamLayer}}}, ::HTTP.URIs.URI, ::Vararg{Any,N} where N) at /Users/varit/.julia/packages/HTTP/wY7Vc/src/ExceptionRequest.jl:22",
      " [2] (::getfield(HTTP, Symbol(\"#kw##request\")))(::NamedTuple{(:iofunction,),Tuple{Nothing}}, ::typeof(HTTP.request), ::Type{HTTP.ExceptionRequest.ExceptionLayer{HTTP.ConnectionRequest.ConnectionPoolLayer{HTTP.StreamRequest.StreamLayer}}}, ::HTTP.URIs.URI, ::HTTP.Messages.Request, ::Array{UInt8,1}) at ./none:0",
      " [3] (::getfield(Base, Symbol(\"###48#49#50\")){ExponentialBackOff,getfield(HTTP.RetryRequest, Symbol(\"##2#3\")){Bool,HTTP.Messages.Request},typeof(HTTP.request)})(::Base.Iterators.Pairs{Symbol,Nothing,Tuple{Symbol},NamedTuple{(:iofunction,),Tuple{Nothing}}}, ::Function, ::Type, ::Vararg{Any,N} where N) at ./error.jl:231",
      " [4] ##48#51 at ./none:0 [inlined]",
      " [5] #request#1 at /Users/varit/.julia/packages/HTTP/wY7Vc/src/RetryRequest.jl:44 [inlined]",
      " [6] #request at ./none:0 [inlined]",
      " [7] #request#1(::VersionNumber, ::String, ::Nothing, ::Nothing, ::Base.Iterators.Pairs{Union{},Union{},Tuple{},NamedTuple{(),Tuple{}}}, ::Function, ::Type{HTTP.MessageRequest.MessageLayer{HTTP.RetryRequest.RetryLayer{HTTP.ExceptionRequest.ExceptionLayer{HTTP.ConnectionRequest.ConnectionPoolLayer{HTTP.StreamRequest.StreamLayer}}}}}, ::String, ::HTTP.URIs.URI, ::Array{Pair{SubString{String},SubString{String}},1}, ::Array{UInt8,1}) at /Users/varit/.julia/packages/HTTP/wY7Vc/src/MessageRequest.jl:47",
      " [8] request at /Users/varit/.julia/packages/HTTP/wY7Vc/src/MessageRequest.jl:28 [inlined]",
      " [9] #request#1(::Int64, ::Bool, ::Base.Iterators.Pairs{Union{},Union{},Tuple{},NamedTuple{(),Tuple{}}}, ::Function, ::Type{HTTP.RedirectRequest.RedirectLayer{HTTP.MessageRequest.MessageLayer{HTTP.RetryRequest.RetryLayer{HTTP.ExceptionRequest.ExceptionLayer{HTTP.ConnectionRequest.ConnectionPoolLayer{HTTP.StreamRequest.StreamLayer}}}}}}, ::String, ::HTTP.URIs.URI, ::Array{Pair{SubString{String},SubString{String}},1}, ::Array{UInt8,1}) at /Users/varit/.julia/packages/HTTP/wY7Vc/src/RedirectRequest.jl:24",
      " [10] request(::Type{HTTP.RedirectRequest.RedirectLayer{HTTP.MessageRequest.MessageLayer{HTTP.RetryRequest.RetryLayer{HTTP.ExceptionRequest.ExceptionLayer{HTTP.ConnectionRequest.ConnectionPoolLayer{HTTP.StreamRequest.StreamLayer}}}}}}, ::String, ::HTTP.URIs.URI, ::Array{Pair{SubString{String},SubString{String}},1}, ::Array{UInt8,1}) at /Users/varit/.julia/packages/HTTP/wY7Vc/src/RedirectRequest.jl:21",
      " [11] #request#5(::Base.Iterators.Pairs{Union{},Union{},Tuple{},NamedTuple{(),Tuple{}}}, ::Function, ::String, ::HTTP.URIs.URI, ::Array{Pair{SubString{String},SubString{String}},1}, ::Array{UInt8,1}) at /Users/varit/.julia/packages/HTTP/wY7Vc/src/HTTP.jl:300",
      " [12] request at /Users/varit/.julia/packages/HTTP/wY7Vc/src/HTTP.jl:300 [inlined]",
      " [13] #request#6 at /Users/varit/.julia/packages/HTTP/wY7Vc/src/HTTP.jl:314 [inlined]",
      " [14] #request at ./none:0 [inlined] (repeats 2 times)",
      " [15] #get_data#3(::Base.Iterators.Pairs{Union{},Union{},Tuple{},NamedTuple{(),Tuple{}}}, ::Function, ::Fred, ::String) at /Users/varit/.julia/packages/FredData/8HrnF/src/get_data.jl:52",
      " [16] get_data(::Fred, ::String) at /Users/varit/.julia/packages/FredData/8HrnF/src/get_data.jl:34",
      " [17] top-level scope at In[336]:1"
     ]
    }
   ],
   "source": [
    "### NWPIx\n",
    "NWPIx = get_data(f, \"NWPIx\").data[:, [3,4]]\n",
    "NWPIx = log_diff(NWPIx)\n",
    "println(\"DONE\")"
   ]
  },
  {
   "cell_type": "code",
   "execution_count": 339,
   "metadata": {},
   "outputs": [
    {
     "ename": "HTTP.ExceptionRequest.StatusError",
     "evalue": "HTTP.ExceptionRequest.StatusError(400, \"GET\", \"/fred/series/observations?api_key=266c597cbf3d25f366b082b4bf5161fe&series_id=TARESAx&file_type=json\", HTTP.Messages.Response:\n\"\"\"\nHTTP/1.1 400 Bad Request\r\nContent-Type: application/json; charset=UTF-8\r\nContent-Length: 77\r\nServer: Apache\r\nVary: User-Agent\r\nDate: Thu, 27 Jun 2019 03:06:02 GMT\r\nConnection: keep-alive\r\n\r\n{\"error_code\":400,\"error_message\":\"Bad Request.  The series does not exist.\"}\"\"\")",
     "output_type": "error",
     "traceback": [
      "HTTP.ExceptionRequest.StatusError(400, \"GET\", \"/fred/series/observations?api_key=266c597cbf3d25f366b082b4bf5161fe&series_id=TARESAx&file_type=json\", HTTP.Messages.Response:\n\"\"\"\nHTTP/1.1 400 Bad Request\r\nContent-Type: application/json; charset=UTF-8\r\nContent-Length: 77\r\nServer: Apache\r\nVary: User-Agent\r\nDate: Thu, 27 Jun 2019 03:06:02 GMT\r\nConnection: keep-alive\r\n\r\n{\"error_code\":400,\"error_message\":\"Bad Request.  The series does not exist.\"}\"\"\")",
      "",
      "Stacktrace:",
      " [1] #request#1(::Base.Iterators.Pairs{Symbol,Nothing,Tuple{Symbol},NamedTuple{(:iofunction,),Tuple{Nothing}}}, ::Function, ::Type{HTTP.ExceptionRequest.ExceptionLayer{HTTP.ConnectionRequest.ConnectionPoolLayer{HTTP.StreamRequest.StreamLayer}}}, ::HTTP.URIs.URI, ::Vararg{Any,N} where N) at /Users/varit/.julia/packages/HTTP/wY7Vc/src/ExceptionRequest.jl:22",
      " [2] (::getfield(HTTP, Symbol(\"#kw##request\")))(::NamedTuple{(:iofunction,),Tuple{Nothing}}, ::typeof(HTTP.request), ::Type{HTTP.ExceptionRequest.ExceptionLayer{HTTP.ConnectionRequest.ConnectionPoolLayer{HTTP.StreamRequest.StreamLayer}}}, ::HTTP.URIs.URI, ::HTTP.Messages.Request, ::Array{UInt8,1}) at ./none:0",
      " [3] (::getfield(Base, Symbol(\"###48#49#50\")){ExponentialBackOff,getfield(HTTP.RetryRequest, Symbol(\"##2#3\")){Bool,HTTP.Messages.Request},typeof(HTTP.request)})(::Base.Iterators.Pairs{Symbol,Nothing,Tuple{Symbol},NamedTuple{(:iofunction,),Tuple{Nothing}}}, ::Function, ::Type, ::Vararg{Any,N} where N) at ./error.jl:231",
      " [4] ##48#51 at ./none:0 [inlined]",
      " [5] #request#1 at /Users/varit/.julia/packages/HTTP/wY7Vc/src/RetryRequest.jl:44 [inlined]",
      " [6] #request at ./none:0 [inlined]",
      " [7] #request#1(::VersionNumber, ::String, ::Nothing, ::Nothing, ::Base.Iterators.Pairs{Union{},Union{},Tuple{},NamedTuple{(),Tuple{}}}, ::Function, ::Type{HTTP.MessageRequest.MessageLayer{HTTP.RetryRequest.RetryLayer{HTTP.ExceptionRequest.ExceptionLayer{HTTP.ConnectionRequest.ConnectionPoolLayer{HTTP.StreamRequest.StreamLayer}}}}}, ::String, ::HTTP.URIs.URI, ::Array{Pair{SubString{String},SubString{String}},1}, ::Array{UInt8,1}) at /Users/varit/.julia/packages/HTTP/wY7Vc/src/MessageRequest.jl:47",
      " [8] request at /Users/varit/.julia/packages/HTTP/wY7Vc/src/MessageRequest.jl:28 [inlined]",
      " [9] #request#1(::Int64, ::Bool, ::Base.Iterators.Pairs{Union{},Union{},Tuple{},NamedTuple{(),Tuple{}}}, ::Function, ::Type{HTTP.RedirectRequest.RedirectLayer{HTTP.MessageRequest.MessageLayer{HTTP.RetryRequest.RetryLayer{HTTP.ExceptionRequest.ExceptionLayer{HTTP.ConnectionRequest.ConnectionPoolLayer{HTTP.StreamRequest.StreamLayer}}}}}}, ::String, ::HTTP.URIs.URI, ::Array{Pair{SubString{String},SubString{String}},1}, ::Array{UInt8,1}) at /Users/varit/.julia/packages/HTTP/wY7Vc/src/RedirectRequest.jl:24",
      " [10] request(::Type{HTTP.RedirectRequest.RedirectLayer{HTTP.MessageRequest.MessageLayer{HTTP.RetryRequest.RetryLayer{HTTP.ExceptionRequest.ExceptionLayer{HTTP.ConnectionRequest.ConnectionPoolLayer{HTTP.StreamRequest.StreamLayer}}}}}}, ::String, ::HTTP.URIs.URI, ::Array{Pair{SubString{String},SubString{String}},1}, ::Array{UInt8,1}) at /Users/varit/.julia/packages/HTTP/wY7Vc/src/RedirectRequest.jl:21",
      " [11] #request#5(::Base.Iterators.Pairs{Union{},Union{},Tuple{},NamedTuple{(),Tuple{}}}, ::Function, ::String, ::HTTP.URIs.URI, ::Array{Pair{SubString{String},SubString{String}},1}, ::Array{UInt8,1}) at /Users/varit/.julia/packages/HTTP/wY7Vc/src/HTTP.jl:300",
      " [12] request at /Users/varit/.julia/packages/HTTP/wY7Vc/src/HTTP.jl:300 [inlined]",
      " [13] #request#6 at /Users/varit/.julia/packages/HTTP/wY7Vc/src/HTTP.jl:314 [inlined]",
      " [14] #request at ./none:0 [inlined] (repeats 2 times)",
      " [15] #get_data#3(::Base.Iterators.Pairs{Union{},Union{},Tuple{},NamedTuple{(),Tuple{}}}, ::Function, ::Fred, ::String) at /Users/varit/.julia/packages/FredData/8HrnF/src/get_data.jl:52",
      " [16] get_data(::Fred, ::String) at /Users/varit/.julia/packages/FredData/8HrnF/src/get_data.jl:34",
      " [17] top-level scope at In[339]:1"
     ]
    }
   ],
   "source": [
    "### TARESAx\n",
    "TARESAx = get_data(f, \"TARESAx\").data[:,[3,4]]\n",
    "TARESAx = log_diff(TARESAx)\n",
    "println(\"DONE\")"
   ]
  },
  {
   "cell_type": "code",
   "execution_count": 341,
   "metadata": {},
   "outputs": [
    {
     "name": "stdout",
     "output_type": "stream",
     "text": [
      "DONE\n"
     ]
    }
   ],
   "source": [
    "### HNOREMQ027Sx\n",
    "HNOREMQ027Sx = get_data(f, \"HNOREMQ027S\").data[:,[3,4]]\n",
    "HNOREMQ027Sx = log_diff(HNOREMQ027Sx)\n",
    "println(\"DONE\")"
   ]
  },
  {
   "cell_type": "code",
   "execution_count": 343,
   "metadata": {},
   "outputs": [
    {
     "name": "stdout",
     "output_type": "stream",
     "text": [
      "DONE\n"
     ]
    }
   ],
   "source": [
    "### TFAABSHNOx\n",
    "TFAABSHNOx = get_data(f, \"TFAABSHNO\").data[:,[3,4]]\n",
    "TFAABSHNOx = log_diff(TFAABSHNOx)\n",
    "println(\"DONE\")"
   ]
  },
  {
   "cell_type": "code",
   "execution_count": 346,
   "metadata": {},
   "outputs": [
    {
     "ename": "HTTP.ExceptionRequest.StatusError",
     "evalue": "HTTP.ExceptionRequest.StatusError(400, \"GET\", \"/fred/series/observations?api_key=266c597cbf3d25f366b082b4bf5161fe&series_id=CONSPIx&file_type=json\", HTTP.Messages.Response:\n\"\"\"\nHTTP/1.1 400 Bad Request\r\nContent-Type: application/json; charset=UTF-8\r\nContent-Length: 77\r\nServer: Apache\r\nVary: User-Agent\r\nDate: Thu, 27 Jun 2019 03:07:18 GMT\r\nConnection: keep-alive\r\n\r\n{\"error_code\":400,\"error_message\":\"Bad Request.  The series does not exist.\"}\"\"\")",
     "output_type": "error",
     "traceback": [
      "HTTP.ExceptionRequest.StatusError(400, \"GET\", \"/fred/series/observations?api_key=266c597cbf3d25f366b082b4bf5161fe&series_id=CONSPIx&file_type=json\", HTTP.Messages.Response:\n\"\"\"\nHTTP/1.1 400 Bad Request\r\nContent-Type: application/json; charset=UTF-8\r\nContent-Length: 77\r\nServer: Apache\r\nVary: User-Agent\r\nDate: Thu, 27 Jun 2019 03:07:18 GMT\r\nConnection: keep-alive\r\n\r\n{\"error_code\":400,\"error_message\":\"Bad Request.  The series does not exist.\"}\"\"\")",
      "",
      "Stacktrace:",
      " [1] #request#1(::Base.Iterators.Pairs{Symbol,Nothing,Tuple{Symbol},NamedTuple{(:iofunction,),Tuple{Nothing}}}, ::Function, ::Type{HTTP.ExceptionRequest.ExceptionLayer{HTTP.ConnectionRequest.ConnectionPoolLayer{HTTP.StreamRequest.StreamLayer}}}, ::HTTP.URIs.URI, ::Vararg{Any,N} where N) at /Users/varit/.julia/packages/HTTP/wY7Vc/src/ExceptionRequest.jl:22",
      " [2] (::getfield(HTTP, Symbol(\"#kw##request\")))(::NamedTuple{(:iofunction,),Tuple{Nothing}}, ::typeof(HTTP.request), ::Type{HTTP.ExceptionRequest.ExceptionLayer{HTTP.ConnectionRequest.ConnectionPoolLayer{HTTP.StreamRequest.StreamLayer}}}, ::HTTP.URIs.URI, ::HTTP.Messages.Request, ::Array{UInt8,1}) at ./none:0",
      " [3] (::getfield(Base, Symbol(\"###48#49#50\")){ExponentialBackOff,getfield(HTTP.RetryRequest, Symbol(\"##2#3\")){Bool,HTTP.Messages.Request},typeof(HTTP.request)})(::Base.Iterators.Pairs{Symbol,Nothing,Tuple{Symbol},NamedTuple{(:iofunction,),Tuple{Nothing}}}, ::Function, ::Type, ::Vararg{Any,N} where N) at ./error.jl:231",
      " [4] ##48#51 at ./none:0 [inlined]",
      " [5] #request#1 at /Users/varit/.julia/packages/HTTP/wY7Vc/src/RetryRequest.jl:44 [inlined]",
      " [6] #request at ./none:0 [inlined]",
      " [7] #request#1(::VersionNumber, ::String, ::Nothing, ::Nothing, ::Base.Iterators.Pairs{Union{},Union{},Tuple{},NamedTuple{(),Tuple{}}}, ::Function, ::Type{HTTP.MessageRequest.MessageLayer{HTTP.RetryRequest.RetryLayer{HTTP.ExceptionRequest.ExceptionLayer{HTTP.ConnectionRequest.ConnectionPoolLayer{HTTP.StreamRequest.StreamLayer}}}}}, ::String, ::HTTP.URIs.URI, ::Array{Pair{SubString{String},SubString{String}},1}, ::Array{UInt8,1}) at /Users/varit/.julia/packages/HTTP/wY7Vc/src/MessageRequest.jl:47",
      " [8] request at /Users/varit/.julia/packages/HTTP/wY7Vc/src/MessageRequest.jl:28 [inlined]",
      " [9] #request#1(::Int64, ::Bool, ::Base.Iterators.Pairs{Union{},Union{},Tuple{},NamedTuple{(),Tuple{}}}, ::Function, ::Type{HTTP.RedirectRequest.RedirectLayer{HTTP.MessageRequest.MessageLayer{HTTP.RetryRequest.RetryLayer{HTTP.ExceptionRequest.ExceptionLayer{HTTP.ConnectionRequest.ConnectionPoolLayer{HTTP.StreamRequest.StreamLayer}}}}}}, ::String, ::HTTP.URIs.URI, ::Array{Pair{SubString{String},SubString{String}},1}, ::Array{UInt8,1}) at /Users/varit/.julia/packages/HTTP/wY7Vc/src/RedirectRequest.jl:24",
      " [10] request(::Type{HTTP.RedirectRequest.RedirectLayer{HTTP.MessageRequest.MessageLayer{HTTP.RetryRequest.RetryLayer{HTTP.ExceptionRequest.ExceptionLayer{HTTP.ConnectionRequest.ConnectionPoolLayer{HTTP.StreamRequest.StreamLayer}}}}}}, ::String, ::HTTP.URIs.URI, ::Array{Pair{SubString{String},SubString{String}},1}, ::Array{UInt8,1}) at /Users/varit/.julia/packages/HTTP/wY7Vc/src/RedirectRequest.jl:21",
      " [11] #request#5(::Base.Iterators.Pairs{Union{},Union{},Tuple{},NamedTuple{(),Tuple{}}}, ::Function, ::String, ::HTTP.URIs.URI, ::Array{Pair{SubString{String},SubString{String}},1}, ::Array{UInt8,1}) at /Users/varit/.julia/packages/HTTP/wY7Vc/src/HTTP.jl:300",
      " [12] request at /Users/varit/.julia/packages/HTTP/wY7Vc/src/HTTP.jl:300 [inlined]",
      " [13] #request#6 at /Users/varit/.julia/packages/HTTP/wY7Vc/src/HTTP.jl:314 [inlined]",
      " [14] #request at ./none:0 [inlined] (repeats 2 times)",
      " [15] #get_data#3(::Base.Iterators.Pairs{Union{},Union{},Tuple{},NamedTuple{(),Tuple{}}}, ::Function, ::Fred, ::String) at /Users/varit/.julia/packages/FredData/8HrnF/src/get_data.jl:52",
      " [16] get_data(::Fred, ::String) at /Users/varit/.julia/packages/FredData/8HrnF/src/get_data.jl:34",
      " [17] top-level scope at In[346]:1"
     ]
    }
   ],
   "source": [
    "### CONSPIx\n",
    "CONSPIx = get_data(f, \"CONSPIx\").data[:, [3,4]]\n",
    "CONSPIx = diff_ts(CONSPIx)\n",
    "println(\"DONE\")"
   ]
  },
  {
   "cell_type": "code",
   "execution_count": 347,
   "metadata": {},
   "outputs": [
    {
     "name": "stdout",
     "output_type": "stream",
     "text": [
      "DONE\n"
     ]
    }
   ],
   "source": [
    "### TWEXMMTH\n",
    "TWEXMMTH = get_data(f, \"TWEXMMTH\").data[:,[3,4]]\n",
    "TWEXMMTH = log_diff(TWEXMMTH)\n",
    "println(\"DONE\")"
   ]
  },
  {
   "cell_type": "code",
   "execution_count": 348,
   "metadata": {},
   "outputs": [
    {
     "name": "stdout",
     "output_type": "stream",
     "text": [
      "DONE\n"
     ]
    }
   ],
   "source": [
    "### EXUSEU\n",
    "EXUSEU = get_data(f, \"EXUSEU\").data[:,[3,4]]\n",
    "EXUSEU = log_diff(EXUSEU)\n",
    "println(\"DONE\")"
   ]
  },
  {
   "cell_type": "code",
   "execution_count": 350,
   "metadata": {},
   "outputs": [
    {
     "name": "stdout",
     "output_type": "stream",
     "text": [
      "DONE\n"
     ]
    }
   ],
   "source": [
    "### EXSZUSx\n",
    "EXSZUSx = get_data(f, \"EXSZUS\").data[:,[3,4]]\n",
    "EXSZUSx = log_diff(EXSZUSx)\n",
    "println(\"DONE\")"
   ]
  },
  {
   "cell_type": "code",
   "execution_count": 352,
   "metadata": {},
   "outputs": [
    {
     "name": "stdout",
     "output_type": "stream",
     "text": [
      "DONE\n"
     ]
    }
   ],
   "source": [
    "### EXJPUSx\n",
    "EXJPUSx = get_data(f, \"EXJPUS\").data[:,[3,4]]\n",
    "EXJPUSx = log_diff(EXJPUSx)\n",
    "println(\"DONE\")"
   ]
  },
  {
   "cell_type": "code",
   "execution_count": 354,
   "metadata": {},
   "outputs": [
    {
     "name": "stdout",
     "output_type": "stream",
     "text": [
      "DONE\n"
     ]
    }
   ],
   "source": [
    "### EXUSUKx\n",
    "### PCECC96\n",
    "EXUSUKx = get_data(f, \"EXUSUK\").data[:,[3,4]]\n",
    "EXUSUKx = log_diff(EXUSUKx)\n",
    "println(\"DONE\")"
   ]
  },
  {
   "cell_type": "code",
   "execution_count": 356,
   "metadata": {},
   "outputs": [
    {
     "name": "stdout",
     "output_type": "stream",
     "text": [
      "DONE\n"
     ]
    }
   ],
   "source": [
    "### EXCAUSx\n",
    "EXCAUSx = get_data(f, \"EXCAUS\").data[:,[3,4]]\n",
    "EXCAUSx = log_diff(EXCAUSx)\n",
    "println(\"DONE\")"
   ]
  },
  {
   "cell_type": "code",
   "execution_count": 359,
   "metadata": {},
   "outputs": [
    {
     "name": "stdout",
     "output_type": "stream",
     "text": [
      "DONE\n"
     ]
    }
   ],
   "source": [
    "### UMCSENTx\n",
    "UMCSENTx = get_data(f, \"UMCSENT\").data[:, [3,4]]\n",
    "UMCSENTx = log_diff(UMCSENTx)\n",
    "println(\"DONE\")"
   ]
  },
  {
   "cell_type": "code",
   "execution_count": 360,
   "metadata": {},
   "outputs": [
    {
     "name": "stdout",
     "output_type": "stream",
     "text": [
      "DONE\n"
     ]
    }
   ],
   "source": [
    "### USEPUINDXM\n",
    "USEPUINDXM = get_data(f, \"USEPUINDXM\").data[:, [3,4]]\n",
    "USEPUINDXM = diff_ts(USEPUINDXM)\n",
    "println(\"DONE\")"
   ]
  },
  {
   "cell_type": "code",
   "execution_count": 363,
   "metadata": {},
   "outputs": [
    {
     "name": "stdout",
     "output_type": "stream",
     "text": [
      "DONE\n"
     ]
    }
   ],
   "source": [
    "### VXOCLSx\n",
    "VXOCLSx = get_data(f, \"VXOCLS\").data[:, [3,4]]\n",
    "println(\"DONE\")"
   ]
  },
  {
   "cell_type": "code",
   "execution_count": 364,
   "metadata": {},
   "outputs": [
    {
     "name": "stdout",
     "output_type": "stream",
     "text": [
      "DONE\n"
     ]
    }
   ],
   "source": [
    "### NIKKEI225\n",
    "NIKKEI225 = get_data(f, \"NIKKEI225\").data[:,[3,4]]\n",
    "NIKKEI225 = log_diff(NIKKEI225)\n",
    "println(\"DONE\")"
   ]
  },
  {
   "cell_type": "code",
   "execution_count": 365,
   "metadata": {},
   "outputs": [
    {
     "name": "stdout",
     "output_type": "stream",
     "text": [
      "DONE\n"
     ]
    }
   ],
   "source": [
    "### NASDAQCOM\n",
    "NASDAQCOM = get_data(f, \"NASDAQCOM\").data[:,[3,4]]\n",
    "NASDAQCOM = log_diff(NASDAQCOM)\n",
    "println(\"DONE\")"
   ]
  },
  {
   "cell_type": "code",
   "execution_count": 366,
   "metadata": {},
   "outputs": [
    {
     "name": "stdout",
     "output_type": "stream",
     "text": [
      "DONE\n"
     ]
    }
   ],
   "source": [
    "### S&P 500\n",
    "SP500 = get_data(f, \"SP500\").data[:,[3,4]]\n",
    "SP500 = log_diff(SP500)\n",
    "println(\"DONE\")"
   ]
  },
  {
   "cell_type": "code",
   "execution_count": null,
   "metadata": {
    "collapsed": true
   },
   "outputs": [],
   "source": [
    "### S&P: indust\n",
    "### PCECC96\n",
    "PCECC96 = get_data(f, \"PCECC96\").data[:,[3,4]]\n",
    "\n",
    "# Transform\n",
    "temp = zeros(length(PCECC96[:,1]))\n",
    "for i in 1:length(PCECC96[:,1])\n",
    "    temp[i] = log(PCECC96[i,2])\n",
    "end\n",
    "diff_array = diff(temp)\n",
    "for i in 1:length(PCECC96[:,1])-1\n",
    "    PCECC96[i,2] = diff_array[i]\n",
    "end\n",
    "PCECC96[length(GDPC1[:,1]),2] = NaN\n",
    "PCECC96[:,2] = replace(PCECC96[:,2], NaN => missing)\n",
    "println(\"DONE\")"
   ]
  },
  {
   "cell_type": "code",
   "execution_count": null,
   "metadata": {
    "collapsed": true
   },
   "outputs": [],
   "source": [
    "### S&P: div yield"
   ]
  },
  {
   "cell_type": "code",
   "execution_count": null,
   "metadata": {
    "collapsed": true
   },
   "outputs": [],
   "source": [
    "### S&P PE ratio\n",
    "### PCECC96\n",
    "PCECC96 = get_data(f, \"PCECC96\").data[:,[3,4]]\n",
    "\n",
    "# Transform\n",
    "temp = zeros(length(PCECC96[:,1]))\n",
    "for i in 1:length(PCECC96[:,1])\n",
    "    temp[i] = log(PCECC96[i,2])\n",
    "end\n",
    "diff_array = diff(temp)\n",
    "for i in 1:length(PCECC96[:,1])-1\n",
    "    PCECC96[i,2] = diff_array[i]\n",
    "end\n",
    "PCECC96[length(GDPC1[:,1]),2] = NaN\n",
    "PCECC96[:,2] = replace(PCECC96[:,2], NaN => missing)\n",
    "println(\"DONE\")"
   ]
  },
  {
   "cell_type": "code",
   "execution_count": 367,
   "metadata": {},
   "outputs": [
    {
     "name": "stdout",
     "output_type": "stream",
     "text": [
      "DONE\n"
     ]
    }
   ],
   "source": [
    "### GFDEGDQ188S\n",
    "GFDEGDQ188S = get_data(f, \"GFDEGDQ188S\").data[:, [3,4]]\n",
    "GFDEGDQ188S = diff_ts(GFDEGDQ188S)\n",
    "println(\"DONE\")"
   ]
  },
  {
   "cell_type": "code",
   "execution_count": 369,
   "metadata": {},
   "outputs": [
    {
     "ename": "UndefVarError",
     "evalue": "UndefVarError: warn not defined",
     "output_type": "error",
     "traceback": [
      "UndefVarError: warn not defined",
      "",
      "Stacktrace:",
      " [1] #get_data#3(::Base.Iterators.Pairs{Union{},Union{},Tuple{},NamedTuple{(),Tuple{}}}, ::Function, ::Fred, ::String) at /Users/varit/.julia/packages/FredData/8HrnF/src/get_data.jl:77",
      " [2] get_data(::Fred, ::String) at /Users/varit/.julia/packages/FredData/8HrnF/src/get_data.jl:34",
      " [3] top-level scope at In[369]:1"
     ]
    }
   ],
   "source": [
    "### GFDEBTNx\n",
    "GFDEBTNx = get_data(f, \"GFDEBTN\").data[:, [3,4]]\n",
    "GFDEBTNx = diff_ts(GFDEBTNx)\n",
    "println(\"DONE\")"
   ]
  },
  {
   "cell_type": "code",
   "execution_count": 371,
   "metadata": {},
   "outputs": [
    {
     "name": "stdout",
     "output_type": "stream",
     "text": [
      "DONE\n"
     ]
    }
   ],
   "source": [
    "### TLBSNNCBx\n",
    "TLBSNNCBx = get_data(f, \"TLBSNNCB\").data[:,[3,4]]\n",
    "TLBSNNCBx = log_diff(TLBSNNCBx)\n",
    "println(\"DONE\")"
   ]
  },
  {
   "cell_type": "code",
   "execution_count": null,
   "metadata": {
    "collapsed": true
   },
   "outputs": [],
   "source": []
  },
  {
   "cell_type": "code",
   "execution_count": 375,
   "metadata": {},
   "outputs": [
    {
     "ename": "HTTP.ExceptionRequest.StatusError",
     "evalue": "HTTP.ExceptionRequest.StatusError(400, \"GET\", \"/fred/series/observations?api_key=266c597cbf3d25f366b082b4bf5161fe&series_id=TLBSNNCBBDIx&file_type=json\", HTTP.Messages.Response:\n\"\"\"\nHTTP/1.1 400 Bad Request\r\nContent-Type: application/json; charset=UTF-8\r\nContent-Length: 77\r\nServer: Apache\r\nVary: User-Agent\r\nDate: Thu, 27 Jun 2019 03:18:37 GMT\r\nConnection: keep-alive\r\n\r\n{\"error_code\":400,\"error_message\":\"Bad Request.  The series does not exist.\"}\"\"\")",
     "output_type": "error",
     "traceback": [
      "HTTP.ExceptionRequest.StatusError(400, \"GET\", \"/fred/series/observations?api_key=266c597cbf3d25f366b082b4bf5161fe&series_id=TLBSNNCBBDIx&file_type=json\", HTTP.Messages.Response:\n\"\"\"\nHTTP/1.1 400 Bad Request\r\nContent-Type: application/json; charset=UTF-8\r\nContent-Length: 77\r\nServer: Apache\r\nVary: User-Agent\r\nDate: Thu, 27 Jun 2019 03:18:37 GMT\r\nConnection: keep-alive\r\n\r\n{\"error_code\":400,\"error_message\":\"Bad Request.  The series does not exist.\"}\"\"\")",
      "",
      "Stacktrace:",
      " [1] #request#1(::Base.Iterators.Pairs{Symbol,Nothing,Tuple{Symbol},NamedTuple{(:iofunction,),Tuple{Nothing}}}, ::Function, ::Type{HTTP.ExceptionRequest.ExceptionLayer{HTTP.ConnectionRequest.ConnectionPoolLayer{HTTP.StreamRequest.StreamLayer}}}, ::HTTP.URIs.URI, ::Vararg{Any,N} where N) at /Users/varit/.julia/packages/HTTP/wY7Vc/src/ExceptionRequest.jl:22",
      " [2] (::getfield(HTTP, Symbol(\"#kw##request\")))(::NamedTuple{(:iofunction,),Tuple{Nothing}}, ::typeof(HTTP.request), ::Type{HTTP.ExceptionRequest.ExceptionLayer{HTTP.ConnectionRequest.ConnectionPoolLayer{HTTP.StreamRequest.StreamLayer}}}, ::HTTP.URIs.URI, ::HTTP.Messages.Request, ::Array{UInt8,1}) at ./none:0",
      " [3] (::getfield(Base, Symbol(\"###48#49#50\")){ExponentialBackOff,getfield(HTTP.RetryRequest, Symbol(\"##2#3\")){Bool,HTTP.Messages.Request},typeof(HTTP.request)})(::Base.Iterators.Pairs{Symbol,Nothing,Tuple{Symbol},NamedTuple{(:iofunction,),Tuple{Nothing}}}, ::Function, ::Type, ::Vararg{Any,N} where N) at ./error.jl:231",
      " [4] ##48#51 at ./none:0 [inlined]",
      " [5] #request#1 at /Users/varit/.julia/packages/HTTP/wY7Vc/src/RetryRequest.jl:44 [inlined]",
      " [6] #request at ./none:0 [inlined]",
      " [7] #request#1(::VersionNumber, ::String, ::Nothing, ::Nothing, ::Base.Iterators.Pairs{Union{},Union{},Tuple{},NamedTuple{(),Tuple{}}}, ::Function, ::Type{HTTP.MessageRequest.MessageLayer{HTTP.RetryRequest.RetryLayer{HTTP.ExceptionRequest.ExceptionLayer{HTTP.ConnectionRequest.ConnectionPoolLayer{HTTP.StreamRequest.StreamLayer}}}}}, ::String, ::HTTP.URIs.URI, ::Array{Pair{SubString{String},SubString{String}},1}, ::Array{UInt8,1}) at /Users/varit/.julia/packages/HTTP/wY7Vc/src/MessageRequest.jl:47",
      " [8] request at /Users/varit/.julia/packages/HTTP/wY7Vc/src/MessageRequest.jl:28 [inlined]",
      " [9] #request#1(::Int64, ::Bool, ::Base.Iterators.Pairs{Union{},Union{},Tuple{},NamedTuple{(),Tuple{}}}, ::Function, ::Type{HTTP.RedirectRequest.RedirectLayer{HTTP.MessageRequest.MessageLayer{HTTP.RetryRequest.RetryLayer{HTTP.ExceptionRequest.ExceptionLayer{HTTP.ConnectionRequest.ConnectionPoolLayer{HTTP.StreamRequest.StreamLayer}}}}}}, ::String, ::HTTP.URIs.URI, ::Array{Pair{SubString{String},SubString{String}},1}, ::Array{UInt8,1}) at /Users/varit/.julia/packages/HTTP/wY7Vc/src/RedirectRequest.jl:24",
      " [10] request(::Type{HTTP.RedirectRequest.RedirectLayer{HTTP.MessageRequest.MessageLayer{HTTP.RetryRequest.RetryLayer{HTTP.ExceptionRequest.ExceptionLayer{HTTP.ConnectionRequest.ConnectionPoolLayer{HTTP.StreamRequest.StreamLayer}}}}}}, ::String, ::HTTP.URIs.URI, ::Array{Pair{SubString{String},SubString{String}},1}, ::Array{UInt8,1}) at /Users/varit/.julia/packages/HTTP/wY7Vc/src/RedirectRequest.jl:21",
      " [11] #request#5(::Base.Iterators.Pairs{Union{},Union{},Tuple{},NamedTuple{(),Tuple{}}}, ::Function, ::String, ::HTTP.URIs.URI, ::Array{Pair{SubString{String},SubString{String}},1}, ::Array{UInt8,1}) at /Users/varit/.julia/packages/HTTP/wY7Vc/src/HTTP.jl:300",
      " [12] request at /Users/varit/.julia/packages/HTTP/wY7Vc/src/HTTP.jl:300 [inlined]",
      " [13] #request#6 at /Users/varit/.julia/packages/HTTP/wY7Vc/src/HTTP.jl:314 [inlined]",
      " [14] #request at ./none:0 [inlined] (repeats 2 times)",
      " [15] #get_data#3(::Base.Iterators.Pairs{Union{},Union{},Tuple{},NamedTuple{(),Tuple{}}}, ::Function, ::Fred, ::String) at /Users/varit/.julia/packages/FredData/8HrnF/src/get_data.jl:52",
      " [16] get_data(::Fred, ::String) at /Users/varit/.julia/packages/FredData/8HrnF/src/get_data.jl:34",
      " [17] top-level scope at In[375]:1"
     ]
    }
   ],
   "source": [
    "### TLBSNNCBBDIx\n",
    "TLBSNNCBBDIx = get_data(f, \"TLBSNNCBBDIx\").data[:, [3,4]]\n",
    "println(\"DONE\")"
   ]
  },
  {
   "cell_type": "code",
   "execution_count": 378,
   "metadata": {},
   "outputs": [
    {
     "name": "stdout",
     "output_type": "stream",
     "text": [
      "DONE\n"
     ]
    }
   ],
   "source": [
    "### TTAABSNNCBx\n",
    "TTAABSNNCBx = get_data(f, \"TTAABSNNCB\").data[:,[3,4]]\n",
    "\n",
    "TTAABSNNCBx = log_diff(TTAABSNNCBx)\n",
    "println(\"DONE\")"
   ]
  },
  {
   "cell_type": "code",
   "execution_count": 380,
   "metadata": {},
   "outputs": [
    {
     "name": "stdout",
     "output_type": "stream",
     "text": [
      "DONE\n"
     ]
    }
   ],
   "source": [
    "### TNWMVBSNNCBx\n",
    "TNWMVBSNNCBx = get_data(f, \"TNWMVBSNNCB\").data[:,[3,4]]\n",
    "\n",
    "TNWMVBSNNCBx = log_diff(TNWMVBSNNCBx)\n",
    "println(\"DONE\")"
   ]
  },
  {
   "cell_type": "code",
   "execution_count": 382,
   "metadata": {},
   "outputs": [
    {
     "ename": "HTTP.ExceptionRequest.StatusError",
     "evalue": "HTTP.ExceptionRequest.StatusError(400, \"GET\", \"/fred/series/observations?api_key=266c597cbf3d25f366b082b4bf5161fe&series_id=TNWMVBSNNCBBDIx&file_type=json\", HTTP.Messages.Response:\n\"\"\"\nHTTP/1.1 400 Bad Request\r\nContent-Type: application/json; charset=UTF-8\r\nContent-Length: 77\r\nServer: Apache\r\nVary: User-Agent\r\nDate: Thu, 27 Jun 2019 03:23:49 GMT\r\nConnection: keep-alive\r\n\r\n{\"error_code\":400,\"error_message\":\"Bad Request.  The series does not exist.\"}\"\"\")",
     "output_type": "error",
     "traceback": [
      "HTTP.ExceptionRequest.StatusError(400, \"GET\", \"/fred/series/observations?api_key=266c597cbf3d25f366b082b4bf5161fe&series_id=TNWMVBSNNCBBDIx&file_type=json\", HTTP.Messages.Response:\n\"\"\"\nHTTP/1.1 400 Bad Request\r\nContent-Type: application/json; charset=UTF-8\r\nContent-Length: 77\r\nServer: Apache\r\nVary: User-Agent\r\nDate: Thu, 27 Jun 2019 03:23:49 GMT\r\nConnection: keep-alive\r\n\r\n{\"error_code\":400,\"error_message\":\"Bad Request.  The series does not exist.\"}\"\"\")",
      "",
      "Stacktrace:",
      " [1] #request#1(::Base.Iterators.Pairs{Symbol,Nothing,Tuple{Symbol},NamedTuple{(:iofunction,),Tuple{Nothing}}}, ::Function, ::Type{HTTP.ExceptionRequest.ExceptionLayer{HTTP.ConnectionRequest.ConnectionPoolLayer{HTTP.StreamRequest.StreamLayer}}}, ::HTTP.URIs.URI, ::Vararg{Any,N} where N) at /Users/varit/.julia/packages/HTTP/wY7Vc/src/ExceptionRequest.jl:22",
      " [2] (::getfield(HTTP, Symbol(\"#kw##request\")))(::NamedTuple{(:iofunction,),Tuple{Nothing}}, ::typeof(HTTP.request), ::Type{HTTP.ExceptionRequest.ExceptionLayer{HTTP.ConnectionRequest.ConnectionPoolLayer{HTTP.StreamRequest.StreamLayer}}}, ::HTTP.URIs.URI, ::HTTP.Messages.Request, ::Array{UInt8,1}) at ./none:0",
      " [3] (::getfield(Base, Symbol(\"###48#49#50\")){ExponentialBackOff,getfield(HTTP.RetryRequest, Symbol(\"##2#3\")){Bool,HTTP.Messages.Request},typeof(HTTP.request)})(::Base.Iterators.Pairs{Symbol,Nothing,Tuple{Symbol},NamedTuple{(:iofunction,),Tuple{Nothing}}}, ::Function, ::Type, ::Vararg{Any,N} where N) at ./error.jl:231",
      " [4] ##48#51 at ./none:0 [inlined]",
      " [5] #request#1 at /Users/varit/.julia/packages/HTTP/wY7Vc/src/RetryRequest.jl:44 [inlined]",
      " [6] #request at ./none:0 [inlined]",
      " [7] #request#1(::VersionNumber, ::String, ::Nothing, ::Nothing, ::Base.Iterators.Pairs{Union{},Union{},Tuple{},NamedTuple{(),Tuple{}}}, ::Function, ::Type{HTTP.MessageRequest.MessageLayer{HTTP.RetryRequest.RetryLayer{HTTP.ExceptionRequest.ExceptionLayer{HTTP.ConnectionRequest.ConnectionPoolLayer{HTTP.StreamRequest.StreamLayer}}}}}, ::String, ::HTTP.URIs.URI, ::Array{Pair{SubString{String},SubString{String}},1}, ::Array{UInt8,1}) at /Users/varit/.julia/packages/HTTP/wY7Vc/src/MessageRequest.jl:47",
      " [8] request at /Users/varit/.julia/packages/HTTP/wY7Vc/src/MessageRequest.jl:28 [inlined]",
      " [9] #request#1(::Int64, ::Bool, ::Base.Iterators.Pairs{Union{},Union{},Tuple{},NamedTuple{(),Tuple{}}}, ::Function, ::Type{HTTP.RedirectRequest.RedirectLayer{HTTP.MessageRequest.MessageLayer{HTTP.RetryRequest.RetryLayer{HTTP.ExceptionRequest.ExceptionLayer{HTTP.ConnectionRequest.ConnectionPoolLayer{HTTP.StreamRequest.StreamLayer}}}}}}, ::String, ::HTTP.URIs.URI, ::Array{Pair{SubString{String},SubString{String}},1}, ::Array{UInt8,1}) at /Users/varit/.julia/packages/HTTP/wY7Vc/src/RedirectRequest.jl:24",
      " [10] request(::Type{HTTP.RedirectRequest.RedirectLayer{HTTP.MessageRequest.MessageLayer{HTTP.RetryRequest.RetryLayer{HTTP.ExceptionRequest.ExceptionLayer{HTTP.ConnectionRequest.ConnectionPoolLayer{HTTP.StreamRequest.StreamLayer}}}}}}, ::String, ::HTTP.URIs.URI, ::Array{Pair{SubString{String},SubString{String}},1}, ::Array{UInt8,1}) at /Users/varit/.julia/packages/HTTP/wY7Vc/src/RedirectRequest.jl:21",
      " [11] #request#5(::Base.Iterators.Pairs{Union{},Union{},Tuple{},NamedTuple{(),Tuple{}}}, ::Function, ::String, ::HTTP.URIs.URI, ::Array{Pair{SubString{String},SubString{String}},1}, ::Array{UInt8,1}) at /Users/varit/.julia/packages/HTTP/wY7Vc/src/HTTP.jl:300",
      " [12] request at /Users/varit/.julia/packages/HTTP/wY7Vc/src/HTTP.jl:300 [inlined]",
      " [13] #request#6 at /Users/varit/.julia/packages/HTTP/wY7Vc/src/HTTP.jl:314 [inlined]",
      " [14] #request at ./none:0 [inlined] (repeats 2 times)",
      " [15] #get_data#3(::Base.Iterators.Pairs{Union{},Union{},Tuple{},NamedTuple{(),Tuple{}}}, ::Function, ::Fred, ::String) at /Users/varit/.julia/packages/FredData/8HrnF/src/get_data.jl:52",
      " [16] get_data(::Fred, ::String) at /Users/varit/.julia/packages/FredData/8HrnF/src/get_data.jl:34",
      " [17] top-level scope at In[382]:1"
     ]
    }
   ],
   "source": [
    "### TNWMVBSNNCBBDIx\n",
    "TNWMVBSNNCBBDIx = get_data(f, \"TNWMVBSNNCBBDIx\").data[:, [3,4]]\n",
    "TNWMVBSNNCBBDIx = diff_ts(TNWMVBSNNCBBDIx)\n",
    "println(\"DONE\") "
   ]
  },
  {
   "cell_type": "code",
   "execution_count": 384,
   "metadata": {},
   "outputs": [
    {
     "name": "stdout",
     "output_type": "stream",
     "text": [
      "DONE\n"
     ]
    }
   ],
   "source": [
    "### TLBSNNBx\n",
    "TLBSNNBx = get_data(f, \"TLBSNNB\").data[:,[3,4]]\n",
    "TLBSNNBx = log_diff(TLBSNNBx)\n",
    "println(\"DONE\")"
   ]
  },
  {
   "cell_type": "code",
   "execution_count": 404,
   "metadata": {},
   "outputs": [
    {
     "ename": "HTTP.ExceptionRequest.StatusError",
     "evalue": "HTTP.ExceptionRequest.StatusError(400, \"GET\", \"/fred/series/observations?api_key=266c597cbf3d25f366b082b4bf5161fe&series_id=TLBSNNBBDI&file_type=json\", HTTP.Messages.Response:\n\"\"\"\nHTTP/1.1 400 Bad Request\r\nContent-Type: application/json; charset=UTF-8\r\nContent-Length: 77\r\nServer: Apache\r\nVary: User-Agent\r\nDate: Thu, 27 Jun 2019 15:09:55 GMT\r\nConnection: keep-alive\r\n\r\n{\"error_code\":400,\"error_message\":\"Bad Request.  The series does not exist.\"}\"\"\")",
     "output_type": "error",
     "traceback": [
      "HTTP.ExceptionRequest.StatusError(400, \"GET\", \"/fred/series/observations?api_key=266c597cbf3d25f366b082b4bf5161fe&series_id=TLBSNNBBDI&file_type=json\", HTTP.Messages.Response:\n\"\"\"\nHTTP/1.1 400 Bad Request\r\nContent-Type: application/json; charset=UTF-8\r\nContent-Length: 77\r\nServer: Apache\r\nVary: User-Agent\r\nDate: Thu, 27 Jun 2019 15:09:55 GMT\r\nConnection: keep-alive\r\n\r\n{\"error_code\":400,\"error_message\":\"Bad Request.  The series does not exist.\"}\"\"\")",
      "",
      "Stacktrace:",
      " [1] #request#1(::Base.Iterators.Pairs{Symbol,Nothing,Tuple{Symbol},NamedTuple{(:iofunction,),Tuple{Nothing}}}, ::Function, ::Type{HTTP.ExceptionRequest.ExceptionLayer{HTTP.ConnectionRequest.ConnectionPoolLayer{HTTP.StreamRequest.StreamLayer}}}, ::HTTP.URIs.URI, ::Vararg{Any,N} where N) at /Users/varit/.julia/packages/HTTP/wY7Vc/src/ExceptionRequest.jl:22",
      " [2] (::getfield(HTTP, Symbol(\"#kw##request\")))(::NamedTuple{(:iofunction,),Tuple{Nothing}}, ::typeof(HTTP.request), ::Type{HTTP.ExceptionRequest.ExceptionLayer{HTTP.ConnectionRequest.ConnectionPoolLayer{HTTP.StreamRequest.StreamLayer}}}, ::HTTP.URIs.URI, ::HTTP.Messages.Request, ::Array{UInt8,1}) at ./none:0",
      " [3] (::getfield(Base, Symbol(\"###48#49#50\")){ExponentialBackOff,getfield(HTTP.RetryRequest, Symbol(\"##2#3\")){Bool,HTTP.Messages.Request},typeof(HTTP.request)})(::Base.Iterators.Pairs{Symbol,Nothing,Tuple{Symbol},NamedTuple{(:iofunction,),Tuple{Nothing}}}, ::Function, ::Type, ::Vararg{Any,N} where N) at ./error.jl:231",
      " [4] ##48#51 at ./none:0 [inlined]",
      " [5] #request#1 at /Users/varit/.julia/packages/HTTP/wY7Vc/src/RetryRequest.jl:44 [inlined]",
      " [6] #request at ./none:0 [inlined]",
      " [7] #request#1(::VersionNumber, ::String, ::Nothing, ::Nothing, ::Base.Iterators.Pairs{Union{},Union{},Tuple{},NamedTuple{(),Tuple{}}}, ::Function, ::Type{HTTP.MessageRequest.MessageLayer{HTTP.RetryRequest.RetryLayer{HTTP.ExceptionRequest.ExceptionLayer{HTTP.ConnectionRequest.ConnectionPoolLayer{HTTP.StreamRequest.StreamLayer}}}}}, ::String, ::HTTP.URIs.URI, ::Array{Pair{SubString{String},SubString{String}},1}, ::Array{UInt8,1}) at /Users/varit/.julia/packages/HTTP/wY7Vc/src/MessageRequest.jl:47",
      " [8] request at /Users/varit/.julia/packages/HTTP/wY7Vc/src/MessageRequest.jl:28 [inlined]",
      " [9] #request#1(::Int64, ::Bool, ::Base.Iterators.Pairs{Union{},Union{},Tuple{},NamedTuple{(),Tuple{}}}, ::Function, ::Type{HTTP.RedirectRequest.RedirectLayer{HTTP.MessageRequest.MessageLayer{HTTP.RetryRequest.RetryLayer{HTTP.ExceptionRequest.ExceptionLayer{HTTP.ConnectionRequest.ConnectionPoolLayer{HTTP.StreamRequest.StreamLayer}}}}}}, ::String, ::HTTP.URIs.URI, ::Array{Pair{SubString{String},SubString{String}},1}, ::Array{UInt8,1}) at /Users/varit/.julia/packages/HTTP/wY7Vc/src/RedirectRequest.jl:24",
      " [10] request(::Type{HTTP.RedirectRequest.RedirectLayer{HTTP.MessageRequest.MessageLayer{HTTP.RetryRequest.RetryLayer{HTTP.ExceptionRequest.ExceptionLayer{HTTP.ConnectionRequest.ConnectionPoolLayer{HTTP.StreamRequest.StreamLayer}}}}}}, ::String, ::HTTP.URIs.URI, ::Array{Pair{SubString{String},SubString{String}},1}, ::Array{UInt8,1}) at /Users/varit/.julia/packages/HTTP/wY7Vc/src/RedirectRequest.jl:21",
      " [11] #request#5(::Base.Iterators.Pairs{Union{},Union{},Tuple{},NamedTuple{(),Tuple{}}}, ::Function, ::String, ::HTTP.URIs.URI, ::Array{Pair{SubString{String},SubString{String}},1}, ::Array{UInt8,1}) at /Users/varit/.julia/packages/HTTP/wY7Vc/src/HTTP.jl:300",
      " [12] request at /Users/varit/.julia/packages/HTTP/wY7Vc/src/HTTP.jl:300 [inlined]",
      " [13] #request#6 at /Users/varit/.julia/packages/HTTP/wY7Vc/src/HTTP.jl:314 [inlined]",
      " [14] #request at ./none:0 [inlined] (repeats 2 times)",
      " [15] #get_data#3(::Base.Iterators.Pairs{Union{},Union{},Tuple{},NamedTuple{(),Tuple{}}}, ::Function, ::Fred, ::String) at /Users/varit/.julia/packages/FredData/8HrnF/src/get_data.jl:52",
      " [16] get_data(::Fred, ::String) at /Users/varit/.julia/packages/FredData/8HrnF/src/get_data.jl:34",
      " [17] top-level scope at In[404]:1"
     ]
    }
   ],
   "source": [
    "### TLBSNNBBDIx\n",
    "TLBSNNBBDIx = get_data(f, \"TLBSNNBBDI\").data[:, [3,4]]\n",
    "println(\"DONE\")"
   ]
  },
  {
   "cell_type": "code",
   "execution_count": 403,
   "metadata": {},
   "outputs": [
    {
     "name": "stdout",
     "output_type": "stream",
     "text": [
      "DONE\n"
     ]
    }
   ],
   "source": [
    "### TABSNNBx\n",
    "TABSNNBx = get_data(f, \"TABSNNB\").data[:,[3,4]]\n",
    "TABSNNBx = log_diff(TABSNNBx)\n",
    "println(\"DONE\")"
   ]
  },
  {
   "cell_type": "code",
   "execution_count": 391,
   "metadata": {},
   "outputs": [
    {
     "name": "stdout",
     "output_type": "stream",
     "text": [
      "DONE\n"
     ]
    }
   ],
   "source": [
    "### TNWBSNNBx\n",
    "TNWBSNNBx = get_data(f, \"TNWBSNNB\").data[:,[3,4]]\n",
    "TNWBSNNBx = log_diff(TNWBSNNBx)\n",
    "println(\"DONE\")"
   ]
  },
  {
   "cell_type": "code",
   "execution_count": 398,
   "metadata": {},
   "outputs": [
    {
     "ename": "HTTP.ExceptionRequest.StatusError",
     "evalue": "HTTP.ExceptionRequest.StatusError(400, \"GET\", \"/fred/series/observations?api_key=266c597cbf3d25f366b082b4bf5161fe&series_id=TNWBSNNBBDIx&file_type=json\", HTTP.Messages.Response:\n\"\"\"\nHTTP/1.1 400 Bad Request\r\nContent-Type: application/json; charset=UTF-8\r\nContent-Length: 77\r\nServer: Apache\r\nVary: User-Agent\r\nDate: Thu, 27 Jun 2019 03:30:13 GMT\r\nConnection: keep-alive\r\n\r\n{\"error_code\":400,\"error_message\":\"Bad Request.  The series does not exist.\"}\"\"\")",
     "output_type": "error",
     "traceback": [
      "HTTP.ExceptionRequest.StatusError(400, \"GET\", \"/fred/series/observations?api_key=266c597cbf3d25f366b082b4bf5161fe&series_id=TNWBSNNBBDIx&file_type=json\", HTTP.Messages.Response:\n\"\"\"\nHTTP/1.1 400 Bad Request\r\nContent-Type: application/json; charset=UTF-8\r\nContent-Length: 77\r\nServer: Apache\r\nVary: User-Agent\r\nDate: Thu, 27 Jun 2019 03:30:13 GMT\r\nConnection: keep-alive\r\n\r\n{\"error_code\":400,\"error_message\":\"Bad Request.  The series does not exist.\"}\"\"\")",
      "",
      "Stacktrace:",
      " [1] #request#1(::Base.Iterators.Pairs{Symbol,Nothing,Tuple{Symbol},NamedTuple{(:iofunction,),Tuple{Nothing}}}, ::Function, ::Type{HTTP.ExceptionRequest.ExceptionLayer{HTTP.ConnectionRequest.ConnectionPoolLayer{HTTP.StreamRequest.StreamLayer}}}, ::HTTP.URIs.URI, ::Vararg{Any,N} where N) at /Users/varit/.julia/packages/HTTP/wY7Vc/src/ExceptionRequest.jl:22",
      " [2] (::getfield(HTTP, Symbol(\"#kw##request\")))(::NamedTuple{(:iofunction,),Tuple{Nothing}}, ::typeof(HTTP.request), ::Type{HTTP.ExceptionRequest.ExceptionLayer{HTTP.ConnectionRequest.ConnectionPoolLayer{HTTP.StreamRequest.StreamLayer}}}, ::HTTP.URIs.URI, ::HTTP.Messages.Request, ::Array{UInt8,1}) at ./none:0",
      " [3] (::getfield(Base, Symbol(\"###48#49#50\")){ExponentialBackOff,getfield(HTTP.RetryRequest, Symbol(\"##2#3\")){Bool,HTTP.Messages.Request},typeof(HTTP.request)})(::Base.Iterators.Pairs{Symbol,Nothing,Tuple{Symbol},NamedTuple{(:iofunction,),Tuple{Nothing}}}, ::Function, ::Type, ::Vararg{Any,N} where N) at ./error.jl:231",
      " [4] ##48#51 at ./none:0 [inlined]",
      " [5] #request#1 at /Users/varit/.julia/packages/HTTP/wY7Vc/src/RetryRequest.jl:44 [inlined]",
      " [6] #request at ./none:0 [inlined]",
      " [7] #request#1(::VersionNumber, ::String, ::Nothing, ::Nothing, ::Base.Iterators.Pairs{Union{},Union{},Tuple{},NamedTuple{(),Tuple{}}}, ::Function, ::Type{HTTP.MessageRequest.MessageLayer{HTTP.RetryRequest.RetryLayer{HTTP.ExceptionRequest.ExceptionLayer{HTTP.ConnectionRequest.ConnectionPoolLayer{HTTP.StreamRequest.StreamLayer}}}}}, ::String, ::HTTP.URIs.URI, ::Array{Pair{SubString{String},SubString{String}},1}, ::Array{UInt8,1}) at /Users/varit/.julia/packages/HTTP/wY7Vc/src/MessageRequest.jl:47",
      " [8] request at /Users/varit/.julia/packages/HTTP/wY7Vc/src/MessageRequest.jl:28 [inlined]",
      " [9] #request#1(::Int64, ::Bool, ::Base.Iterators.Pairs{Union{},Union{},Tuple{},NamedTuple{(),Tuple{}}}, ::Function, ::Type{HTTP.RedirectRequest.RedirectLayer{HTTP.MessageRequest.MessageLayer{HTTP.RetryRequest.RetryLayer{HTTP.ExceptionRequest.ExceptionLayer{HTTP.ConnectionRequest.ConnectionPoolLayer{HTTP.StreamRequest.StreamLayer}}}}}}, ::String, ::HTTP.URIs.URI, ::Array{Pair{SubString{String},SubString{String}},1}, ::Array{UInt8,1}) at /Users/varit/.julia/packages/HTTP/wY7Vc/src/RedirectRequest.jl:24",
      " [10] request(::Type{HTTP.RedirectRequest.RedirectLayer{HTTP.MessageRequest.MessageLayer{HTTP.RetryRequest.RetryLayer{HTTP.ExceptionRequest.ExceptionLayer{HTTP.ConnectionRequest.ConnectionPoolLayer{HTTP.StreamRequest.StreamLayer}}}}}}, ::String, ::HTTP.URIs.URI, ::Array{Pair{SubString{String},SubString{String}},1}, ::Array{UInt8,1}) at /Users/varit/.julia/packages/HTTP/wY7Vc/src/RedirectRequest.jl:21",
      " [11] #request#5(::Base.Iterators.Pairs{Union{},Union{},Tuple{},NamedTuple{(),Tuple{}}}, ::Function, ::String, ::HTTP.URIs.URI, ::Array{Pair{SubString{String},SubString{String}},1}, ::Array{UInt8,1}) at /Users/varit/.julia/packages/HTTP/wY7Vc/src/HTTP.jl:300",
      " [12] request at /Users/varit/.julia/packages/HTTP/wY7Vc/src/HTTP.jl:300 [inlined]",
      " [13] #request#6 at /Users/varit/.julia/packages/HTTP/wY7Vc/src/HTTP.jl:314 [inlined]",
      " [14] #request at ./none:0 [inlined] (repeats 2 times)",
      " [15] #get_data#3(::Base.Iterators.Pairs{Union{},Union{},Tuple{},NamedTuple{(),Tuple{}}}, ::Function, ::Fred, ::String) at /Users/varit/.julia/packages/FredData/8HrnF/src/get_data.jl:52",
      " [16] get_data(::Fred, ::String) at /Users/varit/.julia/packages/FredData/8HrnF/src/get_data.jl:34",
      " [17] top-level scope at In[398]:1"
     ]
    }
   ],
   "source": [
    "### TNWBSNNBBDIx\n",
    "TNWBSNNBBDIx = get_data(f, \"TNWBSNNBBDIx\").data[:, [3,4]]\n",
    "TNWBSNNBBDIx = diff_ts(TNWBSNNBBDIx)"
   ]
  },
  {
   "cell_type": "code",
   "execution_count": null,
   "metadata": {
    "collapsed": true
   },
   "outputs": [],
   "source": []
  },
  {
   "cell_type": "code",
   "execution_count": 400,
   "metadata": {},
   "outputs": [
    {
     "name": "stdout",
     "output_type": "stream",
     "text": [
      "DONE\n"
     ]
    }
   ],
   "source": [
    "### CNCFx\n",
    "CNCFx = get_data(f, \"CNCF\").data[:,[3,4]]\n",
    "CNCFx = log_diff(CNCFx)\n",
    "println(\"DONE\")"
   ]
  },
  {
   "cell_type": "markdown",
   "metadata": {},
   "source": [
    "# Monthly data"
   ]
  },
  {
   "cell_type": "code",
   "execution_count": 144,
   "metadata": {},
   "outputs": [
    {
     "data": {
      "text/plain": [
       "FredSeries\n",
       "\tid: CMRMTSPL\n",
       "\ttitle: Real Manufacturing and Trade Industries Sales\n",
       "\tunits: Millions of Chained 2012 Dollars\n",
       "\tseas_adj (native): Seasonally Adjusted\n",
       "\tfreq (native): Monthly\n",
       "\trealtime_start: 2019-06-26\n",
       "\trealtime_end: 2019-06-26\n",
       "\tlast_updated: 2019-05-31T08:01:01\n",
       "\tnotes: Real Manufacturing and Trade Industries Sales (CMRMTSPL) was first constructed by the Federal Reserve Bank of St. Louis in June 2013. It is calculated using Real Manufacturing and Trade Industries Sales (HMRMT) (https://fred.stlouisfed.org/series/HMRMT) and Real Manufacturing and Trade Industries (CMRMT) (https://fred.stlouisfed.org/series/CMRMT). Before January 1997 lag1(HMRMT) = one observation earlier than current time period observation HMRMT_PC = the growth rate of HMRMT lead1(CMRMTSPL) = one observation later than current time period observation HMRMT_PC = [HMRMT/lag1(HMRMT) –1] CMRMTSPL= lead1(CMRMTSPL)/(1+HMRMT_PC) After December 1996 CMRMTSPL= CMRMT\n",
       "\ttrans_short: lin\n",
       "\tdata: 627x4 DataFrame with columns Symbol[:realtime_start, :realtime_end, :date, :value]\n"
      ]
     },
     "execution_count": 144,
     "metadata": {},
     "output_type": "execute_result"
    }
   ],
   "source": [
    "### RPI\n",
    "### PCECC96\n",
    "PCECC96 = get_data(f, \"PCECC96\").data[:,[3,4]]\n",
    "\n",
    "# Transform\n",
    "temp = zeros(length(PCECC96[:,1]))\n",
    "for i in 1:length(PCECC96[:,1])\n",
    "    temp[i] = log(PCECC96[i,2])\n",
    "end\n",
    "diff_array = diff(temp)\n",
    "for i in 1:length(PCECC96[:,1])-1\n",
    "    PCECC96[i,2] = diff_array[i]\n",
    "end\n",
    "PCECC96[length(GDPC1[:,1]),2] = NaN\n",
    "PCECC96[:,2] = replace(PCECC96[:,2], NaN => missing)\n",
    "println(\"DONE\")"
   ]
  },
  {
   "cell_type": "code",
   "execution_count": null,
   "metadata": {
    "collapsed": true
   },
   "outputs": [],
   "source": [
    "### W875RXI\n",
    "### PCECC96\n",
    "PCECC96 = get_data(f, \"PCECC96\").data[:,[3,4]]\n",
    "\n",
    "# Transform\n",
    "temp = zeros(length(PCECC96[:,1]))\n",
    "for i in 1:length(PCECC96[:,1])\n",
    "    temp[i] = log(PCECC96[i,2])\n",
    "end\n",
    "diff_array = diff(temp)\n",
    "for i in 1:length(PCECC96[:,1])-1\n",
    "    PCECC96[i,2] = diff_array[i]\n",
    "end\n",
    "PCECC96[length(GDPC1[:,1]),2] = NaN\n",
    "PCECC96[:,2] = replace(PCECC96[:,2], NaN => missing)\n",
    "println(\"DONE\")"
   ]
  },
  {
   "cell_type": "code",
   "execution_count": null,
   "metadata": {
    "collapsed": true
   },
   "outputs": [],
   "source": [
    "### INDPRO\n",
    "### PCECC96\n",
    "PCECC96 = get_data(f, \"PCECC96\").data[:,[3,4]]\n",
    "\n",
    "# Transform\n",
    "temp = zeros(length(PCECC96[:,1]))\n",
    "for i in 1:length(PCECC96[:,1])\n",
    "    temp[i] = log(PCECC96[i,2])\n",
    "end\n",
    "diff_array = diff(temp)\n",
    "for i in 1:length(PCECC96[:,1])-1\n",
    "    PCECC96[i,2] = diff_array[i]\n",
    "end\n",
    "PCECC96[length(GDPC1[:,1]),2] = NaN\n",
    "PCECC96[:,2] = replace(PCECC96[:,2], NaN => missing)\n",
    "println(\"DONE\")"
   ]
  },
  {
   "cell_type": "code",
   "execution_count": null,
   "metadata": {
    "collapsed": true
   },
   "outputs": [],
   "source": [
    "### IPFPNSS\n",
    "### PCECC96\n",
    "PCECC96 = get_data(f, \"PCECC96\").data[:,[3,4]]\n",
    "\n",
    "# Transform\n",
    "temp = zeros(length(PCECC96[:,1]))\n",
    "for i in 1:length(PCECC96[:,1])\n",
    "    temp[i] = log(PCECC96[i,2])\n",
    "end\n",
    "diff_array = diff(temp)\n",
    "for i in 1:length(PCECC96[:,1])-1\n",
    "    PCECC96[i,2] = diff_array[i]\n",
    "end\n",
    "PCECC96[length(GDPC1[:,1]),2] = NaN\n",
    "PCECC96[:,2] = replace(PCECC96[:,2], NaN => missing)\n",
    "println(\"DONE\")"
   ]
  },
  {
   "cell_type": "code",
   "execution_count": 133,
   "metadata": {
    "collapsed": true
   },
   "outputs": [],
   "source": [
    "### IPFINAL\n",
    "### PCECC96\n",
    "PCECC96 = get_data(f, \"PCECC96\").data[:,[3,4]]\n",
    "\n",
    "# Transform\n",
    "temp = zeros(length(PCECC96[:,1]))\n",
    "for i in 1:length(PCECC96[:,1])\n",
    "    temp[i] = log(PCECC96[i,2])\n",
    "end\n",
    "diff_array = diff(temp)\n",
    "for i in 1:length(PCECC96[:,1])-1\n",
    "    PCECC96[i,2] = diff_array[i]\n",
    "end\n",
    "PCECC96[length(GDPC1[:,1]),2] = NaN\n",
    "PCECC96[:,2] = replace(PCECC96[:,2], NaN => missing)\n",
    "println(\"DONE\")"
   ]
  },
  {
   "cell_type": "code",
   "execution_count": null,
   "metadata": {
    "collapsed": true
   },
   "outputs": [],
   "source": []
  },
  {
   "cell_type": "code",
   "execution_count": null,
   "metadata": {
    "collapsed": true
   },
   "outputs": [],
   "source": [
    "### IPCONGD\n",
    "### PCECC96\n",
    "PCECC96 = get_data(f, \"PCECC96\").data[:,[3,4]]\n",
    "\n",
    "# Transform\n",
    "temp = zeros(length(PCECC96[:,1]))\n",
    "for i in 1:length(PCECC96[:,1])\n",
    "    temp[i] = log(PCECC96[i,2])\n",
    "end\n",
    "diff_array = diff(temp)\n",
    "for i in 1:length(PCECC96[:,1])-1\n",
    "    PCECC96[i,2] = diff_array[i]\n",
    "end\n",
    "PCECC96[length(GDPC1[:,1]),2] = NaN\n",
    "PCECC96[:,2] = replace(PCECC96[:,2], NaN => missing)\n",
    "println(\"DONE\")"
   ]
  },
  {
   "cell_type": "code",
   "execution_count": null,
   "metadata": {
    "collapsed": true
   },
   "outputs": [],
   "source": [
    "### IPCONGD\n",
    "### PCECC96\n",
    "PCECC96 = get_data(f, \"PCECC96\").data[:,[3,4]]\n",
    "\n",
    "# Transform\n",
    "temp = zeros(length(PCECC96[:,1]))\n",
    "for i in 1:length(PCECC96[:,1])\n",
    "    temp[i] = log(PCECC96[i,2])\n",
    "end\n",
    "diff_array = diff(temp)\n",
    "for i in 1:length(PCECC96[:,1])-1\n",
    "    PCECC96[i,2] = diff_array[i]\n",
    "end\n",
    "PCECC96[length(GDPC1[:,1]),2] = NaN\n",
    "PCECC96[:,2] = replace(PCECC96[:,2], NaN => missing)\n",
    "println(\"DONE\")"
   ]
  },
  {
   "cell_type": "code",
   "execution_count": null,
   "metadata": {
    "collapsed": true
   },
   "outputs": [],
   "source": [
    "### IPDCONGD\n",
    "### PCECC96\n",
    "PCECC96 = get_data(f, \"PCECC96\").data[:,[3,4]]\n",
    "\n",
    "# Transform\n",
    "temp = zeros(length(PCECC96[:,1]))\n",
    "for i in 1:length(PCECC96[:,1])\n",
    "    temp[i] = log(PCECC96[i,2])\n",
    "end\n",
    "diff_array = diff(temp)\n",
    "for i in 1:length(PCECC96[:,1])-1\n",
    "    PCECC96[i,2] = diff_array[i]\n",
    "end\n",
    "PCECC96[length(GDPC1[:,1]),2] = NaN\n",
    "PCECC96[:,2] = replace(PCECC96[:,2], NaN => missing)\n",
    "println(\"DONE\")"
   ]
  },
  {
   "cell_type": "code",
   "execution_count": null,
   "metadata": {
    "collapsed": true
   },
   "outputs": [],
   "source": [
    "### IPNCONGD\n",
    "### PCECC96\n",
    "PCECC96 = get_data(f, \"PCECC96\").data[:,[3,4]]\n",
    "\n",
    "# Transform\n",
    "temp = zeros(length(PCECC96[:,1]))\n",
    "for i in 1:length(PCECC96[:,1])\n",
    "    temp[i] = log(PCECC96[i,2])\n",
    "end\n",
    "diff_array = diff(temp)\n",
    "for i in 1:length(PCECC96[:,1])-1\n",
    "    PCECC96[i,2] = diff_array[i]\n",
    "end\n",
    "PCECC96[length(GDPC1[:,1]),2] = NaN\n",
    "PCECC96[:,2] = replace(PCECC96[:,2], NaN => missing)\n",
    "println(\"DONE\")"
   ]
  },
  {
   "cell_type": "code",
   "execution_count": null,
   "metadata": {
    "collapsed": true
   },
   "outputs": [],
   "source": [
    "### IPBUSEQ\n",
    "### PCECC96\n",
    "PCECC96 = get_data(f, \"PCECC96\").data[:,[3,4]]\n",
    "\n",
    "# Transform\n",
    "temp = zeros(length(PCECC96[:,1]))\n",
    "for i in 1:length(PCECC96[:,1])\n",
    "    temp[i] = log(PCECC96[i,2])\n",
    "end\n",
    "diff_array = diff(temp)\n",
    "for i in 1:length(PCECC96[:,1])-1\n",
    "    PCECC96[i,2] = diff_array[i]\n",
    "end\n",
    "PCECC96[length(GDPC1[:,1]),2] = NaN\n",
    "PCECC96[:,2] = replace(PCECC96[:,2], NaN => missing)\n",
    "println(\"DONE\")"
   ]
  },
  {
   "cell_type": "code",
   "execution_count": null,
   "metadata": {
    "collapsed": true
   },
   "outputs": [],
   "source": [
    "### IPMAT\n",
    "### PCECC96\n",
    "PCECC96 = get_data(f, \"PCECC96\").data[:,[3,4]]\n",
    "\n",
    "# Transform\n",
    "temp = zeros(length(PCECC96[:,1]))\n",
    "for i in 1:length(PCECC96[:,1])\n",
    "    temp[i] = log(PCECC96[i,2])\n",
    "end\n",
    "diff_array = diff(temp)\n",
    "for i in 1:length(PCECC96[:,1])-1\n",
    "    PCECC96[i,2] = diff_array[i]\n",
    "end\n",
    "PCECC96[length(GDPC1[:,1]),2] = NaN\n",
    "PCECC96[:,2] = replace(PCECC96[:,2], NaN => missing)\n",
    "println(\"DONE\")"
   ]
  },
  {
   "cell_type": "code",
   "execution_count": null,
   "metadata": {
    "collapsed": true
   },
   "outputs": [],
   "source": [
    "### IPDMAT\n",
    "### PCECC96\n",
    "PCECC96 = get_data(f, \"PCECC96\").data[:,[3,4]]\n",
    "\n",
    "# Transform\n",
    "temp = zeros(length(PCECC96[:,1]))\n",
    "for i in 1:length(PCECC96[:,1])\n",
    "    temp[i] = log(PCECC96[i,2])\n",
    "end\n",
    "diff_array = diff(temp)\n",
    "for i in 1:length(PCECC96[:,1])-1\n",
    "    PCECC96[i,2] = diff_array[i]\n",
    "end\n",
    "PCECC96[length(GDPC1[:,1]),2] = NaN\n",
    "PCECC96[:,2] = replace(PCECC96[:,2], NaN => missing)\n",
    "println(\"DONE\")"
   ]
  },
  {
   "cell_type": "code",
   "execution_count": null,
   "metadata": {
    "collapsed": true
   },
   "outputs": [],
   "source": [
    "### IPNMAT\n",
    "### PCECC96\n",
    "PCECC96 = get_data(f, \"PCECC96\").data[:,[3,4]]\n",
    "\n",
    "# Transform\n",
    "temp = zeros(length(PCECC96[:,1]))\n",
    "for i in 1:length(PCECC96[:,1])\n",
    "    temp[i] = log(PCECC96[i,2])\n",
    "end\n",
    "diff_array = diff(temp)\n",
    "for i in 1:length(PCECC96[:,1])-1\n",
    "    PCECC96[i,2] = diff_array[i]\n",
    "end\n",
    "PCECC96[length(GDPC1[:,1]),2] = NaN\n",
    "PCECC96[:,2] = replace(PCECC96[:,2], NaN => missing)\n",
    "println(\"DONE\")"
   ]
  },
  {
   "cell_type": "code",
   "execution_count": null,
   "metadata": {
    "collapsed": true
   },
   "outputs": [],
   "source": [
    "### IPMANSICS\n",
    "### PCECC96\n",
    "PCECC96 = get_data(f, \"PCECC96\").data[:,[3,4]]\n",
    "\n",
    "# Transform\n",
    "temp = zeros(length(PCECC96[:,1]))\n",
    "for i in 1:length(PCECC96[:,1])\n",
    "    temp[i] = log(PCECC96[i,2])\n",
    "end\n",
    "diff_array = diff(temp)\n",
    "for i in 1:length(PCECC96[:,1])-1\n",
    "    PCECC96[i,2] = diff_array[i]\n",
    "end\n",
    "PCECC96[length(GDPC1[:,1]),2] = NaN\n",
    "PCECC96[:,2] = replace(PCECC96[:,2], NaN => missing)\n",
    "println(\"DONE\")"
   ]
  },
  {
   "cell_type": "code",
   "execution_count": null,
   "metadata": {
    "collapsed": true
   },
   "outputs": [],
   "source": [
    "### IPB51222S\n",
    "### PCECC96\n",
    "PCECC96 = get_data(f, \"PCECC96\").data[:,[3,4]]\n",
    "\n",
    "# Transform\n",
    "temp = zeros(length(PCECC96[:,1]))\n",
    "for i in 1:length(PCECC96[:,1])\n",
    "    temp[i] = log(PCECC96[i,2])\n",
    "end\n",
    "diff_array = diff(temp)\n",
    "for i in 1:length(PCECC96[:,1])-1\n",
    "    PCECC96[i,2] = diff_array[i]\n",
    "end\n",
    "PCECC96[length(GDPC1[:,1]),2] = NaN\n",
    "PCECC96[:,2] = replace(PCECC96[:,2], NaN => missing)\n",
    "println(\"DONE\")"
   ]
  },
  {
   "cell_type": "code",
   "execution_count": 161,
   "metadata": {},
   "outputs": [
    {
     "name": "stdout",
     "output_type": "stream",
     "text": [
      "DONE\n"
     ]
    }
   ],
   "source": [
    "### IPFUELS\n",
    "### PCECC96\n",
    "PCECC96 = get_data(f, \"PCECC96\").data[:,[3,4]]\n",
    "\n",
    "# Transform\n",
    "temp = zeros(length(PCECC96[:,1]))\n",
    "for i in 1:length(PCECC96[:,1])\n",
    "    temp[i] = log(PCECC96[i,2])\n",
    "end\n",
    "diff_array = diff(temp)\n",
    "for i in 1:length(PCECC96[:,1])-1\n",
    "    PCECC96[i,2] = diff_array[i]\n",
    "end\n",
    "PCECC96[length(GDPC1[:,1]),2] = NaN\n",
    "PCECC96[:,2] = replace(PCECC96[:,2], NaN => missing)\n",
    "println(\"DONE\")"
   ]
  },
  {
   "cell_type": "code",
   "execution_count": null,
   "metadata": {
    "collapsed": true
   },
   "outputs": [],
   "source": [
    "### NAPMPI"
   ]
  },
  {
   "cell_type": "code",
   "execution_count": null,
   "metadata": {
    "collapsed": true
   },
   "outputs": [],
   "source": [
    "### CUMFNS"
   ]
  },
  {
   "cell_type": "code",
   "execution_count": null,
   "metadata": {
    "collapsed": true
   },
   "outputs": [],
   "source": [
    "### HWI"
   ]
  },
  {
   "cell_type": "code",
   "execution_count": null,
   "metadata": {
    "collapsed": true
   },
   "outputs": [],
   "source": [
    "### HWIURATIO"
   ]
  },
  {
   "cell_type": "code",
   "execution_count": null,
   "metadata": {
    "collapsed": true
   },
   "outputs": [],
   "source": [
    "### CLF16OV\n",
    "### PCECC96\n",
    "PCECC96 = get_data(f, \"PCECC96\").data[:,[3,4]]\n",
    "\n",
    "# Transform\n",
    "temp = zeros(length(PCECC96[:,1]))\n",
    "for i in 1:length(PCECC96[:,1])\n",
    "    temp[i] = log(PCECC96[i,2])\n",
    "end\n",
    "diff_array = diff(temp)\n",
    "for i in 1:length(PCECC96[:,1])-1\n",
    "    PCECC96[i,2] = diff_array[i]\n",
    "end\n",
    "PCECC96[length(GDPC1[:,1]),2] = NaN\n",
    "PCECC96[:,2] = replace(PCECC96[:,2], NaN => missing)\n",
    "println(\"DONE\")"
   ]
  },
  {
   "cell_type": "code",
   "execution_count": null,
   "metadata": {
    "collapsed": true
   },
   "outputs": [],
   "source": [
    "### CE16OV\n",
    "### PCECC96\n",
    "PCECC96 = get_data(f, \"PCECC96\").data[:,[3,4]]\n",
    "\n",
    "# Transform\n",
    "temp = zeros(length(PCECC96[:,1]))\n",
    "for i in 1:length(PCECC96[:,1])\n",
    "    temp[i] = log(PCECC96[i,2])\n",
    "end\n",
    "diff_array = diff(temp)\n",
    "for i in 1:length(PCECC96[:,1])-1\n",
    "    PCECC96[i,2] = diff_array[i]\n",
    "end\n",
    "PCECC96[length(GDPC1[:,1]),2] = NaN\n",
    "PCECC96[:,2] = replace(PCECC96[:,2], NaN => missing)\n",
    "println(\"DONE\")"
   ]
  },
  {
   "cell_type": "code",
   "execution_count": null,
   "metadata": {
    "collapsed": true
   },
   "outputs": [],
   "source": [
    "### UNRATE"
   ]
  },
  {
   "cell_type": "code",
   "execution_count": null,
   "metadata": {
    "collapsed": true
   },
   "outputs": [],
   "source": [
    "### UEMPMEAN"
   ]
  },
  {
   "cell_type": "code",
   "execution_count": null,
   "metadata": {
    "collapsed": true
   },
   "outputs": [],
   "source": [
    "### UEMPLT5\n",
    "### PCECC96\n",
    "PCECC96 = get_data(f, \"PCECC96\").data[:,[3,4]]\n",
    "\n",
    "# Transform\n",
    "temp = zeros(length(PCECC96[:,1]))\n",
    "for i in 1:length(PCECC96[:,1])\n",
    "    temp[i] = log(PCECC96[i,2])\n",
    "end\n",
    "diff_array = diff(temp)\n",
    "for i in 1:length(PCECC96[:,1])-1\n",
    "    PCECC96[i,2] = diff_array[i]\n",
    "end\n",
    "PCECC96[length(GDPC1[:,1]),2] = NaN\n",
    "PCECC96[:,2] = replace(PCECC96[:,2], NaN => missing)\n",
    "println(\"DONE\")"
   ]
  },
  {
   "cell_type": "code",
   "execution_count": null,
   "metadata": {
    "collapsed": true
   },
   "outputs": [],
   "source": [
    "### UEMP5TO14\n",
    "### PCECC96\n",
    "PCECC96 = get_data(f, \"PCECC96\").data[:,[3,4]]\n",
    "\n",
    "# Transform\n",
    "temp = zeros(length(PCECC96[:,1]))\n",
    "for i in 1:length(PCECC96[:,1])\n",
    "    temp[i] = log(PCECC96[i,2])\n",
    "end\n",
    "diff_array = diff(temp)\n",
    "for i in 1:length(PCECC96[:,1])-1\n",
    "    PCECC96[i,2] = diff_array[i]\n",
    "end\n",
    "PCECC96[length(GDPC1[:,1]),2] = NaN\n",
    "PCECC96[:,2] = replace(PCECC96[:,2], NaN => missing)\n",
    "println(\"DONE\")"
   ]
  },
  {
   "cell_type": "code",
   "execution_count": null,
   "metadata": {
    "collapsed": true
   },
   "outputs": [],
   "source": [
    "### UEMP15OV\n",
    "### PCECC96\n",
    "PCECC96 = get_data(f, \"PCECC96\").data[:,[3,4]]\n",
    "\n",
    "# Transform\n",
    "temp = zeros(length(PCECC96[:,1]))\n",
    "for i in 1:length(PCECC96[:,1])\n",
    "    temp[i] = log(PCECC96[i,2])\n",
    "end\n",
    "diff_array = diff(temp)\n",
    "for i in 1:length(PCECC96[:,1])-1\n",
    "    PCECC96[i,2] = diff_array[i]\n",
    "end\n",
    "PCECC96[length(GDPC1[:,1]),2] = NaN\n",
    "PCECC96[:,2] = replace(PCECC96[:,2], NaN => missing)\n",
    "println(\"DONE\")"
   ]
  },
  {
   "cell_type": "code",
   "execution_count": null,
   "metadata": {
    "collapsed": true
   },
   "outputs": [],
   "source": [
    "### UEMP15T26\n",
    "### PCECC96\n",
    "PCECC96 = get_data(f, \"PCECC96\").data[:,[3,4]]\n",
    "\n",
    "# Transform\n",
    "temp = zeros(length(PCECC96[:,1]))\n",
    "for i in 1:length(PCECC96[:,1])\n",
    "    temp[i] = log(PCECC96[i,2])\n",
    "end\n",
    "diff_array = diff(temp)\n",
    "for i in 1:length(PCECC96[:,1])-1\n",
    "    PCECC96[i,2] = diff_array[i]\n",
    "end\n",
    "PCECC96[length(GDPC1[:,1]),2] = NaN\n",
    "PCECC96[:,2] = replace(PCECC96[:,2], NaN => missing)\n",
    "println(\"DONE\")"
   ]
  },
  {
   "cell_type": "code",
   "execution_count": null,
   "metadata": {
    "collapsed": true
   },
   "outputs": [],
   "source": [
    "### UEMP27OV\n",
    "### PCECC96\n",
    "PCECC96 = get_data(f, \"PCECC96\").data[:,[3,4]]\n",
    "\n",
    "# Transform\n",
    "temp = zeros(length(PCECC96[:,1]))\n",
    "for i in 1:length(PCECC96[:,1])\n",
    "    temp[i] = log(PCECC96[i,2])\n",
    "end\n",
    "diff_array = diff(temp)\n",
    "for i in 1:length(PCECC96[:,1])-1\n",
    "    PCECC96[i,2] = diff_array[i]\n",
    "end\n",
    "PCECC96[length(GDPC1[:,1]),2] = NaN\n",
    "PCECC96[:,2] = replace(PCECC96[:,2], NaN => missing)\n",
    "println(\"DONE\")"
   ]
  },
  {
   "cell_type": "code",
   "execution_count": null,
   "metadata": {
    "collapsed": true
   },
   "outputs": [],
   "source": [
    "### CLAIMSx\n",
    "### PCECC96\n",
    "PCECC96 = get_data(f, \"PCECC96\").data[:,[3,4]]\n",
    "\n",
    "# Transform\n",
    "temp = zeros(length(PCECC96[:,1]))\n",
    "for i in 1:length(PCECC96[:,1])\n",
    "    temp[i] = log(PCECC96[i,2])\n",
    "end\n",
    "diff_array = diff(temp)\n",
    "for i in 1:length(PCECC96[:,1])-1\n",
    "    PCECC96[i,2] = diff_array[i]\n",
    "end\n",
    "PCECC96[length(GDPC1[:,1]),2] = NaN\n",
    "PCECC96[:,2] = replace(PCECC96[:,2], NaN => missing)\n",
    "println(\"DONE\")"
   ]
  },
  {
   "cell_type": "code",
   "execution_count": null,
   "metadata": {
    "collapsed": true
   },
   "outputs": [],
   "source": [
    "### PAYEMS\n",
    "### PCECC96\n",
    "PCECC96 = get_data(f, \"PCECC96\").data[:,[3,4]]\n",
    "\n",
    "# Transform\n",
    "temp = zeros(length(PCECC96[:,1]))\n",
    "for i in 1:length(PCECC96[:,1])\n",
    "    temp[i] = log(PCECC96[i,2])\n",
    "end\n",
    "diff_array = diff(temp)\n",
    "for i in 1:length(PCECC96[:,1])-1\n",
    "    PCECC96[i,2] = diff_array[i]\n",
    "end\n",
    "PCECC96[length(GDPC1[:,1]),2] = NaN\n",
    "PCECC96[:,2] = replace(PCECC96[:,2], NaN => missing)\n",
    "println(\"DONE\")"
   ]
  },
  {
   "cell_type": "code",
   "execution_count": null,
   "metadata": {
    "collapsed": true
   },
   "outputs": [],
   "source": [
    "### USGOOD\n",
    "### PCECC96\n",
    "PCECC96 = get_data(f, \"PCECC96\").data[:,[3,4]]\n",
    "\n",
    "# Transform\n",
    "temp = zeros(length(PCECC96[:,1]))\n",
    "for i in 1:length(PCECC96[:,1])\n",
    "    temp[i] = log(PCECC96[i,2])\n",
    "end\n",
    "diff_array = diff(temp)\n",
    "for i in 1:length(PCECC96[:,1])-1\n",
    "    PCECC96[i,2] = diff_array[i]\n",
    "end\n",
    "PCECC96[length(GDPC1[:,1]),2] = NaN\n",
    "PCECC96[:,2] = replace(PCECC96[:,2], NaN => missing)\n",
    "println(\"DONE\")"
   ]
  },
  {
   "cell_type": "code",
   "execution_count": null,
   "metadata": {
    "collapsed": true
   },
   "outputs": [],
   "source": [
    "### CES1021000001\n",
    "PCECC96 = get_data(f, \"PCECC96\").data[:,[3,4]]\n",
    "\n",
    "# Transform\n",
    "temp = zeros(length(PCECC96[:,1]))\n",
    "for i in 1:length(PCECC96[:,1])\n",
    "    temp[i] = log(PCECC96[i,2])\n",
    "end\n",
    "diff_array = diff(temp)\n",
    "for i in 1:length(PCECC96[:,1])-1\n",
    "    PCECC96[i,2] = diff_array[i]\n",
    "end\n",
    "PCECC96[length(GDPC1[:,1]),2] = NaN\n",
    "PCECC96[:,2] = replace(PCECC96[:,2], NaN => missing)\n",
    "println(\"DONE\")"
   ]
  },
  {
   "cell_type": "code",
   "execution_count": null,
   "metadata": {
    "collapsed": true
   },
   "outputs": [],
   "source": [
    "### USCONS\n",
    "PCECC96 = get_data(f, \"PCECC96\").data[:,[3,4]]\n",
    "\n",
    "# Transform\n",
    "temp = zeros(length(PCECC96[:,1]))\n",
    "for i in 1:length(PCECC96[:,1])\n",
    "    temp[i] = log(PCECC96[i,2])\n",
    "end\n",
    "diff_array = diff(temp)\n",
    "for i in 1:length(PCECC96[:,1])-1\n",
    "    PCECC96[i,2] = diff_array[i]\n",
    "end\n",
    "PCECC96[length(GDPC1[:,1]),2] = NaN\n",
    "PCECC96[:,2] = replace(PCECC96[:,2], NaN => missing)\n",
    "println(\"DONE\")"
   ]
  },
  {
   "cell_type": "code",
   "execution_count": null,
   "metadata": {
    "collapsed": true
   },
   "outputs": [],
   "source": [
    "### MANEMP\n",
    "PCECC96 = get_data(f, \"PCECC96\").data[:,[3,4]]\n",
    "\n",
    "# Transform\n",
    "temp = zeros(length(PCECC96[:,1]))\n",
    "for i in 1:length(PCECC96[:,1])\n",
    "    temp[i] = log(PCECC96[i,2])\n",
    "end\n",
    "diff_array = diff(temp)\n",
    "for i in 1:length(PCECC96[:,1])-1\n",
    "    PCECC96[i,2] = diff_array[i]\n",
    "end\n",
    "PCECC96[length(GDPC1[:,1]),2] = NaN\n",
    "PCECC96[:,2] = replace(PCECC96[:,2], NaN => missing)\n",
    "println(\"DONE\")"
   ]
  },
  {
   "cell_type": "code",
   "execution_count": null,
   "metadata": {
    "collapsed": true
   },
   "outputs": [],
   "source": [
    "### DMANEMP\n",
    "PCECC96 = get_data(f, \"PCECC96\").data[:,[3,4]]\n",
    "\n",
    "# Transform\n",
    "temp = zeros(length(PCECC96[:,1]))\n",
    "for i in 1:length(PCECC96[:,1])\n",
    "    temp[i] = log(PCECC96[i,2])\n",
    "end\n",
    "diff_array = diff(temp)\n",
    "for i in 1:length(PCECC96[:,1])-1\n",
    "    PCECC96[i,2] = diff_array[i]\n",
    "end\n",
    "PCECC96[length(GDPC1[:,1]),2] = NaN\n",
    "PCECC96[:,2] = replace(PCECC96[:,2], NaN => missing)\n",
    "println(\"DONE\")"
   ]
  },
  {
   "cell_type": "code",
   "execution_count": null,
   "metadata": {
    "collapsed": true
   },
   "outputs": [],
   "source": [
    "### NDMANEMP\n",
    "PCECC96 = get_data(f, \"PCECC96\").data[:,[3,4]]\n",
    "\n",
    "# Transform\n",
    "temp = zeros(length(PCECC96[:,1]))\n",
    "for i in 1:length(PCECC96[:,1])\n",
    "    temp[i] = log(PCECC96[i,2])\n",
    "end\n",
    "diff_array = diff(temp)\n",
    "for i in 1:length(PCECC96[:,1])-1\n",
    "    PCECC96[i,2] = diff_array[i]\n",
    "end\n",
    "PCECC96[length(GDPC1[:,1]),2] = NaN\n",
    "PCECC96[:,2] = replace(PCECC96[:,2], NaN => missing)\n",
    "println(\"DONE\")"
   ]
  },
  {
   "cell_type": "code",
   "execution_count": null,
   "metadata": {
    "collapsed": true
   },
   "outputs": [],
   "source": [
    "### SRVPRD\n",
    "PCECC96 = get_data(f, \"PCECC96\").data[:,[3,4]]\n",
    "\n",
    "# Transform\n",
    "temp = zeros(length(PCECC96[:,1]))\n",
    "for i in 1:length(PCECC96[:,1])\n",
    "    temp[i] = log(PCECC96[i,2])\n",
    "end\n",
    "diff_array = diff(temp)\n",
    "for i in 1:length(PCECC96[:,1])-1\n",
    "    PCECC96[i,2] = diff_array[i]\n",
    "end\n",
    "PCECC96[length(GDPC1[:,1]),2] = NaN\n",
    "PCECC96[:,2] = replace(PCECC96[:,2], NaN => missing)\n",
    "println(\"DONE\")"
   ]
  },
  {
   "cell_type": "code",
   "execution_count": null,
   "metadata": {
    "collapsed": true
   },
   "outputs": [],
   "source": [
    "### USTPU\n",
    "PCECC96 = get_data(f, \"PCECC96\").data[:,[3,4]]\n",
    "\n",
    "# Transform\n",
    "temp = zeros(length(PCECC96[:,1]))\n",
    "for i in 1:length(PCECC96[:,1])\n",
    "    temp[i] = log(PCECC96[i,2])\n",
    "end\n",
    "diff_array = diff(temp)\n",
    "for i in 1:length(PCECC96[:,1])-1\n",
    "    PCECC96[i,2] = diff_array[i]\n",
    "end\n",
    "PCECC96[length(GDPC1[:,1]),2] = NaN\n",
    "PCECC96[:,2] = replace(PCECC96[:,2], NaN => missing)\n",
    "println(\"DONE\")"
   ]
  },
  {
   "cell_type": "code",
   "execution_count": null,
   "metadata": {
    "collapsed": true
   },
   "outputs": [],
   "source": [
    "### USWTRADE\n",
    "PCECC96 = get_data(f, \"PCECC96\").data[:,[3,4]]\n",
    "\n",
    "# Transform\n",
    "temp = zeros(length(PCECC96[:,1]))\n",
    "for i in 1:length(PCECC96[:,1])\n",
    "    temp[i] = log(PCECC96[i,2])\n",
    "end\n",
    "diff_array = diff(temp)\n",
    "for i in 1:length(PCECC96[:,1])-1\n",
    "    PCECC96[i,2] = diff_array[i]\n",
    "end\n",
    "PCECC96[length(GDPC1[:,1]),2] = NaN\n",
    "PCECC96[:,2] = replace(PCECC96[:,2], NaN => missing)\n",
    "println(\"DONE\")"
   ]
  },
  {
   "cell_type": "code",
   "execution_count": null,
   "metadata": {
    "collapsed": true
   },
   "outputs": [],
   "source": [
    "### USTRADE\n",
    "PCECC96 = get_data(f, \"PCECC96\").data[:,[3,4]]\n",
    "\n",
    "# Transform\n",
    "temp = zeros(length(PCECC96[:,1]))\n",
    "for i in 1:length(PCECC96[:,1])\n",
    "    temp[i] = log(PCECC96[i,2])\n",
    "end\n",
    "diff_array = diff(temp)\n",
    "for i in 1:length(PCECC96[:,1])-1\n",
    "    PCECC96[i,2] = diff_array[i]\n",
    "end\n",
    "PCECC96[length(GDPC1[:,1]),2] = NaN\n",
    "PCECC96[:,2] = replace(PCECC96[:,2], NaN => missing)\n",
    "println(\"DONE\")"
   ]
  },
  {
   "cell_type": "code",
   "execution_count": null,
   "metadata": {
    "collapsed": true
   },
   "outputs": [],
   "source": [
    "### USFIRE\n",
    "PCECC96 = get_data(f, \"PCECC96\").data[:,[3,4]]\n",
    "\n",
    "# Transform\n",
    "temp = zeros(length(PCECC96[:,1]))\n",
    "for i in 1:length(PCECC96[:,1])\n",
    "    temp[i] = log(PCECC96[i,2])\n",
    "end\n",
    "diff_array = diff(temp)\n",
    "for i in 1:length(PCECC96[:,1])-1\n",
    "    PCECC96[i,2] = diff_array[i]\n",
    "end\n",
    "PCECC96[length(GDPC1[:,1]),2] = NaN\n",
    "PCECC96[:,2] = replace(PCECC96[:,2], NaN => missing)\n",
    "println(\"DONE\")"
   ]
  },
  {
   "cell_type": "code",
   "execution_count": null,
   "metadata": {
    "collapsed": true
   },
   "outputs": [],
   "source": [
    "### USGOVT\n",
    "PCECC96 = get_data(f, \"PCECC96\").data[:,[3,4]]\n",
    "\n",
    "# Transform\n",
    "temp = zeros(length(PCECC96[:,1]))\n",
    "for i in 1:length(PCECC96[:,1])\n",
    "    temp[i] = log(PCECC96[i,2])\n",
    "end\n",
    "diff_array = diff(temp)\n",
    "for i in 1:length(PCECC96[:,1])-1\n",
    "    PCECC96[i,2] = diff_array[i]\n",
    "end\n",
    "PCECC96[length(GDPC1[:,1]),2] = NaN\n",
    "PCECC96[:,2] = replace(PCECC96[:,2], NaN => missing)\n",
    "println(\"DONE\")"
   ]
  },
  {
   "cell_type": "code",
   "execution_count": null,
   "metadata": {
    "collapsed": true
   },
   "outputs": [],
   "source": [
    "### CES0600000007"
   ]
  },
  {
   "cell_type": "code",
   "execution_count": null,
   "metadata": {
    "collapsed": true
   },
   "outputs": [],
   "source": [
    "### AWOTMAN"
   ]
  },
  {
   "cell_type": "code",
   "execution_count": null,
   "metadata": {
    "collapsed": true
   },
   "outputs": [],
   "source": [
    "### AWHMAN"
   ]
  },
  {
   "cell_type": "code",
   "execution_count": null,
   "metadata": {
    "collapsed": true
   },
   "outputs": [],
   "source": [
    "### NAPMEI"
   ]
  },
  {
   "cell_type": "code",
   "execution_count": null,
   "metadata": {
    "collapsed": true
   },
   "outputs": [],
   "source": [
    "### CES0600000008"
   ]
  },
  {
   "cell_type": "code",
   "execution_count": null,
   "metadata": {
    "collapsed": true
   },
   "outputs": [],
   "source": [
    "### CES2000000008"
   ]
  },
  {
   "cell_type": "code",
   "execution_count": null,
   "metadata": {
    "collapsed": true
   },
   "outputs": [],
   "source": [
    "### CES3000000008"
   ]
  },
  {
   "cell_type": "code",
   "execution_count": null,
   "metadata": {
    "collapsed": true
   },
   "outputs": [],
   "source": [
    "### HOUST"
   ]
  },
  {
   "cell_type": "code",
   "execution_count": null,
   "metadata": {
    "collapsed": true
   },
   "outputs": [],
   "source": [
    "### HOUSTNE"
   ]
  },
  {
   "cell_type": "code",
   "execution_count": null,
   "metadata": {
    "collapsed": true
   },
   "outputs": [],
   "source": [
    "### HOUSTMW"
   ]
  },
  {
   "cell_type": "code",
   "execution_count": null,
   "metadata": {
    "collapsed": true
   },
   "outputs": [],
   "source": [
    "### HOUSTS"
   ]
  },
  {
   "cell_type": "code",
   "execution_count": null,
   "metadata": {
    "collapsed": true
   },
   "outputs": [],
   "source": [
    "### HOUSTW"
   ]
  },
  {
   "cell_type": "code",
   "execution_count": null,
   "metadata": {
    "collapsed": true
   },
   "outputs": [],
   "source": [
    "### PERMIT"
   ]
  },
  {
   "cell_type": "code",
   "execution_count": null,
   "metadata": {
    "collapsed": true
   },
   "outputs": [],
   "source": [
    "### PERMITNE"
   ]
  },
  {
   "cell_type": "code",
   "execution_count": null,
   "metadata": {
    "collapsed": true
   },
   "outputs": [],
   "source": [
    "### PERMITMW"
   ]
  },
  {
   "cell_type": "code",
   "execution_count": null,
   "metadata": {
    "collapsed": true
   },
   "outputs": [],
   "source": [
    "### PERMITS"
   ]
  },
  {
   "cell_type": "code",
   "execution_count": null,
   "metadata": {
    "collapsed": true
   },
   "outputs": [],
   "source": [
    "### PERMITW"
   ]
  },
  {
   "cell_type": "code",
   "execution_count": null,
   "metadata": {
    "collapsed": true
   },
   "outputs": [],
   "source": [
    "### DPCERA3M086SBEA\n",
    "PCECC96 = get_data(f, \"PCECC96\").data[:,[3,4]]\n",
    "\n",
    "# Transform\n",
    "temp = zeros(length(PCECC96[:,1]))\n",
    "for i in 1:length(PCECC96[:,1])\n",
    "    temp[i] = log(PCECC96[i,2])\n",
    "end\n",
    "diff_array = diff(temp)\n",
    "for i in 1:length(PCECC96[:,1])-1\n",
    "    PCECC96[i,2] = diff_array[i]\n",
    "end\n",
    "PCECC96[length(GDPC1[:,1]),2] = NaN\n",
    "PCECC96[:,2] = replace(PCECC96[:,2], NaN => missing)\n",
    "println(\"DONE\")"
   ]
  },
  {
   "cell_type": "code",
   "execution_count": null,
   "metadata": {
    "collapsed": true
   },
   "outputs": [],
   "source": [
    "### CMRMTSPLx\n",
    "PCECC96 = get_data(f, \"PCECC96\").data[:,[3,4]]\n",
    "\n",
    "# Transform\n",
    "temp = zeros(length(PCECC96[:,1]))\n",
    "for i in 1:length(PCECC96[:,1])\n",
    "    temp[i] = log(PCECC96[i,2])\n",
    "end\n",
    "diff_array = diff(temp)\n",
    "for i in 1:length(PCECC96[:,1])-1\n",
    "    PCECC96[i,2] = diff_array[i]\n",
    "end\n",
    "PCECC96[length(GDPC1[:,1]),2] = NaN\n",
    "PCECC96[:,2] = replace(PCECC96[:,2], NaN => missing)\n",
    "println(\"DONE\")"
   ]
  },
  {
   "cell_type": "code",
   "execution_count": null,
   "metadata": {
    "collapsed": true
   },
   "outputs": [],
   "source": [
    "### RETAILx\n",
    "PCECC96 = get_data(f, \"PCECC96\").data[:,[3,4]]\n",
    "\n",
    "# Transform\n",
    "temp = zeros(length(PCECC96[:,1]))\n",
    "for i in 1:length(PCECC96[:,1])\n",
    "    temp[i] = log(PCECC96[i,2])\n",
    "end\n",
    "diff_array = diff(temp)\n",
    "for i in 1:length(PCECC96[:,1])-1\n",
    "    PCECC96[i,2] = diff_array[i]\n",
    "end\n",
    "PCECC96[length(GDPC1[:,1]),2] = NaN\n",
    "PCECC96[:,2] = replace(PCECC96[:,2], NaN => missing)\n",
    "println(\"DONE\")"
   ]
  },
  {
   "cell_type": "code",
   "execution_count": null,
   "metadata": {
    "collapsed": true
   },
   "outputs": [],
   "source": [
    "### NAPM"
   ]
  },
  {
   "cell_type": "code",
   "execution_count": null,
   "metadata": {
    "collapsed": true
   },
   "outputs": [],
   "source": [
    "### NAPMNOI"
   ]
  },
  {
   "cell_type": "code",
   "execution_count": null,
   "metadata": {
    "collapsed": true
   },
   "outputs": [],
   "source": [
    "### NAPMSDI"
   ]
  },
  {
   "cell_type": "code",
   "execution_count": null,
   "metadata": {
    "collapsed": true
   },
   "outputs": [],
   "source": [
    "### NAPMII"
   ]
  },
  {
   "cell_type": "code",
   "execution_count": null,
   "metadata": {
    "collapsed": true
   },
   "outputs": [],
   "source": [
    "### ACOGNO\n",
    "PCECC96 = get_data(f, \"PCECC96\").data[:,[3,4]]\n",
    "\n",
    "# Transform\n",
    "temp = zeros(length(PCECC96[:,1]))\n",
    "for i in 1:length(PCECC96[:,1])\n",
    "    temp[i] = log(PCECC96[i,2])\n",
    "end\n",
    "diff_array = diff(temp)\n",
    "for i in 1:length(PCECC96[:,1])-1\n",
    "    PCECC96[i,2] = diff_array[i]\n",
    "end\n",
    "PCECC96[length(GDPC1[:,1]),2] = NaN\n",
    "PCECC96[:,2] = replace(PCECC96[:,2], NaN => missing)\n",
    "println(\"DONE\")"
   ]
  },
  {
   "cell_type": "code",
   "execution_count": null,
   "metadata": {
    "collapsed": true
   },
   "outputs": [],
   "source": [
    "### AMDMNOx\n",
    "PCECC96 = get_data(f, \"PCECC96\").data[:,[3,4]]\n",
    "\n",
    "# Transform\n",
    "temp = zeros(length(PCECC96[:,1]))\n",
    "for i in 1:length(PCECC96[:,1])\n",
    "    temp[i] = log(PCECC96[i,2])\n",
    "end\n",
    "diff_array = diff(temp)\n",
    "for i in 1:length(PCECC96[:,1])-1\n",
    "    PCECC96[i,2] = diff_array[i]\n",
    "end\n",
    "PCECC96[length(GDPC1[:,1]),2] = NaN\n",
    "PCECC96[:,2] = replace(PCECC96[:,2], NaN => missing)\n",
    "println(\"DONE\")"
   ]
  },
  {
   "cell_type": "code",
   "execution_count": null,
   "metadata": {
    "collapsed": true
   },
   "outputs": [],
   "source": [
    "### ANDENOx\n",
    "PCECC96 = get_data(f, \"PCECC96\").data[:,[3,4]]\n",
    "\n",
    "# Transform\n",
    "temp = zeros(length(PCECC96[:,1]))\n",
    "for i in 1:length(PCECC96[:,1])\n",
    "    temp[i] = log(PCECC96[i,2])\n",
    "end\n",
    "diff_array = diff(temp)\n",
    "for i in 1:length(PCECC96[:,1])-1\n",
    "    PCECC96[i,2] = diff_array[i]\n",
    "end\n",
    "PCECC96[length(GDPC1[:,1]),2] = NaN\n",
    "PCECC96[:,2] = replace(PCECC96[:,2], NaN => missing)\n",
    "println(\"DONE\")"
   ]
  },
  {
   "cell_type": "code",
   "execution_count": null,
   "metadata": {
    "collapsed": true
   },
   "outputs": [],
   "source": [
    "### AMDMUOx\n",
    "PCECC96 = get_data(f, \"PCECC96\").data[:,[3,4]]\n",
    "\n",
    "# Transform\n",
    "temp = zeros(length(PCECC96[:,1]))\n",
    "for i in 1:length(PCECC96[:,1])\n",
    "    temp[i] = log(PCECC96[i,2])\n",
    "end\n",
    "diff_array = diff(temp)\n",
    "for i in 1:length(PCECC96[:,1])-1\n",
    "    PCECC96[i,2] = diff_array[i]\n",
    "end\n",
    "PCECC96[length(GDPC1[:,1]),2] = NaN\n",
    "PCECC96[:,2] = replace(PCECC96[:,2], NaN => missing)\n",
    "println(\"DONE\")"
   ]
  },
  {
   "cell_type": "code",
   "execution_count": null,
   "metadata": {
    "collapsed": true
   },
   "outputs": [],
   "source": [
    "### BUSINVx\n",
    "PCECC96 = get_data(f, \"PCECC96\").data[:,[3,4]]\n",
    "\n",
    "# Transform\n",
    "temp = zeros(length(PCECC96[:,1]))\n",
    "for i in 1:length(PCECC96[:,1])\n",
    "    temp[i] = log(PCECC96[i,2])\n",
    "end\n",
    "diff_array = diff(temp)\n",
    "for i in 1:length(PCECC96[:,1])-1\n",
    "    PCECC96[i,2] = diff_array[i]\n",
    "end\n",
    "PCECC96[length(GDPC1[:,1]),2] = NaN\n",
    "PCECC96[:,2] = replace(PCECC96[:,2], NaN => missing)\n",
    "println(\"DONE\")"
   ]
  },
  {
   "cell_type": "code",
   "execution_count": null,
   "metadata": {
    "collapsed": true
   },
   "outputs": [],
   "source": [
    "### ISRATIOx"
   ]
  },
  {
   "cell_type": "code",
   "execution_count": null,
   "metadata": {
    "collapsed": true
   },
   "outputs": [],
   "source": [
    "### UMCSENTx"
   ]
  },
  {
   "cell_type": "code",
   "execution_count": null,
   "metadata": {
    "collapsed": true
   },
   "outputs": [],
   "source": [
    "### M1SL"
   ]
  },
  {
   "cell_type": "code",
   "execution_count": null,
   "metadata": {
    "collapsed": true
   },
   "outputs": [],
   "source": [
    "### M2SL"
   ]
  },
  {
   "cell_type": "code",
   "execution_count": null,
   "metadata": {
    "collapsed": true
   },
   "outputs": [],
   "source": [
    "### M2REAL\n",
    "PCECC96 = get_data(f, \"PCECC96\").data[:,[3,4]]\n",
    "\n",
    "# Transform\n",
    "temp = zeros(length(PCECC96[:,1]))\n",
    "for i in 1:length(PCECC96[:,1])\n",
    "    temp[i] = log(PCECC96[i,2])\n",
    "end\n",
    "diff_array = diff(temp)\n",
    "for i in 1:length(PCECC96[:,1])-1\n",
    "    PCECC96[i,2] = diff_array[i]\n",
    "end\n",
    "PCECC96[length(GDPC1[:,1]),2] = NaN\n",
    "PCECC96[:,2] = replace(PCECC96[:,2], NaN => missing)\n",
    "println(\"DONE\")"
   ]
  },
  {
   "cell_type": "code",
   "execution_count": null,
   "metadata": {
    "collapsed": true
   },
   "outputs": [],
   "source": [
    "### AMBSL"
   ]
  },
  {
   "cell_type": "code",
   "execution_count": null,
   "metadata": {
    "collapsed": true
   },
   "outputs": [],
   "source": [
    "### TOTRESNS"
   ]
  },
  {
   "cell_type": "code",
   "execution_count": null,
   "metadata": {
    "collapsed": true
   },
   "outputs": [],
   "source": [
    "### NONBORRES"
   ]
  },
  {
   "cell_type": "code",
   "execution_count": null,
   "metadata": {
    "collapsed": true
   },
   "outputs": [],
   "source": [
    "### BUSLOANS"
   ]
  },
  {
   "cell_type": "code",
   "execution_count": null,
   "metadata": {
    "collapsed": true
   },
   "outputs": [],
   "source": [
    "### REALLN"
   ]
  },
  {
   "cell_type": "code",
   "execution_count": null,
   "metadata": {
    "collapsed": true
   },
   "outputs": [],
   "source": [
    "### NONREVSL"
   ]
  },
  {
   "cell_type": "code",
   "execution_count": null,
   "metadata": {
    "collapsed": true
   },
   "outputs": [],
   "source": [
    "### CONSPI"
   ]
  },
  {
   "cell_type": "code",
   "execution_count": null,
   "metadata": {
    "collapsed": true
   },
   "outputs": [],
   "source": [
    "### MZMSL"
   ]
  },
  {
   "cell_type": "code",
   "execution_count": null,
   "metadata": {
    "collapsed": true
   },
   "outputs": [],
   "source": [
    "### DTCOLNVHFNM"
   ]
  },
  {
   "cell_type": "code",
   "execution_count": null,
   "metadata": {
    "collapsed": true
   },
   "outputs": [],
   "source": [
    "### DTCTHFNM"
   ]
  },
  {
   "cell_type": "code",
   "execution_count": null,
   "metadata": {
    "collapsed": true
   },
   "outputs": [],
   "source": [
    "### INVEST"
   ]
  },
  {
   "cell_type": "code",
   "execution_count": null,
   "metadata": {
    "collapsed": true
   },
   "outputs": [],
   "source": [
    "### FEDFUNDS"
   ]
  },
  {
   "cell_type": "code",
   "execution_count": null,
   "metadata": {
    "collapsed": true
   },
   "outputs": [],
   "source": [
    "### CP3Mx"
   ]
  },
  {
   "cell_type": "code",
   "execution_count": null,
   "metadata": {
    "collapsed": true
   },
   "outputs": [],
   "source": [
    "### TB3MS"
   ]
  },
  {
   "cell_type": "code",
   "execution_count": null,
   "metadata": {
    "collapsed": true
   },
   "outputs": [],
   "source": [
    "### TB6MS"
   ]
  },
  {
   "cell_type": "code",
   "execution_count": null,
   "metadata": {
    "collapsed": true
   },
   "outputs": [],
   "source": [
    "### GS1\n"
   ]
  },
  {
   "cell_type": "code",
   "execution_count": null,
   "metadata": {
    "collapsed": true
   },
   "outputs": [],
   "source": [
    "### GS5"
   ]
  },
  {
   "cell_type": "code",
   "execution_count": null,
   "metadata": {
    "collapsed": true
   },
   "outputs": [],
   "source": [
    "### GS10"
   ]
  },
  {
   "cell_type": "code",
   "execution_count": null,
   "metadata": {
    "collapsed": true
   },
   "outputs": [],
   "source": [
    "### AAA"
   ]
  },
  {
   "cell_type": "code",
   "execution_count": null,
   "metadata": {
    "collapsed": true
   },
   "outputs": [],
   "source": [
    "### BAA"
   ]
  },
  {
   "cell_type": "code",
   "execution_count": null,
   "metadata": {
    "collapsed": true
   },
   "outputs": [],
   "source": [
    "### COMPAPFFx"
   ]
  },
  {
   "cell_type": "code",
   "execution_count": null,
   "metadata": {
    "collapsed": true
   },
   "outputs": [],
   "source": [
    "### TB3SMFFM"
   ]
  },
  {
   "cell_type": "code",
   "execution_count": null,
   "metadata": {
    "collapsed": true
   },
   "outputs": [],
   "source": [
    "### TB6SMFFM"
   ]
  },
  {
   "cell_type": "code",
   "execution_count": null,
   "metadata": {
    "collapsed": true
   },
   "outputs": [],
   "source": [
    "### T1YFFM"
   ]
  },
  {
   "cell_type": "code",
   "execution_count": null,
   "metadata": {
    "collapsed": true
   },
   "outputs": [],
   "source": [
    "### T5YFFM"
   ]
  },
  {
   "cell_type": "code",
   "execution_count": null,
   "metadata": {
    "collapsed": true
   },
   "outputs": [],
   "source": [
    "### T10YFFM"
   ]
  },
  {
   "cell_type": "code",
   "execution_count": null,
   "metadata": {
    "collapsed": true
   },
   "outputs": [],
   "source": [
    "### AAAFFM"
   ]
  },
  {
   "cell_type": "code",
   "execution_count": null,
   "metadata": {
    "collapsed": true
   },
   "outputs": [],
   "source": [
    "### BAAFFM"
   ]
  },
  {
   "cell_type": "code",
   "execution_count": null,
   "metadata": {
    "collapsed": true
   },
   "outputs": [],
   "source": [
    "### TWEXMMTH\n",
    "PCECC96 = get_data(f, \"PCECC96\").data[:,[3,4]]\n",
    "\n",
    "# Transform\n",
    "temp = zeros(length(PCECC96[:,1]))\n",
    "for i in 1:length(PCECC96[:,1])\n",
    "    temp[i] = log(PCECC96[i,2])\n",
    "end\n",
    "diff_array = diff(temp)\n",
    "for i in 1:length(PCECC96[:,1])-1\n",
    "    PCECC96[i,2] = diff_array[i]\n",
    "end\n",
    "PCECC96[length(GDPC1[:,1]),2] = NaN\n",
    "PCECC96[:,2] = replace(PCECC96[:,2], NaN => missing)\n",
    "println(\"DONE\")"
   ]
  },
  {
   "cell_type": "code",
   "execution_count": null,
   "metadata": {
    "collapsed": true
   },
   "outputs": [],
   "source": [
    "### EXSZUSx\n",
    "PCECC96 = get_data(f, \"PCECC96\").data[:,[3,4]]\n",
    "\n",
    "# Transform\n",
    "temp = zeros(length(PCECC96[:,1]))\n",
    "for i in 1:length(PCECC96[:,1])\n",
    "    temp[i] = log(PCECC96[i,2])\n",
    "end\n",
    "diff_array = diff(temp)\n",
    "for i in 1:length(PCECC96[:,1])-1\n",
    "    PCECC96[i,2] = diff_array[i]\n",
    "end\n",
    "PCECC96[length(GDPC1[:,1]),2] = NaN\n",
    "PCECC96[:,2] = replace(PCECC96[:,2], NaN => missing)\n",
    "println(\"DONE\")"
   ]
  },
  {
   "cell_type": "code",
   "execution_count": 149,
   "metadata": {
    "collapsed": true
   },
   "outputs": [],
   "source": [
    "### EXJPUSx\n",
    "PCECC96 = get_data(f, \"PCECC96\").data[:,[3,4]]\n",
    "\n",
    "# Transform\n",
    "temp = zeros(length(PCECC96[:,1]))\n",
    "for i in 1:length(PCECC96[:,1])\n",
    "    temp[i] = log(PCECC96[i,2])\n",
    "end\n",
    "diff_array = diff(temp)\n",
    "for i in 1:length(PCECC96[:,1])-1\n",
    "    PCECC96[i,2] = diff_array[i]\n",
    "end\n",
    "PCECC96[length(GDPC1[:,1]),2] = NaN\n",
    "PCECC96[:,2] = replace(PCECC96[:,2], NaN => missing)\n",
    "println(\"DONE\")"
   ]
  },
  {
   "cell_type": "code",
   "execution_count": null,
   "metadata": {
    "collapsed": true
   },
   "outputs": [],
   "source": [
    "### EXUSUKx\n",
    "PCECC96 = get_data(f, \"PCECC96\").data[:,[3,4]]\n",
    "\n",
    "# Transform\n",
    "temp = zeros(length(PCECC96[:,1]))\n",
    "for i in 1:length(PCECC96[:,1])\n",
    "    temp[i] = log(PCECC96[i,2])\n",
    "end\n",
    "diff_array = diff(temp)\n",
    "for i in 1:length(PCECC96[:,1])-1\n",
    "    PCECC96[i,2] = diff_array[i]\n",
    "end\n",
    "PCECC96[length(GDPC1[:,1]),2] = NaN\n",
    "PCECC96[:,2] = replace(PCECC96[:,2], NaN => missing)\n",
    "println(\"DONE\")"
   ]
  },
  {
   "cell_type": "code",
   "execution_count": null,
   "metadata": {
    "collapsed": true
   },
   "outputs": [],
   "source": [
    "### EXCAUSx\n",
    "PCECC96 = get_data(f, \"PCECC96\").data[:,[3,4]]\n",
    "\n",
    "# Transform\n",
    "temp = zeros(length(PCECC96[:,1]))\n",
    "for i in 1:length(PCECC96[:,1])\n",
    "    temp[i] = log(PCECC96[i,2])\n",
    "end\n",
    "diff_array = diff(temp)\n",
    "for i in 1:length(PCECC96[:,1])-1\n",
    "    PCECC96[i,2] = diff_array[i]\n",
    "end\n",
    "PCECC96[length(GDPC1[:,1]),2] = NaN\n",
    "PCECC96[:,2] = replace(PCECC96[:,2], NaN => missing)\n",
    "println(\"DONE\")"
   ]
  },
  {
   "cell_type": "code",
   "execution_count": null,
   "metadata": {
    "collapsed": true
   },
   "outputs": [],
   "source": [
    "### WPSFD49207"
   ]
  },
  {
   "cell_type": "code",
   "execution_count": null,
   "metadata": {
    "collapsed": true
   },
   "outputs": [],
   "source": [
    "### WPSFD49502"
   ]
  },
  {
   "cell_type": "code",
   "execution_count": null,
   "metadata": {
    "collapsed": true
   },
   "outputs": [],
   "source": [
    "### WPSID61"
   ]
  },
  {
   "cell_type": "code",
   "execution_count": null,
   "metadata": {
    "collapsed": true
   },
   "outputs": [],
   "source": [
    "### WPSID62"
   ]
  },
  {
   "cell_type": "code",
   "execution_count": null,
   "metadata": {
    "collapsed": true
   },
   "outputs": [],
   "source": [
    "### OILPRICEx"
   ]
  },
  {
   "cell_type": "code",
   "execution_count": null,
   "metadata": {
    "collapsed": true
   },
   "outputs": [],
   "source": [
    "### PPICMM"
   ]
  },
  {
   "cell_type": "code",
   "execution_count": null,
   "metadata": {
    "collapsed": true
   },
   "outputs": [],
   "source": [
    "### NAPMPRI"
   ]
  },
  {
   "cell_type": "code",
   "execution_count": null,
   "metadata": {
    "collapsed": true
   },
   "outputs": [],
   "source": [
    "### CPIAUCSL"
   ]
  },
  {
   "cell_type": "code",
   "execution_count": null,
   "metadata": {
    "collapsed": true
   },
   "outputs": [],
   "source": [
    "### CPIAPPSL"
   ]
  },
  {
   "cell_type": "code",
   "execution_count": null,
   "metadata": {
    "collapsed": true
   },
   "outputs": [],
   "source": [
    "### CPITRNSL"
   ]
  },
  {
   "cell_type": "code",
   "execution_count": null,
   "metadata": {
    "collapsed": true
   },
   "outputs": [],
   "source": [
    "### CPIMEDSL"
   ]
  },
  {
   "cell_type": "code",
   "execution_count": null,
   "metadata": {
    "collapsed": true
   },
   "outputs": [],
   "source": [
    "### CUSR0000SAC"
   ]
  },
  {
   "cell_type": "code",
   "execution_count": null,
   "metadata": {
    "collapsed": true
   },
   "outputs": [],
   "source": [
    "### CUSR0000SAD"
   ]
  },
  {
   "cell_type": "code",
   "execution_count": null,
   "metadata": {
    "collapsed": true
   },
   "outputs": [],
   "source": [
    "### CUSR0000SAS"
   ]
  },
  {
   "cell_type": "code",
   "execution_count": null,
   "metadata": {
    "collapsed": true
   },
   "outputs": [],
   "source": [
    "### CPIULFSL"
   ]
  },
  {
   "cell_type": "code",
   "execution_count": null,
   "metadata": {
    "collapsed": true
   },
   "outputs": [],
   "source": [
    "### CUSR0000SA0L2"
   ]
  },
  {
   "cell_type": "code",
   "execution_count": null,
   "metadata": {
    "collapsed": true
   },
   "outputs": [],
   "source": [
    "### CUSR0000SA0L5"
   ]
  },
  {
   "cell_type": "code",
   "execution_count": null,
   "metadata": {
    "collapsed": true
   },
   "outputs": [],
   "source": [
    "### PCEPI"
   ]
  },
  {
   "cell_type": "code",
   "execution_count": 150,
   "metadata": {
    "collapsed": true
   },
   "outputs": [],
   "source": [
    "### DDURRG3M086SBEA"
   ]
  },
  {
   "cell_type": "code",
   "execution_count": null,
   "metadata": {
    "collapsed": true
   },
   "outputs": [],
   "source": [
    "### DNDGRG3M086SBEA"
   ]
  },
  {
   "cell_type": "code",
   "execution_count": null,
   "metadata": {
    "collapsed": true
   },
   "outputs": [],
   "source": [
    "### DSERRG3M086SBEA"
   ]
  },
  {
   "cell_type": "code",
   "execution_count": null,
   "metadata": {
    "collapsed": true
   },
   "outputs": [],
   "source": [
    "### S&P 500\n",
    "PCECC96 = get_data(f, \"PCECC96\").data[:,[3,4]]\n",
    "\n",
    "# Transform\n",
    "temp = zeros(length(PCECC96[:,1]))\n",
    "for i in 1:length(PCECC96[:,1])\n",
    "    temp[i] = log(PCECC96[i,2])\n",
    "end\n",
    "diff_array = diff(temp)\n",
    "for i in 1:length(PCECC96[:,1])-1\n",
    "    PCECC96[i,2] = diff_array[i]\n",
    "end\n",
    "PCECC96[length(GDPC1[:,1]),2] = NaN\n",
    "PCECC96[:,2] = replace(PCECC96[:,2], NaN => missing)\n",
    "println(\"DONE\")"
   ]
  },
  {
   "cell_type": "code",
   "execution_count": null,
   "metadata": {
    "collapsed": true
   },
   "outputs": [],
   "source": [
    "### S&P: indust\n",
    "PCECC96 = get_data(f, \"PCECC96\").data[:,[3,4]]\n",
    "\n",
    "# Transform\n",
    "temp = zeros(length(PCECC96[:,1]))\n",
    "for i in 1:length(PCECC96[:,1])\n",
    "    temp[i] = log(PCECC96[i,2])\n",
    "end\n",
    "diff_array = diff(temp)\n",
    "for i in 1:length(PCECC96[:,1])-1\n",
    "    PCECC96[i,2] = diff_array[i]\n",
    "end\n",
    "PCECC96[length(GDPC1[:,1]),2] = NaN\n",
    "PCECC96[:,2] = replace(PCECC96[:,2], NaN => missing)\n",
    "println(\"DONE\")"
   ]
  },
  {
   "cell_type": "code",
   "execution_count": null,
   "metadata": {
    "collapsed": true
   },
   "outputs": [],
   "source": [
    "### S&P div yield"
   ]
  },
  {
   "cell_type": "code",
   "execution_count": null,
   "metadata": {
    "collapsed": true
   },
   "outputs": [],
   "source": [
    "### S&P PE ratio\n",
    "PCECC96 = get_data(f, \"PCECC96\").data[:,[3,4]]\n",
    "\n",
    "# Transform\n",
    "temp = zeros(length(PCECC96[:,1]))\n",
    "for i in 1:length(PCECC96[:,1])\n",
    "    temp[i] = log(PCECC96[i,2])\n",
    "end\n",
    "diff_array = diff(temp)\n",
    "for i in 1:length(PCECC96[:,1])-1\n",
    "    PCECC96[i,2] = diff_array[i]\n",
    "end\n",
    "PCECC96[length(GDPC1[:,1]),2] = NaN\n",
    "PCECC96[:,2] = replace(PCECC96[:,2], NaN => missing)\n",
    "println(\"DONE\")"
   ]
  },
  {
   "cell_type": "code",
   "execution_count": null,
   "metadata": {
    "collapsed": true
   },
   "outputs": [],
   "source": [
    "### VXOCLSx"
   ]
  },
  {
   "cell_type": "code",
   "execution_count": null,
   "metadata": {
    "collapsed": true
   },
   "outputs": [],
   "source": []
  },
  {
   "cell_type": "code",
   "execution_count": null,
   "metadata": {
    "collapsed": true
   },
   "outputs": [],
   "source": []
  },
  {
   "cell_type": "code",
   "execution_count": null,
   "metadata": {
    "collapsed": true
   },
   "outputs": [],
   "source": [
    "\n",
    "\n"
   ]
  },
  {
   "cell_type": "code",
   "execution_count": null,
   "metadata": {
    "collapsed": true
   },
   "outputs": [],
   "source": []
  },
  {
   "cell_type": "code",
   "execution_count": null,
   "metadata": {
    "collapsed": true
   },
   "outputs": [],
   "source": []
  },
  {
   "cell_type": "code",
   "execution_count": null,
   "metadata": {
    "collapsed": true
   },
   "outputs": [],
   "source": [
    "\n"
   ]
  },
  {
   "cell_type": "code",
   "execution_count": null,
   "metadata": {
    "collapsed": true
   },
   "outputs": [],
   "source": []
  },
  {
   "cell_type": "code",
   "execution_count": null,
   "metadata": {
    "collapsed": true
   },
   "outputs": [],
   "source": []
  },
  {
   "cell_type": "code",
   "execution_count": null,
   "metadata": {
    "collapsed": true
   },
   "outputs": [],
   "source": []
  },
  {
   "cell_type": "code",
   "execution_count": null,
   "metadata": {
    "collapsed": true
   },
   "outputs": [],
   "source": []
  },
  {
   "cell_type": "code",
   "execution_count": null,
   "metadata": {
    "collapsed": true
   },
   "outputs": [],
   "source": []
  },
  {
   "cell_type": "code",
   "execution_count": null,
   "metadata": {
    "collapsed": true
   },
   "outputs": [],
   "source": []
  },
  {
   "cell_type": "code",
   "execution_count": 163,
   "metadata": {},
   "outputs": [
    {
     "data": {
      "text/html": [
       "<table class=\"data-frame\"><thead><tr><th></th><th>realtime_start</th><th>realtime_end</th><th>date</th><th>value</th></tr><tr><th></th><th>Dates…</th><th>Dates…</th><th>Dates…</th><th>Float64</th></tr></thead><tbody><p>289 rows × 4 columns</p><tr><th>1</th><td>2019-06-26</td><td>2019-06-26</td><td>1947-01-01</td><td>14.927</td></tr><tr><th>2</th><td>2019-06-26</td><td>2019-06-26</td><td>1947-04-01</td><td>15.226</td></tr><tr><th>3</th><td>2019-06-26</td><td>2019-06-26</td><td>1947-07-01</td><td>15.044</td></tr><tr><th>4</th><td>2019-06-26</td><td>2019-06-26</td><td>1947-10-01</td><td>16.067</td></tr><tr><th>5</th><td>2019-06-26</td><td>2019-06-26</td><td>1948-01-01</td><td>17.334</td></tr><tr><th>6</th><td>2019-06-26</td><td>2019-06-26</td><td>1948-04-01</td><td>16.658</td></tr><tr><th>7</th><td>2019-06-26</td><td>2019-06-26</td><td>1948-07-01</td><td>17.13</td></tr><tr><th>8</th><td>2019-06-26</td><td>2019-06-26</td><td>1948-10-01</td><td>17.998</td></tr><tr><th>9</th><td>2019-06-26</td><td>2019-06-26</td><td>1949-01-01</td><td>16.826</td></tr><tr><th>10</th><td>2019-06-26</td><td>2019-06-26</td><td>1949-04-01</td><td>16.09</td></tr><tr><th>11</th><td>2019-06-26</td><td>2019-06-26</td><td>1949-07-01</td><td>15.176</td></tr><tr><th>12</th><td>2019-06-26</td><td>2019-06-26</td><td>1949-10-01</td><td>14.836</td></tr><tr><th>13</th><td>2019-06-26</td><td>2019-06-26</td><td>1950-01-01</td><td>15.13</td></tr><tr><th>14</th><td>2019-06-26</td><td>2019-06-26</td><td>1950-04-01</td><td>17.114</td></tr><tr><th>15</th><td>2019-06-26</td><td>2019-06-26</td><td>1950-07-01</td><td>19.343</td></tr><tr><th>16</th><td>2019-06-26</td><td>2019-06-26</td><td>1950-10-01</td><td>19.609</td></tr><tr><th>17</th><td>2019-06-26</td><td>2019-06-26</td><td>1951-01-01</td><td>19.383</td></tr><tr><th>18</th><td>2019-06-26</td><td>2019-06-26</td><td>1951-04-01</td><td>19.672</td></tr><tr><th>19</th><td>2019-06-26</td><td>2019-06-26</td><td>1951-07-01</td><td>20.198</td></tr><tr><th>20</th><td>2019-06-26</td><td>2019-06-26</td><td>1951-10-01</td><td>20.242</td></tr><tr><th>21</th><td>2019-06-26</td><td>2019-06-26</td><td>1952-01-01</td><td>20.418</td></tr><tr><th>22</th><td>2019-06-26</td><td>2019-06-26</td><td>1952-04-01</td><td>20.821</td></tr><tr><th>23</th><td>2019-06-26</td><td>2019-06-26</td><td>1952-07-01</td><td>17.671</td></tr><tr><th>24</th><td>2019-06-26</td><td>2019-06-26</td><td>1952-10-01</td><td>19.867</td></tr><tr><th>25</th><td>2019-06-26</td><td>2019-06-26</td><td>1953-01-01</td><td>21.245</td></tr><tr><th>26</th><td>2019-06-26</td><td>2019-06-26</td><td>1953-04-01</td><td>21.306</td></tr><tr><th>27</th><td>2019-06-26</td><td>2019-06-26</td><td>1953-07-01</td><td>22.125</td></tr><tr><th>28</th><td>2019-06-26</td><td>2019-06-26</td><td>1953-10-01</td><td>21.446</td></tr><tr><th>29</th><td>2019-06-26</td><td>2019-06-26</td><td>1954-01-01</td><td>20.57</td></tr><tr><th>30</th><td>2019-06-26</td><td>2019-06-26</td><td>1954-04-01</td><td>20.424</td></tr><tr><th>&vellip;</th><td>&vellip;</td><td>&vellip;</td><td>&vellip;</td><td>&vellip;</td></tr></tbody></table>"
      ],
      "text/latex": [
       "\\begin{tabular}{r|cccc}\n",
       "\t& realtime\\_start & realtime\\_end & date & value\\\\\n",
       "\t\\hline\n",
       "\t& Dates… & Dates… & Dates… & Float64\\\\\n",
       "\t\\hline\n",
       "\t1 & 2019-06-26 & 2019-06-26 & 1947-01-01 & 14.927 \\\\\n",
       "\t2 & 2019-06-26 & 2019-06-26 & 1947-04-01 & 15.226 \\\\\n",
       "\t3 & 2019-06-26 & 2019-06-26 & 1947-07-01 & 15.044 \\\\\n",
       "\t4 & 2019-06-26 & 2019-06-26 & 1947-10-01 & 16.067 \\\\\n",
       "\t5 & 2019-06-26 & 2019-06-26 & 1948-01-01 & 17.334 \\\\\n",
       "\t6 & 2019-06-26 & 2019-06-26 & 1948-04-01 & 16.658 \\\\\n",
       "\t7 & 2019-06-26 & 2019-06-26 & 1948-07-01 & 17.13 \\\\\n",
       "\t8 & 2019-06-26 & 2019-06-26 & 1948-10-01 & 17.998 \\\\\n",
       "\t9 & 2019-06-26 & 2019-06-26 & 1949-01-01 & 16.826 \\\\\n",
       "\t10 & 2019-06-26 & 2019-06-26 & 1949-04-01 & 16.09 \\\\\n",
       "\t11 & 2019-06-26 & 2019-06-26 & 1949-07-01 & 15.176 \\\\\n",
       "\t12 & 2019-06-26 & 2019-06-26 & 1949-10-01 & 14.836 \\\\\n",
       "\t13 & 2019-06-26 & 2019-06-26 & 1950-01-01 & 15.13 \\\\\n",
       "\t14 & 2019-06-26 & 2019-06-26 & 1950-04-01 & 17.114 \\\\\n",
       "\t15 & 2019-06-26 & 2019-06-26 & 1950-07-01 & 19.343 \\\\\n",
       "\t16 & 2019-06-26 & 2019-06-26 & 1950-10-01 & 19.609 \\\\\n",
       "\t17 & 2019-06-26 & 2019-06-26 & 1951-01-01 & 19.383 \\\\\n",
       "\t18 & 2019-06-26 & 2019-06-26 & 1951-04-01 & 19.672 \\\\\n",
       "\t19 & 2019-06-26 & 2019-06-26 & 1951-07-01 & 20.198 \\\\\n",
       "\t20 & 2019-06-26 & 2019-06-26 & 1951-10-01 & 20.242 \\\\\n",
       "\t21 & 2019-06-26 & 2019-06-26 & 1952-01-01 & 20.418 \\\\\n",
       "\t22 & 2019-06-26 & 2019-06-26 & 1952-04-01 & 20.821 \\\\\n",
       "\t23 & 2019-06-26 & 2019-06-26 & 1952-07-01 & 17.671 \\\\\n",
       "\t24 & 2019-06-26 & 2019-06-26 & 1952-10-01 & 19.867 \\\\\n",
       "\t25 & 2019-06-26 & 2019-06-26 & 1953-01-01 & 21.245 \\\\\n",
       "\t26 & 2019-06-26 & 2019-06-26 & 1953-04-01 & 21.306 \\\\\n",
       "\t27 & 2019-06-26 & 2019-06-26 & 1953-07-01 & 22.125 \\\\\n",
       "\t28 & 2019-06-26 & 2019-06-26 & 1953-10-01 & 21.446 \\\\\n",
       "\t29 & 2019-06-26 & 2019-06-26 & 1954-01-01 & 20.57 \\\\\n",
       "\t30 & 2019-06-26 & 2019-06-26 & 1954-04-01 & 20.424 \\\\\n",
       "\t$\\dots$ & $\\dots$ & $\\dots$ & $\\dots$ & $\\dots$ \\\\\n",
       "\\end{tabular}\n"
      ],
      "text/plain": [
       "289×4 DataFrame\n",
       "│ Row │ realtime_start │ realtime_end │ date       │ value   │\n",
       "│     │ \u001b[90mDates.Date\u001b[39m     │ \u001b[90mDates.Date\u001b[39m   │ \u001b[90mDates.Date\u001b[39m │ \u001b[90mFloat64\u001b[39m │\n",
       "├─────┼────────────────┼──────────────┼────────────┼─────────┤\n",
       "│ 1   │ 2019-06-26     │ 2019-06-26   │ 1947-01-01 │ 14.927  │\n",
       "│ 2   │ 2019-06-26     │ 2019-06-26   │ 1947-04-01 │ 15.226  │\n",
       "│ 3   │ 2019-06-26     │ 2019-06-26   │ 1947-07-01 │ 15.044  │\n",
       "│ 4   │ 2019-06-26     │ 2019-06-26   │ 1947-10-01 │ 16.067  │\n",
       "│ 5   │ 2019-06-26     │ 2019-06-26   │ 1948-01-01 │ 17.334  │\n",
       "│ 6   │ 2019-06-26     │ 2019-06-26   │ 1948-04-01 │ 16.658  │\n",
       "│ 7   │ 2019-06-26     │ 2019-06-26   │ 1948-07-01 │ 17.13   │\n",
       "│ 8   │ 2019-06-26     │ 2019-06-26   │ 1948-10-01 │ 17.998  │\n",
       "│ 9   │ 2019-06-26     │ 2019-06-26   │ 1949-01-01 │ 16.826  │\n",
       "│ 10  │ 2019-06-26     │ 2019-06-26   │ 1949-04-01 │ 16.09   │\n",
       "⋮\n",
       "│ 279 │ 2019-06-26     │ 2019-06-26   │ 2016-07-01 │ 1090.19 │\n",
       "│ 280 │ 2019-06-26     │ 2019-06-26   │ 2016-10-01 │ 1089.3  │\n",
       "│ 281 │ 2019-06-26     │ 2019-06-26   │ 2017-01-01 │ 1112.25 │\n",
       "│ 282 │ 2019-06-26     │ 2019-06-26   │ 2017-04-01 │ 1137.44 │\n",
       "│ 283 │ 2019-06-26     │ 2019-06-26   │ 2017-07-01 │ 1162.82 │\n",
       "│ 284 │ 2019-06-26     │ 2019-06-26   │ 2017-10-01 │ 1189.08 │\n",
       "│ 285 │ 2019-06-26     │ 2019-06-26   │ 2018-01-01 │ 1212.63 │\n",
       "│ 286 │ 2019-06-26     │ 2019-06-26   │ 2018-04-01 │ 1228.78 │\n",
       "│ 287 │ 2019-06-26     │ 2019-06-26   │ 2018-07-01 │ 1242.96 │\n",
       "│ 288 │ 2019-06-26     │ 2019-06-26   │ 2018-10-01 │ 1260.75 │\n",
       "│ 289 │ 2019-06-26     │ 2019-06-26   │ 2019-01-01 │ 1259.85 │"
      ]
     },
     "execution_count": 163,
     "metadata": {},
     "output_type": "execute_result"
    }
   ],
   "source": [
    "get_data(f, \"Y033RC1Q027SBEA\").data"
   ]
  },
  {
   "cell_type": "code",
   "execution_count": 30,
   "metadata": {},
   "outputs": [
    {
     "data": {
      "text/plain": [
       "sort_vec (generic function with 1 method)"
      ]
     },
     "execution_count": 30,
     "metadata": {},
     "output_type": "execute_result"
    }
   ],
   "source": [
    "\n",
    "    \n",
    "    \n",
    "    "
   ]
  },
  {
   "cell_type": "code",
   "execution_count": 22,
   "metadata": {},
   "outputs": [
    {
     "data": {
      "text/plain": [
       "2-element Array{Array{Int64,1},1}:\n",
       " [1, 0, 0, 0]\n",
       " [1, 0, 0, 1]"
      ]
     },
     "execution_count": 22,
     "metadata": {},
     "output_type": "execute_result"
    }
   ],
   "source": [
    "uniq = [blocks[1,:]]\n",
    "push!(uniq, blocks[2,:])"
   ]
  },
  {
   "cell_type": "code",
   "execution_count": 31,
   "metadata": {},
   "outputs": [
    {
     "data": {
      "text/plain": [
       "2-element Array{Array{Int64,1},1}:\n",
       " [1, 0, 0, 1]\n",
       " [1, 0, 1, 0]"
      ]
     },
     "execution_count": 31,
     "metadata": {},
     "output_type": "execute_result"
    }
   ],
   "source": [
    "sort_vec(blocks)"
   ]
  },
  {
   "cell_type": "code",
   "execution_count": 406,
   "metadata": {},
   "outputs": [
    {
     "data": {
      "text/html": [
       "<table class=\"data-frame\"><thead><tr><th></th><th>sasdate</th><th>RPI</th><th>W875RX1</th><th>DPCERA3M086SBEA</th><th>CMRMTSPLx</th><th>RETAILx</th><th>INDPRO</th></tr><tr><th></th><th>String⍰</th><th>Float64⍰</th><th>Float64⍰</th><th>Float64⍰</th><th>Float64⍰</th><th>Float64⍰</th><th>Float64⍰</th></tr></thead><tbody><p>726 rows × 129 columns (omitted printing of 122 columns)</p><tr><th>1</th><td>Transform:</td><td>5.0</td><td>5.0</td><td>5.0</td><td>5.0</td><td>5.0</td><td>5.0</td></tr><tr><th>2</th><td>1/1/1959</td><td>2437.3</td><td>2288.8</td><td>17.302</td><td>2.92259e5</td><td>18235.8</td><td>22.625</td></tr><tr><th>3</th><td>2/1/1959</td><td>2446.9</td><td>2297.0</td><td>17.482</td><td>2.9443e5</td><td>18369.6</td><td>23.0681</td></tr><tr><th>4</th><td>3/1/1959</td><td>2462.69</td><td>2314.0</td><td>17.647</td><td>2.93425e5</td><td>18523.1</td><td>23.4004</td></tr><tr><th>5</th><td>4/1/1959</td><td>2478.74</td><td>2330.3</td><td>17.584</td><td>2.99332e5</td><td>18534.5</td><td>23.8989</td></tr><tr><th>6</th><td>5/1/1959</td><td>2493.23</td><td>2345.8</td><td>17.796</td><td>301373.0</td><td>18679.7</td><td>24.2589</td></tr><tr><th>7</th><td>6/1/1959</td><td>2500.99</td><td>2352.9</td><td>17.861</td><td>3.01365e5</td><td>18849.8</td><td>24.2866</td></tr><tr><th>8</th><td>7/1/1959</td><td>2499.53</td><td>2351.0</td><td>17.801</td><td>3.05035e5</td><td>18843.5</td><td>23.705</td></tr><tr><th>9</th><td>8/1/1959</td><td>2485.33</td><td>2337.6</td><td>17.908</td><td>2.89425e5</td><td>18963.8</td><td>22.9019</td></tr><tr><th>10</th><td>9/1/1959</td><td>2487.29</td><td>2337.5</td><td>18.088</td><td>293715.0</td><td>18716.0</td><td>22.8743</td></tr><tr><th>11</th><td>10/1/1959</td><td>2490.33</td><td>2340.3</td><td>17.965</td><td>2.94178e5</td><td>18852.9</td><td>22.7081</td></tr><tr><th>12</th><td>11/1/1959</td><td>2509.32</td><td>2356.0</td><td>17.957</td><td>2.83577e5</td><td>18356.1</td><td>22.8466</td></tr><tr><th>13</th><td>12/1/1959</td><td>2535.04</td><td>2382.9</td><td>17.937</td><td>2.98e5</td><td>18271.0</td><td>24.2589</td></tr><tr><th>14</th><td>1/1/1960</td><td>2543.15</td><td>2394.0</td><td>17.987</td><td>303097.0</td><td>18763.7</td><td>24.8958</td></tr><tr><th>15</th><td>2/1/1960</td><td>2546.06</td><td>2396.2</td><td>18.065</td><td>3.07497e5</td><td>18833.2</td><td>24.6743</td></tr><tr><th>16</th><td>3/1/1960</td><td>2550.93</td><td>2398.4</td><td>18.321</td><td>2.99e5</td><td>18812.4</td><td>24.4528</td></tr><tr><th>17</th><td>4/1/1960</td><td>2559.68</td><td>2407.1</td><td>18.605</td><td>3.01955e5</td><td>19306.1</td><td>24.2589</td></tr><tr><th>18</th><td>5/1/1960</td><td>2565.84</td><td>2413.0</td><td>18.229</td><td>2.92566e5</td><td>19017.8</td><td>24.2312</td></tr><tr><th>19</th><td>6/1/1960</td><td>2567.87</td><td>2412.4</td><td>18.225</td><td>295095.0</td><td>18991.8</td><td>23.9266</td></tr><tr><th>20</th><td>7/1/1960</td><td>2572.57</td><td>2417.0</td><td>18.262</td><td>293076.0</td><td>18801.0</td><td>23.8435</td></tr><tr><th>21</th><td>8/1/1960</td><td>2568.4</td><td>2410.8</td><td>18.245</td><td>2.92706e5</td><td>18865.3</td><td>23.8158</td></tr><tr><th>22</th><td>9/1/1960</td><td>2571.68</td><td>2411.5</td><td>18.332</td><td>2.97454e5</td><td>18847.7</td><td>23.5666</td></tr><tr><th>23</th><td>10/1/1960</td><td>2579.28</td><td>2419.1</td><td>18.421</td><td>2.91848e5</td><td>19013.6</td><td>23.5389</td></tr><tr><th>24</th><td>11/1/1960</td><td>2568.23</td><td>2405.2</td><td>18.357</td><td>288993.0</td><td>18741.9</td><td>23.2066</td></tr><tr><th>25</th><td>12/1/1960</td><td>2556.52</td><td>2391.1</td><td>18.132</td><td>2.91264e5</td><td>18605.0</td><td>22.7635</td></tr><tr><th>26</th><td>1/1/1961</td><td>2579.43</td><td>2412.0</td><td>18.176</td><td>2.80927e5</td><td>18619.5</td><td>22.7912</td></tr><tr><th>27</th><td>2/1/1961</td><td>2589.3</td><td>2412.2</td><td>18.243</td><td>2.84366e5</td><td>18553.1</td><td>22.7635</td></tr><tr><th>28</th><td>3/1/1961</td><td>2600.0</td><td>2424.1</td><td>18.47</td><td>291155.0</td><td>18749.2</td><td>22.902</td></tr><tr><th>29</th><td>4/1/1961</td><td>2605.64</td><td>2432.4</td><td>18.479</td><td>2.82805e5</td><td>18417.3</td><td>23.3727</td></tr><tr><th>30</th><td>5/1/1961</td><td>2625.91</td><td>2446.9</td><td>18.591</td><td>2.90944e5</td><td>18694.2</td><td>23.7327</td></tr><tr><th>&vellip;</th><td>&vellip;</td><td>&vellip;</td><td>&vellip;</td><td>&vellip;</td><td>&vellip;</td><td>&vellip;</td><td>&vellip;</td></tr></tbody></table>"
      ],
      "text/latex": [
       "\\begin{tabular}{r|cccccccc}\n",
       "\t& sasdate & RPI & W875RX1 & DPCERA3M086SBEA & CMRMTSPLx & RETAILx & INDPRO & \\\\\n",
       "\t\\hline\n",
       "\t& String⍰ & Float64⍰ & Float64⍰ & Float64⍰ & Float64⍰ & Float64⍰ & Float64⍰ & \\\\\n",
       "\t\\hline\n",
       "\t1 & Transform: & 5.0 & 5.0 & 5.0 & 5.0 & 5.0 & 5.0 & $\\dots$ \\\\\n",
       "\t2 & 1/1/1959 & 2437.3 & 2288.8 & 17.302 & 2.92259e5 & 18235.8 & 22.625 & $\\dots$ \\\\\n",
       "\t3 & 2/1/1959 & 2446.9 & 2297.0 & 17.482 & 2.9443e5 & 18369.6 & 23.0681 & $\\dots$ \\\\\n",
       "\t4 & 3/1/1959 & 2462.69 & 2314.0 & 17.647 & 2.93425e5 & 18523.1 & 23.4004 & $\\dots$ \\\\\n",
       "\t5 & 4/1/1959 & 2478.74 & 2330.3 & 17.584 & 2.99332e5 & 18534.5 & 23.8989 & $\\dots$ \\\\\n",
       "\t6 & 5/1/1959 & 2493.23 & 2345.8 & 17.796 & 301373.0 & 18679.7 & 24.2589 & $\\dots$ \\\\\n",
       "\t7 & 6/1/1959 & 2500.99 & 2352.9 & 17.861 & 3.01365e5 & 18849.8 & 24.2866 & $\\dots$ \\\\\n",
       "\t8 & 7/1/1959 & 2499.53 & 2351.0 & 17.801 & 3.05035e5 & 18843.5 & 23.705 & $\\dots$ \\\\\n",
       "\t9 & 8/1/1959 & 2485.33 & 2337.6 & 17.908 & 2.89425e5 & 18963.8 & 22.9019 & $\\dots$ \\\\\n",
       "\t10 & 9/1/1959 & 2487.29 & 2337.5 & 18.088 & 293715.0 & 18716.0 & 22.8743 & $\\dots$ \\\\\n",
       "\t11 & 10/1/1959 & 2490.33 & 2340.3 & 17.965 & 2.94178e5 & 18852.9 & 22.7081 & $\\dots$ \\\\\n",
       "\t12 & 11/1/1959 & 2509.32 & 2356.0 & 17.957 & 2.83577e5 & 18356.1 & 22.8466 & $\\dots$ \\\\\n",
       "\t13 & 12/1/1959 & 2535.04 & 2382.9 & 17.937 & 2.98e5 & 18271.0 & 24.2589 & $\\dots$ \\\\\n",
       "\t14 & 1/1/1960 & 2543.15 & 2394.0 & 17.987 & 303097.0 & 18763.7 & 24.8958 & $\\dots$ \\\\\n",
       "\t15 & 2/1/1960 & 2546.06 & 2396.2 & 18.065 & 3.07497e5 & 18833.2 & 24.6743 & $\\dots$ \\\\\n",
       "\t16 & 3/1/1960 & 2550.93 & 2398.4 & 18.321 & 2.99e5 & 18812.4 & 24.4528 & $\\dots$ \\\\\n",
       "\t17 & 4/1/1960 & 2559.68 & 2407.1 & 18.605 & 3.01955e5 & 19306.1 & 24.2589 & $\\dots$ \\\\\n",
       "\t18 & 5/1/1960 & 2565.84 & 2413.0 & 18.229 & 2.92566e5 & 19017.8 & 24.2312 & $\\dots$ \\\\\n",
       "\t19 & 6/1/1960 & 2567.87 & 2412.4 & 18.225 & 295095.0 & 18991.8 & 23.9266 & $\\dots$ \\\\\n",
       "\t20 & 7/1/1960 & 2572.57 & 2417.0 & 18.262 & 293076.0 & 18801.0 & 23.8435 & $\\dots$ \\\\\n",
       "\t21 & 8/1/1960 & 2568.4 & 2410.8 & 18.245 & 2.92706e5 & 18865.3 & 23.8158 & $\\dots$ \\\\\n",
       "\t22 & 9/1/1960 & 2571.68 & 2411.5 & 18.332 & 2.97454e5 & 18847.7 & 23.5666 & $\\dots$ \\\\\n",
       "\t23 & 10/1/1960 & 2579.28 & 2419.1 & 18.421 & 2.91848e5 & 19013.6 & 23.5389 & $\\dots$ \\\\\n",
       "\t24 & 11/1/1960 & 2568.23 & 2405.2 & 18.357 & 288993.0 & 18741.9 & 23.2066 & $\\dots$ \\\\\n",
       "\t25 & 12/1/1960 & 2556.52 & 2391.1 & 18.132 & 2.91264e5 & 18605.0 & 22.7635 & $\\dots$ \\\\\n",
       "\t26 & 1/1/1961 & 2579.43 & 2412.0 & 18.176 & 2.80927e5 & 18619.5 & 22.7912 & $\\dots$ \\\\\n",
       "\t27 & 2/1/1961 & 2589.3 & 2412.2 & 18.243 & 2.84366e5 & 18553.1 & 22.7635 & $\\dots$ \\\\\n",
       "\t28 & 3/1/1961 & 2600.0 & 2424.1 & 18.47 & 291155.0 & 18749.2 & 22.902 & $\\dots$ \\\\\n",
       "\t29 & 4/1/1961 & 2605.64 & 2432.4 & 18.479 & 2.82805e5 & 18417.3 & 23.3727 & $\\dots$ \\\\\n",
       "\t30 & 5/1/1961 & 2625.91 & 2446.9 & 18.591 & 2.90944e5 & 18694.2 & 23.7327 & $\\dots$ \\\\\n",
       "\t$\\dots$ & $\\dots$ & $\\dots$ & $\\dots$ & $\\dots$ & $\\dots$ & $\\dots$ & $\\dots$ &  \\\\\n",
       "\\end{tabular}\n"
      ],
      "text/plain": [
       "726×129 DataFrame. Omitted printing of 124 columns\n",
       "│ Row │ sasdate    │ RPI      │ W875RX1  │ DPCERA3M086SBEA │ CMRMTSPLx │\n",
       "│     │ \u001b[90mString⍰\u001b[39m    │ \u001b[90mFloat64⍰\u001b[39m │ \u001b[90mFloat64⍰\u001b[39m │ \u001b[90mFloat64⍰\u001b[39m        │ \u001b[90mFloat64⍰\u001b[39m  │\n",
       "├─────┼────────────┼──────────┼──────────┼─────────────────┼───────────┤\n",
       "│ 1   │ Transform: │ 5.0      │ 5.0      │ 5.0             │ 5.0       │\n",
       "│ 2   │ 1/1/1959   │ 2437.3   │ 2288.8   │ 17.302          │ 2.92259e5 │\n",
       "│ 3   │ 2/1/1959   │ 2446.9   │ 2297.0   │ 17.482          │ 2.9443e5  │\n",
       "│ 4   │ 3/1/1959   │ 2462.69  │ 2314.0   │ 17.647          │ 2.93425e5 │\n",
       "│ 5   │ 4/1/1959   │ 2478.74  │ 2330.3   │ 17.584          │ 2.99332e5 │\n",
       "│ 6   │ 5/1/1959   │ 2493.23  │ 2345.8   │ 17.796          │ 301373.0  │\n",
       "│ 7   │ 6/1/1959   │ 2500.99  │ 2352.9   │ 17.861          │ 3.01365e5 │\n",
       "│ 8   │ 7/1/1959   │ 2499.53  │ 2351.0   │ 17.801          │ 3.05035e5 │\n",
       "│ 9   │ 8/1/1959   │ 2485.33  │ 2337.6   │ 17.908          │ 2.89425e5 │\n",
       "│ 10  │ 9/1/1959   │ 2487.29  │ 2337.5   │ 18.088          │ 293715.0  │\n",
       "⋮\n",
       "│ 716 │ 7/1/2018   │ 16235.4  │ 13481.2  │ 117.45          │ 1.4903e6  │\n",
       "│ 717 │ 8/1/2018   │ 16292.1  │ 13530.9  │ 117.804         │ 1.49795e6 │\n",
       "│ 718 │ 9/1/2018   │ 16306.1  │ 13533.7  │ 117.799         │ 1.50264e6 │\n",
       "│ 719 │ 10/1/2018  │ 16321.5  │ 13544.7  │ 118.303         │ 1.49552e6 │\n",
       "│ 720 │ 11/1/2018  │ 16338.9  │ 13564.6  │ 118.828         │ 1.49925e6 │\n",
       "│ 721 │ 12/1/2018  │ 16483.1  │ 13698.3  │ 118.075         │ 1.50211e6 │\n",
       "│ 722 │ 1/1/2019   │ 16486.7  │ 13622.3  │ 118.513         │ 1.51774e6 │\n",
       "│ 723 │ 2/1/2019   │ 16510.3  │ 13632.1  │ 118.395         │ 1.51404e6 │\n",
       "│ 724 │ 3/1/2019   │ 16496.1  │ 13605.4  │ 119.465         │ 1.52325e6 │\n",
       "│ 725 │ 4/1/2019   │ 16529.5  │ 13631.8  │ 119.431         │ \u001b[90mmissing\u001b[39m   │\n",
       "│ 726 │ \u001b[90mmissing\u001b[39m    │ \u001b[90mmissing\u001b[39m  │ \u001b[90mmissing\u001b[39m  │ \u001b[90mmissing\u001b[39m         │ \u001b[90mmissing\u001b[39m   │"
      ]
     },
     "execution_count": 406,
     "metadata": {},
     "output_type": "execute_result"
    }
   ],
   "source": [
    "test_data = CSV.read(\"current.csv\")"
   ]
  }
 ],
 "metadata": {
  "kernelspec": {
   "display_name": "Julia 1.1.0",
   "language": "julia",
   "name": "julia-1.1"
  },
  "language_info": {
   "file_extension": ".jl",
   "mimetype": "application/julia",
   "name": "julia",
   "version": "1.1.0"
  }
 },
 "nbformat": 4,
 "nbformat_minor": 2
}
