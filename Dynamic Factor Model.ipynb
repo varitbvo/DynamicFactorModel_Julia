{
 "cells": [
  {
   "cell_type": "code",
   "execution_count": 1,
   "metadata": {
    "collapsed": true
   },
   "outputs": [],
   "source": [
    "### Load packages\n",
    "using LinearAlgebra, Statistics, Compat, HypothesisTests # Statistical analysis\n",
    "using RDatasets, MultivariateStats # Principal Component Analysis\n",
    "using Distributions, GLM # OLS\n",
    "using DataFrames, CSV # Data analysis\n",
    "using Dates, Plots #printf # Misc..."
   ]
  },
  {
   "cell_type": "code",
   "execution_count": 2,
   "metadata": {},
   "outputs": [
    {
     "data": {
      "text/plain": [
       "blkdig (generic function with 1 method)"
      ]
     },
     "execution_count": 2,
     "metadata": {},
     "output_type": "execute_result"
    }
   ],
   "source": [
    "### Supportive function -- part I\n",
    "function blkdig(vararg)\n",
    "    stop_row = 0\n",
    "    stop_col = 0\n",
    "    column = 0\n",
    "    row = 0\n",
    "    for i in 1:length(vararg)\n",
    "        column = column + size(vararg[i],2)\n",
    "        row = row + size(vararg[i],1)\n",
    "    end\n",
    "    \n",
    "    blk = zeros(row, column)\n",
    "    \n",
    "    for i in 1:length(vararg)\n",
    "        mat_comp = vararg[i]\n",
    "        for j in 1:size(mat_comp, 2)\n",
    "            for k in 1:size(mat_comp, 1)\n",
    "                blk[stop_row + k, stop_col + j] = mat_comp[k,j]\n",
    "            end\n",
    "        end\n",
    "        stop_row = stop_row + size(mat_comp,1)\n",
    "        stop_col = stop_col + size(mat_comp,2)\n",
    "    end\n",
    "    \n",
    "    return blk\n",
    "end"
   ]
  },
  {
   "cell_type": "code",
   "execution_count": 3,
   "metadata": {},
   "outputs": [
    {
     "data": {
      "text/plain": [
       "2-element Array{Array{Int64,1},1}:\n",
       " [1, 0, 0, 1, 0]\n",
       " [1, 0, 1, 0, 0]"
      ]
     },
     "execution_count": 3,
     "metadata": {},
     "output_type": "execute_result"
    }
   ],
   "source": [
    "### Supportive function -- part II\n",
    "blocks = [1 0 0 1 0\n",
    "            1 0 1 0 0\n",
    "            1 0 0 1 0]\n",
    "function sort_vec(blocks)\n",
    "    uniq = [ blocks[1,:]]\n",
    "    \n",
    "    for i in 2:size(blocks,1)\n",
    "        sum = 0\n",
    "        for j in 1:size(uniq,1)\n",
    "            sum = sum + (blocks[i,:] == uniq[j])\n",
    "        end\n",
    "        if sum == 0\n",
    "            push!(uniq, blocks[i,:])\n",
    "        end\n",
    "    end\n",
    "    return uniq\n",
    "end\n",
    "\n",
    "function ismember(blocks, str)\n",
    "    idx = []\n",
    "    for i in 1:size(blocks,1)\n",
    "        if blocks[i,:] == str\n",
    "            push!(idx, i)\n",
    "        end\n",
    "    end\n",
    "    return idx\n",
    "end\n",
    "\n",
    "sort_vec(blocks)"
   ]
  },
  {
   "cell_type": "code",
   "execution_count": 4,
   "metadata": {},
   "outputs": [
    {
     "name": "stderr",
     "output_type": "stream",
     "text": [
      "┌ Warning: `T` is deprecated, use `nonmissingtype` instead.\n",
      "│   caller = compacttype(::Type, ::Int64) at show.jl:39\n",
      "└ @ DataFrames /Users/varit/.julia/packages/DataFrames/CZrca/src/abstractdataframe/show.jl:39\n",
      "┌ Warning: `T` is deprecated, use `nonmissingtype` instead.\n",
      "│   caller = compacttype(::Union, ::Int64) at show.jl:39\n",
      "└ @ DataFrames /Users/varit/.julia/packages/DataFrames/CZrca/src/abstractdataframe/show.jl:39\n"
     ]
    },
    {
     "data": {
      "text/html": [
       "<table class=\"data-frame\"><thead><tr><th></th><th>date</th><th>RPI</th><th>W875RX1</th><th>DPCERA3M086SBEA</th><th>CMRMTSPL</th><th>MRTSSM44X72USS</th></tr><tr><th></th><th>Date⍰</th><th>Float64⍰</th><th>Float64⍰</th><th>Float64⍰</th><th>Float64⍰</th><th>Float64⍰</th></tr></thead><tbody><p>6 rows × 128 columns (omitted printing of 122 columns)</p><tr><th>1</th><td>1959-01-01</td><td>0.00393351</td><td>0.00357626</td><td>0.0103497</td><td>missing</td><td>missing</td></tr><tr><th>2</th><td>1959-02-01</td><td>0.00643111</td><td>0.00737371</td><td>0.00939402</td><td>missing</td><td>missing</td></tr><tr><th>3</th><td>1959-03-01</td><td>0.00649814</td><td>0.00701939</td><td>-0.0035764</td><td>missing</td><td>missing</td></tr><tr><th>4</th><td>1959-04-01</td><td>0.00582628</td><td>0.00662948</td><td>0.0119843</td><td>missing</td><td>missing</td></tr><tr><th>5</th><td>1959-05-01</td><td>0.003108</td><td>0.00302211</td><td>0.00364585</td><td>missing</td><td>missing</td></tr><tr><th>6</th><td>1959-06-01</td><td>-0.00058554</td><td>-0.00080784</td><td>-0.00336493</td><td>missing</td><td>missing</td></tr></tbody></table>"
      ],
      "text/latex": [
       "\\begin{tabular}{r|ccccccc}\n",
       "\t& date & RPI & W875RX1 & DPCERA3M086SBEA & CMRMTSPL & MRTSSM44X72USS & \\\\\n",
       "\t\\hline\n",
       "\t& Date⍰ & Float64⍰ & Float64⍰ & Float64⍰ & Float64⍰ & Float64⍰ & \\\\\n",
       "\t\\hline\n",
       "\t1 & 1959-01-01 & 0.00393351 & 0.00357626 & 0.0103497 &  &  & $\\dots$ \\\\\n",
       "\t2 & 1959-02-01 & 0.00643111 & 0.00737371 & 0.00939402 &  &  & $\\dots$ \\\\\n",
       "\t3 & 1959-03-01 & 0.00649814 & 0.00701939 & -0.0035764 &  &  & $\\dots$ \\\\\n",
       "\t4 & 1959-04-01 & 0.00582628 & 0.00662948 & 0.0119843 &  &  & $\\dots$ \\\\\n",
       "\t5 & 1959-05-01 & 0.003108 & 0.00302211 & 0.00364585 &  &  & $\\dots$ \\\\\n",
       "\t6 & 1959-06-01 & -0.00058554 & -0.00080784 & -0.00336493 &  &  & $\\dots$ \\\\\n",
       "\\end{tabular}\n"
      ],
      "text/plain": [
       "6×128 DataFrame. Omitted printing of 123 columns\n",
       "│ Row │ date       │ RPI         │ W875RX1     │ DPCERA3M086SBEA │ CMRMTSPL │\n",
       "│     │ \u001b[90mDate⍰\u001b[39m      │ \u001b[90mFloat64⍰\u001b[39m    │ \u001b[90mFloat64⍰\u001b[39m    │ \u001b[90mFloat64⍰\u001b[39m        │ \u001b[90mFloat64⍰\u001b[39m │\n",
       "├─────┼────────────┼─────────────┼─────────────┼─────────────────┼──────────┤\n",
       "│ 1   │ 1959-01-01 │ 0.00393351  │ 0.00357626  │ 0.0103497       │ \u001b[90mmissing\u001b[39m  │\n",
       "│ 2   │ 1959-02-01 │ 0.00643111  │ 0.00737371  │ 0.00939402      │ \u001b[90mmissing\u001b[39m  │\n",
       "│ 3   │ 1959-03-01 │ 0.00649814  │ 0.00701939  │ -0.0035764      │ \u001b[90mmissing\u001b[39m  │\n",
       "│ 4   │ 1959-04-01 │ 0.00582628  │ 0.00662948  │ 0.0119843       │ \u001b[90mmissing\u001b[39m  │\n",
       "│ 5   │ 1959-05-01 │ 0.003108    │ 0.00302211  │ 0.00364585      │ \u001b[90mmissing\u001b[39m  │\n",
       "│ 6   │ 1959-06-01 │ -0.00058554 │ -0.00080784 │ -0.00336493     │ \u001b[90mmissing\u001b[39m  │"
      ]
     },
     "execution_count": 4,
     "metadata": {},
     "output_type": "execute_result"
    }
   ],
   "source": [
    "datra = CSV.read(\"epic_matrix_quarterly.csv\")\n",
    "first(datra, 6) ### Check the dataset"
   ]
  },
  {
   "cell_type": "markdown",
   "metadata": {},
   "source": [
    "### 1. demeaning observation"
   ]
  },
  {
   "cell_type": "code",
   "execution_count": 5,
   "metadata": {
    "collapsed": true
   },
   "outputs": [],
   "source": [
    "for i in 2:size(datra,2)\n",
    "    datra[i] = replace(datra[i], NaN => missing) # handle NaN and missing\n",
    "    temp_mean = mean(skipmissing(datra[i]))\n",
    "    #println(temp_mean)\n",
    "    for j in 1:size(datra,1)\n",
    "        temp = datra[j,i] - temp_mean\n",
    "        datra[i] = replace(datra[i], datra[j,i] => temp)\n",
    "    end\n",
    "end\n",
    "#datra"
   ]
  },
  {
   "cell_type": "code",
   "execution_count": 6,
   "metadata": {},
   "outputs": [
    {
     "data": {
      "text/html": [
       "<table class=\"data-frame\"><thead><tr><th></th><th>GDPC1</th><th>GDPCTPI</th></tr><tr><th></th><th>Float64⍰</th><th>Float64⍰</th></tr></thead><tbody><p>326 rows × 2 columns</p><tr><th>1</th><td>missing</td><td>missing</td></tr><tr><th>2</th><td>missing</td><td>missing</td></tr><tr><th>3</th><td>0.00233529</td><td>0.00223409</td></tr><tr><th>4</th><td>missing</td><td>missing</td></tr><tr><th>5</th><td>missing</td><td>missing</td></tr><tr><th>6</th><td>0.0028787</td><td>-0.0010999</td></tr><tr><th>7</th><td>missing</td><td>missing</td></tr><tr><th>8</th><td>missing</td><td>missing</td></tr><tr><th>9</th><td>-0.00582631</td><td>-6.21379e-5</td></tr><tr><th>10</th><td>missing</td><td>missing</td></tr><tr><th>11</th><td>missing</td><td>missing</td></tr><tr><th>12</th><td>-0.00169161</td><td>-0.000886157</td></tr><tr><th>13</th><td>missing</td><td>missing</td></tr><tr><th>14</th><td>missing</td><td>missing</td></tr><tr><th>15</th><td>-0.00273712</td><td>0.000840566</td></tr><tr><th>16</th><td>missing</td><td>missing</td></tr><tr><th>17</th><td>missing</td><td>missing</td></tr><tr><th>18</th><td>0.00601055</td><td>-0.000762329</td></tr><tr><th>19</th><td>missing</td><td>missing</td></tr><tr><th>20</th><td>missing</td><td>missing</td></tr><tr><th>21</th><td>0.00215648</td><td>-0.000366276</td></tr><tr><th>22</th><td>missing</td><td>missing</td></tr><tr><th>23</th><td>missing</td><td>missing</td></tr><tr><th>24</th><td>0.00596056</td><td>0.000546095</td></tr><tr><th>25</th><td>missing</td><td>missing</td></tr><tr><th>26</th><td>missing</td><td>missing</td></tr><tr><th>27</th><td>-0.00167078</td><td>0.000241179</td></tr><tr><th>28</th><td>missing</td><td>missing</td></tr><tr><th>29</th><td>missing</td><td>missing</td></tr><tr><th>30</th><td>0.00389121</td><td>9.66709e-5</td></tr><tr><th>&vellip;</th><td>&vellip;</td><td>&vellip;</td></tr></tbody></table>"
      ],
      "text/latex": [
       "\\begin{tabular}{r|cc}\n",
       "\t& GDPC1 & GDPCTPI\\\\\n",
       "\t\\hline\n",
       "\t& Float64⍰ & Float64⍰\\\\\n",
       "\t\\hline\n",
       "\t1 &  &  \\\\\n",
       "\t2 &  &  \\\\\n",
       "\t3 & 0.00233529 & 0.00223409 \\\\\n",
       "\t4 &  &  \\\\\n",
       "\t5 &  &  \\\\\n",
       "\t6 & 0.0028787 & -0.0010999 \\\\\n",
       "\t7 &  &  \\\\\n",
       "\t8 &  &  \\\\\n",
       "\t9 & -0.00582631 & -6.21379e-5 \\\\\n",
       "\t10 &  &  \\\\\n",
       "\t11 &  &  \\\\\n",
       "\t12 & -0.00169161 & -0.000886157 \\\\\n",
       "\t13 &  &  \\\\\n",
       "\t14 &  &  \\\\\n",
       "\t15 & -0.00273712 & 0.000840566 \\\\\n",
       "\t16 &  &  \\\\\n",
       "\t17 &  &  \\\\\n",
       "\t18 & 0.00601055 & -0.000762329 \\\\\n",
       "\t19 &  &  \\\\\n",
       "\t20 &  &  \\\\\n",
       "\t21 & 0.00215648 & -0.000366276 \\\\\n",
       "\t22 &  &  \\\\\n",
       "\t23 &  &  \\\\\n",
       "\t24 & 0.00596056 & 0.000546095 \\\\\n",
       "\t25 &  &  \\\\\n",
       "\t26 &  &  \\\\\n",
       "\t27 & -0.00167078 & 0.000241179 \\\\\n",
       "\t28 &  &  \\\\\n",
       "\t29 &  &  \\\\\n",
       "\t30 & 0.00389121 & 9.66709e-5 \\\\\n",
       "\t$\\dots$ & $\\dots$ & $\\dots$ \\\\\n",
       "\\end{tabular}\n"
      ],
      "text/plain": [
       "326×2 DataFrame\n",
       "│ Row │ GDPC1       │ GDPCTPI     │\n",
       "│     │ \u001b[90mFloat64⍰\u001b[39m    │ \u001b[90mFloat64⍰\u001b[39m    │\n",
       "├─────┼─────────────┼─────────────┤\n",
       "│ 1   │ \u001b[90mmissing\u001b[39m     │ \u001b[90mmissing\u001b[39m     │\n",
       "│ 2   │ \u001b[90mmissing\u001b[39m     │ \u001b[90mmissing\u001b[39m     │\n",
       "│ 3   │ 0.00233529  │ 0.00223409  │\n",
       "│ 4   │ \u001b[90mmissing\u001b[39m     │ \u001b[90mmissing\u001b[39m     │\n",
       "│ 5   │ \u001b[90mmissing\u001b[39m     │ \u001b[90mmissing\u001b[39m     │\n",
       "│ 6   │ 0.0028787   │ -0.0010999  │\n",
       "│ 7   │ \u001b[90mmissing\u001b[39m     │ \u001b[90mmissing\u001b[39m     │\n",
       "│ 8   │ \u001b[90mmissing\u001b[39m     │ \u001b[90mmissing\u001b[39m     │\n",
       "│ 9   │ -0.00582631 │ -6.21379e-5 │\n",
       "│ 10  │ \u001b[90mmissing\u001b[39m     │ \u001b[90mmissing\u001b[39m     │\n",
       "⋮\n",
       "│ 316 │ \u001b[90mmissing\u001b[39m     │ \u001b[90mmissing\u001b[39m     │\n",
       "│ 317 │ \u001b[90mmissing\u001b[39m     │ \u001b[90mmissing\u001b[39m     │\n",
       "│ 318 │ -0.00478926 │ -0.00141792 │\n",
       "│ 319 │ \u001b[90mmissing\u001b[39m     │ \u001b[90mmissing\u001b[39m     │\n",
       "│ 320 │ \u001b[90mmissing\u001b[39m     │ \u001b[90mmissing\u001b[39m     │\n",
       "│ 321 │ 0.000124025 │ 0.00321331  │\n",
       "│ 322 │ \u001b[90mmissing\u001b[39m     │ \u001b[90mmissing\u001b[39m     │\n",
       "│ 323 │ \u001b[90mmissing\u001b[39m     │ \u001b[90mmissing\u001b[39m     │\n",
       "│ 324 │ -0.00241136 │ \u001b[90mmissing\u001b[39m     │\n",
       "│ 325 │ \u001b[90mmissing\u001b[39m     │ \u001b[90mmissing\u001b[39m     │\n",
       "│ 326 │ \u001b[90mmissing\u001b[39m     │ \u001b[90mmissing\u001b[39m     │"
      ]
     },
     "execution_count": 6,
     "metadata": {},
     "output_type": "execute_result"
    }
   ],
   "source": [
    "quarterly = datra[398:723, end-1:end]"
   ]
  },
  {
   "cell_type": "code",
   "execution_count": 7,
   "metadata": {},
   "outputs": [
    {
     "data": {
      "text/plain": [
       "\"demeaned_matrix.csv\""
      ]
     },
     "execution_count": 7,
     "metadata": {},
     "output_type": "execute_result"
    }
   ],
   "source": [
    "CSV.write(\"demeaned_matrix.csv\", datra, writeheader = true)"
   ]
  },
  {
   "cell_type": "markdown",
   "metadata": {},
   "source": [
    "### 2. Find the largest chunk without missing value."
   ]
  },
  {
   "cell_type": "code",
   "execution_count": 8,
   "metadata": {},
   "outputs": [
    {
     "data": {
      "text/html": [
       "<table class=\"data-frame\"><thead><tr><th></th><th>date</th><th>RPI</th><th>W875RX1</th><th>DPCERA3M086SBEA</th><th>CMRMTSPL</th><th>MRTSSM44X72USS</th></tr><tr><th></th><th>String</th><th>Float64</th><th>Float64</th><th>Float64</th><th>Float64⍰</th><th>Float64⍰</th></tr></thead><tbody><p>724 rows × 119 columns (omitted printing of 113 columns)</p><tr><th>1</th><td>1/1/59</td><td>0.0012526</td><td>0.0010653</td><td>0.00767048</td><td>missing</td><td>missing</td></tr><tr><th>2</th><td>2/1/59</td><td>0.0037502</td><td>0.00486275</td><td>0.00671482</td><td>missing</td><td>missing</td></tr><tr><th>3</th><td>3/1/59</td><td>0.00381723</td><td>0.00450843</td><td>-0.0062556</td><td>missing</td><td>missing</td></tr><tr><th>4</th><td>4/1/59</td><td>0.00314537</td><td>0.00411852</td><td>0.00930512</td><td>missing</td><td>missing</td></tr><tr><th>5</th><td>5/1/59</td><td>0.000427094</td><td>0.000511156</td><td>0.000966653</td><td>missing</td><td>missing</td></tr><tr><th>6</th><td>6/1/59</td><td>-0.00326644</td><td>-0.0033188</td><td>-0.00604413</td><td>missing</td><td>missing</td></tr><tr><th>7</th><td>7/1/59</td><td>-0.00837617</td><td>-0.00822697</td><td>0.00331371</td><td>missing</td><td>missing</td></tr><tr><th>8</th><td>8/1/59</td><td>-0.00189259</td><td>-0.00255374</td><td>0.007322</td><td>missing</td><td>missing</td></tr><tr><th>9</th><td>9/1/59</td><td>-0.00145783</td><td>-0.00131382</td><td>-0.00950251</td><td>missing</td><td>missing</td></tr><tr><th>10</th><td>10/1/59</td><td>0.00491526</td><td>0.00417518</td><td>-0.00312461</td><td>missing</td><td>missing</td></tr><tr><th>11</th><td>11/1/59</td><td>0.00751591</td><td>0.00884201</td><td>-0.00379359</td><td>missing</td><td>missing</td></tr><tr><th>12</th><td>12/1/59</td><td>0.00051197</td><td>0.00213642</td><td>0.000104457</td><td>missing</td><td>missing</td></tr><tr><th>13</th><td>1/1/60</td><td>-0.00153613</td><td>-0.00159242</td><td>0.00164789</td><td>missing</td><td>missing</td></tr><tr><th>14</th><td>2/1/60</td><td>-0.000771147</td><td>-0.00159326</td><td>0.0113924</td><td>missing</td><td>missing</td></tr><tr><th>15</th><td>3/1/60</td><td>0.000744914</td><td>0.0011099</td><td>0.0127032</td><td>missing</td><td>missing</td></tr><tr><th>16</th><td>4/1/60</td><td>-0.000278025</td><td>-6.29e-5</td><td>-0.0230958</td><td>missing</td><td>missing</td></tr><tr><th>17</th><td>5/1/60</td><td>-0.00189161</td><td>-0.00275964</td><td>-0.00289865</td><td>missing</td><td>missing</td></tr><tr><th>18</th><td>6/1/60</td><td>-0.000848764</td><td>-0.00060596</td><td>-0.000651078</td><td>missing</td><td>missing</td></tr><tr><th>19</th><td>7/1/60</td><td>-0.00430472</td><td>-0.00507942</td><td>-0.00361053</td><td>missing</td><td>missing</td></tr><tr><th>20</th><td>8/1/60</td><td>-0.0014066</td><td>-0.00222064</td><td>0.0020779</td><td>missing</td><td>missing</td></tr><tr><th>21</th><td>9/1/60</td><td>0.000272724</td><td>0.000635651</td><td>0.00216395</td><td>missing</td><td>missing</td></tr><tr><th>22</th><td>10/1/60</td><td>-0.00697502</td><td>-0.00827347</td><td>-0.00615954</td><td>missing</td><td>missing</td></tr><tr><th>23</th><td>11/1/60</td><td>-0.00725089</td><td>-0.00839051</td><td>-0.0150118</td><td>missing</td><td>missing</td></tr><tr><th>24</th><td>12/1/60</td><td>0.00624135</td><td>0.00619181</td><td>-0.000255489</td><td>missing</td><td>missing</td></tr><tr><th>25</th><td>1/1/61</td><td>0.00113783</td><td>-0.00242804</td><td>0.0010002</td><td>missing</td><td>missing</td></tr><tr><th>26</th><td>2/1/61</td><td>0.0014422</td><td>0.00241017</td><td>0.00968715</td><td>missing</td><td>missing</td></tr><tr><th>27</th><td>3/1/61</td><td>-0.000512103</td><td>0.000907144</td><td>-0.00219204</td><td>missing</td><td>missing</td></tr><tr><th>28</th><td>4/1/61</td><td>0.00506788</td><td>0.00343253</td><td>0.00336344</td><td>missing</td><td>missing</td></tr><tr><th>29</th><td>5/1/61</td><td>0.00669157</td><td>0.00550781</td><td>-0.000261597</td><td>missing</td><td>missing</td></tr><tr><th>30</th><td>6/1/61</td><td>0.000169059</td><td>-0.000121859</td><td>-0.00568866</td><td>missing</td><td>missing</td></tr><tr><th>&vellip;</th><td>&vellip;</td><td>&vellip;</td><td>&vellip;</td><td>&vellip;</td><td>&vellip;</td><td>&vellip;</td></tr></tbody></table>"
      ],
      "text/latex": [
       "\\begin{tabular}{r|ccccccc}\n",
       "\t& date & RPI & W875RX1 & DPCERA3M086SBEA & CMRMTSPL & MRTSSM44X72USS & \\\\\n",
       "\t\\hline\n",
       "\t& String & Float64 & Float64 & Float64 & Float64⍰ & Float64⍰ & \\\\\n",
       "\t\\hline\n",
       "\t1 & 1/1/59 & 0.0012526 & 0.0010653 & 0.00767048 &  &  & $\\dots$ \\\\\n",
       "\t2 & 2/1/59 & 0.0037502 & 0.00486275 & 0.00671482 &  &  & $\\dots$ \\\\\n",
       "\t3 & 3/1/59 & 0.00381723 & 0.00450843 & -0.0062556 &  &  & $\\dots$ \\\\\n",
       "\t4 & 4/1/59 & 0.00314537 & 0.00411852 & 0.00930512 &  &  & $\\dots$ \\\\\n",
       "\t5 & 5/1/59 & 0.000427094 & 0.000511156 & 0.000966653 &  &  & $\\dots$ \\\\\n",
       "\t6 & 6/1/59 & -0.00326644 & -0.0033188 & -0.00604413 &  &  & $\\dots$ \\\\\n",
       "\t7 & 7/1/59 & -0.00837617 & -0.00822697 & 0.00331371 &  &  & $\\dots$ \\\\\n",
       "\t8 & 8/1/59 & -0.00189259 & -0.00255374 & 0.007322 &  &  & $\\dots$ \\\\\n",
       "\t9 & 9/1/59 & -0.00145783 & -0.00131382 & -0.00950251 &  &  & $\\dots$ \\\\\n",
       "\t10 & 10/1/59 & 0.00491526 & 0.00417518 & -0.00312461 &  &  & $\\dots$ \\\\\n",
       "\t11 & 11/1/59 & 0.00751591 & 0.00884201 & -0.00379359 &  &  & $\\dots$ \\\\\n",
       "\t12 & 12/1/59 & 0.00051197 & 0.00213642 & 0.000104457 &  &  & $\\dots$ \\\\\n",
       "\t13 & 1/1/60 & -0.00153613 & -0.00159242 & 0.00164789 &  &  & $\\dots$ \\\\\n",
       "\t14 & 2/1/60 & -0.000771147 & -0.00159326 & 0.0113924 &  &  & $\\dots$ \\\\\n",
       "\t15 & 3/1/60 & 0.000744914 & 0.0011099 & 0.0127032 &  &  & $\\dots$ \\\\\n",
       "\t16 & 4/1/60 & -0.000278025 & -6.29e-5 & -0.0230958 &  &  & $\\dots$ \\\\\n",
       "\t17 & 5/1/60 & -0.00189161 & -0.00275964 & -0.00289865 &  &  & $\\dots$ \\\\\n",
       "\t18 & 6/1/60 & -0.000848764 & -0.00060596 & -0.000651078 &  &  & $\\dots$ \\\\\n",
       "\t19 & 7/1/60 & -0.00430472 & -0.00507942 & -0.00361053 &  &  & $\\dots$ \\\\\n",
       "\t20 & 8/1/60 & -0.0014066 & -0.00222064 & 0.0020779 &  &  & $\\dots$ \\\\\n",
       "\t21 & 9/1/60 & 0.000272724 & 0.000635651 & 0.00216395 &  &  & $\\dots$ \\\\\n",
       "\t22 & 10/1/60 & -0.00697502 & -0.00827347 & -0.00615954 &  &  & $\\dots$ \\\\\n",
       "\t23 & 11/1/60 & -0.00725089 & -0.00839051 & -0.0150118 &  &  & $\\dots$ \\\\\n",
       "\t24 & 12/1/60 & 0.00624135 & 0.00619181 & -0.000255489 &  &  & $\\dots$ \\\\\n",
       "\t25 & 1/1/61 & 0.00113783 & -0.00242804 & 0.0010002 &  &  & $\\dots$ \\\\\n",
       "\t26 & 2/1/61 & 0.0014422 & 0.00241017 & 0.00968715 &  &  & $\\dots$ \\\\\n",
       "\t27 & 3/1/61 & -0.000512103 & 0.000907144 & -0.00219204 &  &  & $\\dots$ \\\\\n",
       "\t28 & 4/1/61 & 0.00506788 & 0.00343253 & 0.00336344 &  &  & $\\dots$ \\\\\n",
       "\t29 & 5/1/61 & 0.00669157 & 0.00550781 & -0.000261597 &  &  & $\\dots$ \\\\\n",
       "\t30 & 6/1/61 & 0.000169059 & -0.000121859 & -0.00568866 &  &  & $\\dots$ \\\\\n",
       "\t$\\dots$ & $\\dots$ & $\\dots$ & $\\dots$ & $\\dots$ & $\\dots$ & $\\dots$ &  \\\\\n",
       "\\end{tabular}\n"
      ],
      "text/plain": [
       "724×119 DataFrame. Omitted printing of 114 columns\n",
       "│ Row │ date    │ RPI          │ W875RX1      │ DPCERA3M086SBEA │ CMRMTSPL     │\n",
       "│     │ \u001b[90mString\u001b[39m  │ \u001b[90mFloat64\u001b[39m      │ \u001b[90mFloat64\u001b[39m      │ \u001b[90mFloat64\u001b[39m         │ \u001b[90mFloat64⍰\u001b[39m     │\n",
       "├─────┼─────────┼──────────────┼──────────────┼─────────────────┼──────────────┤\n",
       "│ 1   │ 1/1/59  │ 0.0012526    │ 0.0010653    │ 0.00767048      │ \u001b[90mmissing\u001b[39m      │\n",
       "│ 2   │ 2/1/59  │ 0.0037502    │ 0.00486275   │ 0.00671482      │ \u001b[90mmissing\u001b[39m      │\n",
       "│ 3   │ 3/1/59  │ 0.00381723   │ 0.00450843   │ -0.0062556      │ \u001b[90mmissing\u001b[39m      │\n",
       "│ 4   │ 4/1/59  │ 0.00314537   │ 0.00411852   │ 0.00930512      │ \u001b[90mmissing\u001b[39m      │\n",
       "│ 5   │ 5/1/59  │ 0.000427094  │ 0.000511156  │ 0.000966653     │ \u001b[90mmissing\u001b[39m      │\n",
       "│ 6   │ 6/1/59  │ -0.00326644  │ -0.0033188   │ -0.00604413     │ \u001b[90mmissing\u001b[39m      │\n",
       "│ 7   │ 7/1/59  │ -0.00837617  │ -0.00822697  │ 0.00331371      │ \u001b[90mmissing\u001b[39m      │\n",
       "│ 8   │ 8/1/59  │ -0.00189259  │ -0.00255374  │ 0.007322        │ \u001b[90mmissing\u001b[39m      │\n",
       "│ 9   │ 9/1/59  │ -0.00145783  │ -0.00131382  │ -0.00950251     │ \u001b[90mmissing\u001b[39m      │\n",
       "│ 10  │ 10/1/59 │ 0.00491526   │ 0.00417518   │ -0.00312461     │ \u001b[90mmissing\u001b[39m      │\n",
       "⋮\n",
       "│ 714 │ 6/1/18  │ 0.000381042  │ 0.00101453   │ 0.000893734     │ -0.000918001 │\n",
       "│ 715 │ 7/1/18  │ 0.00100932   │ 0.00148749   │ 0.000602404     │ 0.00231962   │\n",
       "│ 716 │ 8/1/18  │ -0.00349345  │ -0.00337316  │ -0.00296633     │ -0.000677066 │\n",
       "│ 717 │ 9/1/18  │ -0.00173324  │ -0.0018733   │ 0.00119857      │ -0.00443419  │\n",
       "│ 718 │ 10/1/18 │ -0.00168106  │ -0.00110664  │ -0.000124726    │ 0.00209554   │\n",
       "│ 719 │ 11/1/18 │ 0.00617598   │ 0.00738623   │ -0.0114453      │ -0.00109195  │\n",
       "│ 720 │ 12/1/18 │ 0.000902918  │ -0.00409511  │ 0.00373438      │ 0.0121161    │\n",
       "│ 721 │ 1/1/19  │ 0.00216633   │ 0.00248386   │ -0.00434615     │ -0.00600857  │\n",
       "│ 722 │ 2/1/19  │ -0.000355807 │ -0.000136804 │ 0.00488391      │ 0.00108111   │\n",
       "│ 723 │ 3/1/19  │ -0.00112315  │ -0.00107352  │ 0.000518506     │ -0.0109998   │\n",
       "│ 724 │ 4/1/19  │ -0.000237273 │ -8.91e-5     │ 0.000682792     │ -0.000536382 │"
      ]
     },
     "execution_count": 8,
     "metadata": {},
     "output_type": "execute_result"
    }
   ],
   "source": [
    "### This matrix has been manually edited in excel. I remove some series that have weird structures and lots of missing values.\n",
    "data = CSV.read(\"demeaned_matrix_prior.csv\")"
   ]
  },
  {
   "cell_type": "code",
   "execution_count": 9,
   "metadata": {},
   "outputs": [
    {
     "name": "stdout",
     "output_type": "stream",
     "text": [
      "[0, 0, 0, 0, 0, 0, 0, 0, 0, 0, 0, 0, 0, 0, 0, 0, 0, 0, 0, 0, 0, 0, 0, 0, 0, 0, 0, 0, 0, 0, 0, 0, 0, 0, 0, 0, 0, 0, 0, 0, 0, 0, 0, 0, 0, 0, 0, 0, 0, 0, 0, 0, 0, 0, 0, 0, 0, 0, 0, 0, 0, 0, 0, 0, 0, 0, 0, 0, 0, 0, 0, 0, 0, 0, 0, 0, 0, 0, 0, 0, 0, 0, 0, 0, 0, 0, 0, 0, 0, 0, 0, 0, 0, 0, 0, 0, 0, 0, 0, 0, 0, 0, 0, 0, 0, 0, 0, 0, 0, 0, 0, 0, 0, 0, 0, 0, 0, 0, 0, 0, 0, 0, 0, 0, 0, 0, 0, 0, 0, 0, 0, 0, 0, 0, 0, 0, 0, 0, 0, 0, 0, 0, 0, 0, 0, 0, 0, 0, 0, 0, 0, 0, 0, 0, 0, 0, 0, 0, 0, 0, 0, 0, 0, 0, 0, 0, 0, 0, 0, 0, 0, 0, 0, 0, 0, 0, 0, 0, 0, 0, 0, 0, 0, 0, 0, 0, 0, 0, 0, 0, 0, 0, 0, 0, 0, 0, 0, 0, 0, 0, 0, 0, 0, 0, 0, 0, 0, 0, 0, 0, 0, 0, 0, 0, 0, 0, 0, 0, 0, 0, 0, 0, 0, 0, 0, 0, 0, 0, 0, 0, 0, 0, 0, 0, 0, 0, 0, 0, 0, 0, 0, 0, 0, 0, 0, 0, 0, 0, 0, 0, 0, 0, 0, 0, 0, 0, 0, 0, 0, 0, 0, 0, 0, 0, 0, 0, 0, 0, 0, 0, 0, 0, 0, 0, 0, 0, 0, 0, 0, 0, 0, 0, 0, 0, 0, 0, 0, 0, 0, 0, 0, 0, 0, 0, 0, 0, 0, 0, 0, 0, 0, 0, 0, 0, 0, 0, 0, 0, 0, 0, 0, 0, 0, 0, 0, 0, 0, 0, 0, 0, 0, 0, 0, 0, 0, 0, 0, 0, 0, 0, 0, 0, 0, 0, 0, 0, 0, 0, 0, 0, 0, 0, 0, 0, 0, 0, 0, 0, 0, 0, 0, 0, 0, 0, 0, 0, 0, 0, 0, 0, 0, 0, 0, 0, 0, 0, 0, 0, 0, 0, 0, 0, 0, 0, 0, 0, 0, 0, 0, 0, 0, 0, 0, 0, 0, 0, 0, 0, 0, 0, 0, 0, 0, 0, 0, 0, 0, 398, 399, 400, 401, 402, 403, 404, 405, 406, 407, 408, 409, 410, 411, 412, 413, 414, 415, 416, 417, 418, 419, 420, 421, 422, 423, 424, 425, 426, 427, 428, 429, 430, 431, 432, 433, 434, 435, 436, 437, 438, 439, 440, 441, 442, 443, 444, 445, 446, 447, 448, 449, 450, 451, 452, 453, 454, 455, 456, 457, 458, 459, 460, 461, 462, 463, 464, 465, 466, 467, 468, 469, 470, 471, 472, 473, 474, 475, 476, 477, 478, 479, 480, 481, 482, 483, 484, 485, 486, 487, 488, 489, 490, 491, 492, 493, 494, 495, 496, 497, 498, 499, 500, 501, 502, 503, 504, 505, 506, 507, 508, 509, 510, 511, 512, 513, 514, 515, 516, 517, 518, 519, 520, 521, 522, 523, 524, 525, 526, 527, 528, 529, 530, 531, 532, 533, 534, 535, 536, 537, 538, 539, 540, 541, 542, 543, 544, 545, 546, 547, 548, 549, 550, 551, 552, 553, 554, 555, 556, 557, 558, 559, 560, 561, 562, 563, 564, 565, 566, 567, 568, 569, 570, 571, 572, 573, 574, 575, 576, 577, 578, 579, 580, 581, 582, 583, 584, 585, 586, 587, 588, 589, 590, 591, 592, 593, 594, 595, 596, 597, 598, 599, 600, 601, 602, 603, 604, 605, 606, 607, 608, 609, 610, 611, 612, 613, 614, 615, 616, 617, 618, 619, 620, 621, 622, 623, 624, 625, 626, 627, 628, 629, 630, 631, 632, 633, 634, 635, 636, 637, 638, 639, 640, 641, 642, 643, 644, 645, 646, 647, 648, 649, 650, 651, 652, 653, 654, 655, 656, 657, 658, 659, 660, 661, 662, 663, 664, 665, 666, 667, 668, 669, 670, 671, 672, 673, 674, 675, 676, 677, 678, 679, 680, 681, 682, 683, 684, 685, 686, 687, 688, 689, 690, 691, 692, 693, 694, 695, 696, 697, 698, 699, 700, 701, 702, 703, 704, 705, 706, 707, 708, 709, 710, 711, 712, 713, 714, 715, 716, 717, 718, 719, 720, 721, 722, 723, 0, 725]"
     ]
    }
   ],
   "source": [
    "non_missing_index = collect(1:725)\n",
    "for i in 1:size(data,2)\n",
    "    non_missing_index[findall(ismissing, data[i])].= 0\n",
    "end\n",
    "\n",
    "print(non_missing_index)"
   ]
  },
  {
   "cell_type": "code",
   "execution_count": 10,
   "metadata": {},
   "outputs": [
    {
     "name": "stdout",
     "output_type": "stream",
     "text": [
      "396 zero!!!\n",
      "397 zero!!!\n",
      "724 zero!!!\n"
     ]
    }
   ],
   "source": [
    "for i in 396:724\n",
    "    if non_missing_index[i] == 0\n",
    "        println(i, \" zero!!!\")\n",
    "    end\n",
    "end\n",
    "\n",
    "### row 398 to 723 is the largest component"
   ]
  },
  {
   "cell_type": "code",
   "execution_count": 11,
   "metadata": {},
   "outputs": [
    {
     "data": {
      "text/html": [
       "<table class=\"data-frame\"><thead><tr><th></th><th>RPI</th><th>W875RX1</th><th>DPCERA3M086SBEA</th><th>CMRMTSPL</th><th>MRTSSM44X72USS</th><th>INDPRO</th></tr><tr><th></th><th>Float64</th><th>Float64</th><th>Float64</th><th>Float64⍰</th><th>Float64⍰</th><th>Float64</th></tr></thead><tbody><p>326 rows × 118 columns (omitted printing of 112 columns)</p><tr><th>1</th><td>-0.00102306</td><td>-0.00169723</td><td>-0.00085829</td><td>0.00184479</td><td>-0.00650604</td><td>0.00610109</td></tr><tr><th>2</th><td>0.00103965</td><td>0.000230497</td><td>-0.00184127</td><td>0.00446995</td><td>0.00251109</td><td>0.0053776</td></tr><tr><th>3</th><td>0.00265047</td><td>0.00299273</td><td>0.00247554</td><td>-0.0109105</td><td>0.00196199</td><td>0.00108208</td></tr><tr><th>4</th><td>0.0014802</td><td>0.00193052</td><td>1.2e-5</td><td>0.00831459</td><td>-0.000701602</td><td>-0.00203149</td></tr><tr><th>5</th><td>-0.00347101</td><td>-0.00386</td><td>0.00065705</td><td>0.0111309</td><td>0.00357458</td><td>0.00682233</td></tr><tr><th>6</th><td>0.00118623</td><td>0.00130185</td><td>-0.00019748</td><td>-0.0182077</td><td>-0.000264192</td><td>-0.00710763</td></tr><tr><th>7</th><td>-0.00650398</td><td>-0.00747332</td><td>0.00380398</td><td>0.0116358</td><td>0.00598455</td><td>0.000146118</td></tr><tr><th>8</th><td>-0.00761176</td><td>-0.00830757</td><td>0.000685958</td><td>0.00186721</td><td>0.00369995</td><td>0.00529834</td></tr><tr><th>9</th><td>-0.000498748</td><td>0.00196203</td><td>-0.000974791</td><td>-0.000469345</td><td>-0.0012925</td><td>0.00207053</td></tr><tr><th>10</th><td>0.0331231</td><td>0.0376036</td><td>0.00390239</td><td>0.0132742</td><td>0.00871181</td><td>-0.00127184</td></tr><tr><th>11</th><td>-0.0305959</td><td>-0.0376566</td><td>-0.00413035</td><td>0.000329597</td><td>0.00799914</td><td>0.00214794</td></tr><tr><th>12</th><td>0.00190246</td><td>0.0030889</td><td>-0.000831073</td><td>-0.00345483</td><td>-0.0113254</td><td>0.002249</td></tr><tr><th>13</th><td>-0.00529141</td><td>-0.00637894</td><td>-0.0053748</td><td>-0.00851431</td><td>-0.0118164</td><td>-0.00357545</td></tr><tr><th>14</th><td>0.004815</td><td>0.00678402</td><td>0.00401187</td><td>0.00298169</td><td>0.0219532</td><td>0.00132713</td></tr><tr><th>15</th><td>-0.0029026</td><td>-0.00207184</td><td>0.00080378</td><td>-0.000589284</td><td>0.00593787</td><td>-0.0056522</td></tr><tr><th>16</th><td>-0.00391091</td><td>-0.00514858</td><td>0.000945294</td><td>0.00703041</td><td>-0.0050142</td><td>-0.000517892</td></tr><tr><th>17</th><td>0.000576851</td><td>0.000268278</td><td>0.00224067</td><td>-0.00702246</td><td>0.0109055</td><td>0.000906946</td></tr><tr><th>18</th><td>-0.000518309</td><td>-0.000784918</td><td>-0.00167776</td><td>0.00293923</td><td>-0.00370463</td><td>-0.00322598</td></tr><tr><th>19</th><td>-0.0049298</td><td>-0.0052854</td><td>0.00303858</td><td>0.00669346</td><td>0.00237629</td><td>0.00259667</td></tr><tr><th>20</th><td>-0.00690221</td><td>-0.00650207</td><td>-0.00112852</td><td>0.00209021</td><td>0.00258798</td><td>0.00547424</td></tr><tr><th>21</th><td>-0.000109962</td><td>0.000473227</td><td>0.000129485</td><td>0.00294488</td><td>0.00662981</td><td>0.0019598</td></tr><tr><th>22</th><td>0.0314954</td><td>0.0357127</td><td>0.000841518</td><td>0.000984931</td><td>0.00539678</td><td>0.00328225</td></tr><tr><th>23</th><td>-0.0226262</td><td>-0.026925</td><td>4.5e-5</td><td>-0.00103383</td><td>-0.0102719</td><td>0.0016049</td></tr><tr><th>24</th><td>-0.00167687</td><td>-0.00126621</td><td>0.00530023</td><td>0.00693332</td><td>0.012207</td><td>-0.00190116</td></tr><tr><th>25</th><td>1.7e-5</td><td>0.000642913</td><td>-0.00254675</td><td>0.014341</td><td>0.0149593</td><td>0.00785015</td></tr><tr><th>26</th><td>0.00659475</td><td>0.00780198</td><td>0.00153356</td><td>-0.00745278</td><td>-0.0031923</td><td>0.00347615</td></tr><tr><th>27</th><td>-0.000625924</td><td>0.000367058</td><td>-0.00446126</td><td>0.000245193</td><td>-0.0072172</td><td>0.00293334</td></tr><tr><th>28</th><td>-0.00405931</td><td>-0.00385943</td><td>0.00328153</td><td>0.00696595</td><td>0.00795647</td><td>0.00418727</td></tr><tr><th>29</th><td>-0.000981773</td><td>-7.68e-5</td><td>-0.00335253</td><td>-0.0065652</td><td>-0.000336433</td><td>-0.000643348</td></tr><tr><th>30</th><td>-0.00123545</td><td>-0.00131667</td><td>0.0038869</td><td>0.0211674</td><td>0.00890797</td><td>0.00375128</td></tr><tr><th>&vellip;</th><td>&vellip;</td><td>&vellip;</td><td>&vellip;</td><td>&vellip;</td><td>&vellip;</td><td>&vellip;</td></tr></tbody></table>"
      ],
      "text/latex": [
       "\\begin{tabular}{r|ccccccc}\n",
       "\t& RPI & W875RX1 & DPCERA3M086SBEA & CMRMTSPL & MRTSSM44X72USS & INDPRO & \\\\\n",
       "\t\\hline\n",
       "\t& Float64 & Float64 & Float64 & Float64⍰ & Float64⍰ & Float64 & \\\\\n",
       "\t\\hline\n",
       "\t1 & -0.00102306 & -0.00169723 & -0.00085829 & 0.00184479 & -0.00650604 & 0.00610109 & $\\dots$ \\\\\n",
       "\t2 & 0.00103965 & 0.000230497 & -0.00184127 & 0.00446995 & 0.00251109 & 0.0053776 & $\\dots$ \\\\\n",
       "\t3 & 0.00265047 & 0.00299273 & 0.00247554 & -0.0109105 & 0.00196199 & 0.00108208 & $\\dots$ \\\\\n",
       "\t4 & 0.0014802 & 0.00193052 & 1.2e-5 & 0.00831459 & -0.000701602 & -0.00203149 & $\\dots$ \\\\\n",
       "\t5 & -0.00347101 & -0.00386 & 0.00065705 & 0.0111309 & 0.00357458 & 0.00682233 & $\\dots$ \\\\\n",
       "\t6 & 0.00118623 & 0.00130185 & -0.00019748 & -0.0182077 & -0.000264192 & -0.00710763 & $\\dots$ \\\\\n",
       "\t7 & -0.00650398 & -0.00747332 & 0.00380398 & 0.0116358 & 0.00598455 & 0.000146118 & $\\dots$ \\\\\n",
       "\t8 & -0.00761176 & -0.00830757 & 0.000685958 & 0.00186721 & 0.00369995 & 0.00529834 & $\\dots$ \\\\\n",
       "\t9 & -0.000498748 & 0.00196203 & -0.000974791 & -0.000469345 & -0.0012925 & 0.00207053 & $\\dots$ \\\\\n",
       "\t10 & 0.0331231 & 0.0376036 & 0.00390239 & 0.0132742 & 0.00871181 & -0.00127184 & $\\dots$ \\\\\n",
       "\t11 & -0.0305959 & -0.0376566 & -0.00413035 & 0.000329597 & 0.00799914 & 0.00214794 & $\\dots$ \\\\\n",
       "\t12 & 0.00190246 & 0.0030889 & -0.000831073 & -0.00345483 & -0.0113254 & 0.002249 & $\\dots$ \\\\\n",
       "\t13 & -0.00529141 & -0.00637894 & -0.0053748 & -0.00851431 & -0.0118164 & -0.00357545 & $\\dots$ \\\\\n",
       "\t14 & 0.004815 & 0.00678402 & 0.00401187 & 0.00298169 & 0.0219532 & 0.00132713 & $\\dots$ \\\\\n",
       "\t15 & -0.0029026 & -0.00207184 & 0.00080378 & -0.000589284 & 0.00593787 & -0.0056522 & $\\dots$ \\\\\n",
       "\t16 & -0.00391091 & -0.00514858 & 0.000945294 & 0.00703041 & -0.0050142 & -0.000517892 & $\\dots$ \\\\\n",
       "\t17 & 0.000576851 & 0.000268278 & 0.00224067 & -0.00702246 & 0.0109055 & 0.000906946 & $\\dots$ \\\\\n",
       "\t18 & -0.000518309 & -0.000784918 & -0.00167776 & 0.00293923 & -0.00370463 & -0.00322598 & $\\dots$ \\\\\n",
       "\t19 & -0.0049298 & -0.0052854 & 0.00303858 & 0.00669346 & 0.00237629 & 0.00259667 & $\\dots$ \\\\\n",
       "\t20 & -0.00690221 & -0.00650207 & -0.00112852 & 0.00209021 & 0.00258798 & 0.00547424 & $\\dots$ \\\\\n",
       "\t21 & -0.000109962 & 0.000473227 & 0.000129485 & 0.00294488 & 0.00662981 & 0.0019598 & $\\dots$ \\\\\n",
       "\t22 & 0.0314954 & 0.0357127 & 0.000841518 & 0.000984931 & 0.00539678 & 0.00328225 & $\\dots$ \\\\\n",
       "\t23 & -0.0226262 & -0.026925 & 4.5e-5 & -0.00103383 & -0.0102719 & 0.0016049 & $\\dots$ \\\\\n",
       "\t24 & -0.00167687 & -0.00126621 & 0.00530023 & 0.00693332 & 0.012207 & -0.00190116 & $\\dots$ \\\\\n",
       "\t25 & 1.7e-5 & 0.000642913 & -0.00254675 & 0.014341 & 0.0149593 & 0.00785015 & $\\dots$ \\\\\n",
       "\t26 & 0.00659475 & 0.00780198 & 0.00153356 & -0.00745278 & -0.0031923 & 0.00347615 & $\\dots$ \\\\\n",
       "\t27 & -0.000625924 & 0.000367058 & -0.00446126 & 0.000245193 & -0.0072172 & 0.00293334 & $\\dots$ \\\\\n",
       "\t28 & -0.00405931 & -0.00385943 & 0.00328153 & 0.00696595 & 0.00795647 & 0.00418727 & $\\dots$ \\\\\n",
       "\t29 & -0.000981773 & -7.68e-5 & -0.00335253 & -0.0065652 & -0.000336433 & -0.000643348 & $\\dots$ \\\\\n",
       "\t30 & -0.00123545 & -0.00131667 & 0.0038869 & 0.0211674 & 0.00890797 & 0.00375128 & $\\dots$ \\\\\n",
       "\t$\\dots$ & $\\dots$ & $\\dots$ & $\\dots$ & $\\dots$ & $\\dots$ & $\\dots$ &  \\\\\n",
       "\\end{tabular}\n"
      ],
      "text/plain": [
       "326×118 DataFrame. Omitted printing of 114 columns\n",
       "│ Row │ RPI          │ W875RX1      │ DPCERA3M086SBEA │ CMRMTSPL     │\n",
       "│     │ \u001b[90mFloat64\u001b[39m      │ \u001b[90mFloat64\u001b[39m      │ \u001b[90mFloat64\u001b[39m         │ \u001b[90mFloat64⍰\u001b[39m     │\n",
       "├─────┼──────────────┼──────────────┼─────────────────┼──────────────┤\n",
       "│ 1   │ -0.00102306  │ -0.00169723  │ -0.00085829     │ 0.00184479   │\n",
       "│ 2   │ 0.00103965   │ 0.000230497  │ -0.00184127     │ 0.00446995   │\n",
       "│ 3   │ 0.00265047   │ 0.00299273   │ 0.00247554      │ -0.0109105   │\n",
       "│ 4   │ 0.0014802    │ 0.00193052   │ 1.2e-5          │ 0.00831459   │\n",
       "│ 5   │ -0.00347101  │ -0.00386     │ 0.00065705      │ 0.0111309    │\n",
       "│ 6   │ 0.00118623   │ 0.00130185   │ -0.00019748     │ -0.0182077   │\n",
       "│ 7   │ -0.00650398  │ -0.00747332  │ 0.00380398      │ 0.0116358    │\n",
       "│ 8   │ -0.00761176  │ -0.00830757  │ 0.000685958     │ 0.00186721   │\n",
       "│ 9   │ -0.000498748 │ 0.00196203   │ -0.000974791    │ -0.000469345 │\n",
       "│ 10  │ 0.0331231    │ 0.0376036    │ 0.00390239      │ 0.0132742    │\n",
       "⋮\n",
       "│ 316 │ 3.23e-5      │ 0.000477946  │ -0.000517367    │ -0.00310363  │\n",
       "│ 317 │ 0.000381042  │ 0.00101453   │ 0.000893734     │ -0.000918001 │\n",
       "│ 318 │ 0.00100932   │ 0.00148749   │ 0.000602404     │ 0.00231962   │\n",
       "│ 319 │ -0.00349345  │ -0.00337316  │ -0.00296633     │ -0.000677066 │\n",
       "│ 320 │ -0.00173324  │ -0.0018733   │ 0.00119857      │ -0.00443419  │\n",
       "│ 321 │ -0.00168106  │ -0.00110664  │ -0.000124726    │ 0.00209554   │\n",
       "│ 322 │ 0.00617598   │ 0.00738623   │ -0.0114453      │ -0.00109195  │\n",
       "│ 323 │ 0.000902918  │ -0.00409511  │ 0.00373438      │ 0.0121161    │\n",
       "│ 324 │ 0.00216633   │ 0.00248386   │ -0.00434615     │ -0.00600857  │\n",
       "│ 325 │ -0.000355807 │ -0.000136804 │ 0.00488391      │ 0.00108111   │\n",
       "│ 326 │ -0.00112315  │ -0.00107352  │ 0.000518506     │ -0.0109998   │"
      ]
     },
     "execution_count": 11,
     "metadata": {},
     "output_type": "execute_result"
    }
   ],
   "source": [
    "prior_df = data[398:723,2:end]"
   ]
  },
  {
   "cell_type": "code",
   "execution_count": 12,
   "metadata": {},
   "outputs": [
    {
     "name": "stderr",
     "output_type": "stream",
     "text": [
      "┌ Warning: `convert(::Type{Array}, df::AbstractDataFrame)` is deprecated, use `convert(Matrix, df)` instead.\n",
      "│   caller = top-level scope at In[12]:1\n",
      "└ @ Core In[12]:1\n"
     ]
    },
    {
     "data": {
      "text/plain": [
       "326×118 Array{Union{Missing, Float64},2}:\n",
       " -0.00102306   -0.00169723   -0.00085829   …  -0.00584718    0.000665271\n",
       "  0.00103965    0.000230497  -0.00184127       0.000202901   0.00462347 \n",
       "  0.00265047    0.00299273    0.00247554       0.00880858   -0.00127922 \n",
       "  0.0014802     0.00193052    1.2e-5          -0.00854766    0.00252399 \n",
       " -0.00347101   -0.00386       0.00065705       0.0116299     0.000467616\n",
       "  0.00118623    0.00130185   -0.00019748   …  -0.00736782   -0.00846585 \n",
       " -0.00650398   -0.00747332    0.00380398      -0.00744271    0.00153729 \n",
       " -0.00761176   -0.00830757    0.000685958      0.0120916     0.00282071 \n",
       " -0.000498748   0.00196203   -0.000974791     -0.00302042   -0.000354051\n",
       "  0.0331231     0.0376036     0.00390239      -0.0143728    -0.0113346  \n",
       " -0.0305959    -0.0376566    -0.00413035   …   0.00713867    0.012571   \n",
       "  0.00190246    0.0030889    -0.000831073     -0.00129334    0.00505875 \n",
       " -0.00529141   -0.00637894   -0.0053748        0.00795123   -0.00560051 \n",
       "  ⋮                                        ⋱                            \n",
       " -0.00138346   -0.00105346    0.00159008      -0.00587793    0.00901342 \n",
       "  3.23e-5       0.000477946  -0.000517367  …   0.00526166   -0.00744313 \n",
       "  0.000381042   0.00101453    0.000893734      0.000361681  -0.00235698 \n",
       "  0.00100932    0.00148749    0.000602404     -0.00536293   -0.00174358 \n",
       " -0.00349345   -0.00337316   -0.00296633       0.00371429    0.00260841 \n",
       " -0.00173324   -0.0018733     0.00119857      -0.00170616    0.00447518 \n",
       " -0.00168106   -0.00110664   -0.000124726  …   0.00253935    0.00649835 \n",
       "  0.00617598    0.00738623   -0.0114453       -0.00343403   -0.0034558  \n",
       "  0.000902918  -0.00409511    0.00373438      -0.00504302   -0.00775852 \n",
       "  0.00216633    0.00248386   -0.00434615       0.00656015    0.00448987 \n",
       " -0.000355807  -0.000136804   0.00488391      -0.000662427   0.00646065 \n",
       " -0.00112315   -0.00107352    0.000518506  …   0.0035796    -0.00919107 "
      ]
     },
     "execution_count": 12,
     "metadata": {},
     "output_type": "execute_result"
    }
   ],
   "source": [
    "prior_matrix = convert(Array, prior_df)"
   ]
  },
  {
   "cell_type": "code",
   "execution_count": 13,
   "metadata": {},
   "outputs": [
    {
     "data": {
      "text/plain": [
       "\"prior_matrix.csv\""
      ]
     },
     "execution_count": 13,
     "metadata": {},
     "output_type": "execute_result"
    }
   ],
   "source": [
    "CSV.write(\"prior_matrix.csv\", prior_df, writeheader = false)"
   ]
  },
  {
   "cell_type": "markdown",
   "metadata": {},
   "source": [
    "### 3. Principal component"
   ]
  },
  {
   "cell_type": "code",
   "execution_count": 14,
   "metadata": {},
   "outputs": [
    {
     "name": "stderr",
     "output_type": "stream",
     "text": [
      "┌ Warning: `convert(::Type{Array}, df::AbstractDataFrame)` is deprecated, use `convert(Matrix, df)` instead.\n",
      "│   caller = top-level scope at In[14]:2\n",
      "└ @ Core In[14]:2\n"
     ]
    },
    {
     "data": {
      "text/plain": [
       "326×118 Array{Float64,2}:\n",
       " -0.00102306   -0.00169723   -0.00085829   …  -0.00584718    0.000665271\n",
       "  0.00103965    0.000230497  -0.00184127       0.000202901   0.00462347 \n",
       "  0.00265047    0.00299273    0.00247554       0.00880858   -0.00127922 \n",
       "  0.0014802     0.00193052    1.2e-5          -0.00854766    0.00252399 \n",
       " -0.00347101   -0.00386       0.00065705       0.0116299     0.000467616\n",
       "  0.00118623    0.00130185   -0.00019748   …  -0.00736782   -0.00846585 \n",
       " -0.00650398   -0.00747332    0.00380398      -0.00744271    0.00153729 \n",
       " -0.00761176   -0.00830757    0.000685958      0.0120916     0.00282071 \n",
       " -0.000498748   0.00196203   -0.000974791     -0.00302042   -0.000354051\n",
       "  0.0331231     0.0376036     0.00390239      -0.0143728    -0.0113346  \n",
       " -0.0305959    -0.0376566    -0.00413035   …   0.00713867    0.012571   \n",
       "  0.00190246    0.0030889    -0.000831073     -0.00129334    0.00505875 \n",
       " -0.00529141   -0.00637894   -0.0053748        0.00795123   -0.00560051 \n",
       "  ⋮                                        ⋱                            \n",
       " -0.00138346   -0.00105346    0.00159008      -0.00587793    0.00901342 \n",
       "  3.23e-5       0.000477946  -0.000517367  …   0.00526166   -0.00744313 \n",
       "  0.000381042   0.00101453    0.000893734      0.000361681  -0.00235698 \n",
       "  0.00100932    0.00148749    0.000602404     -0.00536293   -0.00174358 \n",
       " -0.00349345   -0.00337316   -0.00296633       0.00371429    0.00260841 \n",
       " -0.00173324   -0.0018733     0.00119857      -0.00170616    0.00447518 \n",
       " -0.00168106   -0.00110664   -0.000124726  …   0.00253935    0.00649835 \n",
       "  0.00617598    0.00738623   -0.0114453       -0.00343403   -0.0034558  \n",
       "  0.000902918  -0.00409511    0.00373438      -0.00504302   -0.00775852 \n",
       "  0.00216633    0.00248386   -0.00434615       0.00656015    0.00448987 \n",
       " -0.000355807  -0.000136804   0.00488391      -0.000662427   0.00646065 \n",
       " -0.00112315   -0.00107352    0.000518506  …   0.0035796    -0.00919107 "
      ]
     },
     "execution_count": 14,
     "metadata": {},
     "output_type": "execute_result"
    }
   ],
   "source": [
    "prior_PCA = CSV.read(\"prior_matrix.csv\", header = false)\n",
    "prior_PCA = convert(Array, prior_PCA)"
   ]
  },
  {
   "cell_type": "code",
   "execution_count": 15,
   "metadata": {},
   "outputs": [
    {
     "data": {
      "text/plain": [
       "PCA(indim = 326, outdim = 118, principalratio = 1.00000)"
      ]
     },
     "execution_count": 15,
     "metadata": {},
     "output_type": "execute_result"
    }
   ],
   "source": [
    "M = fit(PCA, prior_PCA, maxoutdim = 326, pratio = 1.0)"
   ]
  },
  {
   "cell_type": "markdown",
   "metadata": {},
   "source": [
    "labor: real associated with market\n",
    "nominal: price\n",
    "real: quantity\n",
    "\n",
    "survey: survey\n",
    "\n",
    "output pca: actual component, and the remainder matrix.\n",
    "- "
   ]
  },
  {
   "cell_type": "code",
   "execution_count": 16,
   "metadata": {
    "scrolled": false
   },
   "outputs": [
    {
     "data": {
      "text/plain": [
       "118×118 Array{Float64,2}:\n",
       "   -1.62095e5      -1.62095e5    …    -1.62095e5      -1.62095e5  \n",
       " -384.21         -384.21            -384.216        -384.214      \n",
       "   -2.71121        -2.70194           -2.66597        -2.70863    \n",
       "   -8.00722        -8.00494           -7.97494        -8.01179    \n",
       "   -2.37851        -2.38103           -2.4021         -2.34841    \n",
       "    0.797908        0.799465     …     0.774329        0.799578   \n",
       "   -0.175178       -0.177506          -0.144432       -0.172536   \n",
       "    0.290388        0.291273           0.312757        0.278015   \n",
       "    0.154221        0.156373           0.10337         0.162376   \n",
       "   -0.820866       -0.818778          -0.828527       -0.825093   \n",
       "    0.353082        0.351388     …     0.340854        0.333287   \n",
       "   -1.13331        -1.13695           -1.17108        -1.1394     \n",
       "    0.0519798       0.0531303          0.0640827       0.0371295  \n",
       "    ⋮                            ⋱                                \n",
       "   -7.48221e-5      0.000101485       -2.32596e-5      4.94753e-5 \n",
       "   -7.02649e-5      2.0417e-5          1.43002e-5      2.72286e-5 \n",
       "   -7.30093e-6      6.67653e-6         1.60508e-5     -2.00149e-5 \n",
       "   -4.36419e-6     -2.23556e-5        -1.9227e-5       9.06789e-6 \n",
       "   -6.3919e-6       1.5293e-5    …    -1.11358e-5     -8.55436e-6 \n",
       "   -1.26728e-6      1.65121e-5         2.01129e-6      1.0554e-5  \n",
       "   -3.75825e-5      3.66927e-5        -1.607e-6        1.03205e-5 \n",
       "   -6.43408e-6      2.03491e-5        -7.01053e-7     -4.33961e-6 \n",
       "   -1.04889e-5      1.17213e-5        -7.30246e-7      9.56615e-7 \n",
       "   -8.09482e-7      1.11834e-6   …     9.7539e-8      -6.23052e-7 \n",
       "   -3.43685e-7      2.2957e-7         -9.68309e-8     -1.38511e-7 \n",
       "   -5.75938e-10     4.08932e-10        2.19075e-10    -9.94078e-10"
      ]
     },
     "execution_count": 16,
     "metadata": {},
     "output_type": "execute_result"
    }
   ],
   "source": [
    "y = transform(M, prior_PCA)\n",
    "#reconstruct(M, y)[:,1]"
   ]
  },
  {
   "cell_type": "code",
   "execution_count": 17,
   "metadata": {},
   "outputs": [
    {
     "data": {
      "text/plain": [
       "326×118 Array{Float64,2}:\n",
       " -0.0154655  -0.0888199     0.0094992   …  -0.0805664    -0.365492  \n",
       " -0.0154109  -0.0888152     0.00949378     -0.0421734    -0.018819  \n",
       " -0.0157155  -0.0597371    -0.00924236     -0.0345907     0.0532612 \n",
       " -0.0158028  -0.0559008    -0.0287703      -0.134118      0.00761778\n",
       " -0.0157714  -0.0734852     0.100095       -0.0324559     0.0216346 \n",
       " -0.0157578  -0.0734749     0.100101    …  -0.0629455     0.0626036 \n",
       " -0.0157387  -0.0734749     0.100093       -0.0368075    -0.0301859 \n",
       " -0.0156677  -0.0946373     0.0388241       0.0149188    -0.00326446\n",
       " -0.0155774  -0.0734405     0.100108        0.0152083     0.0877049 \n",
       " -0.0154941  -0.07705       0.0788023       0.0145309     0.0108076 \n",
       " -0.0153965  -0.0770391     0.0788157   …   0.0459198     0.0308553 \n",
       " -0.0154279  -0.0632328    -0.0407133      -0.00557542    0.0163395 \n",
       " -0.0155338  -0.064221     -0.0358478      -0.000105982  -0.0150868 \n",
       "  ⋮                                     ⋱                           \n",
       "  0.094061    0.0165749     0.00524288      0.0347172    -0.00153158\n",
       "  0.0906901  -0.00519178   -0.0562458   …  -0.0418487     0.0150674 \n",
       "  0.0889194   0.00245667    0.0222951       0.0192394    -0.0289542 \n",
       "  0.0869222   0.00410036    0.00218703      0.0343579     0.0490205 \n",
       "  0.0849074   0.000846738   0.0167478      -0.0249212    -0.0295538 \n",
       "  0.0829157   0.00430567    0.00731094      0.0111172    -0.131341  \n",
       "  0.0807143  -0.0192218     0.124527    …   0.0214422    -0.0032415 \n",
       "  0.0778477  -0.0305841     0.0604129       0.00332277   -0.0175704 \n",
       "  0.0736168  -0.00819179   -0.0571808       0.0312906    -0.0224896 \n",
       "  0.0708706  -0.0086693    -0.0573531      -0.0411176     0.127996  \n",
       "  0.0712074  -0.0385825    -0.0541117       0.0326501     0.0619649 \n",
       "  0.071848   -0.0352582     0.0387127   …  -0.0461343    -0.0401048 "
      ]
     },
     "execution_count": 17,
     "metadata": {},
     "output_type": "execute_result"
    }
   ],
   "source": [
    "p = projection(M)"
   ]
  },
  {
   "cell_type": "code",
   "execution_count": 18,
   "metadata": {},
   "outputs": [
    {
     "data": {
      "text/plain": [
       "326×118 Array{Float64,2}:\n",
       " 33.8122    33.8116    33.8123    …  33.8504    33.8074    33.8139  \n",
       " 33.3275    33.3267    33.3246       33.2735    33.3267    33.3311  \n",
       " 23.1378    23.1382    23.1376       23.1808    23.144     23.1339  \n",
       " 21.6991    21.6996    21.6976       21.6941    21.6891    21.7002  \n",
       " 27.9424    27.942     27.9465       27.9395    27.9575    27.9463  \n",
       " 28.411     28.4112    28.4096    …  28.4011    28.4025    28.4014  \n",
       " 27.7871    27.7862    27.7973       27.7944    27.7862    27.7951  \n",
       " 35.7689    35.7683    35.7772       35.7706    35.7887    35.7794  \n",
       " 28.2372    28.2397    28.2367       28.2412    28.2347    28.2373  \n",
       " 29.2323    29.2368    29.203        29.2027    29.1848    29.1879  \n",
       " 29.2553    29.2483    29.2817    …  29.2404    29.293     29.2985  \n",
       " 24.8132    24.8145    24.8104       24.8533    24.8101    24.8164  \n",
       " 24.9711    24.97      24.9709       24.9945    24.9843    24.9708  \n",
       "  ⋮                               ⋱   ⋮                             \n",
       " -5.28007   -5.28      -5.27675      -5.29037   -5.28469   -5.26975 \n",
       "  2.9275     2.92769    2.92728   …   2.93926    2.93261    2.91995 \n",
       " -0.271034  -0.270648  -0.270194     -0.269532  -0.27117   -0.273842\n",
       " -0.914629  -0.914393  -0.914717     -0.928147  -0.921115  -0.917451\n",
       "  0.108414   0.108298   0.109254      0.118768   0.115511   0.114449\n",
       " -0.557305  -0.557676  -0.554068     -0.554377  -0.557386  -0.551162\n",
       "  7.92845    7.9288     7.9303    …   7.92996    7.93257    7.93657 \n",
       " 12.1742    12.1752    12.1569       12.1667    12.1645    12.1646  \n",
       "  3.9191     3.91389    3.9222        3.91243    3.91306    3.91038 \n",
       "  4.21974    4.21986    4.21349       4.22475    4.22404    4.22201 \n",
       " 15.2526    15.2526    15.2581       15.2522    15.2522    15.2594  \n",
       " 13.5375    13.5373    13.5394    …  13.5417    13.5421    13.5293  "
      ]
     },
     "execution_count": 18,
     "metadata": {},
     "output_type": "execute_result"
    }
   ],
   "source": [
    "x_reduced = p[:,2:end] * y[2:end,:]"
   ]
  },
  {
   "cell_type": "code",
   "execution_count": 19,
   "metadata": {},
   "outputs": [
    {
     "data": {
      "text/plain": [
       "326-element Array{Float64,1}:\n",
       " -0.015465542556305037\n",
       " -0.015410852487686543\n",
       " -0.01571554710647047 \n",
       " -0.01580279239427524 \n",
       " -0.01577136442329982 \n",
       " -0.0157577527453626  \n",
       " -0.01573865804895142 \n",
       " -0.015667733406371488\n",
       " -0.015577362553049765\n",
       " -0.015494061504209986\n",
       " -0.015396488802840964\n",
       " -0.015427874719542505\n",
       " -0.015533847606805113\n",
       "  ⋮                   \n",
       "  0.09406102761399797 \n",
       "  0.09069006013059379 \n",
       "  0.0889194476003686  \n",
       "  0.08692221844824095 \n",
       "  0.08490741500597815 \n",
       "  0.08291567102696273 \n",
       "  0.08071433417035961 \n",
       "  0.07784771857163104 \n",
       "  0.07361683301787773 \n",
       "  0.07087062103444455 \n",
       "  0.07120744744176233 \n",
       "  0.07184800307788425 "
      ]
     },
     "execution_count": 19,
     "metadata": {},
     "output_type": "execute_result"
    }
   ],
   "source": [
    "f_G = p[:,1]"
   ]
  },
  {
   "cell_type": "code",
   "execution_count": 20,
   "metadata": {},
   "outputs": [
    {
     "name": "stdout",
     "output_type": "stream",
     "text": [
      "Symbol[:RPI, :W875RX1, :DPCERA3M086SBEA, :CMRMTSPL, :MRTSSM44X72USS, :INDPRO, :IPFPNSS, :IPFINAL, :IPCONGD, :IPDCONGD, :IPNCONGD, :IPBUSEQ, :IPMAT, :IPDMAT, :IPNMAT, :IPMANSICS, :IPB51222S, :IPFUELS, :CUMFNS, :CLF16OV, :CE16OV, :UNRATE, :UEMPMEAN, :UEMPLT5, :UEMP5TO14, :UEMP15OV, :UEMP15T26, :UEMP27OV, :ICSA, :PAYEMS, :USGOOD, :CES1021000001, :USCONS, :MANEMP, :DMANEMP, :NDMANEMP, :SRVPRD, :USTPU, :USWTRADE, :USTRADE, :USFIRE, :USGOVT, :CES0600000007, :AWOTMAN, :AWHMAN, :HOUST, :HOUSTNE, :HOUSTMW, :HOUSTS, :HOUSTW, :PERMIT, :PERMITNE, :PERMITMW, :PERMITS, :PERMITW, :ACOGNO, :DGORDER, :NEWORDER, :AMDMUO, :BUSINV, :ISRATIO, :M1SL, :M2SL, :M2REAL, :AMBSL, :TOTRESNS, :NONBORRES, :BUSLOANS, :REALLN, :NONREVSL, :PI, :SP500, :DJIA, :M1346BUSM156NNBR, :FEDFUNDS, :CP3M, :TB3MS, :TB6MS, :GS1, :GS5, :GS10, :AAA, :BAA, :CPFF, :TB3SMFFM, :TB6SMFFM, :T1YFFM, :T5YFFM, :T10YFFM, :AAAFFM, :BAAFFM, :TWEXMMTH, :EXSZUS, :EXJPUS, :EXUSUK, :EXCAUS, :WPSFD49207, :WPSFD49502, :WPSID61, :WPSID62, :WTISPLC, :PPICMM, :CPIAUCSL, :CPIAPPSL, :CPITRNSL, :CPIMEDSL, :CUSR0000SAC, :CUSR0000SAD, :CUSR0000SAS, :CPIULFSL, :CUSR0000SA0L2, :CUSR0000SA0L5, :PCEPI, :DDURRG3M086SBEA, :DNDGRG3M086SBEA, :DSERRG3M086SBEA, :CES0600000008, :CES2000000008, :CES3000000008, :UMCSENT, :MZMSL, :DTCOLNVHFNM, :DTCTHFNM, :INVEST, :VXOCLS, :GDPC1, :GDPCTPI]\n",
      "\n",
      "Symbol[:RPI, :W875RX1, :DPCERA3M086SBEA, :CMRMTSPL, :MRTSSM44X72USS, :INDPRO, :IPFPNSS, :IPFINAL, :IPCONGD, :IPDCONGD, :IPNCONGD, :IPBUSEQ, :IPMAT, :IPDMAT, :IPNMAT, :IPMANSICS, :IPB51222S, :IPFUELS, :CUMFNS, :CLF16OV, :CE16OV, :UNRATE, :UEMPMEAN, :UEMPLT5, :UEMP5TO14, :UEMP15OV, :UEMP15T26, :UEMP27OV, :PAYEMS, :USGOOD, :CES1021000001, :USCONS, :MANEMP, :DMANEMP, :NDMANEMP, :SRVPRD, :USTPU, :USWTRADE, :USTRADE, :USFIRE, :USGOVT, :CES0600000007, :AWOTMAN, :AWHMAN, :HOUST, :HOUSTNE, :HOUSTMW, :HOUSTS, :HOUSTW, :PERMIT, :PERMITNE, :PERMITMW, :PERMITS, :PERMITW, :ACOGNO, :DGORDER, :NEWORDER, :AMDMUO, :BUSINV, :ISRATIO, :M1SL, :M2SL, :M2REAL, :AMBSL, :TOTRESNS, :NONBORRES, :BUSLOANS, :REALLN, :NONREVSL, :PI, :FEDFUNDS, :TB3MS, :TB6MS, :GS1, :GS5, :GS10, :AAA, :BAA, :TB3SMFFM, :TB6SMFFM, :T1YFFM, :T5YFFM, :T10YFFM, :AAAFFM, :BAAFFM, :TWEXMMTH, :EXSZUS, :EXJPUS, :EXUSUK, :EXCAUS, :WPSFD49207, :WPSFD49502, :WPSID61, :WPSID62, :WTISPLC, :PPICMM, :CPIAUCSL, :CPIAPPSL, :CPITRNSL, :CPIMEDSL, :CUSR0000SAC, :CUSR0000SAD, :CUSR0000SAS, :CPIULFSL, :CUSR0000SA0L2, :CUSR0000SA0L5, :PCEPI, :DDURRG3M086SBEA, :DNDGRG3M086SBEA, :DSERRG3M086SBEA, :CES0600000008, :CES2000000008, :CES3000000008, :UMCSENT, :MZMSL, :DTCOLNVHFNM, :DTCTHFNM, :INVEST]\n"
     ]
    }
   ],
   "source": [
    "println(names(datra)[2:end])\n",
    "println()\n",
    "println(names(data)[2:end])"
   ]
  },
  {
   "cell_type": "code",
   "execution_count": 21,
   "metadata": {},
   "outputs": [
    {
     "data": {
      "text/plain": [
       "119"
      ]
     },
     "execution_count": 21,
     "metadata": {},
     "output_type": "execute_result"
    }
   ],
   "source": [
    "length(names(data)) \n",
    "## remove 9 series including ?both GDPC1, GDPCTPI, ICSA, VXOCLS, :SP500, :DJIA, :M1346BUSM156NNBR, CPFF, CP3M "
   ]
  },
  {
   "cell_type": "code",
   "execution_count": null,
   "metadata": {
    "collapsed": true
   },
   "outputs": [],
   "source": []
  },
  {
   "cell_type": "code",
   "execution_count": 22,
   "metadata": {},
   "outputs": [
    {
     "data": {
      "text/plain": [
       "29-element Array{Symbol,1}:\n",
       " :CLF16OV      \n",
       " :CE16OV       \n",
       " :UNRATE       \n",
       " :UEMPMEAN     \n",
       " :UEMPLT5      \n",
       " :UEMP5TO14    \n",
       " :UEMP15OV     \n",
       " :UEMP15T26    \n",
       " :UEMP27OV     \n",
       " :ICSA         \n",
       " :PAYEMS       \n",
       " :USGOOD       \n",
       " :CES1021000001\n",
       " ⋮             \n",
       " :SRVPRD       \n",
       " :USTPU        \n",
       " :USWTRADE     \n",
       " :USTRADE      \n",
       " :USFIRE       \n",
       " :USGOVT       \n",
       " :CES0600000007\n",
       " :AWOTMAN      \n",
       " :AWHMAN       \n",
       " :CES0600000008\n",
       " :CES2000000008\n",
       " :CES3000000008"
      ]
     },
     "execution_count": 22,
     "metadata": {},
     "output_type": "execute_result"
    }
   ],
   "source": [
    "R = [:RPI,:W875RX1,:DPCERA3M086SBEA,:CMRMTSPL,:INDPRO,:IPFPNSS,:IPFINAL,:IPCONGD,:IPDCONGD,:IPNCONGD,:IPBUSEQ,:IPMAT,:IPDMAT,:IPNMAT,:IPMANSICS,:IPB51222S,:IPFUELS\n",
    "    ,:CUMFNS,:ISRATIO,:M2REAL,:HOUST,:HOUSTNE,:HOUSTMW,:HOUSTS,:HOUSTW,:PERMIT,:PERMITNE,:PERMITMW,:PERMITS,:PERMITW\n",
    "    ,:PI,:WPSFD49207,:WPSFD49502,:WPSID61,:WPSID62,:WTISPLC,:PPICMM,:CPIAUCSL,:CPIAPPSL,:CPITRNSL,:CPIMEDSL,:CUSR0000SAC\n",
    "    ,:CUSR0000SAD,:CUSR0000SAS,:CPIULFSL,:CUSR0000SA0L2,:CUSR0000SA0L5,:GDPC1,:GDPCTPI]\n",
    "S = [:UMCSENT,:DTCOLNVHFNM,:DTCTHFNM]\n",
    "L = [:CLF16OV,:CE16OV,:UNRATE,:UEMPMEAN,:UEMPLT5,:UEMP5TO14,:UEMP15OV,:UEMP15T26,:UEMP27OV,:ICSA,:PAYEMS,:USGOOD,:CES1021000001,:USCONS,:MANEMP,:DMANEMP,:NDMANEMP,:SRVPRD,:USTPU,:USWTRADE,:USTRADE,:USFIRE,:USGOVT,:CES0600000007,:AWOTMAN,:AWHMAN,:CES0600000008,:CES2000000008,:CES3000000008]\n",
    "# otherwise, assign to nominal factor\n"
   ]
  },
  {
   "cell_type": "code",
   "execution_count": 23,
   "metadata": {},
   "outputs": [
    {
     "data": {
      "text/plain": [
       "118-element Array{Symbol,1}:\n",
       " :RPI            \n",
       " :W875RX1        \n",
       " :DPCERA3M086SBEA\n",
       " :CMRMTSPL       \n",
       " :MRTSSM44X72USS \n",
       " :INDPRO         \n",
       " :IPFPNSS        \n",
       " :IPFINAL        \n",
       " :IPCONGD        \n",
       " :IPDCONGD       \n",
       " :IPNCONGD       \n",
       " :IPBUSEQ        \n",
       " :IPMAT          \n",
       " ⋮               \n",
       " :PCEPI          \n",
       " :DDURRG3M086SBEA\n",
       " :DNDGRG3M086SBEA\n",
       " :DSERRG3M086SBEA\n",
       " :CES0600000008  \n",
       " :CES2000000008  \n",
       " :CES3000000008  \n",
       " :UMCSENT        \n",
       " :MZMSL          \n",
       " :DTCOLNVHFNM    \n",
       " :DTCTHFNM       \n",
       " :INVEST         "
      ]
     },
     "execution_count": 23,
     "metadata": {},
     "output_type": "execute_result"
    }
   ],
   "source": [
    "prior_colname = names(data)[2:end]\n"
   ]
  },
  {
   "cell_type": "code",
   "execution_count": 24,
   "metadata": {
    "collapsed": true
   },
   "outputs": [],
   "source": [
    "prior_colname_ind = Array{String}(undef, length(prior_colname))\n",
    "for i in 1:length(prior_colname)\n",
    "    counter = 0\n",
    "    for a in 1:length(R)\n",
    "        if R[a] == prior_colname[i]\n",
    "            prior_colname_ind[i] = \"R\"\n",
    "            counter = counter + 1\n",
    "        break\n",
    "        end\n",
    "    end\n",
    "    \n",
    "    for b in 1:length(S)\n",
    "        if S[b] == prior_colname[i]\n",
    "            prior_colname_ind[i] = \"S\"\n",
    "            counter = counter +1\n",
    "        break\n",
    "        end\n",
    "    end\n",
    "    \n",
    "    for c in 1:length(L)\n",
    "        if L[c] == prior_colname[i]\n",
    "            prior_colname_ind[i] = \"L\"\n",
    "            counter = counter + 1\n",
    "        break\n",
    "        end\n",
    "    end\n",
    "    \n",
    "    if counter == 0\n",
    "        prior_colname_ind[i] = \"N\"\n",
    "    end\n",
    "end\n",
    "        "
   ]
  },
  {
   "cell_type": "code",
   "execution_count": 25,
   "metadata": {},
   "outputs": [
    {
     "data": {
      "text/plain": [
       "118-element Array{Symbol,1}:\n",
       " :RPI            \n",
       " :W875RX1        \n",
       " :DPCERA3M086SBEA\n",
       " :CMRMTSPL       \n",
       " :MRTSSM44X72USS \n",
       " :INDPRO         \n",
       " :IPFPNSS        \n",
       " :IPFINAL        \n",
       " :IPCONGD        \n",
       " :IPDCONGD       \n",
       " :IPNCONGD       \n",
       " :IPBUSEQ        \n",
       " :IPMAT          \n",
       " ⋮               \n",
       " :PCEPI          \n",
       " :DDURRG3M086SBEA\n",
       " :DNDGRG3M086SBEA\n",
       " :DSERRG3M086SBEA\n",
       " :CES0600000008  \n",
       " :CES2000000008  \n",
       " :CES3000000008  \n",
       " :UMCSENT        \n",
       " :MZMSL          \n",
       " :DTCOLNVHFNM    \n",
       " :DTCTHFNM       \n",
       " :INVEST         "
      ]
     },
     "execution_count": 25,
     "metadata": {},
     "output_type": "execute_result"
    }
   ],
   "source": [
    "prior_colname"
   ]
  },
  {
   "cell_type": "code",
   "execution_count": 26,
   "metadata": {},
   "outputs": [
    {
     "name": "stdout",
     "output_type": "stream",
     "text": [
      "[\"R\", \"R\", \"R\", \"R\", \"N\", \"R\", \"R\", \"R\", \"R\", \"R\", \"R\", \"R\", \"R\", \"R\", \"R\", \"R\", \"R\", \"R\", \"R\", \"L\", \"L\", \"L\", \"L\", \"L\", \"L\", \"L\", \"L\", \"L\", \"L\", \"L\", \"L\", \"L\", \"L\", \"L\", \"L\", \"L\", \"L\", \"L\", \"L\", \"L\", \"L\", \"L\", \"L\", \"L\", \"R\", \"R\", \"R\", \"R\", \"R\", \"R\", \"R\", \"R\", \"R\", \"R\", \"N\", \"N\", \"N\", \"N\", \"N\", \"R\", \"N\", \"N\", \"R\", \"N\", \"N\", \"N\", \"N\", \"N\", \"N\", \"R\", \"N\", \"N\", \"N\", \"N\", \"N\", \"N\", \"N\", \"N\", \"N\", \"N\", \"N\", \"N\", \"N\", \"N\", \"N\", \"N\", \"N\", \"N\", \"N\", \"N\", \"R\", \"R\", \"R\", \"R\", \"R\", \"R\", \"R\", \"R\", \"R\", \"R\", \"R\", \"R\", \"R\", \"R\", \"R\", \"R\", \"N\", \"N\", \"N\", \"N\", \"L\", \"L\", \"L\", \"S\", \"N\", \"S\", \"S\", \"N\"]"
     ]
    }
   ],
   "source": [
    "print(prior_colname_ind)"
   ]
  },
  {
   "cell_type": "code",
   "execution_count": 27,
   "metadata": {},
   "outputs": [
    {
     "name": "stdout",
     "output_type": "stream",
     "text": [
      "\n"
     ]
    }
   ],
   "source": [
    "R_col = findall(x -> x == \"R\", prior_colname_ind)\n",
    "S_col= findall(x -> x == \"S\", prior_colname_ind)\n",
    "L_col = findall(x -> x == \"L\", prior_colname_ind)\n",
    "N_col = findall(x -> x == \"N\", prior_colname_ind)\n",
    "println()"
   ]
  },
  {
   "cell_type": "code",
   "execution_count": 28,
   "metadata": {},
   "outputs": [
    {
     "data": {
      "text/plain": [
       "326-element Array{Float64,1}:\n",
       " -0.10354304437954663  \n",
       " -0.014808643659195233 \n",
       " -0.026051551179150628 \n",
       " -0.014526845007557907 \n",
       "  0.0548367557781731   \n",
       "  0.009478750067295833 \n",
       "  0.009547533752701837 \n",
       "  0.03606473531587127  \n",
       " -0.17296513939718955  \n",
       " -0.08174997908721279  \n",
       "  0.027101896561505086 \n",
       "  0.04113934813731664  \n",
       "  0.010303899759821317 \n",
       "  ⋮                    \n",
       "  0.016967674355654595 \n",
       "  0.0012824779754855365\n",
       "  0.009753810556230275 \n",
       "  0.030207244731805617 \n",
       " -0.0517968600822014   \n",
       "  0.027807110932266465 \n",
       "  0.02057655758941617  \n",
       " -0.008369354237058143 \n",
       "  0.10487751782400867  \n",
       " -0.03438656135733141  \n",
       " -0.06379232256874588  \n",
       "  0.020371739738890296 "
      ]
     },
     "execution_count": 28,
     "metadata": {},
     "output_type": "execute_result"
    }
   ],
   "source": [
    "x_reduced_R = x_reduced[:,R_col]\n",
    "M_R = fit(PCA, x_reduced_R, maxoutdim = 326, pratio = 1.0)\n",
    "f_R = projection(M_R)[:,1]\n",
    "\n",
    "x_reduced_N = x_reduced[:,N_col]\n",
    "M_N = fit(PCA, x_reduced_N, maxoutdim = 326, pratio = 1.0)\n",
    "f_N = projection(M_N)[:,1]\n",
    "\n",
    "x_reduced_L = x_reduced[:,L_col]\n",
    "M_L = fit(PCA, x_reduced_L, maxoutdim = 326, pratio = 1.0)\n",
    "f_L = projection(M_L)[:,1]\n",
    "\n",
    "x_reduced_S = x_reduced[:,S_col]\n",
    "M_S = fit(PCA, x_reduced_S, maxoutdim = 326, pratio = 1.0)\n",
    "f_S = projection(M_S)[:,1]"
   ]
  },
  {
   "cell_type": "code",
   "execution_count": null,
   "metadata": {
    "collapsed": true
   },
   "outputs": [],
   "source": []
  },
  {
   "cell_type": "code",
   "execution_count": null,
   "metadata": {
    "collapsed": true
   },
   "outputs": [],
   "source": []
  },
  {
   "cell_type": "code",
   "execution_count": null,
   "metadata": {
    "collapsed": true
   },
   "outputs": [],
   "source": []
  },
  {
   "cell_type": "code",
   "execution_count": 29,
   "metadata": {},
   "outputs": [
    {
     "data": {
      "text/plain": [
       "326×5 Array{Float64,2}:\n",
       " -0.0154655  -0.0888093    -0.103543    -0.0854459    -0.0897938 \n",
       " -0.0154109  -0.0887995    -0.0148086   -0.0834812    -0.0439069 \n",
       " -0.0157155  -0.0597353    -0.0260516   -0.0581564    -0.0704142 \n",
       " -0.0158028  -0.0558929    -0.0145268   -0.0552562    -0.0589554 \n",
       " -0.0157714  -0.0735222     0.0548368   -0.0735859    -0.0697597 \n",
       " -0.0157578  -0.0735193     0.00947875  -0.0742388    -0.104899  \n",
       " -0.0157387  -0.0735182     0.00954753  -0.0705146    -0.0382023 \n",
       " -0.0156677  -0.0946391     0.0360647   -0.089197     -0.0677196 \n",
       " -0.0155774  -0.0734869    -0.172965    -0.071115     -0.076614  \n",
       " -0.0154941  -0.0770832    -0.08175     -0.0740812    -0.046423  \n",
       " -0.0153965  -0.0770623     0.0271019   -0.0738203    -0.0788028 \n",
       " -0.0154279  -0.0632254     0.0411393   -0.0650615    -0.0770823 \n",
       " -0.0155338  -0.0642065     0.0103039   -0.066878     -0.0765748 \n",
       "  ⋮                                                              \n",
       "  0.094061    0.0165433     0.0169677    0.013672     -0.0281421 \n",
       "  0.0906901  -0.00519009    0.00128248  -0.00667027   -0.0421412 \n",
       "  0.0889194   0.00242549    0.00975381   0.00201505   -0.0346828 \n",
       "  0.0869222   0.00408       0.0302072    0.00238514   -0.0165396 \n",
       "  0.0849074   0.000823588  -0.0517969    0.000942354  -0.0179726 \n",
       "  0.0829157   0.00427396    0.0278071    0.00129879   -0.0462359 \n",
       "  0.0807143  -0.0192893     0.0205766   -0.018932     -0.0758852 \n",
       "  0.0778477  -0.0306203    -0.00836935  -0.0293036    -0.0682691 \n",
       "  0.0736168  -0.00818156    0.104878    -0.0082162    -0.0404181 \n",
       "  0.0708706  -0.00866236   -0.0343866   -0.0131598    -0.0563307 \n",
       "  0.0712074  -0.0385684    -0.0637923   -0.0404269    -0.0485887 \n",
       "  0.071848   -0.0352861     0.0203717   -0.0361413    -0.00958958"
      ]
     },
     "execution_count": 29,
     "metadata": {},
     "output_type": "execute_result"
    }
   ],
   "source": [
    "f = hcat(f_G,f_L,f_S,f_N,f_R)"
   ]
  },
  {
   "cell_type": "code",
   "execution_count": null,
   "metadata": {
    "collapsed": true
   },
   "outputs": [],
   "source": []
  },
  {
   "cell_type": "code",
   "execution_count": null,
   "metadata": {
    "collapsed": true
   },
   "outputs": [],
   "source": []
  },
  {
   "cell_type": "markdown",
   "metadata": {},
   "source": [
    "### 4. finding all estimates (of prior)"
   ]
  },
  {
   "cell_type": "code",
   "execution_count": 30,
   "metadata": {},
   "outputs": [
    {
     "data": {
      "text/html": [
       "<table class=\"data-frame\"><thead><tr><th></th><th>RPI</th><th>W875RX1</th><th>DPCERA3M086SBEA</th><th>CMRMTSPL</th><th>MRTSSM44X72USS</th><th>INDPRO</th></tr><tr><th></th><th>Float64</th><th>Float64</th><th>Float64</th><th>Float64</th><th>Float64</th><th>Float64</th></tr></thead><tbody><p>326 rows × 118 columns (omitted printing of 112 columns)</p><tr><th>1</th><td>-0.00102306</td><td>-0.00169723</td><td>-0.00085829</td><td>0.00184479</td><td>-0.00650604</td><td>0.00610109</td></tr><tr><th>2</th><td>0.00103965</td><td>0.000230497</td><td>-0.00184127</td><td>0.00446995</td><td>0.00251109</td><td>0.0053776</td></tr><tr><th>3</th><td>0.00265047</td><td>0.00299273</td><td>0.00247554</td><td>-0.0109105</td><td>0.00196199</td><td>0.00108208</td></tr><tr><th>4</th><td>0.0014802</td><td>0.00193052</td><td>1.2e-5</td><td>0.00831459</td><td>-0.000701602</td><td>-0.00203149</td></tr><tr><th>5</th><td>-0.00347101</td><td>-0.00386</td><td>0.00065705</td><td>0.0111309</td><td>0.00357458</td><td>0.00682233</td></tr><tr><th>6</th><td>0.00118623</td><td>0.00130185</td><td>-0.00019748</td><td>-0.0182077</td><td>-0.000264192</td><td>-0.00710763</td></tr><tr><th>7</th><td>-0.00650398</td><td>-0.00747332</td><td>0.00380398</td><td>0.0116358</td><td>0.00598455</td><td>0.000146118</td></tr><tr><th>8</th><td>-0.00761176</td><td>-0.00830757</td><td>0.000685958</td><td>0.00186721</td><td>0.00369995</td><td>0.00529834</td></tr><tr><th>9</th><td>-0.000498748</td><td>0.00196203</td><td>-0.000974791</td><td>-0.000469345</td><td>-0.0012925</td><td>0.00207053</td></tr><tr><th>10</th><td>0.0331231</td><td>0.0376036</td><td>0.00390239</td><td>0.0132742</td><td>0.00871181</td><td>-0.00127184</td></tr><tr><th>11</th><td>-0.0305959</td><td>-0.0376566</td><td>-0.00413035</td><td>0.000329597</td><td>0.00799914</td><td>0.00214794</td></tr><tr><th>12</th><td>0.00190246</td><td>0.0030889</td><td>-0.000831073</td><td>-0.00345483</td><td>-0.0113254</td><td>0.002249</td></tr><tr><th>13</th><td>-0.00529141</td><td>-0.00637894</td><td>-0.0053748</td><td>-0.00851431</td><td>-0.0118164</td><td>-0.00357545</td></tr><tr><th>14</th><td>0.004815</td><td>0.00678402</td><td>0.00401187</td><td>0.00298169</td><td>0.0219532</td><td>0.00132713</td></tr><tr><th>15</th><td>-0.0029026</td><td>-0.00207184</td><td>0.00080378</td><td>-0.000589284</td><td>0.00593787</td><td>-0.0056522</td></tr><tr><th>16</th><td>-0.00391091</td><td>-0.00514858</td><td>0.000945294</td><td>0.00703041</td><td>-0.0050142</td><td>-0.000517892</td></tr><tr><th>17</th><td>0.000576851</td><td>0.000268278</td><td>0.00224067</td><td>-0.00702246</td><td>0.0109055</td><td>0.000906946</td></tr><tr><th>18</th><td>-0.000518309</td><td>-0.000784918</td><td>-0.00167776</td><td>0.00293923</td><td>-0.00370463</td><td>-0.00322598</td></tr><tr><th>19</th><td>-0.0049298</td><td>-0.0052854</td><td>0.00303858</td><td>0.00669346</td><td>0.00237629</td><td>0.00259667</td></tr><tr><th>20</th><td>-0.00690221</td><td>-0.00650207</td><td>-0.00112852</td><td>0.00209021</td><td>0.00258798</td><td>0.00547424</td></tr><tr><th>21</th><td>-0.000109962</td><td>0.000473227</td><td>0.000129485</td><td>0.00294488</td><td>0.00662981</td><td>0.0019598</td></tr><tr><th>22</th><td>0.0314954</td><td>0.0357127</td><td>0.000841518</td><td>0.000984931</td><td>0.00539678</td><td>0.00328225</td></tr><tr><th>23</th><td>-0.0226262</td><td>-0.026925</td><td>4.5e-5</td><td>-0.00103383</td><td>-0.0102719</td><td>0.0016049</td></tr><tr><th>24</th><td>-0.00167687</td><td>-0.00126621</td><td>0.00530023</td><td>0.00693332</td><td>0.012207</td><td>-0.00190116</td></tr><tr><th>25</th><td>1.7e-5</td><td>0.000642913</td><td>-0.00254675</td><td>0.014341</td><td>0.0149593</td><td>0.00785015</td></tr><tr><th>26</th><td>0.00659475</td><td>0.00780198</td><td>0.00153356</td><td>-0.00745278</td><td>-0.0031923</td><td>0.00347615</td></tr><tr><th>27</th><td>-0.000625924</td><td>0.000367058</td><td>-0.00446126</td><td>0.000245193</td><td>-0.0072172</td><td>0.00293334</td></tr><tr><th>28</th><td>-0.00405931</td><td>-0.00385943</td><td>0.00328153</td><td>0.00696595</td><td>0.00795647</td><td>0.00418727</td></tr><tr><th>29</th><td>-0.000981773</td><td>-7.68e-5</td><td>-0.00335253</td><td>-0.0065652</td><td>-0.000336433</td><td>-0.000643348</td></tr><tr><th>30</th><td>-0.00123545</td><td>-0.00131667</td><td>0.0038869</td><td>0.0211674</td><td>0.00890797</td><td>0.00375128</td></tr><tr><th>&vellip;</th><td>&vellip;</td><td>&vellip;</td><td>&vellip;</td><td>&vellip;</td><td>&vellip;</td><td>&vellip;</td></tr></tbody></table>"
      ],
      "text/latex": [
       "\\begin{tabular}{r|ccccccc}\n",
       "\t& RPI & W875RX1 & DPCERA3M086SBEA & CMRMTSPL & MRTSSM44X72USS & INDPRO & \\\\\n",
       "\t\\hline\n",
       "\t& Float64 & Float64 & Float64 & Float64 & Float64 & Float64 & \\\\\n",
       "\t\\hline\n",
       "\t1 & -0.00102306 & -0.00169723 & -0.00085829 & 0.00184479 & -0.00650604 & 0.00610109 & $\\dots$ \\\\\n",
       "\t2 & 0.00103965 & 0.000230497 & -0.00184127 & 0.00446995 & 0.00251109 & 0.0053776 & $\\dots$ \\\\\n",
       "\t3 & 0.00265047 & 0.00299273 & 0.00247554 & -0.0109105 & 0.00196199 & 0.00108208 & $\\dots$ \\\\\n",
       "\t4 & 0.0014802 & 0.00193052 & 1.2e-5 & 0.00831459 & -0.000701602 & -0.00203149 & $\\dots$ \\\\\n",
       "\t5 & -0.00347101 & -0.00386 & 0.00065705 & 0.0111309 & 0.00357458 & 0.00682233 & $\\dots$ \\\\\n",
       "\t6 & 0.00118623 & 0.00130185 & -0.00019748 & -0.0182077 & -0.000264192 & -0.00710763 & $\\dots$ \\\\\n",
       "\t7 & -0.00650398 & -0.00747332 & 0.00380398 & 0.0116358 & 0.00598455 & 0.000146118 & $\\dots$ \\\\\n",
       "\t8 & -0.00761176 & -0.00830757 & 0.000685958 & 0.00186721 & 0.00369995 & 0.00529834 & $\\dots$ \\\\\n",
       "\t9 & -0.000498748 & 0.00196203 & -0.000974791 & -0.000469345 & -0.0012925 & 0.00207053 & $\\dots$ \\\\\n",
       "\t10 & 0.0331231 & 0.0376036 & 0.00390239 & 0.0132742 & 0.00871181 & -0.00127184 & $\\dots$ \\\\\n",
       "\t11 & -0.0305959 & -0.0376566 & -0.00413035 & 0.000329597 & 0.00799914 & 0.00214794 & $\\dots$ \\\\\n",
       "\t12 & 0.00190246 & 0.0030889 & -0.000831073 & -0.00345483 & -0.0113254 & 0.002249 & $\\dots$ \\\\\n",
       "\t13 & -0.00529141 & -0.00637894 & -0.0053748 & -0.00851431 & -0.0118164 & -0.00357545 & $\\dots$ \\\\\n",
       "\t14 & 0.004815 & 0.00678402 & 0.00401187 & 0.00298169 & 0.0219532 & 0.00132713 & $\\dots$ \\\\\n",
       "\t15 & -0.0029026 & -0.00207184 & 0.00080378 & -0.000589284 & 0.00593787 & -0.0056522 & $\\dots$ \\\\\n",
       "\t16 & -0.00391091 & -0.00514858 & 0.000945294 & 0.00703041 & -0.0050142 & -0.000517892 & $\\dots$ \\\\\n",
       "\t17 & 0.000576851 & 0.000268278 & 0.00224067 & -0.00702246 & 0.0109055 & 0.000906946 & $\\dots$ \\\\\n",
       "\t18 & -0.000518309 & -0.000784918 & -0.00167776 & 0.00293923 & -0.00370463 & -0.00322598 & $\\dots$ \\\\\n",
       "\t19 & -0.0049298 & -0.0052854 & 0.00303858 & 0.00669346 & 0.00237629 & 0.00259667 & $\\dots$ \\\\\n",
       "\t20 & -0.00690221 & -0.00650207 & -0.00112852 & 0.00209021 & 0.00258798 & 0.00547424 & $\\dots$ \\\\\n",
       "\t21 & -0.000109962 & 0.000473227 & 0.000129485 & 0.00294488 & 0.00662981 & 0.0019598 & $\\dots$ \\\\\n",
       "\t22 & 0.0314954 & 0.0357127 & 0.000841518 & 0.000984931 & 0.00539678 & 0.00328225 & $\\dots$ \\\\\n",
       "\t23 & -0.0226262 & -0.026925 & 4.5e-5 & -0.00103383 & -0.0102719 & 0.0016049 & $\\dots$ \\\\\n",
       "\t24 & -0.00167687 & -0.00126621 & 0.00530023 & 0.00693332 & 0.012207 & -0.00190116 & $\\dots$ \\\\\n",
       "\t25 & 1.7e-5 & 0.000642913 & -0.00254675 & 0.014341 & 0.0149593 & 0.00785015 & $\\dots$ \\\\\n",
       "\t26 & 0.00659475 & 0.00780198 & 0.00153356 & -0.00745278 & -0.0031923 & 0.00347615 & $\\dots$ \\\\\n",
       "\t27 & -0.000625924 & 0.000367058 & -0.00446126 & 0.000245193 & -0.0072172 & 0.00293334 & $\\dots$ \\\\\n",
       "\t28 & -0.00405931 & -0.00385943 & 0.00328153 & 0.00696595 & 0.00795647 & 0.00418727 & $\\dots$ \\\\\n",
       "\t29 & -0.000981773 & -7.68e-5 & -0.00335253 & -0.0065652 & -0.000336433 & -0.000643348 & $\\dots$ \\\\\n",
       "\t30 & -0.00123545 & -0.00131667 & 0.0038869 & 0.0211674 & 0.00890797 & 0.00375128 & $\\dots$ \\\\\n",
       "\t$\\dots$ & $\\dots$ & $\\dots$ & $\\dots$ & $\\dots$ & $\\dots$ & $\\dots$ &  \\\\\n",
       "\\end{tabular}\n"
      ],
      "text/plain": [
       "326×118 DataFrame. Omitted printing of 114 columns\n",
       "│ Row │ RPI          │ W875RX1      │ DPCERA3M086SBEA │ CMRMTSPL     │\n",
       "│     │ \u001b[90mFloat64\u001b[39m      │ \u001b[90mFloat64\u001b[39m      │ \u001b[90mFloat64\u001b[39m         │ \u001b[90mFloat64\u001b[39m      │\n",
       "├─────┼──────────────┼──────────────┼─────────────────┼──────────────┤\n",
       "│ 1   │ -0.00102306  │ -0.00169723  │ -0.00085829     │ 0.00184479   │\n",
       "│ 2   │ 0.00103965   │ 0.000230497  │ -0.00184127     │ 0.00446995   │\n",
       "│ 3   │ 0.00265047   │ 0.00299273   │ 0.00247554      │ -0.0109105   │\n",
       "│ 4   │ 0.0014802    │ 0.00193052   │ 1.2e-5          │ 0.00831459   │\n",
       "│ 5   │ -0.00347101  │ -0.00386     │ 0.00065705      │ 0.0111309    │\n",
       "│ 6   │ 0.00118623   │ 0.00130185   │ -0.00019748     │ -0.0182077   │\n",
       "│ 7   │ -0.00650398  │ -0.00747332  │ 0.00380398      │ 0.0116358    │\n",
       "│ 8   │ -0.00761176  │ -0.00830757  │ 0.000685958     │ 0.00186721   │\n",
       "│ 9   │ -0.000498748 │ 0.00196203   │ -0.000974791    │ -0.000469345 │\n",
       "│ 10  │ 0.0331231    │ 0.0376036    │ 0.00390239      │ 0.0132742    │\n",
       "⋮\n",
       "│ 316 │ 3.23e-5      │ 0.000477946  │ -0.000517367    │ -0.00310363  │\n",
       "│ 317 │ 0.000381042  │ 0.00101453   │ 0.000893734     │ -0.000918001 │\n",
       "│ 318 │ 0.00100932   │ 0.00148749   │ 0.000602404     │ 0.00231962   │\n",
       "│ 319 │ -0.00349345  │ -0.00337316  │ -0.00296633     │ -0.000677066 │\n",
       "│ 320 │ -0.00173324  │ -0.0018733   │ 0.00119857      │ -0.00443419  │\n",
       "│ 321 │ -0.00168106  │ -0.00110664  │ -0.000124726    │ 0.00209554   │\n",
       "│ 322 │ 0.00617598   │ 0.00738623   │ -0.0114453      │ -0.00109195  │\n",
       "│ 323 │ 0.000902918  │ -0.00409511  │ 0.00373438      │ 0.0121161    │\n",
       "│ 324 │ 0.00216633   │ 0.00248386   │ -0.00434615     │ -0.00600857  │\n",
       "│ 325 │ -0.000355807 │ -0.000136804 │ 0.00488391      │ 0.00108111   │\n",
       "│ 326 │ -0.00112315  │ -0.00107352  │ 0.000518506     │ -0.0109998   │"
      ]
     },
     "execution_count": 30,
     "metadata": {},
     "output_type": "execute_result"
    }
   ],
   "source": [
    "CSV.write(\"prior_matrix_est.csv\", prior_df, writeheader = true)\n",
    "prior_df_est = CSV.read(\"prior_matrix_est.csv\", header = true)"
   ]
  },
  {
   "cell_type": "code",
   "execution_count": 31,
   "metadata": {},
   "outputs": [
    {
     "name": "stdout",
     "output_type": "stream",
     "text": [
      "\n"
     ]
    }
   ],
   "source": [
    "f_R_lag = append!(f_R[2:end],-9999)\n",
    "f_N_lag = append!(f_N[2:end],-9999)\n",
    "f_L_lag = append!(f_L[2:end],-9999)\n",
    "f_S_lag = append!(f_S[2:end],-9999)\n",
    "f_G_lag = append!(f_G[2:end],-9999)\n",
    "\n",
    "insertcols!(prior_df_est,1,:f_R => f_R)\n",
    "insertcols!(prior_df_est,1,:f_R_lag => f_R_lag)\n",
    "insertcols!(prior_df_est,1,:f_N => f_N)\n",
    "insertcols!(prior_df_est,1,:f_N_lag => f_N_lag)\n",
    "insertcols!(prior_df_est,1,:f_L => f_L)\n",
    "insertcols!(prior_df_est,1,:f_L_lag => f_L_lag)\n",
    "insertcols!(prior_df_est,1,:f_S => f_S)\n",
    "insertcols!(prior_df_est,1,:f_S_lag => f_S_lag)\n",
    "insertcols!(prior_df_est,1,:f_G => f_G)\n",
    "insertcols!(prior_df_est,1,:f_G_lag => f_G_lag)\n",
    "insertcols!(prior_df_est,1, :coef => ones(326))\n",
    "\n",
    "#insertcols!(prior_df_est,size(prior_df_est,2),:GDPC1 => quarterly[:,1])\n",
    "#insertcols!(prior_df_est,size(prior_df_est,2),:GDPCTPI => quarterly[:,2])\n",
    "\n",
    "println()"
   ]
  },
  {
   "cell_type": "code",
   "execution_count": 32,
   "metadata": {},
   "outputs": [
    {
     "data": {
      "text/plain": [
       "129"
      ]
     },
     "execution_count": 32,
     "metadata": {},
     "output_type": "execute_result"
    }
   ],
   "source": [
    "size(prior_df_est,2)"
   ]
  },
  {
   "cell_type": "code",
   "execution_count": 33,
   "metadata": {},
   "outputs": [
    {
     "data": {
      "text/html": [
       "<table class=\"data-frame\"><thead><tr><th></th><th>CES0600000008</th><th>CES2000000008</th><th>CES3000000008</th><th>UMCSENT</th><th>MZMSL</th><th>DTCOLNVHFNM</th></tr><tr><th></th><th>Float64</th><th>Float64</th><th>Float64</th><th>Float64</th><th>Float64</th><th>Float64</th></tr></thead><tbody><p>2 rows × 8 columns (omitted printing of 2 columns)</p><tr><th>1</th><td>0.000833808</td><td>-0.00583056</td><td>0.00176137</td><td>7.16714</td><td>-0.00291364</td><td>0.0371377</td></tr><tr><th>2</th><td>-0.00251064</td><td>-0.00072134</td><td>-0.000887602</td><td>0.96996</td><td>0.00228404</td><td>-0.0529506</td></tr></tbody></table>"
      ],
      "text/latex": [
       "\\begin{tabular}{r|ccccccc}\n",
       "\t& CES0600000008 & CES2000000008 & CES3000000008 & UMCSENT & MZMSL & DTCOLNVHFNM & \\\\\n",
       "\t\\hline\n",
       "\t& Float64 & Float64 & Float64 & Float64 & Float64 & Float64 & \\\\\n",
       "\t\\hline\n",
       "\t1 & 0.000833808 & -0.00583056 & 0.00176137 & 7.16714 & -0.00291364 & 0.0371377 & $\\dots$ \\\\\n",
       "\t2 & -0.00251064 & -0.00072134 & -0.000887602 & 0.96996 & 0.00228404 & -0.0529506 & $\\dots$ \\\\\n",
       "\\end{tabular}\n"
      ],
      "text/plain": [
       "2×8 DataFrame. Omitted printing of 3 columns\n",
       "│ Row │ CES0600000008 │ CES2000000008 │ CES3000000008 │ UMCSENT │ MZMSL       │\n",
       "│     │ \u001b[90mFloat64\u001b[39m       │ \u001b[90mFloat64\u001b[39m       │ \u001b[90mFloat64\u001b[39m       │ \u001b[90mFloat64\u001b[39m │ \u001b[90mFloat64\u001b[39m     │\n",
       "├─────┼───────────────┼───────────────┼───────────────┼─────────┼─────────────┤\n",
       "│ 1   │ 0.000833808   │ -0.00583056   │ 0.00176137    │ 7.16714 │ -0.00291364 │\n",
       "│ 2   │ -0.00251064   │ -0.00072134   │ -0.000887602  │ 0.96996 │ 0.00228404  │"
      ]
     },
     "execution_count": 33,
     "metadata": {},
     "output_type": "execute_result"
    }
   ],
   "source": [
    "prior_df_est[1:2, end-7:end]"
   ]
  },
  {
   "cell_type": "code",
   "execution_count": 34,
   "metadata": {},
   "outputs": [
    {
     "data": {
      "text/html": [
       "<table class=\"data-frame\"><thead><tr><th></th><th>coef</th><th>f_G_lag</th><th>f_G</th><th>f_S_lag</th><th>f_S</th><th>f_L_lag</th><th>f_L</th></tr><tr><th></th><th>Float64</th><th>Float64</th><th>Float64</th><th>Float64</th><th>Float64</th><th>Float64</th><th>Float64</th></tr></thead><tbody><p>2 rows × 10 columns (omitted printing of 3 columns)</p><tr><th>1</th><td>1.0</td><td>-0.0154109</td><td>-0.0154655</td><td>-0.0148086</td><td>-0.103543</td><td>-0.0887995</td><td>-0.0888093</td></tr><tr><th>2</th><td>1.0</td><td>-0.0157155</td><td>-0.0154109</td><td>-0.0260516</td><td>-0.0148086</td><td>-0.0597353</td><td>-0.0887995</td></tr></tbody></table>"
      ],
      "text/latex": [
       "\\begin{tabular}{r|cccccccc}\n",
       "\t& coef & f\\_G\\_lag & f\\_G & f\\_S\\_lag & f\\_S & f\\_L\\_lag & f\\_L & \\\\\n",
       "\t\\hline\n",
       "\t& Float64 & Float64 & Float64 & Float64 & Float64 & Float64 & Float64 & \\\\\n",
       "\t\\hline\n",
       "\t1 & 1.0 & -0.0154109 & -0.0154655 & -0.0148086 & -0.103543 & -0.0887995 & -0.0888093 & $\\dots$ \\\\\n",
       "\t2 & 1.0 & -0.0157155 & -0.0154109 & -0.0260516 & -0.0148086 & -0.0597353 & -0.0887995 & $\\dots$ \\\\\n",
       "\\end{tabular}\n"
      ],
      "text/plain": [
       "2×10 DataFrame. Omitted printing of 5 columns\n",
       "│ Row │ coef    │ f_G_lag    │ f_G        │ f_S_lag    │ f_S        │\n",
       "│     │ \u001b[90mFloat64\u001b[39m │ \u001b[90mFloat64\u001b[39m    │ \u001b[90mFloat64\u001b[39m    │ \u001b[90mFloat64\u001b[39m    │ \u001b[90mFloat64\u001b[39m    │\n",
       "├─────┼─────────┼────────────┼────────────┼────────────┼────────────┤\n",
       "│ 1   │ 1.0     │ -0.0154109 │ -0.0154655 │ -0.0148086 │ -0.103543  │\n",
       "│ 2   │ 1.0     │ -0.0157155 │ -0.0154109 │ -0.0260516 │ -0.0148086 │"
      ]
     },
     "execution_count": 34,
     "metadata": {},
     "output_type": "execute_result"
    }
   ],
   "source": [
    "prior_df_est[1:2,1:10]"
   ]
  },
  {
   "cell_type": "code",
   "execution_count": 35,
   "metadata": {},
   "outputs": [
    {
     "ename": "UndefVarError",
     "evalue": "UndefVarError: arrQ_ρ not defined",
     "output_type": "error",
     "traceback": [
      "UndefVarError: arrQ_ρ not defined",
      "",
      "Stacktrace:",
      " [1] top-level scope at In[35]:1"
     ]
    }
   ],
   "source": [
    "arrQ_ρ"
   ]
  },
  {
   "cell_type": "code",
   "execution_count": 36,
   "metadata": {},
   "outputs": [
    {
     "ename": "UndefVarError",
     "evalue": "UndefVarError: arrQ_ρ not defined",
     "output_type": "error",
     "traceback": [
      "UndefVarError: arrQ_ρ not defined",
      "",
      "Stacktrace:",
      " [1] top-level scope at In[36]:1"
     ]
    }
   ],
   "source": [
    "blkdig(arrQ_ρ)"
   ]
  },
  {
   "cell_type": "code",
   "execution_count": 37,
   "metadata": {
    "collapsed": true
   },
   "outputs": [],
   "source": [
    "#### Work on quarterly variables\n",
    "arrQ_μ = Array{Float64}(undef, 2)\n",
    "arrQ_Λ_G = Array{Float64}(undef, 2)\n",
    "arrQ_Λ_S = Array{Float64}(undef, 2)\n",
    "arrQ_Λ_L = Array{Float64}(undef, 2)\n",
    "arrQ_Λ_N = Array{Float64}(undef, 2)\n",
    "arrQ_Λ_R = Array{Float64}(undef, 2)\n",
    "arrQ_ρ = Array{Float64}(undef, 2)\n",
    "arr_σ2_Q = Array{Float64}(undef, 2)\n",
    "f_temp = Array{Float64}(undef, 106, 5)\n",
    "\n",
    "quarterly_nomiss = quarterly[completecases(quarterly), :]\n",
    "CSV.write(\"quarterly_nomiss.csv\", quarterly_nomiss, writeheader = true)\n",
    "quarterly_nomiss = CSV.read(\"quarterly_nomiss.csv\", header = true)\n",
    "\n",
    "for t in 6:3:size(f,1)-3\n",
    "    j = Int((t-6)/3 +1)\n",
    "    f_temp[j,:] = f[t,:]+2*f[t-1,:]+3*f[t-2,:]+2(f[t-3,:])+f[t-4,:]\n",
    "end\n",
    "f_Q = f_temp[:,[1,5]]\n",
    "f_Q = hcat(ones(106),f_Q)\n",
    "for i in 1:2\n",
    "    fit_lm = lm(convert(Matrix,f_Q), quarterly_nomiss[2:end,i])\n",
    "    arrQ_μ[i], arrQ_Λ_G[i], arrQ_Λ_S[i], arrQ_Λ_L[i], arrQ_Λ_N[i], arrQ_Λ_R[i] = \n",
    "    coef(fit_lm)[1], coef(fit_lm)[2], 0, 0, 0, coef(fit_lm)[3]\n",
    "    \n",
    "    resid_lm = lm(hcat(ones(size(residuals(fit_lm),1)-1), residuals(fit_lm)[1:end-1]), residuals(fit_lm)[2:end])\n",
    "    arrQ_ρ[i] = coef(resid_lm)[2]\n",
    "    \n",
    "    ## Demeaned residuals\n",
    "    resid_mean = mean(residuals(resid_lm))\n",
    "    demeaned_resid = residuals(resid_lm)\n",
    "    for i in 1:length(demeaned_resid)\n",
    "        demeaned_resid[i] = demeaned_resid[i] - resid_mean\n",
    "    end\n",
    "    arr_σ2_Q[i] = var(demeaned_resid)\n",
    "end\n"
   ]
  },
  {
   "cell_type": "code",
   "execution_count": 41,
   "metadata": {
    "collapsed": true
   },
   "outputs": [],
   "source": [
    "# Initial estimate of the tuning parameters [118+2]\n",
    "\n",
    "arr_μ = Array{Float64}(undef, 118)\n",
    "arr_Λ_G = Array{Float64}(undef, 118)\n",
    "arr_Λ_S = Array{Float64}(undef, 118)\n",
    "arr_Λ_L = Array{Float64}(undef, 118)\n",
    "arr_Λ_N = Array{Float64}(undef, 118)\n",
    "arr_Λ_R = Array{Float64}(undef, 118)\n",
    "arr_ρ = Array{Float64}(undef, 118)\n",
    "arr_σ2_ie = Array{Float64}(undef, 118)\n",
    "\n",
    "### Work on monthly variables\n",
    "for i in 12:(size(prior_df_est,2)) # Ignore the combined factor column\n",
    "    idx = prior_colname_ind[i-11]\n",
    "    title = prior_colname[i-11]\n",
    "    \n",
    "    if idx == \"S\"\n",
    "        fit_lm = lm(convert(Matrix,prior_df_est[:,[1,3,5]]) , prior_df_est[:,i])\n",
    "        arr_μ[i-11], arr_Λ_G[i-11], arr_Λ_S[i-11], arr_Λ_L[i-11], arr_Λ_N[i-11], arr_Λ_R[i-11] =\n",
    "            coef(fit_lm)[1], coef(fit_lm)[2], coef(fit_lm)[3], 0, 0, 0\n",
    "    elseif idx == \"L\"\n",
    "        fit_lm = lm(convert(Matrix,prior_df_est[:,[1,3,7]]) , prior_df_est[:,i])\n",
    "        arr_μ[i-11], arr_Λ_G[i-11], arr_Λ_S[i-11], arr_Λ_L[i-11], arr_Λ_N[i-11], arr_Λ_R[i-11] =\n",
    "            coef(fit_lm)[1], coef(fit_lm)[2], 0, coef(fit_lm)[3], 0, 0\n",
    "    elseif idx == \"N\"\n",
    "        fit_lm = lm(convert(Matrix,prior_df_est[:,[1,3,9]]) , prior_df_est[:,i])\n",
    "        arr_μ[i-11], arr_Λ_G[i-11], arr_Λ_S[i-11], arr_Λ_L[i-11], arr_Λ_N[i-11], arr_Λ_R[i-11] =\n",
    "            coef(fit_lm)[1], coef(fit_lm)[2], 0, 0, coef(fit_lm)[3], 0\n",
    "    elseif idx == \"R\"\n",
    "        fit_lm = lm(convert(Matrix,prior_df_est[:,[1,3,11]]) , prior_df_est[:,i])\n",
    "        arr_μ[i-11], arr_Λ_G[i-11], arr_Λ_S[i-11], arr_Λ_L[i-11], arr_Λ_N[i-11], arr_Λ_R[i-11] =\n",
    "            coef(fit_lm)[1], coef(fit_lm)[2], 0, 0, 0, coef(fit_lm)[3]\n",
    "    end\n",
    "    \n",
    "    # swap position of argument?\n",
    "    resid_lm = lm(hcat(ones(size(residuals(fit_lm),1)-1), residuals(fit_lm)[2:end]), residuals(fit_lm)[1:end-1])\n",
    "    arr_ρ[i-11] = coef(resid_lm)[2]\n",
    "    \n",
    "    ## Demeaned residuals? -- shouldn't it be residual of resid_lm?\n",
    "    resid_mean = mean(residuals(fit_lm))\n",
    "    demeaned_resid = residuals(fit_lm)\n",
    "    for i in 1:length(demeaned_resid)\n",
    "        demeaned_resid[i] = demeaned_resid[i] - resid_mean\n",
    "    end\n",
    "    arr_σ2_ie[i-11] = var(demeaned_resid)\n",
    "end\n",
    "\n",
    "\n",
    "arr_β = Array{Float64}(undef, 5)\n",
    "arr_σ2_ju = Array{Float64}(undef, 5)\n",
    "\n",
    "for i in 1:5\n",
    "    fit_lm = lm(convert(Matrix, prior_df_est[:,[1,2*i]]), prior_df_est[:,2*i+1])\n",
    "    arr_β[i] = coef(fit_lm)[2]\n",
    "    \n",
    "    ## Demeaned residuals?\n",
    "    demeaned_resid = residuals(fit_lm)\n",
    "     resid_mean = mean(demeaned_resid)\n",
    "    for i in 1:length(demeaned_resid)\n",
    "        demeaned_resid[i] = demeaned_resid[i] - resid_mean\n",
    "    end\n",
    "    arr_σ2_ju[i] = var(demeaned_resid)\n",
    "end"
   ]
  },
  {
   "cell_type": "code",
   "execution_count": 42,
   "metadata": {},
   "outputs": [
    {
     "data": {
      "text/plain": [
       "118-element Array{Float64,1}:\n",
       "  0.00605120069793919   \n",
       "  0.007498097451806681  \n",
       "  0.0037195756744128243 \n",
       "  0.003829461949448205  \n",
       " -0.015458711543422913  \n",
       "  0.003951176186603654  \n",
       "  0.0015920882243201423 \n",
       " -0.0038630232473124667 \n",
       " -0.00041154272123505175\n",
       " -0.0013023911376056942 \n",
       "  0.0014221109362633866 \n",
       " -0.010470855453743202  \n",
       "  0.00606121031303879   \n",
       "  ⋮                     \n",
       " -0.0032739708131232963 \n",
       " -0.0007156274465771473 \n",
       " -0.00751190949293436   \n",
       " -0.002429557081860376  \n",
       "  4.6585940229454734e-5 \n",
       " -0.0011779802176826303 \n",
       "  0.0018434100601861915 \n",
       "  2.0052161839051377    \n",
       "  0.014780916350812454  \n",
       " -0.0012326473328971848 \n",
       "  0.0011328475022756863 \n",
       " -0.0075881119500074866 "
      ]
     },
     "execution_count": 42,
     "metadata": {},
     "output_type": "execute_result"
    }
   ],
   "source": [
    "### Explore the prior parameters' estimates.\n",
    "#arr_Λ_N\n",
    "#coef(lm_temp)\n",
    "#stderror(lm_temp)\n",
    "#residuals(lm_temp)\n",
    "#arr_μ\n",
    "arr_Λ_G\n",
    "#arr_Λ_S\n",
    "#arr_Λ_L\n",
    "#arr_ρ\n",
    "\n",
    "#arr_σ2_ie\n",
    "#arr_σ2_Q\n",
    "\n",
    "#arr_β\n",
    "#arr_σ2_ju\n",
    "#println(size(complement_mat))\n",
    "#println(size(G_θ))"
   ]
  },
  {
   "cell_type": "code",
   "execution_count": 43,
   "metadata": {},
   "outputs": [
    {
     "data": {
      "text/plain": [
       "120×153 Array{Float64,2}:\n",
       "  0.0060512      0.0         …  0.0  0.0  0.0  0.0  0.0  0.0  0.0\n",
       "  0.0074981      0.0            0.0  0.0  0.0  0.0  0.0  0.0  0.0\n",
       "  0.00371958     0.0            0.0  0.0  0.0  0.0  0.0  0.0  0.0\n",
       "  0.00382946     0.0            0.0  0.0  0.0  0.0  0.0  0.0  0.0\n",
       " -0.0154587      0.0            0.0  0.0  0.0  0.0  0.0  0.0  0.0\n",
       "  0.00395118     0.0         …  0.0  0.0  0.0  0.0  0.0  0.0  0.0\n",
       "  0.00159209     0.0            0.0  0.0  0.0  0.0  0.0  0.0  0.0\n",
       " -0.00386302     0.0            0.0  0.0  0.0  0.0  0.0  0.0  0.0\n",
       " -0.000411543    0.0            0.0  0.0  0.0  0.0  0.0  0.0  0.0\n",
       " -0.00130239     0.0            0.0  0.0  0.0  0.0  0.0  0.0  0.0\n",
       "  0.00142211     0.0         …  0.0  0.0  0.0  0.0  0.0  0.0  0.0\n",
       " -0.0104709      0.0            0.0  0.0  0.0  0.0  0.0  0.0  0.0\n",
       "  0.00606121     0.0            0.0  0.0  0.0  0.0  0.0  0.0  0.0\n",
       "  ⋮                          ⋱                      ⋮            \n",
       " -0.00751191     0.0            0.0  0.0  0.0  0.0  0.0  0.0  0.0\n",
       " -0.00242956     0.0            0.0  0.0  0.0  0.0  0.0  0.0  0.0\n",
       "  4.65859e-5     0.0         …  0.0  0.0  0.0  0.0  0.0  0.0  0.0\n",
       " -0.00117798     0.0            0.0  0.0  0.0  0.0  0.0  0.0  0.0\n",
       "  0.00184341     0.0            0.0  0.0  0.0  0.0  0.0  0.0  0.0\n",
       "  2.00522      -69.3582         0.0  0.0  0.0  0.0  0.0  0.0  0.0\n",
       "  0.0147809      0.0            0.0  0.0  0.0  0.0  0.0  0.0  0.0\n",
       " -0.00123265     0.00888895  …  0.0  0.0  0.0  0.0  0.0  0.0  0.0\n",
       "  0.00113285     0.00945218     0.0  0.0  0.0  0.0  0.0  0.0  0.0\n",
       " -0.00758811     0.0            0.0  0.0  0.0  0.0  0.0  0.0  0.0\n",
       "  0.0030582      0.0            0.0  3.0  0.0  2.0  0.0  1.0  0.0\n",
       "  6.58036e-6     0.0            2.0  0.0  3.0  0.0  2.0  0.0  1.0"
      ]
     },
     "execution_count": 43,
     "metadata": {},
     "output_type": "execute_result"
    }
   ],
   "source": [
    "# y_t - μ = G_θ * x_t\n",
    "# x_{t+1} = A_θ * x_t + η_t\n",
    "\n",
    "### Creating matrix for observation equation:\n",
    "### should use identity matrix instead of ones\n",
    "iden_mat2 = Matrix{Float64}(I,2,2) # -- just to simplify\n",
    "G_θ = hcat(arr_Λ_G, arr_Λ_S, arr_Λ_L, arr_Λ_N, arr_Λ_R, zeros(118,5), zeros(118,5), zeros(118,5), zeros(118,5), Matrix{Float64}(I, 118, 118), zeros(118,10))\n",
    "arrQ = hcat(arrQ_Λ_G, arrQ_Λ_S, arrQ_Λ_L, arrQ_Λ_N, arrQ_Λ_R)\n",
    "complement_mat = hcat(arrQ, 2*arrQ, 3*arrQ, 2*arrQ, arrQ, zeros(2,118), iden_mat2, 2*iden_mat2, 3*iden_mat2, 2*iden_mat2, iden_mat2)\n",
    "### Need to calculate the factor associated with GDP\n",
    "G_θ = vcat(G_θ, complement_mat)"
   ]
  },
  {
   "cell_type": "code",
   "execution_count": 49,
   "metadata": {},
   "outputs": [
    {
     "data": {
      "text/plain": [
       "153×153 Array{Float64,2}:\n",
       " -5.20488e-6   0.0         0.0         …  0.0  0.0  0.0  0.0  0.0  0.0  0.0\n",
       "  0.0         -1.9427e-6   0.0            0.0  0.0  0.0  0.0  0.0  0.0  0.0\n",
       "  0.0          0.0        -1.37132e-6     0.0  0.0  0.0  0.0  0.0  0.0  0.0\n",
       "  0.0          0.0         0.0            0.0  0.0  0.0  0.0  0.0  0.0  0.0\n",
       "  0.0          0.0         0.0            0.0  0.0  0.0  0.0  0.0  0.0  0.0\n",
       "  1.0          0.0         0.0         …  0.0  0.0  0.0  0.0  0.0  0.0  0.0\n",
       "  0.0          1.0         0.0            0.0  0.0  0.0  0.0  0.0  0.0  0.0\n",
       "  0.0          0.0         1.0            0.0  0.0  0.0  0.0  0.0  0.0  0.0\n",
       "  0.0          0.0         0.0            0.0  0.0  0.0  0.0  0.0  0.0  0.0\n",
       "  0.0          0.0         0.0            0.0  0.0  0.0  0.0  0.0  0.0  0.0\n",
       "  0.0          0.0         0.0         …  0.0  0.0  0.0  0.0  0.0  0.0  0.0\n",
       "  0.0          0.0         0.0            0.0  0.0  0.0  0.0  0.0  0.0  0.0\n",
       "  0.0          0.0         0.0            0.0  0.0  0.0  0.0  0.0  0.0  0.0\n",
       "  ⋮                                    ⋱                      ⋮            \n",
       "  0.0          0.0         0.0            0.0  0.0  0.0  0.0  0.0  0.0  0.0\n",
       "  0.0          0.0         0.0            0.0  0.0  0.0  0.0  0.0  0.0  0.0\n",
       "  0.0          0.0         0.0            0.0  0.0  0.0  0.0  0.0  0.0  0.0\n",
       "  0.0          0.0         0.0            0.0  0.0  0.0  0.0  0.0  0.0  0.0\n",
       "  0.0          0.0         0.0         …  0.0  0.0  0.0  0.0  0.0  0.0  0.0\n",
       "  0.0          0.0         0.0            0.0  0.0  0.0  0.0  0.0  0.0  0.0\n",
       "  0.0          0.0         0.0            0.0  0.0  0.0  0.0  0.0  0.0  0.0\n",
       "  0.0          0.0         0.0            1.0  0.0  0.0  0.0  0.0  0.0  0.0\n",
       "  0.0          0.0         0.0            0.0  1.0  0.0  0.0  0.0  0.0  0.0\n",
       "  0.0          0.0         0.0         …  0.0  0.0  1.0  0.0  0.0  0.0  0.0\n",
       "  0.0          0.0         0.0            0.0  0.0  0.0  1.0  0.0  0.0  0.0\n",
       "  0.0          0.0         0.0            0.0  0.0  0.0  0.0  1.0  0.0  0.0"
      ]
     },
     "execution_count": 49,
     "metadata": {},
     "output_type": "execute_result"
    }
   ],
   "source": [
    "### Crafting T(θ) -- use blkdig on A, diag_ρ, B\n",
    "diag_β = blkdig(arr_β)\n",
    "diag_ρ = blkdig(arr_ρ)\n",
    "diagQ_ρ = blkdig(arrQ_ρ)\n",
    "\n",
    "### Create A\n",
    "A = zeros(5,20)\n",
    "A[1:5, 1:5] = diag_β\n",
    "A_iden = Matrix{Float64}(I,20,20)\n",
    "A = vcat(A, A_iden)\n",
    "A = hcat(A, zeros(25,5))\n",
    "\n",
    "### Create diag_ρ\n",
    "\n",
    "### Create B\n",
    "B = hcat(diagQ_ρ, zeros(2,6))\n",
    "B_iden = Matrix{Float64}(I, 8, 8)\n",
    "B = vcat(B,B_iden)\n",
    "B = hcat(B, zeros(10,2))\n",
    "\n",
    "A_θ = blkdig([A,diag_ρ,B])"
   ]
  },
  {
   "cell_type": "code",
   "execution_count": 44,
   "metadata": {},
   "outputs": [
    {
     "data": {
      "text/plain": [
       "120×120 Array{Float64,2}:\n",
       " 0.0  0.0  0.0  0.0  0.0  0.0  0.0  0.0  …  0.0  0.0  0.0  0.0  0.0  0.0  0.0\n",
       " 0.0  0.0  0.0  0.0  0.0  0.0  0.0  0.0     0.0  0.0  0.0  0.0  0.0  0.0  0.0\n",
       " 0.0  0.0  0.0  0.0  0.0  0.0  0.0  0.0     0.0  0.0  0.0  0.0  0.0  0.0  0.0\n",
       " 0.0  0.0  0.0  0.0  0.0  0.0  0.0  0.0     0.0  0.0  0.0  0.0  0.0  0.0  0.0\n",
       " 0.0  0.0  0.0  0.0  0.0  0.0  0.0  0.0     0.0  0.0  0.0  0.0  0.0  0.0  0.0\n",
       " 0.0  0.0  0.0  0.0  0.0  0.0  0.0  0.0  …  0.0  0.0  0.0  0.0  0.0  0.0  0.0\n",
       " 0.0  0.0  0.0  0.0  0.0  0.0  0.0  0.0     0.0  0.0  0.0  0.0  0.0  0.0  0.0\n",
       " 0.0  0.0  0.0  0.0  0.0  0.0  0.0  0.0     0.0  0.0  0.0  0.0  0.0  0.0  0.0\n",
       " 0.0  0.0  0.0  0.0  0.0  0.0  0.0  0.0     0.0  0.0  0.0  0.0  0.0  0.0  0.0\n",
       " 0.0  0.0  0.0  0.0  0.0  0.0  0.0  0.0     0.0  0.0  0.0  0.0  0.0  0.0  0.0\n",
       " 0.0  0.0  0.0  0.0  0.0  0.0  0.0  0.0  …  0.0  0.0  0.0  0.0  0.0  0.0  0.0\n",
       " 0.0  0.0  0.0  0.0  0.0  0.0  0.0  0.0     0.0  0.0  0.0  0.0  0.0  0.0  0.0\n",
       " 0.0  0.0  0.0  0.0  0.0  0.0  0.0  0.0     0.0  0.0  0.0  0.0  0.0  0.0  0.0\n",
       " ⋮                        ⋮              ⋱            ⋮                      \n",
       " 0.0  0.0  0.0  0.0  0.0  0.0  0.0  0.0     0.0  0.0  0.0  0.0  0.0  0.0  0.0\n",
       " 0.0  0.0  0.0  0.0  0.0  0.0  0.0  0.0     0.0  0.0  0.0  0.0  0.0  0.0  0.0\n",
       " 0.0  0.0  0.0  0.0  0.0  0.0  0.0  0.0  …  0.0  0.0  0.0  0.0  0.0  0.0  0.0\n",
       " 0.0  0.0  0.0  0.0  0.0  0.0  0.0  0.0     0.0  0.0  0.0  0.0  0.0  0.0  0.0\n",
       " 0.0  0.0  0.0  0.0  0.0  0.0  0.0  0.0     0.0  0.0  0.0  0.0  0.0  0.0  0.0\n",
       " 0.0  0.0  0.0  0.0  0.0  0.0  0.0  0.0     0.0  0.0  0.0  0.0  0.0  0.0  0.0\n",
       " 0.0  0.0  0.0  0.0  0.0  0.0  0.0  0.0     0.0  0.0  0.0  0.0  0.0  0.0  0.0\n",
       " 0.0  0.0  0.0  0.0  0.0  0.0  0.0  0.0  …  0.0  0.0  0.0  0.0  0.0  0.0  0.0\n",
       " 0.0  0.0  0.0  0.0  0.0  0.0  0.0  0.0     0.0  0.0  0.0  0.0  0.0  0.0  0.0\n",
       " 0.0  0.0  0.0  0.0  0.0  0.0  0.0  0.0     0.0  0.0  0.0  0.0  0.0  0.0  0.0\n",
       " 0.0  0.0  0.0  0.0  0.0  0.0  0.0  0.0     0.0  0.0  0.0  0.0  0.0  0.0  0.0\n",
       " 0.0  0.0  0.0  0.0  0.0  0.0  0.0  0.0     0.0  0.0  0.0  0.0  0.0  0.0  0.0"
      ]
     },
     "execution_count": 44,
     "metadata": {},
     "output_type": "execute_result"
    }
   ],
   "source": [
    "### Crafting covariance matrix for state-evolution equation\n",
    "diag_σ2_ju = blkdig(arr_σ2_ju)\n",
    "diag_σ2_ie = blkdig(arr_σ2_ie)\n",
    "diag_σ2_Q = blkdig(arr_σ2_Q)\n",
    "\n",
    "\n",
    "Q_θ = blkdig([diag_σ2_ju, zeros(20,20), diag_σ2_ie, diag_σ2_Q, zeros(8,8)])\n",
    "R_θ = zeros(120,120)"
   ]
  },
  {
   "cell_type": "code",
   "execution_count": 42,
   "metadata": {},
   "outputs": [
    {
     "data": {
      "text/plain": [
       "(2, 3)"
      ]
     },
     "execution_count": 42,
     "metadata": {},
     "output_type": "execute_result"
    }
   ],
   "source": [
    "(T,N) = (2,3)"
   ]
  },
  {
   "cell_type": "code",
   "execution_count": null,
   "metadata": {
    "collapsed": true
   },
   "outputs": [],
   "source": []
  },
  {
   "cell_type": "markdown",
   "metadata": {
    "collapsed": true
   },
   "source": [
    "### 5. Expectation Maximization"
   ]
  },
  {
   "cell_type": "code",
   "execution_count": 45,
   "metadata": {
    "collapsed": true
   },
   "outputs": [],
   "source": [
    "struct Spec\n",
    "    r::Int\n",
    "    p::Int\n",
    "    nQ::Int\n",
    "    blocks::AbstractMatrix{Float64}\n",
    "end\n",
    "\n",
    "struct inits\n",
    "    A::AbstractMatrix{Float64}\n",
    "    G::AbstractMatrix{Float64}\n",
    "    Q::AbstractMatrix{Float64}\n",
    "    R::AbstractMatrix{Float64}\n",
    "    Z::AbstractMatrix{Float64}\n",
    "    V::AbstractMatrix{Float64}\n",
    "end\n",
    "\n",
    "struct Sm\n",
    "    Zm::AbstractMatrix{Float64}\n",
    "    ZmU::AbstractMatrix{Float64}\n",
    "    Vm::AbstractArray{Float64,3}\n",
    "    VmU::AbstractArray{Float64,3}\n",
    "    loglik::Int\n",
    "    k_t::AbstractMatrix{Float64}\n",
    "end\n",
    "\n",
    "struct Sm1\n",
    "    ZmT::AbstractMatrix{Float64}\n",
    "    VmT::AbstractArray{Float64,3}\n",
    "    VmT_1::AbstractArray{Float64,3}\n",
    "end"
   ]
  },
  {
   "cell_type": "code",
   "execution_count": 50,
   "metadata": {},
   "outputs": [
    {
     "name": "stdout",
     "output_type": "stream",
     "text": [
      "\n"
     ]
    }
   ],
   "source": [
    "### create blocks, z_0, v_0\n",
    "#idx = append!(prior_colname_ind, [\"R\",\"R\"])\n",
    "block = Array{Float64}(undef, size(idx,1),5)\n",
    "for i in 1:size(idx,1)\n",
    "    if idx[i] == \"S\"\n",
    "        block[i,:] = [1 1 0 0 0]\n",
    "    elseif idx[i] == \"L\"\n",
    "        block[i,:] = [1 0 1 0 0]\n",
    "    elseif idx[i] == \"N\"\n",
    "        block[i,:] = [1 0 0 1 0]\n",
    "    elseif idx[i] == \"R\"\n",
    "        block[i,:] = [1 0 0 0 1]\n",
    "    else\n",
    "        println(\"error\")\n",
    "    end\n",
    "end\n",
    "\n",
    "# Uninformative initial latent variable:\n",
    "Z_θ = zeros(153,1)\n",
    "V_θ = blkdig(ones(153))\n",
    "println()"
   ]
  },
  {
   "cell_type": "code",
   "execution_count": 53,
   "metadata": {},
   "outputs": [
    {
     "data": {
      "text/plain": [
       "\"X.csv\""
      ]
     },
     "execution_count": 53,
     "metadata": {},
     "output_type": "execute_result"
    }
   ],
   "source": [
    "CSV.write(\"block.csv\", DataFrame(block), writeheader = false)\n",
    "CSV.write(\"A_theta.csv\", DataFrame(A_θ), writeheader = false)\n",
    "CSV.write(\"G_theta.csv\", DataFrame(G_θ), writeheader = false)\n",
    "CSV.write(\"Q_theta.csv\", DataFrame(Q_θ), writeheader = false)\n",
    "CSV.write(\"R_theta.csv\", DataFrame(R_θ), writeheader = false)\n",
    "CSV.write(\"Z_theta.csv\", DataFrame(Z_θ), writeheader = false)\n",
    "CSV.write(\"V_theta.csv\", DataFrame(V_θ), writeheader = false)\n",
    "CSV.write(\"X.csv\", DataFrame(X), writeheader = true)"
   ]
  },
  {
   "cell_type": "code",
   "execution_count": 47,
   "metadata": {},
   "outputs": [
    {
     "data": {
      "text/plain": [
       "inits([-5.20488e-6 0.0 … 0.0 0.0; 0.0 -1.9427e-6 … 0.0 0.0; … ; 0.0 0.0 … 0.0 0.0; 0.0 0.0 … 0.0 0.0], [0.0060512 0.0 … 0.0 0.0; 0.0074981 0.0 … 0.0 0.0; … ; 0.0030582 0.0 … 1.0 0.0; 6.58036e-6 0.0 … 0.0 1.0], [0.0026723 0.0 … 0.0 0.0; 0.0 0.00307474 … 0.0 0.0; … ; 0.0 0.0 … 0.0 0.0; 0.0 0.0 … 0.0 0.0], [0.0 0.0 … 0.0 0.0; 0.0 0.0 … 0.0 0.0; … ; 0.0 0.0 … 0.0 0.0; 0.0 0.0 … 0.0 0.0], [0.0; 0.0; … ; 0.0; 0.0], [1.0 0.0 … 0.0 0.0; 0.0 1.0 … 0.0 0.0; … ; 0.0 0.0 … 1.0 0.0; 0.0 0.0 … 0.0 1.0])"
      ]
     },
     "execution_count": 47,
     "metadata": {},
     "output_type": "execute_result"
    }
   ],
   "source": [
    "mat_temp = [1 2\n",
    "            3 4]\n",
    "Sp = Spec(1, 1, 2, block)\n",
    "\n",
    "Inits = inits(A_θ, G_θ, Q_θ, R_θ, Z_θ, V_θ)"
   ]
  },
  {
   "cell_type": "code",
   "execution_count": 48,
   "metadata": {},
   "outputs": [
    {
     "data": {
      "text/plain": [
       "fun (generic function with 1 method)"
      ]
     },
     "execution_count": 48,
     "metadata": {},
     "output_type": "execute_result"
    }
   ],
   "source": [
    "### Example of how structure of data work\n",
    "struct Foo4\n",
    "    r::AbstractMatrix{Float64}\n",
    "    a::AbstractMatrix{Float64}\n",
    "end\n",
    "\n",
    "function fun(Foo4)\n",
    "    print(Foo4.r)\n",
    "    print(Foo4.a)\n",
    "end"
   ]
  },
  {
   "cell_type": "code",
   "execution_count": 49,
   "metadata": {},
   "outputs": [
    {
     "name": "stdout",
     "output_type": "stream",
     "text": [
      "[1.0 2.0; 3.0 4.0][2.0 3.0 4.0 5.0; 3.0 4.0 5.0 6.0]"
     ]
    }
   ],
   "source": [
    "### Example -- part II\n",
    "mat_1 = [1 2\n",
    "        3 4]\n",
    "mat_2 = [2 3 4 5\n",
    "        3 4 5 6]\n",
    "\n",
    "spec = Foo4(mat_1, mat_2)\n",
    "fun(spec)"
   ]
  },
  {
   "cell_type": "code",
   "execution_count": 50,
   "metadata": {},
   "outputs": [
    {
     "data": {
      "text/plain": [
       "1×4 BitArray{2}:\n",
       " true  false  false  true"
      ]
     },
     "execution_count": 50,
     "metadata": {},
     "output_type": "execute_result"
    }
   ],
   "source": [
    "Bool.([1 0 0 1])\n"
   ]
  },
  {
   "cell_type": "code",
   "execution_count": 51,
   "metadata": {},
   "outputs": [
    {
     "data": {
      "text/plain": [
       "dfm (generic function with 2 methods)"
      ]
     },
     "execution_count": 51,
     "metadata": {},
     "output_type": "execute_result"
    }
   ],
   "source": [
    "##### Creating Dynamic Factor Model (DFM) to forecast GDP: \n",
    "# y_t - μ = G_θ * x_t\n",
    "# x_{t+1} = A_θ * x_t + η_t\n",
    "function dfm(X, Spec, inits, threshold = 1e-5)\n",
    "    ### Set up\n",
    "    #printf(\"Estimating the dynamic factor model (DFM) ... \\n\\n\")\n",
    "    \n",
    "    (T, N) = size(X)\n",
    "    # Identify spec \n",
    "    r = Spec.r\n",
    "    p = Spec.p\n",
    "    nQ = Spec.nQ\n",
    "    blocks = Spec.blocks\n",
    "    \n",
    "    i_idio = Bool.([ones(N-nQ,1); zeros(nQ,1)])\n",
    "    \n",
    "    # We should not have constraint\n",
    "    R_mat = [2 -1 0 0 0\n",
    "             3 0 -1 0 0\n",
    "             2 0 0 -1 0\n",
    "             1 0 0 0 -1]\n",
    "    q = zeros(4,1)\n",
    "    \n",
    "    max_iter = 5000\n",
    "    \n",
    "    ### Prepare data\n",
    "    #Mx = mean(X, \"omitnan\")\n",
    "    #Wx = std(X, \"omitnan\")\n",
    "    #xMissing = (X - repmat(Mx, T, 1))./repmat(Wx, T,1) #? Standardize series???\n",
    "    \n",
    "    ### Initial Condition\n",
    "    A = inits.A\n",
    "    G = inits.G\n",
    "    Q = inits.Q\n",
    "    R = inits.R\n",
    "    Z_0 = inits.Z\n",
    "    V_0 = inits.V\n",
    "    \n",
    "    previous_loglik = -Inf\n",
    "    num_iter = 0\n",
    "    LL = -Inf\n",
    "    converged = false\n",
    "    \n",
    "    # ? y for the estimation is WITH missing data\n",
    "    \n",
    "    ### EM loop\n",
    "    #? remove the leading and ending nans\n",
    "    # y_est\n",
    "    println(\"run EM loop\")\n",
    "    while (num_iter < max_iter) & !converged\n",
    "        (G_new, R_new, A_new, Q_new, Z_0, V_0, loglik ) = EMstep(X, A, G, Q, R, Z_0, V_0, r, p, R_mat, q, nQ, i_idio, blocks)\n",
    "        G = G_new\n",
    "        R = R_new\n",
    "        A = A_new\n",
    "        Q = Q_new\n",
    "        \n",
    "        if num_iter > 2 \n",
    "            # change from decrease(num_iter+1)\n",
    "            converged = em_converged(loglik, previous_loglik, threshold, check_decreased = 1)[1] #####?????\n",
    "        end\n",
    "        \n",
    "        if (mod(num_iter,10) == 0) && (num_iter > 0)\n",
    "            ##### Display something\n",
    "        end\n",
    "        \n",
    "        LL = [LL loglik]\n",
    "        previous_loglik = loglik\n",
    "        num_iter = num_iter + 1\n",
    "    end\n",
    "    \n",
    "    ##### Display something\n",
    "    \n",
    "    ### Final run of KF\n",
    "    Zsmooth = runKF(X, A, G, Q, R, Z_0, V_0)[1] # use X with missing data\n",
    "    x_sm = G*Zsmooth[2:end,:] # originally Zsm*G'\n",
    "    \n",
    "    ##### Display something\n",
    "    \n",
    "    return x_sm\n",
    "\n",
    "end"
   ]
  },
  {
   "cell_type": "code",
   "execution_count": 52,
   "metadata": {},
   "outputs": [
    {
     "ename": "UndefVarError",
     "evalue": "UndefVarError: dfm not defined",
     "output_type": "error",
     "traceback": [
      "UndefVarError: dfm not defined",
      "",
      "Stacktrace:",
      " [1] top-level scope at In[52]:5"
     ]
    }
   ],
   "source": [
    "### Kalman smoothing X\n",
    "last(data, 6) ### original monthly data\n",
    "last(datra[1:end-1, [end-1,end]],6) ### original quarterly data\n",
    "X = [data datra[1:end-1, end-1:end]]\n",
    "\n",
    "dfm(X, Sp, Inits)"
   ]
  },
  {
   "cell_type": "code",
   "execution_count": 67,
   "metadata": {},
   "outputs": [
    {
     "data": {
      "text/plain": [
       "EMstep (generic function with 1 method)"
      ]
     },
     "execution_count": 67,
     "metadata": {},
     "output_type": "execute_result"
    }
   ],
   "source": [
    "### Y_t = G_t X_t + e_t for e_t ~ N(0, R)\n",
    "### X_t = A X_{t-1} + mu_t for mu_t ~ N(0,Q)\n",
    "function EMstep(y,A,G,Q,R,x_0, σ_0, r, p, R_mat,q, nQ, i_idio, blocks)\n",
    "    \n",
    "    (n,T) = size(y)\n",
    "    nM = n - nQ\n",
    "    pC = size(R_mat,2)\n",
    "    ppc = max(p, pC)\n",
    "    num_blocks = size(blocks, 2) # how many columns are there?\n",
    "    \n",
    "    \n",
    "    (x_sm, σ_sm, vv_sm, loglik) = runKF(y, A, G, Q, R, x_0, σ_0)\n",
    "    \n",
    "    A_new = A\n",
    "    Q_new = Q\n",
    "    σ_0_new = σ_0\n",
    "    \n",
    "    ##### Transition equation\n",
    "    ### Update factor parameters individually\n",
    "    for i = 1:num_blocks\n",
    "        r_i = r[i]\n",
    "        rp = r_i*p\n",
    "        rp1 = sum(r[1:i-1])*ppC\n",
    "        b_subset = rp1+1:rp1+rp # Subset blocks: Helps for subsetting x_sm, σ_sm\n",
    "        t_start = rp1+1\n",
    "        t_end = rp1+r_i*ppC\n",
    "        \n",
    "        EZZ = x_sm[b_subset, 2:end]*(x_sm[b_subset, 2:end])' + sum(σ_sm[b_subset, b_subset, 2:end], 3)\n",
    "        EZZ_BB = x_sm[b_subset, 1:end-1]*(x_sm[b_subset, 1:end-1])' + sum(σ_sm[b_subset, b_subset, 1:end-1], 3)\n",
    "        EZZ_FB = x_sm[b_subset, 2:end]*(x_sm[b_subset, 1:end-1])' + sum(vv_sm[b_subset, b_subset, :], 3)\n",
    "        \n",
    "        A_i = A[t_start:t_end, t_start:t_end]\n",
    "        Q_i = Q[t_start:t_end, t_start:t_end]\n",
    "        \n",
    "        A_i[1:r_i,1:rp] = EZZ_FB[1:r_i,1:rp]*inv(EZZ_BB[1:r_i,1:rp])\n",
    "        Q_i[1:r_i,1:r_i] = (EZZ[1:r_i,1:r_i] - A_i[1:r_i,1:rp]*EZZ_FB[1:r_i,1:rp]') / T\n",
    "        \n",
    "        A_new[t_start:t_end, t_start:t_end] = A_i\n",
    "        Q_new[t_start:t_end, t_start:t_end] = Q_i\n",
    "        σ_0_new[t_start:t_end, t_start:t_end] = σ_sm[t_start:t_end, t_start:t_end, 1]\n",
    "    end\n",
    "    \n",
    "    ### Update parameters for idiosyncratic component\n",
    "    rp1 = sum(r)*ppC\n",
    "    niM = sum(i_idio[1:nM])\n",
    "    t_start = rp1+1\n",
    "    i_subset = t_start:rp1+niM\n",
    "    \n",
    "    EZZ = Diagonal(Diagonal(x_sm[t_start:end,2:end]*(x_sm[t_start:end, 2:end])'))+Diagonal(Diagonal(sum(σ_sm[t_start:end, t_start:end, 2:end], 3)))\n",
    "    EZZ_BB = Diagonal(Diagonal(x_sm[t_start:end,1:end-1]*(x_sm[t_start:end, 1:end-1])'))+Diagonal(Diagonal(sum(σ_sm[t_start:end, t_start:end, 1:end-1], 3)))\n",
    "    EZZ_FB = Diagonal(Diagonal(x_sm[t_start:end,2:end]*(x_sm[t_start:end, 1:end-1])'))+Diagonal(Diagonal(sum(vv_sm[t_start:end, t_start:end, :], 3)))\n",
    "    \n",
    "    A_i = EZZ_FB*Diagonal(inv(Diagonal((EZZ_BB))))\n",
    "    Q_i = (EZZ - A_i*EZZ_FB') / T\n",
    "    \n",
    "    A_new[i_subset, i_subset] = A_i[1:niM,1:niM]\n",
    "    Q_new[i_subset, i_subset] = Q_i[1:niM,1:niM]\n",
    "    σ_0_new[i_subset, i_subset] = Diagonal(Diagonal(σ_sm[i_subset,i_subset,1]))\n",
    "    \n",
    "    ##### Observation equation\n",
    "    ### Maximization step\n",
    "    x_0 = x_sm[:,1]\n",
    "    \n",
    "    nanY = ismissing.(y)\n",
    "    y[nanY] .= 0\n",
    "    \n",
    "    G_new = G\n",
    "    \n",
    "    bl = sort_vec(blocks) # list of unique blocks\n",
    "    n_bl = size(bl,1) # number of unique blocks\n",
    "    \n",
    "    bl_idxM = []\n",
    "    bl_idxQ = []\n",
    "    R_con = []\n",
    "    q_con = []\n",
    "    \n",
    "    for i in 1:num_blocks\n",
    "        bl_idxQ = [bl_idxQ repeat(bl[:,i],1,r[i]*ppC)]\n",
    "        bl_idxM = [bl_idxM repeat(bl[:,i],1,r[i]) zeros(n_bl, r[i]*(ppC-1))]\n",
    "        R_con = blkdig(R_con, kron(R_mat, Matrix{Float64}(I,r[i],r[i])))\n",
    "        q_con = [q_con zeros(r[i]*size(R_mat,1),1)]\n",
    "    end\n",
    "    \n",
    "    # Indicator for m/q blocks in observation matrix\n",
    "    bl_idxM = convert.(Bool, bl_idxM)\n",
    "    bl_idxQ = convert.(Bool, bl_idxQ)\n",
    "    \n",
    "    i_idio_M = i_idio[1:nM]\n",
    "    n_idio_M = length(find(i_idio_M))\n",
    "    c_i_idio = cumsum(i_idio)\n",
    "    \n",
    "    for i in 1:n_bl # loop through unique loading\n",
    "        bl_i = bl[i,:]\n",
    "        rs = sum(convert.(Bool, bl_i)) # total num of blocks loaded (e.g [1 0 0 1] = 2)\n",
    "        idx_i = ismember(blocks, bl_i) # indixes for [1 0 0 1]\n",
    "        idx_iM = idx_i[idx_i < nM+1] # consider only monthly variables\n",
    "        n_i = length(idx_iM)\n",
    "\n",
    "        denom = zeros(n_i*rs, n_i*rs)\n",
    "        nom = zeros(n_i, rs)\n",
    "        \n",
    "        i_idio_i = i_idio_M(idx_iM)\n",
    "        i_idio_ii = c_i_idio(idx_iM)\n",
    "        i_idio_ii = i_idio_ii(i_idio_i)\n",
    "        \n",
    "        ## update monthly variables\n",
    "        for t in 1:T\n",
    "            Wt = Diagonal(.!(nanY[idx_iM,t]))\n",
    "            denom = denom + kron(x_sm[bl_idxM[i,:], t+1]*x_sm[bl_idxM[i,:], t+1]' \n",
    "                + σ_sm[bl_idx[i,:], bl_idxM[i, :], t+1], Wt)\n",
    "            \n",
    "            nom = nom + y[idx_iM,t]*x_sm[bl_idxM[i,:],t+1]' - Wt[:, i_idio_i]*(x_sm[rp1+i_idio_ii, t+1]*x_sm[bl_idxM[i,:],t+1]'\n",
    "                + σ_sm[rp1+i_idio_ii, bl_idxM[i,:], t+1])\n",
    "        end\n",
    "        vec_G = inv(denom)*nom[:] #Eq13 in BGR 2010\n",
    "        G_new[idx_iM, bl_idxM[i,:]] = reshape(vec_G, n_i, rs)\n",
    "        \n",
    "        ## update quarterly variables\n",
    "        \n",
    "        idx_iQ = idx_i[idx_i > nM] # consider only quarterly variables\n",
    "        rps = rs*ppC\n",
    "        R_con_i = R_con[:, bl_inxQ[i,:]]\n",
    "        q_con_i = q_con\n",
    "        no_c = .!(any(R_con_i,2))\n",
    "        R_con_i[no_c, :] = []\n",
    "        q_con_i[no_c, :] = []\n",
    "        \n",
    "        for j in idx_iQ'\n",
    "            denom = zeros(rps,rps)\n",
    "            nom = zeros(1, rps)\n",
    "            \n",
    "            idx_jQ = j - nM\n",
    "            i_idio_jQ = (rp1+n_idio_M+5*(idx_jQ-1)+1:rp1+n_idio_M + 5*idx_jQ)\n",
    "            \n",
    "            V_0_new[i_idio_jQ, i_idio_jQ] = σ_sm[i_idio_jQ, i_idio_jQ, 1]\n",
    "            A_new[i_idio_jQ[1], i+_idio_jQ[1]] = A_i[i_idio_jQ[1]-rp1, i_idio_jQ[1]-rp1]\n",
    "            Q_new[i_idio_jQ[1], i_idio_jQ[1]] = Q_i[i_idio_jQ[1]-rp1, i_idio_jQ[1]-rp1]\n",
    "            \n",
    "            for t in 1:T\n",
    "                Wt = Diagonal(.!(nanY[k,t]))\n",
    "                denom = denom+kron(x_sm[bl_idxQ[i,:], t+1]*x_sm[bl_idxQ[i,:], t+1]' + σ_sm[bl_idxQ[i,:], bl_idxQ[i,:], t+1], Wt)\n",
    "                nom = nom +y(j,t)*x_sm[bl_idxQ[i,:], t+1]'\n",
    "                nom = nom - Wt*([1 2 3 2 1]*x_sm[i_idio+jQ,t+1]*x_sm[bl_idxQ[i,:],t+1]'+[1 2 3 2 1]*σ_sm[i_idio_jQ, bl_idxQ[i,:],t+1])\n",
    "            end\n",
    "            \n",
    "            G_i = inv(denom)*nom'\n",
    "            #BGR eq13\n",
    "            G_i_constr = G_i - inv(denom)*R_con_i'*inv(R_con_i*inv(denom)*R_con_i')*(R_con_i*G_i -q_con_i)\n",
    "            G_new[j,bl_idxQ[i,:]] = G_i_constr\n",
    "        end\n",
    "    end\n",
    "    \n",
    "    ### Update covariance of residuals for observation equation\n",
    "    R_new = zeros(n,n)\n",
    "    for t in 1:T\n",
    "        Wt = Diagonal(.!(nanY[:,t]))\n",
    "        R_new = R_new + (y[:,t] - Wt*G_new*x_sm[:,t+1])*(y[:,t]-Wt*G_new*x_sm[:,t+1])'+Wt*G_new*σ_sm[:,:,t+1]*G_new'*Wt + (Matrix{Float64}(I,n,n)-Wt)*R*(Matrix{Float64}(I,n,n)-Wt)\n",
    "    end\n",
    "    \n",
    "    R_new = R_new / T\n",
    "    RR = Diagonal(R_new)\n",
    "    RR[i_idio+_M] = 1e-04\n",
    "    RR[nM+1:end] = 1e-04\n",
    "    R_new = Diagonal(RR)\n",
    "    \n",
    "    return G_new, R_new, A_new, Q_new, x_0, σ_0, loglik\n",
    "end"
   ]
  },
  {
   "cell_type": "code",
   "execution_count": 70,
   "metadata": {},
   "outputs": [
    {
     "ename": "MethodError",
     "evalue": "MethodError: Cannot `convert` an object of type Array{Float64,3} to an object of type AbstractArray{Float64,2}\nClosest candidates are:\n  convert(::Type{T<:AbstractArray}, !Matched::T<:AbstractArray) where T<:AbstractArray at abstractarray.jl:14\n  convert(::Type{AbstractArray{T,N}}, !Matched::AbstractArray{#s72,N} where #s72) where {T, N} at abstractarray.jl:16\n  convert(::Type{T<:AbstractArray}, !Matched::Factorization) where T<:AbstractArray at /Users/osx/buildbot/slave/package_osx64/build/usr/share/julia/stdlib/v1.1/LinearAlgebra/src/factorization.jl:46\n  ...",
     "output_type": "error",
     "traceback": [
      "MethodError: Cannot `convert` an object of type Array{Float64,3} to an object of type AbstractArray{Float64,2}\nClosest candidates are:\n  convert(::Type{T<:AbstractArray}, !Matched::T<:AbstractArray) where T<:AbstractArray at abstractarray.jl:14\n  convert(::Type{AbstractArray{T,N}}, !Matched::AbstractArray{#s72,N} where #s72) where {T, N} at abstractarray.jl:16\n  convert(::Type{T<:AbstractArray}, !Matched::Factorization) where T<:AbstractArray at /Users/osx/buildbot/slave/package_osx64/build/usr/share/julia/stdlib/v1.1/LinearAlgebra/src/factorization.jl:46\n  ...",
      "",
      "Stacktrace:",
      " [1] Sm(::Array{Float64,2}, ::Array{Float64,3}, ::Array{Float64,2}, ::Array{Float64,3}, ::Int64, ::Array{Float64,2}) at ./In[61]:18",
      " [2] top-level scope at In[70]:3"
     ]
    }
   ],
   "source": [
    "m=1\n",
    "nobs =1\n",
    "Sm(zeros(m, nobs), zeros(m,m, nobs), zeros(m, nobs+1), zeros(m,m, nobs+1), 0, zeros(m,m))"
   ]
  },
  {
   "cell_type": "code",
   "execution_count": null,
   "metadata": {
    "collapsed": true
   },
   "outputs": [],
   "source": []
  },
  {
   "cell_type": "code",
   "execution_count": 68,
   "metadata": {},
   "outputs": [
    {
     "data": {
      "text/plain": [
       "em_converged (generic function with 3 methods)"
      ]
     },
     "execution_count": 68,
     "metadata": {},
     "output_type": "execute_result"
    }
   ],
   "source": [
    "### Y_t = C_t Z_t + e_t for e_t ~ N(0, R)\n",
    "### Z_t = A Z_{t-1} + mu_t for mu_t ~ N(0,Q)\n",
    "function runKF(Y, A, C, Q, R, Z_0, V_0)\n",
    "    Sm = SKF(Y,A,C,Q,R,Z_0,V_0)\n",
    "    Sm, Sm1 = FIS(A,Sm)\n",
    "    \n",
    "    zsmooth = Sm1.ZmT\n",
    "    Vsmooth = Sm1.VmT\n",
    "    VVsmooth = Sm1.VmT_1\n",
    "    loglik = Sm.loglik\n",
    "    \n",
    "    return zsmooth, Vsmooth, VVsmooth, loglik\n",
    "end\n",
    "\n",
    "function SKF(Y, A, C, Q, R, Z_0, V_0)\n",
    "    # Initialize output values\n",
    "    m = size(C,2)\n",
    "    nobs = size(Y,2) # number of observations\n",
    "    print(\"1\")\n",
    "    Sm = Sm(zeros(m, nobs), zeros(m,m, nobs), zeros(m, nobs+1), zeros(m,m, nobs+1), 0, zeros(m,m))\n",
    "    \n",
    "    Zu = Z_0\n",
    "    Vu = V_0\n",
    "    \n",
    "    Sm.ZmU[:,1] = Zu\n",
    "    Sm.VmU[:,:,1] = Vu\n",
    "    \n",
    "    # Kalman filter procedure\n",
    "    for t in 1:nobs\n",
    "        Z = A*Zu\n",
    "        V = A*Vu*A' +Q\n",
    "        V = 0.5*(V+V')\n",
    "        \n",
    "        (Y_t, C_t, R_t) = MissData(Y[:,t], C, R)\n",
    "        if isempty(Y_T)\n",
    "            Zu = Z\n",
    "            Vu = V\n",
    "        else\n",
    "            VC = V*C_t'\n",
    "            iF = inv(C_t*VC + R_t)\n",
    "            \n",
    "            VCF = VC*iF\n",
    "            innov = Y_t - C_t*Z\n",
    "            Zu = Z + VCF*innov\n",
    "            \n",
    "            Vu = V - VCF*VC'\n",
    "            Vu = 0.5*(Vu+Vu')\n",
    "            \n",
    "            Sm.loglik = Sm.loglik + 0.5*(log(det(iF)) - innov'*iF*innov)\n",
    "        end\n",
    "        \n",
    "        Sm.Zm[:,t] = Z\n",
    "        Sm.Vm[:,:,t] = V\n",
    "        Sm.ZmU[:,t+1] = Zu\n",
    "        Sm.VmU[:,:,t+1] = Vu\n",
    "    end\n",
    "    \n",
    "    if isempty(Y_t)\n",
    "        Sm.k_t = zeros(m,m)\n",
    "    else\n",
    "        Sm.k_t = VCF*C_t\n",
    "    end\n",
    "    return Sm\n",
    "end\n",
    "\n",
    "function FIS(A,Sm)\n",
    "    (m, nobs) = size(Sm.Zm)\n",
    "    Sm1 = Sm1(zeros(m, nobs+1), zeros(m,m,nobs+1), zeros(m,m,nobs))\n",
    "    \n",
    "    Sm1.ZmT[:, nobs+1] = squeeze(Sm.ZmU[:,nobs+1])\n",
    "    Sm1.VmT[:,:,nobs+1] = squeeze(Sm.VmU[:,:,nobs+1])\n",
    "    Sm1.VmT_1[:,:,nobs] = (Matrix{Float}(I, m, m)-Sm.k_t)*A*squeeze(Sm.VmU[:,:,nobs])\n",
    "    \n",
    "    J_2 = squeeze(Sm.VmU[:,:,nobs])*A'*pinv(squeeze(Sm.Vm[:,:,nobs]))\n",
    "    \n",
    "    # Run smoothing algorithm\n",
    "    for t in nobs:-1:1\n",
    "        VmU = squeeze(Sm.VmU[:,:,t])\n",
    "        Vm1 = squeeze(Sm.Vm[:,:,t])\n",
    "        V_T = squeeze(Sm1.VmT[:,:,t+1])\n",
    "        V_T1 = squeeze(Sm1.VmT_1[:,:,t])\n",
    "        J_1 = J_2\n",
    "        \n",
    "        # update smoothed factor estimate / covariance matrix\n",
    "        Sm1.ZmT[:,t] = Sm.ZmU[:,t]+J_1*(Sm1.ZmT[:,t+1] - A*Sm.ZmU[:,t])\n",
    "        Sm1.VmT[:,:,t] = VmU + J_1*(V_T - Vm1)*J_1'\n",
    "        \n",
    "        if t > 1\n",
    "            J_2 = squeeze(Sm.VmU[:,:,t-1])*A'*pinv(squeeze(Sm.Vm[:,:,t-1]))\n",
    "            Sm1.VmT_1[:,:,t-1] = VmU*J_2' + J_1*(V_T1 - A*VmU)*J_2'\n",
    "        end\n",
    "    end\n",
    "    \n",
    "    return Sm, Sm1\n",
    "end\n",
    "\n",
    "function MissData(y,C,R)\n",
    "    ix = .!ismissing.(y)\n",
    "    e = Matrix{Float64}(I,size(y,1),size(y,1))\n",
    "    L = e[:,ix]\n",
    "    y = y[ix]\n",
    "    C = C[ix,:]\n",
    "    R = R[ix,ix]\n",
    "    \n",
    "    return y, C, R\n",
    "end\n",
    "\n",
    "#function InitialCond -- PCA for prior information\n",
    "\n",
    "function em_converged(loglik, previous_loglik, threshold = 1e-4, check_decreased = 1)\n",
    "    converged = 0\n",
    "    decrease = 0\n",
    "    \n",
    "    if check_decreased\n",
    "        if loglik - previous_loglik < -1e-3\n",
    "            printf(1, \"******likelihood decreased from %6.4f to %6.4f!\\n\", previous_loglik, loglik)\n",
    "            decrease = 1\n",
    "        end\n",
    "    end\n",
    "    \n",
    "    delta_loglik = abs(loglik - previous_loglik)\n",
    "    avg_loglik = (abs(loglik) + abs(previous_loglik) + eps)/2\n",
    "    \n",
    "    if (delta_loglik / avg_loglik) < threshold\n",
    "        converged = 1\n",
    "    end\n",
    "    \n",
    "    return converged, decrease \n",
    "end"
   ]
  },
  {
   "cell_type": "code",
   "execution_count": null,
   "metadata": {
    "collapsed": true
   },
   "outputs": [],
   "source": []
  },
  {
   "cell_type": "code",
   "execution_count": null,
   "metadata": {
    "collapsed": true
   },
   "outputs": [],
   "source": []
  },
  {
   "cell_type": "code",
   "execution_count": null,
   "metadata": {
    "collapsed": true
   },
   "outputs": [],
   "source": []
  },
  {
   "cell_type": "code",
   "execution_count": null,
   "metadata": {
    "collapsed": true
   },
   "outputs": [],
   "source": []
  },
  {
   "cell_type": "code",
   "execution_count": null,
   "metadata": {
    "collapsed": true
   },
   "outputs": [],
   "source": []
  },
  {
   "cell_type": "code",
   "execution_count": 119,
   "metadata": {},
   "outputs": [
    {
     "data": {
      "text/plain": [
       "3×3 Array{Float64,2}:\n",
       " 2.0  1.0  1.0\n",
       " 1.0  3.0  1.0\n",
       " 1.0  1.0  4.0"
      ]
     },
     "execution_count": 119,
     "metadata": {},
     "output_type": "execute_result"
    }
   ],
   "source": [
    "\n",
    "Diagonal([1, 2, 3]) + ones(3,3)"
   ]
  },
  {
   "cell_type": "code",
   "execution_count": 20,
   "metadata": {
    "collapsed": true
   },
   "outputs": [],
   "source": [
    "mutable struct S\n",
    "    Zm\n",
    "    ZmU\n",
    "    Vm\n",
    "    VmU\n",
    "    loglik\n",
    "    k_t\n",
    "    ZmT\n",
    "    VmT\n",
    "    VmT_1\n",
    "end"
   ]
  },
  {
   "cell_type": "code",
   "execution_count": 28,
   "metadata": {},
   "outputs": [
    {
     "data": {
      "text/plain": [
       "false"
      ]
     },
     "execution_count": 28,
     "metadata": {},
     "output_type": "execute_result"
    }
   ],
   "source": [
    "ismissing([2 missing 45])"
   ]
  },
  {
   "cell_type": "code",
   "execution_count": 18,
   "metadata": {},
   "outputs": [
    {
     "data": {
      "text/plain": [
       "S(1, 1, 1, 1, 1, 1, 1, 1, 1)"
      ]
     },
     "execution_count": 18,
     "metadata": {},
     "output_type": "execute_result"
    }
   ],
   "source": [
    "hello = S(1,1,1,1,1,1,1,1,1)"
   ]
  },
  {
   "cell_type": "code",
   "execution_count": 51,
   "metadata": {},
   "outputs": [
    {
     "data": {
      "text/plain": [
       "2×4 Array{Int64,2}:\n",
       "  1  2  43  4\n",
       " 22  3   4  5"
      ]
     },
     "execution_count": 51,
     "metadata": {},
     "output_type": "execute_result"
    }
   ],
   "source": [
    "A = [1 2 43 4]\n",
    "A = [A; [22 3 4 5]]"
   ]
  },
  {
   "cell_type": "code",
   "execution_count": null,
   "metadata": {
    "collapsed": true
   },
   "outputs": [],
   "source": [
    "\n"
   ]
  },
  {
   "cell_type": "markdown",
   "metadata": {},
   "source": [
    "### 6. Filtering???"
   ]
  },
  {
   "cell_type": "code",
   "execution_count": null,
   "metadata": {
    "collapsed": true
   },
   "outputs": [],
   "source": []
  },
  {
   "cell_type": "code",
   "execution_count": null,
   "metadata": {
    "collapsed": true
   },
   "outputs": [],
   "source": []
  },
  {
   "cell_type": "code",
   "execution_count": null,
   "metadata": {
    "collapsed": true
   },
   "outputs": [],
   "source": []
  },
  {
   "cell_type": "code",
   "execution_count": 122,
   "metadata": {},
   "outputs": [
    {
     "data": {
      "text/plain": [
       "2×3 BitArray{2}:\n",
       " false  true   true\n",
       "  true  true  false"
      ]
     },
     "execution_count": 122,
     "metadata": {},
     "output_type": "execute_result"
    }
   ],
   "source": [
    "y = [missing 2 3\n",
    "    2 3 missing]\n",
    "\n",
    ".!ismissing.(y)"
   ]
  },
  {
   "cell_type": "code",
   "execution_count": null,
   "metadata": {
    "collapsed": true
   },
   "outputs": [],
   "source": []
  },
  {
   "cell_type": "code",
   "execution_count": 24,
   "metadata": {},
   "outputs": [
    {
     "ename": "LoadError",
     "evalue": "syntax: invalid identifier name \".\"",
     "output_type": "error",
     "traceback": [
      "syntax: invalid identifier name \".\"",
      ""
     ]
    }
   ],
   "source": []
  },
  {
   "cell_type": "code",
   "execution_count": 21,
   "metadata": {},
   "outputs": [
    {
     "data": {
      "text/plain": [
       "2-element Array{Array{Int64,1},1}:\n",
       " [1, 0, 0, 1]\n",
       " [1, 0, 1, 0]"
      ]
     },
     "execution_count": 21,
     "metadata": {},
     "output_type": "execute_result"
    }
   ],
   "source": [
    "\n",
    "        "
   ]
  },
  {
   "cell_type": "code",
   "execution_count": 23,
   "metadata": {},
   "outputs": [
    {
     "data": {
      "text/plain": [
       "2-element Array{Any,1}:\n",
       " 1\n",
       " 3"
      ]
     },
     "execution_count": 23,
     "metadata": {},
     "output_type": "execute_result"
    }
   ],
   "source": [
    "ismember(blocks, [1, 0, 0, 1])"
   ]
  },
  {
   "cell_type": "code",
   "execution_count": null,
   "metadata": {
    "collapsed": true
   },
   "outputs": [],
   "source": [
    "\n",
    "        "
   ]
  },
  {
   "cell_type": "code",
   "execution_count": 49,
   "metadata": {},
   "outputs": [
    {
     "data": {
      "text/plain": [
       "6×8 Array{Float64,2}:\n",
       " 1.0  2.0  5.0  0.0  0.0  0.0  0.0  0.0\n",
       " 4.0  5.0  6.0  0.0  0.0  0.0  0.0  0.0\n",
       " 0.0  0.0  0.0  1.0  2.0  0.0  0.0  0.0\n",
       " 0.0  0.0  0.0  0.0  0.0  1.0  1.0  1.0\n",
       " 0.0  0.0  0.0  0.0  0.0  1.0  1.0  1.0\n",
       " 0.0  0.0  0.0  0.0  0.0  1.0  1.0  1.0"
      ]
     },
     "execution_count": 49,
     "metadata": {},
     "output_type": "execute_result"
    }
   ],
   "source": [
    "A =[1 2 5\n",
    "      4 5 6]\n",
    "B = [1 2]\n",
    "C = ones(3,3)\n",
    "\n",
    "blkdig([A,B,C])"
   ]
  },
  {
   "cell_type": "code",
   "execution_count": 105,
   "metadata": {},
   "outputs": [
    {
     "data": {
      "text/html": [
       "<table class=\"data-frame\"><thead><tr><th></th><th>date</th><th>RPI</th><th>W875RX1</th><th>DPCERA3M086SBEA</th><th>CMRMTSPL</th><th>MRTSSM44X72USS</th></tr><tr><th></th><th>String</th><th>Float64</th><th>Float64</th><th>Float64</th><th>Float64⍰</th><th>Float64⍰</th></tr></thead><tbody><p>6 rows × 121 columns (omitted printing of 115 columns)</p><tr><th>1</th><td>11/1/18</td><td>0.00617598</td><td>0.00738623</td><td>-0.0114453</td><td>-0.00109195</td><td>-0.0240068</td></tr><tr><th>2</th><td>12/1/18</td><td>0.000902918</td><td>-0.00409511</td><td>0.00373438</td><td>0.0121161</td><td>0.0110773</td></tr><tr><th>3</th><td>1/1/19</td><td>0.00216633</td><td>0.00248386</td><td>-0.00434615</td><td>-0.00600857</td><td>-0.00900333</td></tr><tr><th>4</th><td>2/1/19</td><td>-0.000355807</td><td>-0.000136804</td><td>0.00488391</td><td>0.00108111</td><td>0.014504</td></tr><tr><th>5</th><td>3/1/19</td><td>-0.00112315</td><td>-0.00107352</td><td>0.000518506</td><td>-0.0109998</td><td>0.00025883</td></tr><tr><th>6</th><td>4/1/19</td><td>-0.000237273</td><td>-8.91e-5</td><td>0.000682792</td><td>-0.000536382</td><td>0.00149808</td></tr></tbody></table>"
      ],
      "text/latex": [
       "\\begin{tabular}{r|ccccccc}\n",
       "\t& date & RPI & W875RX1 & DPCERA3M086SBEA & CMRMTSPL & MRTSSM44X72USS & \\\\\n",
       "\t\\hline\n",
       "\t& String & Float64 & Float64 & Float64 & Float64⍰ & Float64⍰ & \\\\\n",
       "\t\\hline\n",
       "\t1 & 11/1/18 & 0.00617598 & 0.00738623 & -0.0114453 & -0.00109195 & -0.0240068 & $\\dots$ \\\\\n",
       "\t2 & 12/1/18 & 0.000902918 & -0.00409511 & 0.00373438 & 0.0121161 & 0.0110773 & $\\dots$ \\\\\n",
       "\t3 & 1/1/19 & 0.00216633 & 0.00248386 & -0.00434615 & -0.00600857 & -0.00900333 & $\\dots$ \\\\\n",
       "\t4 & 2/1/19 & -0.000355807 & -0.000136804 & 0.00488391 & 0.00108111 & 0.014504 & $\\dots$ \\\\\n",
       "\t5 & 3/1/19 & -0.00112315 & -0.00107352 & 0.000518506 & -0.0109998 & 0.00025883 & $\\dots$ \\\\\n",
       "\t6 & 4/1/19 & -0.000237273 & -8.91e-5 & 0.000682792 & -0.000536382 & 0.00149808 & $\\dots$ \\\\\n",
       "\\end{tabular}\n"
      ],
      "text/plain": [
       "6×121 DataFrame. Omitted printing of 116 columns\n",
       "│ Row │ date    │ RPI          │ W875RX1      │ DPCERA3M086SBEA │ CMRMTSPL     │\n",
       "│     │ \u001b[90mString\u001b[39m  │ \u001b[90mFloat64\u001b[39m      │ \u001b[90mFloat64\u001b[39m      │ \u001b[90mFloat64\u001b[39m         │ \u001b[90mFloat64⍰\u001b[39m     │\n",
       "├─────┼─────────┼──────────────┼──────────────┼─────────────────┼──────────────┤\n",
       "│ 1   │ 11/1/18 │ 0.00617598   │ 0.00738623   │ -0.0114453      │ -0.00109195  │\n",
       "│ 2   │ 12/1/18 │ 0.000902918  │ -0.00409511  │ 0.00373438      │ 0.0121161    │\n",
       "│ 3   │ 1/1/19  │ 0.00216633   │ 0.00248386   │ -0.00434615     │ -0.00600857  │\n",
       "│ 4   │ 2/1/19  │ -0.000355807 │ -0.000136804 │ 0.00488391      │ 0.00108111   │\n",
       "│ 5   │ 3/1/19  │ -0.00112315  │ -0.00107352  │ 0.000518506     │ -0.0109998   │\n",
       "│ 6   │ 4/1/19  │ -0.000237273 │ -8.91e-5     │ 0.000682792     │ -0.000536382 │"
      ]
     },
     "execution_count": 105,
     "metadata": {},
     "output_type": "execute_result"
    }
   ],
   "source": []
  },
  {
   "cell_type": "code",
   "execution_count": null,
   "metadata": {
    "collapsed": true
   },
   "outputs": [],
   "source": []
  },
  {
   "cell_type": "code",
   "execution_count": 102,
   "metadata": {},
   "outputs": [
    {
     "data": {
      "text/html": [
       "<table class=\"data-frame\"><thead><tr><th></th><th>GDPC1</th><th>GDPCTPI</th></tr><tr><th></th><th>Float64⍰</th><th>Float64⍰</th></tr></thead><tbody><p>6 rows × 2 columns</p><tr><th>1</th><td>missing</td><td>missing</td></tr><tr><th>2</th><td>missing</td><td>missing</td></tr><tr><th>3</th><td>-0.00241136</td><td>missing</td></tr><tr><th>4</th><td>missing</td><td>missing</td></tr><tr><th>5</th><td>missing</td><td>missing</td></tr><tr><th>6</th><td>missing</td><td>missing</td></tr></tbody></table>"
      ],
      "text/latex": [
       "\\begin{tabular}{r|cc}\n",
       "\t& GDPC1 & GDPCTPI\\\\\n",
       "\t\\hline\n",
       "\t& Float64⍰ & Float64⍰\\\\\n",
       "\t\\hline\n",
       "\t1 &  &  \\\\\n",
       "\t2 &  &  \\\\\n",
       "\t3 & -0.00241136 &  \\\\\n",
       "\t4 &  &  \\\\\n",
       "\t5 &  &  \\\\\n",
       "\t6 &  &  \\\\\n",
       "\\end{tabular}\n"
      ],
      "text/plain": [
       "6×2 DataFrame\n",
       "│ Row │ GDPC1       │ GDPCTPI  │\n",
       "│     │ \u001b[90mFloat64⍰\u001b[39m    │ \u001b[90mFloat64⍰\u001b[39m │\n",
       "├─────┼─────────────┼──────────┤\n",
       "│ 1   │ \u001b[90mmissing\u001b[39m     │ \u001b[90mmissing\u001b[39m  │\n",
       "│ 2   │ \u001b[90mmissing\u001b[39m     │ \u001b[90mmissing\u001b[39m  │\n",
       "│ 3   │ -0.00241136 │ \u001b[90mmissing\u001b[39m  │\n",
       "│ 4   │ \u001b[90mmissing\u001b[39m     │ \u001b[90mmissing\u001b[39m  │\n",
       "│ 5   │ \u001b[90mmissing\u001b[39m     │ \u001b[90mmissing\u001b[39m  │\n",
       "│ 6   │ \u001b[90mmissing\u001b[39m     │ \u001b[90mmissing\u001b[39m  │"
      ]
     },
     "execution_count": 102,
     "metadata": {},
     "output_type": "execute_result"
    }
   ],
   "source": []
  },
  {
   "cell_type": "code",
   "execution_count": null,
   "metadata": {
    "collapsed": true
   },
   "outputs": [],
   "source": []
  }
 ],
 "metadata": {
  "kernelspec": {
   "display_name": "Julia 1.1.0",
   "language": "julia",
   "name": "julia-1.1"
  },
  "language_info": {
   "file_extension": ".jl",
   "mimetype": "application/julia",
   "name": "julia",
   "version": "1.1.0"
  }
 },
 "nbformat": 4,
 "nbformat_minor": 2
}
