{
 "cells": [
  {
   "cell_type": "code",
   "execution_count": 1,
   "metadata": {
    "collapsed": true
   },
   "outputs": [],
   "source": [
    "### Load packages\n",
    "using LinearAlgebra\n",
    "using Plots\n",
    "using DataFrames, CSV, HypothesisTests\n",
    "using Statistics\n",
    "using Dates\n",
    "using RDatasets, MultivariateStats # for PCA"
   ]
  },
  {
   "cell_type": "code",
   "execution_count": null,
   "metadata": {
    "collapsed": true
   },
   "outputs": [],
   "source": []
  },
  {
   "cell_type": "code",
   "execution_count": 8,
   "metadata": {},
   "outputs": [
    {
     "data": {
      "text/plain": [
       "go_backward (generic function with 1 method)"
      ]
     },
     "execution_count": 8,
     "metadata": {},
     "output_type": "execute_result"
    }
   ],
   "source": [
    "mutable struct Kalman\n",
    "    A\n",
    "    G\n",
    "    Q\n",
    "    R\n",
    "    E # New matrix for external variable\n",
    "    k\n",
    "    n\n",
    "    cur_x_hat\n",
    "    cur_sigma\n",
    "end\n",
    "\n",
    "\n",
    "# Initializes current mean and cov to zeros\n",
    "function Kalman(A, G, Q, R, E )\n",
    "    k = size(G, 1)\n",
    "    n = size(G, 2)\n",
    "    xhat = n == 1 ? zero(eltype(A)) : zeros(n)\n",
    "    Sigma = n == 1 ? zero(eltype(A)) : zeros(n, n)\n",
    "    return Kalman(A, G, Q, R, E, k, n, xhat, Sigma)\n",
    "end\n",
    "\n",
    "function set_state!(k::Kalman, x_hat, Sigma)\n",
    "    k.cur_x_hat = x_hat\n",
    "    k.cur_sigma = Sigma\n",
    "    Nothing\n",
    "end\n",
    "\n",
    "### Our function doesn't work when we have some missing external regressors. \n",
    "function prior_to_filtered!(k::Kalman, y::AbstractVector, external = 1)\n",
    "    # simplify notation\n",
    "    G, R, E = k.G, k.R, k.E\n",
    "    x_hat, Sigma = k.cur_x_hat, k.cur_sigma\n",
    "    \n",
    "    ### Change NaN into missing\n",
    "    y = replace(y, NaN => missing)\n",
    "    \n",
    "    ### Deal with missing observation (missing)\n",
    "    if size(y) != size(collect(skipmissing(y)))\n",
    "        j = Array{Bool}(undef,length(y))\n",
    "        l = ismissing.(y)\n",
    "        for i in 1:length(y)\n",
    "            j[i] = !l[i]\n",
    "        end\n",
    "        \n",
    "        ## Change dimension of valid input, and matrices\n",
    "        y = y[j]\n",
    "        G = G[j,:]\n",
    "        R = R[j,j]\n",
    "        E = E[j,:]\n",
    "    end\n",
    "    \n",
    "    # and then update\n",
    "    A = Sigma*G'\n",
    "    B = G*Sigma*G' + R\n",
    "    M = A / B\n",
    "    \n",
    "    k.cur_x_hat = x_hat + M * (y - (G * x_hat) - (E * (external))) ### Add external variables\n",
    "    k.cur_sigma = Sigma - M * G * Sigma\n",
    "    Nothing\n",
    "end\n",
    "\n",
    "function filtered_to_forecast!(k::Kalman)\n",
    "    # simplify notation\n",
    "    A, Q = k.A, k.Q\n",
    "    x_hat, Sigma = k.cur_x_hat, k.cur_sigma\n",
    "\n",
    "    # and then update\n",
    "    k.cur_x_hat = A * x_hat\n",
    "    k.cur_sigma = A * Sigma * A' + Q\n",
    "    Nothing\n",
    "end\n",
    "\n",
    "function log_likelihood(k::Kalman, y::AbstractVector, external = 1)\n",
    "    # Simplify notation\n",
    "    G, R, E = k.G, k.R, k.E\n",
    "    x_hat, Sigma = k.cur_x_hat, k.cur_sigma\n",
    "    \n",
    "    ### Change NaN into missing\n",
    "    y = replace(y, NaN => missing)\n",
    "    \n",
    "    ### Deal with missing observation (missing)\n",
    "    if size(y) != size(collect(skipmissing(y)))\n",
    "        j = Array{Bool}(undef,length(y))\n",
    "        k = ismissing.(y)\n",
    "        for i in 1:length(y)\n",
    "            j[i] = !k[i]\n",
    "        end\n",
    "        ## Change dimension of valid input, and matrices\n",
    "        y = y[j]\n",
    "        G = G[j,:]\n",
    "        R = R[j,j]\n",
    "        E = E[j,:]\n",
    "        println(y)\n",
    "        println(G)\n",
    "        println(R)\n",
    "        println(E)\n",
    "    end\n",
    "    \n",
    "    eta = y - G*x_hat - E*external # forecast error\n",
    "    P = G*Sigma*G' + R # covariance matrix of forecast error\n",
    "    logL = - (length(y)*log(2pi) + logdet(P) .+ eta'/P*eta)[1]/2\n",
    "    return logL\n",
    "end\n",
    "\n",
    "function compute_loglikelihood(kn::Kalman, y::AbstractMatrix, external = 1)\n",
    "    T = size(y, 2)\n",
    "    logL = 0\n",
    "    \n",
    "    \n",
    "    # forecast and update\n",
    "    if external == 1\n",
    "        for t in 1:T\n",
    "            logL = logL + log_likelihood(kn, y[:,t])\n",
    "            update!(kn, y[:, t])\n",
    "        end\n",
    "    else\n",
    "        for t in 1:T\n",
    "            logL = logL + log_likelihood(kn, y[:,t], external[:,t])\n",
    "            update!(kn, y[:, t], external[:,t])\n",
    "        end\n",
    "    end\n",
    "\n",
    "    return logL\n",
    "end\n",
    "\n",
    "function update!(k::Kalman, y, external = 1)\n",
    "    prior_to_filtered!(k, y, external)\n",
    "    filtered_to_forecast!(k)\n",
    "    Nothing\n",
    "end\n",
    "\n",
    "function smooth(kn::Kalman, y::DataFrame, external::DataFrame)\n",
    "    G, R = kn.G, kn.R\n",
    "\n",
    "    T = size(y, 2)\n",
    "    n = kn.n\n",
    "    x_filtered = Matrix{Float64}(undef, n, T)\n",
    "    sigma_filtered = Array{Float64}(undef, n, n, T)\n",
    "    sigma_forecast = Array{Float64}(undef, n, n, T)\n",
    "    logL = 0\n",
    "    # forecast and update\n",
    "    for t in 1:T\n",
    "        logL = logL + log_likelihood(kn, y[:, t], external[:,t])\n",
    "        prior_to_filtered!(kn, y[:, t], external[:,t])\n",
    "        x_filtered[:, t], sigma_filtered[:, :, t] = kn.cur_x_hat, kn.cur_sigma\n",
    "        filtered_to_forecast!(kn)\n",
    "        sigma_forecast[:, :, t] = kn.cur_sigma\n",
    "    end\n",
    "    # smoothing\n",
    "    x_smoothed = copy(x_filtered)\n",
    "    sigma_smoothed = copy(sigma_filtered)\n",
    "    for t in (T-1):-1:1\n",
    "        x_smoothed[:, t], sigma_smoothed[:, :, t] =\n",
    "            go_backward(kn, x_filtered[:, t], sigma_filtered[:, :, t],\n",
    "                        sigma_forecast[:, :, t], x_smoothed[:, t+1],\n",
    "                        sigma_smoothed[:, :, t+1])\n",
    "    end\n",
    "\n",
    "    return x_smoothed, logL, sigma_smoothed\n",
    "end\n",
    "\n",
    "function go_backward(k::Kalman, x_fi::Vector,\n",
    "                     sigma_fi::Matrix, sigma_fo::Matrix,\n",
    "                     x_s1::Vector, sigma_s1::Matrix)\n",
    "    A = k.A\n",
    "    temp = sigma_fi*A'/sigma_fo\n",
    "    x_s = x_fi + temp*(x_s1-A*x_fi)\n",
    "    sigma_s = sigma_fi + temp*(sigma_s1-sigma_fo)*temp'\n",
    "    return x_s, sigma_s\n",
    "end"
   ]
  },
  {
   "cell_type": "code",
   "execution_count": 9,
   "metadata": {
    "scrolled": true
   },
   "outputs": [
    {
     "data": {
      "text/plain": [
       "check_kalman (generic function with 1 method)"
      ]
     },
     "execution_count": 9,
     "metadata": {},
     "output_type": "execute_result"
    }
   ],
   "source": [
    "function check_kalman(k::Kalman, y::DataFrame)\n",
    "    ### Initiate error counter\n",
    "    counter = 0\n",
    "    \n",
    "    ### Checking type of input\n",
    "    if typeof(G) != Array{Float64,1} && typeof(G) != Array{Float64,2} &&\n",
    "        typeof(G) != Array{Int64,1} && typeof(G) != Array{Int64,2}\n",
    "        return \"G should be a matrix.\"\n",
    "    end\n",
    "    n = size(G,1)\n",
    "    r = size(G,2)\n",
    "    \n",
    "    if r == 1\n",
    "        if typeof(A) != Array{Float64,1} && typeof(A) != Array{Int64,1}\n",
    "            println(\"A has to be 1x1 matrix.\")\n",
    "            counter = counter + 1\n",
    "        end\n",
    "        if typeof(Q) != Array{Float64,1} && typeof(Q) != Array{Int64,1}\n",
    "            println(\"Q has to be 1x1 matrix.\")\n",
    "            counter = counter + 1\n",
    "        end\n",
    "    else\n",
    "        if typeof(A) != Array{Float64,2} && typeof(A) != Array{Int64, 2}\n",
    "            println(\"A has to be a matrix.\")\n",
    "            counter = counter + 1 \n",
    "        end\n",
    "        if typeof(Q) != Array{Float64,2} && typeof(Q) != Array{Int64, 2}\n",
    "            println(\"Q has to be a matrix.\")\n",
    "            counter = counter + 1\n",
    "        end\n",
    "        if size(A) != (r,r)\n",
    "            println(\"A should be $r x $r square matrix.\")\n",
    "            counter = counter + 1\n",
    "        end\n",
    "        if size(Q) != (r,r)\n",
    "            println(\"Q should be $r x $r square matrix.\")\n",
    "            counter = counter + 1\n",
    "        end\n",
    "    end\n",
    "    \n",
    "    if n == 1\n",
    "        if typeof(R) != Array{Float64,1} && typeof(R) != Array{Int64,1}\n",
    "            println(\"R has to be 1x1 matrix.\")\n",
    "            counter = counter + 1\n",
    "        end\n",
    "    else\n",
    "        if typeof(R) != Array{Float64,2} && typeof(R) != Array{Int64,2}\n",
    "            println(\"R has to be a matrix.\")\n",
    "            counter = counter + 1\n",
    "        end\n",
    "        if size(R) != (n,n)\n",
    "            println(\"R should be $n x $n square matrix.\")\n",
    "            counter = counter + 1\n",
    "        end\n",
    "    end\n",
    "    \n",
    "    if size(E,1) != n\n",
    "        println(\"E should have $r rows.\")\n",
    "        counter = counter + 1\n",
    "    end\n",
    "    \n",
    "    ### Checking the dimension of dataset\n",
    "    if (size(y,1) != n)\n",
    "        println(\"observation should be $r x 1 matrix.\")\n",
    "        counter = counter + 1\n",
    "    end \n",
    "    \n",
    "        \n",
    "    ### Result of dianostic\n",
    "    if counter == 0\n",
    "        return \"We set up correctly!\"\n",
    "    end\n",
    "    return \"the setup should be as specified above.\"\n",
    "end"
   ]
  },
  {
   "cell_type": "code",
   "execution_count": null,
   "metadata": {
    "collapsed": true
   },
   "outputs": [],
   "source": []
  },
  {
   "cell_type": "code",
   "execution_count": null,
   "metadata": {
    "collapsed": true
   },
   "outputs": [],
   "source": []
  },
  {
   "cell_type": "code",
   "execution_count": null,
   "metadata": {
    "collapsed": true
   },
   "outputs": [],
   "source": []
  },
  {
   "cell_type": "code",
   "execution_count": 2,
   "metadata": {},
   "outputs": [
    {
     "data": {
      "text/html": [
       "<table class=\"data-frame\"><thead><tr><th></th><th>date</th><th>RPI</th><th>W875RX1</th><th>DPCERA3M086SBEA</th><th>CMRMTSPL</th><th>MRTSSM44X72USS</th></tr><tr><th></th><th>Date⍰</th><th>Float64⍰</th><th>Float64⍰</th><th>Float64⍰</th><th>Float64⍰</th><th>Float64⍰</th></tr></thead><tbody><p>725 rows × 128 columns (omitted printing of 122 columns)</p><tr><th>1</th><td>1959-01-01</td><td>0.00393351</td><td>0.00357626</td><td>0.0103497</td><td>missing</td><td>missing</td></tr><tr><th>2</th><td>1959-02-01</td><td>0.00643111</td><td>0.00737371</td><td>0.00939402</td><td>missing</td><td>missing</td></tr><tr><th>3</th><td>1959-03-01</td><td>0.00649814</td><td>0.00701939</td><td>-0.0035764</td><td>missing</td><td>missing</td></tr><tr><th>4</th><td>1959-04-01</td><td>0.00582628</td><td>0.00662948</td><td>0.0119843</td><td>missing</td><td>missing</td></tr><tr><th>5</th><td>1959-05-01</td><td>0.003108</td><td>0.00302211</td><td>0.00364585</td><td>missing</td><td>missing</td></tr><tr><th>6</th><td>1959-06-01</td><td>-0.00058554</td><td>-0.00080784</td><td>-0.00336493</td><td>missing</td><td>missing</td></tr><tr><th>7</th><td>1959-07-01</td><td>-0.00569527</td><td>-0.00571601</td><td>0.0059929</td><td>missing</td><td>missing</td></tr><tr><th>8</th><td>1959-08-01</td><td>0.000788317</td><td>-4.27798e-5</td><td>0.0100012</td><td>missing</td><td>missing</td></tr><tr><th>9</th><td>1959-09-01</td><td>0.00122307</td><td>0.00119714</td><td>-0.00682331</td><td>missing</td><td>missing</td></tr><tr><th>10</th><td>1959-10-01</td><td>0.00759616</td><td>0.00668614</td><td>-0.00044541</td><td>missing</td><td>missing</td></tr><tr><th>11</th><td>1959-11-01</td><td>0.0101968</td><td>0.011353</td><td>-0.00111439</td><td>missing</td><td>missing</td></tr><tr><th>12</th><td>1959-12-01</td><td>0.00319287</td><td>0.00464737</td><td>0.00278366</td><td>missing</td><td>missing</td></tr><tr><th>13</th><td>1960-01-01</td><td>0.00114478</td><td>0.000918542</td><td>0.00432709</td><td>missing</td><td>missing</td></tr><tr><th>14</th><td>1960-02-01</td><td>0.00190976</td><td>0.000917699</td><td>0.0140716</td><td>missing</td><td>missing</td></tr><tr><th>15</th><td>1960-03-01</td><td>0.00342582</td><td>0.00362086</td><td>0.0153824</td><td>missing</td><td>missing</td></tr><tr><th>16</th><td>1960-04-01</td><td>0.00240288</td><td>0.00244808</td><td>-0.0204166</td><td>missing</td><td>missing</td></tr><tr><th>17</th><td>1960-05-01</td><td>0.000789293</td><td>-0.000248684</td><td>-0.000219455</td><td>missing</td><td>missing</td></tr><tr><th>18</th><td>1960-06-01</td><td>0.00183214</td><td>0.001905</td><td>0.00202812</td><td>missing</td><td>missing</td></tr><tr><th>19</th><td>1960-07-01</td><td>-0.00162382</td><td>-0.00256846</td><td>-0.000931328</td><td>missing</td><td>missing</td></tr><tr><th>20</th><td>1960-08-01</td><td>0.0012743</td><td>0.000290318</td><td>0.0047571</td><td>missing</td><td>missing</td></tr><tr><th>21</th><td>1960-09-01</td><td>0.00295363</td><td>0.00314661</td><td>0.00484315</td><td>missing</td><td>missing</td></tr><tr><th>22</th><td>1960-10-01</td><td>-0.00429412</td><td>-0.00576251</td><td>-0.00348035</td><td>missing</td><td>missing</td></tr><tr><th>23</th><td>1960-11-01</td><td>-0.00456999</td><td>-0.00587955</td><td>-0.0123326</td><td>missing</td><td>missing</td></tr><tr><th>24</th><td>1960-12-01</td><td>0.00892226</td><td>0.00870277</td><td>0.00242371</td><td>missing</td><td>missing</td></tr><tr><th>25</th><td>1961-01-01</td><td>0.00381873</td><td>8.29153e-5</td><td>0.0036794</td><td>missing</td><td>missing</td></tr><tr><th>26</th><td>1961-02-01</td><td>0.0041231</td><td>0.00492113</td><td>0.0123663</td><td>missing</td><td>missing</td></tr><tr><th>27</th><td>1961-03-01</td><td>0.0021688</td><td>0.0034181</td><td>0.000487158</td><td>missing</td><td>missing</td></tr><tr><th>28</th><td>1961-04-01</td><td>0.00774878</td><td>0.00594349</td><td>0.00604264</td><td>missing</td><td>missing</td></tr><tr><th>29</th><td>1961-05-01</td><td>0.00937247</td><td>0.00801877</td><td>0.0024176</td><td>missing</td><td>missing</td></tr><tr><th>30</th><td>1961-06-01</td><td>0.00284996</td><td>0.0023891</td><td>-0.00300946</td><td>missing</td><td>missing</td></tr><tr><th>&vellip;</th><td>&vellip;</td><td>&vellip;</td><td>&vellip;</td><td>&vellip;</td><td>&vellip;</td><td>&vellip;</td></tr></tbody></table>"
      ],
      "text/latex": [
       "\\begin{tabular}{r|ccccccc}\n",
       "\t& date & RPI & W875RX1 & DPCERA3M086SBEA & CMRMTSPL & MRTSSM44X72USS & \\\\\n",
       "\t\\hline\n",
       "\t& Date⍰ & Float64⍰ & Float64⍰ & Float64⍰ & Float64⍰ & Float64⍰ & \\\\\n",
       "\t\\hline\n",
       "\t1 & 1959-01-01 & 0.00393351 & 0.00357626 & 0.0103497 &  &  & $\\dots$ \\\\\n",
       "\t2 & 1959-02-01 & 0.00643111 & 0.00737371 & 0.00939402 &  &  & $\\dots$ \\\\\n",
       "\t3 & 1959-03-01 & 0.00649814 & 0.00701939 & -0.0035764 &  &  & $\\dots$ \\\\\n",
       "\t4 & 1959-04-01 & 0.00582628 & 0.00662948 & 0.0119843 &  &  & $\\dots$ \\\\\n",
       "\t5 & 1959-05-01 & 0.003108 & 0.00302211 & 0.00364585 &  &  & $\\dots$ \\\\\n",
       "\t6 & 1959-06-01 & -0.00058554 & -0.00080784 & -0.00336493 &  &  & $\\dots$ \\\\\n",
       "\t7 & 1959-07-01 & -0.00569527 & -0.00571601 & 0.0059929 &  &  & $\\dots$ \\\\\n",
       "\t8 & 1959-08-01 & 0.000788317 & -4.27798e-5 & 0.0100012 &  &  & $\\dots$ \\\\\n",
       "\t9 & 1959-09-01 & 0.00122307 & 0.00119714 & -0.00682331 &  &  & $\\dots$ \\\\\n",
       "\t10 & 1959-10-01 & 0.00759616 & 0.00668614 & -0.00044541 &  &  & $\\dots$ \\\\\n",
       "\t11 & 1959-11-01 & 0.0101968 & 0.011353 & -0.00111439 &  &  & $\\dots$ \\\\\n",
       "\t12 & 1959-12-01 & 0.00319287 & 0.00464737 & 0.00278366 &  &  & $\\dots$ \\\\\n",
       "\t13 & 1960-01-01 & 0.00114478 & 0.000918542 & 0.00432709 &  &  & $\\dots$ \\\\\n",
       "\t14 & 1960-02-01 & 0.00190976 & 0.000917699 & 0.0140716 &  &  & $\\dots$ \\\\\n",
       "\t15 & 1960-03-01 & 0.00342582 & 0.00362086 & 0.0153824 &  &  & $\\dots$ \\\\\n",
       "\t16 & 1960-04-01 & 0.00240288 & 0.00244808 & -0.0204166 &  &  & $\\dots$ \\\\\n",
       "\t17 & 1960-05-01 & 0.000789293 & -0.000248684 & -0.000219455 &  &  & $\\dots$ \\\\\n",
       "\t18 & 1960-06-01 & 0.00183214 & 0.001905 & 0.00202812 &  &  & $\\dots$ \\\\\n",
       "\t19 & 1960-07-01 & -0.00162382 & -0.00256846 & -0.000931328 &  &  & $\\dots$ \\\\\n",
       "\t20 & 1960-08-01 & 0.0012743 & 0.000290318 & 0.0047571 &  &  & $\\dots$ \\\\\n",
       "\t21 & 1960-09-01 & 0.00295363 & 0.00314661 & 0.00484315 &  &  & $\\dots$ \\\\\n",
       "\t22 & 1960-10-01 & -0.00429412 & -0.00576251 & -0.00348035 &  &  & $\\dots$ \\\\\n",
       "\t23 & 1960-11-01 & -0.00456999 & -0.00587955 & -0.0123326 &  &  & $\\dots$ \\\\\n",
       "\t24 & 1960-12-01 & 0.00892226 & 0.00870277 & 0.00242371 &  &  & $\\dots$ \\\\\n",
       "\t25 & 1961-01-01 & 0.00381873 & 8.29153e-5 & 0.0036794 &  &  & $\\dots$ \\\\\n",
       "\t26 & 1961-02-01 & 0.0041231 & 0.00492113 & 0.0123663 &  &  & $\\dots$ \\\\\n",
       "\t27 & 1961-03-01 & 0.0021688 & 0.0034181 & 0.000487158 &  &  & $\\dots$ \\\\\n",
       "\t28 & 1961-04-01 & 0.00774878 & 0.00594349 & 0.00604264 &  &  & $\\dots$ \\\\\n",
       "\t29 & 1961-05-01 & 0.00937247 & 0.00801877 & 0.0024176 &  &  & $\\dots$ \\\\\n",
       "\t30 & 1961-06-01 & 0.00284996 & 0.0023891 & -0.00300946 &  &  & $\\dots$ \\\\\n",
       "\t$\\dots$ & $\\dots$ & $\\dots$ & $\\dots$ & $\\dots$ & $\\dots$ & $\\dots$ &  \\\\\n",
       "\\end{tabular}\n"
      ],
      "text/plain": [
       "725×128 DataFrame. Omitted printing of 124 columns\n",
       "│ Row │ date       │ RPI          │ W875RX1      │ DPCERA3M086SBEA │\n",
       "│     │ \u001b[90mDate⍰\u001b[39m      │ \u001b[90mFloat64⍰\u001b[39m     │ \u001b[90mFloat64⍰\u001b[39m     │ \u001b[90mFloat64⍰\u001b[39m        │\n",
       "├─────┼────────────┼──────────────┼──────────────┼─────────────────┤\n",
       "│ 1   │ 1959-01-01 │ 0.00393351   │ 0.00357626   │ 0.0103497       │\n",
       "│ 2   │ 1959-02-01 │ 0.00643111   │ 0.00737371   │ 0.00939402      │\n",
       "│ 3   │ 1959-03-01 │ 0.00649814   │ 0.00701939   │ -0.0035764      │\n",
       "│ 4   │ 1959-04-01 │ 0.00582628   │ 0.00662948   │ 0.0119843       │\n",
       "│ 5   │ 1959-05-01 │ 0.003108     │ 0.00302211   │ 0.00364585      │\n",
       "│ 6   │ 1959-06-01 │ -0.00058554  │ -0.00080784  │ -0.00336493     │\n",
       "│ 7   │ 1959-07-01 │ -0.00569527  │ -0.00571601  │ 0.0059929       │\n",
       "│ 8   │ 1959-08-01 │ 0.000788317  │ -4.27798e-5  │ 0.0100012       │\n",
       "│ 9   │ 1959-09-01 │ 0.00122307   │ 0.00119714   │ -0.00682331     │\n",
       "│ 10  │ 1959-10-01 │ 0.00759616   │ 0.00668614   │ -0.00044541     │\n",
       "⋮\n",
       "│ 715 │ 2018-07-01 │ 0.00369022   │ 0.00399845   │ 0.0032816       │\n",
       "│ 716 │ 2018-08-01 │ -0.000812549 │ -0.000862197 │ -0.000287133    │\n",
       "│ 717 │ 2018-09-01 │ 0.000947668  │ 0.000637663  │ 0.00387777      │\n",
       "│ 718 │ 2018-10-01 │ 0.000999845  │ 0.00140432   │ 0.00255447      │\n",
       "│ 719 │ 2018-11-01 │ 0.00885689   │ 0.00989719   │ -0.00876614     │\n",
       "│ 720 │ 2018-12-01 │ 0.00358382   │ -0.00158416  │ 0.00641358      │\n",
       "│ 721 │ 2019-01-01 │ 0.00484724   │ 0.00499482   │ -0.00166695     │\n",
       "│ 722 │ 2019-02-01 │ 0.0023251    │ 0.00237415   │ 0.00756311      │\n",
       "│ 723 │ 2019-03-01 │ 0.00155775   │ 0.00143744   │ 0.00319771      │\n",
       "│ 724 │ 2019-04-01 │ 0.00244363   │ 0.00242188   │ 0.00336199      │\n",
       "│ 725 │ \u001b[90mmissing\u001b[39m    │ \u001b[90mmissing\u001b[39m      │ \u001b[90mmissing\u001b[39m      │ \u001b[90mmissing\u001b[39m         │"
      ]
     },
     "execution_count": 2,
     "metadata": {},
     "output_type": "execute_result"
    }
   ],
   "source": [
    "datra = CSV.read(\"epic_matrix_quarterly.csv\")"
   ]
  },
  {
   "cell_type": "markdown",
   "metadata": {},
   "source": [
    "### 1. demeaning observation"
   ]
  },
  {
   "cell_type": "code",
   "execution_count": 3,
   "metadata": {},
   "outputs": [
    {
     "name": "stdout",
     "output_type": "stream",
     "text": [
      "0.002680903028916844\n",
      "0.002510959041484842\n",
      "0.002679198788509781\n",
      "0.002172054491574117\n",
      "0.003505434687908145\n",
      "0.002174513917737261\n",
      "0.002062279626846661\n",
      "0.002122725235089939\n",
      "0.0016272045515276226\n",
      "0.002353644156078295\n",
      "0.001364491930126037\n",
      "0.003509447452772167\n",
      "0.0023294956406565187\n",
      "0.002956389376440745\n",
      "0.0016727666104089784\n",
      "0.0022062231033191607\n",
      "0.0023368939586762578\n",
      "0.0014645458860395916\n",
      "-0.006585497237569057\n",
      "0.0012058148817851286\n",
      "0.0012401723223976011\n",
      "-0.0033149171270718232\n",
      "0.010773480662983422\n",
      "0.0004288002332892715\n",
      "0.0003976462811957301\n",
      "0.0005620120822922685\n",
      "0.000409505008844792\n",
      "0.0006650155930904974\n",
      "0.0034508300327457577\n",
      "0.0014604637414962912\n",
      "0.00015820209573804073\n",
      "-3.879821285988023e-6\n",
      "0.0012656872268337828\n",
      "-0.0002150043309828543\n",
      "-0.00011221657858879582\n",
      "-0.00037270524356778\n",
      "0.0018653975182767494\n",
      "0.0013096021592589268\n",
      "0.0011567690490889586\n",
      "0.0014934545524258782\n",
      "0.0017614806214247593\n",
      "0.0014110046204204338\n",
      "40.26491712707177\n",
      "0.002348066298342542\n",
      "40.758149171270745\n",
      "7.222039890478135\n",
      "5.078735734169152\n",
      "5.564626239377712\n",
      "6.402145486194077\n",
      "5.780042561896577\n",
      "7.167435656231922\n",
      "5.086596963010998\n",
      "5.5028812480063785\n",
      "6.286850981019783\n",
      "5.792473026356955\n",
      "0.002745808766263871\n",
      "0.002273996719338735\n",
      "0.0021681062971632605\n",
      "0.0027675036135062815\n",
      "0.002817112766269519\n",
      "-0.0005182926829268297\n",
      "9.560905294749157e-6\n",
      "7.701797852928213e-6\n",
      "0.002429204578134516\n",
      "7.246329749392043e-6\n",
      "4.525932077604208e-5\n",
      "351100.9571823204\n",
      "3.298671798692441e-6\n",
      "-1.4673348550222792e-5\n",
      "-8.795316541815527e-6\n",
      "-1.560523597468201e-8\n",
      "4.117274642825544e-5\n",
      "-0.00037671571652526166\n",
      "-0.0011570247933884307\n",
      "-0.0001243093922651944\n",
      "0.003132911392405061\n",
      "-0.0006491712707182323\n",
      "-0.0010220994475138062\n",
      "-0.0014088397790055253\n",
      "-0.0025138121546961316\n",
      "-0.002237569060773479\n",
      "-0.0006215469613259658\n",
      "-0.00033149171270718385\n",
      "0.07488235294117646\n",
      "-0.45349447513812075\n",
      "-0.3106077348066295\n",
      "0.0642541436464087\n",
      "0.7460497237569059\n",
      "1.0678038674033155\n",
      "2.0505248618784524\n",
      "3.0561325966850865\n",
      "-0.00028021016446065986\n",
      "-0.0024986270030420295\n",
      "-0.0020351181358198083\n",
      "-0.0010805771394034962\n",
      "0.0004920798419773059\n",
      "-1.020247681014322e-5\n",
      "-9.510357538940004e-6\n",
      "-1.9093187779777406e-5\n",
      "-3.756636460636191e-5\n",
      "-0.00014772224838769616\n",
      "-1.2613927573581657e-5\n",
      "1.2879466447833414e-6\n",
      "1.8608277409449072e-5\n",
      "-1.4156621533260991e-5\n",
      "-2.5652442413408866e-6\n",
      "-2.837740019420981e-6\n",
      "6.449225690005504e-6\n",
      "-3.0092016475492836e-6\n",
      "8.45834687618985e-7\n",
      "-9.156844829111553e-7\n",
      "5.100039947056461e-7\n",
      "3.754843187014451e-7\n",
      "5.739716628069656e-6\n",
      "-6.397933201858551e-6\n",
      "1.0923376150261344e-6\n",
      "-3.671722442135484e-6\n",
      "-5.140565953502457e-6\n",
      "-2.3742744607051295e-6\n",
      "0.03286290322580645\n",
      "1.0435369769434699e-5\n",
      "3.845214483823752e-6\n",
      "2.3851353386507436e-6\n",
      "2.5333289454388026e-5\n",
      "19.550515873015875\n",
      "0.0074989151699904055\n",
      "1.2644455203160894e-5\n"
     ]
    },
    {
     "data": {
      "text/html": [
       "<table class=\"data-frame\"><thead><tr><th></th><th>date</th><th>RPI</th><th>W875RX1</th><th>DPCERA3M086SBEA</th><th>CMRMTSPL</th><th>MRTSSM44X72USS</th></tr><tr><th></th><th>Date⍰</th><th>Float64⍰</th><th>Float64⍰</th><th>Float64⍰</th><th>Float64⍰</th><th>Float64⍰</th></tr></thead><tbody><p>725 rows × 128 columns (omitted printing of 122 columns)</p><tr><th>1</th><td>1959-01-01</td><td>0.0012526</td><td>0.0010653</td><td>0.00767048</td><td>missing</td><td>missing</td></tr><tr><th>2</th><td>1959-02-01</td><td>0.0037502</td><td>0.00486275</td><td>0.00671482</td><td>missing</td><td>missing</td></tr><tr><th>3</th><td>1959-03-01</td><td>0.00381723</td><td>0.00450843</td><td>-0.0062556</td><td>missing</td><td>missing</td></tr><tr><th>4</th><td>1959-04-01</td><td>0.00314537</td><td>0.00411852</td><td>0.00930512</td><td>missing</td><td>missing</td></tr><tr><th>5</th><td>1959-05-01</td><td>0.000427094</td><td>0.000511156</td><td>0.000966653</td><td>missing</td><td>missing</td></tr><tr><th>6</th><td>1959-06-01</td><td>-0.00326644</td><td>-0.0033188</td><td>-0.00604413</td><td>missing</td><td>missing</td></tr><tr><th>7</th><td>1959-07-01</td><td>-0.00837617</td><td>-0.00822697</td><td>0.00331371</td><td>missing</td><td>missing</td></tr><tr><th>8</th><td>1959-08-01</td><td>-0.00189259</td><td>-0.00255374</td><td>0.007322</td><td>missing</td><td>missing</td></tr><tr><th>9</th><td>1959-09-01</td><td>-0.00145783</td><td>-0.00131381</td><td>-0.00950251</td><td>missing</td><td>missing</td></tr><tr><th>10</th><td>1959-10-01</td><td>0.00491525</td><td>0.00417518</td><td>-0.00312461</td><td>missing</td><td>missing</td></tr><tr><th>11</th><td>1959-11-01</td><td>0.00751591</td><td>0.00884201</td><td>-0.00379359</td><td>missing</td><td>missing</td></tr><tr><th>12</th><td>1959-12-01</td><td>0.00051197</td><td>0.00213641</td><td>0.000104457</td><td>missing</td><td>missing</td></tr><tr><th>13</th><td>1960-01-01</td><td>-0.00153613</td><td>-0.00159242</td><td>0.00164789</td><td>missing</td><td>missing</td></tr><tr><th>14</th><td>1960-02-01</td><td>-0.000771147</td><td>-0.00159326</td><td>0.0113924</td><td>missing</td><td>missing</td></tr><tr><th>15</th><td>1960-03-01</td><td>0.000744914</td><td>0.0011099</td><td>0.0127032</td><td>missing</td><td>missing</td></tr><tr><th>16</th><td>1960-04-01</td><td>-0.000278025</td><td>-6.28758e-5</td><td>-0.0230958</td><td>missing</td><td>missing</td></tr><tr><th>17</th><td>1960-05-01</td><td>-0.00189161</td><td>-0.00275964</td><td>-0.00289865</td><td>missing</td><td>missing</td></tr><tr><th>18</th><td>1960-06-01</td><td>-0.000848764</td><td>-0.00060596</td><td>-0.000651078</td><td>missing</td><td>missing</td></tr><tr><th>19</th><td>1960-07-01</td><td>-0.00430472</td><td>-0.00507942</td><td>-0.00361053</td><td>missing</td><td>missing</td></tr><tr><th>20</th><td>1960-08-01</td><td>-0.0014066</td><td>-0.00222064</td><td>0.0020779</td><td>missing</td><td>missing</td></tr><tr><th>21</th><td>1960-09-01</td><td>0.000272724</td><td>0.000635651</td><td>0.00216395</td><td>missing</td><td>missing</td></tr><tr><th>22</th><td>1960-10-01</td><td>-0.00697502</td><td>-0.00827347</td><td>-0.00615954</td><td>missing</td><td>missing</td></tr><tr><th>23</th><td>1960-11-01</td><td>-0.00725089</td><td>-0.00839051</td><td>-0.0150118</td><td>missing</td><td>missing</td></tr><tr><th>24</th><td>1960-12-01</td><td>0.00624135</td><td>0.00619181</td><td>-0.000255489</td><td>missing</td><td>missing</td></tr><tr><th>25</th><td>1961-01-01</td><td>0.00113783</td><td>-0.00242804</td><td>0.0010002</td><td>missing</td><td>missing</td></tr><tr><th>26</th><td>1961-02-01</td><td>0.0014422</td><td>0.00241017</td><td>0.00968715</td><td>missing</td><td>missing</td></tr><tr><th>27</th><td>1961-03-01</td><td>-0.000512103</td><td>0.000907144</td><td>-0.00219204</td><td>missing</td><td>missing</td></tr><tr><th>28</th><td>1961-04-01</td><td>0.00506788</td><td>0.00343253</td><td>0.00336344</td><td>missing</td><td>missing</td></tr><tr><th>29</th><td>1961-05-01</td><td>0.00669157</td><td>0.00550781</td><td>-0.000261597</td><td>missing</td><td>missing</td></tr><tr><th>30</th><td>1961-06-01</td><td>0.000169059</td><td>-0.000121859</td><td>-0.00568866</td><td>missing</td><td>missing</td></tr><tr><th>&vellip;</th><td>&vellip;</td><td>&vellip;</td><td>&vellip;</td><td>&vellip;</td><td>&vellip;</td><td>&vellip;</td></tr></tbody></table>"
      ],
      "text/latex": [
       "\\begin{tabular}{r|ccccccc}\n",
       "\t& date & RPI & W875RX1 & DPCERA3M086SBEA & CMRMTSPL & MRTSSM44X72USS & \\\\\n",
       "\t\\hline\n",
       "\t& Date⍰ & Float64⍰ & Float64⍰ & Float64⍰ & Float64⍰ & Float64⍰ & \\\\\n",
       "\t\\hline\n",
       "\t1 & 1959-01-01 & 0.0012526 & 0.0010653 & 0.00767048 &  &  & $\\dots$ \\\\\n",
       "\t2 & 1959-02-01 & 0.0037502 & 0.00486275 & 0.00671482 &  &  & $\\dots$ \\\\\n",
       "\t3 & 1959-03-01 & 0.00381723 & 0.00450843 & -0.0062556 &  &  & $\\dots$ \\\\\n",
       "\t4 & 1959-04-01 & 0.00314537 & 0.00411852 & 0.00930512 &  &  & $\\dots$ \\\\\n",
       "\t5 & 1959-05-01 & 0.000427094 & 0.000511156 & 0.000966653 &  &  & $\\dots$ \\\\\n",
       "\t6 & 1959-06-01 & -0.00326644 & -0.0033188 & -0.00604413 &  &  & $\\dots$ \\\\\n",
       "\t7 & 1959-07-01 & -0.00837617 & -0.00822697 & 0.00331371 &  &  & $\\dots$ \\\\\n",
       "\t8 & 1959-08-01 & -0.00189259 & -0.00255374 & 0.007322 &  &  & $\\dots$ \\\\\n",
       "\t9 & 1959-09-01 & -0.00145783 & -0.00131381 & -0.00950251 &  &  & $\\dots$ \\\\\n",
       "\t10 & 1959-10-01 & 0.00491525 & 0.00417518 & -0.00312461 &  &  & $\\dots$ \\\\\n",
       "\t11 & 1959-11-01 & 0.00751591 & 0.00884201 & -0.00379359 &  &  & $\\dots$ \\\\\n",
       "\t12 & 1959-12-01 & 0.00051197 & 0.00213641 & 0.000104457 &  &  & $\\dots$ \\\\\n",
       "\t13 & 1960-01-01 & -0.00153613 & -0.00159242 & 0.00164789 &  &  & $\\dots$ \\\\\n",
       "\t14 & 1960-02-01 & -0.000771147 & -0.00159326 & 0.0113924 &  &  & $\\dots$ \\\\\n",
       "\t15 & 1960-03-01 & 0.000744914 & 0.0011099 & 0.0127032 &  &  & $\\dots$ \\\\\n",
       "\t16 & 1960-04-01 & -0.000278025 & -6.28758e-5 & -0.0230958 &  &  & $\\dots$ \\\\\n",
       "\t17 & 1960-05-01 & -0.00189161 & -0.00275964 & -0.00289865 &  &  & $\\dots$ \\\\\n",
       "\t18 & 1960-06-01 & -0.000848764 & -0.00060596 & -0.000651078 &  &  & $\\dots$ \\\\\n",
       "\t19 & 1960-07-01 & -0.00430472 & -0.00507942 & -0.00361053 &  &  & $\\dots$ \\\\\n",
       "\t20 & 1960-08-01 & -0.0014066 & -0.00222064 & 0.0020779 &  &  & $\\dots$ \\\\\n",
       "\t21 & 1960-09-01 & 0.000272724 & 0.000635651 & 0.00216395 &  &  & $\\dots$ \\\\\n",
       "\t22 & 1960-10-01 & -0.00697502 & -0.00827347 & -0.00615954 &  &  & $\\dots$ \\\\\n",
       "\t23 & 1960-11-01 & -0.00725089 & -0.00839051 & -0.0150118 &  &  & $\\dots$ \\\\\n",
       "\t24 & 1960-12-01 & 0.00624135 & 0.00619181 & -0.000255489 &  &  & $\\dots$ \\\\\n",
       "\t25 & 1961-01-01 & 0.00113783 & -0.00242804 & 0.0010002 &  &  & $\\dots$ \\\\\n",
       "\t26 & 1961-02-01 & 0.0014422 & 0.00241017 & 0.00968715 &  &  & $\\dots$ \\\\\n",
       "\t27 & 1961-03-01 & -0.000512103 & 0.000907144 & -0.00219204 &  &  & $\\dots$ \\\\\n",
       "\t28 & 1961-04-01 & 0.00506788 & 0.00343253 & 0.00336344 &  &  & $\\dots$ \\\\\n",
       "\t29 & 1961-05-01 & 0.00669157 & 0.00550781 & -0.000261597 &  &  & $\\dots$ \\\\\n",
       "\t30 & 1961-06-01 & 0.000169059 & -0.000121859 & -0.00568866 &  &  & $\\dots$ \\\\\n",
       "\t$\\dots$ & $\\dots$ & $\\dots$ & $\\dots$ & $\\dots$ & $\\dots$ & $\\dots$ &  \\\\\n",
       "\\end{tabular}\n"
      ],
      "text/plain": [
       "725×128 DataFrame. Omitted printing of 124 columns\n",
       "│ Row │ date       │ RPI          │ W875RX1      │ DPCERA3M086SBEA │\n",
       "│     │ \u001b[90mDate⍰\u001b[39m      │ \u001b[90mFloat64⍰\u001b[39m     │ \u001b[90mFloat64⍰\u001b[39m     │ \u001b[90mFloat64⍰\u001b[39m        │\n",
       "├─────┼────────────┼──────────────┼──────────────┼─────────────────┤\n",
       "│ 1   │ 1959-01-01 │ 0.0012526    │ 0.0010653    │ 0.00767048      │\n",
       "│ 2   │ 1959-02-01 │ 0.0037502    │ 0.00486275   │ 0.00671482      │\n",
       "│ 3   │ 1959-03-01 │ 0.00381723   │ 0.00450843   │ -0.0062556      │\n",
       "│ 4   │ 1959-04-01 │ 0.00314537   │ 0.00411852   │ 0.00930512      │\n",
       "│ 5   │ 1959-05-01 │ 0.000427094  │ 0.000511156  │ 0.000966653     │\n",
       "│ 6   │ 1959-06-01 │ -0.00326644  │ -0.0033188   │ -0.00604413     │\n",
       "│ 7   │ 1959-07-01 │ -0.00837617  │ -0.00822697  │ 0.00331371      │\n",
       "│ 8   │ 1959-08-01 │ -0.00189259  │ -0.00255374  │ 0.007322        │\n",
       "│ 9   │ 1959-09-01 │ -0.00145783  │ -0.00131381  │ -0.00950251     │\n",
       "│ 10  │ 1959-10-01 │ 0.00491525   │ 0.00417518   │ -0.00312461     │\n",
       "⋮\n",
       "│ 715 │ 2018-07-01 │ 0.00100932   │ 0.00148749   │ 0.000602404     │\n",
       "│ 716 │ 2018-08-01 │ -0.00349345  │ -0.00337316  │ -0.00296633     │\n",
       "│ 717 │ 2018-09-01 │ -0.00173324  │ -0.0018733   │ 0.00119857      │\n",
       "│ 718 │ 2018-10-01 │ -0.00168106  │ -0.00110664  │ -0.000124726    │\n",
       "│ 719 │ 2018-11-01 │ 0.00617598   │ 0.00738623   │ -0.0114453      │\n",
       "│ 720 │ 2018-12-01 │ 0.000902918  │ -0.00409511  │ 0.00373438      │\n",
       "│ 721 │ 2019-01-01 │ 0.00216633   │ 0.00248386   │ -0.00434615     │\n",
       "│ 722 │ 2019-02-01 │ -0.000355807 │ -0.000136804 │ 0.00488391      │\n",
       "│ 723 │ 2019-03-01 │ -0.00112315  │ -0.00107352  │ 0.000518506     │\n",
       "│ 724 │ 2019-04-01 │ -0.000237273 │ -8.90743e-5  │ 0.000682792     │\n",
       "│ 725 │ \u001b[90mmissing\u001b[39m    │ \u001b[90mmissing\u001b[39m      │ \u001b[90mmissing\u001b[39m      │ \u001b[90mmissing\u001b[39m         │"
      ]
     },
     "execution_count": 3,
     "metadata": {},
     "output_type": "execute_result"
    }
   ],
   "source": [
    "for i in 2:size(datra,2)\n",
    "    datra[i] = replace(datra[i], NaN => missing) # handle NaN and missing\n",
    "    temp_mean = mean(skipmissing(datra[i]))\n",
    "    println(temp_mean)\n",
    "    for j in 1:size(datra,1)\n",
    "        temp = datra[j,i] - temp_mean\n",
    "        datra[i] = replace(datra[i], datra[j,i] => temp)\n",
    "    end\n",
    "end\n",
    "datra"
   ]
  },
  {
   "cell_type": "code",
   "execution_count": null,
   "metadata": {
    "collapsed": true
   },
   "outputs": [],
   "source": []
  },
  {
   "cell_type": "code",
   "execution_count": 4,
   "metadata": {},
   "outputs": [
    {
     "data": {
      "text/plain": [
       "\"demeaned_matrix.csv\""
      ]
     },
     "execution_count": 4,
     "metadata": {},
     "output_type": "execute_result"
    }
   ],
   "source": [
    "CSV.write(\"demeaned_matrix.csv\", datra, writeheader = true)"
   ]
  },
  {
   "cell_type": "markdown",
   "metadata": {},
   "source": [
    "### 2. Find the largest chunk without missing value."
   ]
  },
  {
   "cell_type": "code",
   "execution_count": 5,
   "metadata": {},
   "outputs": [
    {
     "data": {
      "text/html": [
       "<table class=\"data-frame\"><thead><tr><th></th><th>date</th><th>RPI</th><th>W875RX1</th><th>DPCERA3M086SBEA</th><th>CMRMTSPL</th><th>MRTSSM44X72USS</th></tr><tr><th></th><th>String</th><th>Float64</th><th>Float64</th><th>Float64</th><th>Float64⍰</th><th>Float64⍰</th></tr></thead><tbody><p>724 rows × 119 columns (omitted printing of 113 columns)</p><tr><th>1</th><td>1/1/59</td><td>0.0012526</td><td>0.0010653</td><td>0.00767048</td><td>missing</td><td>missing</td></tr><tr><th>2</th><td>2/1/59</td><td>0.0037502</td><td>0.00486275</td><td>0.00671482</td><td>missing</td><td>missing</td></tr><tr><th>3</th><td>3/1/59</td><td>0.00381723</td><td>0.00450843</td><td>-0.0062556</td><td>missing</td><td>missing</td></tr><tr><th>4</th><td>4/1/59</td><td>0.00314537</td><td>0.00411852</td><td>0.00930512</td><td>missing</td><td>missing</td></tr><tr><th>5</th><td>5/1/59</td><td>0.000427094</td><td>0.000511156</td><td>0.000966653</td><td>missing</td><td>missing</td></tr><tr><th>6</th><td>6/1/59</td><td>-0.00326644</td><td>-0.0033188</td><td>-0.00604413</td><td>missing</td><td>missing</td></tr><tr><th>7</th><td>7/1/59</td><td>-0.00837617</td><td>-0.00822697</td><td>0.00331371</td><td>missing</td><td>missing</td></tr><tr><th>8</th><td>8/1/59</td><td>-0.00189259</td><td>-0.00255374</td><td>0.007322</td><td>missing</td><td>missing</td></tr><tr><th>9</th><td>9/1/59</td><td>-0.00145783</td><td>-0.00131382</td><td>-0.00950251</td><td>missing</td><td>missing</td></tr><tr><th>10</th><td>10/1/59</td><td>0.00491526</td><td>0.00417518</td><td>-0.00312461</td><td>missing</td><td>missing</td></tr><tr><th>11</th><td>11/1/59</td><td>0.00751591</td><td>0.00884201</td><td>-0.00379359</td><td>missing</td><td>missing</td></tr><tr><th>12</th><td>12/1/59</td><td>0.00051197</td><td>0.00213642</td><td>0.000104457</td><td>missing</td><td>missing</td></tr><tr><th>13</th><td>1/1/60</td><td>-0.00153613</td><td>-0.00159242</td><td>0.00164789</td><td>missing</td><td>missing</td></tr><tr><th>14</th><td>2/1/60</td><td>-0.000771147</td><td>-0.00159326</td><td>0.0113924</td><td>missing</td><td>missing</td></tr><tr><th>15</th><td>3/1/60</td><td>0.000744914</td><td>0.0011099</td><td>0.0127032</td><td>missing</td><td>missing</td></tr><tr><th>16</th><td>4/1/60</td><td>-0.000278025</td><td>-6.29e-5</td><td>-0.0230958</td><td>missing</td><td>missing</td></tr><tr><th>17</th><td>5/1/60</td><td>-0.00189161</td><td>-0.00275964</td><td>-0.00289865</td><td>missing</td><td>missing</td></tr><tr><th>18</th><td>6/1/60</td><td>-0.000848764</td><td>-0.00060596</td><td>-0.000651078</td><td>missing</td><td>missing</td></tr><tr><th>19</th><td>7/1/60</td><td>-0.00430472</td><td>-0.00507942</td><td>-0.00361053</td><td>missing</td><td>missing</td></tr><tr><th>20</th><td>8/1/60</td><td>-0.0014066</td><td>-0.00222064</td><td>0.0020779</td><td>missing</td><td>missing</td></tr><tr><th>21</th><td>9/1/60</td><td>0.000272724</td><td>0.000635651</td><td>0.00216395</td><td>missing</td><td>missing</td></tr><tr><th>22</th><td>10/1/60</td><td>-0.00697502</td><td>-0.00827347</td><td>-0.00615954</td><td>missing</td><td>missing</td></tr><tr><th>23</th><td>11/1/60</td><td>-0.00725089</td><td>-0.00839051</td><td>-0.0150118</td><td>missing</td><td>missing</td></tr><tr><th>24</th><td>12/1/60</td><td>0.00624135</td><td>0.00619181</td><td>-0.000255489</td><td>missing</td><td>missing</td></tr><tr><th>25</th><td>1/1/61</td><td>0.00113783</td><td>-0.00242804</td><td>0.0010002</td><td>missing</td><td>missing</td></tr><tr><th>26</th><td>2/1/61</td><td>0.0014422</td><td>0.00241017</td><td>0.00968715</td><td>missing</td><td>missing</td></tr><tr><th>27</th><td>3/1/61</td><td>-0.000512103</td><td>0.000907144</td><td>-0.00219204</td><td>missing</td><td>missing</td></tr><tr><th>28</th><td>4/1/61</td><td>0.00506788</td><td>0.00343253</td><td>0.00336344</td><td>missing</td><td>missing</td></tr><tr><th>29</th><td>5/1/61</td><td>0.00669157</td><td>0.00550781</td><td>-0.000261597</td><td>missing</td><td>missing</td></tr><tr><th>30</th><td>6/1/61</td><td>0.000169059</td><td>-0.000121859</td><td>-0.00568866</td><td>missing</td><td>missing</td></tr><tr><th>&vellip;</th><td>&vellip;</td><td>&vellip;</td><td>&vellip;</td><td>&vellip;</td><td>&vellip;</td><td>&vellip;</td></tr></tbody></table>"
      ],
      "text/latex": [
       "\\begin{tabular}{r|ccccccc}\n",
       "\t& date & RPI & W875RX1 & DPCERA3M086SBEA & CMRMTSPL & MRTSSM44X72USS & \\\\\n",
       "\t\\hline\n",
       "\t& String & Float64 & Float64 & Float64 & Float64⍰ & Float64⍰ & \\\\\n",
       "\t\\hline\n",
       "\t1 & 1/1/59 & 0.0012526 & 0.0010653 & 0.00767048 &  &  & $\\dots$ \\\\\n",
       "\t2 & 2/1/59 & 0.0037502 & 0.00486275 & 0.00671482 &  &  & $\\dots$ \\\\\n",
       "\t3 & 3/1/59 & 0.00381723 & 0.00450843 & -0.0062556 &  &  & $\\dots$ \\\\\n",
       "\t4 & 4/1/59 & 0.00314537 & 0.00411852 & 0.00930512 &  &  & $\\dots$ \\\\\n",
       "\t5 & 5/1/59 & 0.000427094 & 0.000511156 & 0.000966653 &  &  & $\\dots$ \\\\\n",
       "\t6 & 6/1/59 & -0.00326644 & -0.0033188 & -0.00604413 &  &  & $\\dots$ \\\\\n",
       "\t7 & 7/1/59 & -0.00837617 & -0.00822697 & 0.00331371 &  &  & $\\dots$ \\\\\n",
       "\t8 & 8/1/59 & -0.00189259 & -0.00255374 & 0.007322 &  &  & $\\dots$ \\\\\n",
       "\t9 & 9/1/59 & -0.00145783 & -0.00131382 & -0.00950251 &  &  & $\\dots$ \\\\\n",
       "\t10 & 10/1/59 & 0.00491526 & 0.00417518 & -0.00312461 &  &  & $\\dots$ \\\\\n",
       "\t11 & 11/1/59 & 0.00751591 & 0.00884201 & -0.00379359 &  &  & $\\dots$ \\\\\n",
       "\t12 & 12/1/59 & 0.00051197 & 0.00213642 & 0.000104457 &  &  & $\\dots$ \\\\\n",
       "\t13 & 1/1/60 & -0.00153613 & -0.00159242 & 0.00164789 &  &  & $\\dots$ \\\\\n",
       "\t14 & 2/1/60 & -0.000771147 & -0.00159326 & 0.0113924 &  &  & $\\dots$ \\\\\n",
       "\t15 & 3/1/60 & 0.000744914 & 0.0011099 & 0.0127032 &  &  & $\\dots$ \\\\\n",
       "\t16 & 4/1/60 & -0.000278025 & -6.29e-5 & -0.0230958 &  &  & $\\dots$ \\\\\n",
       "\t17 & 5/1/60 & -0.00189161 & -0.00275964 & -0.00289865 &  &  & $\\dots$ \\\\\n",
       "\t18 & 6/1/60 & -0.000848764 & -0.00060596 & -0.000651078 &  &  & $\\dots$ \\\\\n",
       "\t19 & 7/1/60 & -0.00430472 & -0.00507942 & -0.00361053 &  &  & $\\dots$ \\\\\n",
       "\t20 & 8/1/60 & -0.0014066 & -0.00222064 & 0.0020779 &  &  & $\\dots$ \\\\\n",
       "\t21 & 9/1/60 & 0.000272724 & 0.000635651 & 0.00216395 &  &  & $\\dots$ \\\\\n",
       "\t22 & 10/1/60 & -0.00697502 & -0.00827347 & -0.00615954 &  &  & $\\dots$ \\\\\n",
       "\t23 & 11/1/60 & -0.00725089 & -0.00839051 & -0.0150118 &  &  & $\\dots$ \\\\\n",
       "\t24 & 12/1/60 & 0.00624135 & 0.00619181 & -0.000255489 &  &  & $\\dots$ \\\\\n",
       "\t25 & 1/1/61 & 0.00113783 & -0.00242804 & 0.0010002 &  &  & $\\dots$ \\\\\n",
       "\t26 & 2/1/61 & 0.0014422 & 0.00241017 & 0.00968715 &  &  & $\\dots$ \\\\\n",
       "\t27 & 3/1/61 & -0.000512103 & 0.000907144 & -0.00219204 &  &  & $\\dots$ \\\\\n",
       "\t28 & 4/1/61 & 0.00506788 & 0.00343253 & 0.00336344 &  &  & $\\dots$ \\\\\n",
       "\t29 & 5/1/61 & 0.00669157 & 0.00550781 & -0.000261597 &  &  & $\\dots$ \\\\\n",
       "\t30 & 6/1/61 & 0.000169059 & -0.000121859 & -0.00568866 &  &  & $\\dots$ \\\\\n",
       "\t$\\dots$ & $\\dots$ & $\\dots$ & $\\dots$ & $\\dots$ & $\\dots$ & $\\dots$ &  \\\\\n",
       "\\end{tabular}\n"
      ],
      "text/plain": [
       "724×119 DataFrame. Omitted printing of 114 columns\n",
       "│ Row │ date    │ RPI          │ W875RX1      │ DPCERA3M086SBEA │ CMRMTSPL     │\n",
       "│     │ \u001b[90mString\u001b[39m  │ \u001b[90mFloat64\u001b[39m      │ \u001b[90mFloat64\u001b[39m      │ \u001b[90mFloat64\u001b[39m         │ \u001b[90mFloat64⍰\u001b[39m     │\n",
       "├─────┼─────────┼──────────────┼──────────────┼─────────────────┼──────────────┤\n",
       "│ 1   │ 1/1/59  │ 0.0012526    │ 0.0010653    │ 0.00767048      │ \u001b[90mmissing\u001b[39m      │\n",
       "│ 2   │ 2/1/59  │ 0.0037502    │ 0.00486275   │ 0.00671482      │ \u001b[90mmissing\u001b[39m      │\n",
       "│ 3   │ 3/1/59  │ 0.00381723   │ 0.00450843   │ -0.0062556      │ \u001b[90mmissing\u001b[39m      │\n",
       "│ 4   │ 4/1/59  │ 0.00314537   │ 0.00411852   │ 0.00930512      │ \u001b[90mmissing\u001b[39m      │\n",
       "│ 5   │ 5/1/59  │ 0.000427094  │ 0.000511156  │ 0.000966653     │ \u001b[90mmissing\u001b[39m      │\n",
       "│ 6   │ 6/1/59  │ -0.00326644  │ -0.0033188   │ -0.00604413     │ \u001b[90mmissing\u001b[39m      │\n",
       "│ 7   │ 7/1/59  │ -0.00837617  │ -0.00822697  │ 0.00331371      │ \u001b[90mmissing\u001b[39m      │\n",
       "│ 8   │ 8/1/59  │ -0.00189259  │ -0.00255374  │ 0.007322        │ \u001b[90mmissing\u001b[39m      │\n",
       "│ 9   │ 9/1/59  │ -0.00145783  │ -0.00131382  │ -0.00950251     │ \u001b[90mmissing\u001b[39m      │\n",
       "│ 10  │ 10/1/59 │ 0.00491526   │ 0.00417518   │ -0.00312461     │ \u001b[90mmissing\u001b[39m      │\n",
       "⋮\n",
       "│ 714 │ 6/1/18  │ 0.000381042  │ 0.00101453   │ 0.000893734     │ -0.000918001 │\n",
       "│ 715 │ 7/1/18  │ 0.00100932   │ 0.00148749   │ 0.000602404     │ 0.00231962   │\n",
       "│ 716 │ 8/1/18  │ -0.00349345  │ -0.00337316  │ -0.00296633     │ -0.000677066 │\n",
       "│ 717 │ 9/1/18  │ -0.00173324  │ -0.0018733   │ 0.00119857      │ -0.00443419  │\n",
       "│ 718 │ 10/1/18 │ -0.00168106  │ -0.00110664  │ -0.000124726    │ 0.00209554   │\n",
       "│ 719 │ 11/1/18 │ 0.00617598   │ 0.00738623   │ -0.0114453      │ -0.00109195  │\n",
       "│ 720 │ 12/1/18 │ 0.000902918  │ -0.00409511  │ 0.00373438      │ 0.0121161    │\n",
       "│ 721 │ 1/1/19  │ 0.00216633   │ 0.00248386   │ -0.00434615     │ -0.00600857  │\n",
       "│ 722 │ 2/1/19  │ -0.000355807 │ -0.000136804 │ 0.00488391      │ 0.00108111   │\n",
       "│ 723 │ 3/1/19  │ -0.00112315  │ -0.00107352  │ 0.000518506     │ -0.0109998   │\n",
       "│ 724 │ 4/1/19  │ -0.000237273 │ -8.91e-5     │ 0.000682792     │ -0.000536382 │"
      ]
     },
     "execution_count": 5,
     "metadata": {},
     "output_type": "execute_result"
    }
   ],
   "source": [
    "### This matrix has been manually edited in excel. I remove some series that have weird structures and lots of missing values.\n",
    "data = CSV.read(\"demeaned_matrix_prior.csv\")"
   ]
  },
  {
   "cell_type": "code",
   "execution_count": 6,
   "metadata": {},
   "outputs": [
    {
     "name": "stdout",
     "output_type": "stream",
     "text": [
      "[0, 0, 0, 0, 0, 0, 0, 0, 0, 0, 0, 0, 0, 0, 0, 0, 0, 0, 0, 0, 0, 0, 0, 0, 0, 0, 0, 0, 0, 0, 0, 0, 0, 0, 0, 0, 0, 0, 0, 0, 0, 0, 0, 0, 0, 0, 0, 0, 0, 0, 0, 0, 0, 0, 0, 0, 0, 0, 0, 0, 0, 0, 0, 0, 0, 0, 0, 0, 0, 0, 0, 0, 0, 0, 0, 0, 0, 0, 0, 0, 0, 0, 0, 0, 0, 0, 0, 0, 0, 0, 0, 0, 0, 0, 0, 0, 0, 0, 0, 0, 0, 0, 0, 0, 0, 0, 0, 0, 0, 0, 0, 0, 0, 0, 0, 0, 0, 0, 0, 0, 0, 0, 0, 0, 0, 0, 0, 0, 0, 0, 0, 0, 0, 0, 0, 0, 0, 0, 0, 0, 0, 0, 0, 0, 0, 0, 0, 0, 0, 0, 0, 0, 0, 0, 0, 0, 0, 0, 0, 0, 0, 0, 0, 0, 0, 0, 0, 0, 0, 0, 0, 0, 0, 0, 0, 0, 0, 0, 0, 0, 0, 0, 0, 0, 0, 0, 0, 0, 0, 0, 0, 0, 0, 0, 0, 0, 0, 0, 0, 0, 0, 0, 0, 0, 0, 0, 0, 0, 0, 0, 0, 0, 0, 0, 0, 0, 0, 0, 0, 0, 0, 0, 0, 0, 0, 0, 0, 0, 0, 0, 0, 0, 0, 0, 0, 0, 0, 0, 0, 0, 0, 0, 0, 0, 0, 0, 0, 0, 0, 0, 0, 0, 0, 0, 0, 0, 0, 0, 0, 0, 0, 0, 0, 0, 0, 0, 0, 0, 0, 0, 0, 0, 0, 0, 0, 0, 0, 0, 0, 0, 0, 0, 0, 0, 0, 0, 0, 0, 0, 0, 0, 0, 0, 0, 0, 0, 0, 0, 0, 0, 0, 0, 0, 0, 0, 0, 0, 0, 0, 0, 0, 0, 0, 0, 0, 0, 0, 0, 0, 0, 0, 0, 0, 0, 0, 0, 0, 0, 0, 0, 0, 0, 0, 0, 0, 0, 0, 0, 0, 0, 0, 0, 0, 0, 0, 0, 0, 0, 0, 0, 0, 0, 0, 0, 0, 0, 0, 0, 0, 0, 0, 0, 0, 0, 0, 0, 0, 0, 0, 0, 0, 0, 0, 0, 0, 0, 0, 0, 0, 0, 0, 0, 0, 0, 0, 0, 0, 0, 0, 0, 0, 0, 0, 0, 0, 0, 0, 398, 399, 400, 401, 402, 403, 404, 405, 406, 407, 408, 409, 410, 411, 412, 413, 414, 415, 416, 417, 418, 419, 420, 421, 422, 423, 424, 425, 426, 427, 428, 429, 430, 431, 432, 433, 434, 435, 436, 437, 438, 439, 440, 441, 442, 443, 444, 445, 446, 447, 448, 449, 450, 451, 452, 453, 454, 455, 456, 457, 458, 459, 460, 461, 462, 463, 464, 465, 466, 467, 468, 469, 470, 471, 472, 473, 474, 475, 476, 477, 478, 479, 480, 481, 482, 483, 484, 485, 486, 487, 488, 489, 490, 491, 492, 493, 494, 495, 496, 497, 498, 499, 500, 501, 502, 503, 504, 505, 506, 507, 508, 509, 510, 511, 512, 513, 514, 515, 516, 517, 518, 519, 520, 521, 522, 523, 524, 525, 526, 527, 528, 529, 530, 531, 532, 533, 534, 535, 536, 537, 538, 539, 540, 541, 542, 543, 544, 545, 546, 547, 548, 549, 550, 551, 552, 553, 554, 555, 556, 557, 558, 559, 560, 561, 562, 563, 564, 565, 566, 567, 568, 569, 570, 571, 572, 573, 574, 575, 576, 577, 578, 579, 580, 581, 582, 583, 584, 585, 586, 587, 588, 589, 590, 591, 592, 593, 594, 595, 596, 597, 598, 599, 600, 601, 602, 603, 604, 605, 606, 607, 608, 609, 610, 611, 612, 613, 614, 615, 616, 617, 618, 619, 620, 621, 622, 623, 624, 625, 626, 627, 628, 629, 630, 631, 632, 633, 634, 635, 636, 637, 638, 639, 640, 641, 642, 643, 644, 645, 646, 647, 648, 649, 650, 651, 652, 653, 654, 655, 656, 657, 658, 659, 660, 661, 662, 663, 664, 665, 666, 667, 668, 669, 670, 671, 672, 673, 674, 675, 676, 677, 678, 679, 680, 681, 682, 683, 684, 685, 686, 687, 688, 689, 690, 691, 692, 693, 694, 695, 696, 697, 698, 699, 700, 701, 702, 703, 704, 705, 706, 707, 708, 709, 710, 711, 712, 713, 714, 715, 716, 717, 718, 719, 720, 721, 722, 723, 0, 725]"
     ]
    }
   ],
   "source": [
    "non_missing_index = collect(1:725)\n",
    "for i in 1:size(data,2)\n",
    "    non_missing_index[findall(ismissing, data[i])].= 0\n",
    "end\n",
    "\n",
    "print(non_missing_index)"
   ]
  },
  {
   "cell_type": "code",
   "execution_count": 7,
   "metadata": {},
   "outputs": [
    {
     "name": "stdout",
     "output_type": "stream",
     "text": [
      "396zero!!!\n",
      "397zero!!!\n",
      "724zero!!!\n"
     ]
    }
   ],
   "source": [
    "for i in 396:724\n",
    "    if non_missing_index[i] == 0\n",
    "        println(i, \"zero!!!\")\n",
    "    end\n",
    "end\n",
    "\n",
    "### row 398 to 723 is the largest component\n",
    "\n"
   ]
  },
  {
   "cell_type": "code",
   "execution_count": 223,
   "metadata": {},
   "outputs": [
    {
     "data": {
      "text/html": [
       "<table class=\"data-frame\"><thead><tr><th></th><th>RPI</th><th>W875RX1</th><th>DPCERA3M086SBEA</th><th>CMRMTSPL</th><th>MRTSSM44X72USS</th><th>INDPRO</th></tr><tr><th></th><th>Float64</th><th>Float64</th><th>Float64</th><th>Float64⍰</th><th>Float64⍰</th><th>Float64</th></tr></thead><tbody><p>326 rows × 118 columns (omitted printing of 112 columns)</p><tr><th>1</th><td>-0.00102306</td><td>-0.00169723</td><td>-0.00085829</td><td>0.00184479</td><td>-0.00650604</td><td>0.00610109</td></tr><tr><th>2</th><td>0.00103965</td><td>0.000230497</td><td>-0.00184127</td><td>0.00446995</td><td>0.00251109</td><td>0.0053776</td></tr><tr><th>3</th><td>0.00265047</td><td>0.00299273</td><td>0.00247554</td><td>-0.0109105</td><td>0.00196199</td><td>0.00108208</td></tr><tr><th>4</th><td>0.0014802</td><td>0.00193052</td><td>1.2e-5</td><td>0.00831459</td><td>-0.000701602</td><td>-0.00203149</td></tr><tr><th>5</th><td>-0.00347101</td><td>-0.00386</td><td>0.00065705</td><td>0.0111309</td><td>0.00357458</td><td>0.00682233</td></tr><tr><th>6</th><td>0.00118623</td><td>0.00130185</td><td>-0.00019748</td><td>-0.0182077</td><td>-0.000264192</td><td>-0.00710763</td></tr><tr><th>7</th><td>-0.00650398</td><td>-0.00747332</td><td>0.00380398</td><td>0.0116358</td><td>0.00598455</td><td>0.000146118</td></tr><tr><th>8</th><td>-0.00761176</td><td>-0.00830757</td><td>0.000685958</td><td>0.00186721</td><td>0.00369995</td><td>0.00529834</td></tr><tr><th>9</th><td>-0.000498748</td><td>0.00196203</td><td>-0.000974791</td><td>-0.000469345</td><td>-0.0012925</td><td>0.00207053</td></tr><tr><th>10</th><td>0.0331231</td><td>0.0376036</td><td>0.00390239</td><td>0.0132742</td><td>0.00871181</td><td>-0.00127184</td></tr><tr><th>11</th><td>-0.0305959</td><td>-0.0376566</td><td>-0.00413035</td><td>0.000329597</td><td>0.00799914</td><td>0.00214794</td></tr><tr><th>12</th><td>0.00190246</td><td>0.0030889</td><td>-0.000831073</td><td>-0.00345483</td><td>-0.0113254</td><td>0.002249</td></tr><tr><th>13</th><td>-0.00529141</td><td>-0.00637894</td><td>-0.0053748</td><td>-0.00851431</td><td>-0.0118164</td><td>-0.00357545</td></tr><tr><th>14</th><td>0.004815</td><td>0.00678402</td><td>0.00401187</td><td>0.00298169</td><td>0.0219532</td><td>0.00132713</td></tr><tr><th>15</th><td>-0.0029026</td><td>-0.00207184</td><td>0.00080378</td><td>-0.000589284</td><td>0.00593787</td><td>-0.0056522</td></tr><tr><th>16</th><td>-0.00391091</td><td>-0.00514858</td><td>0.000945294</td><td>0.00703041</td><td>-0.0050142</td><td>-0.000517892</td></tr><tr><th>17</th><td>0.000576851</td><td>0.000268278</td><td>0.00224067</td><td>-0.00702246</td><td>0.0109055</td><td>0.000906946</td></tr><tr><th>18</th><td>-0.000518309</td><td>-0.000784918</td><td>-0.00167776</td><td>0.00293923</td><td>-0.00370463</td><td>-0.00322598</td></tr><tr><th>19</th><td>-0.0049298</td><td>-0.0052854</td><td>0.00303858</td><td>0.00669346</td><td>0.00237629</td><td>0.00259667</td></tr><tr><th>20</th><td>-0.00690221</td><td>-0.00650207</td><td>-0.00112852</td><td>0.00209021</td><td>0.00258798</td><td>0.00547424</td></tr><tr><th>21</th><td>-0.000109962</td><td>0.000473227</td><td>0.000129485</td><td>0.00294488</td><td>0.00662981</td><td>0.0019598</td></tr><tr><th>22</th><td>0.0314954</td><td>0.0357127</td><td>0.000841518</td><td>0.000984931</td><td>0.00539678</td><td>0.00328225</td></tr><tr><th>23</th><td>-0.0226262</td><td>-0.026925</td><td>4.5e-5</td><td>-0.00103383</td><td>-0.0102719</td><td>0.0016049</td></tr><tr><th>24</th><td>-0.00167687</td><td>-0.00126621</td><td>0.00530023</td><td>0.00693332</td><td>0.012207</td><td>-0.00190116</td></tr><tr><th>25</th><td>1.7e-5</td><td>0.000642913</td><td>-0.00254675</td><td>0.014341</td><td>0.0149593</td><td>0.00785015</td></tr><tr><th>26</th><td>0.00659475</td><td>0.00780198</td><td>0.00153356</td><td>-0.00745278</td><td>-0.0031923</td><td>0.00347615</td></tr><tr><th>27</th><td>-0.000625924</td><td>0.000367058</td><td>-0.00446126</td><td>0.000245193</td><td>-0.0072172</td><td>0.00293334</td></tr><tr><th>28</th><td>-0.00405931</td><td>-0.00385943</td><td>0.00328153</td><td>0.00696595</td><td>0.00795647</td><td>0.00418727</td></tr><tr><th>29</th><td>-0.000981773</td><td>-7.68e-5</td><td>-0.00335253</td><td>-0.0065652</td><td>-0.000336433</td><td>-0.000643348</td></tr><tr><th>30</th><td>-0.00123545</td><td>-0.00131667</td><td>0.0038869</td><td>0.0211674</td><td>0.00890797</td><td>0.00375128</td></tr><tr><th>&vellip;</th><td>&vellip;</td><td>&vellip;</td><td>&vellip;</td><td>&vellip;</td><td>&vellip;</td><td>&vellip;</td></tr></tbody></table>"
      ],
      "text/latex": [
       "\\begin{tabular}{r|ccccccc}\n",
       "\t& RPI & W875RX1 & DPCERA3M086SBEA & CMRMTSPL & MRTSSM44X72USS & INDPRO & \\\\\n",
       "\t\\hline\n",
       "\t& Float64 & Float64 & Float64 & Float64⍰ & Float64⍰ & Float64 & \\\\\n",
       "\t\\hline\n",
       "\t1 & -0.00102306 & -0.00169723 & -0.00085829 & 0.00184479 & -0.00650604 & 0.00610109 & $\\dots$ \\\\\n",
       "\t2 & 0.00103965 & 0.000230497 & -0.00184127 & 0.00446995 & 0.00251109 & 0.0053776 & $\\dots$ \\\\\n",
       "\t3 & 0.00265047 & 0.00299273 & 0.00247554 & -0.0109105 & 0.00196199 & 0.00108208 & $\\dots$ \\\\\n",
       "\t4 & 0.0014802 & 0.00193052 & 1.2e-5 & 0.00831459 & -0.000701602 & -0.00203149 & $\\dots$ \\\\\n",
       "\t5 & -0.00347101 & -0.00386 & 0.00065705 & 0.0111309 & 0.00357458 & 0.00682233 & $\\dots$ \\\\\n",
       "\t6 & 0.00118623 & 0.00130185 & -0.00019748 & -0.0182077 & -0.000264192 & -0.00710763 & $\\dots$ \\\\\n",
       "\t7 & -0.00650398 & -0.00747332 & 0.00380398 & 0.0116358 & 0.00598455 & 0.000146118 & $\\dots$ \\\\\n",
       "\t8 & -0.00761176 & -0.00830757 & 0.000685958 & 0.00186721 & 0.00369995 & 0.00529834 & $\\dots$ \\\\\n",
       "\t9 & -0.000498748 & 0.00196203 & -0.000974791 & -0.000469345 & -0.0012925 & 0.00207053 & $\\dots$ \\\\\n",
       "\t10 & 0.0331231 & 0.0376036 & 0.00390239 & 0.0132742 & 0.00871181 & -0.00127184 & $\\dots$ \\\\\n",
       "\t11 & -0.0305959 & -0.0376566 & -0.00413035 & 0.000329597 & 0.00799914 & 0.00214794 & $\\dots$ \\\\\n",
       "\t12 & 0.00190246 & 0.0030889 & -0.000831073 & -0.00345483 & -0.0113254 & 0.002249 & $\\dots$ \\\\\n",
       "\t13 & -0.00529141 & -0.00637894 & -0.0053748 & -0.00851431 & -0.0118164 & -0.00357545 & $\\dots$ \\\\\n",
       "\t14 & 0.004815 & 0.00678402 & 0.00401187 & 0.00298169 & 0.0219532 & 0.00132713 & $\\dots$ \\\\\n",
       "\t15 & -0.0029026 & -0.00207184 & 0.00080378 & -0.000589284 & 0.00593787 & -0.0056522 & $\\dots$ \\\\\n",
       "\t16 & -0.00391091 & -0.00514858 & 0.000945294 & 0.00703041 & -0.0050142 & -0.000517892 & $\\dots$ \\\\\n",
       "\t17 & 0.000576851 & 0.000268278 & 0.00224067 & -0.00702246 & 0.0109055 & 0.000906946 & $\\dots$ \\\\\n",
       "\t18 & -0.000518309 & -0.000784918 & -0.00167776 & 0.00293923 & -0.00370463 & -0.00322598 & $\\dots$ \\\\\n",
       "\t19 & -0.0049298 & -0.0052854 & 0.00303858 & 0.00669346 & 0.00237629 & 0.00259667 & $\\dots$ \\\\\n",
       "\t20 & -0.00690221 & -0.00650207 & -0.00112852 & 0.00209021 & 0.00258798 & 0.00547424 & $\\dots$ \\\\\n",
       "\t21 & -0.000109962 & 0.000473227 & 0.000129485 & 0.00294488 & 0.00662981 & 0.0019598 & $\\dots$ \\\\\n",
       "\t22 & 0.0314954 & 0.0357127 & 0.000841518 & 0.000984931 & 0.00539678 & 0.00328225 & $\\dots$ \\\\\n",
       "\t23 & -0.0226262 & -0.026925 & 4.5e-5 & -0.00103383 & -0.0102719 & 0.0016049 & $\\dots$ \\\\\n",
       "\t24 & -0.00167687 & -0.00126621 & 0.00530023 & 0.00693332 & 0.012207 & -0.00190116 & $\\dots$ \\\\\n",
       "\t25 & 1.7e-5 & 0.000642913 & -0.00254675 & 0.014341 & 0.0149593 & 0.00785015 & $\\dots$ \\\\\n",
       "\t26 & 0.00659475 & 0.00780198 & 0.00153356 & -0.00745278 & -0.0031923 & 0.00347615 & $\\dots$ \\\\\n",
       "\t27 & -0.000625924 & 0.000367058 & -0.00446126 & 0.000245193 & -0.0072172 & 0.00293334 & $\\dots$ \\\\\n",
       "\t28 & -0.00405931 & -0.00385943 & 0.00328153 & 0.00696595 & 0.00795647 & 0.00418727 & $\\dots$ \\\\\n",
       "\t29 & -0.000981773 & -7.68e-5 & -0.00335253 & -0.0065652 & -0.000336433 & -0.000643348 & $\\dots$ \\\\\n",
       "\t30 & -0.00123545 & -0.00131667 & 0.0038869 & 0.0211674 & 0.00890797 & 0.00375128 & $\\dots$ \\\\\n",
       "\t$\\dots$ & $\\dots$ & $\\dots$ & $\\dots$ & $\\dots$ & $\\dots$ & $\\dots$ &  \\\\\n",
       "\\end{tabular}\n"
      ],
      "text/plain": [
       "326×118 DataFrame. Omitted printing of 114 columns\n",
       "│ Row │ RPI          │ W875RX1      │ DPCERA3M086SBEA │ CMRMTSPL     │\n",
       "│     │ \u001b[90mFloat64\u001b[39m      │ \u001b[90mFloat64\u001b[39m      │ \u001b[90mFloat64\u001b[39m         │ \u001b[90mFloat64⍰\u001b[39m     │\n",
       "├─────┼──────────────┼──────────────┼─────────────────┼──────────────┤\n",
       "│ 1   │ -0.00102306  │ -0.00169723  │ -0.00085829     │ 0.00184479   │\n",
       "│ 2   │ 0.00103965   │ 0.000230497  │ -0.00184127     │ 0.00446995   │\n",
       "│ 3   │ 0.00265047   │ 0.00299273   │ 0.00247554      │ -0.0109105   │\n",
       "│ 4   │ 0.0014802    │ 0.00193052   │ 1.2e-5          │ 0.00831459   │\n",
       "│ 5   │ -0.00347101  │ -0.00386     │ 0.00065705      │ 0.0111309    │\n",
       "│ 6   │ 0.00118623   │ 0.00130185   │ -0.00019748     │ -0.0182077   │\n",
       "│ 7   │ -0.00650398  │ -0.00747332  │ 0.00380398      │ 0.0116358    │\n",
       "│ 8   │ -0.00761176  │ -0.00830757  │ 0.000685958     │ 0.00186721   │\n",
       "│ 9   │ -0.000498748 │ 0.00196203   │ -0.000974791    │ -0.000469345 │\n",
       "│ 10  │ 0.0331231    │ 0.0376036    │ 0.00390239      │ 0.0132742    │\n",
       "⋮\n",
       "│ 316 │ 3.23e-5      │ 0.000477946  │ -0.000517367    │ -0.00310363  │\n",
       "│ 317 │ 0.000381042  │ 0.00101453   │ 0.000893734     │ -0.000918001 │\n",
       "│ 318 │ 0.00100932   │ 0.00148749   │ 0.000602404     │ 0.00231962   │\n",
       "│ 319 │ -0.00349345  │ -0.00337316  │ -0.00296633     │ -0.000677066 │\n",
       "│ 320 │ -0.00173324  │ -0.0018733   │ 0.00119857      │ -0.00443419  │\n",
       "│ 321 │ -0.00168106  │ -0.00110664  │ -0.000124726    │ 0.00209554   │\n",
       "│ 322 │ 0.00617598   │ 0.00738623   │ -0.0114453      │ -0.00109195  │\n",
       "│ 323 │ 0.000902918  │ -0.00409511  │ 0.00373438      │ 0.0121161    │\n",
       "│ 324 │ 0.00216633   │ 0.00248386   │ -0.00434615     │ -0.00600857  │\n",
       "│ 325 │ -0.000355807 │ -0.000136804 │ 0.00488391      │ 0.00108111   │\n",
       "│ 326 │ -0.00112315  │ -0.00107352  │ 0.000518506     │ -0.0109998   │"
      ]
     },
     "execution_count": 223,
     "metadata": {},
     "output_type": "execute_result"
    }
   ],
   "source": [
    "prior_df = data[398:723,2:end]"
   ]
  },
  {
   "cell_type": "code",
   "execution_count": 9,
   "metadata": {},
   "outputs": [
    {
     "name": "stderr",
     "output_type": "stream",
     "text": [
      "┌ Warning: `convert(::Type{Array}, df::AbstractDataFrame)` is deprecated, use `convert(Matrix, df)` instead.\n",
      "│   caller = top-level scope at In[9]:1\n",
      "└ @ Core In[9]:1\n"
     ]
    },
    {
     "data": {
      "text/plain": [
       "326×118 Array{Union{Missing, Float64},2}:\n",
       " -0.00102306   -0.00169723   -0.00085829   …  -0.00584718    0.000665271\n",
       "  0.00103965    0.000230497  -0.00184127       0.000202901   0.00462347 \n",
       "  0.00265047    0.00299273    0.00247554       0.00880858   -0.00127922 \n",
       "  0.0014802     0.00193052    1.2e-5          -0.00854766    0.00252399 \n",
       " -0.00347101   -0.00386       0.00065705       0.0116299     0.000467616\n",
       "  0.00118623    0.00130185   -0.00019748   …  -0.00736782   -0.00846585 \n",
       " -0.00650398   -0.00747332    0.00380398      -0.00744271    0.00153729 \n",
       " -0.00761176   -0.00830757    0.000685958      0.0120916     0.00282071 \n",
       " -0.000498748   0.00196203   -0.000974791     -0.00302042   -0.000354051\n",
       "  0.0331231     0.0376036     0.00390239      -0.0143728    -0.0113346  \n",
       " -0.0305959    -0.0376566    -0.00413035   …   0.00713867    0.012571   \n",
       "  0.00190246    0.0030889    -0.000831073     -0.00129334    0.00505875 \n",
       " -0.00529141   -0.00637894   -0.0053748        0.00795123   -0.00560051 \n",
       "  ⋮                                        ⋱                            \n",
       " -0.00138346   -0.00105346    0.00159008      -0.00587793    0.00901342 \n",
       "  3.23e-5       0.000477946  -0.000517367  …   0.00526166   -0.00744313 \n",
       "  0.000381042   0.00101453    0.000893734      0.000361681  -0.00235698 \n",
       "  0.00100932    0.00148749    0.000602404     -0.00536293   -0.00174358 \n",
       " -0.00349345   -0.00337316   -0.00296633       0.00371429    0.00260841 \n",
       " -0.00173324   -0.0018733     0.00119857      -0.00170616    0.00447518 \n",
       " -0.00168106   -0.00110664   -0.000124726  …   0.00253935    0.00649835 \n",
       "  0.00617598    0.00738623   -0.0114453       -0.00343403   -0.0034558  \n",
       "  0.000902918  -0.00409511    0.00373438      -0.00504302   -0.00775852 \n",
       "  0.00216633    0.00248386   -0.00434615       0.00656015    0.00448987 \n",
       " -0.000355807  -0.000136804   0.00488391      -0.000662427   0.00646065 \n",
       " -0.00112315   -0.00107352    0.000518506  …   0.0035796    -0.00919107 "
      ]
     },
     "execution_count": 9,
     "metadata": {},
     "output_type": "execute_result"
    }
   ],
   "source": [
    "prior_matrix = convert(Array, prior_df)"
   ]
  },
  {
   "cell_type": "code",
   "execution_count": 10,
   "metadata": {},
   "outputs": [
    {
     "data": {
      "text/plain": [
       "\"prior_matrix.csv\""
      ]
     },
     "execution_count": 10,
     "metadata": {},
     "output_type": "execute_result"
    }
   ],
   "source": [
    "CSV.write(\"prior_matrix.csv\", prior_df, writeheader = false)"
   ]
  },
  {
   "cell_type": "code",
   "execution_count": null,
   "metadata": {
    "collapsed": true
   },
   "outputs": [],
   "source": []
  },
  {
   "cell_type": "code",
   "execution_count": null,
   "metadata": {
    "collapsed": true
   },
   "outputs": [],
   "source": []
  },
  {
   "cell_type": "code",
   "execution_count": null,
   "metadata": {
    "collapsed": true
   },
   "outputs": [],
   "source": []
  },
  {
   "cell_type": "code",
   "execution_count": null,
   "metadata": {
    "collapsed": true
   },
   "outputs": [],
   "source": []
  },
  {
   "cell_type": "code",
   "execution_count": null,
   "metadata": {
    "collapsed": true
   },
   "outputs": [],
   "source": []
  },
  {
   "cell_type": "code",
   "execution_count": null,
   "metadata": {
    "collapsed": true,
    "scrolled": true
   },
   "outputs": [],
   "source": []
  },
  {
   "cell_type": "code",
   "execution_count": null,
   "metadata": {
    "collapsed": true
   },
   "outputs": [],
   "source": []
  },
  {
   "cell_type": "markdown",
   "metadata": {},
   "source": [
    "### 3. Principal component"
   ]
  },
  {
   "cell_type": "code",
   "execution_count": 57,
   "metadata": {},
   "outputs": [
    {
     "name": "stderr",
     "output_type": "stream",
     "text": [
      "┌ Warning: `convert(::Type{Array}, df::AbstractDataFrame)` is deprecated, use `convert(Matrix, df)` instead.\n",
      "│   caller = top-level scope at In[57]:4\n",
      "└ @ Core In[57]:4\n"
     ]
    },
    {
     "data": {
      "text/plain": [
       "326×118 Array{Float64,2}:\n",
       " -0.00102306   -0.00169723   -0.00085829   …  -0.00584718    0.000665271\n",
       "  0.00103965    0.000230497  -0.00184127       0.000202901   0.00462347 \n",
       "  0.00265047    0.00299273    0.00247554       0.00880858   -0.00127922 \n",
       "  0.0014802     0.00193052    1.2e-5          -0.00854766    0.00252399 \n",
       " -0.00347101   -0.00386       0.00065705       0.0116299     0.000467616\n",
       "  0.00118623    0.00130185   -0.00019748   …  -0.00736782   -0.00846585 \n",
       " -0.00650398   -0.00747332    0.00380398      -0.00744271    0.00153729 \n",
       " -0.00761176   -0.00830757    0.000685958      0.0120916     0.00282071 \n",
       " -0.000498748   0.00196203   -0.000974791     -0.00302042   -0.000354051\n",
       "  0.0331231     0.0376036     0.00390239      -0.0143728    -0.0113346  \n",
       " -0.0305959    -0.0376566    -0.00413035   …   0.00713867    0.012571   \n",
       "  0.00190246    0.0030889    -0.000831073     -0.00129334    0.00505875 \n",
       " -0.00529141   -0.00637894   -0.0053748        0.00795123   -0.00560051 \n",
       "  ⋮                                        ⋱                            \n",
       " -0.00138346   -0.00105346    0.00159008      -0.00587793    0.00901342 \n",
       "  3.23e-5       0.000477946  -0.000517367  …   0.00526166   -0.00744313 \n",
       "  0.000381042   0.00101453    0.000893734      0.000361681  -0.00235698 \n",
       "  0.00100932    0.00148749    0.000602404     -0.00536293   -0.00174358 \n",
       " -0.00349345   -0.00337316   -0.00296633       0.00371429    0.00260841 \n",
       " -0.00173324   -0.0018733     0.00119857      -0.00170616    0.00447518 \n",
       " -0.00168106   -0.00110664   -0.000124726  …   0.00253935    0.00649835 \n",
       "  0.00617598    0.00738623   -0.0114453       -0.00343403   -0.0034558  \n",
       "  0.000902918  -0.00409511    0.00373438      -0.00504302   -0.00775852 \n",
       "  0.00216633    0.00248386   -0.00434615       0.00656015    0.00448987 \n",
       " -0.000355807  -0.000136804   0.00488391      -0.000662427   0.00646065 \n",
       " -0.00112315   -0.00107352    0.000518506  …   0.0035796    -0.00919107 "
      ]
     },
     "execution_count": 57,
     "metadata": {},
     "output_type": "execute_result"
    }
   ],
   "source": [
    "using RDatasets, MultivariateStats\n",
    "\n",
    "prior_PCA = CSV.read(\"prior_matrix.csv\", header = false)\n",
    "prior_PCA = convert(Array, prior_PCA)"
   ]
  },
  {
   "cell_type": "code",
   "execution_count": 58,
   "metadata": {},
   "outputs": [
    {
     "data": {
      "text/plain": [
       "PCA(indim = 326, outdim = 118, principalratio = 1.00000)"
      ]
     },
     "execution_count": 58,
     "metadata": {},
     "output_type": "execute_result"
    }
   ],
   "source": [
    "M = fit(PCA, prior_PCA, maxoutdim = 326, pratio = 1.0)"
   ]
  },
  {
   "cell_type": "markdown",
   "metadata": {},
   "source": [
    "labor: real associated with market\n",
    "nominal: price\n",
    "real: quantity\n",
    "\n",
    "survey: survey\n",
    "\n",
    "output pca: actual component, and the remainder matrix.\n",
    "- "
   ]
  },
  {
   "cell_type": "code",
   "execution_count": 59,
   "metadata": {
    "scrolled": true
   },
   "outputs": [
    {
     "data": {
      "text/plain": [
       "118×118 Array{Float64,2}:\n",
       "   -1.62095e5      -1.62095e5    …    -1.62095e5      -1.62095e5  \n",
       " -384.21         -384.21            -384.216        -384.214      \n",
       "   -2.71121        -2.70194           -2.66597        -2.70863    \n",
       "   -8.00722        -8.00494           -7.97494        -8.01179    \n",
       "   -2.37851        -2.38103           -2.4021         -2.34841    \n",
       "    0.797908        0.799465     …     0.774329        0.799578   \n",
       "   -0.175178       -0.177506          -0.144432       -0.172536   \n",
       "    0.290388        0.291273           0.312757        0.278015   \n",
       "    0.154221        0.156373           0.10337         0.162376   \n",
       "   -0.820866       -0.818778          -0.828527       -0.825093   \n",
       "    0.353082        0.351388     …     0.340854        0.333287   \n",
       "   -1.13331        -1.13695           -1.17108        -1.1394     \n",
       "    0.0519798       0.0531303          0.0640827       0.0371295  \n",
       "    ⋮                            ⋱                                \n",
       "   -7.48221e-5      0.000101485       -2.32596e-5      4.94753e-5 \n",
       "   -7.02649e-5      2.0417e-5          1.43002e-5      2.72286e-5 \n",
       "   -7.30093e-6      6.67653e-6         1.60508e-5     -2.00149e-5 \n",
       "   -4.36419e-6     -2.23556e-5        -1.9227e-5       9.06789e-6 \n",
       "   -6.3919e-6       1.5293e-5    …    -1.11358e-5     -8.55436e-6 \n",
       "   -1.26728e-6      1.65121e-5         2.01129e-6      1.0554e-5  \n",
       "   -3.75825e-5      3.66927e-5        -1.607e-6        1.03205e-5 \n",
       "   -6.43408e-6      2.03491e-5        -7.01053e-7     -4.33961e-6 \n",
       "   -1.04889e-5      1.17213e-5        -7.30246e-7      9.56615e-7 \n",
       "   -8.09482e-7      1.11834e-6   …     9.7539e-8      -6.23052e-7 \n",
       "   -3.43685e-7      2.2957e-7         -9.68309e-8     -1.38511e-7 \n",
       "   -5.75938e-10     4.08932e-10        2.19075e-10    -9.94078e-10"
      ]
     },
     "execution_count": 59,
     "metadata": {},
     "output_type": "execute_result"
    }
   ],
   "source": [
    "y = transform(M, prior_PCA)\n",
    "#reconstruct(M, y)[:,1]"
   ]
  },
  {
   "cell_type": "code",
   "execution_count": 60,
   "metadata": {},
   "outputs": [
    {
     "data": {
      "text/plain": [
       "326×118 Array{Float64,2}:\n",
       " -0.0154655  -0.0888199     0.0094992   …  -0.0805664    -0.365492  \n",
       " -0.0154109  -0.0888152     0.00949378     -0.0421734    -0.018819  \n",
       " -0.0157155  -0.0597371    -0.00924236     -0.0345907     0.0532612 \n",
       " -0.0158028  -0.0559008    -0.0287703      -0.134118      0.00761778\n",
       " -0.0157714  -0.0734852     0.100095       -0.0324559     0.0216346 \n",
       " -0.0157578  -0.0734749     0.100101    …  -0.0629455     0.0626036 \n",
       " -0.0157387  -0.0734749     0.100093       -0.0368075    -0.0301859 \n",
       " -0.0156677  -0.0946373     0.0388241       0.0149188    -0.00326446\n",
       " -0.0155774  -0.0734405     0.100108        0.0152083     0.0877049 \n",
       " -0.0154941  -0.07705       0.0788023       0.0145309     0.0108076 \n",
       " -0.0153965  -0.0770391     0.0788157   …   0.0459198     0.0308553 \n",
       " -0.0154279  -0.0632328    -0.0407133      -0.00557542    0.0163395 \n",
       " -0.0155338  -0.064221     -0.0358478      -0.000105982  -0.0150868 \n",
       "  ⋮                                     ⋱                           \n",
       "  0.094061    0.0165749     0.00524288      0.0347172    -0.00153158\n",
       "  0.0906901  -0.00519178   -0.0562458   …  -0.0418487     0.0150674 \n",
       "  0.0889194   0.00245667    0.0222951       0.0192394    -0.0289542 \n",
       "  0.0869222   0.00410036    0.00218703      0.0343579     0.0490205 \n",
       "  0.0849074   0.000846738   0.0167478      -0.0249212    -0.0295538 \n",
       "  0.0829157   0.00430567    0.00731094      0.0111172    -0.131341  \n",
       "  0.0807143  -0.0192218     0.124527    …   0.0214422    -0.0032415 \n",
       "  0.0778477  -0.0305841     0.0604129       0.00332277   -0.0175704 \n",
       "  0.0736168  -0.00819179   -0.0571808       0.0312906    -0.0224896 \n",
       "  0.0708706  -0.0086693    -0.0573531      -0.0411176     0.127996  \n",
       "  0.0712074  -0.0385825    -0.0541117       0.0326501     0.0619649 \n",
       "  0.071848   -0.0352582     0.0387127   …  -0.0461343    -0.0401048 "
      ]
     },
     "execution_count": 60,
     "metadata": {},
     "output_type": "execute_result"
    }
   ],
   "source": [
    "p = projection(M)"
   ]
  },
  {
   "cell_type": "code",
   "execution_count": 15,
   "metadata": {},
   "outputs": [
    {
     "data": {
      "text/plain": [
       "326×118 Array{Float64,2}:\n",
       " 33.8122    33.8116    33.8123    …  33.8504    33.8074    33.8139  \n",
       " 33.3275    33.3267    33.3246       33.2735    33.3267    33.3311  \n",
       " 23.1378    23.1382    23.1376       23.1808    23.144     23.1339  \n",
       " 21.6991    21.6996    21.6976       21.6941    21.6891    21.7002  \n",
       " 27.9424    27.942     27.9465       27.9395    27.9575    27.9463  \n",
       " 28.411     28.4112    28.4096    …  28.4011    28.4025    28.4014  \n",
       " 27.7871    27.7862    27.7973       27.7944    27.7862    27.7951  \n",
       " 35.7689    35.7683    35.7772       35.7706    35.7887    35.7794  \n",
       " 28.2372    28.2397    28.2367       28.2412    28.2347    28.2373  \n",
       " 29.2323    29.2368    29.203        29.2027    29.1848    29.1879  \n",
       " 29.2553    29.2483    29.2817    …  29.2404    29.293     29.2985  \n",
       " 24.8132    24.8145    24.8104       24.8533    24.8101    24.8164  \n",
       " 24.9711    24.97      24.9709       24.9945    24.9843    24.9708  \n",
       "  ⋮                               ⋱   ⋮                             \n",
       " -5.28007   -5.28      -5.27675      -5.29037   -5.28469   -5.26975 \n",
       "  2.9275     2.92769    2.92728   …   2.93926    2.93261    2.91995 \n",
       " -0.271034  -0.270648  -0.270194     -0.269532  -0.27117   -0.273842\n",
       " -0.914629  -0.914393  -0.914717     -0.928147  -0.921115  -0.917451\n",
       "  0.108414   0.108298   0.109254      0.118768   0.115511   0.114449\n",
       " -0.557305  -0.557676  -0.554068     -0.554377  -0.557386  -0.551162\n",
       "  7.92845    7.9288     7.9303    …   7.92996    7.93257    7.93657 \n",
       " 12.1742    12.1752    12.1569       12.1667    12.1645    12.1646  \n",
       "  3.9191     3.91389    3.9222        3.91243    3.91306    3.91038 \n",
       "  4.21974    4.21986    4.21349       4.22475    4.22404    4.22201 \n",
       " 15.2526    15.2526    15.2581       15.2522    15.2522    15.2594  \n",
       " 13.5375    13.5373    13.5394    …  13.5417    13.5421    13.5293  "
      ]
     },
     "execution_count": 15,
     "metadata": {},
     "output_type": "execute_result"
    }
   ],
   "source": [
    "x_reduced = p[:,2:end] * y[2:end,:]"
   ]
  },
  {
   "cell_type": "code",
   "execution_count": 68,
   "metadata": {},
   "outputs": [
    {
     "data": {
      "text/plain": [
       "326-element Array{Float64,1}:\n",
       " -0.015465542556305037\n",
       " -0.015410852487686543\n",
       " -0.01571554710647047 \n",
       " -0.01580279239427524 \n",
       " -0.01577136442329982 \n",
       " -0.0157577527453626  \n",
       " -0.01573865804895142 \n",
       " -0.015667733406371488\n",
       " -0.015577362553049765\n",
       " -0.015494061504209986\n",
       " -0.015396488802840964\n",
       " -0.015427874719542505\n",
       " -0.015533847606805113\n",
       "  ⋮                   \n",
       "  0.09406102761399797 \n",
       "  0.09069006013059379 \n",
       "  0.0889194476003686  \n",
       "  0.08692221844824095 \n",
       "  0.08490741500597815 \n",
       "  0.08291567102696273 \n",
       "  0.08071433417035961 \n",
       "  0.07784771857163104 \n",
       "  0.07361683301787773 \n",
       "  0.07087062103444455 \n",
       "  0.07120744744176233 \n",
       "  0.07184800307788425 "
      ]
     },
     "execution_count": 68,
     "metadata": {},
     "output_type": "execute_result"
    }
   ],
   "source": [
    "f_G = p[:,1]"
   ]
  },
  {
   "cell_type": "code",
   "execution_count": null,
   "metadata": {
    "collapsed": true
   },
   "outputs": [],
   "source": []
  },
  {
   "cell_type": "code",
   "execution_count": null,
   "metadata": {
    "collapsed": true
   },
   "outputs": [],
   "source": []
  },
  {
   "cell_type": "code",
   "execution_count": null,
   "metadata": {
    "collapsed": true
   },
   "outputs": [],
   "source": []
  },
  {
   "cell_type": "code",
   "execution_count": null,
   "metadata": {
    "collapsed": true
   },
   "outputs": [],
   "source": []
  },
  {
   "cell_type": "code",
   "execution_count": null,
   "metadata": {
    "collapsed": true
   },
   "outputs": [],
   "source": []
  },
  {
   "cell_type": "code",
   "execution_count": null,
   "metadata": {
    "collapsed": true
   },
   "outputs": [],
   "source": []
  },
  {
   "cell_type": "code",
   "execution_count": 48,
   "metadata": {},
   "outputs": [
    {
     "name": "stdout",
     "output_type": "stream",
     "text": [
      "Symbol[:RPI, :W875RX1, :DPCERA3M086SBEA, :CMRMTSPL, :MRTSSM44X72USS, :INDPRO, :IPFPNSS, :IPFINAL, :IPCONGD, :IPDCONGD, :IPNCONGD, :IPBUSEQ, :IPMAT, :IPDMAT, :IPNMAT, :IPMANSICS, :IPB51222S, :IPFUELS, :CUMFNS, :CLF16OV, :CE16OV, :UNRATE, :UEMPMEAN, :UEMPLT5, :UEMP5TO14, :UEMP15OV, :UEMP15T26, :UEMP27OV, :ICSA, :PAYEMS, :USGOOD, :CES1021000001, :USCONS, :MANEMP, :DMANEMP, :NDMANEMP, :SRVPRD, :USTPU, :USWTRADE, :USTRADE, :USFIRE, :USGOVT, :CES0600000007, :AWOTMAN, :AWHMAN, :HOUST, :HOUSTNE, :HOUSTMW, :HOUSTS, :HOUSTW, :PERMIT, :PERMITNE, :PERMITMW, :PERMITS, :PERMITW, :ACOGNO, :DGORDER, :NEWORDER, :AMDMUO, :BUSINV, :ISRATIO, :M1SL, :M2SL, :M2REAL, :AMBSL, :TOTRESNS, :NONBORRES, :BUSLOANS, :REALLN, :NONREVSL, :PI, :SP500, :DJIA, :M1346BUSM156NNBR, :FEDFUNDS, :CP3M, :TB3MS, :TB6MS, :GS1, :GS5, :GS10, :AAA, :BAA, :CPFF, :TB3SMFFM, :TB6SMFFM, :T1YFFM, :T5YFFM, :T10YFFM, :AAAFFM, :BAAFFM, :TWEXMMTH, :EXSZUS, :EXJPUS, :EXUSUK, :EXCAUS, :WPSFD49207, :WPSFD49502, :WPSID61, :WPSID62, :WTISPLC, :PPICMM, :CPIAUCSL, :CPIAPPSL, :CPITRNSL, :CPIMEDSL, :CUSR0000SAC, :CUSR0000SAD, :CUSR0000SAS, :CPIULFSL, :CUSR0000SA0L2, :CUSR0000SA0L5, :PCEPI, :DDURRG3M086SBEA, :DNDGRG3M086SBEA, :DSERRG3M086SBEA, :CES0600000008, :CES2000000008, :CES3000000008, :UMCSENT, :MZMSL, :DTCOLNVHFNM, :DTCTHFNM, :INVEST, :VXOCLS, :GDPC1, :GDPCTPI]\n",
      "\n",
      "Symbol[:RPI, :W875RX1, :DPCERA3M086SBEA, :CMRMTSPL, :MRTSSM44X72USS, :INDPRO, :IPFPNSS, :IPFINAL, :IPCONGD, :IPDCONGD, :IPNCONGD, :IPBUSEQ, :IPMAT, :IPDMAT, :IPNMAT, :IPMANSICS, :IPB51222S, :IPFUELS, :CUMFNS, :CLF16OV, :CE16OV, :UNRATE, :UEMPMEAN, :UEMPLT5, :UEMP5TO14, :UEMP15OV, :UEMP15T26, :UEMP27OV, :PAYEMS, :USGOOD, :CES1021000001, :USCONS, :MANEMP, :DMANEMP, :NDMANEMP, :SRVPRD, :USTPU, :USWTRADE, :USTRADE, :USFIRE, :USGOVT, :CES0600000007, :AWOTMAN, :AWHMAN, :HOUST, :HOUSTNE, :HOUSTMW, :HOUSTS, :HOUSTW, :PERMIT, :PERMITNE, :PERMITMW, :PERMITS, :PERMITW, :ACOGNO, :DGORDER, :NEWORDER, :AMDMUO, :BUSINV, :ISRATIO, :M1SL, :M2SL, :M2REAL, :AMBSL, :TOTRESNS, :NONBORRES, :BUSLOANS, :REALLN, :NONREVSL, :PI, :FEDFUNDS, :TB3MS, :TB6MS, :GS1, :GS5, :GS10, :AAA, :BAA, :TB3SMFFM, :TB6SMFFM, :T1YFFM, :T5YFFM, :T10YFFM, :AAAFFM, :BAAFFM, :TWEXMMTH, :EXSZUS, :EXJPUS, :EXUSUK, :EXCAUS, :WPSFD49207, :WPSFD49502, :WPSID61, :WPSID62, :WTISPLC, :PPICMM, :CPIAUCSL, :CPIAPPSL, :CPITRNSL, :CPIMEDSL, :CUSR0000SAC, :CUSR0000SAD, :CUSR0000SAS, :CPIULFSL, :CUSR0000SA0L2, :CUSR0000SA0L5, :PCEPI, :DDURRG3M086SBEA, :DNDGRG3M086SBEA, :DSERRG3M086SBEA, :CES0600000008, :CES2000000008, :CES3000000008, :UMCSENT, :MZMSL, :DTCOLNVHFNM, :DTCTHFNM, :INVEST]\n"
     ]
    }
   ],
   "source": [
    "println(names(datra)[2:end])\n",
    "println()\n",
    "println(names(data)[2:end])"
   ]
  },
  {
   "cell_type": "code",
   "execution_count": 49,
   "metadata": {},
   "outputs": [
    {
     "data": {
      "text/plain": [
       "119"
      ]
     },
     "execution_count": 49,
     "metadata": {},
     "output_type": "execute_result"
    }
   ],
   "source": [
    "length(names(data)) \n",
    "## remove 9 series including ?both GDPC1, GDPCTPI, ICSA, VXOCLS, :SP500, :DJIA, :M1346BUSM156NNBR, CPFF, CP3M "
   ]
  },
  {
   "cell_type": "code",
   "execution_count": null,
   "metadata": {
    "collapsed": true
   },
   "outputs": [],
   "source": []
  },
  {
   "cell_type": "code",
   "execution_count": 81,
   "metadata": {},
   "outputs": [
    {
     "data": {
      "text/plain": [
       "29-element Array{Symbol,1}:\n",
       " :CLF16OV      \n",
       " :CE16OV       \n",
       " :UNRATE       \n",
       " :UEMPMEAN     \n",
       " :UEMPLT5      \n",
       " :UEMP5TO14    \n",
       " :UEMP15OV     \n",
       " :UEMP15T26    \n",
       " :UEMP27OV     \n",
       " :ICSA         \n",
       " :PAYEMS       \n",
       " :USGOOD       \n",
       " :CES1021000001\n",
       " ⋮             \n",
       " :SRVPRD       \n",
       " :USTPU        \n",
       " :USWTRADE     \n",
       " :USTRADE      \n",
       " :USFIRE       \n",
       " :USGOVT       \n",
       " :CES0600000007\n",
       " :AWOTMAN      \n",
       " :AWHMAN       \n",
       " :CES0600000008\n",
       " :CES2000000008\n",
       " :CES3000000008"
      ]
     },
     "execution_count": 81,
     "metadata": {},
     "output_type": "execute_result"
    }
   ],
   "source": [
    "R = [:RPI,:W875RX1,:DPCERA3M086SBEA,:CMRMTSPL,:INDPRO,:IPFPNSS,:IPFINAL,:IPCONGD,:IPDCONGD,:IPNCONGD,:IPBUSEQ,:IPMAT,:IPDMAT,:IPNMAT,:IPMANSICS,:IPB51222S,:IPFUELS\n",
    "    ,:CUMFNS,:ISRATIO,:M2REAL,:HOUST,:HOUSTNE,:HOUSTMW,:HOUSTS,:HOUSTW,:PERMIT,:PERMITNE,:PERMITMW,:PERMITS,:PERMITW\n",
    "    ,:PI,:WPSFD49207,:WPSFD49502,:WPSID61,:WPSID62,:WTISPLC,:PPICMM,:CPIAUCSL,:CPIAPPSL,:CPITRNSL,:CPIMEDSL,:CUSR0000SAC\n",
    "    ,:CUSR0000SAD,:CUSR0000SAS,:CPIULFSL,:CUSR0000SA0L2,:CUSR0000SA0L5,:GDPC1,:GDPCTPI]\n",
    "S = [:UMCSENT,:DTCOLNVHFNM,:DTCTHFNM]\n",
    "L = [:CLF16OV,:CE16OV,:UNRATE,:UEMPMEAN,:UEMPLT5,:UEMP5TO14,:UEMP15OV,:UEMP15T26,:UEMP27OV,:ICSA,:PAYEMS,:USGOOD,:CES1021000001,:USCONS,:MANEMP,:DMANEMP,:NDMANEMP,:SRVPRD,:USTPU,:USWTRADE,:USTRADE,:USFIRE,:USGOVT,:CES0600000007,:AWOTMAN,:AWHMAN,:CES0600000008,:CES2000000008,:CES3000000008]\n",
    "# otherwise, assign to nominal factor\n"
   ]
  },
  {
   "cell_type": "code",
   "execution_count": 38,
   "metadata": {},
   "outputs": [
    {
     "data": {
      "text/plain": [
       "118-element Array{Symbol,1}:\n",
       " :RPI            \n",
       " :W875RX1        \n",
       " :DPCERA3M086SBEA\n",
       " :CMRMTSPL       \n",
       " :MRTSSM44X72USS \n",
       " :INDPRO         \n",
       " :IPFPNSS        \n",
       " :IPFINAL        \n",
       " :IPCONGD        \n",
       " :IPDCONGD       \n",
       " :IPNCONGD       \n",
       " :IPBUSEQ        \n",
       " :IPMAT          \n",
       " ⋮               \n",
       " :PCEPI          \n",
       " :DDURRG3M086SBEA\n",
       " :DNDGRG3M086SBEA\n",
       " :DSERRG3M086SBEA\n",
       " :CES0600000008  \n",
       " :CES2000000008  \n",
       " :CES3000000008  \n",
       " :UMCSENT        \n",
       " :MZMSL          \n",
       " :DTCOLNVHFNM    \n",
       " :DTCTHFNM       \n",
       " :INVEST         "
      ]
     },
     "execution_count": 38,
     "metadata": {},
     "output_type": "execute_result"
    }
   ],
   "source": [
    "prior_colname = names(data)[2:end]\n"
   ]
  },
  {
   "cell_type": "code",
   "execution_count": 85,
   "metadata": {
    "collapsed": true
   },
   "outputs": [],
   "source": [
    "prior_colname_ind = Array{String}(undef, length(prior_colname))\n",
    "for i in 1:length(prior_colname)\n",
    "    counter = 0\n",
    "    for a in 1:length(R)\n",
    "        if R[a] == prior_colname[i]\n",
    "            prior_colname_ind[i] = \"R\"\n",
    "            counter = counter + 1\n",
    "        break\n",
    "        end\n",
    "    end\n",
    "    \n",
    "    for b in 1:length(S)\n",
    "        if S[b] == prior_colname[i]\n",
    "            prior_colname_ind[i] = \"S\"\n",
    "            counter = counter +1\n",
    "        break\n",
    "        end\n",
    "    end\n",
    "    \n",
    "    for c in 1:length(L)\n",
    "        if L[c] == prior_colname[i]\n",
    "            prior_colname_ind[i] = \"L\"\n",
    "            counter = counter + 1\n",
    "        break\n",
    "        end\n",
    "    end\n",
    "    \n",
    "    if counter == 0\n",
    "        prior_colname_ind[i] = \"N\"\n",
    "    end\n",
    "end\n",
    "        "
   ]
  },
  {
   "cell_type": "code",
   "execution_count": 194,
   "metadata": {},
   "outputs": [
    {
     "name": "stdout",
     "output_type": "stream",
     "text": [
      "[\"R\", \"R\", \"R\", \"R\", \"N\", \"R\", \"R\", \"R\", \"R\", \"R\", \"R\", \"R\", \"R\", \"R\", \"R\", \"R\", \"R\", \"R\", \"R\", \"L\", \"L\", \"L\", \"L\", \"L\", \"L\", \"L\", \"L\", \"L\", \"L\", \"L\", \"L\", \"L\", \"L\", \"L\", \"L\", \"L\", \"L\", \"L\", \"L\", \"L\", \"L\", \"L\", \"L\", \"L\", \"R\", \"R\", \"R\", \"R\", \"R\", \"R\", \"R\", \"R\", \"R\", \"R\", \"N\", \"N\", \"N\", \"N\", \"N\", \"R\", \"N\", \"N\", \"R\", \"N\", \"N\", \"N\", \"N\", \"N\", \"N\", \"R\", \"N\", \"N\", \"N\", \"N\", \"N\", \"N\", \"N\", \"N\", \"N\", \"N\", \"N\", \"N\", \"N\", \"N\", \"N\", \"N\", \"N\", \"N\", \"N\", \"N\", \"R\", \"R\", \"R\", \"R\", \"R\", \"R\", \"R\", \"R\", \"R\", \"R\", \"R\", \"R\", \"R\", \"R\", \"R\", \"R\", \"N\", \"N\", \"N\", \"N\", \"L\", \"L\", \"L\", \"S\", \"N\", \"S\", \"S\", \"N\"]"
     ]
    }
   ],
   "source": [
    "print(prior_colname_ind)"
   ]
  },
  {
   "cell_type": "code",
   "execution_count": 96,
   "metadata": {},
   "outputs": [
    {
     "name": "stdout",
     "output_type": "stream",
     "text": [
      "\n"
     ]
    }
   ],
   "source": [
    "R_col = findall(x -> x == \"R\", prior_colname_ind)\n",
    "S_col= findall(x -> x == \"S\", prior_colname_ind)\n",
    "L_col = findall(x -> x == \"L\", prior_colname_ind)\n",
    "N_col = findall(x -> x == \"N\", prior_colname_ind)\n",
    "println()"
   ]
  },
  {
   "cell_type": "code",
   "execution_count": 91,
   "metadata": {},
   "outputs": [
    {
     "data": {
      "text/plain": [
       "326-element Array{Float64,1}:\n",
       " -0.08979379199721609 \n",
       " -0.043906946034085244\n",
       " -0.07041415432005703 \n",
       " -0.05895539522719852 \n",
       " -0.0697597058009971  \n",
       " -0.10489866716823577 \n",
       " -0.03820232753471525 \n",
       " -0.06771960239465903 \n",
       " -0.07661397617634151 \n",
       " -0.04642296627637935 \n",
       " -0.07880283004599435 \n",
       " -0.0770822877714244  \n",
       " -0.07657479526097682 \n",
       "  ⋮                   \n",
       " -0.02814207315035285 \n",
       " -0.04214121608031785 \n",
       " -0.03468282840024315 \n",
       " -0.016539584194207573\n",
       " -0.01797264833848361 \n",
       " -0.04623594370648884 \n",
       " -0.07588521235411436 \n",
       " -0.06826911571861484 \n",
       " -0.04041808795551904 \n",
       " -0.056330689151963556\n",
       " -0.04858874970538942 \n",
       " -0.00958957779133858 "
      ]
     },
     "execution_count": 91,
     "metadata": {},
     "output_type": "execute_result"
    }
   ],
   "source": [
    "x_reduced_R = x_reduced[:,R_col]\n",
    "M_R = fit(PCA, x_reduced_R, maxoutdim = 326, pratio = 1.0)\n",
    "f_R = projection(M_R)[:,1]\n",
    "\n",
    "x_reduced_N = x_reduced[:,N_col]\n",
    "M_N = fit(PCA, x_reduced_N, maxoutdim = 326, pratio = 1.0)\n",
    "f_N = projection(M_N)[:,1]\n",
    "\n",
    "x_reduced_L = x_reduced[:,L_col]\n",
    "M_L = fit(PCA, x_reduced_L, maxoutdim = 326, pratio = 1.0)\n",
    "f_L = projection(M_L)[:,1]\n",
    "\n",
    "x_reduced_S = x_reduced[:,S_col]\n",
    "M_S = fit(PCA, x_reduced_S, maxoutdim = 326, pratio = 1.0)\n",
    "f_S = projection(M_S)[:,1]"
   ]
  },
  {
   "cell_type": "code",
   "execution_count": null,
   "metadata": {
    "collapsed": true
   },
   "outputs": [],
   "source": []
  },
  {
   "cell_type": "code",
   "execution_count": null,
   "metadata": {
    "collapsed": true
   },
   "outputs": [],
   "source": []
  },
  {
   "cell_type": "code",
   "execution_count": null,
   "metadata": {
    "collapsed": true
   },
   "outputs": [],
   "source": []
  },
  {
   "cell_type": "code",
   "execution_count": 98,
   "metadata": {},
   "outputs": [
    {
     "data": {
      "text/plain": [
       "326×5 Array{Float64,2}:\n",
       " -0.0154655  -0.0888093    -0.103543    -0.0854459    -0.0897938 \n",
       " -0.0154109  -0.0887995    -0.0148086   -0.0834812    -0.0439069 \n",
       " -0.0157155  -0.0597353    -0.0260516   -0.0581564    -0.0704142 \n",
       " -0.0158028  -0.0558929    -0.0145268   -0.0552562    -0.0589554 \n",
       " -0.0157714  -0.0735222     0.0548368   -0.0735859    -0.0697597 \n",
       " -0.0157578  -0.0735193     0.00947875  -0.0742388    -0.104899  \n",
       " -0.0157387  -0.0735182     0.00954753  -0.0705146    -0.0382023 \n",
       " -0.0156677  -0.0946391     0.0360647   -0.089197     -0.0677196 \n",
       " -0.0155774  -0.0734869    -0.172965    -0.071115     -0.076614  \n",
       " -0.0154941  -0.0770832    -0.08175     -0.0740812    -0.046423  \n",
       " -0.0153965  -0.0770623     0.0271019   -0.0738203    -0.0788028 \n",
       " -0.0154279  -0.0632254     0.0411393   -0.0650615    -0.0770823 \n",
       " -0.0155338  -0.0642065     0.0103039   -0.066878     -0.0765748 \n",
       "  ⋮                                                              \n",
       "  0.094061    0.0165433     0.0169677    0.013672     -0.0281421 \n",
       "  0.0906901  -0.00519009    0.00128248  -0.00667027   -0.0421412 \n",
       "  0.0889194   0.00242549    0.00975381   0.00201505   -0.0346828 \n",
       "  0.0869222   0.00408       0.0302072    0.00238514   -0.0165396 \n",
       "  0.0849074   0.000823588  -0.0517969    0.000942354  -0.0179726 \n",
       "  0.0829157   0.00427396    0.0278071    0.00129879   -0.0462359 \n",
       "  0.0807143  -0.0192893     0.0205766   -0.018932     -0.0758852 \n",
       "  0.0778477  -0.0306203    -0.00836935  -0.0293036    -0.0682691 \n",
       "  0.0736168  -0.00818156    0.104878    -0.0082162    -0.0404181 \n",
       "  0.0708706  -0.00866236   -0.0343866   -0.0131598    -0.0563307 \n",
       "  0.0712074  -0.0385684    -0.0637923   -0.0404269    -0.0485887 \n",
       "  0.071848   -0.0352861     0.0203717   -0.0361413    -0.00958958"
      ]
     },
     "execution_count": 98,
     "metadata": {},
     "output_type": "execute_result"
    }
   ],
   "source": [
    "hcat(f_G,f_L,f_S,f_N,f_R)"
   ]
  },
  {
   "cell_type": "code",
   "execution_count": null,
   "metadata": {
    "collapsed": true
   },
   "outputs": [],
   "source": []
  },
  {
   "cell_type": "code",
   "execution_count": null,
   "metadata": {},
   "outputs": [],
   "source": []
  },
  {
   "cell_type": "markdown",
   "metadata": {},
   "source": [
    "### 4. finding all estimates (of prior)"
   ]
  },
  {
   "cell_type": "code",
   "execution_count": 307,
   "metadata": {},
   "outputs": [
    {
     "data": {
      "text/html": [
       "<table class=\"data-frame\"><thead><tr><th></th><th>f_G_lag</th><th>f_G</th><th>f_S_lag</th><th>f_S</th><th>f_L_lag</th><th>f_L</th><th>f_N_lag</th></tr><tr><th></th><th>Float64</th><th>Float64</th><th>Float64</th><th>Float64</th><th>Float64</th><th>Float64</th><th>Float64</th></tr></thead><tbody><p>326 rows × 128 columns (omitted printing of 121 columns)</p><tr><th>1</th><td>-0.0154109</td><td>-0.0154655</td><td>-0.0148086</td><td>-0.103543</td><td>-0.0887995</td><td>-0.0888093</td><td>-0.0834812</td></tr><tr><th>2</th><td>-0.0157155</td><td>-0.0154109</td><td>-0.0260516</td><td>-0.0148086</td><td>-0.0597353</td><td>-0.0887995</td><td>-0.0581564</td></tr><tr><th>3</th><td>-0.0158028</td><td>-0.0157155</td><td>-0.0145268</td><td>-0.0260516</td><td>-0.0558929</td><td>-0.0597353</td><td>-0.0552562</td></tr><tr><th>4</th><td>-0.0157714</td><td>-0.0158028</td><td>0.0548368</td><td>-0.0145268</td><td>-0.0735222</td><td>-0.0558929</td><td>-0.0735859</td></tr><tr><th>5</th><td>-0.0157578</td><td>-0.0157714</td><td>0.00947875</td><td>0.0548368</td><td>-0.0735193</td><td>-0.0735222</td><td>-0.0742388</td></tr><tr><th>6</th><td>-0.0157387</td><td>-0.0157578</td><td>0.00954753</td><td>0.00947875</td><td>-0.0735182</td><td>-0.0735193</td><td>-0.0705146</td></tr><tr><th>7</th><td>-0.0156677</td><td>-0.0157387</td><td>0.0360647</td><td>0.00954753</td><td>-0.0946391</td><td>-0.0735182</td><td>-0.089197</td></tr><tr><th>8</th><td>-0.0155774</td><td>-0.0156677</td><td>-0.172965</td><td>0.0360647</td><td>-0.0734869</td><td>-0.0946391</td><td>-0.071115</td></tr><tr><th>9</th><td>-0.0154941</td><td>-0.0155774</td><td>-0.08175</td><td>-0.172965</td><td>-0.0770832</td><td>-0.0734869</td><td>-0.0740812</td></tr><tr><th>10</th><td>-0.0153965</td><td>-0.0154941</td><td>0.0271019</td><td>-0.08175</td><td>-0.0770623</td><td>-0.0770832</td><td>-0.0738203</td></tr><tr><th>11</th><td>-0.0154279</td><td>-0.0153965</td><td>0.0411393</td><td>0.0271019</td><td>-0.0632254</td><td>-0.0770623</td><td>-0.0650615</td></tr><tr><th>12</th><td>-0.0155338</td><td>-0.0154279</td><td>0.0103039</td><td>0.0411393</td><td>-0.0642065</td><td>-0.0632254</td><td>-0.066878</td></tr><tr><th>13</th><td>-0.0155139</td><td>-0.0155338</td><td>0.00467533</td><td>0.0103039</td><td>-0.0734783</td><td>-0.0642065</td><td>-0.0730365</td></tr><tr><th>14</th><td>-0.0153967</td><td>-0.0155139</td><td>0.0767004</td><td>0.00467533</td><td>-0.0568291</td><td>-0.0734783</td><td>-0.0600994</td></tr><tr><th>15</th><td>-0.0154225</td><td>-0.0153967</td><td>-0.0143896</td><td>0.0767004</td><td>-0.0542682</td><td>-0.0568291</td><td>-0.0543326</td></tr><tr><th>16</th><td>-0.0153662</td><td>-0.0154225</td><td>0.0668841</td><td>-0.0143896</td><td>-0.0587078</td><td>-0.0542682</td><td>-0.0599484</td></tr><tr><th>17</th><td>-0.0153439</td><td>-0.0153662</td><td>-0.00281271</td><td>0.0668841</td><td>-0.0641735</td><td>-0.0587078</td><td>-0.0667902</td></tr><tr><th>18</th><td>-0.0153471</td><td>-0.0153439</td><td>-0.00793885</td><td>-0.00281271</td><td>-0.0564493</td><td>-0.0641735</td><td>-0.0587681</td></tr><tr><th>19</th><td>-0.015279</td><td>-0.0153471</td><td>-0.0686159</td><td>-0.00793885</td><td>-0.0586139</td><td>-0.0564493</td><td>-0.0598848</td></tr><tr><th>20</th><td>-0.0152261</td><td>-0.015279</td><td>0.0249713</td><td>-0.0686159</td><td>-0.0528149</td><td>-0.0586139</td><td>-0.0530169</td></tr><tr><th>21</th><td>-0.0151485</td><td>-0.0152261</td><td>-0.100459</td><td>0.0249713</td><td>-0.0585913</td><td>-0.0528149</td><td>-0.059597</td></tr><tr><th>22</th><td>-0.0150671</td><td>-0.0151485</td><td>-0.087489</td><td>-0.100459</td><td>-0.056771</td><td>-0.0585913</td><td>-0.0574536</td></tr><tr><th>23</th><td>-0.0151089</td><td>-0.0150671</td><td>0.0179146</td><td>-0.087489</td><td>-0.0509843</td><td>-0.056771</td><td>-0.0584745</td></tr><tr><th>24</th><td>-0.0152366</td><td>-0.0151089</td><td>0.0274193</td><td>0.0179146</td><td>-0.0828313</td><td>-0.0509843</td><td>-0.0825044</td></tr><tr><th>25</th><td>-0.0152355</td><td>-0.0152366</td><td>-0.015166</td><td>0.0274193</td><td>-0.0505342</td><td>-0.0828313</td><td>-0.0505052</td></tr><tr><th>26</th><td>-0.0151335</td><td>-0.0152355</td><td>-0.0016895</td><td>-0.015166</td><td>-0.0604371</td><td>-0.0505342</td><td>-0.060715</td></tr><tr><th>27</th><td>-0.0152623</td><td>-0.0151335</td><td>0.0260325</td><td>-0.0016895</td><td>-0.0604581</td><td>-0.0604371</td><td>-0.0592281</td></tr><tr><th>28</th><td>-0.0152323</td><td>-0.0152623</td><td>0.0340125</td><td>0.0260325</td><td>-0.0604534</td><td>-0.0604581</td><td>-0.0614982</td></tr><tr><th>29</th><td>-0.0152301</td><td>-0.0152323</td><td>-0.0376534</td><td>0.0340125</td><td>-0.0604514</td><td>-0.0604534</td><td>-0.0597368</td></tr><tr><th>30</th><td>-0.0152703</td><td>-0.0152301</td><td>0.00443847</td><td>-0.0376534</td><td>-0.050541</td><td>-0.0604514</td><td>-0.0526121</td></tr><tr><th>&vellip;</th><td>&vellip;</td><td>&vellip;</td><td>&vellip;</td><td>&vellip;</td><td>&vellip;</td><td>&vellip;</td><td>&vellip;</td></tr></tbody></table>"
      ],
      "text/latex": [
       "\\begin{tabular}{r|cccccccc}\n",
       "\t& f\\_G\\_lag & f\\_G & f\\_S\\_lag & f\\_S & f\\_L\\_lag & f\\_L & f\\_N\\_lag & \\\\\n",
       "\t\\hline\n",
       "\t& Float64 & Float64 & Float64 & Float64 & Float64 & Float64 & Float64 & \\\\\n",
       "\t\\hline\n",
       "\t1 & -0.0154109 & -0.0154655 & -0.0148086 & -0.103543 & -0.0887995 & -0.0888093 & -0.0834812 & $\\dots$ \\\\\n",
       "\t2 & -0.0157155 & -0.0154109 & -0.0260516 & -0.0148086 & -0.0597353 & -0.0887995 & -0.0581564 & $\\dots$ \\\\\n",
       "\t3 & -0.0158028 & -0.0157155 & -0.0145268 & -0.0260516 & -0.0558929 & -0.0597353 & -0.0552562 & $\\dots$ \\\\\n",
       "\t4 & -0.0157714 & -0.0158028 & 0.0548368 & -0.0145268 & -0.0735222 & -0.0558929 & -0.0735859 & $\\dots$ \\\\\n",
       "\t5 & -0.0157578 & -0.0157714 & 0.00947875 & 0.0548368 & -0.0735193 & -0.0735222 & -0.0742388 & $\\dots$ \\\\\n",
       "\t6 & -0.0157387 & -0.0157578 & 0.00954753 & 0.00947875 & -0.0735182 & -0.0735193 & -0.0705146 & $\\dots$ \\\\\n",
       "\t7 & -0.0156677 & -0.0157387 & 0.0360647 & 0.00954753 & -0.0946391 & -0.0735182 & -0.089197 & $\\dots$ \\\\\n",
       "\t8 & -0.0155774 & -0.0156677 & -0.172965 & 0.0360647 & -0.0734869 & -0.0946391 & -0.071115 & $\\dots$ \\\\\n",
       "\t9 & -0.0154941 & -0.0155774 & -0.08175 & -0.172965 & -0.0770832 & -0.0734869 & -0.0740812 & $\\dots$ \\\\\n",
       "\t10 & -0.0153965 & -0.0154941 & 0.0271019 & -0.08175 & -0.0770623 & -0.0770832 & -0.0738203 & $\\dots$ \\\\\n",
       "\t11 & -0.0154279 & -0.0153965 & 0.0411393 & 0.0271019 & -0.0632254 & -0.0770623 & -0.0650615 & $\\dots$ \\\\\n",
       "\t12 & -0.0155338 & -0.0154279 & 0.0103039 & 0.0411393 & -0.0642065 & -0.0632254 & -0.066878 & $\\dots$ \\\\\n",
       "\t13 & -0.0155139 & -0.0155338 & 0.00467533 & 0.0103039 & -0.0734783 & -0.0642065 & -0.0730365 & $\\dots$ \\\\\n",
       "\t14 & -0.0153967 & -0.0155139 & 0.0767004 & 0.00467533 & -0.0568291 & -0.0734783 & -0.0600994 & $\\dots$ \\\\\n",
       "\t15 & -0.0154225 & -0.0153967 & -0.0143896 & 0.0767004 & -0.0542682 & -0.0568291 & -0.0543326 & $\\dots$ \\\\\n",
       "\t16 & -0.0153662 & -0.0154225 & 0.0668841 & -0.0143896 & -0.0587078 & -0.0542682 & -0.0599484 & $\\dots$ \\\\\n",
       "\t17 & -0.0153439 & -0.0153662 & -0.00281271 & 0.0668841 & -0.0641735 & -0.0587078 & -0.0667902 & $\\dots$ \\\\\n",
       "\t18 & -0.0153471 & -0.0153439 & -0.00793885 & -0.00281271 & -0.0564493 & -0.0641735 & -0.0587681 & $\\dots$ \\\\\n",
       "\t19 & -0.015279 & -0.0153471 & -0.0686159 & -0.00793885 & -0.0586139 & -0.0564493 & -0.0598848 & $\\dots$ \\\\\n",
       "\t20 & -0.0152261 & -0.015279 & 0.0249713 & -0.0686159 & -0.0528149 & -0.0586139 & -0.0530169 & $\\dots$ \\\\\n",
       "\t21 & -0.0151485 & -0.0152261 & -0.100459 & 0.0249713 & -0.0585913 & -0.0528149 & -0.059597 & $\\dots$ \\\\\n",
       "\t22 & -0.0150671 & -0.0151485 & -0.087489 & -0.100459 & -0.056771 & -0.0585913 & -0.0574536 & $\\dots$ \\\\\n",
       "\t23 & -0.0151089 & -0.0150671 & 0.0179146 & -0.087489 & -0.0509843 & -0.056771 & -0.0584745 & $\\dots$ \\\\\n",
       "\t24 & -0.0152366 & -0.0151089 & 0.0274193 & 0.0179146 & -0.0828313 & -0.0509843 & -0.0825044 & $\\dots$ \\\\\n",
       "\t25 & -0.0152355 & -0.0152366 & -0.015166 & 0.0274193 & -0.0505342 & -0.0828313 & -0.0505052 & $\\dots$ \\\\\n",
       "\t26 & -0.0151335 & -0.0152355 & -0.0016895 & -0.015166 & -0.0604371 & -0.0505342 & -0.060715 & $\\dots$ \\\\\n",
       "\t27 & -0.0152623 & -0.0151335 & 0.0260325 & -0.0016895 & -0.0604581 & -0.0604371 & -0.0592281 & $\\dots$ \\\\\n",
       "\t28 & -0.0152323 & -0.0152623 & 0.0340125 & 0.0260325 & -0.0604534 & -0.0604581 & -0.0614982 & $\\dots$ \\\\\n",
       "\t29 & -0.0152301 & -0.0152323 & -0.0376534 & 0.0340125 & -0.0604514 & -0.0604534 & -0.0597368 & $\\dots$ \\\\\n",
       "\t30 & -0.0152703 & -0.0152301 & 0.00443847 & -0.0376534 & -0.050541 & -0.0604514 & -0.0526121 & $\\dots$ \\\\\n",
       "\t$\\dots$ & $\\dots$ & $\\dots$ & $\\dots$ & $\\dots$ & $\\dots$ & $\\dots$ & $\\dots$ &  \\\\\n",
       "\\end{tabular}\n"
      ],
      "text/plain": [
       "326×128 DataFrame. Omitted printing of 123 columns\n",
       "│ Row │ f_G_lag    │ f_G        │ f_S_lag     │ f_S         │ f_L_lag     │\n",
       "│     │ \u001b[90mFloat64\u001b[39m    │ \u001b[90mFloat64\u001b[39m    │ \u001b[90mFloat64\u001b[39m     │ \u001b[90mFloat64\u001b[39m     │ \u001b[90mFloat64\u001b[39m     │\n",
       "├─────┼────────────┼────────────┼─────────────┼─────────────┼─────────────┤\n",
       "│ 1   │ -0.0154109 │ -0.0154655 │ -0.0148086  │ -0.103543   │ -0.0887995  │\n",
       "│ 2   │ -0.0157155 │ -0.0154109 │ -0.0260516  │ -0.0148086  │ -0.0597353  │\n",
       "│ 3   │ -0.0158028 │ -0.0157155 │ -0.0145268  │ -0.0260516  │ -0.0558929  │\n",
       "│ 4   │ -0.0157714 │ -0.0158028 │ 0.0548368   │ -0.0145268  │ -0.0735222  │\n",
       "│ 5   │ -0.0157578 │ -0.0157714 │ 0.00947875  │ 0.0548368   │ -0.0735193  │\n",
       "│ 6   │ -0.0157387 │ -0.0157578 │ 0.00954753  │ 0.00947875  │ -0.0735182  │\n",
       "│ 7   │ -0.0156677 │ -0.0157387 │ 0.0360647   │ 0.00954753  │ -0.0946391  │\n",
       "│ 8   │ -0.0155774 │ -0.0156677 │ -0.172965   │ 0.0360647   │ -0.0734869  │\n",
       "│ 9   │ -0.0154941 │ -0.0155774 │ -0.08175    │ -0.172965   │ -0.0770832  │\n",
       "│ 10  │ -0.0153965 │ -0.0154941 │ 0.0271019   │ -0.08175    │ -0.0770623  │\n",
       "⋮\n",
       "│ 316 │ 0.0889194  │ 0.0906901  │ 0.00975381  │ 0.00128248  │ 0.00242549  │\n",
       "│ 317 │ 0.0869222  │ 0.0889194  │ 0.0302072   │ 0.00975381  │ 0.00408     │\n",
       "│ 318 │ 0.0849074  │ 0.0869222  │ -0.0517969  │ 0.0302072   │ 0.000823588 │\n",
       "│ 319 │ 0.0829157  │ 0.0849074  │ 0.0278071   │ -0.0517969  │ 0.00427396  │\n",
       "│ 320 │ 0.0807143  │ 0.0829157  │ 0.0205766   │ 0.0278071   │ -0.0192893  │\n",
       "│ 321 │ 0.0778477  │ 0.0807143  │ -0.00836935 │ 0.0205766   │ -0.0306203  │\n",
       "│ 322 │ 0.0736168  │ 0.0778477  │ 0.104878    │ -0.00836935 │ -0.00818156 │\n",
       "│ 323 │ 0.0708706  │ 0.0736168  │ -0.0343866  │ 0.104878    │ -0.00866236 │\n",
       "│ 324 │ 0.0712074  │ 0.0708706  │ -0.0637923  │ -0.0343866  │ -0.0385684  │\n",
       "│ 325 │ 0.071848   │ 0.0712074  │ 0.0203717   │ -0.0637923  │ -0.0352861  │\n",
       "│ 326 │ -9999.0    │ 0.071848   │ -9999.0     │ 0.0203717   │ -9999.0     │"
      ]
     },
     "execution_count": 307,
     "metadata": {},
     "output_type": "execute_result"
    }
   ],
   "source": [
    "CSV.write(\"prior_matrix_est.csv\", prior_df, writeheader = true)\n",
    "prior_df_est = CSV.read(\"prior_matrix_est.csv\", header = true)"
   ]
  },
  {
   "cell_type": "code",
   "execution_count": 224,
   "metadata": {},
   "outputs": [
    {
     "data": {
      "text/html": [
       "<table class=\"data-frame\"><thead><tr><th></th><th>f_G_lag</th><th>f_G</th><th>f_S_lag</th><th>f_S</th><th>f_L_lag</th><th>f_L</th><th>f_N_lag</th></tr><tr><th></th><th>Float64</th><th>Float64</th><th>Float64</th><th>Float64</th><th>Float64</th><th>Float64</th><th>Float64</th></tr></thead><tbody><p>326 rows × 128 columns (omitted printing of 121 columns)</p><tr><th>1</th><td>-0.0154109</td><td>-0.0154655</td><td>-0.0148086</td><td>-0.103543</td><td>-0.0887995</td><td>-0.0888093</td><td>-0.0834812</td></tr><tr><th>2</th><td>-0.0157155</td><td>-0.0154109</td><td>-0.0260516</td><td>-0.0148086</td><td>-0.0597353</td><td>-0.0887995</td><td>-0.0581564</td></tr><tr><th>3</th><td>-0.0158028</td><td>-0.0157155</td><td>-0.0145268</td><td>-0.0260516</td><td>-0.0558929</td><td>-0.0597353</td><td>-0.0552562</td></tr><tr><th>4</th><td>-0.0157714</td><td>-0.0158028</td><td>0.0548368</td><td>-0.0145268</td><td>-0.0735222</td><td>-0.0558929</td><td>-0.0735859</td></tr><tr><th>5</th><td>-0.0157578</td><td>-0.0157714</td><td>0.00947875</td><td>0.0548368</td><td>-0.0735193</td><td>-0.0735222</td><td>-0.0742388</td></tr><tr><th>6</th><td>-0.0157387</td><td>-0.0157578</td><td>0.00954753</td><td>0.00947875</td><td>-0.0735182</td><td>-0.0735193</td><td>-0.0705146</td></tr><tr><th>7</th><td>-0.0156677</td><td>-0.0157387</td><td>0.0360647</td><td>0.00954753</td><td>-0.0946391</td><td>-0.0735182</td><td>-0.089197</td></tr><tr><th>8</th><td>-0.0155774</td><td>-0.0156677</td><td>-0.172965</td><td>0.0360647</td><td>-0.0734869</td><td>-0.0946391</td><td>-0.071115</td></tr><tr><th>9</th><td>-0.0154941</td><td>-0.0155774</td><td>-0.08175</td><td>-0.172965</td><td>-0.0770832</td><td>-0.0734869</td><td>-0.0740812</td></tr><tr><th>10</th><td>-0.0153965</td><td>-0.0154941</td><td>0.0271019</td><td>-0.08175</td><td>-0.0770623</td><td>-0.0770832</td><td>-0.0738203</td></tr><tr><th>11</th><td>-0.0154279</td><td>-0.0153965</td><td>0.0411393</td><td>0.0271019</td><td>-0.0632254</td><td>-0.0770623</td><td>-0.0650615</td></tr><tr><th>12</th><td>-0.0155338</td><td>-0.0154279</td><td>0.0103039</td><td>0.0411393</td><td>-0.0642065</td><td>-0.0632254</td><td>-0.066878</td></tr><tr><th>13</th><td>-0.0155139</td><td>-0.0155338</td><td>0.00467533</td><td>0.0103039</td><td>-0.0734783</td><td>-0.0642065</td><td>-0.0730365</td></tr><tr><th>14</th><td>-0.0153967</td><td>-0.0155139</td><td>0.0767004</td><td>0.00467533</td><td>-0.0568291</td><td>-0.0734783</td><td>-0.0600994</td></tr><tr><th>15</th><td>-0.0154225</td><td>-0.0153967</td><td>-0.0143896</td><td>0.0767004</td><td>-0.0542682</td><td>-0.0568291</td><td>-0.0543326</td></tr><tr><th>16</th><td>-0.0153662</td><td>-0.0154225</td><td>0.0668841</td><td>-0.0143896</td><td>-0.0587078</td><td>-0.0542682</td><td>-0.0599484</td></tr><tr><th>17</th><td>-0.0153439</td><td>-0.0153662</td><td>-0.00281271</td><td>0.0668841</td><td>-0.0641735</td><td>-0.0587078</td><td>-0.0667902</td></tr><tr><th>18</th><td>-0.0153471</td><td>-0.0153439</td><td>-0.00793885</td><td>-0.00281271</td><td>-0.0564493</td><td>-0.0641735</td><td>-0.0587681</td></tr><tr><th>19</th><td>-0.015279</td><td>-0.0153471</td><td>-0.0686159</td><td>-0.00793885</td><td>-0.0586139</td><td>-0.0564493</td><td>-0.0598848</td></tr><tr><th>20</th><td>-0.0152261</td><td>-0.015279</td><td>0.0249713</td><td>-0.0686159</td><td>-0.0528149</td><td>-0.0586139</td><td>-0.0530169</td></tr><tr><th>21</th><td>-0.0151485</td><td>-0.0152261</td><td>-0.100459</td><td>0.0249713</td><td>-0.0585913</td><td>-0.0528149</td><td>-0.059597</td></tr><tr><th>22</th><td>-0.0150671</td><td>-0.0151485</td><td>-0.087489</td><td>-0.100459</td><td>-0.056771</td><td>-0.0585913</td><td>-0.0574536</td></tr><tr><th>23</th><td>-0.0151089</td><td>-0.0150671</td><td>0.0179146</td><td>-0.087489</td><td>-0.0509843</td><td>-0.056771</td><td>-0.0584745</td></tr><tr><th>24</th><td>-0.0152366</td><td>-0.0151089</td><td>0.0274193</td><td>0.0179146</td><td>-0.0828313</td><td>-0.0509843</td><td>-0.0825044</td></tr><tr><th>25</th><td>-0.0152355</td><td>-0.0152366</td><td>-0.015166</td><td>0.0274193</td><td>-0.0505342</td><td>-0.0828313</td><td>-0.0505052</td></tr><tr><th>26</th><td>-0.0151335</td><td>-0.0152355</td><td>-0.0016895</td><td>-0.015166</td><td>-0.0604371</td><td>-0.0505342</td><td>-0.060715</td></tr><tr><th>27</th><td>-0.0152623</td><td>-0.0151335</td><td>0.0260325</td><td>-0.0016895</td><td>-0.0604581</td><td>-0.0604371</td><td>-0.0592281</td></tr><tr><th>28</th><td>-0.0152323</td><td>-0.0152623</td><td>0.0340125</td><td>0.0260325</td><td>-0.0604534</td><td>-0.0604581</td><td>-0.0614982</td></tr><tr><th>29</th><td>-0.0152301</td><td>-0.0152323</td><td>-0.0376534</td><td>0.0340125</td><td>-0.0604514</td><td>-0.0604534</td><td>-0.0597368</td></tr><tr><th>30</th><td>-0.0152703</td><td>-0.0152301</td><td>0.00443847</td><td>-0.0376534</td><td>-0.050541</td><td>-0.0604514</td><td>-0.0526121</td></tr><tr><th>&vellip;</th><td>&vellip;</td><td>&vellip;</td><td>&vellip;</td><td>&vellip;</td><td>&vellip;</td><td>&vellip;</td><td>&vellip;</td></tr></tbody></table>"
      ],
      "text/latex": [
       "\\begin{tabular}{r|cccccccc}\n",
       "\t& f\\_G\\_lag & f\\_G & f\\_S\\_lag & f\\_S & f\\_L\\_lag & f\\_L & f\\_N\\_lag & \\\\\n",
       "\t\\hline\n",
       "\t& Float64 & Float64 & Float64 & Float64 & Float64 & Float64 & Float64 & \\\\\n",
       "\t\\hline\n",
       "\t1 & -0.0154109 & -0.0154655 & -0.0148086 & -0.103543 & -0.0887995 & -0.0888093 & -0.0834812 & $\\dots$ \\\\\n",
       "\t2 & -0.0157155 & -0.0154109 & -0.0260516 & -0.0148086 & -0.0597353 & -0.0887995 & -0.0581564 & $\\dots$ \\\\\n",
       "\t3 & -0.0158028 & -0.0157155 & -0.0145268 & -0.0260516 & -0.0558929 & -0.0597353 & -0.0552562 & $\\dots$ \\\\\n",
       "\t4 & -0.0157714 & -0.0158028 & 0.0548368 & -0.0145268 & -0.0735222 & -0.0558929 & -0.0735859 & $\\dots$ \\\\\n",
       "\t5 & -0.0157578 & -0.0157714 & 0.00947875 & 0.0548368 & -0.0735193 & -0.0735222 & -0.0742388 & $\\dots$ \\\\\n",
       "\t6 & -0.0157387 & -0.0157578 & 0.00954753 & 0.00947875 & -0.0735182 & -0.0735193 & -0.0705146 & $\\dots$ \\\\\n",
       "\t7 & -0.0156677 & -0.0157387 & 0.0360647 & 0.00954753 & -0.0946391 & -0.0735182 & -0.089197 & $\\dots$ \\\\\n",
       "\t8 & -0.0155774 & -0.0156677 & -0.172965 & 0.0360647 & -0.0734869 & -0.0946391 & -0.071115 & $\\dots$ \\\\\n",
       "\t9 & -0.0154941 & -0.0155774 & -0.08175 & -0.172965 & -0.0770832 & -0.0734869 & -0.0740812 & $\\dots$ \\\\\n",
       "\t10 & -0.0153965 & -0.0154941 & 0.0271019 & -0.08175 & -0.0770623 & -0.0770832 & -0.0738203 & $\\dots$ \\\\\n",
       "\t11 & -0.0154279 & -0.0153965 & 0.0411393 & 0.0271019 & -0.0632254 & -0.0770623 & -0.0650615 & $\\dots$ \\\\\n",
       "\t12 & -0.0155338 & -0.0154279 & 0.0103039 & 0.0411393 & -0.0642065 & -0.0632254 & -0.066878 & $\\dots$ \\\\\n",
       "\t13 & -0.0155139 & -0.0155338 & 0.00467533 & 0.0103039 & -0.0734783 & -0.0642065 & -0.0730365 & $\\dots$ \\\\\n",
       "\t14 & -0.0153967 & -0.0155139 & 0.0767004 & 0.00467533 & -0.0568291 & -0.0734783 & -0.0600994 & $\\dots$ \\\\\n",
       "\t15 & -0.0154225 & -0.0153967 & -0.0143896 & 0.0767004 & -0.0542682 & -0.0568291 & -0.0543326 & $\\dots$ \\\\\n",
       "\t16 & -0.0153662 & -0.0154225 & 0.0668841 & -0.0143896 & -0.0587078 & -0.0542682 & -0.0599484 & $\\dots$ \\\\\n",
       "\t17 & -0.0153439 & -0.0153662 & -0.00281271 & 0.0668841 & -0.0641735 & -0.0587078 & -0.0667902 & $\\dots$ \\\\\n",
       "\t18 & -0.0153471 & -0.0153439 & -0.00793885 & -0.00281271 & -0.0564493 & -0.0641735 & -0.0587681 & $\\dots$ \\\\\n",
       "\t19 & -0.015279 & -0.0153471 & -0.0686159 & -0.00793885 & -0.0586139 & -0.0564493 & -0.0598848 & $\\dots$ \\\\\n",
       "\t20 & -0.0152261 & -0.015279 & 0.0249713 & -0.0686159 & -0.0528149 & -0.0586139 & -0.0530169 & $\\dots$ \\\\\n",
       "\t21 & -0.0151485 & -0.0152261 & -0.100459 & 0.0249713 & -0.0585913 & -0.0528149 & -0.059597 & $\\dots$ \\\\\n",
       "\t22 & -0.0150671 & -0.0151485 & -0.087489 & -0.100459 & -0.056771 & -0.0585913 & -0.0574536 & $\\dots$ \\\\\n",
       "\t23 & -0.0151089 & -0.0150671 & 0.0179146 & -0.087489 & -0.0509843 & -0.056771 & -0.0584745 & $\\dots$ \\\\\n",
       "\t24 & -0.0152366 & -0.0151089 & 0.0274193 & 0.0179146 & -0.0828313 & -0.0509843 & -0.0825044 & $\\dots$ \\\\\n",
       "\t25 & -0.0152355 & -0.0152366 & -0.015166 & 0.0274193 & -0.0505342 & -0.0828313 & -0.0505052 & $\\dots$ \\\\\n",
       "\t26 & -0.0151335 & -0.0152355 & -0.0016895 & -0.015166 & -0.0604371 & -0.0505342 & -0.060715 & $\\dots$ \\\\\n",
       "\t27 & -0.0152623 & -0.0151335 & 0.0260325 & -0.0016895 & -0.0604581 & -0.0604371 & -0.0592281 & $\\dots$ \\\\\n",
       "\t28 & -0.0152323 & -0.0152623 & 0.0340125 & 0.0260325 & -0.0604534 & -0.0604581 & -0.0614982 & $\\dots$ \\\\\n",
       "\t29 & -0.0152301 & -0.0152323 & -0.0376534 & 0.0340125 & -0.0604514 & -0.0604534 & -0.0597368 & $\\dots$ \\\\\n",
       "\t30 & -0.0152703 & -0.0152301 & 0.00443847 & -0.0376534 & -0.050541 & -0.0604514 & -0.0526121 & $\\dots$ \\\\\n",
       "\t$\\dots$ & $\\dots$ & $\\dots$ & $\\dots$ & $\\dots$ & $\\dots$ & $\\dots$ & $\\dots$ &  \\\\\n",
       "\\end{tabular}\n"
      ],
      "text/plain": [
       "326×128 DataFrame. Omitted printing of 123 columns\n",
       "│ Row │ f_G_lag    │ f_G        │ f_S_lag     │ f_S         │ f_L_lag     │\n",
       "│     │ \u001b[90mFloat64\u001b[39m    │ \u001b[90mFloat64\u001b[39m    │ \u001b[90mFloat64\u001b[39m     │ \u001b[90mFloat64\u001b[39m     │ \u001b[90mFloat64\u001b[39m     │\n",
       "├─────┼────────────┼────────────┼─────────────┼─────────────┼─────────────┤\n",
       "│ 1   │ -0.0154109 │ -0.0154655 │ -0.0148086  │ -0.103543   │ -0.0887995  │\n",
       "│ 2   │ -0.0157155 │ -0.0154109 │ -0.0260516  │ -0.0148086  │ -0.0597353  │\n",
       "│ 3   │ -0.0158028 │ -0.0157155 │ -0.0145268  │ -0.0260516  │ -0.0558929  │\n",
       "│ 4   │ -0.0157714 │ -0.0158028 │ 0.0548368   │ -0.0145268  │ -0.0735222  │\n",
       "│ 5   │ -0.0157578 │ -0.0157714 │ 0.00947875  │ 0.0548368   │ -0.0735193  │\n",
       "│ 6   │ -0.0157387 │ -0.0157578 │ 0.00954753  │ 0.00947875  │ -0.0735182  │\n",
       "│ 7   │ -0.0156677 │ -0.0157387 │ 0.0360647   │ 0.00954753  │ -0.0946391  │\n",
       "│ 8   │ -0.0155774 │ -0.0156677 │ -0.172965   │ 0.0360647   │ -0.0734869  │\n",
       "│ 9   │ -0.0154941 │ -0.0155774 │ -0.08175    │ -0.172965   │ -0.0770832  │\n",
       "│ 10  │ -0.0153965 │ -0.0154941 │ 0.0271019   │ -0.08175    │ -0.0770623  │\n",
       "⋮\n",
       "│ 316 │ 0.0889194  │ 0.0906901  │ 0.00975381  │ 0.00128248  │ 0.00242549  │\n",
       "│ 317 │ 0.0869222  │ 0.0889194  │ 0.0302072   │ 0.00975381  │ 0.00408     │\n",
       "│ 318 │ 0.0849074  │ 0.0869222  │ -0.0517969  │ 0.0302072   │ 0.000823588 │\n",
       "│ 319 │ 0.0829157  │ 0.0849074  │ 0.0278071   │ -0.0517969  │ 0.00427396  │\n",
       "│ 320 │ 0.0807143  │ 0.0829157  │ 0.0205766   │ 0.0278071   │ -0.0192893  │\n",
       "│ 321 │ 0.0778477  │ 0.0807143  │ -0.00836935 │ 0.0205766   │ -0.0306203  │\n",
       "│ 322 │ 0.0736168  │ 0.0778477  │ 0.104878    │ -0.00836935 │ -0.00818156 │\n",
       "│ 323 │ 0.0708706  │ 0.0736168  │ -0.0343866  │ 0.104878    │ -0.00866236 │\n",
       "│ 324 │ 0.0712074  │ 0.0708706  │ -0.0637923  │ -0.0343866  │ -0.0385684  │\n",
       "│ 325 │ 0.071848   │ 0.0712074  │ 0.0203717   │ -0.0637923  │ -0.0352861  │\n",
       "│ 326 │ -9999.0    │ 0.071848   │ -9999.0     │ 0.0203717   │ -9999.0     │"
      ]
     },
     "execution_count": 224,
     "metadata": {},
     "output_type": "execute_result"
    }
   ],
   "source": [
    "using Distributions, GLM\n",
    "\n",
    "f_R_lag = append!(f_R[2:end],-9999)\n",
    "f_N_lag = append!(f_N[2:end],-9999)\n",
    "f_L_lag = append!(f_L[2:end],-9999)\n",
    "f_S_lag = append!(f_S[2:end],-9999)\n",
    "f_G_lag = append!(f_G[2:end],-9999)\n",
    "\n",
    "insertcols!(prior_df_est,1,:f_R => f_R)\n",
    "insertcols!(prior_df_est,1,:f_R_lag => f_R_lag)\n",
    "insertcols!(prior_df_est,1,:f_N => f_N)\n",
    "insertcols!(prior_df_est,1,:f_N_lag => f_N_lag)\n",
    "insertcols!(prior_df_est,1,:f_L => f_L)\n",
    "insertcols!(prior_df_est,1,:f_L_lag => f_L_lag)\n",
    "insertcols!(prior_df_est,1,:f_S => f_S)\n",
    "insertcols!(prior_df_est,1,:f_S_lag => f_S_lag)\n",
    "insertcols!(prior_df_est,1,:f_G => f_G)\n",
    "insertcols!(prior_df_est,1,:f_G_lag => f_G_lag)\n",
    "insertcols!(prior_df_est,1, :coef => ones(326))"
   ]
  },
  {
   "cell_type": "code",
   "execution_count": 325,
   "metadata": {},
   "outputs": [
    {
     "data": {
      "text/html": [
       "<table class=\"data-frame\"><thead><tr><th></th><th>DNDGRG3M086SBEA</th><th>DSERRG3M086SBEA</th><th>CES0600000008</th><th>CES2000000008</th><th>CES3000000008</th><th>UMCSENT</th></tr><tr><th></th><th>Float64</th><th>Float64</th><th>Float64</th><th>Float64</th><th>Float64</th><th>Float64</th></tr></thead><tbody><p>326 rows × 10 columns (omitted printing of 4 columns)</p><tr><th>1</th><td>-0.00214931</td><td>0.000808085</td><td>0.000833808</td><td>-0.00583056</td><td>0.00176137</td><td>7.16714</td></tr><tr><th>2</th><td>0.000981954</td><td>-0.00259793</td><td>-0.00251064</td><td>-0.00072134</td><td>-0.000887602</td><td>0.96996</td></tr><tr><th>3</th><td>0.00319504</td><td>0.000269384</td><td>0.00250402</td><td>0.00796178</td><td>-0.000880603</td><td>1.80282</td></tr><tr><th>4</th><td>-0.00232729</td><td>0.00262281</td><td>-0.00416543</td><td>-0.0151822</td><td>-6.98e-7</td><td>0.96996</td></tr><tr><th>5</th><td>-0.000315732</td><td>-0.0028357</td><td>0.00416445</td><td>0.0115805</td><td>0.000872294</td><td>-3.83286</td></tr><tr><th>6</th><td>-0.00134002</td><td>0.001313</td><td>-0.00498663</td><td>-0.0108637</td><td>-0.00349184</td><td>-0.697177</td></tr><tr><th>7</th><td>0.000202228</td><td>0.00239379</td><td>0.00498845</td><td>0.0137757</td><td>0.00262056</td><td>-0.697177</td></tr><tr><th>8</th><td>-0.000220322</td><td>-0.00236479</td><td>-0.00166159</td><td>-0.00507755</td><td>-6.66e-7</td><td>-2.53004</td></tr><tr><th>9</th><td>0.0017979</td><td>-2.44e-5</td><td>-0.000825857</td><td>-0.000718697</td><td>-6.56e-7</td><td>11.9671</td></tr><tr><th>10</th><td>-0.0026139</td><td>0.0010238</td><td>0.00165452</td><td>-0.00143474</td><td>0.00173246</td><td>5.63427</td></tr><tr><th>11</th><td>0.00323738</td><td>-0.0021202</td><td>-2.46e-6</td><td>0.000724306</td><td>-0.00173674</td><td>-1.93004</td></tr><tr><th>12</th><td>-0.00410968</td><td>0.00229854</td><td>-2.42e-6</td><td>0.00502076</td><td>-0.000863799</td><td>-2.86431</td></tr><tr><th>13</th><td>0.00117739</td><td>-0.00055913</td><td>0.000816271</td><td>-0.00572964</td><td>0.00344694</td><td>-0.732863</td></tr><tr><th>14</th><td>-0.000354201</td><td>0.00186051</td><td>-0.000823036</td><td>0.00214723</td><td>-0.00258791</td><td>-0.365726</td></tr><tr><th>15</th><td>-0.00323114</td><td>-0.00346007</td><td>-0.00163232</td><td>-0.00213695</td><td>0.000855958</td><td>-5.33286</td></tr><tr><th>16</th><td>0.00292554</td><td>0.000846255</td><td>0.00081767</td><td>0.00214265</td><td>-0.00171363</td><td>0.96996</td></tr><tr><th>17</th><td>0.00162063</td><td>-0.000365714</td><td>1.02e-6</td><td>-0.00142088</td><td>0.00170959</td><td>-4.69718</td></tr><tr><th>18</th><td>-0.00552341</td><td>0.000693905</td><td>0.000812387</td><td>-0.00284234</td><td>0.000846524</td><td>0.168548</td></tr><tr><th>19</th><td>0.0113193</td><td>-0.00111193</td><td>-2.25e-6</td><td>0.00569859</td><td>-0.000857012</td><td>0.534274</td></tr><tr><th>20</th><td>-0.00520838</td><td>0.000384934</td><td>0.000804557</td><td>-0.0014239</td><td>0.000841566</td><td>4.73427</td></tr><tr><th>21</th><td>-0.00221864</td><td>-0.000894766</td><td>0.000796801</td><td>-0.000706844</td><td>0.000833047</td><td>-1.7629</td></tr><tr><th>22</th><td>-0.00196723</td><td>0.000159138</td><td>-0.00241534</td><td>0.000709601</td><td>-0.00253317</td><td>6.93427</td></tr><tr><th>23</th><td>0.00255065</td><td>0.00204433</td><td>0.00399631</td><td>0.00492158</td><td>0.00418541</td><td>6.03427</td></tr><tr><th>24</th><td>9.69e-5</td><td>0.000404769</td><td>-0.00719027</td><td>-0.0112486</td><td>-0.00753499</td><td>-1.26431</td></tr><tr><th>25</th><td>0.00146822</td><td>-0.00251163</td><td>0.00319601</td><td>0.00773653</td><td>0.00251109</td><td>-1.93004</td></tr><tr><th>26</th><td>-0.00178671</td><td>0.000509232</td><td>0.00159222</td><td>-7.17e-6</td><td>0.000836748</td><td>1.00141</td></tr><tr><th>27</th><td>0.00387215</td><td>0.00029905</td><td>-0.00238645</td><td>-0.00279843</td><td>-4.13e-7</td><td>0.101411</td></tr><tr><th>28</th><td>0.00168373</td><td>0.000169788</td><td>0.00238116</td><td>0.00418584</td><td>0.000831197</td><td>-1.8629</td></tr><tr><th>29</th><td>-0.000763145</td><td>-0.000419331</td><td>-0.00158614</td><td>-0.00417945</td><td>-3.84e-6</td><td>-2.36431</td></tr><tr><th>30</th><td>-0.00413741</td><td>-0.000226589</td><td>0.00157846</td><td>0.00416267</td><td>-3.81e-6</td><td>2.60141</td></tr><tr><th>&vellip;</th><td>&vellip;</td><td>&vellip;</td><td>&vellip;</td><td>&vellip;</td><td>&vellip;</td><td>&vellip;</td></tr></tbody></table>"
      ],
      "text/latex": [
       "\\begin{tabular}{r|ccccccc}\n",
       "\t& DNDGRG3M086SBEA & DSERRG3M086SBEA & CES0600000008 & CES2000000008 & CES3000000008 & UMCSENT & \\\\\n",
       "\t\\hline\n",
       "\t& Float64 & Float64 & Float64 & Float64 & Float64 & Float64 & \\\\\n",
       "\t\\hline\n",
       "\t1 & -0.00214931 & 0.000808085 & 0.000833808 & -0.00583056 & 0.00176137 & 7.16714 & $\\dots$ \\\\\n",
       "\t2 & 0.000981954 & -0.00259793 & -0.00251064 & -0.00072134 & -0.000887602 & 0.96996 & $\\dots$ \\\\\n",
       "\t3 & 0.00319504 & 0.000269384 & 0.00250402 & 0.00796178 & -0.000880603 & 1.80282 & $\\dots$ \\\\\n",
       "\t4 & -0.00232729 & 0.00262281 & -0.00416543 & -0.0151822 & -6.98e-7 & 0.96996 & $\\dots$ \\\\\n",
       "\t5 & -0.000315732 & -0.0028357 & 0.00416445 & 0.0115805 & 0.000872294 & -3.83286 & $\\dots$ \\\\\n",
       "\t6 & -0.00134002 & 0.001313 & -0.00498663 & -0.0108637 & -0.00349184 & -0.697177 & $\\dots$ \\\\\n",
       "\t7 & 0.000202228 & 0.00239379 & 0.00498845 & 0.0137757 & 0.00262056 & -0.697177 & $\\dots$ \\\\\n",
       "\t8 & -0.000220322 & -0.00236479 & -0.00166159 & -0.00507755 & -6.66e-7 & -2.53004 & $\\dots$ \\\\\n",
       "\t9 & 0.0017979 & -2.44e-5 & -0.000825857 & -0.000718697 & -6.56e-7 & 11.9671 & $\\dots$ \\\\\n",
       "\t10 & -0.0026139 & 0.0010238 & 0.00165452 & -0.00143474 & 0.00173246 & 5.63427 & $\\dots$ \\\\\n",
       "\t11 & 0.00323738 & -0.0021202 & -2.46e-6 & 0.000724306 & -0.00173674 & -1.93004 & $\\dots$ \\\\\n",
       "\t12 & -0.00410968 & 0.00229854 & -2.42e-6 & 0.00502076 & -0.000863799 & -2.86431 & $\\dots$ \\\\\n",
       "\t13 & 0.00117739 & -0.00055913 & 0.000816271 & -0.00572964 & 0.00344694 & -0.732863 & $\\dots$ \\\\\n",
       "\t14 & -0.000354201 & 0.00186051 & -0.000823036 & 0.00214723 & -0.00258791 & -0.365726 & $\\dots$ \\\\\n",
       "\t15 & -0.00323114 & -0.00346007 & -0.00163232 & -0.00213695 & 0.000855958 & -5.33286 & $\\dots$ \\\\\n",
       "\t16 & 0.00292554 & 0.000846255 & 0.00081767 & 0.00214265 & -0.00171363 & 0.96996 & $\\dots$ \\\\\n",
       "\t17 & 0.00162063 & -0.000365714 & 1.02e-6 & -0.00142088 & 0.00170959 & -4.69718 & $\\dots$ \\\\\n",
       "\t18 & -0.00552341 & 0.000693905 & 0.000812387 & -0.00284234 & 0.000846524 & 0.168548 & $\\dots$ \\\\\n",
       "\t19 & 0.0113193 & -0.00111193 & -2.25e-6 & 0.00569859 & -0.000857012 & 0.534274 & $\\dots$ \\\\\n",
       "\t20 & -0.00520838 & 0.000384934 & 0.000804557 & -0.0014239 & 0.000841566 & 4.73427 & $\\dots$ \\\\\n",
       "\t21 & -0.00221864 & -0.000894766 & 0.000796801 & -0.000706844 & 0.000833047 & -1.7629 & $\\dots$ \\\\\n",
       "\t22 & -0.00196723 & 0.000159138 & -0.00241534 & 0.000709601 & -0.00253317 & 6.93427 & $\\dots$ \\\\\n",
       "\t23 & 0.00255065 & 0.00204433 & 0.00399631 & 0.00492158 & 0.00418541 & 6.03427 & $\\dots$ \\\\\n",
       "\t24 & 9.69e-5 & 0.000404769 & -0.00719027 & -0.0112486 & -0.00753499 & -1.26431 & $\\dots$ \\\\\n",
       "\t25 & 0.00146822 & -0.00251163 & 0.00319601 & 0.00773653 & 0.00251109 & -1.93004 & $\\dots$ \\\\\n",
       "\t26 & -0.00178671 & 0.000509232 & 0.00159222 & -7.17e-6 & 0.000836748 & 1.00141 & $\\dots$ \\\\\n",
       "\t27 & 0.00387215 & 0.00029905 & -0.00238645 & -0.00279843 & -4.13e-7 & 0.101411 & $\\dots$ \\\\\n",
       "\t28 & 0.00168373 & 0.000169788 & 0.00238116 & 0.00418584 & 0.000831197 & -1.8629 & $\\dots$ \\\\\n",
       "\t29 & -0.000763145 & -0.000419331 & -0.00158614 & -0.00417945 & -3.84e-6 & -2.36431 & $\\dots$ \\\\\n",
       "\t30 & -0.00413741 & -0.000226589 & 0.00157846 & 0.00416267 & -3.81e-6 & 2.60141 & $\\dots$ \\\\\n",
       "\t$\\dots$ & $\\dots$ & $\\dots$ & $\\dots$ & $\\dots$ & $\\dots$ & $\\dots$ &  \\\\\n",
       "\\end{tabular}\n"
      ],
      "text/plain": [
       "326×10 DataFrame. Omitted printing of 6 columns\n",
       "│ Row │ DNDGRG3M086SBEA │ DSERRG3M086SBEA │ CES0600000008 │ CES2000000008 │\n",
       "│     │ \u001b[90mFloat64\u001b[39m         │ \u001b[90mFloat64\u001b[39m         │ \u001b[90mFloat64\u001b[39m       │ \u001b[90mFloat64\u001b[39m       │\n",
       "├─────┼─────────────────┼─────────────────┼───────────────┼───────────────┤\n",
       "│ 1   │ -0.00214931     │ 0.000808085     │ 0.000833808   │ -0.00583056   │\n",
       "│ 2   │ 0.000981954     │ -0.00259793     │ -0.00251064   │ -0.00072134   │\n",
       "│ 3   │ 0.00319504      │ 0.000269384     │ 0.00250402    │ 0.00796178    │\n",
       "│ 4   │ -0.00232729     │ 0.00262281      │ -0.00416543   │ -0.0151822    │\n",
       "│ 5   │ -0.000315732    │ -0.0028357      │ 0.00416445    │ 0.0115805     │\n",
       "│ 6   │ -0.00134002     │ 0.001313        │ -0.00498663   │ -0.0108637    │\n",
       "│ 7   │ 0.000202228     │ 0.00239379      │ 0.00498845    │ 0.0137757     │\n",
       "│ 8   │ -0.000220322    │ -0.00236479     │ -0.00166159   │ -0.00507755   │\n",
       "│ 9   │ 0.0017979       │ -2.44e-5        │ -0.000825857  │ -0.000718697  │\n",
       "│ 10  │ -0.0026139      │ 0.0010238       │ 0.00165452    │ -0.00143474   │\n",
       "⋮\n",
       "│ 316 │ -0.0024516      │ 1.2e-5          │ 0.000837518   │ 0.00397775    │\n",
       "│ 317 │ -0.0015311      │ -0.000482719    │ 0.00208048    │ -0.00110074   │\n",
       "│ 318 │ 0.00194434      │ 0.000446916     │ -0.000842118  │ -0.00108658   │\n",
       "│ 319 │ 0.00339053      │ -0.000160894    │ -7.32e-6      │ 0.000708031   │\n",
       "│ 320 │ -0.00882686     │ 0.000607902     │ -7.25e-6      │ -0.000720718  │\n",
       "│ 321 │ -0.00115265     │ 0.000336769     │ 0.000403081   │ -0.00106835   │\n",
       "│ 322 │ 0.00464005      │ -0.00377251     │ -0.00246495   │ -0.00389941   │\n",
       "│ 323 │ 0.00352356      │ 0.00227021      │ -0.00122609   │ 0.00319971    │\n",
       "│ 324 │ 0.00485425      │ 0.000486388     │ 0.00490765    │ 0.00283298    │\n",
       "│ 325 │ -0.00162831     │ 0.00132241      │ -0.0024573    │ -0.00036463   │\n",
       "│ 326 │ -0.0037442      │ -0.00162397     │ 0.000403315   │ -0.0031694    │"
      ]
     },
     "execution_count": 325,
     "metadata": {},
     "output_type": "execute_result"
    }
   ],
   "source": [
    "prior_df_est[120:end]"
   ]
  },
  {
   "cell_type": "code",
   "execution_count": 371,
   "metadata": {
    "collapsed": true
   },
   "outputs": [],
   "source": [
    "arr_μ = Array{Float64}(undef, 118)\n",
    "arr_Λ_G = Array{Float64}(undef, 118)\n",
    "arr_Λ_S = Array{Float64}(undef, 118)\n",
    "arr_Λ_L = Array{Float64}(undef, 118)\n",
    "arr_Λ_N = Array{Float64}(undef, 118)\n",
    "arr_Λ_R = Array{Float64}(undef, 118)\n",
    "arr_ρ = Array{Float64}(undef, 118)\n",
    "arr_σ2_ie = Array{Float64}(undef, 118)\n",
    "\n",
    "for i in 12:size(prior_df_est,2)\n",
    "    idx = prior_colname_ind[i-11]\n",
    "    title = prior_colname[i-11]\n",
    "    \n",
    "    if idx == \"S\"\n",
    "        fit_lm = lm(convert(Matrix,prior_df_est[:,[1,3,5]]) , prior_df_est[:,i])\n",
    "        arr_μ[i-11], arr_Λ_G[i-11], arr_Λ_S[i-11], arr_Λ_L[i-11], arr_Λ_N[i-11], arr_Λ_R[i-11] =\n",
    "            coef(fit_lm)[1], coef(fit_lm)[2], coef(fit_lm)[3], 0, 0, 0\n",
    "    elseif idx == \"L\"\n",
    "        fit_lm = lm(convert(Matrix,prior_df_est[:,[1,3,7]]) , prior_df_est[:,i])\n",
    "        arr_μ[i-11], arr_Λ_G[i-11], arr_Λ_S[i-11], arr_Λ_L[i-11], arr_Λ_N[i-11], arr_Λ_R[i-11] =\n",
    "            coef(fit_lm)[1], coef(fit_lm)[2], 0, coef(fit_lm)[3], 0, 0\n",
    "    elseif idx == \"N\"\n",
    "        fit_lm = lm(convert(Matrix,prior_df_est[:,[1,3,9]]) , prior_df_est[:,i])\n",
    "        arr_μ[i-11], arr_Λ_G[i-11], arr_Λ_S[i-11], arr_Λ_L[i-11], arr_Λ_N[i-11], arr_Λ_R[i-11] =\n",
    "            coef(fit_lm)[1], coef(fit_lm)[2], 0, 0, coef(fit_lm)[3], 0\n",
    "    else\n",
    "        fit_lm = lm(convert(Matrix,prior_df_est[:,[1,3,11]]) , prior_df_est[:,i])\n",
    "        arr_μ[i-11], arr_Λ_G[i-11], arr_Λ_S[i-11], arr_Λ_L[i-11], arr_Λ_N[i-11], arr_Λ_R[i-11] =\n",
    "            coef(fit_lm)[1], coef(fit_lm)[2], 0, 0, 0, coef(fit_lm)[3]\n",
    "    end\n",
    "\n",
    "    resid_lm = lm(hcat(ones(size(residuals(fit_lm),1)-1), residuals(fit_lm)[2:end]), residuals(fit_lm)[1:end-1])\n",
    "    arr_ρ[i-11] = coef(resid_lm)[2]\n",
    "    \n",
    "    ## Demeaned residuals?\n",
    "    resid_mean = mean(residuals(fit_lm))\n",
    "    demeaned_resid = residuals(fit_lm)\n",
    "    for i in 1:length(demeaned_resid)\n",
    "        demeaned_resid[i] = demeaned_resid[i] - resid_mean\n",
    "    end\n",
    "    arr_σ2_ie[i-11] = var(demeaned_resid)\n",
    "end\n",
    "\n",
    "arr_β = Array{Float64}(undef, 5)\n",
    "arr_σ2_ju = Array{Float64}(undef, 5)\n",
    "\n",
    "for i in 1:5\n",
    "    fit_lm = lm(convert(Matrix, prior_df_est[:,[1,2*i]]), prior_df_est[:,2*i+1])\n",
    "    arr_β[i] = coef(fit_lm)[2]\n",
    "    \n",
    "    ## Demeaned residuals?\n",
    "    demeaned_resid = residuals(fit_lm)\n",
    "     resid_mean = mean(demeaned_resid)\n",
    "    for i in 1:length(demeaned_resid)\n",
    "        demeaned_resid[i] = demeaned_resid[i] - resid_mean\n",
    "    end\n",
    "    arr_σ2_ju = var(demeaned_resid)\n",
    "end"
   ]
  },
  {
   "cell_type": "code",
   "execution_count": 377,
   "metadata": {},
   "outputs": [
    {
     "data": {
      "text/plain": [
       "118-element Array{Float64,1}:\n",
       "  0.00605120069793919   \n",
       "  0.007498097451806681  \n",
       "  0.0037195756744128243 \n",
       "  0.003829461949448205  \n",
       " -0.015458711543422913  \n",
       "  0.003951176186603654  \n",
       "  0.0015920882243201423 \n",
       " -0.0038630232473124667 \n",
       " -0.00041154272123505175\n",
       " -0.0013023911376056942 \n",
       "  0.0014221109362633866 \n",
       " -0.010470855453743202  \n",
       "  0.00606121031303879   \n",
       "  ⋮                     \n",
       " -0.0032739708131232963 \n",
       " -0.0007156274465771473 \n",
       " -0.00751190949293436   \n",
       " -0.002429557081860376  \n",
       "  4.6585940229454734e-5 \n",
       " -0.0011779802176826303 \n",
       "  0.0018434100601861915 \n",
       "  2.0052161839051377    \n",
       "  0.014780916350812454  \n",
       " -0.0012326473328971848 \n",
       "  0.0011328475022756863 \n",
       " -0.0075881119500074866 "
      ]
     },
     "execution_count": 377,
     "metadata": {},
     "output_type": "execute_result"
    }
   ],
   "source": [
    "### Explore the prior parameters' estimates.\n",
    "#arr_Λ_N\n",
    "#coef(lm_temp)\n",
    "#stderror(lm_temp)\n",
    "#residuals(lm_temp)\n",
    "\n",
    "#arr_μ\n",
    "#arr_Λ_G\n",
    "#arr_Λ_S\n",
    "#arr_Λ_L\n",
    "#arr_ρ\n",
    "#arr_σ2_ie\n",
    "\n",
    "arr_β\n",
    "#arr_σ2_ju"
   ]
  },
  {
   "cell_type": "code",
   "execution_count": 384,
   "metadata": {},
   "outputs": [
    {
     "data": {
      "text/plain": [
       "118×31 Array{Float64,2}:\n",
       "  0.0060512      0.0         …  0.0  1.0  0.0  0.0  0.0  0.0  0.0\n",
       "  0.0074981      0.0            0.0  1.0  0.0  0.0  0.0  0.0  0.0\n",
       "  0.00371958     0.0            0.0  1.0  0.0  0.0  0.0  0.0  0.0\n",
       "  0.00382946     0.0            0.0  1.0  0.0  0.0  0.0  0.0  0.0\n",
       " -0.0154587      0.0            0.0  1.0  0.0  0.0  0.0  0.0  0.0\n",
       "  0.00395118     0.0         …  0.0  1.0  0.0  0.0  0.0  0.0  0.0\n",
       "  0.00159209     0.0            0.0  1.0  0.0  0.0  0.0  0.0  0.0\n",
       " -0.00386302     0.0            0.0  1.0  0.0  0.0  0.0  0.0  0.0\n",
       " -0.000411543    0.0            0.0  1.0  0.0  0.0  0.0  0.0  0.0\n",
       " -0.00130239     0.0            0.0  1.0  0.0  0.0  0.0  0.0  0.0\n",
       "  0.00142211     0.0         …  0.0  1.0  0.0  0.0  0.0  0.0  0.0\n",
       " -0.0104709      0.0            0.0  1.0  0.0  0.0  0.0  0.0  0.0\n",
       "  0.00606121     0.0            0.0  1.0  0.0  0.0  0.0  0.0  0.0\n",
       "  ⋮                          ⋱       ⋮                        ⋮  \n",
       " -0.00327397     0.0            0.0  1.0  0.0  0.0  0.0  0.0  0.0\n",
       " -0.000715627    0.0            0.0  1.0  0.0  0.0  0.0  0.0  0.0\n",
       " -0.00751191     0.0            0.0  1.0  0.0  0.0  0.0  0.0  0.0\n",
       " -0.00242956     0.0            0.0  1.0  0.0  0.0  0.0  0.0  0.0\n",
       "  4.65859e-5     0.0         …  0.0  1.0  0.0  0.0  0.0  0.0  0.0\n",
       " -0.00117798     0.0            0.0  1.0  0.0  0.0  0.0  0.0  0.0\n",
       "  0.00184341     0.0            0.0  1.0  0.0  0.0  0.0  0.0  0.0\n",
       "  2.00522      -69.3582         0.0  1.0  0.0  0.0  0.0  0.0  0.0\n",
       "  0.0147809      0.0            0.0  1.0  0.0  0.0  0.0  0.0  0.0\n",
       " -0.00123265     0.00888895  …  0.0  1.0  0.0  0.0  0.0  0.0  0.0\n",
       "  0.00113285     0.00945218     0.0  1.0  0.0  0.0  0.0  0.0  0.0\n",
       " -0.00758811     0.0            0.0  1.0  0.0  0.0  0.0  0.0  0.0"
      ]
     },
     "execution_count": 384,
     "metadata": {},
     "output_type": "execute_result"
    }
   ],
   "source": [
    "### Creating state-evolutionary matrix [Still incomplete!]\n",
    "hcat(arr_Λ_G, arr_Λ_S, arr_Λ_L, arr_Λ_N, arr_Λ_R, zeros(118,5), zeros(118,5), zeros(118,5), zeros(118,5), ones(118), zeros(118), zeros(118), zeros(118), zeros(118), zeros(118))\n"
   ]
  },
  {
   "cell_type": "code",
   "execution_count": null,
   "metadata": {
    "collapsed": true
   },
   "outputs": [],
   "source": [
    "# y_t - μ = Z_θ * x_t\n",
    "# x_{t+1} = A_θ * x_t + η_t\n",
    "\n",
    "#arr_μ\n",
    "\n",
    "Z_θ = hcat(arr_Λ_G, arr_Λ_S, arr_Λ_L, arr_Λ_N, arr_Λ_R, zeros(118,5), zeros(118,5), zeros(118,5), zeros(118,5), ones(118), zeros(118), zeros(118), zeros(118), zeros(118), zeros(118))\n"
   ]
  },
  {
   "cell_type": "code",
   "execution_count": 383,
   "metadata": {},
   "outputs": [
    {
     "data": {
      "text/plain": [
       "118×5 Array{Float64,2}:\n",
       " 0.0  0.0  0.0  0.0  0.0\n",
       " 0.0  0.0  0.0  0.0  0.0\n",
       " 0.0  0.0  0.0  0.0  0.0\n",
       " 0.0  0.0  0.0  0.0  0.0\n",
       " 0.0  0.0  0.0  0.0  0.0\n",
       " 0.0  0.0  0.0  0.0  0.0\n",
       " 0.0  0.0  0.0  0.0  0.0\n",
       " 0.0  0.0  0.0  0.0  0.0\n",
       " 0.0  0.0  0.0  0.0  0.0\n",
       " 0.0  0.0  0.0  0.0  0.0\n",
       " 0.0  0.0  0.0  0.0  0.0\n",
       " 0.0  0.0  0.0  0.0  0.0\n",
       " 0.0  0.0  0.0  0.0  0.0\n",
       " ⋮                      \n",
       " 0.0  0.0  0.0  0.0  0.0\n",
       " 0.0  0.0  0.0  0.0  0.0\n",
       " 0.0  0.0  0.0  0.0  0.0\n",
       " 0.0  0.0  0.0  0.0  0.0\n",
       " 0.0  0.0  0.0  0.0  0.0\n",
       " 0.0  0.0  0.0  0.0  0.0\n",
       " 0.0  0.0  0.0  0.0  0.0\n",
       " 0.0  0.0  0.0  0.0  0.0\n",
       " 0.0  0.0  0.0  0.0  0.0\n",
       " 0.0  0.0  0.0  0.0  0.0\n",
       " 0.0  0.0  0.0  0.0  0.0\n",
       " 0.0  0.0  0.0  0.0  0.0"
      ]
     },
     "execution_count": 383,
     "metadata": {},
     "output_type": "execute_result"
    }
   ],
   "source": [
    "zeros(118,5)"
   ]
  },
  {
   "cell_type": "code",
   "execution_count": null,
   "metadata": {
    "collapsed": true
   },
   "outputs": [],
   "source": []
  },
  {
   "cell_type": "code",
   "execution_count": null,
   "metadata": {
    "collapsed": true
   },
   "outputs": [],
   "source": []
  },
  {
   "cell_type": "code",
   "execution_count": null,
   "metadata": {
    "collapsed": true
   },
   "outputs": [],
   "source": []
  },
  {
   "cell_type": "code",
   "execution_count": null,
   "metadata": {
    "collapsed": true
   },
   "outputs": [],
   "source": []
  },
  {
   "cell_type": "markdown",
   "metadata": {
    "collapsed": true
   },
   "source": [
    "### 5. Expectation Maximization"
   ]
  },
  {
   "cell_type": "code",
   "execution_count": null,
   "metadata": {
    "collapsed": true
   },
   "outputs": [],
   "source": [
    "max_iter = 5000 # EM loop maximum number of iterations.\n",
    "\n",
    "while num_iter < max_iter & ~converged\n",
    "    [] = Emstep(...) # Applying EM algorithm."
   ]
  },
  {
   "cell_type": "code",
   "execution_count": null,
   "metadata": {
    "collapsed": true
   },
   "outputs": [],
   "source": [
    "function EMstep(y,A,G,Q,R,x_0, σ_0, r, p = 1, R_mat,q, nQ, i_idio, blocks)\n",
    "    \n",
    "    (n,T) = size(y)\n",
    "    nM = n - nQ\n",
    "    #pC = size(R_mat,2)\n",
    "    #ppc = max(p, pC)\n",
    "    num_blocks = size(blocks, 2) # how many columns are there?\n",
    "    \n",
    "    [x_sm, σ_sm, vv_sm, loglik] = runKF(y, A, C, Q, R, x_0, σ_0)\n",
    "    \n",
    "    A_new = A\n",
    "    Q_new = Q\n",
    "    σ_0_new = σ_0\n",
    "    \n",
    "    ##### Transition equation\n",
    "    ### Update factor parameters individually\n",
    "    for i = 1:num_blocks\n",
    "        r_i = r[i]\n",
    "        rp = r_i*p\n",
    "        rp1 = sum(r[1:i-1])*ppC\n",
    "        b_subset = rp1+1:rp1+rp # Subset blocks: Helps for subsetting x_sm, σ_sm\n",
    "        t_start = rp1+1\n",
    "        t_end = rp1+r_i*ppC\n",
    "        \n",
    "        EZZ = x_sm[b_subset, 2:end]*(x_sm[b_subset, 2:end])' + sum(σ_sm[b_subset, b_subset, 2:end], 3)\n",
    "        EZZ_BB = x_sm[b_subset, 1:end-1]*(x_sm[b_subset, 1:end-1])' + sum(σ_sm[b_subset, b_subset, 1:end-1], 3)\n",
    "        EZZ_FB = x_sm[b_subset, 2:end]*(x_sm[b_subset, 1:end-1])' + sum(vv_sm[b_subset, b_subset, :], 3)\n",
    "        \n",
    "        A_i = A[t_start:t_end, t_start:t_end]\n",
    "        Q_i = Q[t_start:t_end, t_start:t_end]\n",
    "        \n",
    "        A_i[1:r_i,1:rp] = EZZ_FB[1:r_i,1:rp]*inv(EZZ_BB[1:r_i,1:rp])\n",
    "        Q_i[1:r_i,1:r_i] = (EZZ[1:r_i,1:r_i] - A_i[1:r_i,1:rp]*EZZ_FB[1:r_i,1:rp]') / T\n",
    "        \n",
    "        A_new[t_start:t_end, t_start:t_end] = A_i\n",
    "        Q_new[t_start:t_end, t_start:t_end] = Q_i\n",
    "        σ_0_new[t_start:t_end, t_start:t_end] = σ_sm[t_start:t_end, t_start:t_end, 1]\n",
    "    end\n",
    "    \n",
    "    ### Update parameters for idiosyncratic component\n",
    "    rp1 = sum(r)*ppC\n",
    "    niM = sum(i_idio[1:nM])\n",
    "    t_start = rp1+1\n",
    "    i_subset = t_start:rp1+niM\n",
    "    \n",
    "    EZZ = Diagonal(Diagonal(x_sm[t_start:end,2:end]*(x_sm[t_start:end, 2:end])'))+Diagonal(Diagonal(sum(σ_sm[t_start:end, t_start:end, 2:end], 3)))\n",
    "    EZZ_BB = Diagonal(Diagonal(x_sm[t_start:end,1:end-1]*(x_sm[t_start:end, 1:end-1])'))+Diagonal(Diagonal(sum(σ_sm[t_start:end, t_start:end, 1:end-1], 3)))\n",
    "    EZZ_FB = Diagonal(Diagonal(x_sm[t_start:end,2:end]*(x_sm[t_start:end, 1:end-1])'))+Diagonal(Diagonal(sum(vv_sm[t_start:end, t_start:end, :], 3)))\n",
    "    \n",
    "    A_i = EZZ_FB*Diagonal(1./Diagonal((EZZ_BB)))\n",
    "    Q_i = (EZZ - A_i*EZZ_FB') / T\n",
    "    \n",
    "    A_new[i_subset, i_subset] = A_i[1:niM,1:niM]\n",
    "    Q_new[i_subset, i_subset] = Q_i[1:niM,1:niM]\n",
    "    V_0_new[i_subset, i_subset] = Diagonal(Diagonal(σ_sm[i_subset,i_subset,1]))\n",
    "    \n",
    "    ##### Observation equation\n",
    "    ### Maximization step\n",
    "    \n",
    "    \n",
    "    \n",
    "    \n",
    "    \n",
    "    return G_new, R_new, A_new, Q_new, x_0, σ_0, loglik\n",
    "end"
   ]
  },
  {
   "cell_type": "code",
   "execution_count": 10,
   "metadata": {},
   "outputs": [
    {
     "data": {
      "text/plain": [
       "2×3 Array{Int64,2}:\n",
       " 0  0  3\n",
       " 0  0  4"
      ]
     },
     "execution_count": 10,
     "metadata": {},
     "output_type": "execute_result"
    }
   ],
   "source": [
    "mat = [1 2 3\n",
    "2 3 4]\n",
    "\n",
    "mat[1:2,1:2] = [0 0\n",
    "              0 0]\n",
    "\n",
    "mat\n"
   ]
  },
  {
   "cell_type": "code",
   "execution_count": 16,
   "metadata": {},
   "outputs": [
    {
     "data": {
      "text/plain": [
       "3×3 Diagonal{Int64,Array{Int64,1}}:\n",
       " 1  ⋅  ⋅\n",
       " ⋅  2  ⋅\n",
       " ⋅  ⋅  3"
      ]
     },
     "execution_count": 16,
     "metadata": {},
     "output_type": "execute_result"
    }
   ],
   "source": [
    "using LinearAlgebra, Statistics, Compat\n",
    "Diagonal([1, 2, 3])"
   ]
  },
  {
   "cell_type": "code",
   "execution_count": null,
   "metadata": {
    "collapsed": true
   },
   "outputs": [],
   "source": []
  },
  {
   "cell_type": "code",
   "execution_count": null,
   "metadata": {
    "collapsed": true
   },
   "outputs": [],
   "source": []
  },
  {
   "cell_type": "code",
   "execution_count": null,
   "metadata": {
    "collapsed": true
   },
   "outputs": [],
   "source": []
  },
  {
   "cell_type": "code",
   "execution_count": null,
   "metadata": {
    "collapsed": true
   },
   "outputs": [],
   "source": []
  },
  {
   "cell_type": "code",
   "execution_count": null,
   "metadata": {
    "collapsed": true
   },
   "outputs": [],
   "source": []
  },
  {
   "cell_type": "markdown",
   "metadata": {},
   "source": [
    "### 6. Filtering???"
   ]
  },
  {
   "cell_type": "code",
   "execution_count": null,
   "metadata": {
    "collapsed": true
   },
   "outputs": [],
   "source": [
    "A = [ 0.9 0.09\n",
    "      0.5 0.5 ]\n",
    "Q = [ 0.0125 0.0285\n",
    "      0.0285 0.0909 ]\n",
    "G = [ 1.0000 -0.5\n",
    "      0       1.0\n",
    "      0.25    0.25 ]\n",
    "E = [ -1.3143 0.4297 -1.1545 -1.2590\n",
    "      -1.1900 -0.0553 -0.8746 -0.6032 \n",
    "      0.5864 -1.4580 0.0189 -0.3158 ]\n",
    "R = [ 0.0625 0 0\n",
    "      0 0.8100 0\n",
    "      0 0 1.0000]"
   ]
  },
  {
   "cell_type": "code",
   "execution_count": null,
   "metadata": {
    "collapsed": true
   },
   "outputs": [],
   "source": [
    "x_0 = [0,0]\n",
    "Σ_0 = [1 0 \n",
    "        0 1]\n",
    "estimate = Array{Float64}(undef,2,80)\n",
    "\n",
    "\n",
    "set_state!(kalman, x_0, Σ_0)\n",
    "logL = 0\n",
    "\n",
    "for t in 1:size(test_data,2)\n",
    "    logL = logL + log_likelihood(kalman,test_data[:,t], test_external[:,t])\n",
    "    update!(kalman, test_data[:,t], test_external[:,t])\n",
    "    estimate[:,t] = kalman.cur_x_hat\n",
    "    \n",
    "    if det(kalman.cur_sigma) == 0\n",
    "        throw(ErrorException(\"covariance matrix is non-invertible!\"))\n",
    "        break\n",
    "    end\n",
    "end\n",
    "\n",
    "return kalman, logL"
   ]
  },
  {
   "cell_type": "code",
   "execution_count": null,
   "metadata": {
    "collapsed": true
   },
   "outputs": [],
   "source": []
  },
  {
   "cell_type": "code",
   "execution_count": null,
   "metadata": {
    "collapsed": true
   },
   "outputs": [],
   "source": []
  },
  {
   "cell_type": "code",
   "execution_count": null,
   "metadata": {
    "collapsed": true
   },
   "outputs": [],
   "source": []
  },
  {
   "cell_type": "code",
   "execution_count": null,
   "metadata": {
    "collapsed": true
   },
   "outputs": [],
   "source": []
  },
  {
   "cell_type": "code",
   "execution_count": null,
   "metadata": {
    "collapsed": true
   },
   "outputs": [],
   "source": []
  },
  {
   "cell_type": "code",
   "execution_count": null,
   "metadata": {
    "collapsed": true
   },
   "outputs": [],
   "source": []
  },
  {
   "cell_type": "code",
   "execution_count": null,
   "metadata": {
    "collapsed": true
   },
   "outputs": [],
   "source": []
  },
  {
   "cell_type": "code",
   "execution_count": null,
   "metadata": {
    "collapsed": true
   },
   "outputs": [],
   "source": []
  }
 ],
 "metadata": {
  "kernelspec": {
   "display_name": "Julia 1.1.0",
   "language": "julia",
   "name": "julia-1.1"
  },
  "language_info": {
   "file_extension": ".jl",
   "mimetype": "application/julia",
   "name": "julia",
   "version": "1.1.0"
  }
 },
 "nbformat": 4,
 "nbformat_minor": 2
}
