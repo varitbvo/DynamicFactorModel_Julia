{
 "cells": [
  {
   "cell_type": "code",
   "execution_count": 1,
   "metadata": {
    "collapsed": true
   },
   "outputs": [],
   "source": [
    "### Load packages\n",
    "using LinearAlgebra, Statistics, Compat, HypothesisTests # Statistical analysis\n",
    "using RDatasets, MultivariateStats # Principal Component Analysis\n",
    "using Distributions, GLM # OLS\n",
    "using DataFrames, CSV # Data analysis\n",
    "using Dates, Plots #printf # Misc..."
   ]
  },
  {
   "cell_type": "code",
   "execution_count": 2,
   "metadata": {},
   "outputs": [
    {
     "data": {
      "text/plain": [
       "3×5 Array{Int64,2}:\n",
       " 1  0  0  1  0\n",
       " 1  0  1  0  0\n",
       " 1  1  1  1  1"
      ]
     },
     "execution_count": 2,
     "metadata": {},
     "output_type": "execute_result"
    }
   ],
   "source": [
    "### Supportive function -- part I\n",
    "function blkdig(vararg)\n",
    "    stop_row = 0\n",
    "    stop_col = 0\n",
    "    column = 0\n",
    "    row = 0\n",
    "    for i in 1:length(vararg)\n",
    "        column = column + size(vararg[i],2)\n",
    "        row = row + size(vararg[i],1)\n",
    "    end\n",
    "    \n",
    "    blk = zeros(row, column)\n",
    "    \n",
    "    for i in 1:length(vararg)\n",
    "        mat_comp = vararg[i]\n",
    "        for j in 1:size(mat_comp, 2)\n",
    "            for k in 1:size(mat_comp, 1)\n",
    "                blk[stop_row + k, stop_col + j] = mat_comp[k,j]\n",
    "            end\n",
    "        end\n",
    "        stop_row = stop_row + size(mat_comp,1)\n",
    "        stop_col = stop_col + size(mat_comp,2)\n",
    "    end\n",
    "    \n",
    "    return blk\n",
    "end\n",
    "\n",
    "### Supportive function -- part II\n",
    "blocks = [1 0 0 1 0\n",
    "            1 0 1 0 0\n",
    "            1 0 0 1 0\n",
    "            1 1 1 1 1]\n",
    "function sort_vec(blocks)\n",
    "    uniq = blocks[1,:]'\n",
    "    \n",
    "    for i in 2:size(blocks,1)\n",
    "        sum = 0\n",
    "        for j in 1:size(uniq,1)\n",
    "            sum = sum + (blocks[i,:]' == uniq[j,:]')\n",
    "        end\n",
    "        if sum == 0\n",
    "            uniq = vcat(uniq, blocks[i,:]')\n",
    "        end\n",
    "    end\n",
    "    return uniq\n",
    "end\n",
    "\n",
    "function ismember(blocks, str)\n",
    "    idx = []\n",
    "    for i in 1:size(blocks,1)\n",
    "        if blocks[i,:] == str\n",
    "            push!(idx, i)\n",
    "        end\n",
    "    end\n",
    "    return idx\n",
    "end\n",
    "\n",
    "sort_vec(blocks)"
   ]
  },
  {
   "cell_type": "code",
   "execution_count": 3,
   "metadata": {
    "collapsed": true
   },
   "outputs": [],
   "source": [
    "struct Spec\n",
    "    r::Int\n",
    "    p::Int\n",
    "    nQ::Int\n",
    "    blocks::AbstractMatrix{Float64}\n",
    "end\n",
    "\n",
    "struct inits\n",
    "    A::AbstractMatrix{Float64}\n",
    "    G::AbstractMatrix{Float64}\n",
    "    Q::AbstractMatrix{Float64}\n",
    "    R::AbstractMatrix{Float64}\n",
    "    Z::AbstractMatrix{Float64}\n",
    "    V::AbstractMatrix{Float64}\n",
    "end\n",
    "\n",
    "mutable struct Sm\n",
    "    Zm::AbstractMatrix{Float64}\n",
    "    ZmU::AbstractMatrix{Float64}\n",
    "    Vm::AbstractArray{Float64,3}\n",
    "    VmU::AbstractArray{Float64,3}\n",
    "    loglik::Float64\n",
    "    k_t::AbstractMatrix{Float64}\n",
    "end\n",
    "\n",
    "mutable struct Sm1\n",
    "    ZmT::AbstractMatrix{Float64}\n",
    "    VmT::AbstractArray{Float64,3}\n",
    "    VmT_1::AbstractArray{Float64,3}\n",
    "end"
   ]
  },
  {
   "cell_type": "code",
   "execution_count": 4,
   "metadata": {},
   "outputs": [
    {
     "data": {
      "text/plain": [
       "dfm (generic function with 2 methods)"
      ]
     },
     "execution_count": 4,
     "metadata": {},
     "output_type": "execute_result"
    }
   ],
   "source": [
    "##### Creating Dynamic Factor Model (DFM) to forecast GDP: \n",
    "# y_t - μ = G_θ * x_t\n",
    "# x_{t+1} = A_θ * x_t + η_t\n",
    "function dfm(X, Spec, inits, threshold = 1e-5)\n",
    "    ### Set up\n",
    "    #printf(\"Estimating the dynamic factor model (DFM) ... \\n\\n\")\n",
    "    \n",
    "    (T, N) = size(X)\n",
    "    # Identify spec \n",
    "    r = Spec.r\n",
    "    p = Spec.p\n",
    "    nQ = Spec.nQ\n",
    "    blocks = Spec.blocks\n",
    "    \n",
    "    i_idio = Bool.([ones(N-nQ,1); zeros(nQ,1)])\n",
    "    \n",
    "    # We should not have constraint\n",
    "    R_mat = [2 -1 0 0 0\n",
    "             3 0 -1 0 0\n",
    "             2 0 0 -1 0\n",
    "             1 0 0 0 -1]\n",
    "    q = zeros(4,1)\n",
    "    \n",
    "    max_iter = 5000\n",
    "    \n",
    "    ### Prepare data\n",
    "    #Mx = mean(X, \"omitnan\")\n",
    "    #Wx = std(X, \"omitnan\")\n",
    "    #xMissing = (X - repmat(Mx, T, 1))./repmat(Wx, T,1) #? Standardize series???\n",
    "    \n",
    "    ### Initial Condition\n",
    "    A = inits.A\n",
    "    G = inits.G\n",
    "    Q = inits.Q\n",
    "    R = inits.R\n",
    "    Z_0 = inits.Z\n",
    "    V_0 = inits.V\n",
    "    \n",
    "    previous_loglik = -Inf\n",
    "    num_iter = 0\n",
    "    LL = -Inf\n",
    "    converged = false\n",
    "    \n",
    "    # ? y for the estimation is WITH missing data\n",
    "    \n",
    "    ### EM loop\n",
    "    #? remove the leading and ending nans\n",
    "    # y_est\n",
    "    println(\"run EM loop\")\n",
    "    while (num_iter < max_iter) & !converged\n",
    "        println(num_iter+1)\n",
    "        (G_new, R_new, A_new, Q_new, Z_0, V_0, loglik ) = EMstep(X, A, G, Q, R, Z_0, V_0, r, p, R_mat, q, nQ, i_idio, blocks)\n",
    "        G = G_new\n",
    "        R = R_new\n",
    "        A = A_new\n",
    "        Q = Q_new\n",
    "        \n",
    "        if num_iter > 2 \n",
    "            # change from decrease(num_iter+1)\n",
    "            converged = em_converged(loglik, previous_loglik, threshold, check_decreased = 1)[1] #####?????\n",
    "        end\n",
    "        \n",
    "        if (mod(num_iter,10) == 0) && (num_iter > 0)\n",
    "            ##### Display something\n",
    "        end\n",
    "        \n",
    "        LL = [LL loglik]\n",
    "        previous_loglik = loglik\n",
    "        num_iter = num_iter + 1\n",
    "        println(LL)\n",
    "        println(converged)\n",
    "    end\n",
    "    println(\"finish EM loop\")\n",
    "    \n",
    "    ##### Display something\n",
    "    \n",
    "    ### Final run of KF\n",
    "    Zsmooth = runKF(X, A, G, Q, R, Z_0, V_0)[1] # use X with missing data\n",
    "    x_sm = G*Zsmooth[2:end,:] # originally Zsm*G'\n",
    "    \n",
    "    ##### Display something\n",
    "    \n",
    "    return x_sm\n",
    "\n",
    "end"
   ]
  },
  {
   "cell_type": "code",
   "execution_count": 5,
   "metadata": {},
   "outputs": [
    {
     "data": {
      "text/plain": [
       "EMstep (generic function with 1 method)"
      ]
     },
     "execution_count": 5,
     "metadata": {},
     "output_type": "execute_result"
    }
   ],
   "source": [
    "### Y_t = G_t X_t + e_t for e_t ~ N(0, R)\n",
    "### X_t = A X_{t-1} + mu_t for mu_t ~ N(0,Q)\n",
    "function EMstep(y,A,G,Q,R,x_0, σ_0, r, p, R_mat,q, nQ, i_idio, blocks)\n",
    "    \n",
    "    (n,T) = size(y)\n",
    "    nM = n - nQ\n",
    "    pC = size(R_mat,2)\n",
    "    ppC = max(p, pC)\n",
    "    num_blocks = size(blocks, 2) # how many columns are there?\n",
    "    r = convert(Array{Int64}, ones(1,num_blocks))\n",
    "    \n",
    "    \n",
    "    (x_sm, σ_sm, vv_sm, loglik) = runKF(y, A, G, Q, R, x_0, σ_0)\n",
    "    A_new = A\n",
    "    Q_new = Q\n",
    "    σ_0_new = σ_0\n",
    "\n",
    "    \n",
    "    ##### Transition equation\n",
    "    ### Update factor parameters individually\n",
    "    b_subset = 1:ppC\n",
    "    A_denom = zeros(ppC, ppC)\n",
    "    A_nom = zeros(ppC, ppC)\n",
    "    Q_update = zeros(ppC, ppC)\n",
    "    \n",
    "    for t in 1:T-1\n",
    "        A_denom = A_denom + x_sm[b_subset, t+1]*x_sm[b_subset, t]' + vv_sm[b_subset, b_subset, t+1]\n",
    "        A_nom = A_nom + x_sm[b_subset, t]*x_sm[b_subset, t]' + σ_sm[b_subset, b_subset, t]\n",
    "    end\n",
    "    \n",
    "    A_i = Diagonal(A_denom*inv(A_nom))\n",
    "    A_new[b_subset, b_subset] = A_i\n",
    "    \n",
    "    for t in 1:T-1\n",
    "        Q_update = Q_update + x_sm[b_subset, t+1]*x_sm[b_subset, t+1]' + σ_sm[b_subset, b_subset, t+1]\n",
    "        Q_update = Q_update - A_i*(x_sm[b_subset, t]*x_sm[b_subset, t+1]'+ vv_sm[b_subset, b_subset, t+1])\n",
    "    end\n",
    "    Q_i = Q_update / (T-1)\n",
    "    Q_new[b_subset, b_subset] = Diagonal(Q_i)\n",
    "    σ_0_new[b_subset, b_subset] = σ_sm[b_subset, b_subset, 1]\n",
    "    \n",
    "    #for i in 1:num_blocks\n",
    "    #    r_i = r[i]\n",
    "    #    rp = r_i*p\n",
    "    #    if i == 1\n",
    "    #        rp1 = 0\n",
    "    #    elseif i == 2\n",
    "    #        rp1 = r[1]*ppC\n",
    "    #   else\n",
    "    #        rp1 = sum(r[1:i-1]*ppC)\n",
    "    #    end\n",
    "        \n",
    "    #    b_subset = rp1+1:rp1+rp # Subset blocks: Helps for subsetting x_sm, σ_sm\n",
    "    #    t_start = rp1+1\n",
    "    #    t_end = rp1+r_i*ppC\n",
    "\n",
    "    #    EZZ = x_sm[b_subset, 2:end]*(x_sm[b_subset, 2:end])' + sum(σ_sm[b_subset, b_subset, 2:end], dims = 3)\n",
    "    #    EZZ_BB = x_sm[b_subset, 1:end-1]*(x_sm[b_subset, 1:end-1])' + sum(σ_sm[b_subset, b_subset, 1:end-1], dims = 3)\n",
    "    #    EZZ_FB = x_sm[b_subset, 2:end]*(x_sm[b_subset, 1:end-1])' + sum(vv_sm[b_subset, b_subset, :], dims = 3)\n",
    "\n",
    "    #    A_i = A[t_start:t_end, t_start:t_end]\n",
    "    #    Q_i = Q[t_start:t_end, t_start:t_end]\n",
    "    #    A_i[1:r_i,1:rp] = EZZ_FB[1:r_i,1:rp]*inv(EZZ_BB[1:r_i,1:rp])\n",
    "    #    Q_i[1:r_i,1:r_i] = (EZZ[1:r_i,1:r_i] - A_i[1:r_i,1:rp]*EZZ_FB[1:r_i,1:rp]') / T\n",
    "\n",
    "    #    A_new[t_start:t_end, t_start:t_end] = A_i\n",
    "    #    Q_new[t_start:t_end, t_start:t_end] = Q_i\n",
    "    #    σ_0_new[t_start:t_end, t_start:t_end] = σ_sm[t_start:t_end, t_start:t_end, 1]\n",
    "    #end\n",
    "    \n",
    "    ### Update parameters for idiosyncratic component\n",
    "    rp1 = sum(r)*ppC #25\n",
    "    niM = sum(i_idio[1:nM]) #118\n",
    "    t_start = rp1+1\n",
    "    i_subset = t_start:rp1+niM\n",
    "    \n",
    "    EZZ = Diagonal(Diagonal(x_sm[t_start:end,2:end]*(x_sm[t_start:end, 2:end])'))+Diagonal(Diagonal(sum(σ_sm[t_start:end, t_start:end, 2:end], dims = 3)[:,:,1]))\n",
    "    EZZ_BB = Diagonal(Diagonal(x_sm[t_start:end,1:end-1]*(x_sm[t_start:end, 1:end-1])'))+Diagonal(Diagonal(sum(σ_sm[t_start:end, t_start:end, 1:end-1], dims = 3)[:,:,1]))\n",
    "    EZZ_FB = Diagonal(Diagonal(x_sm[t_start:end,2:end]*(x_sm[t_start:end, 1:end-1])'))+Diagonal(Diagonal(sum(vv_sm[t_start:end, t_start:end, :], dims = 3)[:,:,1]))\n",
    "    \n",
    "    A_i = EZZ_FB*Diagonal(inv(Diagonal((EZZ_BB))))\n",
    "    Q_i = (EZZ - A_i*EZZ_FB') / T\n",
    "    \n",
    "    A_new[i_subset, i_subset] = A_i[1:niM,1:niM]\n",
    "    Q_new[i_subset, i_subset] = Q_i[1:niM,1:niM]\n",
    "    σ_0_new[i_subset, i_subset] = Diagonal(Diagonal(σ_sm[i_subset,i_subset,1]))\n",
    "    #println(\"Transition Equation DONE\")\n",
    "    \n",
    "    ##### Observation equation\n",
    "    ### Maximization step\n",
    "    x_0 = x_sm[:,1]\n",
    "    \n",
    "    nanY = ismissing.(y)\n",
    "    y[nanY] .= 0\n",
    "    \n",
    "    G_new = G\n",
    "    \n",
    "    bl = sort_vec(blocks) # list of unique blocks\n",
    "    n_bl = size(bl,1) # number of unique blocks\n",
    "    \n",
    "    #bl_idxM = []\n",
    "    #bl_idxQ = []\n",
    "    #R_con = []\n",
    "    #q_con = []\n",
    "    \n",
    "    #for i in 1:num_blocks\n",
    "        #bl_idxQ = [bl_idxQ repeat(bl[:,i],1,r[i]*ppC)]\n",
    "        #bl_idxM = [bl_idxM repeat(bl[:,i],1,r[i]) zeros(n_bl, r[i]*(ppC-1))]\n",
    "        #R_con = blkdig([R_con kron(R_mat, Matrix{Float64}(I,r[i],r[i]))])\n",
    "        #q_con = [q_con zeros(r[i]*size(R_mat,1),1)]\n",
    "    #end\n",
    "    \n",
    "    # Indicator for m/q blocks in observation matrix\n",
    "    bl_idxM = convert.(Bool, bl)\n",
    "    bl_idxQ = convert.(Bool, repeat(bl, 1, ppC))\n",
    "    R_con = kron(R_mat, Matrix{Float64}(I, ppC,ppC))\n",
    "    q_con = repeat(q, ppC)\n",
    "    \n",
    "    i_idio_M = i_idio[1:nM]\n",
    "    n_idio_M = length(findall(i_idio_M))\n",
    "    #c_i_idio = cumsum(i_idio, [1])\n",
    "    \n",
    "    for i in 1:n_bl # loop through unique loading\n",
    "        #println(i)\n",
    "        bl_i = bl[i,:]\n",
    "        rs = sum(convert.(Bool, bl_i)) # total num of blocks loaded (e.g [1 0 0 1] = 2)\n",
    "        idx_i = ismember(blocks, bl_i) # indices for [1 0 0 1]\n",
    "        idx_iM = idx_i[idx_i .< nM+1] # consider only monthly variables\n",
    "        n_i = length(idx_iM)\n",
    "\n",
    "        denom = zeros(n_i*rs, n_i*rs)\n",
    "        nom = zeros(n_i, rs)\n",
    "        \n",
    "        ### for input robustness\n",
    "        i_idio_ii = i_idio_M[idx_iM]\n",
    "        #i_idio_ii = c_i_idio(idx_iM)\n",
    "        #i_idio_ii = i_idio_ii(i_idio_i)\n",
    "        global bl_idxM_i = findall(bl_idxM[i,:])\n",
    "        \n",
    "        #println(\"before update monthly variable\")\n",
    "        ## update monthly variables\n",
    "        for t in 1:T\n",
    "            Wt = Diagonal(.!(nanY[idx_iM,t]))\n",
    "            denom = denom + kron(x_sm[bl_idxM_i, t+1]*x_sm[bl_idxM_i, t+1]' \n",
    "                + σ_sm[bl_idxM_i, bl_idxM_i, t+1], Wt)\n",
    "            \n",
    "            nom = nom + y[idx_iM,t]*x_sm[bl_idxM_i,t+1]' - Wt[:, i_idio_ii]*(x_sm[i_idio_ii.+rp1, t+1]*x_sm[bl_idxM_i,t+1]'\n",
    "                + σ_sm[i_idio_ii.+rp1, bl_idxM_i, t+1])\n",
    "        end\n",
    "        vec_G = inv(denom)*nom[:] #Eq13 in BGR 2010\n",
    "        println(size(reshape(vec_G, n_i, rs)))\n",
    "        G_new[idx_iM, bl_idxM_i] = reshape(vec_G, n_i, rs)\n",
    "        #println(\"successfully update monthly variable\")\n",
    "        ## update quarterly variables\n",
    "        \n",
    "        #println(\"before update quarterly variable\")\n",
    "        idx_iQ = idx_i[idx_i .> nM] # consider only quarterly variables\n",
    "        global bl_idxQ_i = findall(bl_idxQ[i,:])\n",
    "        global bl_idxQ_ii = findall(bl_idxQ[i, 1:end-ppC])\n",
    "        rps = rs*ppC\n",
    "        R_con_i = R_con[bl_idxQ_ii, bl_idxQ_i]\n",
    "        q_con_i = q_con[bl_idxQ_ii]\n",
    "        #no_c = .!(any(R_con_i,2))\n",
    "        #R_con_i[no_c, :] = []\n",
    "        #q_con_i[no_c, :] = []\n",
    "        \n",
    "        for j in idx_iQ\n",
    "            denom = zeros(rps,rps)\n",
    "            nom = zeros(1, rps)\n",
    "            \n",
    "            idx_jQ = j - nM\n",
    "            global i_idio_jQ = (rp1+n_idio_M+5*(idx_jQ-1)+1:rp1+n_idio_M + 5*idx_jQ)\n",
    "\n",
    "            \n",
    "            σ_0_new[i_idio_jQ, i_idio_jQ] = σ_sm[i_idio_jQ, i_idio_jQ, 1]\n",
    "            A_new[i_idio_jQ[1], i_idio_jQ[1]] = A_i[i_idio_jQ[1]-rp1, i_idio_jQ[1]-rp1]\n",
    "            Q_new[i_idio_jQ[1], i_idio_jQ[1]] = Q_i[i_idio_jQ[1]-rp1, i_idio_jQ[1]-rp1]\n",
    "            \n",
    "            for t in 1:T\n",
    "                Wt = Diagonal([.!(nanY[j,t])])\n",
    "                denom = denom+kron(x_sm[bl_idxQ_i, t+1]*x_sm[bl_idxQ_i, t+1]' + σ_sm[bl_idxQ_i, bl_idxQ_i, t+1], Wt)\n",
    "                nom = nom +y[j,t]*x_sm[bl_idxQ_i, t+1]'\n",
    "                nom = nom - Wt*([1 2 3 2 1]*x_sm[i_idio_jQ,t+1]*x_sm[bl_idxQ_i,t+1]'+[1 2 3 2 1]*σ_sm[i_idio_jQ, bl_idxQ_i,t+1])\n",
    "            end\n",
    "            \n",
    "            G_i = inv(denom)*nom'\n",
    "            #BGR eq13\n",
    "            G_i_constr = G_i - inv(denom)*R_con_i'*inv(R_con_i*denom*R_con_i')*(R_con_i*G_i -q_con_i)\n",
    "            #println(size(G_i_constr))\n",
    "            G_new[j,bl_idxQ_i] = G_i_constr\n",
    "        end\n",
    "        #println(\"after update quarterly variable\")\n",
    "    end\n",
    "    #println(\"Observation Equation DONE\")\n",
    "    \n",
    "    ### Update covariance of residuals for observation equation\n",
    "    #R_new = zeros(n,n)\n",
    "    #for t in 1:T\n",
    "    #    Wt = Diagonal(.!(nanY[:,t]))\n",
    "    #    R_new = R_new + (y[:,t] - Wt*G_new*x_sm[:,t+1])*(y[:,t]-Wt*G_new*x_sm[:,t+1])'+Wt*G_new*σ_sm[:,:,t+1]*G_new'*Wt + (Matrix{Float64}(I,n,n)-Wt)*R*(Matrix{Float64}(I,n,n)-Wt)\n",
    "    #end\n",
    "    \n",
    "    #R_new = R_new / T\n",
    "    #RR = Diagonal(R_new)\n",
    "    #RR[i_idio+_M] = 1e-04\n",
    "    #RR[nM+1:end] = 1e-04\n",
    "    #R_new = Diagonal(RR)\n",
    "    R_new = R #### There is no need to update R according to the way they set up state-space representation\n",
    "    \n",
    "    return G_new, R_new, A_new, Q_new, x_0, σ_0_new, loglik\n",
    "end"
   ]
  },
  {
   "cell_type": "code",
   "execution_count": 6,
   "metadata": {},
   "outputs": [
    {
     "data": {
      "text/plain": [
       "em_converged (generic function with 3 methods)"
      ]
     },
     "execution_count": 6,
     "metadata": {},
     "output_type": "execute_result"
    }
   ],
   "source": [
    "### Y_t = C_t Z_t + e_t for e_t ~ N(0, R)\n",
    "### Z_t = A Z_{t-1} + mu_t for mu_t ~ N(0,Q)\n",
    "function runKF(Y, A, C, Q, R, Z_0, V_0)\n",
    "    S = SKF(Y,A,C,Q,R,Z_0,V_0)\n",
    "    S, S1 = FIS(A,S)\n",
    "    \n",
    "    zsmooth = S1.ZmT\n",
    "    Vsmooth = S1.VmT\n",
    "    VVsmooth = S1.VmT_1\n",
    "    loglik = S.loglik\n",
    "    \n",
    "    println(\"Successfully run Kalman Filter Algorithm\")\n",
    "    println(S.loglik)\n",
    "    return zsmooth, Vsmooth, VVsmooth, loglik\n",
    "end\n",
    "\n",
    "function SKF(Y, A, C, Q, R, Z_0, V_0)\n",
    "    # Initialize output values\n",
    "    m = size(C,2)\n",
    "    nobs = size(Y,2) # number of observations\n",
    "    S = Sm(zeros(m, nobs), zeros(m, nobs+1), zeros(m,m, nobs), zeros(m,m, nobs+1), 0, zeros(m,m))\n",
    "    \n",
    "    Zu = Z_0\n",
    "    Vu = V_0\n",
    "    \n",
    "    S.ZmU[:,1] = Zu\n",
    "    S.VmU[:,:,1] = Vu\n",
    "    \n",
    "    print(\"enter filtering procedure\")\n",
    "    # Kalman filter procedure\n",
    "    for t in 1:nobs\n",
    "        Z = A*Zu\n",
    "        V = A*Vu*A' +Q\n",
    "        #V = 0.5*(V+V')\n",
    "        \n",
    "        ### allow us to access C_t, VCF outside loop\n",
    "        global C_t, VCF\n",
    "        \n",
    "        (Y_t, C_t, R_t) = MissData(Y[:,t], C, R)\n",
    "        \n",
    "        if isempty(Y_t)\n",
    "            Zu = Z\n",
    "            Vu = V\n",
    "        else\n",
    "            VC = V*C_t'\n",
    "            temp = C_t*VC +R_t\n",
    "            iF = inv(temp)\n",
    "            \n",
    "            VCF = VC*iF\n",
    "            innov = Y_t - C_t*Z\n",
    "            Zu = Z + VCF*innov\n",
    "            \n",
    "            Vu = V - VCF*C_t*V\n",
    "            #Vu = 0.5*(Vu+Vu')\n",
    "            \n",
    "            S.loglik = S.loglik - 0.5*(logdet(temp) + (innov'*iF*innov)[1])\n",
    "        end\n",
    "        \n",
    "        ### Store output\n",
    "        S.Zm[:,t] = Z\n",
    "        S.Vm[:,:,t] = V\n",
    "        S.ZmU[:,t+1] = Zu\n",
    "        S.VmU[:,:,t+1] = Vu\n",
    "    end\n",
    "    \n",
    "    #if isempty(Y_t)\n",
    "    #    S.k_t = zeros(m,m)\n",
    "    #else\n",
    "    #    S.k_t = VCF*C_t\n",
    "    #end\n",
    "    \n",
    "    ### Store Kalman gain\n",
    "    S.k_t = VCF*C_t\n",
    "    return S\n",
    "end\n",
    "\n",
    "### Fixed Interval Smoothing\n",
    "function FIS(A,S)\n",
    "    (m, nobs) = size(S.Zm)\n",
    "    S1 = Sm1(zeros(m, nobs+1), zeros(m,m,nobs+1), zeros(m,m,nobs))\n",
    "    \n",
    "    S1.ZmT[:, nobs+1] = S.ZmU[:,nobs+1]\n",
    "    S1.VmT[:,:,nobs+1] = S.VmU[:,:,nobs+1]\n",
    "    S1.VmT_1[:,:,nobs] = (Matrix{Float64}(I, m, m)-S.k_t)*A*(S.VmU[:,:,nobs])\n",
    "    \n",
    "    J_2 = S.VmU[:,:,nobs]*A'*pinv(S.Vm[:,:,nobs])\n",
    "    \n",
    "    # Run smoothing algorithm\n",
    "    for t in nobs:-1:1\n",
    "        VmU = S.VmU[:,:,t]\n",
    "        Vm1 = S.Vm[:,:,t]\n",
    "        V_T = S1.VmT[:,:,t+1]\n",
    "        V_T1 = S1.VmT_1[:,:,t]\n",
    "        J_1 = J_2\n",
    "        \n",
    "        # update smoothed factor estimate / covariance matrix\n",
    "        S1.ZmT[:,t] = S.ZmU[:,t]+J_1*(S1.ZmT[:,t+1] - A*S.ZmU[:,t])\n",
    "        S1.VmT[:,:,t] = VmU + J_1*(V_T - Vm1)*J_1'\n",
    "        \n",
    "        if t > 1\n",
    "            J_2 = S.VmU[:,:,t-1]*A'*pinv(S.Vm[:,:,t-1])\n",
    "            S1.VmT_1[:,:,t-1] = VmU*J_2' + J_1*(V_T1 - A*VmU)*J_2'\n",
    "        end\n",
    "    end\n",
    "    \n",
    "    return S, S1\n",
    "end\n",
    "\n",
    "function MissData(y,C,R)\n",
    "    ix = .!ismissing.(y)\n",
    "    e = Matrix{Float64}(I,size(y,1),size(y,1))\n",
    "    L = e[:,ix]\n",
    "    y = y[ix]\n",
    "    C = C[ix,:]\n",
    "    R = R[ix,ix]\n",
    "    \n",
    "    return y, C, R\n",
    "end\n",
    "\n",
    "#function InitialCond -- PCA for prior information\n",
    "\n",
    "function em_converged(loglik, previous_loglik, threshold = 1e-4, check_decreased = 1)\n",
    "    converged = 0\n",
    "    decrease = 0\n",
    "    \n",
    "    if check_decreased\n",
    "        if loglik - previous_loglik < -1e-3\n",
    "            printf(1, \"******likelihood decreased from %6.4f to %6.4f!\\n\", previous_loglik, loglik)\n",
    "            decrease = 1\n",
    "        end\n",
    "    end\n",
    "    \n",
    "    delta_loglik = abs(loglik - previous_loglik)\n",
    "    avg_loglik = (abs(loglik) + abs(previous_loglik) + eps)/2\n",
    "    \n",
    "    if (delta_loglik / avg_loglik) < threshold\n",
    "        converged = 1\n",
    "    end\n",
    "    \n",
    "    println(\"converged\")\n",
    "    print(converged)\n",
    "    \n",
    "    return converged, decrease \n",
    "end"
   ]
  },
  {
   "cell_type": "code",
   "execution_count": 10,
   "metadata": {},
   "outputs": [
    {
     "name": "stdout",
     "output_type": "stream",
     "text": [
      "Success"
     ]
    }
   ],
   "source": [
    "A_θ = convert(Matrix{Float64}, CSV.read(\"A_theta.csv\", header = false))\n",
    "G_θ = convert(Matrix{Float64}, CSV.read(\"G_theta.csv\", header = false))\n",
    "Q_θ = convert(Matrix{Float64}, CSV.read(\"Q_theta.csv\", header = false))\n",
    "R_θ = convert(Matrix{Float64}, CSV.read(\"R_theta.csv\", header = false))\n",
    "Z_θ = convert(Matrix{Float64}, CSV.read(\"Z_theta.csv\", header = false))\n",
    "V_θ = convert(Matrix{Float64}, CSV.read(\"V_theta.csv\", header = false))\n",
    "block = convert(Matrix{Float64}, CSV.read(\"block.csv\", header = false))\n",
    "X = CSV.read(\"X.csv\", header = true)\n",
    "X = convert(Matrix{Union{Missing,Float64}},X[2:end,])\n",
    "print(\"Success\")"
   ]
  },
  {
   "cell_type": "code",
   "execution_count": 8,
   "metadata": {},
   "outputs": [
    {
     "name": "stdout",
     "output_type": "stream",
     "text": [
      "run EM loop\n",
      "1\n",
      "enter filtering procedureSuccessfully run Kalman Filter Algorithm\n",
      "193521.00846799777\n",
      "(47, 2)\n",
      "(40, 2)\n",
      "(28, 2)\n",
      "(3, 2)\n",
      "[-Inf 193521.0]\n",
      "false\n",
      "2\n",
      "enter filtering procedureSuccessfully run Kalman Filter Algorithm\n",
      "178472.31214328698\n",
      "(47, 2)\n",
      "(40, 2)\n",
      "(28, 2)\n",
      "(3, 2)\n",
      "[-Inf 193521.0 1.78472e5]\n",
      "false\n",
      "3\n",
      "enter filtering procedure"
     ]
    },
    {
     "ename": "DomainError",
     "evalue": "DomainError with -1.0:\nlog will only return a complex result if called with a complex argument. Try log(Complex(x)).",
     "output_type": "error",
     "traceback": [
      "DomainError with -1.0:\nlog will only return a complex result if called with a complex argument. Try log(Complex(x)).",
      "",
      "Stacktrace:",
      " [1] throw_complex_domainerror(::Symbol, ::Float64) at ./math.jl:31",
      " [2] log(::Float64) at ./special/log.jl:285",
      " [3] logdet(::Array{Float64,2}) at /Users/osx/buildbot/slave/package_osx64/build/usr/share/julia/stdlib/v1.1/LinearAlgebra/src/generic.jl:1336",
      " [4] SKF(::Adjoint{Union{Missing, Float64},Array{Union{Missing, Float64},2}}, ::Array{Float64,2}, ::Array{Float64,2}, ::Array{Float64,2}, ::Array{Float64,2}, ::Array{Float64,1}, ::Array{Float64,2}) at ./In[6]:56",
      " [5] runKF at ./In[6]:4 [inlined]",
      " [6] EMstep(::Adjoint{Union{Missing, Float64},Array{Union{Missing, Float64},2}}, ::Array{Float64,2}, ::Array{Float64,2}, ::Array{Float64,2}, ::Array{Float64,2}, ::Array{Float64,1}, ::Array{Float64,2}, ::Int64, ::Int64, ::Array{Int64,2}, ::Array{Float64,2}, ::Int64, ::BitArray{2}, ::Array{Float64,2}) at ./In[5]:13",
      " [7] dfm(::Adjoint{Union{Missing, Float64},Array{Union{Missing, Float64},2}}, ::Spec, ::inits, ::Float64) at ./In[4]:52",
      " [8] dfm(::Adjoint{Union{Missing, Float64},Array{Union{Missing, Float64},2}}, ::Spec, ::inits) at ./In[4]:8",
      " [9] top-level scope at In[8]:4"
     ]
    }
   ],
   "source": [
    "### Trial\n",
    "Sp = Spec(1,1,2,block)\n",
    "Inits = inits(A_θ, G_θ, Q_θ, R_θ, Z_θ, V_θ)\n",
    "\n",
    "dfm(X', Sp, Inits)\n"
   ]
  },
  {
   "cell_type": "code",
   "execution_count": 9,
   "metadata": {},
   "outputs": [
    {
     "data": {
      "text/plain": [
       "153×153 Array{Float64,2}:\n",
       " 0.889821   0.0        0.0       …  0.0   0.0       0.0  0.0  0.0  0.0\n",
       " 0.0       -0.0268294  0.0          0.0   0.0       0.0  0.0  0.0  0.0\n",
       " 0.0        0.0        0.947119     0.0   0.0       0.0  0.0  0.0  0.0\n",
       " 0.0        0.0        0.0          0.0   0.0       0.0  0.0  0.0  0.0\n",
       " 0.0        0.0        0.0          0.0   0.0       0.0  0.0  0.0  0.0\n",
       " 1.0        0.0        0.0       …  0.0   0.0       0.0  0.0  0.0  0.0\n",
       " 0.0        1.0        0.0          0.0   0.0       0.0  0.0  0.0  0.0\n",
       " 0.0        0.0        1.0          0.0   0.0       0.0  0.0  0.0  0.0\n",
       " 0.0        0.0        0.0          0.0   0.0       0.0  0.0  0.0  0.0\n",
       " 0.0        0.0        0.0          0.0   0.0       0.0  0.0  0.0  0.0\n",
       " 0.0        0.0        0.0       …  0.0   0.0       0.0  0.0  0.0  0.0\n",
       " 0.0        0.0        0.0          0.0   0.0       0.0  0.0  0.0  0.0\n",
       " 0.0        0.0        0.0          0.0   0.0       0.0  0.0  0.0  0.0\n",
       " ⋮                               ⋱                       ⋮            \n",
       " 0.0        0.0        0.0          0.0   0.0       0.0  0.0  0.0  0.0\n",
       " 0.0        0.0        0.0          0.0   0.0       0.0  0.0  0.0  0.0\n",
       " 0.0        0.0        0.0          0.0   0.0       0.0  0.0  0.0  0.0\n",
       " 0.0        0.0        0.0          0.0   0.0       0.0  0.0  0.0  0.0\n",
       " 0.0        0.0        0.0       …  0.0   0.0       0.0  0.0  0.0  0.0\n",
       " 0.0        0.0        0.0          0.0   0.0       0.0  0.0  0.0  0.0\n",
       " 0.0        0.0        0.0          0.0   0.0       0.0  0.0  0.0  0.0\n",
       " 0.0        0.0        0.0          0.0  -0.257489  0.0  0.0  0.0  0.0\n",
       " 0.0        0.0        0.0          1.0   0.0       0.0  0.0  0.0  0.0\n",
       " 0.0        0.0        0.0       …  0.0   1.0       0.0  0.0  0.0  0.0\n",
       " 0.0        0.0        0.0          0.0   0.0       1.0  0.0  0.0  0.0\n",
       " 0.0        0.0        0.0          0.0   0.0       0.0  1.0  0.0  0.0"
      ]
     },
     "execution_count": 9,
     "metadata": {},
     "output_type": "execute_result"
    }
   ],
   "source": [
    "A_θ"
   ]
  },
  {
   "cell_type": "code",
   "execution_count": 11,
   "metadata": {},
   "outputs": [
    {
     "data": {
      "text/plain": [
       "153×153 Array{Float64,2}:\n",
       " -5.20488e-6   0.0         0.0         …  0.0  0.0  0.0  0.0  0.0  0.0  0.0\n",
       "  0.0         -1.9427e-6   0.0            0.0  0.0  0.0  0.0  0.0  0.0  0.0\n",
       "  0.0          0.0        -1.37132e-6     0.0  0.0  0.0  0.0  0.0  0.0  0.0\n",
       "  0.0          0.0         0.0            0.0  0.0  0.0  0.0  0.0  0.0  0.0\n",
       "  0.0          0.0         0.0            0.0  0.0  0.0  0.0  0.0  0.0  0.0\n",
       "  1.0          0.0         0.0         …  0.0  0.0  0.0  0.0  0.0  0.0  0.0\n",
       "  0.0          1.0         0.0            0.0  0.0  0.0  0.0  0.0  0.0  0.0\n",
       "  0.0          0.0         1.0            0.0  0.0  0.0  0.0  0.0  0.0  0.0\n",
       "  0.0          0.0         0.0            0.0  0.0  0.0  0.0  0.0  0.0  0.0\n",
       "  0.0          0.0         0.0            0.0  0.0  0.0  0.0  0.0  0.0  0.0\n",
       "  0.0          0.0         0.0         …  0.0  0.0  0.0  0.0  0.0  0.0  0.0\n",
       "  0.0          0.0         0.0            0.0  0.0  0.0  0.0  0.0  0.0  0.0\n",
       "  0.0          0.0         0.0            0.0  0.0  0.0  0.0  0.0  0.0  0.0\n",
       "  ⋮                                    ⋱                      ⋮            \n",
       "  0.0          0.0         0.0            0.0  0.0  0.0  0.0  0.0  0.0  0.0\n",
       "  0.0          0.0         0.0            0.0  0.0  0.0  0.0  0.0  0.0  0.0\n",
       "  0.0          0.0         0.0            0.0  0.0  0.0  0.0  0.0  0.0  0.0\n",
       "  0.0          0.0         0.0            0.0  0.0  0.0  0.0  0.0  0.0  0.0\n",
       "  0.0          0.0         0.0         …  0.0  0.0  0.0  0.0  0.0  0.0  0.0\n",
       "  0.0          0.0         0.0            0.0  0.0  0.0  0.0  0.0  0.0  0.0\n",
       "  0.0          0.0         0.0            0.0  0.0  0.0  0.0  0.0  0.0  0.0\n",
       "  0.0          0.0         0.0            1.0  0.0  0.0  0.0  0.0  0.0  0.0\n",
       "  0.0          0.0         0.0            0.0  1.0  0.0  0.0  0.0  0.0  0.0\n",
       "  0.0          0.0         0.0         …  0.0  0.0  1.0  0.0  0.0  0.0  0.0\n",
       "  0.0          0.0         0.0            0.0  0.0  0.0  1.0  0.0  0.0  0.0\n",
       "  0.0          0.0         0.0            0.0  0.0  0.0  0.0  1.0  0.0  0.0"
      ]
     },
     "execution_count": 11,
     "metadata": {},
     "output_type": "execute_result"
    }
   ],
   "source": [
    "A_θ"
   ]
  },
  {
   "cell_type": "code",
   "execution_count": null,
   "metadata": {
    "collapsed": true
   },
   "outputs": [],
   "source": []
  },
  {
   "cell_type": "code",
   "execution_count": null,
   "metadata": {
    "collapsed": true
   },
   "outputs": [],
   "source": []
  },
  {
   "cell_type": "code",
   "execution_count": null,
   "metadata": {
    "collapsed": true
   },
   "outputs": [],
   "source": []
  },
  {
   "cell_type": "code",
   "execution_count": null,
   "metadata": {
    "collapsed": true
   },
   "outputs": [],
   "source": []
  },
  {
   "cell_type": "code",
   "execution_count": null,
   "metadata": {
    "collapsed": true
   },
   "outputs": [],
   "source": []
  },
  {
   "cell_type": "code",
   "execution_count": null,
   "metadata": {
    "collapsed": true
   },
   "outputs": [],
   "source": []
  },
  {
   "cell_type": "code",
   "execution_count": null,
   "metadata": {
    "collapsed": true
   },
   "outputs": [],
   "source": []
  },
  {
   "cell_type": "code",
   "execution_count": null,
   "metadata": {
    "collapsed": true
   },
   "outputs": [],
   "source": []
  },
  {
   "cell_type": "code",
   "execution_count": 155,
   "metadata": {},
   "outputs": [
    {
     "data": {
      "text/plain": [
       "1"
      ]
     },
     "execution_count": 155,
     "metadata": {},
     "output_type": "execute_result"
    }
   ],
   "source": [
    "abs(-1)"
   ]
  },
  {
   "cell_type": "code",
   "execution_count": null,
   "metadata": {
    "collapsed": true
   },
   "outputs": [],
   "source": []
  },
  {
   "cell_type": "code",
   "execution_count": null,
   "metadata": {
    "collapsed": true
   },
   "outputs": [],
   "source": []
  },
  {
   "cell_type": "code",
   "execution_count": null,
   "metadata": {
    "collapsed": true
   },
   "outputs": [],
   "source": []
  },
  {
   "cell_type": "code",
   "execution_count": null,
   "metadata": {
    "collapsed": true
   },
   "outputs": [],
   "source": []
  },
  {
   "cell_type": "code",
   "execution_count": null,
   "metadata": {
    "collapsed": true
   },
   "outputs": [],
   "source": []
  },
  {
   "cell_type": "code",
   "execution_count": null,
   "metadata": {
    "collapsed": true
   },
   "outputs": [],
   "source": []
  },
  {
   "cell_type": "code",
   "execution_count": null,
   "metadata": {
    "collapsed": true
   },
   "outputs": [],
   "source": []
  },
  {
   "cell_type": "code",
   "execution_count": null,
   "metadata": {
    "collapsed": true
   },
   "outputs": [],
   "source": []
  },
  {
   "cell_type": "code",
   "execution_count": null,
   "metadata": {
    "collapsed": true
   },
   "outputs": [],
   "source": []
  },
  {
   "cell_type": "code",
   "execution_count": null,
   "metadata": {
    "collapsed": true
   },
   "outputs": [],
   "source": []
  },
  {
   "cell_type": "code",
   "execution_count": null,
   "metadata": {
    "collapsed": true
   },
   "outputs": [],
   "source": []
  },
  {
   "cell_type": "code",
   "execution_count": null,
   "metadata": {
    "collapsed": true
   },
   "outputs": [],
   "source": []
  },
  {
   "cell_type": "code",
   "execution_count": null,
   "metadata": {
    "collapsed": true
   },
   "outputs": [],
   "source": []
  },
  {
   "cell_type": "code",
   "execution_count": null,
   "metadata": {
    "collapsed": true
   },
   "outputs": [],
   "source": []
  },
  {
   "cell_type": "code",
   "execution_count": null,
   "metadata": {
    "collapsed": true
   },
   "outputs": [],
   "source": []
  },
  {
   "cell_type": "code",
   "execution_count": null,
   "metadata": {
    "collapsed": true
   },
   "outputs": [],
   "source": []
  },
  {
   "cell_type": "code",
   "execution_count": null,
   "metadata": {
    "collapsed": true
   },
   "outputs": [],
   "source": []
  },
  {
   "cell_type": "code",
   "execution_count": null,
   "metadata": {
    "collapsed": true
   },
   "outputs": [],
   "source": []
  },
  {
   "cell_type": "code",
   "execution_count": null,
   "metadata": {
    "collapsed": true
   },
   "outputs": [],
   "source": []
  },
  {
   "cell_type": "code",
   "execution_count": null,
   "metadata": {
    "collapsed": true
   },
   "outputs": [],
   "source": []
  },
  {
   "cell_type": "code",
   "execution_count": null,
   "metadata": {
    "collapsed": true
   },
   "outputs": [],
   "source": []
  },
  {
   "cell_type": "code",
   "execution_count": null,
   "metadata": {
    "collapsed": true
   },
   "outputs": [],
   "source": []
  },
  {
   "cell_type": "code",
   "execution_count": null,
   "metadata": {
    "collapsed": true
   },
   "outputs": [],
   "source": []
  },
  {
   "cell_type": "code",
   "execution_count": null,
   "metadata": {
    "collapsed": true
   },
   "outputs": [],
   "source": []
  },
  {
   "cell_type": "code",
   "execution_count": null,
   "metadata": {
    "collapsed": true
   },
   "outputs": [],
   "source": []
  },
  {
   "cell_type": "code",
   "execution_count": 192,
   "metadata": {},
   "outputs": [
    {
     "data": {
      "text/plain": [
       "2×2 Diagonal{Int64,Array{Int64,1}}:\n",
       " 1  ⋅\n",
       " ⋅  4"
      ]
     },
     "execution_count": 192,
     "metadata": {},
     "output_type": "execute_result"
    }
   ],
   "source": [
    "Diagonal(Diagonal([1 2; 3 4]))"
   ]
  },
  {
   "cell_type": "code",
   "execution_count": null,
   "metadata": {
    "collapsed": true
   },
   "outputs": [],
   "source": []
  },
  {
   "cell_type": "code",
   "execution_count": null,
   "metadata": {
    "collapsed": true
   },
   "outputs": [],
   "source": []
  },
  {
   "cell_type": "code",
   "execution_count": null,
   "metadata": {
    "collapsed": true
   },
   "outputs": [],
   "source": []
  }
 ],
 "metadata": {
  "kernelspec": {
   "display_name": "Julia 1.1.0",
   "language": "julia",
   "name": "julia-1.1"
  },
  "language_info": {
   "file_extension": ".jl",
   "mimetype": "application/julia",
   "name": "julia",
   "version": "1.1.0"
  }
 },
 "nbformat": 4,
 "nbformat_minor": 2
}
